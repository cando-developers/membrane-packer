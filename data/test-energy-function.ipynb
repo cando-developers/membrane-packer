{
 "cells": [
  {
   "cell_type": "code",
   "execution_count": 1,
   "metadata": {},
   "outputs": [
    {
     "name": "stdout",
     "output_type": "stream",
     "text": [
      "Checking SLIME_HOME\n",
      "About to start swank server\n",
      "Started swank server\n"
     ]
    },
    {
     "data": {
      "text/plain": [
       "T"
      ]
     },
     "execution_count": 1,
     "metadata": {},
     "output_type": "execute_result"
    }
   ],
   "source": [
    "startSwank 4009"
   ]
  },
  {
   "cell_type": "code",
   "execution_count": 3,
   "metadata": {},
   "outputs": [
    {
     "name": "stdout",
     "output_type": "stream",
     "text": [
      "Help is available on the following subjects: \n",
      "add                     addAtomTypes            addH                    addIons                 \n",
      "addIons2                addIonsRand             addPath                 addPdbAtomMap           \n",
      "addPdbResMap            alignAxes               assignAtomTypes         bond                    \n",
      "bondByDistance          cando                   center                  charge                  \n",
      "compileSmarts           copy                    createAtom              createResidue           \n",
      "createUnit              deSelect                deleteBond              desc                    \n",
      "dir                     easyGaff                help                    jostleAtoms             \n",
      "leapCommandsAvailable   leapCommandsMissing     list                    listForceFields         \n",
      "listVariables           loadAmberParams         loadChemDraw            loadChemDrawAggregate   \n",
      "loadMoe                 loadMol2                loadOff                 loadPdb                 \n",
      "loadSmirnoffParams      logFile                 ls                      measureGeom             \n",
      "minimize                quickload               quit                    remove                  \n",
      "removeMatter            saveAmberParm           saveMol2                savePdb                 \n",
      "select                  set                     setBox                  setForceField           \n",
      "setupAmberPaths         setupDefaultPaths       show                    showPaths               \n",
      "solvateBox              solvateCap              solvateOct              solvateShell            \n",
      "source                  startSwank              transform               translate               \n"
     ]
    },
    {
     "data": {
      "text/plain": [
       "NIL"
      ]
     },
     "execution_count": 3,
     "metadata": {},
     "output_type": "execute_result"
    }
   ],
   "source": [
    "help"
   ]
  },
  {
   "cell_type": "code",
   "execution_count": 4,
   "metadata": {},
   "outputs": [
    {
     "name": "stdout",
     "output_type": "stream",
     "text": [
      "To load \"membrane-packer\":\n",
      "  Load 1 ASDF system:\n",
      "    membrane-packer\n",
      "\n",
      "; Loading \"membrane-packer\"\n",
      "\n"
     ]
    },
    {
     "data": {
      "text/plain": [
       "(\"membrane-packer\")"
      ]
     },
     "execution_count": 4,
     "metadata": {},
     "output_type": "execute_result"
    }
   ],
   "source": [
    "quickload \"membrane-packer\""
   ]
  },
  {
   "cell_type": "code",
   "execution_count": 5,
   "metadata": {},
   "outputs": [
    {
     "data": {
      "text/plain": [
       "#<FORCE-FIELD >"
      ]
     },
     "execution_count": 5,
     "metadata": {},
     "output_type": "execute_result"
    }
   ],
   "source": [
    "(membrane-packer::setup-system-membrane-force-field)"
   ]
  },
  {
   "cell_type": "code",
   "execution_count": 6,
   "metadata": {},
   "outputs": [
    {
     "name": "stdout",
     "output_type": "stream",
     "text": [
      ":DEFAULT (#<FORCE-FIELD >)\n",
      ":SYSTEM-MEMBRANE (#<FORCE-FIELD >)\n"
     ]
    },
    {
     "data": {
      "text/plain": [
       "NIL"
      ]
     },
     "execution_count": 6,
     "metadata": {},
     "output_type": "execute_result"
    }
   ],
   "source": [
    "(list-force-fields)"
   ]
  },
  {
   "cell_type": "code",
   "execution_count": 7,
   "metadata": {},
   "outputs": [
    {
     "data": {
      "text/plain": [
       "(#P\"/Users/meister/Development/amber18/dat/antechamber/\"\n",
       " #P\"/Users/meister/Development/amber18/dat/leap/cmd/\"\n",
       " #P\"/Users/meister/Development/amber18/dat/leap/parm/\"\n",
       " #P\"/Users/meister/Development/amber18/dat/leap/lib/\"\n",
       " #P\"/Users/meister/Development/amber18/dat/leap/prep/\")"
      ]
     },
     "execution_count": 7,
     "metadata": {},
     "output_type": "execute_result"
    }
   ],
   "source": [
    "setupAmberPaths"
   ]
  },
  {
   "cell_type": "code",
   "execution_count": 8,
   "metadata": {},
   "outputs": [
    {
     "name": "stdout",
     "output_type": "stream",
     "text": [
      "Warning!  Skipping 10-12 hbond in #<IOSTREAM-STREAM #P\"/Users/meister/Development/amber18/dat/leap/parm/parm10.dat\" file-pos 56064>\n",
      "Warning!  Skipping force field atom equivalences in #<IOSTREAM-STREAM #P\"/Users/meister/Development/amber18/dat/leap/parm/parm10.dat\" file-pos 56146>\n",
      "Adding force field parm10.dat to DEFAULT\n",
      "Adding force field frcmod.ff14SB to DEFAULT\n"
     ]
    },
    {
     "data": {
      "text/plain": [
       "T"
      ]
     },
     "execution_count": 8,
     "metadata": {},
     "output_type": "execute_result"
    }
   ],
   "source": [
    "source \"leaprc.protein.ff14SB\""
   ]
  },
  {
   "cell_type": "code",
   "execution_count": 9,
   "metadata": {},
   "outputs": [
    {
     "name": "stdout",
     "output_type": "stream",
     "text": [
      "Warning!  Skipping 10-12 hbond in #<IOSTREAM-STREAM #P\"/Users/meister/Development/amber18/dat/leap/parm/lipid14.dat\" file-pos 19299>\n",
      "Warning!  Skipping force field atom equivalences in #<IOSTREAM-STREAM #P\"/Users/meister/Development/amber18/dat/leap/parm/lipid14.dat\" file-pos 19407>\n",
      "Adding force field lipid14.dat to DEFAULT\n"
     ]
    },
    {
     "data": {
      "text/plain": [
       "T"
      ]
     },
     "execution_count": 9,
     "metadata": {},
     "output_type": "execute_result"
    }
   ],
   "source": [
    "source \"leaprc.lipid14\""
   ]
  },
  {
   "cell_type": "code",
   "execution_count": 10,
   "metadata": {},
   "outputs": [
    {
     "name": "stdout",
     "output_type": "stream",
     "text": [
      "Adding force field frcmod.tip3p to DEFAULT\n",
      "Adding force field frcmod.ionsjc_tip3p to DEFAULT\n",
      "Adding force field frcmod.ions234lm_126_tip3p to DEFAULT\n"
     ]
    },
    {
     "data": {
      "text/plain": [
       "T"
      ]
     },
     "execution_count": 10,
     "metadata": {},
     "output_type": "execute_result"
    }
   ],
   "source": [
    "source \"leaprc.water.tip3p\""
   ]
  },
  {
   "cell_type": "code",
   "execution_count": 11,
   "metadata": {},
   "outputs": [
    {
     "name": "stdout",
     "output_type": "stream",
     "text": [
      "Warning!  Skipping 10-12 hbond in #<IOSTREAM-STREAM #P\"/Users/meister/Development/amber18/dat/leap/parm/gaff.dat\" file-pos 477637>\n",
      "Warning!  Skipping force field atom equivalences in #<IOSTREAM-STREAM #P\"/Users/meister/Development/amber18/dat/leap/parm/gaff.dat\" file-pos 477719>\n",
      "Adding force field gaff.dat to DEFAULT\n"
     ]
    },
    {
     "data": {
      "text/plain": [
       "T"
      ]
     },
     "execution_count": 11,
     "metadata": {},
     "output_type": "execute_result"
    }
   ],
   "source": [
    "source \"leaprc.gaff\""
   ]
  },
  {
   "cell_type": "code",
   "execution_count": 12,
   "metadata": {},
   "outputs": [
    {
     "data": {
      "text/plain": [
       "#<AGGREGATE NIL 0>"
      ]
     },
     "execution_count": 12,
     "metadata": {},
     "output_type": "execute_result"
    }
   ],
   "source": [
    "prot = loadMoe /Users/meister/Development/cando-dev/extensions/cando/src/lisp/membrane-packer/data/merck_suvorexant_derivatives.moe"
   ]
  },
  {
   "cell_type": "code",
   "execution_count": 13,
   "metadata": {},
   "outputs": [
    {
     "data": {
      "application/vnd.jupyter.widget-view+json": {
       "model_id": "8FB85ADA-FC2B-47CD-8E8D-F01CEF7FB01E",
       "version_major": 2,
       "version_minor": 0
      },
      "text/plain": [
       "#<NGLV:NGLWIDGET>"
      ]
     },
     "execution_count": 13,
     "metadata": {},
     "output_type": "execute_result"
    }
   ],
   "source": [
    "show prot"
   ]
  },
  {
   "cell_type": "code",
   "execution_count": 14,
   "metadata": {},
   "outputs": [
    {
     "data": {
      "text/plain": [
       "(#<MOLECULE NIL 3> #<MOLECULE NIL 4> #<MOLECULE NIL 5> #<MOLECULE NIL 6>\n",
       " #<MOLECULE NIL 7> #<MOLECULE NIL 8> #<MOLECULE NIL 9> #<MOLECULE NIL 10>\n",
       " #<MOLECULE NIL 11> #<MOLECULE NIL 12> #<MOLECULE NIL 13> #<MOLECULE NIL 14>\n",
       " #<MOLECULE NIL 15> #<MOLECULE NIL 16> #<MOLECULE NIL 17> #<MOLECULE NIL 18>\n",
       " #<MOLECULE NIL 19> #<MOLECULE NIL 20>)"
      ]
     },
     "execution_count": 14,
     "metadata": {},
     "output_type": "execute_result"
    }
   ],
   "source": [
    "ligands = (loop for index from 3 to 20 collect (removeMatter prot (molid prot index)))"
   ]
  },
  {
   "cell_type": "code",
   "execution_count": 15,
   "metadata": {},
   "outputs": [
    {
     "name": "stdout",
     "output_type": "stream",
     "text": [
      "Describing (#<MOLECULE NIL 3> #<MOLECULE NIL 4> #<MOLECULE NIL 5> #<MOLECULE NIL 6>\n",
      " #<MOLECULE NIL 7> #<MOLECULE NIL 8> #<MOLECULE NIL 9> #<MOLECULE NIL 10>\n",
      " #<MOLECULE NIL 11> #<MOLECULE NIL 12> #<MOLECULE NIL 13> #<MOLECULE NIL 14>\n",
      " #<MOLECULE NIL 15> #<MOLECULE NIL 16> #<MOLECULE NIL 17> #<MOLECULE NIL 18>\n",
      " #<MOLECULE NIL 19> #<MOLECULE NIL 20>)\n",
      "\n",
      "\n",
      "(#<MOLECULE NIL 3> #<MOLECULE NIL 4> #<MOLECULE NIL 5> #<MOLECULE NIL 6>\n",
      " #<MOLECULE NIL 7> #<MOLECULE NIL 8> #<MOLECULE NIL 9> #<MOLECULE NIL 10>\n",
      " #<MOLECULE NIL 11> #<MOLECULE NIL 12> #<MOLECULE NIL 13> #<MOLECULE NIL 14>\n",
      " #<MOLECULE NIL 15> #<MOLECULE NIL 16> #<MOLECULE NIL 17> #<MOLECULE NIL 18>\n",
      " #<MOLECULE NIL 19> #<MOLECULE NIL 20>) - cons\n"
     ]
    },
    {
     "data": {
      "text/plain": [
       "NIL"
      ]
     },
     "execution_count": 15,
     "metadata": {},
     "output_type": "execute_result"
    }
   ],
   "source": [
    "desc ligands"
   ]
  },
  {
   "cell_type": "code",
   "execution_count": 17,
   "metadata": {},
   "outputs": [
    {
     "name": "stdout",
     "output_type": "stream",
     "text": [
      "Missing-h NIL\n"
     ]
    },
    {
     "data": {
      "image/svg+xml": [
       "<?xml version=\"1.0\" standalone=\"no\"?>\n",
       "<svg viewport=\"0 0 447 227\" height=\"227\" width=\"447\" version=\"1.2\" id=\"\"\n",
       "    xmlns=\"http://www.w3.org/2000/svg\"\n",
       "    xmlns:xlink=\"http://www.w3.org/1999/xlink\">\n",
       "  <line x1=\"362.16\" y1=\"68.59\" x2=\"358.08\" y2=\"45.22\" fill=\"none\"\n",
       "        stroke=\"black\" stroke-width=\"2\" stroke-linecap=\"round\"/>\n",
       "  <line x1=\"357.23\" y1=\"69.45\" x2=\"353.84\" y2=\"50.02\" fill=\"none\"\n",
       "        stroke=\"black\" stroke-width=\"2\" stroke-linecap=\"round\"/>\n",
       "  <line x1=\"355.77\" y1=\"81.71\" x2=\"342.61\" y2=\"88.75\" fill=\"none\"\n",
       "        stroke=\"black\" stroke-width=\"2\" stroke-linecap=\"round\"/>\n",
       "  <line x1=\"358.08\" y1=\"45.22\" x2=\"325.55\" y2=\"41.12\" fill=\"none\"\n",
       "        stroke=\"black\" stroke-width=\"2\" stroke-linecap=\"round\"/>\n",
       "  <line x1=\"325.55\" y1=\"41.12\" x2=\"315.40\" y2=\"63.57\" fill=\"none\"\n",
       "        stroke=\"black\" stroke-width=\"2\" stroke-linecap=\"round\"/>\n",
       "  <line x1=\"328.46\" y1=\"46.82\" x2=\"319.96\" y2=\"65.63\" fill=\"none\"\n",
       "        stroke=\"black\" stroke-width=\"2\" stroke-linecap=\"round\"/>\n",
       "  <line x1=\"318.30\" y1=\"77.87\" x2=\"328.06\" y2=\"86.89\" fill=\"none\"\n",
       "        stroke=\"black\" stroke-width=\"2\" stroke-linecap=\"round\"/>\n",
       "  <line x1=\"336.00\" y1=\"101.90\" x2=\"338.89\" y2=\"121.21\" fill=\"none\"\n",
       "        stroke=\"black\" stroke-width=\"2\" stroke-linecap=\"round\"/>\n",
       "  <line x1=\"338.89\" y1=\"121.21\" x2=\"370.45\" y2=\"127.55\" fill=\"none\"\n",
       "        stroke=\"black\" stroke-width=\"2\" stroke-linecap=\"round\"/>\n",
       "  <line x1=\"382.49\" y1=\"155.60\" x2=\"370.45\" y2=\"127.55\" fill=\"none\"\n",
       "        stroke=\"black\" stroke-width=\"2\" stroke-linecap=\"round\"/>\n",
       "  <line x1=\"376.32\" y1=\"153.90\" x2=\"367.44\" y2=\"133.20\" fill=\"none\"\n",
       "        stroke=\"black\" stroke-width=\"2\" stroke-linecap=\"round\"/>\n",
       "  <line x1=\"382.49\" y1=\"155.60\" x2=\"364.98\" y2=\"180.40\" fill=\"none\"\n",
       "        stroke=\"black\" stroke-width=\"2\" stroke-linecap=\"round\"/>\n",
       "  <line x1=\"364.98\" y1=\"180.40\" x2=\"374.88\" y2=\"208.52\" fill=\"none\"\n",
       "        stroke=\"black\" stroke-width=\"2\" stroke-linecap=\"round\"/>\n",
       "  <line x1=\"364.98\" y1=\"180.40\" x2=\"331.95\" y2=\"177.00\" fill=\"none\"\n",
       "        stroke=\"black\" stroke-width=\"2\" stroke-linecap=\"round\"/>\n",
       "  <line x1=\"361.52\" y1=\"175.01\" x2=\"336.44\" y2=\"172.43\" fill=\"none\"\n",
       "        stroke=\"black\" stroke-width=\"2\" stroke-linecap=\"round\"/>\n",
       "  <line x1=\"331.95\" y1=\"177.00\" x2=\"319.09\" y2=\"147.81\" fill=\"none\"\n",
       "        stroke=\"black\" stroke-width=\"2\" stroke-linecap=\"round\"/>\n",
       "  <line x1=\"319.09\" y1=\"147.81\" x2=\"338.89\" y2=\"121.21\" fill=\"none\"\n",
       "        stroke=\"black\" stroke-width=\"2\" stroke-linecap=\"round\"/>\n",
       "  <line x1=\"325.49\" y1=\"147.58\" x2=\"340.51\" y2=\"127.40\" fill=\"none\"\n",
       "        stroke=\"black\" stroke-width=\"2\" stroke-linecap=\"round\"/>\n",
       "  <line x1=\"319.09\" y1=\"147.81\" x2=\"288.28\" y2=\"152.26\" fill=\"none\"\n",
       "        stroke=\"black\" stroke-width=\"2\" stroke-linecap=\"round\"/>\n",
       "  <line x1=\"282.42\" y1=\"175.11\" x2=\"285.81\" y2=\"151.89\" fill=\"none\"\n",
       "        stroke=\"black\" stroke-width=\"2\" stroke-linecap=\"round\"/>\n",
       "  <line x1=\"287.37\" y1=\"175.83\" x2=\"290.76\" y2=\"152.62\" fill=\"none\"\n",
       "        stroke=\"black\" stroke-width=\"2\" stroke-linecap=\"round\"/>\n",
       "  <line x1=\"288.28\" y1=\"152.26\" x2=\"268.79\" y2=\"141.67\" fill=\"none\"\n",
       "        stroke=\"black\" stroke-width=\"2\" stroke-linecap=\"round\"/>\n",
       "  <line x1=\"253.79\" y1=\"142.91\" x2=\"237.49\" y2=\"155.62\" fill=\"none\"\n",
       "        stroke=\"black\" stroke-width=\"2\" stroke-linecap=\"round\"/>\n",
       "  <line x1=\"237.49\" y1=\"155.62\" x2=\"206.45\" y2=\"146.70\" fill=\"none\"\n",
       "        stroke=\"black\" stroke-width=\"2\" stroke-linecap=\"round\"/>\n",
       "  <line x1=\"292.69\" y1=\"95.13\" x2=\"262.27\" y2=\"106.89\" fill=\"none\"\n",
       "        stroke=\"black\" stroke-width=\"2\" stroke-linecap=\"round\"/>\n",
       "  <line x1=\"262.27\" y1=\"106.89\" x2=\"261.29\" y2=\"128.38\" fill=\"none\"\n",
       "        stroke=\"black\" stroke-width=\"2\" stroke-linecap=\"round\"/>\n",
       "  <line x1=\"262.27\" y1=\"106.89\" x2=\"240.92\" y2=\"85.06\" fill=\"none\"\n",
       "        stroke=\"black\" stroke-width=\"2\" stroke-linecap=\"round\"/>\n",
       "  <line x1=\"240.92\" y1=\"85.06\" x2=\"209.42\" y2=\"90.88\" fill=\"none\"\n",
       "        stroke=\"black\" stroke-width=\"2\" stroke-linecap=\"round\"/>\n",
       "  <line x1=\"209.42\" y1=\"90.88\" x2=\"201.06\" y2=\"109.91\" fill=\"none\"\n",
       "        stroke=\"black\" stroke-width=\"2\" stroke-linecap=\"round\"/>\n",
       "  <line x1=\"200.15\" y1=\"126.73\" x2=\"206.45\" y2=\"146.70\" fill=\"none\"\n",
       "        stroke=\"black\" stroke-width=\"2\" stroke-linecap=\"round\"/>\n",
       "  <line x1=\"188.45\" y1=\"117.77\" x2=\"164.87\" y2=\"116.79\" fill=\"none\"\n",
       "        stroke=\"black\" stroke-width=\"2\" stroke-linecap=\"round\"/>\n",
       "  <line x1=\"164.87\" y1=\"116.79\" x2=\"151.67\" y2=\"136.05\" fill=\"none\"\n",
       "        stroke=\"black\" stroke-width=\"2\" stroke-linecap=\"round\"/>\n",
       "  <line x1=\"158.48\" y1=\"117.26\" x2=\"147.54\" y2=\"133.22\" fill=\"none\"\n",
       "        stroke=\"black\" stroke-width=\"2\" stroke-linecap=\"round\"/>\n",
       "  <line x1=\"164.87\" y1=\"116.79\" x2=\"152.66\" y2=\"97.75\" fill=\"none\"\n",
       "        stroke=\"black\" stroke-width=\"2\" stroke-linecap=\"round\"/>\n",
       "  <line x1=\"138.08\" y1=\"140.51\" x2=\"117.54\" y2=\"133.34\" fill=\"none\"\n",
       "        stroke=\"black\" stroke-width=\"2\" stroke-linecap=\"round\"/>\n",
       "  <line x1=\"117.54\" y1=\"133.34\" x2=\"117.74\" y2=\"100.75\" fill=\"none\"\n",
       "        stroke=\"black\" stroke-width=\"2\" stroke-linecap=\"round\"/>\n",
       "  <line x1=\"112.57\" y1=\"129.31\" x2=\"112.72\" y2=\"104.72\" fill=\"none\"\n",
       "        stroke=\"black\" stroke-width=\"2\" stroke-linecap=\"round\"/>\n",
       "  <line x1=\"117.54\" y1=\"133.34\" x2=\"91.22\" y2=\"148.29\" fill=\"none\"\n",
       "        stroke=\"black\" stroke-width=\"2\" stroke-linecap=\"round\"/>\n",
       "  <line x1=\"91.22\" y1=\"148.29\" x2=\"65.81\" y2=\"131.33\" fill=\"none\"\n",
       "        stroke=\"black\" stroke-width=\"2\" stroke-linecap=\"round\"/>\n",
       "  <line x1=\"90.67\" y1=\"141.91\" x2=\"71.91\" y2=\"129.39\" fill=\"none\"\n",
       "        stroke=\"black\" stroke-width=\"2\" stroke-linecap=\"round\"/>\n",
       "  <line x1=\"45.30\" y1=\"141.75\" x2=\"65.81\" y2=\"131.33\" fill=\"none\"\n",
       "        stroke=\"black\" stroke-width=\"2\" stroke-linecap=\"round\"/>\n",
       "  <line x1=\"65.81\" y1=\"131.33\" x2=\"64.07\" y2=\"99.57\" fill=\"none\" stroke=\"black\"\n",
       "        stroke-width=\"2\" stroke-linecap=\"round\"/>\n",
       "  <line x1=\"64.07\" y1=\"99.57\" x2=\"91.49\" y2=\"82.70\" fill=\"none\" stroke=\"black\"\n",
       "        stroke-width=\"2\" stroke-linecap=\"round\"/>\n",
       "  <line x1=\"70.10\" y1=\"101.73\" x2=\"90.70\" y2=\"89.06\" fill=\"none\" stroke=\"black\"\n",
       "        stroke-width=\"2\" stroke-linecap=\"round\"/>\n",
       "  <line x1=\"139.31\" y1=\"93.16\" x2=\"117.74\" y2=\"100.75\" fill=\"none\"\n",
       "        stroke=\"black\" stroke-width=\"2\" stroke-linecap=\"round\"/>\n",
       "  <line x1=\"117.74\" y1=\"100.75\" x2=\"91.49\" y2=\"82.70\" fill=\"none\"\n",
       "        stroke=\"black\" stroke-width=\"2\" stroke-linecap=\"round\"/>\n",
       "  <text x=\"334.67\" y=\"95.00\" text-anchor=\"middle\" alignment-baseline=\"middle\">\n",
       "    N\n",
       "  </text>\n",
       "  <text x=\"37.28\" y=\"147.82\" text-anchor=\"middle\" alignment-baseline=\"middle\">\n",
       "    Cl\n",
       "  </text>\n",
       "  <text x=\"147.80\" y=\"92.18\" text-anchor=\"middle\" alignment-baseline=\"middle\">\n",
       "    O\n",
       "  </text>\n",
       "  <text x=\"260.88\" y=\"139.37\" text-anchor=\"middle\" alignment-baseline=\"middle\">\n",
       "    N\n",
       "  </text>\n",
       "  <text x=\"197.44\" y=\"120.15\" text-anchor=\"middle\" alignment-baseline=\"middle\">\n",
       "    N\n",
       "  </text>\n",
       "  <text x=\"363.70\" y=\"79.46\" text-anchor=\"middle\" alignment-baseline=\"middle\">\n",
       "    N\n",
       "  </text>\n",
       "  <text x=\"283.60\" y=\"186.38\" text-anchor=\"middle\" alignment-baseline=\"middle\">\n",
       "    O\n",
       "  </text>\n",
       "  <text x=\"146.58\" y=\"145.47\" text-anchor=\"middle\" alignment-baseline=\"middle\">\n",
       "    N\n",
       "  </text>\n",
       "  <text x=\"311.69\" y=\"73.77\" text-anchor=\"middle\" alignment-baseline=\"middle\">\n",
       "    N\n",
       "  </text>\n",
       "</svg>\n"
      ],
      "text/plain": [
       "#<CL-JUPYTER-USER::SVG-STR>"
      ]
     },
     "execution_count": 17,
     "metadata": {},
     "output_type": "execute_result"
    }
   ],
   "source": [
    "show (sketch2d:sketch2d (first ligands))"
   ]
  },
  {
   "cell_type": "code",
   "execution_count": 18,
   "metadata": {},
   "outputs": [
    {
     "name": "stdout",
     "output_type": "stream",
     "text": [
      "Describing #<AGGREGATE NIL 0>\n",
      "\n",
      "\n",
      "#<MOLECULE NIL 1> 3356 atoms\n",
      "#<MOLECULE NIL 2> 1479 atoms\n",
      "\n"
     ]
    },
    {
     "data": {
      "text/plain": [
       "NIL"
      ]
     },
     "execution_count": 18,
     "metadata": {},
     "output_type": "execute_result"
    }
   ],
   "source": [
    "desc prot"
   ]
  },
  {
   "cell_type": "code",
   "execution_count": 19,
   "metadata": {},
   "outputs": [
    {
     "name": "stdout",
     "output_type": "stream",
     "text": [
      "setting #<RESIDUE :PRO 1>  property: :NAME  value: :NPRO\n",
      "setting #<RESIDUE :GLN 205>  property: :NAME  value: :CGLN\n",
      "setting #<RESIDUE :LYS 206>  property: :NAME  value: :NLYS\n",
      "setting #<RESIDUE :CYS 293>  property: :NAME  value: :CCYS\n"
     ]
    },
    {
     "data": {
      "text/plain": [
       "NIL"
      ]
     },
     "execution_count": 19,
     "metadata": {},
     "output_type": "execute_result"
    }
   ],
   "source": [
    "set prot/1.1 name :NPRO\n",
    "set prot/1.205 name :CGLN\n",
    "set prot/2.206 name :NLYS\n",
    "set prot/2.293 name :CCYS"
   ]
  },
  {
   "cell_type": "code",
   "execution_count": 20,
   "metadata": {},
   "outputs": [
    {
     "name": "stdout",
     "output_type": "stream",
     "text": [
      "Assigned 4835 types of a total of 4835 atoms.\n"
     ]
    },
    {
     "data": {
      "text/plain": [
       "NIL"
      ]
     },
     "execution_count": 20,
     "metadata": {},
     "output_type": "execute_result"
    }
   ],
   "source": [
    "assignAtomTypes prot"
   ]
  },
  {
   "cell_type": "code",
   "execution_count": 21,
   "metadata": {},
   "outputs": [
    {
     "data": {
      "text/plain": [
       "NIL"
      ]
     },
     "execution_count": 21,
     "metadata": {},
     "output_type": "execute_result"
    }
   ],
   "source": [
    "(move-geometric-center-to-origin prot)"
   ]
  },
  {
   "cell_type": "code",
   "execution_count": 22,
   "metadata": {},
   "outputs": [
    {
     "data": {
      "application/vnd.jupyter.widget-view+json": {
       "model_id": "03C8546F-54CF-4529-B221-29A649C76F4F",
       "version_major": 2,
       "version_minor": 0
      },
      "text/plain": [
       "#<NGLV:NGLWIDGET>"
      ]
     },
     "execution_count": 22,
     "metadata": {},
     "output_type": "execute_result"
    }
   ],
   "source": [
    "(show prot :axes t)"
   ]
  },
  {
   "cell_type": "markdown",
   "metadata": {},
   "source": [
    "# Test the math"
   ]
  },
  {
   "cell_type": "code",
   "execution_count": 23,
   "metadata": {},
   "outputs": [
    {
     "data": {
      "text/plain": [
       "#<FORCE-FIELD >"
      ]
     },
     "execution_count": 23,
     "metadata": {},
     "output_type": "execute_result"
    }
   ],
   "source": [
    "(membrane-packer::setup-system-membrane-force-field)"
   ]
  },
  {
   "cell_type": "code",
   "execution_count": 24,
   "metadata": {},
   "outputs": [
    {
     "data": {
      "text/plain": [
       "#<AGGREGATE NIL 0>"
      ]
     },
     "execution_count": 24,
     "metadata": {},
     "output_type": "execute_result"
    }
   ],
   "source": [
    "tagg = (chem:make-aggregate)\n",
    "tmol1 = (chem:make-molecule :mol1)\n",
    "tmol2 = (chem:make-molecule :mol2)\n",
    "tres1 = (chem:make-residue :res1)\n",
    "tres2 = (chem:make-residue :res2)\n",
    "tatm1 = (chem:make-atom :c1 :c)\n",
    "tatm2 = (chem:make-atom :c2 :c)\n",
    "bb = (chem:make-bounding-box '(40 40 40))\n",
    "(chem:set-position tatm1 (geom:vec 17.0 0 0))\n",
    "(chem:set-position tatm2 (geom:vec -17.0 0 0))\n",
    "(chem:set-type tatm1 :lipid0)\n",
    "(chem:set-type tatm2 :lipid0)\n",
    "(chem:add-matter tres1 tatm1)\n",
    "(chem:add-matter tmol1 tres1)\n",
    "(chem:add-matter tres2 tatm2)\n",
    "(chem:add-matter tmol2 tres2)\n",
    "(chem:add-matter tagg tmol1)\n",
    "(chem:add-matter tagg tmol2)\n",
    "(chem:setf-force-field-name tmol1 :system-membrane)\n",
    "(chem:setf-force-field-name tmol2 :system-membrane)\n",
    "(chem:aggregate-set-bounding-box tagg bb)                            "
   ]
  },
  {
   "cell_type": "code",
   "execution_count": 25,
   "metadata": {},
   "outputs": [
    {
     "data": {
      "application/vnd.jupyter.widget-view+json": {
       "model_id": "0A165121-7119-4A2C-A445-6211211A877F",
       "version_major": 2,
       "version_minor": 0
      },
      "text/plain": [
       "#<NGLV:NGLWIDGET>"
      ]
     },
     "execution_count": 25,
     "metadata": {},
     "output_type": "execute_result"
    }
   ],
   "source": [
    "(show tagg :axes nil)"
   ]
  },
  {
   "cell_type": "code",
   "execution_count": 26,
   "metadata": {},
   "outputs": [
    {
     "name": "stdout",
     "output_type": "stream",
     "text": [
      "atom-table -> #<ATOM-TABLE >\n",
      "First atom: #<ATOM :C1/:C 0>\n"
     ]
    },
    {
     "data": {
      "text/plain": [
       "#<ENERGY-FUNCTION >"
      ]
     },
     "execution_count": 26,
     "metadata": {},
     "output_type": "execute_result"
    }
   ],
   "source": [
    "energy = (membrane-packer::build-simple-aggregate-energy-function tagg)"
   ]
  },
  {
   "cell_type": "code",
   "execution_count": 27,
   "metadata": {},
   "outputs": [
    {
     "name": "stdout",
     "output_type": "stream",
     "text": [
      "34.0d0 1412.8562404406994d0\n"
     ]
    },
    {
     "data": {
      "text/plain": [
       "NIL"
      ]
     },
     "execution_count": 27,
     "metadata": {},
     "output_type": "execute_result"
    }
   ],
   "source": [
    "(membrane-packer::show-well tagg energy)"
   ]
  },
  {
   "cell_type": "code",
   "execution_count": 28,
   "metadata": {},
   "outputs": [
    {
     "data": {
      "text/plain": [
       "(1412.8562404406994d0\n",
       " #(-2862.7473885354484d0 0.0d0 0.0d0 2862.7473885354484d0 0.0d0 0.0d0)\n",
       " #(17.0d0 0.0d0 0.0d0 -17.0d0 0.0d0 0.0d0))"
      ]
     },
     "execution_count": 28,
     "metadata": {},
     "output_type": "execute_result"
    }
   ],
   "source": [
    "(multiple-value-list (chem:calculate-energy-and-force energy))"
   ]
  },
  {
   "cell_type": "code",
   "execution_count": 29,
   "metadata": {},
   "outputs": [
    {
     "name": "stdout",
     "output_type": "stream",
     "text": [
      "minimize-no-fail\n",
      "======= Starting Steepest Descent Minimizer\n",
      "---Stage-Seconds--Step-log(Alpha)--Prev.dir--------Energy-----------RMSforce\n",
      " minSDnP       0     2     -6.80   0.0             -0.147              0.000\n",
      " ! DONE absolute force test:\n",
      " ! forceRmsMag(1.041551e-09) < forceTolerance(1.000000e-01)\n",
      "======= Starting Conjugate Gradient Minimizer\n",
      "---Stage-Seconds--Step-log(Alpha)--Prev.dir--------Energy-----------RMSforce\n",
      " minCGnP       0     2      -inf  90.0             -0.147              0.000\n",
      " ! DONE absolute force test:\n",
      " ! forceRmsMag(0.000000)<forceTolerance(0.500000)\n",
      "======= Skipping Truncated Newton #steps = 0\n",
      "======= All three minimizers have completed or passed on minimization.\n",
      "Just returned from minimize\n"
     ]
    },
    {
     "data": {
      "text/plain": [
       "#<ENERGY-FUNCTION >"
      ]
     },
     "execution_count": 29,
     "metadata": {},
     "output_type": "execute_result"
    }
   ],
   "source": [
    "(energy:minimize-energy-function energy :sd-tolerance 0.1 :frozen #*011011)"
   ]
  },
  {
   "cell_type": "code",
   "execution_count": 30,
   "metadata": {},
   "outputs": [
    {
     "data": {
      "application/vnd.jupyter.widget-view+json": {
       "model_id": "91BD2CE0-6AB2-4FF0-A8FD-AC31492A3023",
       "version_major": 2,
       "version_minor": 0
      },
      "text/plain": [
       "#<NGLV:NGLWIDGET>"
      ]
     },
     "execution_count": 30,
     "metadata": {},
     "output_type": "execute_result"
    }
   ],
   "source": [
    "show tagg"
   ]
  },
  {
   "cell_type": "code",
   "execution_count": 31,
   "metadata": {},
   "outputs": [
    {
     "name": "stdout",
     "output_type": "stream",
     "text": [
      "27.600288392365307d0 -0.1465551061763491d0\n"
     ]
    },
    {
     "data": {
      "text/plain": [
       "NIL"
      ]
     },
     "execution_count": 31,
     "metadata": {},
     "output_type": "execute_result"
    }
   ],
   "source": [
    "(membrane-packer::show-well tagg energy)"
   ]
  },
  {
   "cell_type": "code",
   "execution_count": 32,
   "metadata": {},
   "outputs": [
    {
     "name": "stdout",
     "output_type": "stream",
     "text": [
      "11.800144196182654d0 -0.11787879301071935d0\n",
      "11.700144291550085d0 -0.105014003536744d0\n",
      "11.600144386917517d0 -0.08875450702945664d0\n",
      "11.500144482284949d0 -0.06854910034181305d0\n",
      "11.40014457765238d0 -0.04376198932048314d0\n",
      "11.300144673019812d0 -0.01365952101915835d0\n",
      "11.200144768387243d0 0.022605262673953685d0\n",
      "11.100144863754675d0 0.06601062763181875d0\n",
      "11.000144959122107d0 0.11768715322566037d0\n",
      "10.900145054489538d0 0.17894227085700665d0\n",
      "10.80014514985697d0 0.25128896389169164d0\n",
      "10.700145245224402d0 0.33647937613743395d0\n",
      "10.600145340591833d0 0.4365442182224527d0\n",
      "10.500145435959265d0 0.5538390321366452d0\n",
      "10.400145531326697d0 0.6910985799151023d0\n",
      "10.300145626694128d0 0.8515008704847066d0\n",
      "10.20014572206156d0 1.0387426382788592d0\n",
      "10.100145817428992d0 1.25712844969769d0\n",
      "10.000145912796423d0 1.5116760528365734d0\n",
      "9.900146008163855d0 1.8082411193994292d0\n",
      "9.800146103531286d0 2.1536651767361565d0\n",
      "9.700146198898718d0 2.5559513190153016d0\n",
      "9.60014629426615d0 3.024473252623958d0\n",
      "9.500146389633581d0 3.570224413033004d0\n",
      "9.400146485001013d0 4.206115339827868d0\n",
      "9.300146580368445d0 4.947329277505041d0\n",
      "9.200146675735876d0 5.8117481623816465d0\n",
      "9.100146771103308d0 6.820463861629863d0\n",
      "9.00014686647074d0 7.998392876371799d0\n",
      "8.900146961838171d0 9.375016867793283d0\n",
      "8.800147057205603d0 10.985276517007367d0\n",
      "8.700147152573035d0 12.870652644439254d0\n",
      "8.600147247940466d0 15.080476521840655d0\n",
      "8.500147343307898d0 17.67352132955323d0\n",
      "8.40014743867533d0 20.71993928061234d0\n",
      "8.300147534042761d0 24.303624741153573d0\n",
      "8.200147629410193d0 28.525103610561853d0\n",
      "8.100147724777624d0 33.50507442993468d0\n",
      "8.000147820145056d0 39.388758645965716d0\n",
      "7.900147915512488d0 46.35125809392505d0\n",
      "7.800148010879919d0 54.60416958491409d0\n",
      "7.700148106247351d0 64.40377276484917d0\n",
      "7.6001482016147826d0 76.06119245040817d0\n",
      "7.500148296982214d0 89.95504609009791d0\n",
      "7.400148392349646d0 106.54722830435071d0\n",
      "7.3001484877170775d0 126.40266750663267d0\n",
      "7.200148583084509d0 150.2141275334077d0\n",
      "7.100148678451941d0 178.8334375445089d0\n",
      "7.000148773819372d0 213.31093968193224d0\n",
      "6.900148869186804d0 254.94547768135521d0\n",
      "6.800148964554236d0 305.3479534738784d0\n",
      "6.700149059921667d0 366.5224106429412d0\n",
      "6.600149155289099d0 440.9698421971752d0\n",
      "6.500149250656531d0 531.82157325687d0\n",
      "6.400149346023962d0 643.0112850283713d0\n",
      "6.300149441391394d0 779.4977293242456d0\n",
      "6.2001495367588255d0 947.5542165299657d0\n",
      "6.100149632126257d0 1155.1464397824464d0\n",
      "6.000149727493689d0 1412.4276783843416d0\n",
      "5.90014982286112d0 1732.390684817017d0\n",
      "5.800149918228552d0 2131.729707925238d0\n",
      "5.7001495367588255d0 2631.988382453956d0\n",
      "5.600149155289099d0 3261.0819261277693d0\n",
      "5.500148773819372d0 4055.3540560921692d0\n",
      "5.400148392349646d0 5062.341419775119d0\n",
      "5.300148010879919d0 6344.523964914086d0\n",
      "5.200147629410193d0 7984.438064125057d0\n",
      "5.100147247940466d0 10091.687836314177d0\n",
      "5.00014686647074d0 12812.617010316357d0\n",
      "4.900146485001013d0 16343.734049265093d0\n",
      "4.8001461035312865d0 20950.46776943552d0\n",
      "4.70014572206156d0 26993.546620524532d0\n",
      "4.600145340591833d0 34966.36097634223d0\n",
      "4.500144959122107d0 45548.26853486559d0\n",
      "4.40014457765238d0 59681.2267298278d0\n",
      "4.300144196182654d0 78680.83869093949d0\n",
      "4.200143814712927d0 104398.60792813683d0\n",
      "4.1001434332432005d0 139461.08364710546d0\n",
      "4.000143051773474d0 187625.55295945244d0\n",
      "3.9001426703037474d0 254314.1441576328d0\n",
      "3.800142288834021d0 347423.8906114493d0\n",
      "3.7001419073642943d0 478568.3167979764d0\n",
      "3.6001415258945677d0 665001.5730302341d0\n",
      "3.500141144424841d0 932635.273506625d0\n",
      "3.4001407629551146d0 1320827.0499422082d0\n",
      "3.300140381485388d0 1890080.6133411014d0\n",
      "3.2001400000156615d0 2734598.815840341d0\n",
      "3.100139618545935d0 4003048.4869974703d0\n",
      "3.0001392370762083d0 5933444.081953051d0\n",
      "2.9001388556064818d0 8912721.945423022d0\n",
      "2.800138474136755d0 1.3580280864362204d7\n",
      "2.7001380926670286d0 2.101133909077586d7\n",
      "2.600137711197302d0 3.3048214809272423d7\n",
      "2.5001373297275755d0 5.291189481209397d7\n",
      "2.400136948257849d0 8.635750688389756d7\n",
      "2.3001365667881224d0 1.4391272408070743d8\n",
      "2.200136185318396d0 2.453331181318108d8\n",
      "2.1001358038486693d0 4.28735057914289d8\n",
      "2.0001354223789427d0 7.69927679143673d8\n",
      "1.9001350409092161d0 1.424797672237335d9\n",
      "1.8001346594394896d0 2.7259004438945613d9\n",
      "1.700134277969763d0 5.412196953514481d9\n",
      "1.6001338965000365d0 1.1202066160936646d10\n",
      "1.50013351503031d0 2.430056418301619d10\n",
      "1.4001331335605833d0 5.5608892902122894d10\n",
      "1.3001327520908568d0 1.3530832124982114d11\n",
      "1.2001323706211302d0 3.5353102583178827d11\n",
      "1.1001319891514036d0 1.0042459891793468d12\n",
      "1.000131607681677d0 3.151316146382176d12\n",
      "0.9001312262119505d0 1.1155986600572078d13\n",
      "0.800130844742224d0 4.584012913356556d13\n",
      "0.7001304632724974d0 2.2752562884469838d14\n",
      "0.6001300818027708d0 1.4462163831809415d15\n",
      "0.5001297003330443d0 1.2888022652198892d16\n",
      "0.4001293188633177d0 1.874017093268563d17\n",
      "0.30012893739359114d0 5.908586515289538d18\n",
      "0.20012855592386458d0 7.646616454110632d20\n",
      "0.10012817445413802d0 3.108153571605764d24\n",
      "1.277929844114567d-4 1.6637723248269673d59\n",
      "0.0998725884853151d0 3.204958234579426d24\n",
      "0.19987296995504167d0 7.764781818482097d20\n",
      "0.29987335142476823d0 5.969302192396609d18\n",
      "0.3998737328944948d0 1.888441442231247d17\n",
      "0.49987411436422136d0 1.2967321260600152d16\n",
      "0.5998744958339479d0 1.4536279341697908d15\n",
      "0.6998748773036745d0 2.2852470977259247d14\n",
      "0.799875258773401d0 4.601620719075176d13\n",
      "0.8998756402431276d0 1.1194068828068621d13\n",
      "0.9998760217128542d0 3.1609961352836646d12\n",
      "1.0998764031825807d0 1.0070499363241487d12\n",
      "1.1998767846523073d0 3.5443575451185004d11\n",
      "1.2998771661220339d0 1.3562792416675293d11\n",
      "1.3998775475917604d0 5.5730850682065d10\n",
      "1.499877929061487d0 2.4350302047044773d10\n",
      "1.5998783105312135d0 1.1223559954273579d10\n",
      "1.69987869200094d0 5.421970135289996d9\n",
      "1.7998790734706667d0 2.7305491083573523d9\n",
      "1.8998794549403932d0 1.4270994977018228d9\n",
      "1.9998798364101198d0 7.711092974960289d8\n",
      "2.0998802178798464d0 4.2936169159545314d8\n"
     ]
    },
    {
     "data": {
      "text/plain": [
       "NIL"
      ]
     },
     "execution_count": 32,
     "metadata": {},
     "output_type": "execute_result"
    }
   ],
   "source": [
    "(loop for i from 2 below 16 by 0.1 do (membrane-packer::show-well tagg energy i))"
   ]
  },
  {
   "cell_type": "code",
   "execution_count": 30,
   "metadata": {},
   "outputs": [
    {
     "name": "stdout",
     "output_type": "stream",
     "text": [
      "8.800144196182654d0 10.985326307497077d0\n"
     ]
    },
    {
     "data": {
      "text/plain": [
       "NIL"
      ]
     },
     "execution_count": 30,
     "metadata": {},
     "output_type": "execute_result"
    }
   ],
   "source": [
    "(membrane-packer::show-well tagg energy 5.0)"
   ]
  },
  {
   "cell_type": "code",
   "execution_count": 33,
   "metadata": {},
   "outputs": [
    {
     "data": {
      "text/plain": [
       "#<DYNAMICS:SIMULATION>"
      ]
     },
     "execution_count": 33,
     "metadata": {},
     "output_type": "execute_result"
    }
   ],
   "source": [
    "dynsimple = (membrane-packer::simulate-simple-membrane-energy-function energy (chem:bounding-box tagg) #*111001 500000)"
   ]
  },
  {
   "cell_type": "code",
   "execution_count": 34,
   "metadata": {},
   "outputs": [
    {
     "data": {
      "application/vnd.jupyter.widget-view+json": {
       "model_id": "B4376D33-B1F3-421A-ACA4-878209360369",
       "version_major": 2,
       "version_minor": 0
      },
      "text/plain": [
       "#<NGLV:NGLWIDGET>"
      ]
     },
     "execution_count": 34,
     "metadata": {},
     "output_type": "execute_result"
    }
   ],
   "source": [
    "show dynsimple"
   ]
  },
  {
   "cell_type": "code",
   "execution_count": 33,
   "metadata": {},
   "outputs": [
    {
     "data": {
      "text/plain": [
       "((8.80014419555664d0 #<ATOM :C1/:C 0> #<ATOM :C2/:C 0>))"
      ]
     },
     "execution_count": 33,
     "metadata": {},
     "output_type": "execute_result"
    }
   ],
   "source": [
    "(membrane-packer::look-for-close-contacts dynsimple 0)"
   ]
  },
  {
   "cell_type": "code",
   "execution_count": 34,
   "metadata": {},
   "outputs": [
    {
     "data": {
      "text/plain": [
       "((12.400000095367432d0 #<ATOM :C1/:C 0> #<ATOM :C2/:C 0>))"
      ]
     },
     "execution_count": 34,
     "metadata": {},
     "output_type": "execute_result"
    }
   ],
   "source": [
    "(membrane-packer::look-for-close-contacts dynsimple nil)"
   ]
  },
  {
   "cell_type": "code",
   "execution_count": 35,
   "metadata": {},
   "outputs": [
    {
     "data": {
      "application/vnd.jupyter.widget-view+json": {
       "model_id": "47A271E1-8566-4092-926C-F566A074BEA3",
       "version_major": 2,
       "version_minor": 0
      },
      "text/plain": [
       "#<NGLV:NGLWIDGET>"
      ]
     },
     "execution_count": 35,
     "metadata": {},
     "output_type": "execute_result"
    }
   ],
   "source": [
    "(show tagg :axes t)"
   ]
  },
  {
   "cell_type": "markdown",
   "metadata": {},
   "source": [
    "# Test a bunch of points"
   ]
  },
  {
   "cell_type": "code",
   "execution_count": 47,
   "metadata": {},
   "outputs": [
    {
     "data": {
      "text/plain": [
       "(#<AGGREGATE NIL 0>)"
      ]
     },
     "execution_count": 47,
     "metadata": {},
     "output_type": "execute_result"
    }
   ],
   "source": [
    "agg = (membrane-packer::random-aggregate 30)"
   ]
  },
  {
   "cell_type": "code",
   "execution_count": 43,
   "metadata": {},
   "outputs": [
    {
     "data": {
      "application/vnd.jupyter.widget-view+json": {
       "model_id": "612B269C-272A-4C35-B05B-43304DAB1597",
       "version_major": 2,
       "version_minor": 0
      },
      "text/plain": [
       "#<NGLV:NGLWIDGET>"
      ]
     },
     "execution_count": 43,
     "metadata": {},
     "output_type": "execute_result"
    }
   ],
   "source": [
    "show agg"
   ]
  },
  {
   "cell_type": "code",
   "execution_count": 44,
   "metadata": {},
   "outputs": [
    {
     "name": "stdout",
     "output_type": "stream",
     "text": [
      "atom-table -> #<ATOM-TABLE >\n",
      "First atom: #<ATOM :L0/:Ar 0>\n"
     ]
    },
    {
     "data": {
      "text/plain": [
       "#<ENERGY-FUNCTION >"
      ]
     },
     "execution_count": 44,
     "metadata": {},
     "output_type": "execute_result"
    }
   ],
   "source": [
    "energy = (membrane-packer::build-simple-aggregate-energy-function agg)"
   ]
  },
  {
   "cell_type": "code",
   "execution_count": 45,
   "metadata": {},
   "outputs": [
    {
     "name": "stdout",
     "output_type": "stream",
     "text": [
      "minimize-no-fail\n",
      "======= Starting Steepest Descent Minimizer\n",
      " minSDnP       0    10    -21.27   0.0      436472710.468 2058123684756636.500\n",
      " minSDnP       0    20    -14.94   0.0        4247898.802    46394465206.149\n",
      " minSDnP       0    30    -11.24   0.0         209493.483       29769260.452\n",
      " minSDnP       0    40     -9.98   0.0          93901.284        1993340.491\n",
      " minSDnP       0    50     -9.12   0.0          56269.114         371005.020\n",
      " minSDnP       0    60     -8.66   0.0          44709.646          42413.521\n",
      " minSDnP       0    70     -8.70   0.0          41846.416          28806.586\n",
      " minSDnP       0    80     -8.71   0.0          39890.970          18108.159\n",
      " minSDnP       0    90     -8.70   0.0          38695.489          11416.861\n",
      " minSDnP       0   100     -8.66   0.0          37873.728           8423.382\n",
      " minSDnP       0   110     -8.58   0.0          37204.552           6402.891\n",
      " minSDnP       0   120     -8.49   0.0          36701.858           3807.120\n",
      " minSDnP       0   130     -8.41   0.0          36367.512           2638.469\n",
      " minSDnP       0   140     -8.35   0.0          36060.238           2676.896\n",
      " minSDnP       0   150     -8.29   0.0          35719.086           2696.561\n",
      " minSDnP       0   160     -8.22   0.0          35377.185           2339.122\n",
      " minSDnP       0   170     -8.18   0.0          35076.126           1826.612\n",
      " minSDnP       0   180     -8.19   0.0          34851.839           1249.563\n",
      " minSDnP       0   190     -8.17   0.0          34702.884            802.241\n",
      " minSDnP       0   200     -8.14   0.0          34597.154            648.164\n",
      " minSDnP       0   210     -8.14   0.0          34492.048            774.531\n",
      " minSDnP       0   220     -8.19   0.0          34362.515            965.893\n",
      " minSDnP       0   230     -8.21   0.0          34226.657            902.423\n",
      " minSDnP       0   240     -8.19   0.0          34113.180            697.521\n",
      " minSDnP       0   250     -8.16   0.0          34023.115            579.172\n",
      " minSDnP       0   260     -8.15   0.0          33944.746            510.728\n",
      " minSDnP       0   270     -8.15   0.0          33876.259            427.270\n",
      " minSDnP       0   280     -8.16   0.0          33821.634            322.449\n",
      " minSDnP       0   290     -8.18   0.0          33782.184            224.394\n",
      " minSDnP       0   300     -8.18   0.0          33755.253            150.586\n",
      " minSDnP       0   310     -8.19   0.0          33737.215             99.832\n",
      " minSDnP       0   320     -8.19   0.0          33725.202             66.156\n",
      " minSDnP       0   330     -8.19   0.0          33717.192             44.169\n",
      " minSDnP       0   340     -8.19   0.0          33711.787             29.903\n",
      " minSDnP       0   350     -8.19   0.0          33708.097             20.451\n",
      " minSDnP       0   360     -8.19   0.0          33705.569             13.975\n",
      " minSDnP       0   370     -8.19   0.0          33703.819              9.742\n",
      " minSDnP       0   380     -8.19   0.0          33702.593              6.826\n",
      " minSDnP       0   390     -8.19   0.0          33701.730              4.813\n",
      " minSDnP       0   400     -8.20   0.0          33701.120              3.393\n",
      " minSDnP       0   410     -8.19   0.0          33700.688              2.402\n",
      " minSDnP       0   420     -8.19   0.0          33700.383              1.700\n",
      " minSDnP       0   430     -8.19   0.0          33700.166              1.203\n",
      " minSDnP       0   440     -8.19   0.0          33700.013              0.853\n",
      " minSDnP       0   450     -8.19   0.0          33699.904              0.604\n",
      " minSDnP       0   460     -8.19   0.0          33699.826              0.429\n",
      " minSDnP       0   470     -8.19   0.0          33699.772              0.304\n",
      " minSDnP       0   480     -8.19   0.0          33699.733              0.216\n",
      " minSDnP       0   490     -8.19   0.0          33699.705              0.154\n",
      " minSDnP       0   500     -8.19   0.0          33699.685              0.110\n",
      "---Stage-Seconds--Step-log(Alpha)--Prev.dir--------Energy-----------RMSforce\n",
      " minSDnP       0   504     -8.19   0.0          33699.679              0.096\n",
      " ! DONE absolute force test:\n",
      " ! forceRmsMag(9.562170e-02) < forceTolerance(1.000000e-01)\n",
      "======= Starting Conjugate Gradient Minimizer\n",
      "---Stage-Seconds--Step-log(Alpha)--Prev.dir--------Energy-----------RMSforce\n",
      " minCGnP       0   504      -inf  90.0          33699.679              0.096\n",
      " ! DONE absolute force test:\n",
      " ! forceRmsMag(0.095622)<forceTolerance(0.500000)\n",
      "======= Skipping Truncated Newton #steps = 0\n",
      "======= All three minimizers have completed or passed on minimization.\n",
      "Just returned from minimize\n"
     ]
    },
    {
     "data": {
      "text/plain": [
       "#<ENERGY-FUNCTION >"
      ]
     },
     "execution_count": 45,
     "metadata": {},
     "output_type": "execute_result"
    }
   ],
   "source": [
    "(let ((chem::*verbose* 0)) (energy:minimize-energy-function energy :sd-tolerance 0.1))"
   ]
  },
  {
   "cell_type": "code",
   "execution_count": 46,
   "metadata": {},
   "outputs": [
    {
     "data": {
      "application/vnd.jupyter.widget-view+json": {
       "model_id": "3CD0F4A7-F0CC-4E66-A07C-617671EA3D38",
       "version_major": 2,
       "version_minor": 0
      },
      "text/plain": [
       "#<NGLV:NGLWIDGET>"
      ]
     },
     "execution_count": 46,
     "metadata": {},
     "output_type": "execute_result"
    }
   ],
   "source": [
    "show agg"
   ]
  },
  {
   "cell_type": "code",
   "execution_count": 41,
   "metadata": {},
   "outputs": [
    {
     "data": {
      "text/plain": [
       "#<DYNAMICS:SIMULATION>"
      ]
     },
     "execution_count": 41,
     "metadata": {},
     "output_type": "execute_result"
    }
   ],
   "source": [
    "dynsimple = (membrane-packer::setup-simple-membrane-dynamics energy (chem:bounding-box agg))"
   ]
  },
  {
   "cell_type": "code",
   "execution_count": 116,
   "metadata": {},
   "outputs": [
    {
     "data": {
      "text/plain": [
       "#<DYNAMICS:SIMULATION>"
      ]
     },
     "execution_count": 116,
     "metadata": {},
     "output_type": "execute_result"
    }
   ],
   "source": [
    "(membrane-packer::advance-simple-membrane-dynamics dynsimple (chem:bounding-box agg) nil)"
   ]
  },
  {
   "cell_type": "code",
   "execution_count": 117,
   "metadata": {},
   "outputs": [
    {
     "data": {
      "text/plain": [
       "NIL"
      ]
     },
     "execution_count": 117,
     "metadata": {},
     "output_type": "execute_result"
    }
   ],
   "source": [
    "(dotimes (i 1000) (membrane-packer::advance-simple-membrane-dynamics dynsimple (chem:bounding-box agg) nil))"
   ]
  },
  {
   "cell_type": "code",
   "execution_count": 118,
   "metadata": {},
   "outputs": [
    {
     "data": {
      "application/vnd.jupyter.widget-view+json": {
       "model_id": "544E5762-35D8-4BFB-AA1D-61ECC954FD7E",
       "version_major": 2,
       "version_minor": 0
      },
      "text/plain": [
       "#<NGLV:NGLWIDGET>"
      ]
     },
     "execution_count": 118,
     "metadata": {},
     "output_type": "execute_result"
    }
   ],
   "source": [
    "show dynsimple"
   ]
  },
  {
   "cell_type": "code",
   "execution_count": 119,
   "metadata": {},
   "outputs": [
    {
     "data": {
      "text/plain": [
       "((6.329726762565862d0 #<ATOM :L0/:Ar 0> #<ATOM :L4/:Ar 0>)\n",
       " (6.437013882957715d0 #<ATOM :L1/:Ar 0> #<ATOM :L4/:Ar 0>)\n",
       " (6.555888032440254d0 #<ATOM :L0/:Ar 0> #<ATOM :L3/:Ar 0>)\n",
       " (6.720909345981038d0 #<ATOM :L3/:Ar 0> #<ATOM :L4/:Ar 0>)\n",
       " (6.84416634160265d0 #<ATOM :L2/:Ar 0> #<ATOM :L4/:Ar 0>)\n",
       " (7.230563611881231d0 #<ATOM :L2/:Ar 0> #<ATOM :L3/:Ar 0>)\n",
       " (7.965505961110309d0 #<ATOM :L1/:Ar 0> #<ATOM :L2/:Ar 0>)\n",
       " (11.081694670116443d0 #<ATOM :L0/:Ar 0> #<ATOM :L2/:Ar 0>)\n",
       " (12.040800322555187d0 #<ATOM :L0/:Ar 0> #<ATOM :L1/:Ar 0>)\n",
       " (12.269249305391071d0 #<ATOM :L1/:Ar 0> #<ATOM :L3/:Ar 0>))"
      ]
     },
     "execution_count": 119,
     "metadata": {},
     "output_type": "execute_result"
    }
   ],
   "source": [
    "(membrane-packer::look-for-close-contacts dynsimple 0)"
   ]
  },
  {
   "cell_type": "code",
   "execution_count": 105,
   "metadata": {},
   "outputs": [
    {
     "data": {
      "text/plain": [
       "((126798.26447726853d0 #<ATOM :L2/:Ar 0> #<ATOM :L3/:Ar 0>)\n",
       " (127391.04990818167d0 #<ATOM :L3/:Ar 0> #<ATOM :L4/:Ar 0>)\n",
       " (234716.9555875904d0 #<ATOM :L2/:Ar 0> #<ATOM :L4/:Ar 0>)\n",
       " (365313.47846391576d0 #<ATOM :L0/:Ar 0> #<ATOM :L4/:Ar 0>)\n",
       " (427663.1023221231d0 #<ATOM :L1/:Ar 0> #<ATOM :L2/:Ar 0>)\n",
       " (488420.52430965146d0 #<ATOM :L0/:Ar 0> #<ATOM :L3/:Ar 0>)\n",
       " (489509.5871160772d0 #<ATOM :L1/:Ar 0> #<ATOM :L3/:Ar 0>)\n",
       " (575861.7557208302d0 #<ATOM :L0/:Ar 0> #<ATOM :L2/:Ar 0>)\n",
       " (614419.5225638946d0 #<ATOM :L1/:Ar 0> #<ATOM :L4/:Ar 0>)\n",
       " (977476.6528285601d0 #<ATOM :L0/:Ar 0> #<ATOM :L1/:Ar 0>))"
      ]
     },
     "execution_count": 105,
     "metadata": {},
     "output_type": "execute_result"
    }
   ],
   "source": [
    "(membrane-packer::look-for-close-contacts dynsimple nil)"
   ]
  },
  {
   "cell_type": "code",
   "execution_count": 93,
   "metadata": {},
   "outputs": [
    {
     "data": {
      "text/plain": [
       "#(2.7645933891505745d0 -2.1153348492569433d0 -1.4971422935097403d0\n",
       "  -1.8360400901957836d0 -1.4408459331718266d0 1.6912367079927138d0\n",
       "  -2.8877136066464333d0 3.4528572617111224d0 -0.7915984547793495d0\n",
       "  0.22184844900016584d0 -0.7177186623173721d0 2.2007652241830415d0\n",
       "  1.7373118586914769d0 0.8210421830350194d0 -1.6032611838866657d0)"
      ]
     },
     "execution_count": 93,
     "metadata": {},
     "output_type": "execute_result"
    }
   ],
   "source": [
    "(dynamics:forces dynsimple)"
   ]
  },
  {
   "cell_type": "code",
   "execution_count": 94,
   "metadata": {},
   "outputs": [
    {
     "data": {
      "text/plain": [
       "#(0.005229234041766717d0 -0.009787154770396786d0 -0.006921395301787093d0\n",
       "  -0.004782722663177649d0 -0.006659858057915109d0 0.007814443108999636d0\n",
       "  -0.008958948106609318d0 0.015958675922827455d0 -0.003654531049618944d0\n",
       "  4.349209889527887d-4 -0.0033052299257128187d0 0.002355932139153868d0\n",
       "  0.008077515739067464d0 0.0037935668311972616d0 4.055511032525332d-4)"
      ]
     },
     "execution_count": 94,
     "metadata": {},
     "output_type": "execute_result"
    }
   ],
   "source": [
    "(dynamics:velocity dynsimple)"
   ]
  },
  {
   "cell_type": "code",
   "execution_count": 95,
   "metadata": {},
   "outputs": [
    {
     "data": {
      "text/plain": [
       "#(5.120176423195188d-4 5.120176423195188d-4 5.120176423195188d-4\n",
       "  5.120176423195188d-4 5.120176423195188d-4)"
      ]
     },
     "execution_count": 95,
     "metadata": {},
     "output_type": "execute_result"
    }
   ],
   "source": [
    "(dynamics:delta-t-over-mass dynsimple)"
   ]
  },
  {
   "cell_type": "code",
   "execution_count": 207,
   "metadata": {},
   "outputs": [
    {
     "data": {
      "text/plain": [
       "#<DYNAMICS:SIMULATION>"
      ]
     },
     "execution_count": 207,
     "metadata": {},
     "output_type": "execute_result"
    }
   ],
   "source": [
    "dynsimple = (membrane-packer::simulate-simple-membrane-energy-function \n",
    "             energy \n",
    "             (chem:bounding-box agg) nil 1000)"
   ]
  },
  {
   "cell_type": "markdown",
   "metadata": {},
   "source": [
    "# Regular membrane packing"
   ]
  },
  {
   "cell_type": "code",
   "execution_count": null,
   "metadata": {},
   "outputs": [],
   "source": [
    "memb = (membrane-packer:build-ga-membrane prot)"
   ]
  },
  {
   "cell_type": "code",
   "execution_count": 69,
   "metadata": {},
   "outputs": [
    {
     "data": {
      "text/plain": [
       "#<AGGREGATE NIL 0>"
      ]
     },
     "execution_count": 69,
     "metadata": {},
     "output_type": "execute_result"
    }
   ],
   "source": [
    "aggtop = (membrane-packer::build-simple-membrane-aggregate memb 10 :top)"
   ]
  },
  {
   "cell_type": "code",
   "execution_count": 70,
   "metadata": {},
   "outputs": [
    {
     "data": {
      "application/vnd.jupyter.widget-view+json": {
       "model_id": "0DCC598A-6691-4C56-81BB-B5A7EFB21BF6",
       "version_major": 2,
       "version_minor": 0
      },
      "text/plain": [
       "#<NGLV:NGLWIDGET>"
      ]
     },
     "execution_count": 70,
     "metadata": {},
     "output_type": "execute_result"
    }
   ],
   "source": [
    "show aggtop"
   ]
  },
  {
   "cell_type": "code",
   "execution_count": 71,
   "metadata": {},
   "outputs": [
    {
     "name": "stdout",
     "output_type": "stream",
     "text": [
      "atom-table -> #<ATOM-TABLE >\n",
      "First atom: #<ATOM :HA/:H 0>\n"
     ]
    },
    {
     "data": {
      "text/plain": [
       "(#<ENERGY-FUNCTION >\n",
       " #*111111111111111111111111111111111111111111111111111111111111111111111111111111111111111111111111111111111111111111111111111111111111111111111111111111111111111111111111111111111111111111111111111111111111111111111111111111111111111111111111111111111111111111111111111111111111111111111111111111111111111111111111111111111111111111111111111111111111111111111111111111111111111111111111111111111111111111111111111111111111111111111111111111111111111111111111111111111111111111111111111111111111111111111111111111111111111111111111111111111111111111111111111111111111111111111111111111111111111111111111111111111111111111111111111111111111111111111111111111111111111111111111111111111111111111111111111111111111111111111111111111111111111111111111111111111111111111111111111111111111111111111111111111111111111111111111111111111111111111111111111111111111111111111111111111111111111111111111111111111111111111111111111111111111111111111111111111111111111111111111111111111111111111111111111111111111111111111111111111111111111111111111111111111111111111111111111111111111111111111111111111111111111111111111111111111111111111111111111111111111111111111111111111111111111111111111111111111111111111111111111111111111111111111111111111111111111111111111111111111111111111111111111111111111111111111111111111111111111111111111111111111111111111111111111111111111111111111111111111111111111111111111111111111111111111111111111111111111111111111111111111111111111111111111111111111111111111111111111111111111111111111111111111111111111111111111111111111111111111111111111111111111111111111111111111111111111111111111111111111111111111111111111111111111111111111111111111111111111111111111111111111111111111111111111111111111111111111111111111111111111111111111111111111111111111111111111111111111111111111111111111111111111111111111111111111111111111111111111111111111111111111111111111111111111111111111111111111111111111111111111111111111111111111111111111111111111111111111111111111111111111111111111111111111111111111111111111111111111111111111111111111111111111111111111111111111111111111111111111111111111111111111111111111111111111111111111111111111111111111111111111111111111111111111111111111111111111111111111111111111111111111111111111111111111111111111111111111111111111111111111111111111111111111111111111111111111111111111111111111111111111111111111111111111111111111111111111111111111111111111111111111111111111111111111111111111111111111111111111111111111111111111111111111111111111111111111111111111111111111111111111111111111111111111111111111111111111111111111111111111111111111111111111111111111111111111111111111111111111111111111111111111111111111111111111111111001001001001001001001001001001001001001001001001001001001001001001001001001001001001001001001001001001001001001001001001001001001001001001001001001001001001001001001001001001001001001001001)"
      ]
     },
     "execution_count": 71,
     "metadata": {},
     "output_type": "execute_result"
    }
   ],
   "source": [
    "ef-frozen = (multiple-value-list (membrane-packer::build-simple-membrane-energy-function memb 10 :top))"
   ]
  },
  {
   "cell_type": "code",
   "execution_count": 72,
   "metadata": {},
   "outputs": [
    {
     "data": {
      "text/plain": [
       "#<ENERGY-FUNCTION >"
      ]
     },
     "execution_count": 72,
     "metadata": {},
     "output_type": "execute_result"
    }
   ],
   "source": [
    "ef = (first ef-frozen)"
   ]
  },
  {
   "cell_type": "code",
   "execution_count": 73,
   "metadata": {},
   "outputs": [
    {
     "data": {
      "text/plain": [
       "NIL"
      ]
     },
     "execution_count": 73,
     "metadata": {},
     "output_type": "execute_result"
    }
   ],
   "source": [
    "(chem:enable-debug ef)"
   ]
  },
  {
   "cell_type": "code",
   "execution_count": 74,
   "metadata": {},
   "outputs": [
    {
     "data": {
      "text/plain": [
       "1.822607109917903d7"
      ]
     },
     "execution_count": 74,
     "metadata": {},
     "output_type": "execute_result"
    }
   ],
   "source": [
    "(chem:calculate-energy-and-force ef)"
   ]
  },
  {
   "cell_type": "code",
   "execution_count": 66,
   "metadata": {},
   "outputs": [
    {
     "name": "stdout",
     "output_type": "stream",
     "text": [
      "atom-table -> #<ATOM-TABLE >\n",
      "First atom: #<ATOM :HA/:H 0>\n"
     ]
    },
    {
     "data": {
      "text/plain": [
       "#<DYNAMICS:SIMULATION>"
      ]
     },
     "execution_count": 66,
     "metadata": {},
     "output_type": "execute_result"
    }
   ],
   "source": [
    "dyn = (membrane-packer::simulate-simple-membrane memb 500)"
   ]
  },
  {
   "cell_type": "code",
   "execution_count": 67,
   "metadata": {},
   "outputs": [
    {
     "data": {
      "application/vnd.jupyter.widget-view+json": {
       "model_id": "94223B34-194E-442F-A33A-2734CE950DCE",
       "version_major": 2,
       "version_minor": 0
      },
      "text/plain": [
       "#<NGLV:NGLWIDGET>"
      ]
     },
     "execution_count": 67,
     "metadata": {},
     "output_type": "execute_result"
    }
   ],
   "source": [
    "show dyn"
   ]
  },
  {
   "cell_type": "code",
   "execution_count": 41,
   "metadata": {},
   "outputs": [
    {
     "data": {
      "text/plain": [
       "1.8190118255775776d7"
      ]
     },
     "execution_count": 41,
     "metadata": {},
     "output_type": "execute_result"
    }
   ],
   "source": [
    "(chem:calculate-energy-and-force ef)"
   ]
  },
  {
   "cell_type": "code",
   "execution_count": 79,
   "metadata": {},
   "outputs": [
    {
     "name": "stdout",
     "output_type": "stream",
     "text": [
      "minimize-no-fail\n",
      "======= Starting Steepest Descent Minimizer\n",
      " minSDnP       0    10     -2.40   0.0       18190224.569              0.003\n",
      " minSDnP       1    20     -2.38   0.0       18190224.419              0.003\n",
      " minSDnP       1    30     -2.36   0.0       18190224.255              0.004\n",
      " minSDnP       2    40     -2.35   0.0       18190224.087              0.004\n",
      " minSDnP       2    50     -2.33   0.0       18190223.919              0.004\n",
      " minSDnP       3    60     -2.32   0.0       18190223.754              0.004\n",
      " minSDnP       3    70     -2.31   0.0       18190223.596              0.003\n",
      " minSDnP       4    80     -2.29   0.0       18190223.453              0.003\n",
      " minSDnP       5    90     -2.29   0.0       18190223.329              0.002\n",
      " minSDnP       5   100     -2.30   0.0       18190223.224              0.002\n",
      " minSDnP       6   110     -2.31   0.0       18190223.132              0.002\n",
      " minSDnP       6   120     -2.33   0.0       18190223.055              0.001\n",
      "---Stage-Seconds--Step-log(Alpha)--Prev.dir--------Energy-----------RMSforce\n",
      " minSDnP       7   129     -2.59   0.0       18190222.995              0.001\n",
      " ! DONE absolute force test:\n",
      " ! forceRmsMag(9.843858e-04) < forceTolerance(1.000000e-03)\n",
      "======= Starting Conjugate Gradient Minimizer\n",
      "---Stage-Seconds--Step-log(Alpha)--Prev.dir--------Energy-----------RMSforce\n",
      " minCGnP       7   129      -inf  90.0       18190222.995              0.001\n",
      " ! DONE absolute force test:\n",
      " ! forceRmsMag(0.000984)<forceTolerance(0.500000)\n",
      "======= Skipping Truncated Newton #steps = 0\n",
      "======= All three minimizers have completed or passed on minimization.\n",
      "Just returned from minimize\n",
      "matter #<AGGREGATE NIL 0>\n"
     ]
    },
    {
     "data": {
      "text/plain": [
       "(#<ENERGY-FUNCTION > #<DYNAMICS:TRAJECTORY>)"
      ]
     },
     "execution_count": 79,
     "metadata": {},
     "output_type": "execute_result"
    }
   ],
   "source": [
    "ef-traj = (multiple-value-list (energy:minimize-energy-function ef :sd-tolerance 0.001 :frozen (second ef-frozen) :save-trajectory t))"
   ]
  },
  {
   "cell_type": "code",
   "execution_count": 76,
   "metadata": {},
   "outputs": [
    {
     "data": {
      "application/vnd.jupyter.widget-view+json": {
       "model_id": "71AFE7CE-2156-43FC-8F30-DE483590AA23",
       "version_major": 2,
       "version_minor": 0
      },
      "text/plain": [
       "#<NGLV:NGLWIDGET>"
      ]
     },
     "execution_count": 76,
     "metadata": {},
     "output_type": "execute_result"
    }
   ],
   "source": [
    "show (chem:get-matter (first ef-traj))"
   ]
  },
  {
   "cell_type": "code",
   "execution_count": 77,
   "metadata": {},
   "outputs": [
    {
     "name": "stderr",
     "output_type": "stream",
     "text": [
      "\n",
      "An error occurred of type: NO-APPLICABLE-METHOD-ERROR: \n",
      "  No applicable method for SHOW with arguments\n",
      " (NIL)\n",
      "\n",
      "serious-condition backtrace:\n",
      "0: (ERROR CLOS:NO-APPLICABLE-METHOD-ERROR :GENERIC-FUNCTION #<STANDARD-GENERIC-FUNCTION SHOW> :ARGUMENTS (NIL))\n",
      "1: ((METHOD NO-APPLICABLE-METHOD ((T))) #<VA-LIST: (#<STANDARD-GENERIC-FUNCTION SHOW> NIL)> NIL)\n",
      "2: (PERFORM-OUTCOME #(CLOS::OUTCOME CLOS::EFFECTIVE-METHOD-OUTCOME (#<STANDARD-METHOD NO-APPLICABLE-METHOD (T)>) NIL #<FUNCTION (METHOD NO-APPLICABLE-METHOD (T))>) (#<STANDARD-GENERIC-FUNCTION SHOW> NIL) #<VA-LIST: (#<STANDARD-GENERIC-FUNCTION SHOW> NIL)>)\n",
      "3: (DO-DISPATCH-MISS #<STANDARD-GENERIC-FUNCTION NO-APPLICABLE-METHOD> #<VA-LIST: (#<STANDARD-GENERIC-FUNCTION SHOW> NIL)> (#<STANDARD-GENERIC-FUNCTION SHOW> NIL))\n",
      "4: (DISPATCH-MISS #<STANDARD-GENERIC-FUNCTION NO-APPLICABLE-METHOD> #<STANDARD-GENERIC-FUNCTION SHOW> NIL)\n",
      "5: (APPLY #<FUNCTION CLOS::DISPATCH-MISS> #<STANDARD-GENERIC-FUNCTION NO-APPLICABLE-METHOD> #<VA-LIST: (#<STANDARD-GENERIC-FUNCTION SHOW> NIL)>)\n",
      "6: (INVALIDATED-DISPATCH-FUNCTION #<STANDARD-GENERIC-FUNCTION NO-APPLICABLE-METHOD> #<VA-LIST: (#<STANDARD-GENERIC-FUNCTION SHOW> NIL)>)\n",
      "7: (INVALIDATED-DISCRIMINATING-FUNCTION #<STANDARD-GENERIC-FUNCTION SHOW> NIL)\n",
      "8: (APPLY #<STANDARD-GENERIC-FUNCTION NO-APPLICABLE-METHOD> #<STANDARD-GENERIC-FUNCTION SHOW> #<VA-LIST: (NIL)>)\n",
      "9: (LAMBDA #<VA-LIST: (NIL)> NIL)\n",
      "10: (PERFORM-OUTCOME #(CLOS::OUTCOME CLOS::EFFECTIVE-METHOD-OUTCOME NIL NIL #<FUNCTION LAMBDA>) (NIL) #<VA-LIST: (NIL)>)\n",
      "11: (DO-DISPATCH-MISS #<STANDARD-GENERIC-FUNCTION SHOW> #<VA-LIST: (NIL)> (NIL))\n",
      "12: (DISPATCH-MISS #<STANDARD-GENERIC-FUNCTION SHOW> NIL)\n",
      "13: (APPLY #<FUNCTION CLOS::DISPATCH-MISS> #<STANDARD-GENERIC-FUNCTION SHOW> #<VA-LIST: (NIL)>)\n",
      "14: (DISPATCH-MISS-VA #<STANDARD-GENERIC-FUNCTION SHOW> #<VA-LIST: (NIL)>)\n",
      "15: (INTERPRETED-DISCRIMINATING-FUNCTION NIL)\n",
      "16: (LEAP.SHOW NIL)\n",
      "17: (APPLY LEAP.COMMANDS::LEAP.SHOW (NIL))\n",
      "18: (LAMBDA #<FUNCTION LAMBDA> :INSTRUCTION NIL (:FUNCTION (:ARGUMENT (((:S-EXPR NIL :VALUE (SECOND EF-TRAJ) :BOUNDS (5 . 21))))) :NAME \"show\" :BOUNDS (0 . 21)) :FUNCTION (:ARGUMENT) :NAME \"show\" :BOUNDS (0 . 21))\n",
      "19: (APPLY #<FUNCTION LAMBDA> #<FUNCTION LAMBDA> :INSTRUCTION NIL (:FUNCTION (:ARGUMENT (((:S-EXPR NIL :VALUE (SECOND EF-TRAJ) :BOUNDS (5 . 21))))) :NAME \"show\" :BOUNDS (0 . 21)) :FUNCTION (:ARGUMENT) (:NAME \"show\" :BOUNDS (0 . 21)))\n",
      "20: (LAMBDA #<FUNCTION LAMBDA> LIST :INSTRUCTION NIL (:FUNCTION (:ARGUMENT (((:S-EXPR NIL :VALUE (SECOND EF-TRAJ) :BOUNDS (5 . 21))))) :NAME \"show\" :BOUNDS (0 . 21)))\n",
      "21: (MULTIPLE-VALUE-FUNCALL #<FUNCTION LAMBDA> #<FUNCTION LAMBDA> #<FUNCTION LAMBDA>)\n",
      "22: (LAMBDA NIL (:FUNCTION (:ARGUMENT (((:S-EXPR NIL :VALUE (SECOND EF-TRAJ) :BOUNDS (5 . 21))))) :NAME \"show\" :BOUNDS (0 . 21)))\n",
      "23: (LAMBDA)\n",
      "24: (LAMBDA #<FUNCTION LAMBDA> NIL NIL (:LEAP (:INSTRUCTION (((:FUNCTION (:ARGUMENT (((:S-EXPR NIL :VALUE (SECOND EF-TRAJ) :BOUNDS (5 . 21))))) :NAME \"show\" :BOUNDS (0 . 21))))) :BOUNDS (0 . 21)) :LEAP (:INSTRUCTION) :BOUNDS (0 . 21))\n",
      "25: (APPLY #<FUNCTION LAMBDA> #<FUNCTION LAMBDA> NIL NIL (:LEAP (:INSTRUCTION (((:FUNCTION (:ARGUMENT (((:S-EXPR NIL :VALUE (SECOND EF-TRAJ) :BOUNDS (5 . 21))))) :NAME \"show\" :BOUNDS (0 . 21))))) :BOUNDS (0 . 21)) :LEAP (:INSTRUCTION) (:BOUNDS (0 . 21)))\n",
      "26: (LAMBDA #<FUNCTION LAMBDA> LIST NIL NIL (:LEAP (:INSTRUCTION (((:FUNCTION (:ARGUMENT (((:S-EXPR NIL :VALUE (SECOND EF-TRAJ) :BOUNDS (5 . 21))))) :NAME \"show\" :BOUNDS (0 . 21))))) :BOUNDS (0 . 21)))\n",
      "27: (%WALK-NODES NIL #<FUNCTION LAMBDA> LIST (:LEAP (:INSTRUCTION (((:FUNCTION (:ARGUMENT (((:S-EXPR NIL :VALUE (SECOND EF-TRAJ) :BOUNDS (5 . 21))))) :NAME \"show\" :BOUNDS (0 . 21))))) :BOUNDS (0 . 21)))\n",
      "28: (_WALK-NODES^ARCHITECTURE.BUILDER-PROTOCOL^((T LIST #<FUNCTION LAMBDA> (:LEAP (:INSTRUCTION (((:FUNCTION (:ARGUMENT (((:S-EXPR NIL :VALUE (SECOND EF-TRAJ) :BOUNDS (5 . 21))))) :NAME \"show\" :BOUNDS (0 . 21))))) :BOUNDS (0 . 21)))\n",
      "29: (INTERPRETED-DISCRIMINATING-FUNCTION LIST #<FUNCTION LAMBDA> (:LEAP (:INSTRUCTION (((:FUNCTION (:ARGUMENT (((:S-EXPR NIL :VALUE (SECOND EF-TRAJ) :BOUNDS (5 . 21))))) :NAME \"show\" :BOUNDS (0 . 21))))) :BOUNDS (0 . 21)))\n",
      "30: (EVALUATE LIST (:LEAP (:INSTRUCTION (((:FUNCTION (:ARGUMENT (((:S-EXPR NIL :VALUE (SECOND EF-TRAJ) :BOUNDS (5 . 21))))) :NAME \"show\" :BOUNDS (0 . 21))))) :BOUNDS (0 . 21)) #<LEAP.CORE::LEAP-ENVIRONMENT>)\n",
      "31: (LAMBDA)\n",
      "\n"
     ]
    },
    {
     "data": {
      "text/plain": [
       "NIL"
      ]
     },
     "execution_count": 77,
     "metadata": {},
     "output_type": "execute_result"
    }
   ],
   "source": [
    "show (second ef-traj)"
   ]
  },
  {
   "cell_type": "code",
   "execution_count": 156,
   "metadata": {},
   "outputs": [
    {
     "name": "stdout",
     "output_type": "stream",
     "text": [
      "#<ATOM :LIPID0/:N 0> '( -20.4791 8.51047 11.5731)\n",
      "#<ATOM :LIPID1/:N 0> '( 3.2829 -20.2805 12.4683)\n",
      "#<ATOM :LIPID2/:N 0> '( -21.9582 -10.4142 10.6889)\n",
      "#<ATOM :LIPID3/:N 0> '( -15.2634 -17.5549 10.1873)\n",
      "#<ATOM :LIPID4/:N 0> '( 14.6988 17.3788 11.5247)\n",
      "#<ATOM :LIPID5/:N 0> '( 34.2094 35.487 11.9156)\n",
      "#<ATOM :LIPID6/:N 0> '( 25.3496 35.2784 11.4151)\n",
      "#<ATOM :LIPID7/:N 0> '( 15.1856 35.218 10.964)\n",
      "#<ATOM :LIPID8/:N 0> '( 4.84139 35.0551 11.5853)\n",
      "#<ATOM :LIPID9/:N 0> '( -5.06995 34.4739 12.4682)\n",
      "#<ATOM :LIPID10/:N 0> '( -14.8885 35.8077 12.0683)\n",
      "#<ATOM :LIPID11/:N 0> '( -25.0493 35.8056 12.0932)\n",
      "#<ATOM :LIPID12/:N 0> '( -35.083 34.9942 10.8083)\n",
      "#<ATOM :LIPID13/:N 0> '( 30.5573 26.2691 11.6989)\n",
      "#<ATOM :LIPID14/:N 0> '( 20.8484 26.2054 11.5226)\n",
      "#<ATOM :LIPID15/:N 0> '( 9.53327 25.9827 11.2944)\n",
      "#<ATOM :LIPID16/:N 0> '( -0.106402 25.5784 11.8472)\n",
      "#<ATOM :LIPID17/:N 0> '( -9.74146 26.4151 11.5763)\n",
      "#<ATOM :LIPID18/:N 0> '( -19.6583 25.6068 10.2469)\n",
      "#<ATOM :LIPID19/:N 0> '( -30.0507 25.8305 12.0868)\n",
      "#<ATOM :LIPID20/:N 0> '( -40.1263 25.5208 12.1745)\n",
      "#<ATOM :LIPID21/:N 0> '( 34.7467 17.3142 12.1131)\n",
      "#<ATOM :LIPID22/:N 0> '( 25.5324 16.957 10.3616)\n",
      "#<ATOM :LIPID23/:N 0> '( -25.58 17.3637 12.4513)\n",
      "#<ATOM :LIPID24/:N 0> '( -35.4017 17.9019 11.8676)\n",
      "#<ATOM :LIPID25/:N 0> '( 30.0376 8.42197 11.3272)\n",
      "#<ATOM :LIPID26/:N 0> '( -30.1652 8.41854 11.1293)\n",
      "#<ATOM :LIPID27/:N 0> '( -40.4479 9.05541 11.4449)\n",
      "#<ATOM :LIPID28/:N 0> '( 35.9904 -0.457545 13.2254)\n",
      "#<ATOM :LIPID29/:N 0> '( -35.5037 -0.300477 10.501)\n",
      "#<ATOM :LIPID30/:N 0> '( 31.1083 -8.61078 12.0299)\n",
      "#<ATOM :LIPID31/:N 0> '( -30.1794 -8.30475 12.3336)\n",
      "#<ATOM :LIPID32/:N 0> '( -40.8153 -9.25631 13.2413)\n",
      "#<ATOM :LIPID33/:N 0> '( 35.3303 -17.1838 11.1802)\n",
      "#<ATOM :LIPID34/:N 0> '( 24.8661 -16.765 11.5119)\n",
      "#<ATOM :LIPID35/:N 0> '( 14.926 -17.6942 12.713)\n",
      "#<ATOM :LIPID36/:N 0> '( -5.07516 -17.9912 10.7906)\n",
      "#<ATOM :LIPID37/:N 0> '( -24.8401 -17.9879 10.9556)\n",
      "#<ATOM :LIPID38/:N 0> '( -35.2262 -17.5275 13.088)\n",
      "#<ATOM :LIPID39/:N 0> '( 30.5643 -26.3368 13.1863)\n",
      "#<ATOM :LIPID40/:N 0> '( 20.567 -25.958 12.1879)\n",
      "#<ATOM :LIPID41/:N 0> '( 9.89592 -26.7729 11.9519)\n",
      "#<ATOM :LIPID42/:N 0> '( -0.492608 -26.0167 10.6939)\n",
      "#<ATOM :LIPID43/:N 0> '( -9.95144 -26.4061 11.6498)\n",
      "#<ATOM :LIPID44/:N 0> '( -20.7505 -25.7107 11.9682)\n",
      "#<ATOM :LIPID45/:N 0> '( -29.9438 -25.6226 11.7369)\n",
      "#<ATOM :LIPID46/:N 0> '( -40.754 -26.0329 11.8714)\n",
      "#<ATOM :LIPID47/:N 0> '( 34.7461 -34.2034 12.6659)\n",
      "#<ATOM :LIPID48/:N 0> '( 25.0121 -35.0707 10.9502)\n",
      "#<ATOM :LIPID49/:N 0> '( 15.2472 -35.1934 12.7303)\n",
      "#<ATOM :LIPID50/:N 0> '( 4.98996 -34.8886 12.6938)\n",
      "#<ATOM :LIPID51/:N 0> '( -4.45855 -34.9085 11.9691)\n",
      "#<ATOM :LIPID52/:N 0> '( -15.6466 -34.8816 11.1435)\n",
      "#<ATOM :LIPID53/:N 0> '( -25.2085 -34.7646 13.1927)\n",
      "#<ATOM :LIPID54/:N 0> '( -35.3646 -34.9672 10.9869)\n",
      "#<ATOM :LIPID55/:N 0> '( 30.6624 -44.4726 11.4696)\n",
      "#<ATOM :LIPID56/:N 0> '( 19.3821 -43.8022 11.6982)\n",
      "#<ATOM :LIPID57/:N 0> '( 9.13111 -43.4295 11.9512)\n",
      "#<ATOM :LIPID58/:N 0> '( 0.0294183 -43.3444 11.5783)\n",
      "#<ATOM :LIPID59/:N 0> '( -9.85951 -43.2966 10.2657)\n",
      "#<ATOM :LIPID60/:N 0> '( -20.1352 -44.0022 12.274)\n",
      "#<ATOM :LIPID61/:N 0> '( -30.2963 -44.0781 11.7809)\n",
      "#<ATOM :LIPID62/:N 0> '( -40.842 -43.7303 12.055)\n"
     ]
    },
    {
     "data": {
      "text/plain": [
       "NIL"
      ]
     },
     "execution_count": 156,
     "metadata": {},
     "output_type": "execute_result"
    }
   ],
   "source": [
    "(cando:do-atoms (atm (chem:get-matter ef)) (when (eq (chem:get-type atm) :lipid0) (format t \"~a ~a~%\" atm (chem:get-position atm))))"
   ]
  },
  {
   "cell_type": "code",
   "execution_count": 32,
   "metadata": {},
   "outputs": [
    {
     "name": "stderr",
     "output_type": "stream",
     "text": [
      "\n",
      "An error occurred of type: SIMPLE-PROGRAM-ERROR: \n",
      "  There are no applicable methods of MINIMIZE for receiver class ENERGY-FUNCTION\n",
      "\n",
      "serious-condition backtrace:\n",
      "0: (ERROR CORE:SIMPLE-PROGRAM-ERROR :FORMAT-CONTROL \"There are no applicable methods of MINIMIZE for receiver class ENERGY-FUNCTION\" :FORMAT-ARGUMENTS NIL)\n",
      "1: (APPLY #<FUNCTION ERROR> CORE:SIMPLE-PROGRAM-ERROR :FORMAT-CONTROL \"There are no applicable methods of MINIMIZE for receiver class ENERGY-FUNCTION\" :FORMAT-ARGUMENTS NIL NIL)\n",
      "2: (SIGNAL-SIMPLE-ERROR CORE:SIMPLE-PROGRAM-ERROR NIL \"There are no applicable methods of MINIMIZE for receiver class ENERGY-FUNCTION\" NIL)\n",
      "3: (LAMBDA)\n",
      "\n"
     ]
    },
    {
     "data": {
      "text/plain": [
       "NIL"
      ]
     },
     "execution_count": 32,
     "metadata": {},
     "output_type": "execute_result"
    }
   ],
   "source": [
    "(chem:minimize ef)"
   ]
  },
  {
   "cell_type": "code",
   "execution_count": 30,
   "metadata": {},
   "outputs": [
    {
     "data": {
      "text/plain": [
       "#<AGGREGATE NIL 0>"
      ]
     },
     "execution_count": 30,
     "metadata": {},
     "output_type": "execute_result"
    }
   ],
   "source": [
    "agg = (membrane-packer::build-aggregate-from-ga-membrane memb)"
   ]
  },
  {
   "cell_type": "code",
   "execution_count": 25,
   "metadata": {},
   "outputs": [
    {
     "data": {
      "application/vnd.jupyter.widget-view+json": {
       "model_id": "C9EA414E-30D3-4681-B389-15BB289EFCBB",
       "version_major": 2,
       "version_minor": 0
      },
      "text/plain": [
       "#<NGLV:NGLWIDGET>"
      ]
     },
     "execution_count": 25,
     "metadata": {},
     "output_type": "execute_result"
    }
   ],
   "source": [
    "show agg"
   ]
  },
  {
   "cell_type": "code",
   "execution_count": 28,
   "metadata": {},
   "outputs": [
    {
     "name": "stdout",
     "output_type": "stream",
     "text": [
      "There are 57 top-lipids\n",
      "Generation 0   size 200\n",
      "  ... least collisions -> (423 424 425 445 449 452 459 459 464 469)\n",
      "About to mutate-collisions\n",
      "About to randomly-mutate-membanes\n",
      "About to randomly-shift-lipids-in-membranes\n",
      "Generation 1   size 200\n",
      "  ... least collisions -> (348 359 374 389 395 398 403 407 414 415)\n",
      "About to mutate-collisions\n",
      "About to randomly-mutate-membanes\n",
      "About to randomly-shift-lipids-in-membranes\n",
      "Generation 2   size 200\n",
      "  ... least collisions -> (337 358 365 369 370 372 376 376 376 379)\n",
      "About to mutate-collisions\n",
      "About to randomly-mutate-membanes\n",
      "About to randomly-shift-lipids-in-membranes\n",
      "Generation 3   size 200\n",
      "  ... least collisions -> (292 322 323 343 343 345 346 352 352 352)\n",
      "About to mutate-collisions\n",
      "About to randomly-mutate-membanes\n",
      "About to randomly-shift-lipids-in-membranes\n",
      "Generation 4   size 200\n",
      "  ... least collisions -> (308 309 311 313 315 317 323 328 328 331)\n",
      "About to mutate-collisions\n",
      "About to randomly-mutate-membanes\n",
      "About to randomly-shift-lipids-in-membranes\n",
      "Generation 5   size 200\n",
      "  ... least collisions -> (294 298 300 309 310 314 316 319 319 319)\n",
      "About to mutate-collisions\n",
      "About to randomly-mutate-membanes\n",
      "About to randomly-shift-lipids-in-membranes\n",
      "Generation 6   size 200\n",
      "  ... least collisions -> (282 301 302 305 307 314 315 315 316 317)\n",
      "About to mutate-collisions\n",
      "About to randomly-mutate-membanes\n",
      "About to randomly-shift-lipids-in-membranes\n",
      "Generation 7   size 200\n",
      "  ... least collisions -> (295 305 307 308 315 317 318 318 319 322)\n",
      "About to mutate-collisions\n",
      "About to randomly-mutate-membanes\n",
      "About to randomly-shift-lipids-in-membranes\n",
      "Generation 8   size 200\n",
      "  ... least collisions -> (280 286 301 303 303 304 305 306 314 314)\n",
      "About to mutate-collisions\n",
      "About to randomly-mutate-membanes\n",
      "About to randomly-shift-lipids-in-membranes\n",
      "Generation 9   size 200\n",
      "  ... least collisions -> (244 256 263 264 265 271 274 277 277 278)\n",
      "About to mutate-collisions\n",
      "About to randomly-mutate-membanes\n",
      "About to randomly-shift-lipids-in-membranes\n",
      "Generation 10  size 200\n",
      "  ... least collisions -> (279 281 285 287 287 289 291 292 296 300)\n",
      "About to mutate-collisions\n",
      "About to randomly-mutate-membanes\n",
      "About to randomly-shift-lipids-in-membranes\n",
      "Generation 11  size 200\n",
      "  ... least collisions -> (204 207 220 231 244 249 251 254 258 264)\n",
      "About to mutate-collisions\n",
      "About to randomly-mutate-membanes\n",
      "About to randomly-shift-lipids-in-membranes\n",
      "Generation 12  size 200\n",
      "  ... least collisions -> (244 244 261 262 269 273 275 277 283 287)\n",
      "About to mutate-collisions\n",
      "About to randomly-mutate-membanes\n",
      "About to randomly-shift-lipids-in-membranes\n",
      "Generation 13  size 200\n",
      "  ... least collisions -> (229 261 263 276 283 283 284 290 291 293)\n",
      "About to mutate-collisions\n",
      "About to randomly-mutate-membanes\n",
      "About to randomly-shift-lipids-in-membranes\n",
      "Generation 14  size 200\n",
      "  ... least collisions -> (210 210 210 226 245 252 252 252 269 270)\n",
      "About to mutate-collisions\n",
      "About to randomly-mutate-membanes\n",
      "About to randomly-shift-lipids-in-membranes\n",
      "Generation 15  size 200\n",
      "  ... least collisions -> (254 257 262 262 273 278 279 280 280 284)\n",
      "About to mutate-collisions\n",
      "About to randomly-mutate-membanes\n",
      "About to randomly-shift-lipids-in-membranes\n",
      "Generation 16  size 200\n",
      "  ... least collisions -> (249 255 262 264 267 268 270 274 274 275)\n",
      "About to mutate-collisions\n",
      "About to randomly-mutate-membanes\n",
      "About to randomly-shift-lipids-in-membranes\n",
      "Generation 17  size 200\n",
      "  ... least collisions -> (234 265 282 283 285 286 288 288 289 290)\n",
      "About to mutate-collisions\n",
      "About to randomly-mutate-membanes\n",
      "About to randomly-shift-lipids-in-membranes\n",
      "Generation 18  size 200\n",
      "  ... least collisions -> (205 239 243 243 265 266 270 273 273 276)\n",
      "About to mutate-collisions\n",
      "About to randomly-mutate-membanes\n",
      "About to randomly-shift-lipids-in-membranes\n",
      "Generation 19  size 200\n",
      "  ... least collisions -> (234 246 252 270 281 282 285 286 291 294)\n",
      "About to mutate-collisions\n",
      "About to randomly-mutate-membanes\n",
      "About to randomly-shift-lipids-in-membranes\n",
      "Generation 20  size 200\n",
      "  ... least collisions -> (224 257 262 280 291 292 293 298 300 301)\n",
      "About to mutate-collisions\n",
      "About to randomly-mutate-membanes\n",
      "About to randomly-shift-lipids-in-membranes\n",
      "Generation 21  size 200\n",
      "  ... least collisions -> (239 249 258 270 274 277 277 283 286 289)\n",
      "About to mutate-collisions\n",
      "About to randomly-mutate-membanes\n",
      "About to randomly-shift-lipids-in-membranes\n",
      "Generation 22  size 200\n",
      "  ... least collisions -> (249 269 271 279 286 287 288 289 290 291)\n",
      "About to mutate-collisions\n",
      "About to randomly-mutate-membanes\n",
      "About to randomly-shift-lipids-in-membranes\n",
      "Generation 23  size 200\n",
      "  ... least collisions -> (247 262 273 275 278 292 292 297 298 308)\n",
      "About to mutate-collisions\n",
      "About to randomly-mutate-membanes\n",
      "About to randomly-shift-lipids-in-membranes\n",
      "Generation 24  size 200\n",
      "  ... least collisions -> (251 271 276 284 284 289 292 298 304 308)\n",
      "About to mutate-collisions\n",
      "About to randomly-mutate-membanes\n",
      "About to randomly-shift-lipids-in-membranes\n",
      "Generation 25  size 200\n",
      "  ... least collisions -> (275 281 284 290 290 292 301 301 305 305)\n",
      "About to mutate-collisions\n",
      "About to randomly-mutate-membanes\n",
      "About to randomly-shift-lipids-in-membranes\n",
      "Generation 26  size 200\n",
      "  ... least collisions -> (274 280 288 295 298 298 300 303 317 318)\n",
      "About to mutate-collisions\n",
      "About to randomly-mutate-membanes\n",
      "About to randomly-shift-lipids-in-membranes\n",
      "Generation 27  size 200\n",
      "  ... least collisions -> (294 294 299 301 305 306 306 307 307 311)\n",
      "About to mutate-collisions\n",
      "About to randomly-mutate-membanes\n",
      "About to randomly-shift-lipids-in-membranes\n",
      "Generation 28  size 200\n",
      "  ... least collisions -> (293 299 300 302 302 308 308 311 313 314)\n",
      "About to mutate-collisions\n",
      "About to randomly-mutate-membanes\n",
      "About to randomly-shift-lipids-in-membranes\n",
      "Generation 29  size 200\n",
      "  ... least collisions -> (265 274 281 286 294 298 300 300 301 302)\n",
      "About to mutate-collisions\n",
      "About to randomly-mutate-membanes\n",
      "About to randomly-shift-lipids-in-membranes\n",
      "Generation 30  size 200\n",
      "  ... least collisions -> (258 275 275 276 286 286 289 290 290 290)\n",
      "About to mutate-collisions\n",
      "About to randomly-mutate-membanes\n",
      "About to randomly-shift-lipids-in-membranes\n",
      "Generation 31  size 200\n",
      "  ... least collisions -> (261 272 272 274 277 278 278 280 282 284)\n",
      "About to mutate-collisions\n",
      "About to randomly-mutate-membanes\n",
      "About to randomly-shift-lipids-in-membranes\n",
      "Generation 32  size 200\n",
      "  ... least collisions -> (244 252 261 262 262 265 266 269 271 279)\n",
      "About to mutate-collisions\n",
      "About to randomly-mutate-membanes\n",
      "About to randomly-shift-lipids-in-membranes\n",
      "Generation 33  size 200\n",
      "  ... least collisions -> (224 234 238 244 245 246 252 255 259 263)\n",
      "About to mutate-collisions\n",
      "About to randomly-mutate-membanes\n",
      "About to randomly-shift-lipids-in-membranes\n",
      "Generation 34  size 200\n",
      "  ... least collisions -> (234 242 255 257 265 267 268 269 271 276)\n",
      "About to mutate-collisions\n",
      "About to randomly-mutate-membanes\n",
      "About to randomly-shift-lipids-in-membranes\n",
      "Generation 35  size 200\n",
      "  ... least collisions -> (197 207 209 222 224 224 227 227 229 229)\n",
      "About to mutate-collisions\n",
      "About to randomly-mutate-membanes\n",
      "About to randomly-shift-lipids-in-membranes\n",
      "Generation 36  size 200\n",
      "  ... least collisions -> (197 198 200 210 215 217 222 223 225 226)\n",
      "About to mutate-collisions\n",
      "About to randomly-mutate-membanes\n",
      "About to randomly-shift-lipids-in-membranes\n",
      "Generation 37  size 200\n",
      "  ... least collisions -> (177 182 194 201 209 210 216 218 219 220)\n",
      "About to mutate-collisions\n",
      "About to randomly-mutate-membanes\n",
      "About to randomly-shift-lipids-in-membranes\n",
      "Generation 38  size 200\n",
      "  ... least collisions -> (188 222 228 232 233 241 244 247 248 254)\n",
      "About to mutate-collisions\n",
      "About to randomly-mutate-membanes\n",
      "About to randomly-shift-lipids-in-membranes\n",
      "Generation 39  size 200\n",
      "  ... least collisions -> (172 187 189 193 197 199 199 204 209 211)\n",
      "About to mutate-collisions\n",
      "About to randomly-mutate-membanes\n",
      "About to randomly-shift-lipids-in-membranes\n",
      "Generation 40  size 200\n",
      "  ... least collisions -> (183 190 196 200 205 207 208 208 210 210)\n"
     ]
    },
    {
     "name": "stderr",
     "output_type": "stream",
     "text": [
      "\n",
      "We should fill in a few more lipids from solute-colliders to fill in the membrane\n",
      "\n",
      "We should fill in a few more lipids from solute-colliders to fill in the membrane\n"
     ]
    },
    {
     "data": {
      "text/plain": [
       "(#<MEMBRANE-PACKER::SCORED-MEMBRANE> #<MEMBRANE-PACKER::SCORED-MEMBRANE>\n",
       " #<MEMBRANE-PACKER::SCORED-MEMBRANE> #<MEMBRANE-PACKER::SCORED-MEMBRANE>\n",
       " #<MEMBRANE-PACKER::SCORED-MEMBRANE> #<MEMBRANE-PACKER::SCORED-MEMBRANE>\n",
       " #<MEMBRANE-PACKER::SCORED-MEMBRANE> #<MEMBRANE-PACKER::SCORED-MEMBRANE>\n",
       " #<MEMBRANE-PACKER::SCORED-MEMBRANE> #<MEMBRANE-PACKER::SCORED-MEMBRANE>\n",
       " #<MEMBRANE-PACKER::SCORED-MEMBRANE> #<MEMBRANE-PACKER::SCORED-MEMBRANE>\n",
       " #<MEMBRANE-PACKER::SCORED-MEMBRANE> #<MEMBRANE-PACKER::SCORED-MEMBRANE>\n",
       " #<MEMBRANE-PACKER::SCORED-MEMBRANE> #<MEMBRANE-PACKER::SCORED-MEMBRANE>\n",
       " #<MEMBRANE-PACKER::SCORED-MEMBRANE> #<MEMBRANE-PACKER::SCORED-MEMBRANE>\n",
       " #<MEMBRANE-PACKER::SCORED-MEMBRANE> #<MEMBRANE-PACKER::SCORED-MEMBRANE>\n",
       " #<MEMBRANE-PACKER::SCORED-MEMBRANE> #<MEMBRANE-PACKER::SCORED-MEMBRANE>\n",
       " #<MEMBRANE-PACKER::SCORED-MEMBRANE> #<MEMBRANE-PACKER::SCORED-MEMBRANE>\n",
       " #<MEMBRANE-PACKER::SCORED-MEMBRANE> #<MEMBRANE-PACKER::SCORED-MEMBRANE>\n",
       " #<MEMBRANE-PACKER::SCORED-MEMBRANE> #<MEMBRANE-PACKER::SCORED-MEMBRANE>\n",
       " #<MEMBRANE-PACKER::SCORED-MEMBRANE> #<MEMBRANE-PACKER::SCORED-MEMBRANE>\n",
       " #<MEMBRANE-PACKER::SCORED-MEMBRANE> #<MEMBRANE-PACKER::SCORED-MEMBRANE>\n",
       " #<MEMBRANE-PACKER::SCORED-MEMBRANE> #<MEMBRANE-PACKER::SCORED-MEMBRANE>\n",
       " #<MEMBRANE-PACKER::SCORED-MEMBRANE> #<MEMBRANE-PACKER::SCORED-MEMBRANE>\n",
       " #<MEMBRANE-PACKER::SCORED-MEMBRANE> #<MEMBRANE-PACKER::SCORED-MEMBRANE>\n",
       " #<MEMBRANE-PACKER::SCORED-MEMBRANE> #<MEMBRANE-PACKER::SCORED-MEMBRANE>\n",
       " #<MEMBRANE-PACKER::SCORED-MEMBRANE> #<MEMBRANE-PACKER::SCORED-MEMBRANE>\n",
       " #<MEMBRANE-PACKER::SCORED-MEMBRANE> #<MEMBRANE-PACKER::SCORED-MEMBRANE>\n",
       " #<MEMBRANE-PACKER::SCORED-MEMBRANE> #<MEMBRANE-PACKER::SCORED-MEMBRANE>\n",
       " #<MEMBRANE-PACKER::SCORED-MEMBRANE> #<MEMBRANE-PACKER::SCORED-MEMBRANE>\n",
       " #<MEMBRANE-PACKER::SCORED-MEMBRANE> #<MEMBRANE-PACKER::SCORED-MEMBRANE>\n",
       " #<MEMBRANE-PACKER::SCORED-MEMBRANE> #<MEMBRANE-PACKER::SCORED-MEMBRANE>\n",
       " #<MEMBRANE-PACKER::SCORED-MEMBRANE> #<MEMBRANE-PACKER::SCORED-MEMBRANE>\n",
       " #<MEMBRANE-PACKER::SCORED-MEMBRANE> #<MEMBRANE-PACKER::SCORED-MEMBRANE>\n",
       " #<MEMBRANE-PACKER::SCORED-MEMBRANE> #<MEMBRANE-PACKER::SCORED-MEMBRANE>\n",
       " #<MEMBRANE-PACKER::SCORED-MEMBRANE> #<MEMBRANE-PACKER::SCORED-MEMBRANE>\n",
       " #<MEMBRANE-PACKER::SCORED-MEMBRANE> #<MEMBRANE-PACKER::SCORED-MEMBRANE>\n",
       " #<MEMBRANE-PACKER::SCORED-MEMBRANE> #<MEMBRANE-PACKER::SCORED-MEMBRANE>\n",
       " #<MEMBRANE-PACKER::SCORED-MEMBRANE> #<MEMBRANE-PACKER::SCORED-MEMBRANE>\n",
       " #<MEMBRANE-PACKER::SCORED-MEMBRANE> #<MEMBRANE-PACKER::SCORED-MEMBRANE>\n",
       " #<MEMBRANE-PACKER::SCORED-MEMBRANE> #<MEMBRANE-PACKER::SCORED-MEMBRANE>\n",
       " #<MEMBRANE-PACKER::SCORED-MEMBRANE> #<MEMBRANE-PACKER::SCORED-MEMBRANE>\n",
       " #<MEMBRANE-PACKER::SCORED-MEMBRANE> #<MEMBRANE-PACKER::SCORED-MEMBRANE>\n",
       " #<MEMBRANE-PACKER::SCORED-MEMBRANE> #<MEMBRANE-PACKER::SCORED-MEMBRANE>\n",
       " #<MEMBRANE-PACKER::SCORED-MEMBRANE> #<MEMBRANE-PACKER::SCORED-MEMBRANE>\n",
       " #<MEMBRANE-PACKER::SCORED-MEMBRANE> #<MEMBRANE-PACKER::SCORED-MEMBRANE>\n",
       " #<MEMBRANE-PACKER::SCORED-MEMBRANE> #<MEMBRANE-PACKER::SCORED-MEMBRANE>\n",
       " #<MEMBRANE-PACKER::SCORED-MEMBRANE> #<MEMBRANE-PACKER::SCORED-MEMBRANE>\n",
       " #<MEMBRANE-PACKER::SCORED-MEMBRANE> #<MEMBRANE-PACKER::SCORED-MEMBRANE>\n",
       " #<MEMBRANE-PACKER::SCORED-MEMBRANE> #<MEMBRANE-PACKER::SCORED-MEMBRANE>\n",
       " #<MEMBRANE-PACKER::SCORED-MEMBRANE> #<MEMBRANE-PACKER::SCORED-MEMBRANE>\n",
       " #<MEMBRANE-PACKER::SCORED-MEMBRANE> #<MEMBRANE-PACKER::SCORED-MEMBRANE>\n",
       " #<MEMBRANE-PACKER::SCORED-MEMBRANE> #<MEMBRANE-PACKER::SCORED-MEMBRANE>\n",
       " #<MEMBRANE-PACKER::SCORED-MEMBRANE> #<MEMBRANE-PACKER::SCORED-MEMBRANE>\n",
       " #<MEMBRANE-PACKER::SCORED-MEMBRANE> #<MEMBRANE-PACKER::SCORED-MEMBRANE>\n",
       " #<MEMBRANE-PACKER::SCORED-MEMBRANE> #<MEMBRANE-PACKER::SCORED-MEMBRANE>\n",
       " #<MEMBRANE-PACKER::SCORED-MEMBRANE> #<MEMBRANE-PACKER::SCORED-MEMBRANE>\n",
       " #<MEMBRANE-PACKER::SCORED-MEMBRANE> #<MEMBRANE-PACKER::SCORED-MEMBRANE>\n",
       " #<MEMBRANE-PACKER::SCORED-MEMBRANE> #<MEMBRANE-PACKER::SCORED-MEMBRANE>\n",
       " #<MEMBRANE-PACKER::SCORED-MEMBRANE> #<MEMBRANE-PACKER::SCORED-MEMBRANE>\n",
       " #<MEMBRANE-PACKER::SCORED-MEMBRANE> #<MEMBRANE-PACKER::SCORED-MEMBRANE>\n",
       " #<MEMBRANE-PACKER::SCORED-MEMBRANE> #<MEMBRANE-PACKER::SCORED-MEMBRANE>\n",
       " #<MEMBRANE-PACKER::SCORED-MEMBRANE> #<MEMBRANE-PACKER::SCORED-MEMBRANE>\n",
       " #<MEMBRANE-PACKER::SCORED-MEMBRANE> #<MEMBRANE-PACKER::SCORED-MEMBRANE>\n",
       " #<MEMBRANE-PACKER::SCORED-MEMBRANE> #<MEMBRANE-PACKER::SCORED-MEMBRANE>\n",
       " #<MEMBRANE-PACKER::SCORED-MEMBRANE> #<MEMBRANE-PACKER::SCORED-MEMBRANE>\n",
       " #<MEMBRANE-PACKER::SCORED-MEMBRANE> #<MEMBRANE-PACKER::SCORED-MEMBRANE>\n",
       " #<MEMBRANE-PACKER::SCORED-MEMBRANE> #<MEMBRANE-PACKER::SCORED-MEMBRANE>\n",
       " #<MEMBRANE-PACKER::SCORED-MEMBRANE> #<MEMBRANE-PACKER::SCORED-MEMBRANE>\n",
       " #<MEMBRANE-PACKER::SCORED-MEMBRANE> #<MEMBRANE-PACKER::SCORED-MEMBRANE>\n",
       " #<MEMBRANE-PACKER::SCORED-MEMBRANE> #<MEMBRANE-PACKER::SCORED-MEMBRANE>\n",
       " #<MEMBRANE-PACKER::SCORED-MEMBRANE> #<MEMBRANE-PACKER::SCORED-MEMBRANE>\n",
       " #<MEMBRANE-PACKER::SCORED-MEMBRANE> #<MEMBRANE-PACKER::SCORED-MEMBRANE>\n",
       " #<MEMBRANE-PACKER::SCORED-MEMBRANE> #<MEMBRANE-PACKER::SCORED-MEMBRANE>\n",
       " #<MEMBRANE-PACKER::SCORED-MEMBRANE> #<MEMBRANE-PACKER::SCORED-MEMBRANE>\n",
       " #<MEMBRANE-PACKER::SCORED-MEMBRANE> #<MEMBRANE-PACKER::SCORED-MEMBRANE>\n",
       " #<MEMBRANE-PACKER::SCORED-MEMBRANE> #<MEMBRANE-PACKER::SCORED-MEMBRANE>\n",
       " #<MEMBRANE-PACKER::SCORED-MEMBRANE> #<MEMBRANE-PACKER::SCORED-MEMBRANE>\n",
       " #<MEMBRANE-PACKER::SCORED-MEMBRANE> #<MEMBRANE-PACKER::SCORED-MEMBRANE>\n",
       " #<MEMBRANE-PACKER::SCORED-MEMBRANE> #<MEMBRANE-PACKER::SCORED-MEMBRANE>\n",
       " #<MEMBRANE-PACKER::SCORED-MEMBRANE> #<MEMBRANE-PACKER::SCORED-MEMBRANE>\n",
       " #<MEMBRANE-PACKER::SCORED-MEMBRANE> #<MEMBRANE-PACKER::SCORED-MEMBRANE>\n",
       " #<MEMBRANE-PACKER::SCORED-MEMBRANE> #<MEMBRANE-PACKER::SCORED-MEMBRANE>\n",
       " #<MEMBRANE-PACKER::SCORED-MEMBRANE> #<MEMBRANE-PACKER::SCORED-MEMBRANE>\n",
       " #<MEMBRANE-PACKER::SCORED-MEMBRANE> #<MEMBRANE-PACKER::SCORED-MEMBRANE>\n",
       " #<MEMBRANE-PACKER::SCORED-MEMBRANE> #<MEMBRANE-PACKER::SCORED-MEMBRANE>\n",
       " #<MEMBRANE-PACKER::SCORED-MEMBRANE> #<MEMBRANE-PACKER::SCORED-MEMBRANE>\n",
       " #<MEMBRANE-PACKER::SCORED-MEMBRANE> #<MEMBRANE-PACKER::SCORED-MEMBRANE>\n",
       " #<MEMBRANE-PACKER::SCORED-MEMBRANE> #<MEMBRANE-PACKER::SCORED-MEMBRANE>\n",
       " #<MEMBRANE-PACKER::SCORED-MEMBRANE> #<MEMBRANE-PACKER::SCORED-MEMBRANE>\n",
       " #<MEMBRANE-PACKER::SCORED-MEMBRANE> #<MEMBRANE-PACKER::SCORED-MEMBRANE>\n",
       " #<MEMBRANE-PACKER::SCORED-MEMBRANE> #<MEMBRANE-PACKER::SCORED-MEMBRANE>\n",
       " #<MEMBRANE-PACKER::SCORED-MEMBRANE> #<MEMBRANE-PACKER::SCORED-MEMBRANE>\n",
       " #<MEMBRANE-PACKER::SCORED-MEMBRANE> #<MEMBRANE-PACKER::SCORED-MEMBRANE>\n",
       " #<MEMBRANE-PACKER::SCORED-MEMBRANE> #<MEMBRANE-PACKER::SCORED-MEMBRANE>\n",
       " #<MEMBRANE-PACKER::SCORED-MEMBRANE> #<MEMBRANE-PACKER::SCORED-MEMBRANE>\n",
       " #<MEMBRANE-PACKER::SCORED-MEMBRANE> #<MEMBRANE-PACKER::SCORED-MEMBRANE>\n",
       " #<MEMBRANE-PACKER::SCORED-MEMBRANE> #<MEMBRANE-PACKER::SCORED-MEMBRANE>\n",
       " #<MEMBRANE-PACKER::SCORED-MEMBRANE> #<MEMBRANE-PACKER::SCORED-MEMBRANE>\n",
       " #<MEMBRANE-PACKER::SCORED-MEMBRANE> #<MEMBRANE-PACKER::SCORED-MEMBRANE>\n",
       " #<MEMBRANE-PACKER::SCORED-MEMBRANE> #<MEMBRANE-PACKER::SCORED-MEMBRANE>\n",
       " #<MEMBRANE-PACKER::SCORED-MEMBRANE> #<MEMBRANE-PACKER::SCORED-MEMBRANE>\n",
       " #<MEMBRANE-PACKER::SCORED-MEMBRANE> #<MEMBRANE-PACKER::SCORED-MEMBRANE>\n",
       " #<MEMBRANE-PACKER::SCORED-MEMBRANE> #<MEMBRANE-PACKER::SCORED-MEMBRANE>\n",
       " #<MEMBRANE-PACKER::SCORED-MEMBRANE> #<MEMBRANE-PACKER::SCORED-MEMBRANE>\n",
       " #<MEMBRANE-PACKER::SCORED-MEMBRANE> #<MEMBRANE-PACKER::SCORED-MEMBRANE>)"
      ]
     },
     "execution_count": 28,
     "metadata": {},
     "output_type": "execute_result"
    }
   ],
   "source": [
    "scored-membranes = (membrane-packer:pack prot :parallel t :number-of-generations 40)"
   ]
  },
  {
   "cell_type": "code",
   "execution_count": 29,
   "metadata": {},
   "outputs": [
    {
     "data": {
      "text/plain": [
       "#<MEMBRANE-PACKER::GA-MEMBRANE>"
      ]
     },
     "execution_count": 29,
     "metadata": {},
     "output_type": "execute_result"
    }
   ],
   "source": [
    "memb = (membrane-packer::membrane (first scored-membranes))"
   ]
  },
  {
   "cell_type": "code",
   "execution_count": 20,
   "metadata": {},
   "outputs": [
    {
     "data": {
      "text/plain": [
       "193"
      ]
     },
     "execution_count": 20,
     "metadata": {},
     "output_type": "execute_result"
    }
   ],
   "source": [
    "(membrane-packer::score-ga-membrane memb)"
   ]
  },
  {
   "cell_type": "code",
   "execution_count": 21,
   "metadata": {},
   "outputs": [
    {
     "data": {
      "text/plain": [
       "(#<AGGREGATE NIL 0> #<MEMBRANE-PACKER::ATOM-VECTORS>)"
      ]
     },
     "execution_count": 21,
     "metadata": {},
     "output_type": "execute_result"
    }
   ],
   "source": [
    "agg-av = (multiple-value-list (membrane-packer::build-aggregate-from-ga-membrane memb))"
   ]
  },
  {
   "cell_type": "code",
   "execution_count": 22,
   "metadata": {},
   "outputs": [
    {
     "data": {
      "text/plain": [
       "#<AGGREGATE NIL 0>"
      ]
     },
     "execution_count": 22,
     "metadata": {},
     "output_type": "execute_result"
    }
   ],
   "source": [
    "membagg = (membrane-packer::build-aggregate-from-ga-membrane memb)"
   ]
  },
  {
   "cell_type": "code",
   "execution_count": 23,
   "metadata": {},
   "outputs": [
    {
     "data": {
      "application/vnd.jupyter.widget-view+json": {
       "model_id": "0EF04FAC-4B47-4A5F-BC4C-2299CEE180C7",
       "version_major": 2,
       "version_minor": 0
      },
      "text/plain": [
       "#<NGLV:NGLWIDGET>"
      ]
     },
     "execution_count": 23,
     "metadata": {},
     "output_type": "execute_result"
    }
   ],
   "source": [
    "show membagg"
   ]
  },
  {
   "cell_type": "code",
   "execution_count": 27,
   "metadata": {},
   "outputs": [
    {
     "data": {
      "text/plain": [
       "#<MEMBRANE-PACKER::BIT-FIELD>"
      ]
     },
     "execution_count": 27,
     "metadata": {},
     "output_type": "execute_result"
    }
   ],
   "source": [
    "bf = (membrane-packer::bit-field-with-solute memb 0.0)"
   ]
  },
  {
   "cell_type": "code",
   "execution_count": 111,
   "metadata": {},
   "outputs": [
    {
     "data": {
      "text/plain": [
       "#<MEMBRANE-PACKER::ATOM-VECTORS>"
      ]
     },
     "execution_count": 111,
     "metadata": {},
     "output_type": "execute_result"
    }
   ],
   "source": [
    "av = (second agg-av)"
   ]
  },
  {
   "cell_type": "code",
   "execution_count": 112,
   "metadata": {},
   "outputs": [
    {
     "name": "stdout",
     "output_type": "stream",
     "text": [
      "Completed  100.0% elapsed:  24.0 seconds ETC: --   There are 202 close-contacts of a possible 189514056\n"
     ]
    },
    {
     "data": {
      "text/plain": [
       "CLOSE-CONTACTS"
      ]
     },
     "execution_count": 112,
     "metadata": {},
     "output_type": "execute_result"
    }
   ],
   "source": [
    "(defparameter close-contacts (membrane-packer::close-contacts av))"
   ]
  },
  {
   "cell_type": "code",
   "execution_count": 113,
   "metadata": {},
   "outputs": [
    {
     "data": {
      "application/vnd.jupyter.widget-view+json": {
       "model_id": "2635DB94-3C6B-4935-9A7D-2D5982A1E448",
       "version_major": 2,
       "version_minor": 0
      },
      "text/plain": [
       "#<NGLV:NGLWIDGET>"
      ]
     },
     "execution_count": 113,
     "metadata": {},
     "output_type": "execute_result"
    }
   ],
   "source": [
    "v = (show membagg)"
   ]
  },
  {
   "cell_type": "code",
   "execution_count": 116,
   "metadata": {},
   "outputs": [
    {
     "data": {
      "text/plain": [
       "T"
      ]
     },
     "execution_count": 116,
     "metadata": {},
     "output_type": "execute_result"
    }
   ],
   "source": [
    "(membrane-packer:add-close-contacts-as-shape v close-contacts :radius 2.0)"
   ]
  },
  {
   "cell_type": "code",
   "execution_count": 99,
   "metadata": {},
   "outputs": [
    {
     "data": {
      "text/plain": [
       "#<MEMBRANE-PACKER::ATOM-VECTORS>"
      ]
     },
     "execution_count": 99,
     "metadata": {},
     "output_type": "execute_result"
    }
   ],
   "source": [
    "av = (second agg-av)"
   ]
  },
  {
   "cell_type": "code",
   "execution_count": null,
   "metadata": {},
   "outputs": [],
   "source": []
  },
  {
   "cell_type": "code",
   "execution_count": 29,
   "metadata": {},
   "outputs": [
    {
     "data": {
      "text/plain": [
       "*RBMIN*"
      ]
     },
     "execution_count": 29,
     "metadata": {},
     "output_type": "execute_result"
    }
   ],
   "source": [
    "(defparameter *rbmin* (membrane-packer::build-rigid-body-minimizer memb :debug t))"
   ]
  },
  {
   "cell_type": "code",
   "execution_count": 28,
   "metadata": {},
   "outputs": [
    {
     "data": {
      "text/plain": [
       "#<MINIMIZER >"
      ]
     },
     "execution_count": 28,
     "metadata": {},
     "output_type": "execute_result"
    }
   ],
   "source": [
    "*rbmin*"
   ]
  },
  {
   "cell_type": "markdown",
   "metadata": {},
   "source": [
    "-----------"
   ]
  },
  {
   "cell_type": "code",
   "execution_count": null,
   "metadata": {},
   "outputs": [],
   "source": [
    "(defparameter *rbdynamics* (membrane-packer::build-rigid-body-dynamics |memb| :debug t))"
   ]
  },
  {
   "cell_type": "code",
   "execution_count": 29,
   "metadata": {},
   "outputs": [
    {
     "data": {
      "text/plain": [
       "*SHAPES*"
      ]
     },
     "execution_count": 29,
     "metadata": {},
     "output_type": "execute_result"
    }
   ],
   "source": [
    "(defparameter *shapes* (membrane-packer::rigid-body-dynamics-axes-as-shape-using-nonbond-code *rbdynamics*))"
   ]
  },
  {
   "cell_type": "code",
   "execution_count": 30,
   "metadata": {},
   "outputs": [
    {
     "data": {
      "application/vnd.jupyter.widget-view+json": {
       "model_id": "B9C5AD76-B445-4D2E-931F-C49F6BBB009F",
       "version_major": 2,
       "version_minor": 0
      },
      "text/plain": [
       "#<NGLV:NGLWIDGET>"
      ]
     },
     "execution_count": 30,
     "metadata": {},
     "output_type": "execute_result"
    }
   ],
   "source": [
    "(show |membagg| :shapes (list :centers *shapes*))"
   ]
  },
  {
   "cell_type": "code",
   "execution_count": 31,
   "metadata": {},
   "outputs": [
    {
     "data": {
      "text/plain": [
       "#<MEMBRANE-PACKER::RIGID-BODY-DYNAMICS>"
      ]
     },
     "execution_count": 31,
     "metadata": {},
     "output_type": "execute_result"
    }
   ],
   "source": [
    "*rbdynamics*"
   ]
  },
  {
   "cell_type": "code",
   "execution_count": 34,
   "metadata": {},
   "outputs": [
    {
     "name": "stdout",
     "output_type": "stream",
     "text": [
      "COMPILER::*TRAP-ZERO-LINENO*  has value\n",
      "CL-PPCRE::*ZERO-LENGTH-NUM*  has value\n",
      "CL-PPCRE::CREATE-GREEDY-NO-ZERO-MATCHER  Function\n",
      "CL-PPCRE::CREATE-NON-GREEDY-NO-ZERO-MATCHER  Function\n",
      "LLVM-SYS:DIFLAGS-ZERO\n",
      "DIVISION-BY-ZERO\n",
      "CORE:FD-ZERO  Function\n",
      "SOCKETS-INTERNAL:FDSET-ZERO  Function\n",
      "USOCKET::FDSET-ZERO  Function\n",
      ":FROM-ZERO  Constant\n",
      "CANDO::FROM-ZERO\n",
      "SKETCH2D::FROM-ZERO\n",
      "SERVE-EVENT-INTERNAL:LL-FD-ZERO  Function\n",
      ":ZERO-LENGTH  Constant\n",
      "CL-PPCRE::ZERO-LENGTH-NUM\n",
      "ZEROP  Function\n"
     ]
    },
    {
     "data": {
      "text/plain": [
       "NIL"
      ]
     },
     "execution_count": 34,
     "metadata": {},
     "output_type": "execute_result"
    }
   ],
   "source": [
    "(apropos \"zero\")"
   ]
  },
  {
   "cell_type": "code",
   "execution_count": 35,
   "metadata": {},
   "outputs": [
    {
     "data": {
      "text/plain": [
       "NIL"
      ]
     },
     "execution_count": 35,
     "metadata": {},
     "output_type": "execute_result"
    }
   ],
   "source": [
    "(loop for index below (length (membrane-packer::force *rbdynamics*)) do (setf (elt (membrane-packer::force *rbdynamics*) index) 0.0))"
   ]
  },
  {
   "cell_type": "code",
   "execution_count": 36,
   "metadata": {},
   "outputs": [
    {
     "name": "stdout",
     "output_type": "stream",
     "text": [
      "Zeroing force\n"
     ]
    },
    {
     "data": {
      "text/plain": [
       "0.0d0"
      ]
     },
     "execution_count": 36,
     "metadata": {},
     "output_type": "execute_result"
    }
   ],
   "source": [
    "(chem:evaluate-energy-force (membrane-packer::energy-function *rbdynamics*)\n",
    "                            (membrane-packer::coordinates *rbdynamics*)\n",
    "                            t\n",
    "                            (membrane-packer::force *rbdynamics*))"
   ]
  },
  {
   "cell_type": "code",
   "execution_count": 37,
   "metadata": {},
   "outputs": [
    {
     "name": "stdout",
     "output_type": "stream",
     "text": [
      "Zeroing force\n"
     ]
    },
    {
     "data": {
      "text/plain": [
       "0"
      ]
     },
     "execution_count": 37,
     "metadata": {},
     "output_type": "execute_result"
    }
   ],
   "source": [
    "(membrane-packer::advance-rigid-body-dynamics *rbdynamics*)"
   ]
  },
  {
   "cell_type": "code",
   "execution_count": 67,
   "metadata": {},
   "outputs": [
    {
     "name": "stdout",
     "output_type": "stream",
     "text": [
      "Step 0\n",
      "Step 1\n",
      "Step 2\n",
      "Step 3\n",
      "Step 4\n",
      "Step 5\n",
      "Step 6\n",
      "Step 7\n",
      "Step 8\n",
      "Step 9\n",
      "Step 10\n",
      "Step 11\n",
      "Step 12\n",
      "Step 13\n",
      "Step 14\n",
      "Step 15\n",
      "Step 16\n",
      "Step 17\n",
      "Step 18\n",
      "Step 19\n",
      "Step 20\n",
      "Step 21\n",
      "Step 22\n",
      "Step 23\n",
      "Step 24\n",
      "Step 25\n",
      "Step 26\n",
      "Step 27\n",
      "Step 28\n",
      "Step 29\n"
     ]
    },
    {
     "data": {
      "text/plain": [
       "NIL"
      ]
     },
     "execution_count": 67,
     "metadata": {},
     "output_type": "execute_result"
    }
   ],
   "source": [
    "(dotimes (i 30) (format t \"Step ~a~%\" i) (finish-output) (membrane-packer::advance-rigid-body-dynamics *rbdynamics*))"
   ]
  },
  {
   "cell_type": "code",
   "execution_count": 68,
   "metadata": {},
   "outputs": [
    {
     "data": {
      "text/plain": [
       "*TRAJ*"
      ]
     },
     "execution_count": 68,
     "metadata": {},
     "output_type": "execute_result"
    }
   ],
   "source": [
    "(defparameter *traj* (membrane-packer::trajectory *rbdynamics*))"
   ]
  },
  {
   "cell_type": "code",
   "execution_count": 69,
   "metadata": {},
   "outputs": [
    {
     "data": {
      "text/plain": [
       "#<CANDO-JUPYTER:CANDO-TRAJECTORY>"
      ]
     },
     "execution_count": 69,
     "metadata": {},
     "output_type": "execute_result"
    }
   ],
   "source": [
    "(change-class *traj* 'cando-jupyter:cando-trajectory)"
   ]
  },
  {
   "cell_type": "code",
   "execution_count": 70,
   "metadata": {},
   "outputs": [
    {
     "data": {
      "text/plain": [
       "*SS-TRAJ*"
      ]
     },
     "execution_count": 70,
     "metadata": {},
     "output_type": "execute_result"
    }
   ],
   "source": [
    "(defparameter *ss-traj* (nglv:get-structure-string *traj*))"
   ]
  },
  {
   "cell_type": "code",
   "execution_count": 71,
   "metadata": {},
   "outputs": [
    {
     "data": {
      "application/vnd.jupyter.widget-view+json": {
       "model_id": "59A19142-8669-4580-80B0-3471AB2FA300",
       "version_major": 2,
       "version_minor": 0
      },
      "text/plain": [
       "#<NGLV:NGLWIDGET>"
      ]
     },
     "execution_count": 71,
     "metadata": {},
     "output_type": "execute_result"
    }
   ],
   "source": [
    "(show *traj*)"
   ]
  },
  {
   "cell_type": "code",
   "execution_count": 72,
   "metadata": {},
   "outputs": [
    {
     "data": {
      "application/vnd.jupyter.widget-view+json": {
       "model_id": "B84E0DB5-43DD-4010-AC46-F3D1B320DECB",
       "version_major": 2,
       "version_minor": 0
      },
      "text/plain": [
       "#<NGLV:NGLWIDGET>"
      ]
     },
     "execution_count": 72,
     "metadata": {},
     "output_type": "execute_result"
    }
   ],
   "source": [
    "(show (membrane-packer::trajectory *rbdynamics*))"
   ]
  },
  {
   "cell_type": "code",
   "execution_count": 26,
   "metadata": {},
   "outputs": [
    {
     "name": "stdout",
     "output_type": "stream",
     "text": [
      "MEMBRANE-PACKER::BUILD-RIGID-BODY-ENERGY-FUNCTION  Function\n",
      "CHEM:ENERGY-RIGID-BODY-COMPONENT\n",
      "CHEM:ENERGY-RIGID-BODY-NONBOND\n",
      "CHEM:ENERGY-RIGID-BODY-NONBOND-NUMBER-OF-NONBOND-ATOMS  Function\n",
      "CHEM:ENERGY-RIGID-BODY-NONBOND-SET-TERM  Function\n",
      "CHEM:ENERGY-RIGID-BODY-STAPLE\n",
      "CHEM:ENERGY-RIGID-BODY-STAPLE-ADD-TERM  Function\n",
      "CHEM:MAKE-ENERGY-RIGID-BODY-NONBOND  Function\n",
      "CHEM:MAKE-ENERGY-RIGID-BODY-STAPLE  Function\n",
      "CHEM:MAKE-RIGID-BODY-ENERGY-FUNCTION  Function\n",
      "CHEM:RIGID-BODY-ENERGY-FUNCTION\n",
      "CANDO::RIGID-BODY-ENERGY-FUNCTION\n",
      "CHEM:RIGID-BODY-ENERGY-FUNCTION-ADD-TERM  Function\n",
      "CHEM:RIGID-BODY-ENERGY-FUNCTION-BOUNDING-BOX  Function\n",
      "CHEM:RIGID-BODY-ENERGY-FUNCTION-BOUNDING-BOX-BOUND-P  Function\n",
      "CHEM:RIGID-BODY-ENERGY-FUNCTION-GET-POSITION  Function\n",
      "CHEM:RIGID-BODY-ENERGY-FUNCTION-MAK-UNBOUND-BOUNDING-BOX  Function\n",
      "CHEM:RIGID-BODY-ENERGY-FUNCTION-NORMALIZE-POSITION  Function\n",
      "CHEM:RIGID-BODY-ENERGY-FUNCTION-SET-BOUNDING-BOX  Function\n",
      "CHEM:RIGID-BODY-ENERGY-FUNCTION-SET-POSITION  Function\n",
      "CHEM:RIGID-BODY-ENERGY-FUNCTION-TERMS  Function\n",
      "CHEM:RIGID-BODY-VELOCITY-VERLET-STEP-LIMIT-DISPLACEMENT  Function\n"
     ]
    },
    {
     "data": {
      "text/plain": [
       "NIL"
      ]
     },
     "execution_count": 26,
     "metadata": {},
     "output_type": "execute_result"
    }
   ],
   "source": [
    "(apropos \"rigid-body\")"
   ]
  },
  {
   "cell_type": "code",
   "execution_count": 27,
   "metadata": {},
   "outputs": [
    {
     "name": "stdout",
     "output_type": "stream",
     "text": [
      "CHEM:WRITE-NONBOND-ATOM-COORDINATES-TO-COMPLEX-VECTOR-FLOAT  Function\n",
      "CHEM:WRITE-NONBOND-ATOMS-TO-COMPLEX-VECTOR  Function\n"
     ]
    },
    {
     "data": {
      "text/plain": [
       "NIL"
      ]
     },
     "execution_count": 27,
     "metadata": {},
     "output_type": "execute_result"
    }
   ],
   "source": [
    "(apropos \"write-nonbond-atom\")"
   ]
  },
  {
   "cell_type": "code",
   "execution_count": 28,
   "metadata": {},
   "outputs": [
    {
     "data": {
      "text/plain": [
       "(#<ENERGY-RIGID-BODY-NONBOND >)"
      ]
     },
     "execution_count": 28,
     "metadata": {},
     "output_type": "execute_result"
    }
   ],
   "source": [
    "(chem:rigid-body-energy-function-terms (car *efp*))"
   ]
  },
  {
   "cell_type": "code",
   "execution_count": 29,
   "metadata": {},
   "outputs": [
    {
     "name": "stderr",
     "output_type": "stream",
     "text": [
      "\n",
      "Undefined variable *ATOMS*\n"
     ]
    },
    {
     "data": {
      "text/plain": [
       "NIL"
      ]
     },
     "execution_count": 29,
     "metadata": {},
     "output_type": "execute_result"
    }
   ],
   "source": [
    "(defparameter *atoms* (make-array 1024 :adjustable t :fill-pointer 0))\n",
    "(chem:write-nonbond-atoms-to-complex-vector (first (chem:rigid-body-energy-function-terms (car *efp*))) *atoms*)\n",
    "nil"
   ]
  },
  {
   "cell_type": "code",
   "execution_count": 30,
   "metadata": {},
   "outputs": [
    {
     "name": "stderr",
     "output_type": "stream",
     "text": [
      "\n",
      "Undefined variable *COORDS*\n",
      "\n",
      "An error occurred of type: WRONG-NUMBER-OF-ARGUMENTS: \n",
      "  Calling WRITE-NONBOND-ATOM-COORDINATES-TO-COMPLEX-VECTOR-FLOAT - Got 2 arguments, but expected at least 3\n",
      "\n",
      "serious-condition backtrace:\n",
      "0: (ERROR CORE:WRONG-NUMBER-OF-ARGUMENTS :CALLED-FUNCTION #<FUNCTION CHEM:WRITE-NONBOND-ATOM-COORDINATES-TO-COMPLEX-VECTOR-FLOAT> :GIVEN-NARGS 2 :MIN-NARGS 3)\n",
      "1: (LAMBDA)\n",
      "\n"
     ]
    },
    {
     "data": {
      "text/plain": [
       "NIL"
      ]
     },
     "execution_count": 30,
     "metadata": {},
     "output_type": "execute_result"
    }
   ],
   "source": [
    "(defparameter *atom-coords* (make-array 1024 :adjustable t :fill-pointer 0))\n",
    "(defparameter *rb-coords* ())\n",
    "(chem:write-nonbond-atom-coordinates-to-complex-vector-float (first (chem:rigid-body-energy-function-terms (car *efp*))) *coords*)\n",
    "nil"
   ]
  },
  {
   "cell_type": "code",
   "execution_count": 51,
   "metadata": {},
   "outputs": [
    {
     "name": "stdout",
     "output_type": "stream",
     "text": [
      "Missing-h NIL\n"
     ]
    },
    {
     "data": {
      "image/svg+xml": [
       "<?xml version=\"1.0\" standalone=\"no\"?>\n",
       "<svg viewport=\"0 0 465 196\" height=\"196\" width=\"465\" version=\"1.2\" id=\"\"\n",
       "    xmlns=\"http://www.w3.org/2000/svg\"\n",
       "    xmlns:xlink=\"http://www.w3.org/1999/xlink\">\n",
       "  <line x1=\"309.98\" y1=\"179.63\" x2=\"304.11\" y2=\"158.73\" fill=\"none\"\n",
       "        stroke=\"black\" stroke-width=\"2\" stroke-linecap=\"round\"/>\n",
       "  <line x1=\"325.81\" y1=\"130.09\" x2=\"308.61\" y2=\"144.33\" fill=\"none\"\n",
       "        stroke=\"black\" stroke-width=\"2\" stroke-linecap=\"round\"/>\n",
       "  <line x1=\"325.81\" y1=\"130.09\" x2=\"353.80\" y2=\"142.26\" fill=\"none\"\n",
       "        stroke=\"black\" stroke-width=\"2\" stroke-linecap=\"round\"/>\n",
       "  <line x1=\"325.81\" y1=\"130.09\" x2=\"321.43\" y2=\"99.80\" fill=\"none\"\n",
       "        stroke=\"black\" stroke-width=\"2\" stroke-linecap=\"round\"/>\n",
       "  <line x1=\"330.19\" y1=\"125.41\" x2=\"326.95\" y2=\"103.04\" fill=\"none\"\n",
       "        stroke=\"black\" stroke-width=\"2\" stroke-linecap=\"round\"/>\n",
       "  <line x1=\"426.56\" y1=\"86.43\" x2=\"406.34\" y2=\"77.30\" fill=\"none\"\n",
       "        stroke=\"black\" stroke-width=\"2\" stroke-linecap=\"round\"/>\n",
       "  <line x1=\"391.19\" y1=\"79.32\" x2=\"374.02\" y2=\"93.46\" fill=\"none\"\n",
       "        stroke=\"black\" stroke-width=\"2\" stroke-linecap=\"round\"/>\n",
       "  <line x1=\"353.80\" y1=\"142.26\" x2=\"378.91\" y2=\"123.40\" fill=\"none\"\n",
       "        stroke=\"black\" stroke-width=\"2\" stroke-linecap=\"round\"/>\n",
       "  <line x1=\"354.00\" y1=\"135.86\" x2=\"372.71\" y2=\"121.81\" fill=\"none\"\n",
       "        stroke=\"black\" stroke-width=\"2\" stroke-linecap=\"round\"/>\n",
       "  <line x1=\"378.91\" y1=\"123.40\" x2=\"374.02\" y2=\"93.46\" fill=\"none\"\n",
       "        stroke=\"black\" stroke-width=\"2\" stroke-linecap=\"round\"/>\n",
       "  <line x1=\"374.02\" y1=\"93.46\" x2=\"346.22\" y2=\"81.12\" fill=\"none\"\n",
       "        stroke=\"black\" stroke-width=\"2\" stroke-linecap=\"round\"/>\n",
       "  <line x1=\"368.34\" y1=\"96.40\" x2=\"347.85\" y2=\"87.31\" fill=\"none\"\n",
       "        stroke=\"black\" stroke-width=\"2\" stroke-linecap=\"round\"/>\n",
       "  <line x1=\"346.22\" y1=\"81.12\" x2=\"321.43\" y2=\"99.80\" fill=\"none\"\n",
       "        stroke=\"black\" stroke-width=\"2\" stroke-linecap=\"round\"/>\n",
       "  <line x1=\"321.43\" y1=\"99.80\" x2=\"295.21\" y2=\"83.07\" fill=\"none\"\n",
       "        stroke=\"black\" stroke-width=\"2\" stroke-linecap=\"round\"/>\n",
       "  <line x1=\"303.37\" y1=\"61.62\" x2=\"297.63\" y2=\"83.70\" fill=\"none\"\n",
       "        stroke=\"black\" stroke-width=\"2\" stroke-linecap=\"round\"/>\n",
       "  <line x1=\"298.53\" y1=\"60.36\" x2=\"292.79\" y2=\"82.44\" fill=\"none\"\n",
       "        stroke=\"black\" stroke-width=\"2\" stroke-linecap=\"round\"/>\n",
       "  <line x1=\"295.21\" y1=\"83.07\" x2=\"273.55\" y2=\"84.75\" fill=\"none\"\n",
       "        stroke=\"black\" stroke-width=\"2\" stroke-linecap=\"round\"/>\n",
       "  <line x1=\"248.98\" y1=\"111.57\" x2=\"259.96\" y2=\"93.18\" fill=\"none\"\n",
       "        stroke=\"black\" stroke-width=\"2\" stroke-linecap=\"round\"/>\n",
       "  <line x1=\"248.98\" y1=\"111.57\" x2=\"218.31\" y2=\"114.92\" fill=\"none\"\n",
       "        stroke=\"black\" stroke-width=\"2\" stroke-linecap=\"round\"/>\n",
       "  <line x1=\"218.31\" y1=\"114.92\" x2=\"203.27\" y2=\"99.59\" fill=\"none\"\n",
       "        stroke=\"black\" stroke-width=\"2\" stroke-linecap=\"round\"/>\n",
       "  <line x1=\"253.52\" y1=\"56.28\" x2=\"261.39\" y2=\"77.04\" fill=\"none\"\n",
       "        stroke=\"black\" stroke-width=\"2\" stroke-linecap=\"round\"/>\n",
       "  <line x1=\"253.52\" y1=\"56.28\" x2=\"225.53\" y2=\"45.64\" fill=\"none\"\n",
       "        stroke=\"black\" stroke-width=\"2\" stroke-linecap=\"round\"/>\n",
       "  <line x1=\"225.53\" y1=\"45.64\" x2=\"199.25\" y2=\"62.92\" fill=\"none\"\n",
       "        stroke=\"black\" stroke-width=\"2\" stroke-linecap=\"round\"/>\n",
       "  <line x1=\"199.25\" y1=\"62.92\" x2=\"197.65\" y2=\"84.19\" fill=\"none\"\n",
       "        stroke=\"black\" stroke-width=\"2\" stroke-linecap=\"round\"/>\n",
       "  <line x1=\"188.22\" y1=\"95.25\" x2=\"166.57\" y2=\"100.41\" fill=\"none\"\n",
       "        stroke=\"black\" stroke-width=\"2\" stroke-linecap=\"round\"/>\n",
       "  <line x1=\"166.57\" y1=\"100.41\" x2=\"155.88\" y2=\"119.82\" fill=\"none\"\n",
       "        stroke=\"black\" stroke-width=\"2\" stroke-linecap=\"round\"/>\n",
       "  <line x1=\"160.26\" y1=\"101.50\" x2=\"151.50\" y2=\"117.41\" fill=\"none\"\n",
       "        stroke=\"black\" stroke-width=\"2\" stroke-linecap=\"round\"/>\n",
       "  <line x1=\"166.57\" y1=\"100.41\" x2=\"152.22\" y2=\"83.46\" fill=\"none\"\n",
       "        stroke=\"black\" stroke-width=\"2\" stroke-linecap=\"round\"/>\n",
       "  <line x1=\"142.82\" y1=\"125.44\" x2=\"121.08\" y2=\"119.81\" fill=\"none\"\n",
       "        stroke=\"black\" stroke-width=\"2\" stroke-linecap=\"round\"/>\n",
       "  <line x1=\"121.08\" y1=\"119.81\" x2=\"96.68\" y2=\"138.23\" fill=\"none\"\n",
       "        stroke=\"black\" stroke-width=\"2\" stroke-linecap=\"round\"/>\n",
       "  <line x1=\"121.08\" y1=\"119.81\" x2=\"118.42\" y2=\"89.32\" fill=\"none\"\n",
       "        stroke=\"black\" stroke-width=\"2\" stroke-linecap=\"round\"/>\n",
       "  <line x1=\"115.75\" y1=\"116.26\" x2=\"113.79\" y2=\"93.74\" fill=\"none\"\n",
       "        stroke=\"black\" stroke-width=\"2\" stroke-linecap=\"round\"/>\n",
       "  <line x1=\"96.68\" y1=\"138.23\" x2=\"68.98\" y2=\"124.19\" fill=\"none\"\n",
       "        stroke=\"black\" stroke-width=\"2\" stroke-linecap=\"round\"/>\n",
       "  <line x1=\"95.37\" y1=\"131.96\" x2=\"74.81\" y2=\"121.54\" fill=\"none\"\n",
       "        stroke=\"black\" stroke-width=\"2\" stroke-linecap=\"round\"/>\n",
       "  <line x1=\"68.98\" y1=\"124.19\" x2=\"66.85\" y2=\"93.93\" fill=\"none\" stroke=\"black\"\n",
       "        stroke-width=\"2\" stroke-linecap=\"round\"/>\n",
       "  <line x1=\"46.94\" y1=\"84.68\" x2=\"66.85\" y2=\"93.93\" fill=\"none\" stroke=\"black\"\n",
       "        stroke-width=\"2\" stroke-linecap=\"round\"/>\n",
       "  <line x1=\"66.85\" y1=\"93.93\" x2=\"91.55\" y2=\"75.47\" fill=\"none\" stroke=\"black\"\n",
       "        stroke-width=\"2\" stroke-linecap=\"round\"/>\n",
       "  <line x1=\"73.05\" y1=\"95.54\" x2=\"91.34\" y2=\"81.87\" fill=\"none\" stroke=\"black\"\n",
       "        stroke-width=\"2\" stroke-linecap=\"round\"/>\n",
       "  <line x1=\"138.22\" y1=\"80.31\" x2=\"118.42\" y2=\"89.32\" fill=\"none\"\n",
       "        stroke=\"black\" stroke-width=\"2\" stroke-linecap=\"round\"/>\n",
       "  <line x1=\"118.42\" y1=\"89.32\" x2=\"91.55\" y2=\"75.47\" fill=\"none\" stroke=\"black\"\n",
       "        stroke-width=\"2\" stroke-linecap=\"round\"/>\n",
       "  <text x=\"301.68\" y=\"152.07\" text-anchor=\"middle\" alignment-baseline=\"middle\">\n",
       "    O\n",
       "  </text>\n",
       "  <text x=\"38.78\" y=\"82.89\" text-anchor=\"middle\" alignment-baseline=\"middle\">\n",
       "    Cl\n",
       "  </text>\n",
       "  <text x=\"146.41\" y=\"78.59\" text-anchor=\"middle\" alignment-baseline=\"middle\">\n",
       "    S\n",
       "  </text>\n",
       "  <text x=\"264.58\" y=\"87.45\" text-anchor=\"middle\" alignment-baseline=\"middle\">\n",
       "    N\n",
       "  </text>\n",
       "  <text x=\"303.22\" y=\"54.28\" text-anchor=\"middle\" alignment-baseline=\"middle\">\n",
       "    O\n",
       "  </text>\n",
       "  <text x=\"398.14\" y=\"75.59\" text-anchor=\"middle\" alignment-baseline=\"middle\">\n",
       "    O\n",
       "  </text>\n",
       "  <text x=\"196.97\" y=\"95.17\" text-anchor=\"middle\" alignment-baseline=\"middle\">\n",
       "    N\n",
       "  </text>\n",
       "  <text x=\"151.53\" y=\"129.70\" text-anchor=\"middle\" alignment-baseline=\"middle\">\n",
       "    N\n",
       "  </text>\n",
       "</svg>\n"
      ],
      "text/plain": [
       "#<CL-JUPYTER-USER::SVG-STR>"
      ]
     },
     "execution_count": 51,
     "metadata": {},
     "output_type": "execute_result"
    }
   ],
   "source": [
    "show (sketch2d:sketch2d |lig4|)"
   ]
  },
  {
   "cell_type": "code",
   "execution_count": 40,
   "metadata": {},
   "outputs": [
    {
     "name": "stdout",
     "output_type": "stream",
     "text": [
      "Assigned 4835 types of a total of 4835 atoms.\n"
     ]
    },
    {
     "data": {
      "text/plain": [
       "NIL"
      ]
     },
     "execution_count": 40,
     "metadata": {},
     "output_type": "execute_result"
    }
   ],
   "source": [
    "assignAtomTypes prot"
   ]
  },
  {
   "cell_type": "code",
   "execution_count": 41,
   "metadata": {},
   "outputs": [
    {
     "data": {
      "text/plain": [
       "#<ENERGY-FUNCTION >"
      ]
     },
     "execution_count": 41,
     "metadata": {},
     "output_type": "execute_result"
    }
   ],
   "source": [
    "energy = (chem:make-energy-function |prot|)"
   ]
  },
  {
   "cell_type": "code",
   "execution_count": 27,
   "metadata": {},
   "outputs": [
    {
     "name": "stdout",
     "output_type": "stream",
     "text": [
      "Describing PROT.0\n",
      "\n",
      "\n",
      "\"PROT.0\" - simple string\n",
      " dimension:  6\n"
     ]
    },
    {
     "data": {
      "text/plain": [
       "NIL"
      ]
     },
     "execution_count": 27,
     "metadata": {},
     "output_type": "execute_result"
    }
   ],
   "source": [
    "desc PROT.0"
   ]
  },
  {
   "cell_type": "code",
   "execution_count": 29,
   "metadata": {},
   "outputs": [
    {
     "data": {
      "text/plain": [
       "#<AGGREGATE NIL 0>"
      ]
     },
     "execution_count": 29,
     "metadata": {},
     "output_type": "execute_result"
    }
   ],
   "source": [
    "PROT"
   ]
  },
  {
   "cell_type": "code",
   "execution_count": 13,
   "metadata": {},
   "outputs": [
    {
     "data": {
      "text/plain": [
       "#<MEMBRANE-PACKER::GA-MEMBRANE>"
      ]
     },
     "execution_count": 13,
     "metadata": {},
     "output_type": "execute_result"
    }
   ],
   "source": [
    "*memb0*"
   ]
  },
  {
   "cell_type": "code",
   "execution_count": 14,
   "metadata": {},
   "outputs": [
    {
     "data": {
      "text/plain": [
       "*AGG-ATOMVECS*"
      ]
     },
     "execution_count": 14,
     "metadata": {},
     "output_type": "execute_result"
    }
   ],
   "source": [
    "(defparameter *agg-atomvecs* (multiple-value-list (membrane-packer::build-aggregate-from-ga-membrane *memb0* :debug t)))"
   ]
  },
  {
   "cell_type": "code",
   "execution_count": 15,
   "metadata": {},
   "outputs": [
    {
     "data": {
      "text/plain": [
       "(#<AGGREGATE NIL 0> #<MEMBRANE-PACKER::ATOM-VECTORS>)"
      ]
     },
     "execution_count": 15,
     "metadata": {},
     "output_type": "execute_result"
    }
   ],
   "source": [
    "*agg-atomvecs*"
   ]
  },
  {
   "cell_type": "code",
   "execution_count": 16,
   "metadata": {},
   "outputs": [
    {
     "data": {
      "text/plain": [
       "*AGG*"
      ]
     },
     "execution_count": 16,
     "metadata": {},
     "output_type": "execute_result"
    }
   ],
   "source": [
    "(defparameter *agg* (first *agg-atomvecs*))"
   ]
  },
  {
   "cell_type": "code",
   "execution_count": 17,
   "metadata": {},
   "outputs": [
    {
     "data": {
      "text/plain": [
       "*ATOMVECS*"
      ]
     },
     "execution_count": 17,
     "metadata": {},
     "output_type": "execute_result"
    }
   ],
   "source": [
    "(defparameter *atomvecs* (second *agg-atomvecs*))"
   ]
  },
  {
   "cell_type": "code",
   "execution_count": 18,
   "metadata": {},
   "outputs": [
    {
     "data": {
      "text/plain": [
       "#<AGGREGATE NIL 0>"
      ]
     },
     "execution_count": 18,
     "metadata": {},
     "output_type": "execute_result"
    }
   ],
   "source": [
    "agg = *AGG*"
   ]
  },
  {
   "cell_type": "code",
   "execution_count": 19,
   "metadata": {},
   "outputs": [
    {
     "data": {
      "application/vnd.jupyter.widget-view+json": {
       "model_id": "E6D826C6-0A9E-423D-9EAE-D99A265C0AB8",
       "version_major": 2,
       "version_minor": 0
      },
      "text/plain": [
       "#<NGLV:NGLWIDGET>"
      ]
     },
     "execution_count": 19,
     "metadata": {},
     "output_type": "execute_result"
    }
   ],
   "source": [
    "v = show *AGG*"
   ]
  },
  {
   "cell_type": "code",
   "execution_count": 111,
   "metadata": {},
   "outputs": [
    {
     "name": "stdout",
     "output_type": "stream",
     "text": [
      "Assigned 24935 types of a total of 24935 atoms.\n"
     ]
    },
    {
     "data": {
      "text/plain": [
       "NIL"
      ]
     },
     "execution_count": 111,
     "metadata": {},
     "output_type": "execute_result"
    }
   ],
   "source": [
    "assignAtomTypes memb"
   ]
  },
  {
   "cell_type": "code",
   "execution_count": 112,
   "metadata": {},
   "outputs": [
    {
     "name": "stderr",
     "output_type": "stream",
     "text": [
      "\n",
      "Undefined variable *AGG*\n",
      "\n",
      "An error occurred of type: UNBOUND-VARIABLE: \n",
      "  The variable *AGG* is unbound.\n",
      "\n",
      "serious-condition backtrace:\n",
      "0: (ERROR UNBOUND-VARIABLE :NAME *AGG*)\n",
      "1: (LAMBDA)\n",
      "\n"
     ]
    },
    {
     "data": {
      "text/plain": [
       "NIL"
      ]
     },
     "execution_count": 112,
     "metadata": {},
     "output_type": "execute_result"
    }
   ],
   "source": [
    "(defparameter *ef* (chem:make-energy-function *agg*))"
   ]
  },
  {
   "cell_type": "code",
   "execution_count": 84,
   "metadata": {},
   "outputs": [
    {
     "name": "stdout",
     "output_type": "stream",
     "text": [
      "Saving matter to /tmp/agg.mol2\n"
     ]
    },
    {
     "data": {
      "text/plain": [
       "NIL"
      ]
     },
     "execution_count": 84,
     "metadata": {},
     "output_type": "execute_result"
    }
   ],
   "source": [
    "(save-mol2 *agg* \"/tmp/agg.mol2\" :use-sybyl-types t)"
   ]
  },
  {
   "cell_type": "code",
   "execution_count": 85,
   "metadata": {},
   "outputs": [
    {
     "data": {
      "text/plain": [
       "NIL"
      ]
     },
     "execution_count": 85,
     "metadata": {},
     "output_type": "execute_result"
    }
   ],
   "source": [
    "(assign-atom-types *agg*)"
   ]
  },
  {
   "cell_type": "code",
   "execution_count": 87,
   "metadata": {},
   "outputs": [
    {
     "name": "stdout",
     "output_type": "stream",
     "text": [
      "Entered minimize\n",
      "Condition of type ESTIMATED-ANGLE-TERM was signaled.\n",
      "Condition of type ESTIMATED-ANGLE-TERM was signaled.\n",
      "Condition of type ESTIMATED-ANGLE-TERM was signaled.\n",
      "Condition of type ESTIMATED-ANGLE-TERM was signaled.\n",
      "Condition of type ESTIMATED-ANGLE-TERM was signaled.\n",
      "Condition of type ESTIMATED-ANGLE-TERM was signaled.\n",
      "Condition of type ESTIMATED-ANGLE-TERM was signaled.\n",
      "Condition of type ESTIMATED-ANGLE-TERM was signaled.\n",
      "minimize-no-fail\n",
      "======= Starting Steepest Descent Minimizer\n",
      "\n",
      ";;; Suspending process #<PROCESS repl-thread @0x139d32699>\n",
      ";;; Suspending process #<PROCESS auto-flush-thread @0x139d32789>\n",
      ";;; Suspending process #<PROCESS swank-indentation-cache-thread @0x14273dc39>\n",
      ";;; Suspending process #<PROCESS reader-thread @0x14273dd29>\n",
      ";;; Suspending process #<PROCESS control-thread @0x14273de19>\n",
      ";;; Suspending process #<PROCESS lparallel @0x142598969>\n",
      ";;; Suspending process #<PROCESS lparallel @0x13756d009>\n",
      ";;; Suspending process #<PROCESS lparallel @0x13756d0f9>\n",
      ";;; Suspending process #<PROCESS lparallel @0x13756d1e9>\n",
      ";;; Suspending process #<PROCESS lparallel @0x13756d2d9>\n",
      ";;; Suspending process #<PROCESS lparallel @0x13756d3c9>\n",
      ";;; Suspending process #<PROCESS lparallel @0x13756d4b9>\n",
      ";;; Suspending process #<PROCESS lparallel @0x13756d5a9>\n",
      ";;; Suspending process #<PROCESS lparallel @0x13756d699>\n",
      ";;; Suspending process #<PROCESS lparallel @0x13756d879>\n",
      ";;; Suspending process #<PROCESS lparallel @0x13756d789>\n",
      ";;; Suspending process #<PROCESS lparallel @0x13756d969>\n",
      ";;; Suspending process #<PROCESS Swank Sentinel @0x135001d29>\n",
      ";;; Suspending process #<PROCESS REMOTE-CALL-THREAD @0x13825a1e9>\n",
      ";;; Suspending process #<PROCESS Anonymous thread @0x13825a009>\n",
      ";;; Suspending process #<PROCESS Anonymous thread @0x13825a0f9>"
     ]
    },
    {
     "name": "stderr",
     "output_type": "stream",
     "text": [
      "\n",
      "Could not find stretch parameter between #<ATOM :H2/:H 0> and #<ATOM :N/:N 0>\n",
      "\n",
      "Could not find stretch parameter between #<ATOM :H3/:H 0> and #<ATOM :N/:N 0>\n",
      "\n",
      "Could not find stretch parameter between #<ATOM :OXT/:O 0> and #<ATOM :C/:C 0>\n",
      "\n",
      "Could not find stretch parameter between #<ATOM :H1/:H 0> and #<ATOM :N/:N 0>\n",
      "\n",
      "Could not find stretch parameter between #<ATOM :H2/:H 0> and #<ATOM :N/:N 0>\n",
      "\n",
      "Could not find stretch parameter between #<ATOM :H3/:H 0> and #<ATOM :N/:N 0>\n",
      "\n",
      "Could not find stretch parameter between #<ATOM :OXT/:O 0> and #<ATOM :C/:C 0>\n",
      "\n",
      "An error occurred of type: INTERACTIVE-INTERRUPT: \n",
      "  Console interrupt.\n",
      "\n",
      "serious-condition backtrace:\n",
      "0: (ERROR EXT:INTERACTIVE-INTERRUPT)\n",
      "1: (SIMPLE-TERMINAL-INTERRUPT)\n",
      "2: (_top.lsp-top131^482^TOP-COMPILE-FILE.39)\n",
      "3: (_top.lsp-top131^482^TOP-COMPILE-FILE.31)\n",
      "4: (_top.lsp-top131^482^TOP-COMPILE-FILE.30)\n",
      "5: (_top.lsp-top131^482^TOP-COMPILE-FILE.28)\n",
      "6: (_top.lsp-top131^482^TOP-COMPILE-FILE.27)\n",
      "7: (TERMINAL-INTERRUPT)\n",
      "8: (_top.lsp-top131^482^TOP-COMPILE-FILE.28)\n",
      "9: (_top.lsp-top131^482^TOP-COMPILE-FILE.27)\n",
      "10: (TERMINAL-INTERRUPT)\n",
      "11: (_molecules.lisp-^150^TOP-COMPILE-FILE.35)\n",
      "12: (_molecules.lisp-^150^TOP-COMPILE-FILE.33)\n",
      "13: (_molecules.lisp-^150^TOP-COMPILE-FILE.31)\n",
      "14: (MINIMIZE-NO-FAIL #<MINIMIZER >)\n",
      "15: (MINIMIZE-MINIMIZER #<MINIMIZER >)\n",
      "16: (APPLY #<FUNCTION ENERGY:MINIMIZE-MINIMIZER> #<MINIMIZER > NIL)\n",
      "17: (MINIMIZE-ENERGY-FUNCTION #<ENERGY-FUNCTION >)\n",
      "18: (APPLY #<FUNCTION ENERGY:MINIMIZE-ENERGY-FUNCTION> #<ENERGY-FUNCTION > NIL)\n",
      "19: (MINIMIZE #<AGGREGATE NIL 0>)\n",
      "20: (LAMBDA)\n",
      "\n"
     ]
    },
    {
     "data": {
      "text/plain": [
       "NIL"
      ]
     },
     "execution_count": 87,
     "metadata": {},
     "output_type": "execute_result"
    }
   ],
   "source": [
    "(minimize *agg*)"
   ]
  },
  {
   "cell_type": "code",
   "execution_count": 114,
   "metadata": {},
   "outputs": [
    {
     "name": "stdout",
     "output_type": "stream",
     "text": [
      "Constructing energy function\n",
      "Writing to /tmp/agg.top\n",
      "Starting prepare-amber-energy-dihedral\n",
      "Ordering i1,i2,i3,i4 prepare-amber-energy-dihedral\n",
      "1-4 interactions prepare-amber-energy-dihedral\n",
      "Counting w and w/o water prepare-amber-energy-dihedral\n",
      "Extracting prepare-amber-energy-dihedral\n",
      "Saving     [*************************************....] ETC:   0.5 secondssolvent_pointers info: iptres nspm nspsol -> NIL NIL NIL\n",
      "Saving     [*******************************************] ETC: --\n"
     ]
    },
    {
     "name": "stderr",
     "output_type": "stream",
     "text": [
      "\n",
      "There should be a short residue name for NPRO - truncating\n",
      "\n",
      "There should be a short residue name for CGLN - truncating\n",
      "\n",
      "There should be a short residue name for NLYS - truncating\n",
      "\n",
      "There should be a short residue name for CCYS - truncating\n"
     ]
    },
    {
     "data": {
      "text/plain": [
       "#<ENERGY-FUNCTION >"
      ]
     },
     "execution_count": 114,
     "metadata": {},
     "output_type": "execute_result"
    }
   ],
   "source": [
    "saveAmberParm memb \"/tmp/agg.top\" \"/tmp/agg.crd\""
   ]
  },
  {
   "cell_type": "code",
   "execution_count": 61,
   "metadata": {},
   "outputs": [
    {
     "data": {
      "text/plain": [
       "#<RIGID-BODY-ENERGY-FUNCTION >"
      ]
     },
     "execution_count": 61,
     "metadata": {},
     "output_type": "execute_result"
    }
   ],
   "source": [
    "(membrane-packer::build-rigid-body-energy-function *memb*)"
   ]
  },
  {
   "cell_type": "code",
   "execution_count": 27,
   "metadata": {},
   "outputs": [
    {
     "name": "stderr",
     "output_type": "stream",
     "text": [
      "\n",
      "Undefined variable *MEMB*\n",
      "\n",
      "An error occurred of type: UNBOUND-VARIABLE: \n",
      "  The variable *MEMB* is unbound.\n",
      "\n",
      "serious-condition backtrace:\n",
      "0: (ERROR UNBOUND-VARIABLE :NAME *MEMB*)\n",
      "1: (LAMBDA)\n",
      "\n"
     ]
    },
    {
     "data": {
      "text/plain": [
       "NIL"
      ]
     },
     "execution_count": 27,
     "metadata": {},
     "output_type": "execute_result"
    }
   ],
   "source": [
    "(defparameter *efp* (multiple-value-list (membrane-packer::build-rigid-body-energy-function *memb*)))"
   ]
  },
  {
   "cell_type": "code",
   "execution_count": 64,
   "metadata": {},
   "outputs": [
    {
     "data": {
      "text/plain": [
       "*EF*"
      ]
     },
     "execution_count": 64,
     "metadata": {},
     "output_type": "execute_result"
    }
   ],
   "source": [
    "(defparameter *ef* (first *efp*))"
   ]
  },
  {
   "cell_type": "code",
   "execution_count": 66,
   "metadata": {},
   "outputs": [
    {
     "data": {
      "text/plain": [
       "*FORCE*"
      ]
     },
     "execution_count": 66,
     "metadata": {},
     "output_type": "execute_result"
    }
   ],
   "source": [
    "(defparameter *force* (make-array (chem:get-nvector-size *ef*) :element-type 'double-float))"
   ]
  },
  {
   "cell_type": "code",
   "execution_count": 67,
   "metadata": {},
   "outputs": [
    {
     "data": {
      "text/plain": [
       "*POS*"
      ]
     },
     "execution_count": 67,
     "metadata": {},
     "output_type": "execute_result"
    }
   ],
   "source": [
    "(defparameter *pos* (second *efp*))"
   ]
  },
  {
   "cell_type": "code",
   "execution_count": 69,
   "metadata": {},
   "outputs": [
    {
     "data": {
      "text/plain": [
       "4.623621002369209d10"
      ]
     },
     "execution_count": 69,
     "metadata": {},
     "output_type": "execute_result"
    }
   ],
   "source": [
    "(chem:evaluate-energy-force *ef* *pos* t *force*)"
   ]
  },
  {
   "cell_type": "code",
   "execution_count": 63,
   "metadata": {},
   "outputs": [
    {
     "data": {
      "text/plain": [
       "4.623621002369209d10"
      ]
     },
     "execution_count": 63,
     "metadata": {},
     "output_type": "execute_result"
    }
   ],
   "source": [
    "(apply 'chem:evaluate-energy *efp*)"
   ]
  },
  {
   "cell_type": "code",
   "execution_count": 115,
   "metadata": {},
   "outputs": [
    {
     "name": "stdout",
     "output_type": "stream",
     "text": [
      "Dynamics step 0\n",
      "Dynamics step 1\n",
      "Dynamics step 2\n",
      "Dynamics step 3\n",
      "Dynamics step 4\n"
     ]
    },
    {
     "data": {
      "text/plain": [
       "*DYN*"
      ]
     },
     "execution_count": 115,
     "metadata": {},
     "output_type": "execute_result"
    }
   ],
   "source": [
    "(defparameter *dyn* (membrane-packer::simulate-membrane |memb| 5))"
   ]
  },
  {
   "cell_type": "code",
   "execution_count": 117,
   "metadata": {},
   "outputs": [
    {
     "data": {
      "application/vnd.jupyter.widget-view+json": {
       "model_id": "B989EAF0-ABD7-4D58-8E36-5288F5616EDF",
       "version_major": 2,
       "version_minor": 0
      },
      "text/plain": [
       "#<NGLV:NGLWIDGET>"
      ]
     },
     "execution_count": 117,
     "metadata": {},
     "output_type": "execute_result"
    }
   ],
   "source": [
    "v = show *DYN*"
   ]
  },
  {
   "cell_type": "code",
   "execution_count": 119,
   "metadata": {},
   "outputs": [
    {
     "data": {
      "text/plain": [
       "T"
      ]
     },
     "execution_count": 119,
     "metadata": {},
     "output_type": "execute_result"
    }
   ],
   "source": [
    "(nglv:add-representation |v| \"ball+stick\" :selection \"protein\")"
   ]
  },
  {
   "cell_type": "code",
   "execution_count": 59,
   "metadata": {},
   "outputs": [
    {
     "name": "stdout",
     "output_type": "stream",
     "text": [
      "CHEM:ENERGY-RIGID-BODY-COMPONENT\n",
      "CHEM:ENERGY-RIGID-BODY-NONBOND\n",
      "CHEM:ENERGY-RIGID-BODY-NONBOND-SET-TERM  Function\n",
      "CHEM:ENERGY-RIGID-BODY-STAPLE\n",
      "CHEM:ENERGY-RIGID-BODY-STAPLE-ADD-TERM  Function\n",
      "CHEM:MAKE-ENERGY-RIGID-BODY-NONBOND  Function\n",
      "CHEM:MAKE-ENERGY-RIGID-BODY-STAPLE  Function\n",
      "CHEM:MAKE-RIGID-BODY-ENERGY-FUNCTION  Function\n",
      "CHEM::NUMBER_OF_RIGID_BODIES\n",
      "CORE::NUMBER_OF_RIGID_BODIES\n",
      "CHEM:RIGID-BODY-ENERGY-FUNCTION\n",
      "CHEM:RIGID-BODY-ENERGY-FUNCTION-ADD-TERM  Function\n",
      "CHEM:RIGID-BODY-ENERGY-FUNCTION-GET-POSITION  Function\n",
      "CHEM:RIGID-BODY-ENERGY-FUNCTION-NORMALIZE-POSITION  Function\n",
      "CHEM:RIGID-BODY-ENERGY-FUNCTION-SET-POSITION  Function\n",
      "CHEM:RIGID-BODY-ENERGY-FUNCTION-TERMS  Function\n"
     ]
    },
    {
     "data": {
      "text/plain": [
       "NIL"
      ]
     },
     "execution_count": 59,
     "metadata": {},
     "output_type": "execute_result"
    }
   ],
   "source": [
    "(apropos \"rigid\")"
   ]
  },
  {
   "cell_type": "code",
   "execution_count": 37,
   "metadata": {},
   "outputs": [
    {
     "name": "stdout",
     "output_type": "stream",
     "text": [
      "Saving matter to /tmp/agg.mol2\n"
     ]
    },
    {
     "data": {
      "text/plain": [
       "NIL"
      ]
     },
     "execution_count": 37,
     "metadata": {},
     "output_type": "execute_result"
    }
   ],
   "source": [
    "(save-mol2 *agg* \"/tmp/agg.mol2\" :use-sybyl-types t)"
   ]
  },
  {
   "cell_type": "code",
   "execution_count": 16,
   "metadata": {},
   "outputs": [
    {
     "name": "stdout",
     "output_type": "stream",
     "text": [
      "Completed  100.0% elapsed:  37.0 seconds ETC: --   There are 437 close-contacts of a possible 375498016\n"
     ]
    },
    {
     "data": {
      "text/plain": [
       "*CLOSE-CONTACTS*"
      ]
     },
     "execution_count": 16,
     "metadata": {},
     "output_type": "execute_result"
    }
   ],
   "source": [
    "(defparameter *close-contacts* (membrane-packer::close-contacts *atomvecs*))"
   ]
  },
  {
   "cell_type": "code",
   "execution_count": 17,
   "metadata": {},
   "outputs": [
    {
     "data": {
      "text/plain": [
       "T"
      ]
     },
     "execution_count": 17,
     "metadata": {},
     "output_type": "execute_result"
    }
   ],
   "source": [
    "(membrane-packer:add-close-contacts-as-shape |v| *close-contacts* :radius 2.0)"
   ]
  },
  {
   "cell_type": "code",
   "execution_count": 18,
   "metadata": {},
   "outputs": [
    {
     "data": {
      "text/plain": [
       "*WORK-LIST*"
      ]
     },
     "execution_count": 18,
     "metadata": {},
     "output_type": "execute_result"
    }
   ],
   "source": [
    "(defparameter *work-list* (membrane-packer::build-ga-membrane-work-list *memb*))"
   ]
  },
  {
   "cell_type": "code",
   "execution_count": 19,
   "metadata": {},
   "outputs": [
    {
     "data": {
      "text/plain": [
       "*WLSCORE*"
      ]
     },
     "execution_count": 19,
     "metadata": {},
     "output_type": "execute_result"
    }
   ],
   "source": [
    "(defparameter *wlscore* (multiple-value-list (membrane-packer::score-work-list *work-list* *memb*)))"
   ]
  },
  {
   "cell_type": "code",
   "execution_count": 20,
   "metadata": {},
   "outputs": [
    {
     "data": {
      "text/plain": [
       "(434 #<MEMBRANE-PACKER::COLLISIONS>)"
      ]
     },
     "execution_count": 20,
     "metadata": {},
     "output_type": "execute_result"
    }
   ],
   "source": [
    "*wlscore*"
   ]
  },
  {
   "cell_type": "code",
   "execution_count": 21,
   "metadata": {},
   "outputs": [
    {
     "data": {
      "text/plain": [
       "*SCORE*"
      ]
     },
     "execution_count": 21,
     "metadata": {},
     "output_type": "execute_result"
    }
   ],
   "source": [
    "(defparameter *score* (multiple-value-list (membrane-packer:score-ga-membrane *memb*)))"
   ]
  },
  {
   "cell_type": "code",
   "execution_count": 22,
   "metadata": {},
   "outputs": [
    {
     "data": {
      "text/plain": [
       "(434 #<MEMBRANE-PACKER::COLLISIONS>)"
      ]
     },
     "execution_count": 22,
     "metadata": {},
     "output_type": "execute_result"
    }
   ],
   "source": [
    "*score*"
   ]
  },
  {
   "cell_type": "code",
   "execution_count": 23,
   "metadata": {},
   "outputs": [
    {
     "data": {
      "text/plain": [
       "*COLLISIONS*"
      ]
     },
     "execution_count": 23,
     "metadata": {},
     "output_type": "execute_result"
    }
   ],
   "source": [
    "(defparameter *collisions* (second *score*))"
   ]
  },
  {
   "cell_type": "code",
   "execution_count": 24,
   "metadata": {},
   "outputs": [
    {
     "data": {
      "text/plain": [
       "T"
      ]
     },
     "execution_count": 24,
     "metadata": {},
     "output_type": "execute_result"
    }
   ],
   "source": [
    "(membrane-packer:add-collisions-as-shape |v| *collisions* :radius 2.1)"
   ]
  },
  {
   "cell_type": "markdown",
   "metadata": {},
   "source": [
    "# Test GA"
   ]
  },
  {
   "cell_type": "code",
   "execution_count": 35,
   "metadata": {},
   "outputs": [
    {
     "name": "stderr",
     "output_type": "stream",
     "text": [
      "\n",
      "We should fill in a few more lipids from solute-colliders to fill in the membrane\n",
      "\n",
      "We should fill in a few more lipids from solute-colliders to fill in the membrane\n"
     ]
    },
    {
     "data": {
      "text/plain": [
       "#<MEMBRANE-PACKER::GA-MEMBRANE>"
      ]
     },
     "execution_count": 35,
     "metadata": {},
     "output_type": "execute_result"
    }
   ],
   "source": [
    "memb1 = (membrane-packer:build-ga-membrane prot)"
   ]
  },
  {
   "cell_type": "code",
   "execution_count": 36,
   "metadata": {},
   "outputs": [
    {
     "data": {
      "text/plain": [
       "(#<MEMBRANE-PACKER::GA-MEMBRANE> #<MEMBRANE-PACKER::GA-MEMBRANE>\n",
       " #<MEMBRANE-PACKER::GA-MEMBRANE> #<MEMBRANE-PACKER::GA-MEMBRANE>\n",
       " #<MEMBRANE-PACKER::GA-MEMBRANE> #<MEMBRANE-PACKER::GA-MEMBRANE>\n",
       " #<MEMBRANE-PACKER::GA-MEMBRANE> #<MEMBRANE-PACKER::GA-MEMBRANE>\n",
       " #<MEMBRANE-PACKER::GA-MEMBRANE> #<MEMBRANE-PACKER::GA-MEMBRANE>\n",
       " #<MEMBRANE-PACKER::GA-MEMBRANE> #<MEMBRANE-PACKER::GA-MEMBRANE>\n",
       " #<MEMBRANE-PACKER::GA-MEMBRANE> #<MEMBRANE-PACKER::GA-MEMBRANE>\n",
       " #<MEMBRANE-PACKER::GA-MEMBRANE> #<MEMBRANE-PACKER::GA-MEMBRANE>\n",
       " #<MEMBRANE-PACKER::GA-MEMBRANE> #<MEMBRANE-PACKER::GA-MEMBRANE>\n",
       " #<MEMBRANE-PACKER::GA-MEMBRANE> #<MEMBRANE-PACKER::GA-MEMBRANE>\n",
       " #<MEMBRANE-PACKER::GA-MEMBRANE> #<MEMBRANE-PACKER::GA-MEMBRANE>\n",
       " #<MEMBRANE-PACKER::GA-MEMBRANE> #<MEMBRANE-PACKER::GA-MEMBRANE>\n",
       " #<MEMBRANE-PACKER::GA-MEMBRANE> #<MEMBRANE-PACKER::GA-MEMBRANE>\n",
       " #<MEMBRANE-PACKER::GA-MEMBRANE> #<MEMBRANE-PACKER::GA-MEMBRANE>\n",
       " #<MEMBRANE-PACKER::GA-MEMBRANE> #<MEMBRANE-PACKER::GA-MEMBRANE>\n",
       " #<MEMBRANE-PACKER::GA-MEMBRANE> #<MEMBRANE-PACKER::GA-MEMBRANE>\n",
       " #<MEMBRANE-PACKER::GA-MEMBRANE> #<MEMBRANE-PACKER::GA-MEMBRANE>\n",
       " #<MEMBRANE-PACKER::GA-MEMBRANE> #<MEMBRANE-PACKER::GA-MEMBRANE>\n",
       " #<MEMBRANE-PACKER::GA-MEMBRANE> #<MEMBRANE-PACKER::GA-MEMBRANE>\n",
       " #<MEMBRANE-PACKER::GA-MEMBRANE> #<MEMBRANE-PACKER::GA-MEMBRANE>\n",
       " #<MEMBRANE-PACKER::GA-MEMBRANE> #<MEMBRANE-PACKER::GA-MEMBRANE>\n",
       " #<MEMBRANE-PACKER::GA-MEMBRANE> #<MEMBRANE-PACKER::GA-MEMBRANE>\n",
       " #<MEMBRANE-PACKER::GA-MEMBRANE> #<MEMBRANE-PACKER::GA-MEMBRANE>\n",
       " #<MEMBRANE-PACKER::GA-MEMBRANE> #<MEMBRANE-PACKER::GA-MEMBRANE>\n",
       " #<MEMBRANE-PACKER::GA-MEMBRANE> #<MEMBRANE-PACKER::GA-MEMBRANE>\n",
       " #<MEMBRANE-PACKER::GA-MEMBRANE> #<MEMBRANE-PACKER::GA-MEMBRANE>\n",
       " #<MEMBRANE-PACKER::GA-MEMBRANE> #<MEMBRANE-PACKER::GA-MEMBRANE>\n",
       " #<MEMBRANE-PACKER::GA-MEMBRANE> #<MEMBRANE-PACKER::GA-MEMBRANE>\n",
       " #<MEMBRANE-PACKER::GA-MEMBRANE> #<MEMBRANE-PACKER::GA-MEMBRANE>\n",
       " #<MEMBRANE-PACKER::GA-MEMBRANE> #<MEMBRANE-PACKER::GA-MEMBRANE>\n",
       " #<MEMBRANE-PACKER::GA-MEMBRANE> #<MEMBRANE-PACKER::GA-MEMBRANE>\n",
       " #<MEMBRANE-PACKER::GA-MEMBRANE> #<MEMBRANE-PACKER::GA-MEMBRANE>\n",
       " #<MEMBRANE-PACKER::GA-MEMBRANE> #<MEMBRANE-PACKER::GA-MEMBRANE>\n",
       " #<MEMBRANE-PACKER::GA-MEMBRANE> #<MEMBRANE-PACKER::GA-MEMBRANE>\n",
       " #<MEMBRANE-PACKER::GA-MEMBRANE> #<MEMBRANE-PACKER::GA-MEMBRANE>\n",
       " #<MEMBRANE-PACKER::GA-MEMBRANE> #<MEMBRANE-PACKER::GA-MEMBRANE>\n",
       " #<MEMBRANE-PACKER::GA-MEMBRANE> #<MEMBRANE-PACKER::GA-MEMBRANE>\n",
       " #<MEMBRANE-PACKER::GA-MEMBRANE> #<MEMBRANE-PACKER::GA-MEMBRANE>\n",
       " #<MEMBRANE-PACKER::GA-MEMBRANE> #<MEMBRANE-PACKER::GA-MEMBRANE>\n",
       " #<MEMBRANE-PACKER::GA-MEMBRANE> #<MEMBRANE-PACKER::GA-MEMBRANE>\n",
       " #<MEMBRANE-PACKER::GA-MEMBRANE> #<MEMBRANE-PACKER::GA-MEMBRANE>\n",
       " #<MEMBRANE-PACKER::GA-MEMBRANE> #<MEMBRANE-PACKER::GA-MEMBRANE>\n",
       " #<MEMBRANE-PACKER::GA-MEMBRANE> #<MEMBRANE-PACKER::GA-MEMBRANE>\n",
       " #<MEMBRANE-PACKER::GA-MEMBRANE> #<MEMBRANE-PACKER::GA-MEMBRANE>\n",
       " #<MEMBRANE-PACKER::GA-MEMBRANE> #<MEMBRANE-PACKER::GA-MEMBRANE>\n",
       " #<MEMBRANE-PACKER::GA-MEMBRANE> #<MEMBRANE-PACKER::GA-MEMBRANE>\n",
       " #<MEMBRANE-PACKER::GA-MEMBRANE> #<MEMBRANE-PACKER::GA-MEMBRANE>\n",
       " #<MEMBRANE-PACKER::GA-MEMBRANE> #<MEMBRANE-PACKER::GA-MEMBRANE>\n",
       " #<MEMBRANE-PACKER::GA-MEMBRANE> #<MEMBRANE-PACKER::GA-MEMBRANE>\n",
       " #<MEMBRANE-PACKER::GA-MEMBRANE> #<MEMBRANE-PACKER::GA-MEMBRANE>\n",
       " #<MEMBRANE-PACKER::GA-MEMBRANE> #<MEMBRANE-PACKER::GA-MEMBRANE>\n",
       " #<MEMBRANE-PACKER::GA-MEMBRANE> #<MEMBRANE-PACKER::GA-MEMBRANE>\n",
       " #<MEMBRANE-PACKER::GA-MEMBRANE> #<MEMBRANE-PACKER::GA-MEMBRANE>\n",
       " #<MEMBRANE-PACKER::GA-MEMBRANE> #<MEMBRANE-PACKER::GA-MEMBRANE>\n",
       " #<MEMBRANE-PACKER::GA-MEMBRANE> #<MEMBRANE-PACKER::GA-MEMBRANE>\n",
       " #<MEMBRANE-PACKER::GA-MEMBRANE> #<MEMBRANE-PACKER::GA-MEMBRANE>\n",
       " #<MEMBRANE-PACKER::GA-MEMBRANE> #<MEMBRANE-PACKER::GA-MEMBRANE>\n",
       " #<MEMBRANE-PACKER::GA-MEMBRANE> #<MEMBRANE-PACKER::GA-MEMBRANE>\n",
       " #<MEMBRANE-PACKER::GA-MEMBRANE> #<MEMBRANE-PACKER::GA-MEMBRANE>\n",
       " #<MEMBRANE-PACKER::GA-MEMBRANE> #<MEMBRANE-PACKER::GA-MEMBRANE>\n",
       " #<MEMBRANE-PACKER::GA-MEMBRANE> #<MEMBRANE-PACKER::GA-MEMBRANE>\n",
       " #<MEMBRANE-PACKER::GA-MEMBRANE> #<MEMBRANE-PACKER::GA-MEMBRANE>\n",
       " #<MEMBRANE-PACKER::GA-MEMBRANE> #<MEMBRANE-PACKER::GA-MEMBRANE>\n",
       " #<MEMBRANE-PACKER::GA-MEMBRANE> #<MEMBRANE-PACKER::GA-MEMBRANE>\n",
       " #<MEMBRANE-PACKER::GA-MEMBRANE> #<MEMBRANE-PACKER::GA-MEMBRANE>\n",
       " #<MEMBRANE-PACKER::GA-MEMBRANE> #<MEMBRANE-PACKER::GA-MEMBRANE>\n",
       " #<MEMBRANE-PACKER::GA-MEMBRANE> #<MEMBRANE-PACKER::GA-MEMBRANE>\n",
       " #<MEMBRANE-PACKER::GA-MEMBRANE> #<MEMBRANE-PACKER::GA-MEMBRANE>\n",
       " #<MEMBRANE-PACKER::GA-MEMBRANE> #<MEMBRANE-PACKER::GA-MEMBRANE>\n",
       " #<MEMBRANE-PACKER::GA-MEMBRANE> #<MEMBRANE-PACKER::GA-MEMBRANE>\n",
       " #<MEMBRANE-PACKER::GA-MEMBRANE> #<MEMBRANE-PACKER::GA-MEMBRANE>\n",
       " #<MEMBRANE-PACKER::GA-MEMBRANE> #<MEMBRANE-PACKER::GA-MEMBRANE>\n",
       " #<MEMBRANE-PACKER::GA-MEMBRANE> #<MEMBRANE-PACKER::GA-MEMBRANE>\n",
       " #<MEMBRANE-PACKER::GA-MEMBRANE> #<MEMBRANE-PACKER::GA-MEMBRANE>\n",
       " #<MEMBRANE-PACKER::GA-MEMBRANE> #<MEMBRANE-PACKER::GA-MEMBRANE>\n",
       " #<MEMBRANE-PACKER::GA-MEMBRANE> #<MEMBRANE-PACKER::GA-MEMBRANE>\n",
       " #<MEMBRANE-PACKER::GA-MEMBRANE> #<MEMBRANE-PACKER::GA-MEMBRANE>\n",
       " #<MEMBRANE-PACKER::GA-MEMBRANE> #<MEMBRANE-PACKER::GA-MEMBRANE>\n",
       " #<MEMBRANE-PACKER::GA-MEMBRANE> #<MEMBRANE-PACKER::GA-MEMBRANE>\n",
       " #<MEMBRANE-PACKER::GA-MEMBRANE> #<MEMBRANE-PACKER::GA-MEMBRANE>\n",
       " #<MEMBRANE-PACKER::GA-MEMBRANE> #<MEMBRANE-PACKER::GA-MEMBRANE>\n",
       " #<MEMBRANE-PACKER::GA-MEMBRANE> #<MEMBRANE-PACKER::GA-MEMBRANE>\n",
       " #<MEMBRANE-PACKER::GA-MEMBRANE> #<MEMBRANE-PACKER::GA-MEMBRANE>\n",
       " #<MEMBRANE-PACKER::GA-MEMBRANE> #<MEMBRANE-PACKER::GA-MEMBRANE>\n",
       " #<MEMBRANE-PACKER::GA-MEMBRANE> #<MEMBRANE-PACKER::GA-MEMBRANE>\n",
       " #<MEMBRANE-PACKER::GA-MEMBRANE> #<MEMBRANE-PACKER::GA-MEMBRANE>\n",
       " #<MEMBRANE-PACKER::GA-MEMBRANE> #<MEMBRANE-PACKER::GA-MEMBRANE>\n",
       " #<MEMBRANE-PACKER::GA-MEMBRANE> #<MEMBRANE-PACKER::GA-MEMBRANE>\n",
       " #<MEMBRANE-PACKER::GA-MEMBRANE> #<MEMBRANE-PACKER::GA-MEMBRANE>\n",
       " #<MEMBRANE-PACKER::GA-MEMBRANE> #<MEMBRANE-PACKER::GA-MEMBRANE>\n",
       " #<MEMBRANE-PACKER::GA-MEMBRANE> #<MEMBRANE-PACKER::GA-MEMBRANE>\n",
       " #<MEMBRANE-PACKER::GA-MEMBRANE> #<MEMBRANE-PACKER::GA-MEMBRANE>\n",
       " #<MEMBRANE-PACKER::GA-MEMBRANE> #<MEMBRANE-PACKER::GA-MEMBRANE>\n",
       " #<MEMBRANE-PACKER::GA-MEMBRANE> #<MEMBRANE-PACKER::GA-MEMBRANE>\n",
       " #<MEMBRANE-PACKER::GA-MEMBRANE> #<MEMBRANE-PACKER::GA-MEMBRANE>\n",
       " #<MEMBRANE-PACKER::GA-MEMBRANE> #<MEMBRANE-PACKER::GA-MEMBRANE>\n",
       " #<MEMBRANE-PACKER::GA-MEMBRANE> #<MEMBRANE-PACKER::GA-MEMBRANE>\n",
       " #<MEMBRANE-PACKER::GA-MEMBRANE> #<MEMBRANE-PACKER::GA-MEMBRANE>\n",
       " #<MEMBRANE-PACKER::GA-MEMBRANE> #<MEMBRANE-PACKER::GA-MEMBRANE>\n",
       " #<MEMBRANE-PACKER::GA-MEMBRANE> #<MEMBRANE-PACKER::GA-MEMBRANE>)"
      ]
     },
     "execution_count": 36,
     "metadata": {},
     "output_type": "execute_result"
    }
   ],
   "source": [
    "membs = (membrane-packer::build-population memb1)"
   ]
  },
  {
   "cell_type": "code",
   "execution_count": 59,
   "metadata": {},
   "outputs": [
    {
     "data": {
      "text/plain": [
       "'( 70.7107 69.9854 88.479)"
      ]
     },
     "execution_count": 59,
     "metadata": {},
     "output_type": "execute_result"
    }
   ],
   "source": [
    "(chem:get-bounding-box-widths (membrane-packer::bounding-box memb1))"
   ]
  },
  {
   "cell_type": "code",
   "execution_count": 74,
   "metadata": {},
   "outputs": [
    {
     "name": "stdout",
     "output_type": "stream",
     "text": [
      "bound0 bound1 -> 0.1122748 0.94081503\n",
      "min-corner: '( -35.3553 -34.9927 -44.2395)\n",
      "max-corner: '( 35.3553 34.9927 44.2395)\n"
     ]
    },
    {
     "data": {
      "text/plain": [
       "#<MEMBRANE-PACKER::GA-MEMBRANE>"
      ]
     },
     "execution_count": 74,
     "metadata": {},
     "output_type": "execute_result"
    }
   ],
   "source": [
    "(membrane-packer::cross-membranes (elt membs 0) (elt membs 1))"
   ]
  },
  {
   "cell_type": "code",
   "execution_count": 76,
   "metadata": {},
   "outputs": [
    {
     "data": {
      "text/plain": [
       "291"
      ]
     },
     "execution_count": 76,
     "metadata": {},
     "output_type": "execute_result"
    }
   ],
   "source": [
    "(membrane-packer::score-ga-membrane (elt membs 0))"
   ]
  },
  {
   "cell_type": "code",
   "execution_count": 77,
   "metadata": {},
   "outputs": [
    {
     "data": {
      "text/plain": [
       "324"
      ]
     },
     "execution_count": 77,
     "metadata": {},
     "output_type": "execute_result"
    }
   ],
   "source": [
    "(membrane-packer::score-ga-membrane (elt membs 1))"
   ]
  },
  {
   "cell_type": "code",
   "execution_count": 84,
   "metadata": {},
   "outputs": [
    {
     "data": {
      "text/plain": [
       "279"
      ]
     },
     "execution_count": 84,
     "metadata": {},
     "output_type": "execute_result"
    }
   ],
   "source": [
    "(membrane-packer::score-ga-membrane (membrane-packer::cross-membranes (elt membs 0) (elt membs 1)))"
   ]
  },
  {
   "cell_type": "code",
   "execution_count": 20,
   "metadata": {},
   "outputs": [
    {
     "data": {
      "text/plain": [
       "#<AGGREGATE NIL 0>"
      ]
     },
     "execution_count": 20,
     "metadata": {},
     "output_type": "execute_result"
    }
   ],
   "source": [
    "agg = (membrane-packer::build-aggregate-from-ga-membrane one-membrane :debug t)"
   ]
  },
  {
   "cell_type": "code",
   "execution_count": 21,
   "metadata": {},
   "outputs": [
    {
     "data": {
      "application/vnd.jupyter.widget-view+json": {
       "model_id": "2017384E-D533-4CCC-8907-213BDC5FCA51",
       "version_major": 2,
       "version_minor": 0
      },
      "text/plain": [
       "#<NGLV:NGLWIDGET>"
      ]
     },
     "execution_count": 21,
     "metadata": {},
     "output_type": "execute_result"
    }
   ],
   "source": [
    "(show agg :shapes (list :close (membrane-packer::overlapping-octrees-as-shape one-membrane 40)))"
   ]
  },
  {
   "cell_type": "code",
   "execution_count": 35,
   "metadata": {},
   "outputs": [
    {
     "name": "stdout",
     "output_type": "stream",
     "text": [
      "Total scores: 2278   lipid-scores: 512     solute-scores: 54\n"
     ]
    },
    {
     "data": {
      "text/plain": [
       "407"
      ]
     },
     "execution_count": 35,
     "metadata": {},
     "output_type": "execute_result"
    }
   ],
   "source": [
    "(membrane-packer::score-ga-membrane one-membrane)"
   ]
  },
  {
   "cell_type": "code",
   "execution_count": 26,
   "metadata": {},
   "outputs": [
    {
     "data": {
      "text/plain": [
       "*WL*"
      ]
     },
     "execution_count": 26,
     "metadata": {},
     "output_type": "execute_result"
    }
   ],
   "source": [
    "(defparameter *wl* (membrane-packer::build-ga-membrane-work-list *tm*))"
   ]
  },
  {
   "cell_type": "code",
   "execution_count": 27,
   "metadata": {},
   "outputs": [
    {
     "data": {
      "text/plain": [
       "*MEMBRANES*"
      ]
     },
     "execution_count": 27,
     "metadata": {},
     "output_type": "execute_result"
    }
   ],
   "source": [
    "(defparameter *membranes* (membrane-packer::build-population *tm*))"
   ]
  },
  {
   "cell_type": "code",
   "execution_count": 28,
   "metadata": {},
   "outputs": [
    {
     "data": {
      "text/plain": [
       "*SORTED-SCORED-POP*"
      ]
     },
     "execution_count": 28,
     "metadata": {},
     "output_type": "execute_result"
    }
   ],
   "source": [
    "(defparameter *sorted-scored-pop* (membrane-packer::score-membranes *wl* *membranes*))"
   ]
  },
  {
   "cell_type": "code",
   "execution_count": 29,
   "metadata": {},
   "outputs": [
    {
     "name": "stdout",
     "output_type": "stream",
     "text": [
      "Generation 0   size 200\n",
      "  ... least collisions -> (268 270 276 282 282 287 288 288 289 289)\n",
      "Generation 1   size 200\n",
      "  ... least collisions -> (206 216 216 221 221 224 226 228 229 230)\n",
      "Generation 2   size 200\n",
      "  ... least collisions -> (153 164 169 174 179 182 189 191 192 192)\n",
      "Generation 3   size 200\n",
      "  ... least collisions -> (154 154 154 154 160 162 162 171 171 171)\n",
      "Generation 4   size 200\n",
      "  ... least collisions -> (137 141 145 146 146 147 149 150 150 150)\n",
      "Generation 5   size 200\n",
      "  ... least collisions -> (134 134 136 137 137 137 138 138 138 140)\n",
      "Generation 6   size 200\n",
      "  ... least collisions -> (107 112 112 115 117 117 118 118 120 123)\n",
      "Generation 7   size 200\n",
      "  ... least collisions -> (103 103 105 105 106 106 112 114 115 115)\n",
      "Generation 8   size 200\n",
      "  ... least collisions -> (86 88 94 94 95 95 96 99 100 100)\n",
      "Generation 9   size 200\n",
      "  ... least collisions -> (59 74 74 76 77 77 77 77 77 78)\n",
      "Generation 10  size 200\n",
      "  ... least collisions -> (55 57 58 59 60 61 61 62 63 63)\n",
      "Generation 11  size 200\n",
      "  ... least collisions -> (37 44 45 45 46 47 48 48 49 50)\n",
      "Generation 12  size 200\n",
      "  ... least collisions -> (30 34 38 39 39 39 39 39 40 41)\n",
      "Generation 13  size 200\n",
      "  ... least collisions -> (24 28 29 30 30 31 31 32 32 33)\n",
      "Generation 14  size 200\n",
      "  ... least collisions -> (23 26 26 26 26 26 27 28 28 28)\n",
      "Generation 15  size 200\n",
      "  ... least collisions -> (17 19 20 20 21 22 22 23 23 24)\n",
      "Generation 16  size 200\n",
      "  ... least collisions -> (9 9 13 14 15 16 17 18 18 18)\n",
      "Generation 17  size 200\n",
      "  ... least collisions -> (3 6 6 7 7 8 8 9 9 9)\n",
      "Generation 18  size 200\n",
      "  ... least collisions -> (6 6 6 6 6 7 7 7 7 7)\n",
      "Generation 19  size 200\n",
      "  ... least collisions -> (3 3 4 4 4 4 4 4 4 4)\n",
      "Generation 20  size 200\n",
      "  ... least collisions -> (0 1 1 1 2 2 2 2 3 3)\n"
     ]
    },
    {
     "data": {
      "text/plain": [
       "*SCORED-MEMBRANES*"
      ]
     },
     "execution_count": 29,
     "metadata": {},
     "output_type": "execute_result"
    }
   ],
   "source": [
    "(defparameter *scored-membranes* (membrane-packer:pack *prot* :parallel t :number-of-generations 40))"
   ]
  },
  {
   "cell_type": "code",
   "execution_count": 30,
   "metadata": {},
   "outputs": [
    {
     "data": {
      "text/plain": [
       "*SCORED-MEMBRANE*"
      ]
     },
     "execution_count": 30,
     "metadata": {},
     "output_type": "execute_result"
    }
   ],
   "source": [
    "(defparameter *scored-membrane* (first *scored-membranes*))"
   ]
  },
  {
   "cell_type": "code",
   "execution_count": 31,
   "metadata": {},
   "outputs": [
    {
     "data": {
      "text/plain": [
       "#<MEMBRANE-PACKER::SCORED-MEMBRANE>"
      ]
     },
     "execution_count": 31,
     "metadata": {},
     "output_type": "execute_result"
    }
   ],
   "source": [
    "*scored-membrane*"
   ]
  },
  {
   "cell_type": "code",
   "execution_count": 32,
   "metadata": {},
   "outputs": [
    {
     "data": {
      "text/plain": [
       "*MEMB0*"
      ]
     },
     "execution_count": 32,
     "metadata": {},
     "output_type": "execute_result"
    }
   ],
   "source": [
    "(defparameter *memb0* (membrane-packer::membrane *scored-membrane*))"
   ]
  },
  {
   "cell_type": "code",
   "execution_count": 33,
   "metadata": {},
   "outputs": [
    {
     "data": {
      "text/plain": [
       "#<MEMBRANE-PACKER::GA-MEMBRANE>"
      ]
     },
     "execution_count": 33,
     "metadata": {},
     "output_type": "execute_result"
    }
   ],
   "source": [
    "*memb0*"
   ]
  },
  {
   "cell_type": "code",
   "execution_count": null,
   "metadata": {},
   "outputs": [],
   "source": [
    "(membrane-packer::evolve2 *memb0* :close-distance 2.0)"
   ]
  },
  {
   "cell_type": "code",
   "execution_count": 40,
   "metadata": {},
   "outputs": [
    {
     "data": {
      "text/plain": [
       "*COLLISION0*"
      ]
     },
     "execution_count": 40,
     "metadata": {},
     "output_type": "execute_result"
    }
   ],
   "source": [
    "(defparameter *collision0* (membrane-packer::collisions *scored-membrane*))"
   ]
  },
  {
   "cell_type": "code",
   "execution_count": 41,
   "metadata": {},
   "outputs": [
    {
     "data": {
      "text/plain": [
       "#<MEMBRANE-PACKER::COLLISIONS>"
      ]
     },
     "execution_count": 41,
     "metadata": {},
     "output_type": "execute_result"
    }
   ],
   "source": [
    "*collision0*"
   ]
  },
  {
   "cell_type": "code",
   "execution_count": 42,
   "metadata": {},
   "outputs": [
    {
     "data": {
      "text/plain": [
       "*AGG-ATOMVECS*"
      ]
     },
     "execution_count": 42,
     "metadata": {},
     "output_type": "execute_result"
    }
   ],
   "source": [
    "(defparameter *agg-atomvecs* (multiple-value-list (membrane-packer::build-aggregate-from-ga-membrane *memb0* :debug t)))"
   ]
  },
  {
   "cell_type": "code",
   "execution_count": 43,
   "metadata": {},
   "outputs": [
    {
     "data": {
      "text/plain": [
       "(#<AGGREGATE NIL 0> #<MEMBRANE-PACKER::ATOM-VECTORS>)"
      ]
     },
     "execution_count": 43,
     "metadata": {},
     "output_type": "execute_result"
    }
   ],
   "source": [
    "*agg-atomvecs*"
   ]
  },
  {
   "cell_type": "code",
   "execution_count": 44,
   "metadata": {},
   "outputs": [
    {
     "data": {
      "text/plain": [
       "*AGG*"
      ]
     },
     "execution_count": 44,
     "metadata": {},
     "output_type": "execute_result"
    }
   ],
   "source": [
    "(defparameter *agg* (first *agg-atomvecs*))"
   ]
  },
  {
   "cell_type": "code",
   "execution_count": 45,
   "metadata": {},
   "outputs": [
    {
     "data": {
      "application/vnd.jupyter.widget-view+json": {
       "model_id": "2C0DE904-A7D3-4E2D-8F64-77209E0F7470",
       "version_major": 2,
       "version_minor": 0
      },
      "text/plain": [
       "#<NGLV:NGLWIDGET>"
      ]
     },
     "execution_count": 45,
     "metadata": {},
     "output_type": "execute_result"
    }
   ],
   "source": [
    "show *AGG*"
   ]
  },
  {
   "cell_type": "code",
   "execution_count": 46,
   "metadata": {},
   "outputs": [
    {
     "data": {
      "text/plain": [
       "*ATOMVECS*"
      ]
     },
     "execution_count": 46,
     "metadata": {},
     "output_type": "execute_result"
    }
   ],
   "source": [
    "(defparameter *atomvecs* (second *agg-atomvecs*))"
   ]
  },
  {
   "cell_type": "code",
   "execution_count": 47,
   "metadata": {},
   "outputs": [
    {
     "name": "stderr",
     "output_type": "stream",
     "text": [
      "\n",
      "Undefined variable *V*\n"
     ]
    },
    {
     "data": {
      "application/vnd.jupyter.widget-view+json": {
       "model_id": "EF74A0AF-7477-4B2A-875A-F0593DA7DB3A",
       "version_major": 2,
       "version_minor": 0
      },
      "text/plain": [
       "#<NGLV:NGLWIDGET>"
      ]
     },
     "execution_count": 47,
     "metadata": {},
     "output_type": "execute_result"
    }
   ],
   "source": [
    "(defparameter *v* (show *agg* :axes t)) *v*"
   ]
  },
  {
   "cell_type": "code",
   "execution_count": 48,
   "metadata": {},
   "outputs": [
    {
     "name": "stdout",
     "output_type": "stream",
     "text": [
      "Completed  100.0% elapsed:  31.0 seconds ETC: --   There are 4 close-contacts of a possible 371779650\n"
     ]
    },
    {
     "data": {
      "text/plain": [
       "*CLOSE-CONTACTS*"
      ]
     },
     "execution_count": 48,
     "metadata": {},
     "output_type": "execute_result"
    }
   ],
   "source": [
    "(defparameter *close-contacts* (membrane-packer::close-contacts *atomvecs*))"
   ]
  },
  {
   "cell_type": "code",
   "execution_count": 49,
   "metadata": {},
   "outputs": [
    {
     "data": {
      "text/plain": [
       "T"
      ]
     },
     "execution_count": 49,
     "metadata": {},
     "output_type": "execute_result"
    }
   ],
   "source": [
    "(membrane-packer:add-close-contacts-as-shape *v* *close-contacts* :radius 2.0)"
   ]
  },
  {
   "cell_type": "code",
   "execution_count": 50,
   "metadata": {},
   "outputs": [
    {
     "data": {
      "text/plain": [
       "*WORK-LIST*"
      ]
     },
     "execution_count": 50,
     "metadata": {},
     "output_type": "execute_result"
    }
   ],
   "source": [
    "(defparameter *work-list* (membrane-packer::build-ga-membrane-work-list *memb0*))"
   ]
  },
  {
   "cell_type": "code",
   "execution_count": 51,
   "metadata": {},
   "outputs": [
    {
     "data": {
      "text/plain": [
       "*WLSCORE*"
      ]
     },
     "execution_count": 51,
     "metadata": {},
     "output_type": "execute_result"
    }
   ],
   "source": [
    "(defparameter *wlscore* (multiple-value-list (membrane-packer::score-work-list *work-list* *memb0*)))"
   ]
  },
  {
   "cell_type": "code",
   "execution_count": 52,
   "metadata": {},
   "outputs": [
    {
     "data": {
      "text/plain": [
       "(0 #<MEMBRANE-PACKER::COLLISIONS>)"
      ]
     },
     "execution_count": 52,
     "metadata": {},
     "output_type": "execute_result"
    }
   ],
   "source": [
    "*wlscore*"
   ]
  },
  {
   "cell_type": "code",
   "execution_count": 53,
   "metadata": {},
   "outputs": [
    {
     "data": {
      "text/plain": [
       "*SCORE*"
      ]
     },
     "execution_count": 53,
     "metadata": {},
     "output_type": "execute_result"
    }
   ],
   "source": [
    "(defparameter *score* (multiple-value-list (membrane-packer:score-ga-membrane *memb0*)))"
   ]
  },
  {
   "cell_type": "code",
   "execution_count": 54,
   "metadata": {},
   "outputs": [
    {
     "data": {
      "text/plain": [
       "(4 #<MEMBRANE-PACKER::COLLISIONS>)"
      ]
     },
     "execution_count": 54,
     "metadata": {},
     "output_type": "execute_result"
    }
   ],
   "source": [
    "*score*"
   ]
  },
  {
   "cell_type": "code",
   "execution_count": 55,
   "metadata": {},
   "outputs": [
    {
     "data": {
      "text/plain": [
       "*COLLISIONS*"
      ]
     },
     "execution_count": 55,
     "metadata": {},
     "output_type": "execute_result"
    }
   ],
   "source": [
    "(defparameter *collisions* (second *score*))"
   ]
  },
  {
   "cell_type": "code",
   "execution_count": 56,
   "metadata": {},
   "outputs": [
    {
     "data": {
      "text/plain": [
       "T"
      ]
     },
     "execution_count": 56,
     "metadata": {},
     "output_type": "execute_result"
    }
   ],
   "source": [
    "(membrane-packer:add-collisions-as-shape *v* *collisions* :radius 2.1)"
   ]
  },
  {
   "cell_type": "markdown",
   "metadata": {},
   "source": [
    "# Try optimizing a membrane"
   ]
  },
  {
   "cell_type": "code",
   "execution_count": 52,
   "metadata": {},
   "outputs": [
    {
     "name": "stdout",
     "output_type": "stream",
     "text": [
      "Generation 0   ... least collisions -> (134 151 155 156 156 157 160 164 165 167)\n"
     ]
    },
    {
     "name": "stderr",
     "output_type": "stream",
     "text": [
      "\n",
      "An error occurred of type: SEQUENCE-OUT-OF-BOUNDS: \n",
      "  Sequence index 3 is out of bounds (INTEGER 0 2).\n",
      "\n",
      "serious-condition backtrace:\n",
      "0: (ERROR CORE:SEQUENCE-OUT-OF-BOUNDS :DATUM 3 :OBJECT (#<MEMBRANE-PACKER::SCORED-MEMBRANE> #<MEMBRANE-PACKER::SCORED-MEMBRANE> #<MEMBRANE-PACKER::SCORED-MEMBRANE>) :EXPECTED-TYPE (INTEGER 0 2))\n",
      "1: (EVOLVE #<AGGREGATE NIL @0x12beb7488> :INPUT-BOUNDING-BOX NIL :PARALLEL T :NUMBER-OF-GENERATIONS 100)\n",
      "2: (APPLY MEMBRANE-PACKER::EVOLVE #<AGGREGATE NIL @0x12beb7488> :INPUT-BOUNDING-BOX NIL (:PARALLEL T :NUMBER-OF-GENERATIONS 100))\n",
      "3: (PACK #<AGGREGATE NIL @0x12beb7488> :PARALLEL T :NUMBER-OF-GENERATIONS 100)\n",
      "4: (LAMBDA)\n",
      "\n"
     ]
    },
    {
     "data": {
      "text/plain": [
       "NIL"
      ]
     },
     "execution_count": 52,
     "metadata": {},
     "output_type": "execute_result"
    }
   ],
   "source": [
    "(defparameter *scored-membranes* (membrane-packer:pack *prot* :parallel t :number-of-generations 50))"
   ]
  },
  {
   "cell_type": "code",
   "execution_count": 37,
   "metadata": {},
   "outputs": [
    {
     "data": {
      "text/plain": [
       "*MEMB0*"
      ]
     },
     "execution_count": 37,
     "metadata": {},
     "output_type": "execute_result"
    }
   ],
   "source": [
    "(defparameter *memb0* (second (elt *scored-membranes* 0)))"
   ]
  },
  {
   "cell_type": "code",
   "execution_count": 38,
   "metadata": {},
   "outputs": [
    {
     "data": {
      "text/plain": [
       "*AGG0*"
      ]
     },
     "execution_count": 38,
     "metadata": {},
     "output_type": "execute_result"
    }
   ],
   "source": [
    "(defparameter *agg0* (membrane-packer::build-aggregate-from-ga-membrane *memb0* :debug t))"
   ]
  },
  {
   "cell_type": "code",
   "execution_count": 39,
   "metadata": {},
   "outputs": [
    {
     "data": {
      "application/vnd.jupyter.widget-view+json": {
       "model_id": "10D1B074-8C4A-40B8-8396-DDD584A64619",
       "version_major": 2,
       "version_minor": 0
      },
      "text/plain": [
       "#<NGLV:NGLWIDGET>"
      ]
     },
     "execution_count": 39,
     "metadata": {},
     "output_type": "execute_result"
    }
   ],
   "source": [
    "(defparameter *v0* (show *agg0*)) *v0*"
   ]
  },
  {
   "cell_type": "code",
   "execution_count": 40,
   "metadata": {},
   "outputs": [
    {
     "data": {
      "text/plain": [
       "*WL0*"
      ]
     },
     "execution_count": 40,
     "metadata": {},
     "output_type": "execute_result"
    }
   ],
   "source": [
    "(defparameter *wl0* (membrane-packer::build-ga-membrane-work-list *memb0*))"
   ]
  },
  {
   "cell_type": "code",
   "execution_count": 41,
   "metadata": {},
   "outputs": [
    {
     "data": {
      "text/plain": [
       "(1 #<MEMBRANE-PACKER::COLLISIONS>)"
      ]
     },
     "execution_count": 41,
     "metadata": {},
     "output_type": "execute_result"
    }
   ],
   "source": [
    "(multiple-value-list (membrane-packer::score-work-list *wl0* *memb0*))"
   ]
  },
  {
   "cell_type": "code",
   "execution_count": 42,
   "metadata": {},
   "outputs": [
    {
     "data": {
      "text/plain": [
       "*SCORE0*"
      ]
     },
     "execution_count": 42,
     "metadata": {},
     "output_type": "execute_result"
    }
   ],
   "source": [
    "(defparameter *score0* (multiple-value-list (membrane-packer::score-work-list *wl0* *memb0*)))"
   ]
  },
  {
   "cell_type": "code",
   "execution_count": 43,
   "metadata": {},
   "outputs": [
    {
     "data": {
      "text/plain": [
       "*COLLISIONS0*"
      ]
     },
     "execution_count": 43,
     "metadata": {},
     "output_type": "execute_result"
    }
   ],
   "source": [
    "(defparameter *collisions0* (second *score0*))"
   ]
  },
  {
   "cell_type": "code",
   "execution_count": 44,
   "metadata": {},
   "outputs": [
    {
     "data": {
      "text/plain": [
       "T"
      ]
     },
     "execution_count": 44,
     "metadata": {},
     "output_type": "execute_result"
    }
   ],
   "source": [
    "(membrane-packer:add-collisions-as-shape *v0* *collisions0* :radius 2.1)"
   ]
  },
  {
   "cell_type": "markdown",
   "metadata": {},
   "source": [
    "# Find two lipids that interact with yellow spheres (close contacts) but not magenta (collisions using octrees)"
   ]
  },
  {
   "cell_type": "code",
   "execution_count": 57,
   "metadata": {},
   "outputs": [
    {
     "data": {
      "text/plain": [
       "*L2*"
      ]
     },
     "execution_count": 57,
     "metadata": {},
     "output_type": "execute_result"
    }
   ],
   "source": [
    "(defparameter *l1* (membrane-packer::find-ga-lipid *memb* 9))\n",
    "(defparameter *l2* (membrane-packer::find-ga-lipid *memb* 169))"
   ]
  },
  {
   "cell_type": "code",
   "execution_count": 59,
   "metadata": {},
   "outputs": [
    {
     "name": "stdout",
     "output_type": "stream",
     "text": [
      "*l1* -> #<GA-LIPID :id 9 :lipid-index 94> .   *l2* -> #<GA-LIPID :id 169 :lipid-index 34> \n"
     ]
    },
    {
     "data": {
      "text/plain": [
       "NIL"
      ]
     },
     "execution_count": 59,
     "metadata": {},
     "output_type": "execute_result"
    }
   ],
   "source": [
    "(format t \"*l1* -> ~a .   *l2* -> ~a ~%\" *l1* *l2*)"
   ]
  },
  {
   "cell_type": "code",
   "execution_count": 60,
   "metadata": {},
   "outputs": [
    {
     "data": {
      "text/plain": [
       "(9 12 2)"
      ]
     },
     "execution_count": 60,
     "metadata": {},
     "output_type": "execute_result"
    }
   ],
   "source": [
    "(array-dimensions (membrane-packer::array *memb*))"
   ]
  },
  {
   "cell_type": "code",
   "execution_count": 61,
   "metadata": {},
   "outputs": [
    {
     "data": {
      "text/plain": [
       "(4 0 0)"
      ]
     },
     "execution_count": 61,
     "metadata": {},
     "output_type": "execute_result"
    }
   ],
   "source": [
    "(membrane-packer::array-indices *l1*)"
   ]
  },
  {
   "cell_type": "code",
   "execution_count": 62,
   "metadata": {},
   "outputs": [
    {
     "data": {
      "text/plain": [
       "(3 9 0)"
      ]
     },
     "execution_count": 62,
     "metadata": {},
     "output_type": "execute_result"
    }
   ],
   "source": [
    "(membrane-packer::array-indices *l2*)"
   ]
  },
  {
   "cell_type": "code",
   "execution_count": 63,
   "metadata": {},
   "outputs": [
    {
     "data": {
      "text/plain": [
       "*RANGE*"
      ]
     },
     "execution_count": 63,
     "metadata": {},
     "output_type": "execute_result"
    }
   ],
   "source": [
    "(defparameter *range* (membrane-packer:find-collision-range *collisions* *l1* *l2*))"
   ]
  },
  {
   "cell_type": "code",
   "execution_count": 64,
   "metadata": {},
   "outputs": [
    {
     "data": {
      "text/plain": [
       "NIL"
      ]
     },
     "execution_count": 64,
     "metadata": {},
     "output_type": "execute_result"
    }
   ],
   "source": [
    "*range*"
   ]
  },
  {
   "cell_type": "code",
   "execution_count": 65,
   "metadata": {},
   "outputs": [
    {
     "name": "stderr",
     "output_type": "stream",
     "text": [
      "\n",
      "Undefined variable *FA-ATOMVECS*\n",
      "\n",
      "Undefined variable *FA-ATOMVECS*\n"
     ]
    },
    {
     "data": {
      "text/plain": [
       "*ATOMVECS*"
      ]
     },
     "execution_count": 65,
     "metadata": {},
     "output_type": "execute_result"
    }
   ],
   "source": [
    "(defparameter *fa-atomvecs* (multiple-value-list (membrane-packer::focused-aggregate *memb* (list *l1* *l2*))))\n",
    "(defparameter *fa* (first *fa-atomvecs*))\n",
    "(defparameter *atomvecs* (second *fa-atomvecs*))"
   ]
  },
  {
   "cell_type": "code",
   "execution_count": 66,
   "metadata": {},
   "outputs": [
    {
     "data": {
      "text/plain": [
       "*OCTREE-SHAPE*"
      ]
     },
     "execution_count": 66,
     "metadata": {},
     "output_type": "execute_result"
    }
   ],
   "source": [
    "(defparameter *octree-shape* (membrane-packer::ga-lipid-octree-as-shape *l2*))"
   ]
  },
  {
   "cell_type": "code",
   "execution_count": 68,
   "metadata": {},
   "outputs": [
    {
     "data": {
      "application/vnd.jupyter.widget-view+json": {
       "model_id": "7F69AADC-5422-43E0-975B-989731453580",
       "version_major": 2,
       "version_minor": 0
      },
      "text/plain": [
       "#<NGLV:NGLWIDGET>"
      ]
     },
     "execution_count": 68,
     "metadata": {},
     "output_type": "execute_result"
    }
   ],
   "source": [
    "(defparameter *vfa* (show *fa* :shapes (list :octree *octree-shape*))) *vfa*"
   ]
  },
  {
   "cell_type": "code",
   "execution_count": 30,
   "metadata": {},
   "outputs": [
    {
     "name": "stdout",
     "output_type": "stream",
     "text": [
      "Completed  100.0% elapsed:   1.0 seconds ETC: --   There are 1 close-contacts of a possible 17956\n"
     ]
    },
    {
     "data": {
      "text/plain": [
       "*CC*"
      ]
     },
     "execution_count": 30,
     "metadata": {},
     "output_type": "execute_result"
    }
   ],
   "source": [
    "(defparameter *cc* (membrane-packer::close-contacts *atomvecs*))"
   ]
  },
  {
   "cell_type": "code",
   "execution_count": 31,
   "metadata": {},
   "outputs": [
    {
     "data": {
      "text/plain": [
       "T"
      ]
     },
     "execution_count": 31,
     "metadata": {},
     "output_type": "execute_result"
    }
   ],
   "source": [
    "(membrane-packer::add-close-contacts-as-shape *vfa* *cc* :radius 0.3)"
   ]
  },
  {
   "cell_type": "code",
   "execution_count": 32,
   "metadata": {},
   "outputs": [
    {
     "name": "stderr",
     "output_type": "stream",
     "text": [
      "\n",
      "Undefined variable *FA-COLLISIONS*\n"
     ]
    },
    {
     "data": {
      "text/plain": [
       "0"
      ]
     },
     "execution_count": 32,
     "metadata": {},
     "output_type": "execute_result"
    }
   ],
   "source": [
    "(defparameter *fa-collisions* (membrane-packer::make-collisions))\n",
    "(let ((chem:*debug-octree* nil))\n",
    "     (membrane-packer::score-cell (membrane-packer::bounding-box *memb*) *l1* *l2* *fa-collisions*))"
   ]
  },
  {
   "cell_type": "code",
   "execution_count": 33,
   "metadata": {},
   "outputs": [
    {
     "data": {
      "text/plain": [
       "#()"
      ]
     },
     "execution_count": 33,
     "metadata": {},
     "output_type": "execute_result"
    }
   ],
   "source": [
    "(membrane-packer::indices *fa-collisions*)"
   ]
  },
  {
   "cell_type": "code",
   "execution_count": 34,
   "metadata": {},
   "outputs": [
    {
     "data": {
      "text/plain": [
       "T"
      ]
     },
     "execution_count": 34,
     "metadata": {},
     "output_type": "execute_result"
    }
   ],
   "source": [
    "(membrane-packer:add-collisions-as-shape *vfa* *fa-collisions* :radius 0.31)"
   ]
  },
  {
   "cell_type": "markdown",
   "metadata": {},
   "source": [
    "## Set the atom names in l1 and l2"
   ]
  },
  {
   "cell_type": "code",
   "execution_count": 36,
   "metadata": {},
   "outputs": [
    {
     "data": {
      "text/plain": [
       "*N2*"
      ]
     },
     "execution_count": 36,
     "metadata": {},
     "output_type": "execute_result"
    }
   ],
   "source": [
    "(defparameter *r1* :l9-pa) (defparameter *sr1* :pa) (defparameter *n1* :h3r)\n",
    "(defparameter *r2* :l169-pa) (defparameter *sr2* :pa) (defparameter *n2* :h2r)"
   ]
  },
  {
   "cell_type": "markdown",
   "metadata": {},
   "source": [
    "# Apply a bounding box transformation"
   ]
  },
  {
   "cell_type": "code",
   "execution_count": 37,
   "metadata": {},
   "outputs": [
    {
     "name": "stdout",
     "output_type": "stream",
     "text": [
      "widths: 94.87 91.29 60.00\n"
     ]
    },
    {
     "name": "stderr",
     "output_type": "stream",
     "text": [
      "\n",
      "Undefined variable *BBOX*\n",
      "\n",
      "Undefined variable *BBOX*\n",
      "\n",
      "Undefined variable *BBOX*\n"
     ]
    },
    {
     "data": {
      "text/plain": [
       "NIL"
      ]
     },
     "execution_count": 37,
     "metadata": {},
     "output_type": "execute_result"
    }
   ],
   "source": [
    "(defparameter *bbox* (membrane-packer::bounding-box *memb*))\n",
    "(format t \"widths: ~,2f ~,2f ~,2f~%\" (chem:get-x-width *bbox*) (chem:get-y-width *bbox*) (chem:get-z-width *bbox*)))"
   ]
  },
  {
   "cell_type": "code",
   "execution_count": 40,
   "metadata": {},
   "outputs": [
    {
     "data": {
      "text/plain": [
       "NIL"
      ]
     },
     "execution_count": 40,
     "metadata": {},
     "output_type": "execute_result"
    }
   ],
   "source": [
    "(defparameter *tfa* (chem:matter-copy *fa*))\n",
    "(chem:apply-transform-to-atoms (mol *tfa* 0) (geom:make-m4-translate (geom:vec 0.0 (chem:get-y-width *bbox*) 0.0)))"
   ]
  },
  {
   "cell_type": "code",
   "execution_count": 41,
   "metadata": {},
   "outputs": [
    {
     "data": {
      "application/vnd.jupyter.widget-view+json": {
       "model_id": "FD9E6F2D-4B14-4170-9131-E96400133B79",
       "version_major": 2,
       "version_minor": 0
      },
      "text/plain": [
       "#<NGLV:NGLWIDGET>"
      ]
     },
     "execution_count": 41,
     "metadata": {},
     "output_type": "execute_result"
    }
   ],
   "source": [
    "(show *tfa* :shapes (list :octree *octree-shape*))"
   ]
  },
  {
   "cell_type": "code",
   "execution_count": 42,
   "metadata": {},
   "outputs": [
    {
     "name": "stderr",
     "output_type": "stream",
     "text": [
      "\n",
      "Undefined variable *TFA-ATOM1*\n",
      "\n",
      "Undefined variable *TFA-ATOM2*\n"
     ]
    },
    {
     "data": {
      "text/plain": [
       "*TFA-POS2*"
      ]
     },
     "execution_count": 42,
     "metadata": {},
     "output_type": "execute_result"
    }
   ],
   "source": [
    "(defparameter *tfa-atom1* (chem:first-atom-with-name (chem:content-with-name (mol *tfa* 0) *r1*) *n1*))\n",
    "(defparameter *tfa-pos1* (chem:get-position *tfa-atom1*))\n",
    "(defparameter *tfa-atom2* (chem:first-atom-with-name (chem:content-with-name (mol *tfa* 1) *r2*) *n2*))\n",
    "(defparameter *tfa-pos2* (chem:get-position *tfa-atom2*))"
   ]
  },
  {
   "cell_type": "code",
   "execution_count": 43,
   "metadata": {},
   "outputs": [
    {
     "name": "stdout",
     "output_type": "stream",
     "text": [
      "#<ATOM :H3R/:H @0x136470a59> *tfa-pos1* -> '( -12.02 37.6815 12.6495)   #<ATOM :H2R/:H @0x135e32969> *tfa-pos2* -> '( -12.388 37.1262 12.3398)\n"
     ]
    },
    {
     "data": {
      "text/plain": [
       "NIL"
      ]
     },
     "execution_count": 43,
     "metadata": {},
     "output_type": "execute_result"
    }
   ],
   "source": [
    "(format t \"~a *tfa-pos1* -> ~a   ~a *tfa-pos2* -> ~a~%\" *tfa-atom1* *tfa-pos1* *tfa-atom2* *tfa-pos2*)"
   ]
  },
  {
   "cell_type": "code",
   "execution_count": 44,
   "metadata": {},
   "outputs": [
    {
     "name": "stdout",
     "output_type": "stream",
     "text": [
      "pos1 -> '( -12.02 37.6815 12.6495)  pos2 -> '( -12.388 37.1262 12.3398)  non-bbox delta -> 0.73  bbox-delta -> 0.73 close-distance -> 1.20\n"
     ]
    },
    {
     "data": {
      "text/plain": [
       "NIL"
      ]
     },
     "execution_count": 44,
     "metadata": {},
     "output_type": "execute_result"
    }
   ],
   "source": [
    "(let* ((diff (geom:v- *tfa-pos1* *tfa-pos2*))\n",
    "       (tdelta (geom:vlength diff))\n",
    "       (delta (sqrt (chem:bounding-box-distance-squared-between-two-points (membrane-packer::bounding-box *memb*) *tfa-pos1* *tfa-pos2*))))\n",
    "      (format t \"pos1 -> ~a  pos2 -> ~a  non-bbox delta -> ~,2f  bbox-delta -> ~,2f close-distance -> ~,2f~%\" *tfa-pos1* *tfa-pos2* tdelta delta membrane-packer::*close-distance*))"
   ]
  },
  {
   "cell_type": "markdown",
   "metadata": {},
   "source": [
    "# Check the positions with the untransformed system"
   ]
  },
  {
   "cell_type": "code",
   "execution_count": 45,
   "metadata": {},
   "outputs": [
    {
     "name": "stderr",
     "output_type": "stream",
     "text": [
      "\n",
      "Undefined variable *FA-ATOM1*\n",
      "\n",
      "Undefined variable *FA-ATOM2*\n"
     ]
    },
    {
     "data": {
      "text/plain": [
       "*FA-POS2*"
      ]
     },
     "execution_count": 45,
     "metadata": {},
     "output_type": "execute_result"
    }
   ],
   "source": [
    "(defparameter *fa-atom1* (chem:first-atom-with-name (chem:content-with-name (mol *fa* 0) *r1*) *n1*))\n",
    "(defparameter *fa-pos1* (chem:get-position *fa-atom1*))\n",
    "(defparameter *fa-atom2* (chem:first-atom-with-name (chem:content-with-name (mol *fa* 1) *r2*) *n2*))\n",
    "(defparameter *fa-pos2* (chem:get-position *fa-atom2*))"
   ]
  },
  {
   "cell_type": "code",
   "execution_count": 46,
   "metadata": {},
   "outputs": [
    {
     "name": "stdout",
     "output_type": "stream",
     "text": [
      "#<ATOM :H3R/:H @0x13594ae19> *fa-pos1* -> '( -12.02 -53.6056 12.6495)   #<ATOM :H2R/:H @0x135500d29> *fa-pos2* -> '( -12.388 37.1262 12.3398)\n"
     ]
    },
    {
     "data": {
      "text/plain": [
       "NIL"
      ]
     },
     "execution_count": 46,
     "metadata": {},
     "output_type": "execute_result"
    }
   ],
   "source": [
    "(format t \"~a *fa-pos1* -> ~a   ~a *fa-pos2* -> ~a~%\" *fa-atom1* *fa-pos1* *fa-atom2* *fa-pos2*)"
   ]
  },
  {
   "cell_type": "code",
   "execution_count": 56,
   "metadata": {},
   "outputs": [
    {
     "data": {
      "application/vnd.jupyter.widget-view+json": {
       "model_id": "DFE32ED2-E1C5-445D-9265-E5D310D13B06",
       "version_major": 2,
       "version_minor": 0
      },
      "text/plain": [
       "#<NGLV:NGLWIDGET>"
      ]
     },
     "execution_count": 56,
     "metadata": {},
     "output_type": "execute_result"
    }
   ],
   "source": [
    "(show *fa* :axes t :shapes (list :octree *octree-shape*))"
   ]
  },
  {
   "cell_type": "code",
   "execution_count": 48,
   "metadata": {},
   "outputs": [
    {
     "data": {
      "text/plain": [
       "*MEMB-POS2*"
      ]
     },
     "execution_count": 48,
     "metadata": {},
     "output_type": "execute_result"
    }
   ],
   "source": [
    "(defparameter *memb-pos1* (membrane-packer::find-ga-lipid-position *l1* *sr1* *n1*))\n",
    "(defparameter *memb-pos2* (membrane-packer::find-ga-lipid-position *l2* *sr2* *n2*))"
   ]
  },
  {
   "cell_type": "code",
   "execution_count": 49,
   "metadata": {},
   "outputs": [
    {
     "name": "stdout",
     "output_type": "stream",
     "text": [
      "*memb-pos1* -> '( -12.02 -53.6056 12.6495)   *memb-pos2* -> '( -12.388 37.1262 12.3398)\n"
     ]
    },
    {
     "data": {
      "text/plain": [
       "NIL"
      ]
     },
     "execution_count": 49,
     "metadata": {},
     "output_type": "execute_result"
    }
   ],
   "source": [
    "(format t \"*memb-pos1* -> ~a   *memb-pos2* -> ~a~%\" *memb-pos1* *memb-pos2*)"
   ]
  },
  {
   "cell_type": "code",
   "execution_count": 50,
   "metadata": {},
   "outputs": [
    {
     "name": "stdout",
     "output_type": "stream",
     "text": [
      "pos1 -> '( -12.02 -53.6056 12.6495)  pos2 -> '( -12.388 37.1262 12.3398)  bbox delta -> 0.73  close-distance -> 1.20\n"
     ]
    },
    {
     "data": {
      "text/plain": [
       "NIL"
      ]
     },
     "execution_count": 50,
     "metadata": {},
     "output_type": "execute_result"
    }
   ],
   "source": [
    "(let* ((diff (geom:v- *memb-pos1* *memb-pos2*))\n",
    "       (delta (sqrt (chem:bounding-box-distance-squared-between-two-points (membrane-packer::bounding-box *memb*) *fa-pos1* *fa-pos2*))))\n",
    "      (format t \"pos1 -> ~a  pos2 -> ~a  bbox delta -> ~,2f  close-distance -> ~,2f~%\" *fa-pos1* *fa-pos2* delta membrane-packer::*close-distance*))"
   ]
  },
  {
   "cell_type": "code",
   "execution_count": 51,
   "metadata": {},
   "outputs": [
    {
     "name": "stdout",
     "output_type": "stream",
     "text": [
      "Skipping octree #<GENERIC-OCTREE >  data: NIL origin: '( -0.264288 -0.124874 0.19699)\n",
      "Skipping octree #<GENERIC-OCTREE >  data: NIL origin: '( -3.3095 -2.87484 -6.14693)\n",
      "Skipping octree #<GENERIC-OCTREE >  data: NIL origin: '( -4.8321 -4.24982 -9.31888)\n",
      "Skipping octree #<GENERIC-OCTREE >  data: NIL origin: '( -4.8321 -4.24982 -2.97497)\n",
      "Skipping octree #<GENERIC-OCTREE >  data: NIL origin: '( -4.8321 -1.49986 -2.97497)\n",
      "Skipping octree #<GENERIC-OCTREE >  data: NIL origin: '( -1.78689 -4.24982 -9.31888)\n",
      "Skipping octree #<GENERIC-OCTREE >  data: NIL origin: '( -1.78689 -4.24982 -2.97497)\n",
      "Skipping octree #<GENERIC-OCTREE >  data: NIL origin: '( -1.78689 -1.49986 -2.97497)\n",
      "Skipping octree #<GENERIC-OCTREE >  data: NIL origin: '( -2.5482 -2.18735 -1.38899)\n",
      "Skipping octree #<GENERIC-OCTREE >  data: NIL origin: '( -2.5482 -0.812364 -4.56095)\n",
      "Skipping octree #<GENERIC-OCTREE >  data: NIL origin: '( -2.92885 -1.15611 -3.76796)\n",
      "Skipping octree #<GENERIC-OCTREE >  data: NIL origin: '( -2.92885 -0.468619 -5.35394)\n",
      "Skipping octree #<GENERIC-OCTREE >  data: NIL origin: '( -2.92885 -0.468619 -3.76796)\n",
      "Skipping octree #<GENERIC-OCTREE >  data: NIL origin: '( -2.16754 -1.15611 -5.35394)\n",
      "Skipping octree #<GENERIC-OCTREE >  data: NIL origin: '( -2.16754 -1.15611 -3.76796)\n",
      "Skipping octree #<GENERIC-OCTREE >  data: NIL origin: '( -1.02559 -0.812364 -1.38899)\n",
      "Skipping octree #<GENERIC-OCTREE >  data: NIL origin: '( -1.40624 -1.15611 -2.18198)\n",
      "Skipping octree #<GENERIC-OCTREE >  data: NIL origin: '( -1.59657 -1.32798 -1.78548)\n",
      "Skipping octree #<GENERIC-OCTREE >  data: NIL origin: '( -1.59657 -0.984237 -2.57847)\n",
      "Skipping octree #<GENERIC-OCTREE >  data: NIL origin: '( -1.21592 -1.32798 -2.57847)\n",
      "Skipping octree #<GENERIC-OCTREE >  data: NIL origin: '( -1.21592 -1.32798 -1.78548)\n",
      "Skipping octree #<GENERIC-OCTREE >  data: NIL origin: '( -1.21592 -0.984237 -2.57847)\n",
      "Skipping octree #<GENERIC-OCTREE >  data: NIL origin: '( -1.21592 -0.984237 -1.78548)\n",
      "Skipping octree #<GENERIC-OCTREE >  data: NIL origin: '( -1.40624 -1.15611 -0.596)\n",
      "Skipping octree #<GENERIC-OCTREE >  data: NIL origin: '( -1.40624 -0.468619 -2.18198)\n",
      "Skipping octree #<GENERIC-OCTREE >  data: NIL origin: '( -1.40624 -0.468619 -0.596)\n",
      "Skipping octree #<GENERIC-OCTREE >  data: NIL origin: '( -0.644939 -1.15611 -2.18198)\n",
      "Skipping octree #<GENERIC-OCTREE >  data: NIL origin: '( -0.644939 -1.15611 -0.596)\n",
      "Skipping octree #<GENERIC-OCTREE >  data: NIL origin: '( -0.644939 -0.468619 -2.18198)\n",
      "Skipping octree #<GENERIC-OCTREE >  data: NIL origin: '( -0.644939 -0.468619 -0.596)\n",
      "Skipping octree #<GENERIC-OCTREE >  data: NIL origin: '( -3.3095 -2.87484 6.5409)\n",
      "Skipping octree #<GENERIC-OCTREE >  data: NIL origin: '( -4.8321 -4.24982 3.36895)\n",
      "Skipping octree #<GENERIC-OCTREE >  data: NIL origin: '( -4.8321 -4.24982 9.71286)\n",
      "Skipping octree #<GENERIC-OCTREE >  data: NIL origin: '( -4.8321 -1.49986 9.71286)\n",
      "Skipping octree #<GENERIC-OCTREE >  data: NIL origin: '( -1.78689 -4.24982 3.36895)\n",
      "Skipping octree #<GENERIC-OCTREE >  data: NIL origin: '( -2.5482 -4.93731 1.78297)\n",
      "Skipping octree #<GENERIC-OCTREE >  data: NIL origin: '( -2.5482 -4.93731 4.95493)\n",
      "Skipping octree #<GENERIC-OCTREE >  data: NIL origin: '( -2.5482 -3.56233 1.78297)\n",
      "Skipping octree #<GENERIC-OCTREE >  data: NIL origin: '( -1.02559 -4.93731 1.78297)\n",
      "Skipping octree #<GENERIC-OCTREE >  data: NIL origin: '( -1.02559 -4.93731 4.95493)\n",
      "Skipping octree #<GENERIC-OCTREE >  data: NIL origin: '( -1.78689 -4.24982 9.71286)\n",
      "Skipping octree #<GENERIC-OCTREE >  data: NIL origin: '( -1.78689 -1.49986 3.36895)\n",
      "Skipping octree #<GENERIC-OCTREE >  data: NIL origin: '( -2.5482 -2.18735 1.78297)\n",
      "Skipping octree #<GENERIC-OCTREE >  data: NIL origin: '( -2.5482 -0.812364 1.78297)\n",
      "Skipping octree #<GENERIC-OCTREE >  data: NIL origin: '( -2.92885 -1.15611 0.989979)\n",
      "Skipping octree #<GENERIC-OCTREE >  data: NIL origin: '( -2.92885 -1.15611 2.57596)\n",
      "Skipping octree #<GENERIC-OCTREE >  data: NIL origin: '( -3.11917 -1.32798 2.17946)\n",
      "Skipping octree #<GENERIC-OCTREE >  data: NIL origin: '( -3.11917 -1.32798 2.97245)\n",
      "Skipping octree #<GENERIC-OCTREE >  data: NIL origin: '( -3.11917 -0.984237 2.17946)\n",
      "Skipping octree #<GENERIC-OCTREE >  data: NIL origin: '( -3.11917 -0.984237 2.97245)\n",
      "Skipping octree #<GENERIC-OCTREE >  data: NIL origin: '( -2.73852 -1.32798 2.97245)\n",
      "Skipping octree #<GENERIC-OCTREE >  data: NIL origin: '( -2.73852 -0.984237 2.17946)\n",
      "Skipping octree #<GENERIC-OCTREE >  data: NIL origin: '( -2.92885 -0.468619 0.989979)\n",
      "Skipping octree #<GENERIC-OCTREE >  data: NIL origin: '( -2.92885 -0.468619 2.57596)\n",
      "Skipping octree #<GENERIC-OCTREE >  data: NIL origin: '( -2.16754 -1.15611 0.989979)\n",
      "Skipping octree #<GENERIC-OCTREE >  data: NIL origin: '( -2.16754 -1.15611 2.57596)\n",
      "Skipping octree #<GENERIC-OCTREE >  data: NIL origin: '( -2.16754 -0.468619 0.989979)\n",
      "Skipping octree #<GENERIC-OCTREE >  data: NIL origin: '( -2.16754 -0.468619 2.57596)\n",
      "Skipping octree #<GENERIC-OCTREE >  data: NIL origin: '( -1.02559 -2.18735 1.78297)\n",
      "Skipping octree #<GENERIC-OCTREE >  data: NIL origin: '( -1.02559 -0.812364 1.78297)\n",
      "Skipping octree #<GENERIC-OCTREE >  data: NIL origin: '( -1.78689 -1.49986 9.71286)\n",
      "Skipping octree #<GENERIC-OCTREE >  data: NIL origin: '( -2.5482 -2.18735 8.12688)\n",
      "Skipping octree #<GENERIC-OCTREE >  data: NIL origin: '( -2.5482 -2.18735 11.2988)\n",
      "Skipping octree #<GENERIC-OCTREE >  data: NIL origin: '( -2.5482 -0.812364 11.2988)\n",
      "Skipping octree #<GENERIC-OCTREE >  data: NIL origin: '( -1.02559 -2.18735 8.12688)\n",
      "Skipping octree #<GENERIC-OCTREE >  data: NIL origin: '( -1.02559 -2.18735 11.2988)\n",
      "Skipping octree #<GENERIC-OCTREE >  data: NIL origin: '( -1.02559 -0.812364 11.2988)\n",
      "Skipping octree #<GENERIC-OCTREE >  data: NIL origin: '( -3.3095 2.62509 -6.14693)\n",
      "Skipping octree #<GENERIC-OCTREE >  data: NIL origin: '( -4.8321 1.25011 -9.31888)\n",
      "Skipping octree #<GENERIC-OCTREE >  data: NIL origin: '( -5.59341 0.562617 -7.7329)\n",
      "Skipping octree #<GENERIC-OCTREE >  data: NIL origin: '( -5.59341 1.9376 -10.9049)\n",
      "Skipping octree #<GENERIC-OCTREE >  data: NIL origin: '( -5.59341 1.9376 -7.7329)\n",
      "Skipping octree #<GENERIC-OCTREE >  data: NIL origin: '( -4.0708 0.562617 -7.7329)\n",
      "Skipping octree #<GENERIC-OCTREE >  data: NIL origin: '( -4.0708 1.9376 -10.9049)\n",
      "Skipping octree #<GENERIC-OCTREE >  data: NIL origin: '( -4.45145 1.59385 -11.6979)\n",
      "Skipping octree #<GENERIC-OCTREE >  data: NIL origin: '( -4.45145 2.28134 -11.6979)\n",
      "Skipping octree #<GENERIC-OCTREE >  data: NIL origin: '( -3.69015 1.59385 -11.6979)\n",
      "Skipping octree #<GENERIC-OCTREE >  data: NIL origin: '( -3.69015 1.59385 -10.1119)\n",
      "Skipping octree #<GENERIC-OCTREE >  data: NIL origin: '( -3.69015 2.28134 -11.6979)\n",
      "Skipping octree #<GENERIC-OCTREE >  data: NIL origin: '( -3.69015 2.28134 -10.1119)\n",
      "Skipping octree #<GENERIC-OCTREE >  data: NIL origin: '( -4.0708 1.9376 -7.7329)\n",
      "Skipping octree #<GENERIC-OCTREE >  data: NIL origin: '( -4.45145 1.59385 -8.52589)\n",
      "Skipping octree #<GENERIC-OCTREE >  data: NIL origin: '( -4.45145 1.59385 -6.93991)\n",
      "Skipping octree #<GENERIC-OCTREE >  data: NIL origin: '( -4.45145 2.28134 -6.93991)\n",
      "Skipping octree #<GENERIC-OCTREE >  data: NIL origin: '( -3.69015 1.59385 -6.93991)\n",
      "Skipping octree #<GENERIC-OCTREE >  data: NIL origin: '( -3.69015 2.28134 -8.52589)\n",
      "Skipping octree #<GENERIC-OCTREE >  data: NIL origin: '( -3.69015 2.28134 -6.93991)\n",
      "Skipping octree #<GENERIC-OCTREE >  data: NIL origin: '( -4.8321 4.00007 -9.31888)\n",
      "Skipping octree #<GENERIC-OCTREE >  data: NIL origin: '( -4.8321 4.00007 -2.97497)\n",
      "Skipping octree #<GENERIC-OCTREE >  data: NIL origin: '( -1.78689 1.25011 -9.31888)\n",
      "Skipping octree #<GENERIC-OCTREE >  data: NIL origin: '( -2.5482 0.562617 -10.9049)\n",
      "Skipping octree #<GENERIC-OCTREE >  data: NIL origin: '( -2.5482 1.9376 -10.9049)\n",
      "Skipping octree #<GENERIC-OCTREE >  data: NIL origin: '( -1.02559 0.562617 -10.9049)\n",
      "Skipping octree #<GENERIC-OCTREE >  data: NIL origin: '( -1.02559 0.562617 -7.7329)\n",
      "Skipping octree #<GENERIC-OCTREE >  data: NIL origin: '( -1.02559 1.9376 -10.9049)\n",
      "Skipping octree #<GENERIC-OCTREE >  data: NIL origin: '( -1.02559 1.9376 -7.7329)\n",
      "Skipping octree #<GENERIC-OCTREE >  data: NIL origin: '( -1.78689 1.25011 -2.97497)\n",
      "Skipping octree #<GENERIC-OCTREE >  data: NIL origin: '( -2.5482 0.562617 -4.56095)\n",
      "Skipping octree #<GENERIC-OCTREE >  data: NIL origin: '( -2.92885 0.218872 -5.35394)\n",
      "Skipping octree #<GENERIC-OCTREE >  data: NIL origin: '( -2.92885 0.906362 -3.76796)\n",
      "Skipping octree #<GENERIC-OCTREE >  data: NIL origin: '( -2.16754 0.218872 -5.35394)\n",
      "Skipping octree #<GENERIC-OCTREE >  data: NIL origin: '( -2.16754 0.218872 -3.76796)\n",
      "Skipping octree #<GENERIC-OCTREE >  data: NIL origin: '( -2.16754 0.906362 -5.35394)\n",
      "Skipping octree #<GENERIC-OCTREE >  data: NIL origin: '( -2.16754 0.906362 -3.76796)\n",
      "Skipping octree #<GENERIC-OCTREE >  data: NIL origin: '( -2.5482 0.562617 -1.38899)\n",
      "Skipping octree #<GENERIC-OCTREE >  data: NIL origin: '( -2.5482 1.9376 -1.38899)\n",
      "Skipping octree #<GENERIC-OCTREE >  data: NIL origin: '( -1.02559 0.562617 -1.38899)\n",
      "Skipping octree #<GENERIC-OCTREE >  data: NIL origin: '( -1.40624 0.218872 -2.18198)\n",
      "Skipping octree #<GENERIC-OCTREE >  data: NIL origin: '( -1.40624 0.906362 -2.18198)\n",
      "Skipping octree #<GENERIC-OCTREE >  data: NIL origin: '( -0.644939 0.218872 -2.18198)\n",
      "Skipping octree #<GENERIC-OCTREE >  data: NIL origin: '( -0.644939 0.218872 -0.596)\n",
      "Skipping octree #<GENERIC-OCTREE >  data: NIL origin: '( -0.644939 0.906362 -2.18198)\n",
      "Skipping octree #<GENERIC-OCTREE >  data: NIL origin: '( -0.644939 0.906362 -0.596)\n",
      "Skipping octree #<GENERIC-OCTREE >  data: NIL origin: '( -1.02559 1.9376 -4.56095)\n",
      "Skipping octree #<GENERIC-OCTREE >  data: NIL origin: '( -1.02559 1.9376 -1.38899)\n",
      "Skipping octree #<GENERIC-OCTREE >  data: NIL origin: '( -1.78689 4.00007 -9.31888)\n",
      "Skipping octree #<GENERIC-OCTREE >  data: NIL origin: '( -1.78689 4.00007 -2.97497)\n",
      "Skipping octree #<GENERIC-OCTREE >  data: NIL origin: '( -3.3095 2.62509 6.5409)\n",
      "Skipping octree #<GENERIC-OCTREE >  data: NIL origin: '( -4.8321 1.25011 3.36895)\n",
      "Skipping octree #<GENERIC-OCTREE >  data: NIL origin: '( -5.59341 0.562617 1.78297)\n",
      "Skipping octree #<GENERIC-OCTREE >  data: NIL origin: '( -5.59341 0.562617 4.95493)\n",
      "Skipping octree #<GENERIC-OCTREE >  data: NIL origin: '( -5.59341 1.9376 1.78297)\n",
      "Skipping octree #<GENERIC-OCTREE >  data: NIL origin: '( -5.59341 1.9376 4.95493)\n",
      "Skipping octree #<GENERIC-OCTREE >  data: NIL origin: '( -4.0708 0.562617 4.95493)\n",
      "Skipping octree #<GENERIC-OCTREE >  data: NIL origin: '( -4.0708 1.9376 1.78297)\n",
      "Skipping octree #<GENERIC-OCTREE >  data: NIL origin: '( -4.45145 1.59385 0.989979)\n",
      "Skipping octree #<GENERIC-OCTREE >  data: NIL origin: '( -4.45145 1.59385 2.57596)\n",
      "Skipping octree #<GENERIC-OCTREE >  data: NIL origin: '( -4.45145 2.28134 0.989979)\n",
      "Skipping octree #<GENERIC-OCTREE >  data: NIL origin: '( -4.45145 2.28134 2.57596)\n",
      "Skipping octree #<GENERIC-OCTREE >  data: NIL origin: '( -3.69015 2.28134 0.989979)\n",
      "Skipping octree #<GENERIC-OCTREE >  data: NIL origin: '( -3.69015 2.28134 2.57596)\n",
      "Skipping octree #<GENERIC-OCTREE >  data: NIL origin: '( -4.0708 1.9376 4.95493)\n",
      "Skipping octree #<GENERIC-OCTREE >  data: NIL origin: '( -4.8321 1.25011 9.71286)\n",
      "Skipping octree #<GENERIC-OCTREE >  data: NIL origin: '( -5.59341 0.562617 8.12688)\n",
      "Skipping octree #<GENERIC-OCTREE >  data: NIL origin: '( -5.59341 0.562617 11.2988)\n",
      "Skipping octree #<GENERIC-OCTREE >  data: NIL origin: '( -5.59341 1.9376 8.12688)\n",
      "Skipping octree #<GENERIC-OCTREE >  data: NIL origin: '( -5.59341 1.9376 11.2988)\n",
      "Skipping octree #<GENERIC-OCTREE >  data: NIL origin: '( -4.0708 0.562617 8.12688)\n",
      "Skipping octree #<GENERIC-OCTREE >  data: NIL origin: '( -4.0708 0.562617 11.2988)\n",
      "Skipping octree #<GENERIC-OCTREE >  data: NIL origin: '( -4.0708 1.9376 8.12688)\n",
      "Skipping octree #<GENERIC-OCTREE >  data: NIL origin: '( -4.0708 1.9376 11.2988)\n",
      "Skipping octree #<GENERIC-OCTREE >  data: NIL origin: '( -4.45145 1.59385 12.0918)\n",
      "Skipping octree #<GENERIC-OCTREE >  data: NIL origin: '( -4.45145 2.28134 10.5059)\n",
      "Skipping octree #<GENERIC-OCTREE >  data: NIL origin: '( -4.45145 2.28134 12.0918)\n",
      "Skipping octree #<GENERIC-OCTREE >  data: NIL origin: '( -3.69015 1.59385 12.0918)\n",
      "Skipping octree #<GENERIC-OCTREE >  data: NIL origin: '( -3.69015 2.28134 12.0918)\n",
      "Skipping octree #<GENERIC-OCTREE >  data: NIL origin: '( -4.8321 4.00007 3.36895)\n",
      "Skipping octree #<GENERIC-OCTREE >  data: NIL origin: '( -4.8321 4.00007 9.71286)\n",
      "Skipping octree #<GENERIC-OCTREE >  data: NIL origin: '( -1.78689 1.25011 3.36895)\n",
      "Skipping octree #<GENERIC-OCTREE >  data: NIL origin: '( -2.5482 0.562617 1.78297)\n",
      "Skipping octree #<GENERIC-OCTREE >  data: NIL origin: '( -2.92885 0.218872 0.989979)\n",
      "Skipping octree #<GENERIC-OCTREE >  data: NIL origin: '( -2.92885 0.218872 2.57596)\n",
      "Skipping octree #<GENERIC-OCTREE >  data: NIL origin: '( -2.92885 0.906362 2.57596)\n",
      "Skipping octree #<GENERIC-OCTREE >  data: NIL origin: '( -2.16754 0.218872 0.989979)\n",
      "Skipping octree #<GENERIC-OCTREE >  data: NIL origin: '( -2.16754 0.906362 0.989979)\n",
      "Skipping octree #<GENERIC-OCTREE >  data: NIL origin: '( -2.16754 0.906362 2.57596)\n",
      "Skipping octree #<GENERIC-OCTREE >  data: NIL origin: '( -2.5482 1.9376 1.78297)\n",
      "Skipping octree #<GENERIC-OCTREE >  data: NIL origin: '( -2.92885 1.59385 0.989979)\n",
      "Skipping octree #<GENERIC-OCTREE >  data: NIL origin: '( -2.92885 1.59385 2.57596)\n",
      "Skipping octree #<GENERIC-OCTREE >  data: NIL origin: '( -2.92885 2.28134 0.989979)\n",
      "Skipping octree #<GENERIC-OCTREE >  data: NIL origin: '( -2.92885 2.28134 2.57596)\n",
      "Skipping octree #<GENERIC-OCTREE >  data: NIL origin: '( -2.16754 1.59385 0.989979)\n",
      "Skipping octree #<GENERIC-OCTREE >  data: NIL origin: '( -2.16754 2.28134 0.989979)\n",
      "Skipping octree #<GENERIC-OCTREE >  data: NIL origin: '( -2.5482 1.9376 4.95493)\n",
      "Skipping octree #<GENERIC-OCTREE >  data: NIL origin: '( -1.02559 0.562617 4.95493)\n",
      "Skipping octree #<GENERIC-OCTREE >  data: NIL origin: '( -1.02559 1.9376 4.95493)\n",
      "Skipping octree #<GENERIC-OCTREE >  data: NIL origin: '( -1.78689 1.25011 9.71286)\n",
      "Skipping octree #<GENERIC-OCTREE >  data: NIL origin: '( -2.5482 0.562617 8.12688)\n",
      "Skipping octree #<GENERIC-OCTREE >  data: NIL origin: '( -2.92885 0.218872 7.33389)\n",
      "Skipping octree #<GENERIC-OCTREE >  data: NIL origin: '( -2.92885 0.906362 7.33389)\n",
      "Skipping octree #<GENERIC-OCTREE >  data: NIL origin: '( -2.92885 0.906362 8.91987)\n",
      "Skipping octree #<GENERIC-OCTREE >  data: NIL origin: '( -2.16754 0.218872 7.33389)\n",
      "Skipping octree #<GENERIC-OCTREE >  data: NIL origin: '( -2.16754 0.218872 8.91987)\n",
      "Skipping octree #<GENERIC-OCTREE >  data: NIL origin: '( -2.16754 0.906362 7.33389)\n",
      "Skipping octree #<GENERIC-OCTREE >  data: NIL origin: '( -2.5482 1.9376 8.12688)\n",
      "Skipping octree #<GENERIC-OCTREE >  data: NIL origin: '( -1.02559 1.9376 11.2988)\n",
      "Skipping octree #<GENERIC-OCTREE >  data: NIL origin: '( -1.40624 1.59385 10.5059)\n",
      "Skipping octree #<GENERIC-OCTREE >  data: NIL origin: '( -1.40624 1.59385 12.0918)\n",
      "Skipping octree #<GENERIC-OCTREE >  data: NIL origin: '( -1.40624 2.28134 10.5059)\n",
      "Skipping octree #<GENERIC-OCTREE >  data: NIL origin: '( -0.644939 1.59385 12.0918)\n",
      "Skipping octree #<GENERIC-OCTREE >  data: NIL origin: '( -0.644939 2.28134 10.5059)\n",
      "Skipping octree #<GENERIC-OCTREE >  data: NIL origin: '( -0.644939 2.28134 12.0918)\n",
      "Skipping octree #<GENERIC-OCTREE >  data: NIL origin: '( -1.78689 4.00007 3.36895)\n",
      "Skipping octree #<GENERIC-OCTREE >  data: NIL origin: '( -1.78689 4.00007 9.71286)\n",
      "Skipping octree #<GENERIC-OCTREE >  data: NIL origin: '( -2.5482 3.31258 8.12688)\n",
      "Skipping octree #<GENERIC-OCTREE >  data: NIL origin: '( -2.92885 2.96883 7.33389)\n",
      "Skipping octree #<GENERIC-OCTREE >  data: NIL origin: '( -2.92885 3.65633 7.33389)\n",
      "Skipping octree #<GENERIC-OCTREE >  data: NIL origin: '( -2.92885 3.65633 8.91987)\n",
      "Skipping octree #<GENERIC-OCTREE >  data: NIL origin: '( -2.16754 2.96883 7.33389)\n",
      "Skipping octree #<GENERIC-OCTREE >  data: NIL origin: '( -2.16754 3.65633 7.33389)\n",
      "Skipping octree #<GENERIC-OCTREE >  data: NIL origin: '( -2.16754 3.65633 8.91987)\n",
      "Skipping octree #<GENERIC-OCTREE >  data: NIL origin: '( -2.5482 4.68756 8.12688)\n",
      "Skipping octree #<GENERIC-OCTREE >  data: NIL origin: '( -2.5482 4.68756 11.2988)\n",
      "Skipping octree #<GENERIC-OCTREE >  data: NIL origin: '( -1.02559 3.31258 11.2988)\n",
      "Skipping octree #<GENERIC-OCTREE >  data: NIL origin: '( -1.02559 4.68756 8.12688)\n",
      "Skipping octree #<GENERIC-OCTREE >  data: NIL origin: '( -1.02559 4.68756 11.2988)\n",
      "Skipping octree #<GENERIC-OCTREE >  data: NIL origin: '( 2.78092 -2.87484 -6.14693)\n",
      "Skipping octree #<GENERIC-OCTREE >  data: NIL origin: '( 1.25832 -4.24982 -9.31888)\n",
      "Skipping octree #<GENERIC-OCTREE >  data: NIL origin: '( 1.25832 -4.24982 -2.97497)\n",
      "Skipping octree #<GENERIC-OCTREE >  data: NIL origin: '( 1.25832 -1.49986 -9.31888)\n",
      "Skipping octree #<GENERIC-OCTREE >  data: NIL origin: '( 0.497015 -2.18735 -10.9049)\n",
      "Skipping octree #<GENERIC-OCTREE >  data: NIL origin: '( 0.497015 -2.18735 -7.7329)\n",
      "Skipping octree #<GENERIC-OCTREE >  data: NIL origin: '( 0.116364 -2.53109 -8.52589)\n",
      "Skipping octree #<GENERIC-OCTREE >  data: NIL origin: '( 0.116364 -2.53109 -6.93991)\n",
      "Skipping octree #<GENERIC-OCTREE >  data: NIL origin: '( 0.116364 -1.8436 -6.93991)\n",
      "Skipping octree #<GENERIC-OCTREE >  data: NIL origin: '( 0.877666 -1.8436 -6.93991)\n",
      "Skipping octree #<GENERIC-OCTREE >  data: NIL origin: '( 0.497015 -0.812364 -10.9049)\n",
      "Skipping octree #<GENERIC-OCTREE >  data: NIL origin: '( 0.116364 -1.15611 -11.6979)\n",
      "Skipping octree #<GENERIC-OCTREE >  data: NIL origin: '( 0.116364 -1.15611 -10.1119)\n",
      "Skipping octree #<GENERIC-OCTREE >  data: NIL origin: '( 0.116364 -0.468619 -11.6979)\n",
      "Skipping octree #<GENERIC-OCTREE >  data: NIL origin: '( 0.116364 -0.468619 -10.1119)\n",
      "Skipping octree #<GENERIC-OCTREE >  data: NIL origin: '( 0.877666 -1.15611 -11.6979)\n",
      "Skipping octree #<GENERIC-OCTREE >  data: NIL origin: '( 0.877666 -0.468619 -11.6979)\n",
      "Skipping octree #<GENERIC-OCTREE >  data: NIL origin: '( 2.01962 -2.18735 -10.9049)\n",
      "Skipping octree #<GENERIC-OCTREE >  data: NIL origin: '( 2.01962 -2.18735 -7.7329)\n",
      "Skipping octree #<GENERIC-OCTREE >  data: NIL origin: '( 1.63897 -2.53109 -8.52589)\n",
      "Skipping octree #<GENERIC-OCTREE >  data: NIL origin: '( 1.63897 -2.53109 -6.93991)\n",
      "Skipping octree #<GENERIC-OCTREE >  data: NIL origin: '( 1.63897 -1.8436 -8.52589)\n",
      "Skipping octree #<GENERIC-OCTREE >  data: NIL origin: '( 2.40027 -2.53109 -8.52589)\n",
      "Skipping octree #<GENERIC-OCTREE >  data: NIL origin: '( 2.40027 -1.8436 -8.52589)\n",
      "Skipping octree #<GENERIC-OCTREE >  data: NIL origin: '( 2.40027 -1.8436 -6.93991)\n",
      "Skipping octree #<GENERIC-OCTREE >  data: NIL origin: '( 2.01962 -0.812364 -7.7329)\n",
      "Skipping octree #<GENERIC-OCTREE >  data: NIL origin: '( 1.63897 -1.15611 -8.52589)\n",
      "Skipping octree #<GENERIC-OCTREE >  data: NIL origin: '( 1.63897 -0.468619 -8.52589)\n",
      "Skipping octree #<GENERIC-OCTREE >  data: NIL origin: '( 1.63897 -0.468619 -6.93991)\n",
      "Skipping octree #<GENERIC-OCTREE >  data: NIL origin: '( 2.40027 -1.15611 -8.52589)\n",
      "Skipping octree #<GENERIC-OCTREE >  data: NIL origin: '( 2.40027 -1.15611 -6.93991)\n",
      "Skipping octree #<GENERIC-OCTREE >  data: NIL origin: '( 2.40027 -0.468619 -8.52589)\n",
      "Skipping octree #<GENERIC-OCTREE >  data: NIL origin: '( 1.25832 -1.49986 -2.97497)\n",
      "Skipping octree #<GENERIC-OCTREE >  data: NIL origin: '( 0.497015 -2.18735 -4.56095)\n",
      "Skipping octree #<GENERIC-OCTREE >  data: NIL origin: '( 0.497015 -2.18735 -1.38899)\n",
      "Skipping octree #<GENERIC-OCTREE >  data: NIL origin: '( 0.497015 -0.812364 -1.38899)\n",
      "Skipping octree #<GENERIC-OCTREE >  data: NIL origin: '( 2.01962 -2.18735 -4.56095)\n",
      "Skipping octree #<GENERIC-OCTREE >  data: NIL origin: '( 1.63897 -2.53109 -5.35394)\n",
      "Skipping octree #<GENERIC-OCTREE >  data: NIL origin: '( 1.63897 -1.8436 -3.76796)\n",
      "Skipping octree #<GENERIC-OCTREE >  data: NIL origin: '( 2.40027 -2.53109 -5.35394)\n",
      "Skipping octree #<GENERIC-OCTREE >  data: NIL origin: '( 2.40027 -2.53109 -3.76796)\n",
      "Skipping octree #<GENERIC-OCTREE >  data: NIL origin: '( 2.40027 -1.8436 -5.35394)\n",
      "Skipping octree #<GENERIC-OCTREE >  data: NIL origin: '( 2.40027 -1.8436 -3.76796)\n",
      "Skipping octree #<GENERIC-OCTREE >  data: NIL origin: '( 2.01962 -2.18735 -1.38899)\n",
      "Skipping octree #<GENERIC-OCTREE >  data: NIL origin: '( 4.30353 -4.24982 -9.31888)\n",
      "Skipping octree #<GENERIC-OCTREE >  data: NIL origin: '( 4.30353 -4.24982 -2.97497)\n",
      "Skipping octree #<GENERIC-OCTREE >  data: NIL origin: '( 4.30353 -1.49986 -9.31888)\n",
      "Skipping octree #<GENERIC-OCTREE >  data: NIL origin: '( 3.54223 -2.18735 -10.9049)\n",
      "Skipping octree #<GENERIC-OCTREE >  data: NIL origin: '( 3.16157 -1.8436 -11.6979)\n",
      "Skipping octree #<GENERIC-OCTREE >  data: NIL origin: '( 3.92288 -2.53109 -11.6979)\n",
      "Skipping octree #<GENERIC-OCTREE >  data: NIL origin: '( 3.92288 -2.53109 -10.1119)\n",
      "Skipping octree #<GENERIC-OCTREE >  data: NIL origin: '( 3.92288 -1.8436 -11.6979)\n",
      "Skipping octree #<GENERIC-OCTREE >  data: NIL origin: '( 3.92288 -1.8436 -10.1119)\n",
      "Skipping octree #<GENERIC-OCTREE >  data: NIL origin: '( 3.54223 -2.18735 -7.7329)\n",
      "Skipping octree #<GENERIC-OCTREE >  data: NIL origin: '( 3.54223 -0.812364 -10.9049)\n",
      "Skipping octree #<GENERIC-OCTREE >  data: NIL origin: '( 3.54223 -0.812364 -7.7329)\n",
      "Skipping octree #<GENERIC-OCTREE >  data: NIL origin: '( 5.06483 -2.18735 -7.7329)\n",
      "Skipping octree #<GENERIC-OCTREE >  data: NIL origin: '( 5.06483 -0.812364 -10.9049)\n",
      "Skipping octree #<GENERIC-OCTREE >  data: NIL origin: '( 5.06483 -0.812364 -7.7329)\n",
      "Skipping octree #<GENERIC-OCTREE >  data: NIL origin: '( 4.30353 -1.49986 -2.97497)\n",
      "Skipping octree #<GENERIC-OCTREE >  data: NIL origin: '( 3.54223 -2.18735 -4.56095)\n",
      "Skipping octree #<GENERIC-OCTREE >  data: NIL origin: '( 3.54223 -2.18735 -1.38899)\n",
      "Skipping octree #<GENERIC-OCTREE >  data: NIL origin: '( 5.06483 -2.18735 -4.56095)\n",
      "Skipping octree #<GENERIC-OCTREE >  data: NIL origin: '( 5.06483 -2.18735 -1.38899)\n",
      "Skipping octree #<GENERIC-OCTREE >  data: NIL origin: '( 5.06483 -0.812364 -4.56095)\n",
      "Skipping octree #<GENERIC-OCTREE >  data: NIL origin: '( 5.06483 -0.812364 -1.38899)\n",
      "Skipping octree #<GENERIC-OCTREE >  data: NIL origin: '( 2.78092 -2.87484 6.5409)\n",
      "Skipping octree #<GENERIC-OCTREE >  data: NIL origin: '( 1.25832 -4.24982 3.36895)\n",
      "Skipping octree #<GENERIC-OCTREE >  data: NIL origin: '( 0.497015 -4.93731 1.78297)\n",
      "Skipping octree #<GENERIC-OCTREE >  data: NIL origin: '( 0.497015 -4.93731 4.95493)\n",
      "Skipping octree #<GENERIC-OCTREE >  data: NIL origin: '( 0.497015 -3.56233 1.78297)\n",
      "Skipping octree #<GENERIC-OCTREE >  data: NIL origin: '( 0.497015 -3.56233 4.95493)\n",
      "Skipping octree #<GENERIC-OCTREE >  data: NIL origin: '( 0.116364 -3.90607 4.16194)\n",
      "Skipping octree #<GENERIC-OCTREE >  data: NIL origin: '( 0.116364 -3.90607 5.74792)\n",
      "Skipping octree #<GENERIC-OCTREE >  data: NIL origin: '( 0.116364 -3.21858 5.74792)\n",
      "Skipping octree #<GENERIC-OCTREE >  data: NIL origin: '( 0.877666 -3.90607 4.16194)\n",
      "Skipping octree #<GENERIC-OCTREE >  data: NIL origin: '( 0.877666 -3.90607 5.74792)\n",
      "Skipping octree #<GENERIC-OCTREE >  data: NIL origin: '( 0.877666 -3.21858 5.74792)\n",
      "Skipping octree #<GENERIC-OCTREE >  data: NIL origin: '( 2.01962 -4.93731 1.78297)\n",
      "Skipping octree #<GENERIC-OCTREE >  data: NIL origin: '( 2.01962 -3.56233 1.78297)\n",
      "Skipping octree #<GENERIC-OCTREE >  data: NIL origin: '( 1.25832 -4.24982 9.71286)\n",
      "Skipping octree #<GENERIC-OCTREE >  data: NIL origin: '( 1.25832 -1.49986 3.36895)\n",
      "Skipping octree #<GENERIC-OCTREE >  data: NIL origin: '( 0.497015 -2.18735 4.95493)\n",
      "Skipping octree #<GENERIC-OCTREE >  data: NIL origin: '( 0.497015 -0.812364 1.78297)\n",
      "Skipping octree #<GENERIC-OCTREE >  data: NIL origin: '( 0.497015 -0.812364 4.95493)\n",
      "Skipping octree #<GENERIC-OCTREE >  data: NIL origin: '( 2.01962 -2.18735 1.78297)\n",
      "Skipping octree #<GENERIC-OCTREE >  data: NIL origin: '( 2.01962 -0.812364 1.78297)\n",
      "Skipping octree #<GENERIC-OCTREE >  data: NIL origin: '( 2.01962 -0.812364 4.95493)\n",
      "Skipping octree #<GENERIC-OCTREE >  data: NIL origin: '( 1.25832 -1.49986 9.71286)\n",
      "Skipping octree #<GENERIC-OCTREE >  data: NIL origin: '( 0.497015 -2.18735 11.2988)\n",
      "Skipping octree #<GENERIC-OCTREE >  data: NIL origin: '( 0.497015 -0.812364 8.12688)\n",
      "Skipping octree #<GENERIC-OCTREE >  data: NIL origin: '( 0.116364 -1.15611 7.33389)\n",
      "Skipping octree #<GENERIC-OCTREE >  data: NIL origin: '( 0.116364 -1.15611 8.91987)\n",
      "Skipping octree #<GENERIC-OCTREE >  data: NIL origin: '( 0.116364 -0.468619 7.33389)\n",
      "Skipping octree #<GENERIC-OCTREE >  data: NIL origin: '( 0.116364 -0.468619 8.91987)\n",
      "Skipping octree #<GENERIC-OCTREE >  data: NIL origin: '( 0.877666 -0.468619 7.33389)\n",
      "Skipping octree #<GENERIC-OCTREE >  data: NIL origin: '( 0.877666 -0.468619 8.91987)\n",
      "Skipping octree #<GENERIC-OCTREE >  data: NIL origin: '( 0.497015 -0.812364 11.2988)\n",
      "Skipping octree #<GENERIC-OCTREE >  data: NIL origin: '( 2.01962 -2.18735 11.2988)\n",
      "Skipping octree #<GENERIC-OCTREE >  data: NIL origin: '( 2.01962 -0.812364 11.2988)\n",
      "Skipping octree #<GENERIC-OCTREE >  data: NIL origin: '( 4.30353 -4.24982 3.36895)\n",
      "Skipping octree #<GENERIC-OCTREE >  data: NIL origin: '( 4.30353 -4.24982 9.71286)\n",
      "Skipping octree #<GENERIC-OCTREE >  data: NIL origin: '( 4.30353 -1.49986 3.36895)\n",
      "Skipping octree #<GENERIC-OCTREE >  data: NIL origin: '( 3.54223 -2.18735 1.78297)\n",
      "Skipping octree #<GENERIC-OCTREE >  data: NIL origin: '( 3.54223 -2.18735 4.95493)\n",
      "Skipping octree #<GENERIC-OCTREE >  data: NIL origin: '( 3.16157 -2.53109 4.16194)\n",
      "Skipping octree #<GENERIC-OCTREE >  data: NIL origin: '( 3.16157 -2.53109 5.74792)\n",
      "Skipping octree #<GENERIC-OCTREE >  data: NIL origin: '( 3.16157 -1.8436 4.16194)\n",
      "Skipping octree #<GENERIC-OCTREE >  data: NIL origin: '( 3.92288 -2.53109 5.74792)\n",
      "Skipping octree #<GENERIC-OCTREE >  data: NIL origin: '( 3.92288 -1.8436 4.16194)\n",
      "Skipping octree #<GENERIC-OCTREE >  data: NIL origin: '( 3.92288 -1.8436 5.74792)\n",
      "Skipping octree #<GENERIC-OCTREE >  data: NIL origin: '( 3.54223 -0.812364 1.78297)\n",
      "Skipping octree #<GENERIC-OCTREE >  data: NIL origin: '( 3.54223 -0.812364 4.95493)\n",
      "Skipping octree #<GENERIC-OCTREE >  data: NIL origin: '( 3.16157 -1.15611 4.16194)\n",
      "Skipping octree #<GENERIC-OCTREE >  data: NIL origin: '( 3.16157 -1.15611 5.74792)\n",
      "Skipping octree #<GENERIC-OCTREE >  data: NIL origin: '( 3.16157 -0.468619 4.16194)\n",
      "Skipping octree #<GENERIC-OCTREE >  data: NIL origin: '( 3.92288 -1.15611 4.16194)\n",
      "Skipping octree #<GENERIC-OCTREE >  data: NIL origin: '( 3.92288 -1.15611 5.74792)\n",
      "Skipping octree #<GENERIC-OCTREE >  data: NIL origin: '( 3.92288 -0.468619 5.74792)\n",
      "Skipping octree #<GENERIC-OCTREE >  data: NIL origin: '( 5.06483 -2.18735 1.78297)\n",
      "Skipping octree #<GENERIC-OCTREE >  data: NIL origin: '( 5.06483 -2.18735 4.95493)\n",
      "Skipping octree #<GENERIC-OCTREE >  data: NIL origin: '( 5.06483 -0.812364 1.78297)\n",
      "Skipping octree #<GENERIC-OCTREE >  data: NIL origin: '( 2.78092 2.62509 -6.14693)\n",
      "Skipping octree #<GENERIC-OCTREE >  data: NIL origin: '( 1.25832 1.25011 -9.31888)\n",
      "Skipping octree #<GENERIC-OCTREE >  data: NIL origin: '( 0.497015 0.562617 -7.7329)\n",
      "Skipping octree #<GENERIC-OCTREE >  data: NIL origin: '( 0.497015 1.9376 -10.9049)\n",
      "Skipping octree #<GENERIC-OCTREE >  data: NIL origin: '( 0.497015 1.9376 -7.7329)\n",
      "Skipping octree #<GENERIC-OCTREE >  data: NIL origin: '( 2.01962 0.562617 -7.7329)\n",
      "Skipping octree #<GENERIC-OCTREE >  data: NIL origin: '( 2.01962 1.9376 -10.9049)\n",
      "Skipping octree #<GENERIC-OCTREE >  data: NIL origin: '( 2.01962 1.9376 -7.7329)\n",
      "Skipping octree #<GENERIC-OCTREE >  data: NIL origin: '( 1.25832 1.25011 -2.97497)\n",
      "Skipping octree #<GENERIC-OCTREE >  data: NIL origin: '( 0.497015 0.562617 -4.56095)\n",
      "Skipping octree #<GENERIC-OCTREE >  data: NIL origin: '( 0.497015 1.9376 -4.56095)\n",
      "Skipping octree #<GENERIC-OCTREE >  data: NIL origin: '( 0.497015 1.9376 -1.38899)\n",
      "Skipping octree #<GENERIC-OCTREE >  data: NIL origin: '( 2.01962 0.562617 -4.56095)\n",
      "Skipping octree #<GENERIC-OCTREE >  data: NIL origin: '( 2.01962 1.9376 -1.38899)\n",
      "Skipping octree #<GENERIC-OCTREE >  data: NIL origin: '( 1.63897 1.59385 -2.18198)\n",
      "Skipping octree #<GENERIC-OCTREE >  data: NIL origin: '( 1.63897 1.59385 -0.596)\n",
      "Skipping octree #<GENERIC-OCTREE >  data: NIL origin: '( 1.63897 2.28134 -0.596)\n",
      "Skipping octree #<GENERIC-OCTREE >  data: NIL origin: '( 2.40027 1.59385 -2.18198)\n",
      "Skipping octree #<GENERIC-OCTREE >  data: NIL origin: '( 2.20995 1.42198 -1.78548)\n",
      "Skipping octree #<GENERIC-OCTREE >  data: NIL origin: '( 2.20995 1.76573 -2.57847)\n",
      "Skipping octree #<GENERIC-OCTREE >  data: NIL origin: '( 2.5906 1.42198 -2.57847)\n",
      "Skipping octree #<GENERIC-OCTREE >  data: NIL origin: '( 2.5906 1.42198 -1.78548)\n",
      "Skipping octree #<GENERIC-OCTREE >  data: NIL origin: '( 2.5906 1.76573 -2.57847)\n",
      "Skipping octree #<GENERIC-OCTREE >  data: NIL origin: '( 2.5906 1.76573 -1.78548)\n",
      "Skipping octree #<GENERIC-OCTREE >  data: NIL origin: '( 2.40027 1.59385 -0.596)\n",
      "Skipping octree #<GENERIC-OCTREE >  data: NIL origin: '( 2.40027 2.28134 -2.18198)\n",
      "Skipping octree #<GENERIC-OCTREE >  data: NIL origin: '( 2.40027 2.28134 -0.596)\n",
      "Skipping octree #<GENERIC-OCTREE >  data: NIL origin: '( 1.25832 4.00007 -9.31888)\n",
      "Skipping octree #<GENERIC-OCTREE >  data: NIL origin: '( 4.30353 1.25011 -2.97497)\n",
      "Skipping octree #<GENERIC-OCTREE >  data: NIL origin: '( 3.54223 0.562617 -4.56095)\n",
      "Skipping octree #<GENERIC-OCTREE >  data: NIL origin: '( 3.16157 0.906362 -5.35394)\n",
      "Skipping octree #<GENERIC-OCTREE >  data: NIL origin: '( 3.16157 0.906362 -3.76796)\n",
      "Skipping octree #<GENERIC-OCTREE >  data: NIL origin: '( 3.92288 0.218872 -5.35394)\n",
      "Skipping octree #<GENERIC-OCTREE >  data: NIL origin: '( 3.92288 0.218872 -3.76796)\n",
      "Skipping octree #<GENERIC-OCTREE >  data: NIL origin: '( 3.92288 0.906362 -5.35394)\n",
      "Skipping octree #<GENERIC-OCTREE >  data: NIL origin: '( 3.92288 0.906362 -3.76796)\n",
      "Skipping octree #<GENERIC-OCTREE >  data: NIL origin: '( 3.54223 0.562617 -1.38899)\n",
      "Skipping octree #<GENERIC-OCTREE >  data: NIL origin: '( 3.54223 1.9376 -1.38899)\n",
      "Skipping octree #<GENERIC-OCTREE >  data: NIL origin: '( 3.16157 1.59385 -2.18198)\n",
      "Skipping octree #<GENERIC-OCTREE >  data: NIL origin: '( 3.16157 1.59385 -0.596)\n",
      "Skipping octree #<GENERIC-OCTREE >  data: NIL origin: '( 3.16157 2.28134 -2.18198)\n",
      "Skipping octree #<GENERIC-OCTREE >  data: NIL origin: '( 3.92288 1.59385 -2.18198)\n",
      "Skipping octree #<GENERIC-OCTREE >  data: NIL origin: '( 3.92288 2.28134 -2.18198)\n",
      "Skipping octree #<GENERIC-OCTREE >  data: NIL origin: '( 3.92288 2.28134 -0.596)\n",
      "Skipping octree #<GENERIC-OCTREE >  data: NIL origin: '( 5.06483 0.562617 -4.56095)\n",
      "Skipping octree #<GENERIC-OCTREE >  data: NIL origin: '( 5.06483 0.562617 -1.38899)\n",
      "Skipping octree #<GENERIC-OCTREE >  data: NIL origin: '( 5.06483 1.9376 -4.56095)\n",
      "Skipping octree #<GENERIC-OCTREE >  data: NIL origin: '( 5.06483 1.9376 -1.38899)\n",
      "Skipping octree #<GENERIC-OCTREE >  data: NIL origin: '( 4.30353 4.00007 -9.31888)\n",
      "Skipping octree #<GENERIC-OCTREE >  data: NIL origin: '( 2.78092 2.62509 6.5409)\n",
      "Skipping octree #<GENERIC-OCTREE >  data: NIL origin: '( 1.25832 1.25011 3.36895)\n",
      "Skipping octree #<GENERIC-OCTREE >  data: NIL origin: '( 0.497015 0.562617 1.78297)\n",
      "Skipping octree #<GENERIC-OCTREE >  data: NIL origin: '( 0.497015 0.562617 4.95493)\n",
      "Skipping octree #<GENERIC-OCTREE >  data: NIL origin: '( 0.497015 1.9376 1.78297)\n",
      "Skipping octree #<GENERIC-OCTREE >  data: NIL origin: '( 0.497015 1.9376 4.95493)\n",
      "Skipping octree #<GENERIC-OCTREE >  data: NIL origin: '( 2.01962 0.562617 1.78297)\n",
      "Skipping octree #<GENERIC-OCTREE >  data: NIL origin: '( 2.01962 0.562617 4.95493)\n",
      "Skipping octree #<GENERIC-OCTREE >  data: NIL origin: '( 1.25832 1.25011 9.71286)\n",
      "Skipping octree #<GENERIC-OCTREE >  data: NIL origin: '( 0.497015 0.562617 11.2988)\n",
      "Skipping octree #<GENERIC-OCTREE >  data: NIL origin: '( 0.497015 1.9376 8.12688)\n",
      "Skipping octree #<GENERIC-OCTREE >  data: NIL origin: '( 2.01962 0.562617 8.12688)\n",
      "Skipping octree #<GENERIC-OCTREE >  data: NIL origin: '( 2.01962 0.562617 11.2988)\n",
      "Skipping octree #<GENERIC-OCTREE >  data: NIL origin: '( 2.01962 1.9376 8.12688)\n",
      "Skipping octree #<GENERIC-OCTREE >  data: NIL origin: '( 2.01962 1.9376 11.2988)\n",
      "Skipping octree #<GENERIC-OCTREE >  data: NIL origin: '( 1.25832 4.00007 9.71286)\n",
      "Skipping octree #<GENERIC-OCTREE >  data: NIL origin: '( 4.30353 1.25011 3.36895)\n",
      "Skipping octree #<GENERIC-OCTREE >  data: NIL origin: '( 3.54223 0.562617 4.95493)\n",
      "Skipping octree #<GENERIC-OCTREE >  data: NIL origin: '( 3.16157 0.218872 4.16194)\n",
      "Skipping octree #<GENERIC-OCTREE >  data: NIL origin: '( 3.16157 0.906362 5.74792)\n",
      "Skipping octree #<GENERIC-OCTREE >  data: NIL origin: '( 3.92288 0.218872 4.16194)\n",
      "Skipping octree #<GENERIC-OCTREE >  data: NIL origin: '( 3.92288 0.218872 5.74792)\n",
      "Skipping octree #<GENERIC-OCTREE >  data: NIL origin: '( 3.92288 0.906362 4.16194)\n",
      "Skipping octree #<GENERIC-OCTREE >  data: NIL origin: '( 3.92288 0.906362 5.74792)\n",
      "Skipping octree #<GENERIC-OCTREE >  data: NIL origin: '( 3.54223 1.9376 1.78297)\n",
      "Skipping octree #<GENERIC-OCTREE >  data: NIL origin: '( 3.16157 1.59385 0.989979)\n",
      "Skipping octree #<GENERIC-OCTREE >  data: NIL origin: '( 3.16157 1.59385 2.57596)\n",
      "Skipping octree #<GENERIC-OCTREE >  data: NIL origin: '( 3.16157 2.28134 2.57596)\n",
      "Skipping octree #<GENERIC-OCTREE >  data: NIL origin: '( 3.92288 1.59385 0.989979)\n",
      "Skipping octree #<GENERIC-OCTREE >  data: NIL origin: '( 3.92288 2.28134 0.989979)\n",
      "Skipping octree #<GENERIC-OCTREE >  data: NIL origin: '( 3.92288 2.28134 2.57596)\n",
      "Skipping octree #<GENERIC-OCTREE >  data: NIL origin: '( 3.54223 1.9376 4.95493)\n",
      "Skipping octree #<GENERIC-OCTREE >  data: NIL origin: '( 5.06483 0.562617 1.78297)\n",
      "Skipping octree #<GENERIC-OCTREE >  data: NIL origin: '( 5.06483 0.562617 4.95493)\n",
      "generic-octree-data -> residue: #<RESIDUE :PA @0x134c29688>   atom: #<ATOM :H2R/:H @0x1364e7a59>\n"
     ]
    },
    {
     "name": "stderr",
     "output_type": "stream",
     "text": [
      "\n",
      "Undefined variable *OCTREE-STACK*\n"
     ]
    },
    {
     "data": {
      "text/plain": [
       "(132\n",
       " #(#<GENERIC-OCTREE > #<GENERIC-OCTREE > #<GENERIC-OCTREE > #<GENERIC-OCTREE >))"
      ]
     },
     "execution_count": 51,
     "metadata": {},
     "output_type": "execute_result"
    }
   ],
   "source": [
    "(defparameter *octree-stack* (multiple-value-list (membrane-packer::find-ga-lipid-octree *l2* *sr2* *n2*)))\n",
    "*octree-stack*"
   ]
  },
  {
   "cell_type": "markdown",
   "metadata": {},
   "source": [
    "Get the position of the source atom"
   ]
  },
  {
   "cell_type": "code",
   "execution_count": 52,
   "metadata": {},
   "outputs": [
    {
     "name": "stderr",
     "output_type": "stream",
     "text": [
      "\n",
      "Undefined variable *STACK*\n"
     ]
    },
    {
     "data": {
      "text/plain": [
       "#(#<GENERIC-OCTREE > #<GENERIC-OCTREE > #<GENERIC-OCTREE > #<GENERIC-OCTREE >)"
      ]
     },
     "execution_count": 52,
     "metadata": {},
     "output_type": "execute_result"
    }
   ],
   "source": [
    "(defparameter *stack* (second *octree-stack*))\n",
    "*stack*"
   ]
  },
  {
   "cell_type": "code",
   "execution_count": 53,
   "metadata": {},
   "outputs": [
    {
     "data": {
      "text/plain": [
       "#<BOUNDING-BOX >"
      ]
     },
     "execution_count": 53,
     "metadata": {},
     "output_type": "execute_result"
    }
   ],
   "source": [
    "(membrane-packer::bounding-box *memb*)"
   ]
  },
  {
   "cell_type": "code",
   "execution_count": 54,
   "metadata": {},
   "outputs": [
    {
     "data": {
      "text/plain": [
       "'( -12.02 -53.6056 12.6495)"
      ]
     },
     "execution_count": 54,
     "metadata": {},
     "output_type": "execute_result"
    }
   ],
   "source": [
    "*memb-pos1*"
   ]
  },
  {
   "cell_type": "code",
   "execution_count": 55,
   "metadata": {},
   "outputs": [
    {
     "name": "stdout",
     "output_type": "stream",
     "text": [
      "-------- getPointsWithinCutoff  depth 0    isLeafNode -> 0     this->_data.boundp() -> 0\n",
      " x_size, y_size, z_size: 94.868332, 91.287117, 60.000000 | x_rsize, y_rsize, z_rsize: 0.010541, 0.010954, 0.016667\n",
      "querypoint -> -12.020044 -53.605571 12.649463\n",
      "this->_children[0]->_origin -> -3.309498 -2.874837 -6.146925\n",
      "this->_children[0]->_halfDimension -> 3.045210 2.749963 6.343915\n",
      "skipping child dx->8.710546 > this->_children[0]->_halfDimension.getX()+cutoff->4.245210 \n",
      "this->_children[1]->_origin -> -3.309498 -2.874837 6.540905\n",
      "this->_children[1]->_halfDimension -> 3.045210 2.749963 6.343915\n",
      "skipping child dx->8.710546 > this->_children[1]->_halfDimension.getX()+cutoff->4.245210 \n",
      "this->_children[2]->_origin -> -3.309498 2.625089 -6.146925\n",
      "this->_children[2]->_halfDimension -> 3.045210 2.749963 6.343915\n",
      "skipping child dx->8.710546 > this->_children[2]->_halfDimension.getX()+cutoff->4.245210 \n",
      "this->_children[3]->_origin -> -3.309498 2.625089 6.540905\n",
      "this->_children[3]->_halfDimension -> 3.045210 2.749963 6.343915\n",
      "skipping child dx->8.710546 > this->_children[3]->_halfDimension.getX()+cutoff->4.245210 \n",
      "this->_children[4]->_origin -> 2.780923 -2.874837 -6.146925\n",
      "this->_children[4]->_halfDimension -> 3.045210 2.749963 6.343915\n",
      "skipping child dx->14.800967 > this->_children[4]->_halfDimension.getX()+cutoff->4.245210 \n",
      "this->_children[5]->_origin -> 2.780923 -2.874837 6.540905\n",
      "this->_children[5]->_halfDimension -> 3.045210 2.749963 6.343915\n",
      "skipping child dx->14.800967 > this->_children[5]->_halfDimension.getX()+cutoff->4.245210 \n",
      "this->_children[6]->_origin -> 2.780923 2.625089 -6.146925\n",
      "this->_children[6]->_halfDimension -> 3.045210 2.749963 6.343915\n",
      "skipping child dx->14.800967 > this->_children[6]->_halfDimension.getX()+cutoff->4.245210 \n",
      "this->_children[7]->_origin -> 2.780923 2.625089 6.540905\n",
      "this->_children[7]->_halfDimension -> 3.045210 2.749963 6.343915\n",
      "skipping child dx->14.800967 > this->_children[7]->_halfDimension.getX()+cutoff->4.245210 \n"
     ]
    },
    {
     "name": "stderr",
     "output_type": "stream",
     "text": [
      "\n",
      "Undefined variable *TEST-COLLISIONS*\n",
      "\n",
      "Undefined variable *TEST-COLLISIONS*\n"
     ]
    },
    {
     "data": {
      "text/plain": [
       "#()"
      ]
     },
     "execution_count": 55,
     "metadata": {},
     "output_type": "execute_result"
    }
   ],
   "source": [
    "(defparameter *test-collisions* (membrane-packer::make-collisions))\n",
    "(let ((chem:*debug-octree* t))\n",
    "  (chem:generic-octree-get-points-within-cutoff (elt *stack* 0)\n",
    "                                                membrane-packer::*close-distance*\n",
    "                                                :dummy-value\n",
    "                                                *memb-pos1*\n",
    "                                                (membrane-packer::bounding-box *memb*)\n",
    "                                                (membrane-packer::indices *test-collisions*)))\n",
    "(membrane-packer::indices *test-collisions*)"
   ]
  },
  {
   "cell_type": "code",
   "execution_count": 58,
   "metadata": {},
   "outputs": [
    {
     "data": {
      "text/plain": [
       "(126\n",
       " #(#<GENERIC-OCTREE > #<GENERIC-OCTREE > #<GENERIC-OCTREE > #<GENERIC-OCTREE >))"
      ]
     },
     "execution_count": 58,
     "metadata": {},
     "output_type": "execute_result"
    }
   ],
   "source": [
    "*octree-stack*"
   ]
  },
  {
   "cell_type": "code",
   "execution_count": 44,
   "metadata": {},
   "outputs": [
    {
     "name": "stderr",
     "output_type": "stream",
     "text": [
      "\n",
      "An error occurred of type: TASK-KILLED-ERROR: \n",
      "  The task was killed.\n",
      "\n",
      "serious-condition backtrace:\n",
      "0: (ERROR #<LPARALLEL.KERNEL:TASK-KILLED-ERROR>)\n",
      "1: UNWRAP-RESULT\n",
      "2: (RECEIVE-RESULT #S(LPARALLEL.KERNEL:CHANNEL :QUEUE #S(LPARALLEL.CONS-QUEUE:CONS-QUEUE :IMPL #S(LPARALLEL.RAW-QUEUE:RAW-QUEUE :HEAD (#S(LPARALLEL.KERNEL::WRAPPED-ERROR :VALUE #<LPARALLEL.KERNEL:TASK-KILLED-ERROR>) #S(LPARALLEL.KERNEL::WRAPPED-ERROR :VALUE #<LPARALLEL.KERNEL:TASK-KILLED-ERROR>) #S(LPARALLEL.KERNEL::WRAPPED-ERROR :VALUE #<LPARALLEL.KERNEL:TASK-KILLED-ERROR>) #S(LPARALLEL.KERNEL::WRAPPED-ERROR :VALUE #<LPARALLEL.KERNEL:TASK-KILLED-ERROR>) #S(LPARALLEL.KERNEL::WRAPPED-ERROR :VALUE #<LPARALLEL.KERNEL:TASK-KILLED-ERROR>) #S(LPARALLEL.KERNEL::WRAPPED-ERROR :VALUE #<LPARALLEL.KERNEL:TASK-KILLED-ERROR>) #S(LPARALLEL.KERNEL::WRAPPED-ERROR :VALUE #<LPARALLEL.KERNEL:TASK-KILLED-ERROR>) #S(LPARALLEL.KERNEL::WRAPPED-ERROR :VALUE #<LPARALLEL.KERNEL:TASK-KILLED-ERROR>) #S(LPARALLEL.KERNEL::WRAPPED-ERROR :VALUE #<LPARALLEL.KERNEL:TASK-KILLED-ERROR>) #S(LPARALLEL.KERNEL::WRAPPED-ERROR :VALUE #<LPARALLEL.KERNEL:TASK-KILLED-ERROR>) #S(LPARALLEL.KERNEL::WRAPPED-ERROR :VALUE #<LPARALLEL.KERNEL:TASK-KILLED-ERROR>)) :TAIL (#S(LPARALLEL.KERNEL::WRAPPED-ERROR :VALUE #<LPARALLEL.KERNEL:TASK-KILLED-ERROR>))) :LOCK #<MUTEX :ANONYMOUS :owner NIL :counter 0 @0x13dcd0989> :CVAR #<CONDITION-VARIABLE >) :KERNEL #<KERNEL :NAME \"lparallel\" :WORKER-COUNT 12 :USE-CALLER NIL :ALIVE T @0x14abb5489>))\n",
      "3: (RECEIVE-RESULTS #S(LPARALLEL.KERNEL:CHANNEL :QUEUE #S(LPARALLEL.CONS-QUEUE:CONS-QUEUE :IMPL #S(LPARALLEL.RAW-QUEUE:RAW-QUEUE :HEAD (#S(LPARALLEL.KERNEL::WRAPPED-ERROR :VALUE #<LPARALLEL.KERNEL:TASK-KILLED-ERROR>) #S(LPARALLEL.KERNEL::WRAPPED-ERROR :VALUE #<LPARALLEL.KERNEL:TASK-KILLED-ERROR>) #S(LPARALLEL.KERNEL::WRAPPED-ERROR :VALUE #<LPARALLEL.KERNEL:TASK-KILLED-ERROR>) #S(LPARALLEL.KERNEL::WRAPPED-ERROR :VALUE #<LPARALLEL.KERNEL:TASK-KILLED-ERROR>) #S(LPARALLEL.KERNEL::WRAPPED-ERROR :VALUE #<LPARALLEL.KERNEL:TASK-KILLED-ERROR>) #S(LPARALLEL.KERNEL::WRAPPED-ERROR :VALUE #<LPARALLEL.KERNEL:TASK-KILLED-ERROR>) #S(LPARALLEL.KERNEL::WRAPPED-ERROR :VALUE #<LPARALLEL.KERNEL:TASK-KILLED-ERROR>) #S(LPARALLEL.KERNEL::WRAPPED-ERROR :VALUE #<LPARALLEL.KERNEL:TASK-KILLED-ERROR>) #S(LPARALLEL.KERNEL::WRAPPED-ERROR :VALUE #<LPARALLEL.KERNEL:TASK-KILLED-ERROR>) #S(LPARALLEL.KERNEL::WRAPPED-ERROR :VALUE #<LPARALLEL.KERNEL:TASK-KILLED-ERROR>) #S(LPARALLEL.KERNEL::WRAPPED-ERROR :VALUE #<LPARALLEL.KERNEL:TASK-KILLED-ERROR>)) :TAIL (#S(LPARALLEL.KERNEL::WRAPPED-ERROR :VALUE #<LPARALLEL.KERNEL:TASK-KILLED-ERROR>))) :LOCK #<MUTEX :ANONYMOUS :owner NIL :counter 0 @0x13dcd0989> :CVAR #<CONDITION-VARIABLE >) :KERNEL #<KERNEL :NAME \"lparallel\" :WORKER-COUNT 12 :USE-CALLER NIL :ALIVE T @0x14abb5489>) 12 NIL)\n",
      "4: (LAMBDA)\n",
      "5: (PMAP-INTO/PARTS #<FUNCTION MAP-INTO> #(NIL NIL NIL NIL NIL NIL NIL NIL NIL NIL NIL NIL NIL NIL NIL NIL NIL NIL NIL NIL NIL NIL NIL NIL NIL NIL NIL NIL NIL NIL NIL NIL NIL NIL NIL NIL NIL NIL NIL NIL NIL NIL NIL NIL NIL NIL NIL NIL NIL NIL NIL NIL NIL NIL NIL NIL NIL NIL NIL NIL NIL NIL NIL NIL NIL NIL NIL NIL NIL NIL NIL NIL NIL NIL NIL NIL NIL NIL NIL NIL NIL NIL NIL NIL NIL NIL NIL NIL NIL NIL NIL NIL NIL NIL NIL NIL NIL NIL NIL NIL NIL NIL NIL NIL NIL NIL NIL NIL NIL NIL NIL NIL NIL NIL NIL NIL NIL NIL NIL NIL NIL NIL NIL NIL NIL NIL NIL NIL NIL NIL NIL NIL NIL NIL NIL NIL NIL NIL NIL NIL NIL NIL NIL NIL NIL NIL NIL NIL NIL NIL NIL NIL NIL NIL NIL NIL NIL NIL NIL NIL NIL NIL NIL NIL NIL NIL NIL NIL NIL NIL NIL NIL NIL NIL NIL NIL NIL NIL NIL NIL NIL NIL NIL NIL NIL NIL NIL NIL NIL NIL NIL NIL NIL NIL NIL NIL NIL NIL NIL NIL) #<FUNCTION LAMBDA> ((#<MEMBRANE-PACKER::GA-MEMBRANE> #<MEMBRANE-PACKER::GA-MEMBRANE> #<MEMBRANE-PACKER::GA-MEMBRANE> #<MEMBRANE-PACKER::GA-MEMBRANE> #<MEMBRANE-PACKER::GA-MEMBRANE> #<MEMBRANE-PACKER::GA-MEMBRANE> #<MEMBRANE-PACKER::GA-MEMBRANE> #<MEMBRANE-PACKER::GA-MEMBRANE> #<MEMBRANE-PACKER::GA-MEMBRANE> #<MEMBRANE-PACKER::GA-MEMBRANE> #<MEMBRANE-PACKER::GA-MEMBRANE> #<MEMBRANE-PACKER::GA-MEMBRANE> #<MEMBRANE-PACKER::GA-MEMBRANE> #<MEMBRANE-PACKER::GA-MEMBRANE> #<MEMBRANE-PACKER::GA-MEMBRANE> #<MEMBRANE-PACKER::GA-MEMBRANE> #<MEMBRANE-PACKER::GA-MEMBRANE> #<MEMBRANE-PACKER::GA-MEMBRANE> #<MEMBRANE-PACKER::GA-MEMBRANE> #<MEMBRANE-PACKER::GA-MEMBRANE> #<MEMBRANE-PACKER::GA-MEMBRANE> #<MEMBRANE-PACKER::GA-MEMBRANE> #<MEMBRANE-PACKER::GA-MEMBRANE> #<MEMBRANE-PACKER::GA-MEMBRANE> #<MEMBRANE-PACKER::GA-MEMBRANE> #<MEMBRANE-PACKER::GA-MEMBRANE> #<MEMBRANE-PACKER::GA-MEMBRANE> #<MEMBRANE-PACKER::GA-MEMBRANE> #<MEMBRANE-PACKER::GA-MEMBRANE> #<MEMBRANE-PACKER::GA-MEMBRANE> #<MEMBRANE-PACKER::GA-MEMBRANE> #<MEMBRANE-PACKER::GA-MEMBRANE> #<MEMBRANE-PACKER::GA-MEMBRANE> #<MEMBRANE-PACKER::GA-MEMBRANE> #<MEMBRANE-PACKER::GA-MEMBRANE> #<MEMBRANE-PACKER::GA-MEMBRANE> #<MEMBRANE-PACKER::GA-MEMBRANE> #<MEMBRANE-PACKER::GA-MEMBRANE> #<MEMBRANE-PACKER::GA-MEMBRANE> #<MEMBRANE-PACKER::GA-MEMBRANE> #<MEMBRANE-PACKER::GA-MEMBRANE> #<MEMBRANE-PACKER::GA-MEMBRANE> #<MEMBRANE-PACKER::GA-MEMBRANE> #<MEMBRANE-PACKER::GA-MEMBRANE> #<MEMBRANE-PACKER::GA-MEMBRANE> #<MEMBRANE-PACKER::GA-MEMBRANE> #<MEMBRANE-PACKER::GA-MEMBRANE> #<MEMBRANE-PACKER::GA-MEMBRANE> #<MEMBRANE-PACKER::GA-MEMBRANE> #<MEMBRANE-PACKER::GA-MEMBRANE> #<MEMBRANE-PACKER::GA-MEMBRANE> #<MEMBRANE-PACKER::GA-MEMBRANE> #<MEMBRANE-PACKER::GA-MEMBRANE> #<MEMBRANE-PACKER::GA-MEMBRANE> #<MEMBRANE-PACKER::GA-MEMBRANE> #<MEMBRANE-PACKER::GA-MEMBRANE> #<MEMBRANE-PACKER::GA-MEMBRANE> #<MEMBRANE-PACKER::GA-MEMBRANE> #<MEMBRANE-PACKER::GA-MEMBRANE> #<MEMBRANE-PACKER::GA-MEMBRANE> #<MEMBRANE-PACKER::GA-MEMBRANE> #<MEMBRANE-PACKER::GA-MEMBRANE> #<MEMBRANE-PACKER::GA-MEMBRANE> #<MEMBRANE-PACKER::GA-MEMBRANE> #<MEMBRANE-PACKER::GA-MEMBRANE> #<MEMBRANE-PACKER::GA-MEMBRANE> #<MEMBRANE-PACKER::GA-MEMBRANE> #<MEMBRANE-PACKER::GA-MEMBRANE> #<MEMBRANE-PACKER::GA-MEMBRANE> #<MEMBRANE-PACKER::GA-MEMBRANE> #<MEMBRANE-PACKER::GA-MEMBRANE> #<MEMBRANE-PACKER::GA-MEMBRANE> #<MEMBRANE-PACKER::GA-MEMBRANE> #<MEMBRANE-PACKER::GA-MEMBRANE> #<MEMBRANE-PACKER::GA-MEMBRANE> #<MEMBRANE-PACKER::GA-MEMBRANE> #<MEMBRANE-PACKER::GA-MEMBRANE> #<MEMBRANE-PACKER::GA-MEMBRANE> #<MEMBRANE-PACKER::GA-MEMBRANE> #<MEMBRANE-PACKER::GA-MEMBRANE> #<MEMBRANE-PACKER::GA-MEMBRANE> #<MEMBRANE-PACKER::GA-MEMBRANE> #<MEMBRANE-PACKER::GA-MEMBRANE> #<MEMBRANE-PACKER::GA-MEMBRANE> #<MEMBRANE-PACKER::GA-MEMBRANE> #<MEMBRANE-PACKER::GA-MEMBRANE> #<MEMBRANE-PACKER::GA-MEMBRANE> #<MEMBRANE-PACKER::GA-MEMBRANE> #<MEMBRANE-PACKER::GA-MEMBRANE> #<MEMBRANE-PACKER::GA-MEMBRANE> #<MEMBRANE-PACKER::GA-MEMBRANE> #<MEMBRANE-PACKER::GA-MEMBRANE> #<MEMBRANE-PACKER::GA-MEMBRANE> #<MEMBRANE-PACKER::GA-MEMBRANE> #<MEMBRANE-PACKER::GA-MEMBRANE> #<MEMBRANE-PACKER::GA-MEMBRANE> #<MEMBRANE-PACKER::GA-MEMBRANE> #<MEMBRANE-PACKER::GA-MEMBRANE> #<MEMBRANE-PACKER::GA-MEMBRANE> #<MEMBRANE-PACKER::GA-MEMBRANE> #<MEMBRANE-PACKER::GA-MEMBRANE> #<MEMBRANE-PACKER::GA-MEMBRANE> #<MEMBRANE-PACKER::GA-MEMBRANE> #<MEMBRANE-PACKER::GA-MEMBRANE> #<MEMBRANE-PACKER::GA-MEMBRANE> #<MEMBRANE-PACKER::GA-MEMBRANE> #<MEMBRANE-PACKER::GA-MEMBRANE> #<MEMBRANE-PACKER::GA-MEMBRANE> #<MEMBRANE-PACKER::GA-MEMBRANE> #<MEMBRANE-PACKER::GA-MEMBRANE> #<MEMBRANE-PACKER::GA-MEMBRANE> #<MEMBRANE-PACKER::GA-MEMBRANE> #<MEMBRANE-PACKER::GA-MEMBRANE> #<MEMBRANE-PACKER::GA-MEMBRANE> #<MEMBRANE-PACKER::GA-MEMBRANE> #<MEMBRANE-PACKER::GA-MEMBRANE> #<MEMBRANE-PACKER::GA-MEMBRANE> #<MEMBRANE-PACKER::GA-MEMBRANE> #<MEMBRANE-PACKER::GA-MEMBRANE> #<MEMBRANE-PACKER::GA-MEMBRANE> #<MEMBRANE-PACKER::GA-MEMBRANE> #<MEMBRANE-PACKER::GA-MEMBRANE> #<MEMBRANE-PACKER::GA-MEMBRANE> #<MEMBRANE-PACKER::GA-MEMBRANE> #<MEMBRANE-PACKER::GA-MEMBRANE> #<MEMBRANE-PACKER::GA-MEMBRANE> #<MEMBRANE-PACKER::GA-MEMBRANE> #<MEMBRANE-PACKER::GA-MEMBRANE> #<MEMBRANE-PACKER::GA-MEMBRANE> #<MEMBRANE-PACKER::GA-MEMBRANE> #<MEMBRANE-PACKER::GA-MEMBRANE> #<MEMBRANE-PACKER::GA-MEMBRANE> #<MEMBRANE-PACKER::GA-MEMBRANE> #<MEMBRANE-PACKER::GA-MEMBRANE> #<MEMBRANE-PACKER::GA-MEMBRANE> #<MEMBRANE-PACKER::GA-MEMBRANE> #<MEMBRANE-PACKER::GA-MEMBRANE> #<MEMBRANE-PACKER::GA-MEMBRANE> #<MEMBRANE-PACKER::GA-MEMBRANE> #<MEMBRANE-PACKER::GA-MEMBRANE> #<MEMBRANE-PACKER::GA-MEMBRANE> #<MEMBRANE-PACKER::GA-MEMBRANE> #<MEMBRANE-PACKER::GA-MEMBRANE> #<MEMBRANE-PACKER::GA-MEMBRANE> #<MEMBRANE-PACKER::GA-MEMBRANE> #<MEMBRANE-PACKER::GA-MEMBRANE> #<MEMBRANE-PACKER::GA-MEMBRANE> #<MEMBRANE-PACKER::GA-MEMBRANE> #<MEMBRANE-PACKER::GA-MEMBRANE> #<MEMBRANE-PACKER::GA-MEMBRANE> #<MEMBRANE-PACKER::GA-MEMBRANE> #<MEMBRANE-PACKER::GA-MEMBRANE> #<MEMBRANE-PACKER::GA-MEMBRANE> #<MEMBRANE-PACKER::GA-MEMBRANE> #<MEMBRANE-PACKER::GA-MEMBRANE> #<MEMBRANE-PACKER::GA-MEMBRANE> #<MEMBRANE-PACKER::GA-MEMBRANE> #<MEMBRANE-PACKER::GA-MEMBRANE> #<MEMBRANE-PACKER::GA-MEMBRANE> #<MEMBRANE-PACKER::GA-MEMBRANE> #<MEMBRANE-PACKER::GA-MEMBRANE> #<MEMBRANE-PACKER::GA-MEMBRANE> #<MEMBRANE-PACKER::GA-MEMBRANE> #<MEMBRANE-PACKER::GA-MEMBRANE> #<MEMBRANE-PACKER::GA-MEMBRANE> #<MEMBRANE-PACKER::GA-MEMBRANE> #<MEMBRANE-PACKER::GA-MEMBRANE> #<MEMBRANE-PACKER::GA-MEMBRANE> #<MEMBRANE-PACKER::GA-MEMBRANE> #<MEMBRANE-PACKER::GA-MEMBRANE> #<MEMBRANE-PACKER::GA-MEMBRANE> #<MEMBRANE-PACKER::GA-MEMBRANE> #<MEMBRANE-PACKER::GA-MEMBRANE> #<MEMBRANE-PACKER::GA-MEMBRANE> #<MEMBRANE-PACKER::GA-MEMBRANE> #<MEMBRANE-PACKER::GA-MEMBRANE> #<MEMBRANE-PACKER::GA-MEMBRANE> #<MEMBRANE-PACKER::GA-MEMBRANE> #<MEMBRANE-PACKER::GA-MEMBRANE> #<MEMBRANE-PACKER::GA-MEMBRANE> #<MEMBRANE-PACKER::GA-MEMBRANE> #<MEMBRANE-PACKER::GA-MEMBRANE> #<MEMBRANE-PACKER::GA-MEMBRANE> #<MEMBRANE-PACKER::GA-MEMBRANE> #<MEMBRANE-PACKER::GA-MEMBRANE> #<MEMBRANE-PACKER::GA-MEMBRANE> #<MEMBRANE-PACKER::GA-MEMBRANE> #<MEMBRANE-PACKER::GA-MEMBRANE> #<MEMBRANE-PACKER::GA-MEMBRANE> #<MEMBRANE-PACKER::GA-MEMBRANE> #<MEMBRANE-PACKER::GA-MEMBRANE> #<MEMBRANE-PACKER::GA-MEMBRANE> #<MEMBRANE-PACKER::GA-MEMBRANE> #<MEMBRANE-PACKER::GA-MEMBRANE> #<MEMBRANE-PACKER::GA-MEMBRANE> #<MEMBRANE-PACKER::GA-MEMBRANE> #<MEMBRANE-PACKER::GA-MEMBRANE> #<MEMBRANE-PACKER::GA-MEMBRANE> #<MEMBRANE-PACKER::GA-MEMBRANE> #<MEMBRANE-PACKER::GA-MEMBRANE>)) 200 12)\n",
      "6: (PMAP-INTO/PARSED #<FUNCTION MAP-INTO> #(NIL NIL NIL NIL NIL NIL NIL NIL NIL NIL NIL NIL NIL NIL NIL NIL NIL NIL NIL NIL NIL NIL NIL NIL NIL NIL NIL NIL NIL NIL NIL NIL NIL NIL NIL NIL NIL NIL NIL NIL NIL NIL NIL NIL NIL NIL NIL NIL NIL NIL NIL NIL NIL NIL NIL NIL NIL NIL NIL NIL NIL NIL NIL NIL NIL NIL NIL NIL NIL NIL NIL NIL NIL NIL NIL NIL NIL NIL NIL NIL NIL NIL NIL NIL NIL NIL NIL NIL NIL NIL NIL NIL NIL NIL NIL NIL NIL NIL NIL NIL NIL NIL NIL NIL NIL NIL NIL NIL NIL NIL NIL NIL NIL NIL NIL NIL NIL NIL NIL NIL NIL NIL NIL NIL NIL NIL NIL NIL NIL NIL NIL NIL NIL NIL NIL NIL NIL NIL NIL NIL NIL NIL NIL NIL NIL NIL NIL NIL NIL NIL NIL NIL NIL NIL NIL NIL NIL NIL NIL NIL NIL NIL NIL NIL NIL NIL NIL NIL NIL NIL NIL NIL NIL NIL NIL NIL NIL NIL NIL NIL NIL NIL NIL NIL NIL NIL NIL NIL NIL NIL NIL NIL NIL NIL NIL NIL NIL NIL NIL NIL) #<FUNCTION LAMBDA> ((#<MEMBRANE-PACKER::GA-MEMBRANE> #<MEMBRANE-PACKER::GA-MEMBRANE> #<MEMBRANE-PACKER::GA-MEMBRANE> #<MEMBRANE-PACKER::GA-MEMBRANE> #<MEMBRANE-PACKER::GA-MEMBRANE> #<MEMBRANE-PACKER::GA-MEMBRANE> #<MEMBRANE-PACKER::GA-MEMBRANE> #<MEMBRANE-PACKER::GA-MEMBRANE> #<MEMBRANE-PACKER::GA-MEMBRANE> #<MEMBRANE-PACKER::GA-MEMBRANE> #<MEMBRANE-PACKER::GA-MEMBRANE> #<MEMBRANE-PACKER::GA-MEMBRANE> #<MEMBRANE-PACKER::GA-MEMBRANE> #<MEMBRANE-PACKER::GA-MEMBRANE> #<MEMBRANE-PACKER::GA-MEMBRANE> #<MEMBRANE-PACKER::GA-MEMBRANE> #<MEMBRANE-PACKER::GA-MEMBRANE> #<MEMBRANE-PACKER::GA-MEMBRANE> #<MEMBRANE-PACKER::GA-MEMBRANE> #<MEMBRANE-PACKER::GA-MEMBRANE> #<MEMBRANE-PACKER::GA-MEMBRANE> #<MEMBRANE-PACKER::GA-MEMBRANE> #<MEMBRANE-PACKER::GA-MEMBRANE> #<MEMBRANE-PACKER::GA-MEMBRANE> #<MEMBRANE-PACKER::GA-MEMBRANE> #<MEMBRANE-PACKER::GA-MEMBRANE> #<MEMBRANE-PACKER::GA-MEMBRANE> #<MEMBRANE-PACKER::GA-MEMBRANE> #<MEMBRANE-PACKER::GA-MEMBRANE> #<MEMBRANE-PACKER::GA-MEMBRANE> #<MEMBRANE-PACKER::GA-MEMBRANE> #<MEMBRANE-PACKER::GA-MEMBRANE> #<MEMBRANE-PACKER::GA-MEMBRANE> #<MEMBRANE-PACKER::GA-MEMBRANE> #<MEMBRANE-PACKER::GA-MEMBRANE> #<MEMBRANE-PACKER::GA-MEMBRANE> #<MEMBRANE-PACKER::GA-MEMBRANE> #<MEMBRANE-PACKER::GA-MEMBRANE> #<MEMBRANE-PACKER::GA-MEMBRANE> #<MEMBRANE-PACKER::GA-MEMBRANE> #<MEMBRANE-PACKER::GA-MEMBRANE> #<MEMBRANE-PACKER::GA-MEMBRANE> #<MEMBRANE-PACKER::GA-MEMBRANE> #<MEMBRANE-PACKER::GA-MEMBRANE> #<MEMBRANE-PACKER::GA-MEMBRANE> #<MEMBRANE-PACKER::GA-MEMBRANE> #<MEMBRANE-PACKER::GA-MEMBRANE> #<MEMBRANE-PACKER::GA-MEMBRANE> #<MEMBRANE-PACKER::GA-MEMBRANE> #<MEMBRANE-PACKER::GA-MEMBRANE> #<MEMBRANE-PACKER::GA-MEMBRANE> #<MEMBRANE-PACKER::GA-MEMBRANE> #<MEMBRANE-PACKER::GA-MEMBRANE> #<MEMBRANE-PACKER::GA-MEMBRANE> #<MEMBRANE-PACKER::GA-MEMBRANE> #<MEMBRANE-PACKER::GA-MEMBRANE> #<MEMBRANE-PACKER::GA-MEMBRANE> #<MEMBRANE-PACKER::GA-MEMBRANE> #<MEMBRANE-PACKER::GA-MEMBRANE> #<MEMBRANE-PACKER::GA-MEMBRANE> #<MEMBRANE-PACKER::GA-MEMBRANE> #<MEMBRANE-PACKER::GA-MEMBRANE> #<MEMBRANE-PACKER::GA-MEMBRANE> #<MEMBRANE-PACKER::GA-MEMBRANE> #<MEMBRANE-PACKER::GA-MEMBRANE> #<MEMBRANE-PACKER::GA-MEMBRANE> #<MEMBRANE-PACKER::GA-MEMBRANE> #<MEMBRANE-PACKER::GA-MEMBRANE> #<MEMBRANE-PACKER::GA-MEMBRANE> #<MEMBRANE-PACKER::GA-MEMBRANE> #<MEMBRANE-PACKER::GA-MEMBRANE> #<MEMBRANE-PACKER::GA-MEMBRANE> #<MEMBRANE-PACKER::GA-MEMBRANE> #<MEMBRANE-PACKER::GA-MEMBRANE> #<MEMBRANE-PACKER::GA-MEMBRANE> #<MEMBRANE-PACKER::GA-MEMBRANE> #<MEMBRANE-PACKER::GA-MEMBRANE> #<MEMBRANE-PACKER::GA-MEMBRANE> #<MEMBRANE-PACKER::GA-MEMBRANE> #<MEMBRANE-PACKER::GA-MEMBRANE> #<MEMBRANE-PACKER::GA-MEMBRANE> #<MEMBRANE-PACKER::GA-MEMBRANE> #<MEMBRANE-PACKER::GA-MEMBRANE> #<MEMBRANE-PACKER::GA-MEMBRANE> #<MEMBRANE-PACKER::GA-MEMBRANE> #<MEMBRANE-PACKER::GA-MEMBRANE> #<MEMBRANE-PACKER::GA-MEMBRANE> #<MEMBRANE-PACKER::GA-MEMBRANE> #<MEMBRANE-PACKER::GA-MEMBRANE> #<MEMBRANE-PACKER::GA-MEMBRANE> #<MEMBRANE-PACKER::GA-MEMBRANE> #<MEMBRANE-PACKER::GA-MEMBRANE> #<MEMBRANE-PACKER::GA-MEMBRANE> #<MEMBRANE-PACKER::GA-MEMBRANE> #<MEMBRANE-PACKER::GA-MEMBRANE> #<MEMBRANE-PACKER::GA-MEMBRANE> #<MEMBRANE-PACKER::GA-MEMBRANE> #<MEMBRANE-PACKER::GA-MEMBRANE> #<MEMBRANE-PACKER::GA-MEMBRANE> #<MEMBRANE-PACKER::GA-MEMBRANE> #<MEMBRANE-PACKER::GA-MEMBRANE> #<MEMBRANE-PACKER::GA-MEMBRANE> #<MEMBRANE-PACKER::GA-MEMBRANE> #<MEMBRANE-PACKER::GA-MEMBRANE> #<MEMBRANE-PACKER::GA-MEMBRANE> #<MEMBRANE-PACKER::GA-MEMBRANE> #<MEMBRANE-PACKER::GA-MEMBRANE> #<MEMBRANE-PACKER::GA-MEMBRANE> #<MEMBRANE-PACKER::GA-MEMBRANE> #<MEMBRANE-PACKER::GA-MEMBRANE> #<MEMBRANE-PACKER::GA-MEMBRANE> #<MEMBRANE-PACKER::GA-MEMBRANE> #<MEMBRANE-PACKER::GA-MEMBRANE> #<MEMBRANE-PACKER::GA-MEMBRANE> #<MEMBRANE-PACKER::GA-MEMBRANE> #<MEMBRANE-PACKER::GA-MEMBRANE> #<MEMBRANE-PACKER::GA-MEMBRANE> #<MEMBRANE-PACKER::GA-MEMBRANE> #<MEMBRANE-PACKER::GA-MEMBRANE> #<MEMBRANE-PACKER::GA-MEMBRANE> #<MEMBRANE-PACKER::GA-MEMBRANE> #<MEMBRANE-PACKER::GA-MEMBRANE> #<MEMBRANE-PACKER::GA-MEMBRANE> #<MEMBRANE-PACKER::GA-MEMBRANE> #<MEMBRANE-PACKER::GA-MEMBRANE> #<MEMBRANE-PACKER::GA-MEMBRANE> #<MEMBRANE-PACKER::GA-MEMBRANE> #<MEMBRANE-PACKER::GA-MEMBRANE> #<MEMBRANE-PACKER::GA-MEMBRANE> #<MEMBRANE-PACKER::GA-MEMBRANE> #<MEMBRANE-PACKER::GA-MEMBRANE> #<MEMBRANE-PACKER::GA-MEMBRANE> #<MEMBRANE-PACKER::GA-MEMBRANE> #<MEMBRANE-PACKER::GA-MEMBRANE> #<MEMBRANE-PACKER::GA-MEMBRANE> #<MEMBRANE-PACKER::GA-MEMBRANE> #<MEMBRANE-PACKER::GA-MEMBRANE> #<MEMBRANE-PACKER::GA-MEMBRANE> #<MEMBRANE-PACKER::GA-MEMBRANE> #<MEMBRANE-PACKER::GA-MEMBRANE> #<MEMBRANE-PACKER::GA-MEMBRANE> #<MEMBRANE-PACKER::GA-MEMBRANE> #<MEMBRANE-PACKER::GA-MEMBRANE> #<MEMBRANE-PACKER::GA-MEMBRANE> #<MEMBRANE-PACKER::GA-MEMBRANE> #<MEMBRANE-PACKER::GA-MEMBRANE> #<MEMBRANE-PACKER::GA-MEMBRANE> #<MEMBRANE-PACKER::GA-MEMBRANE> #<MEMBRANE-PACKER::GA-MEMBRANE> #<MEMBRANE-PACKER::GA-MEMBRANE> #<MEMBRANE-PACKER::GA-MEMBRANE> #<MEMBRANE-PACKER::GA-MEMBRANE> #<MEMBRANE-PACKER::GA-MEMBRANE> #<MEMBRANE-PACKER::GA-MEMBRANE> #<MEMBRANE-PACKER::GA-MEMBRANE> #<MEMBRANE-PACKER::GA-MEMBRANE> #<MEMBRANE-PACKER::GA-MEMBRANE> #<MEMBRANE-PACKER::GA-MEMBRANE> #<MEMBRANE-PACKER::GA-MEMBRANE> #<MEMBRANE-PACKER::GA-MEMBRANE> #<MEMBRANE-PACKER::GA-MEMBRANE> #<MEMBRANE-PACKER::GA-MEMBRANE> #<MEMBRANE-PACKER::GA-MEMBRANE> #<MEMBRANE-PACKER::GA-MEMBRANE> #<MEMBRANE-PACKER::GA-MEMBRANE> #<MEMBRANE-PACKER::GA-MEMBRANE> #<MEMBRANE-PACKER::GA-MEMBRANE> #<MEMBRANE-PACKER::GA-MEMBRANE> #<MEMBRANE-PACKER::GA-MEMBRANE> #<MEMBRANE-PACKER::GA-MEMBRANE> #<MEMBRANE-PACKER::GA-MEMBRANE> #<MEMBRANE-PACKER::GA-MEMBRANE> #<MEMBRANE-PACKER::GA-MEMBRANE> #<MEMBRANE-PACKER::GA-MEMBRANE> #<MEMBRANE-PACKER::GA-MEMBRANE> #<MEMBRANE-PACKER::GA-MEMBRANE> #<MEMBRANE-PACKER::GA-MEMBRANE> #<MEMBRANE-PACKER::GA-MEMBRANE> #<MEMBRANE-PACKER::GA-MEMBRANE> #<MEMBRANE-PACKER::GA-MEMBRANE> #<MEMBRANE-PACKER::GA-MEMBRANE> #<MEMBRANE-PACKER::GA-MEMBRANE> #<MEMBRANE-PACKER::GA-MEMBRANE> #<MEMBRANE-PACKER::GA-MEMBRANE> #<MEMBRANE-PACKER::GA-MEMBRANE> #<MEMBRANE-PACKER::GA-MEMBRANE> #<MEMBRANE-PACKER::GA-MEMBRANE> #<MEMBRANE-PACKER::GA-MEMBRANE> #<MEMBRANE-PACKER::GA-MEMBRANE> #<MEMBRANE-PACKER::GA-MEMBRANE> #<MEMBRANE-PACKER::GA-MEMBRANE> #<MEMBRANE-PACKER::GA-MEMBRANE> #<MEMBRANE-PACKER::GA-MEMBRANE> #<MEMBRANE-PACKER::GA-MEMBRANE> #<MEMBRANE-PACKER::GA-MEMBRANE> #<MEMBRANE-PACKER::GA-MEMBRANE> #<MEMBRANE-PACKER::GA-MEMBRANE> #<MEMBRANE-PACKER::GA-MEMBRANE> #<MEMBRANE-PACKER::GA-MEMBRANE> #<MEMBRANE-PACKER::GA-MEMBRANE>)) 200 12)\n",
      "7: (PMAP-INTO/UNPARSED #<FUNCTION MAP-INTO> #(NIL NIL NIL NIL NIL NIL NIL NIL NIL NIL NIL NIL NIL NIL NIL NIL NIL NIL NIL NIL NIL NIL NIL NIL NIL NIL NIL NIL NIL NIL NIL NIL NIL NIL NIL NIL NIL NIL NIL NIL NIL NIL NIL NIL NIL NIL NIL NIL NIL NIL NIL NIL NIL NIL NIL NIL NIL NIL NIL NIL NIL NIL NIL NIL NIL NIL NIL NIL NIL NIL NIL NIL NIL NIL NIL NIL NIL NIL NIL NIL NIL NIL NIL NIL NIL NIL NIL NIL NIL NIL NIL NIL NIL NIL NIL NIL NIL NIL NIL NIL NIL NIL NIL NIL NIL NIL NIL NIL NIL NIL NIL NIL NIL NIL NIL NIL NIL NIL NIL NIL NIL NIL NIL NIL NIL NIL NIL NIL NIL NIL NIL NIL NIL NIL NIL NIL NIL NIL NIL NIL NIL NIL NIL NIL NIL NIL NIL NIL NIL NIL NIL NIL NIL NIL NIL NIL NIL NIL NIL NIL NIL NIL NIL NIL NIL NIL NIL NIL NIL NIL NIL NIL NIL NIL NIL NIL NIL NIL NIL NIL NIL NIL NIL NIL NIL NIL NIL NIL NIL NIL NIL NIL NIL NIL NIL NIL NIL NIL NIL NIL) #<FUNCTION LAMBDA> (:SIZE 200 :PARTS 12 (#<MEMBRANE-PACKER::GA-MEMBRANE> #<MEMBRANE-PACKER::GA-MEMBRANE> #<MEMBRANE-PACKER::GA-MEMBRANE> #<MEMBRANE-PACKER::GA-MEMBRANE> #<MEMBRANE-PACKER::GA-MEMBRANE> #<MEMBRANE-PACKER::GA-MEMBRANE> #<MEMBRANE-PACKER::GA-MEMBRANE> #<MEMBRANE-PACKER::GA-MEMBRANE> #<MEMBRANE-PACKER::GA-MEMBRANE> #<MEMBRANE-PACKER::GA-MEMBRANE> #<MEMBRANE-PACKER::GA-MEMBRANE> #<MEMBRANE-PACKER::GA-MEMBRANE> #<MEMBRANE-PACKER::GA-MEMBRANE> #<MEMBRANE-PACKER::GA-MEMBRANE> #<MEMBRANE-PACKER::GA-MEMBRANE> #<MEMBRANE-PACKER::GA-MEMBRANE> #<MEMBRANE-PACKER::GA-MEMBRANE> #<MEMBRANE-PACKER::GA-MEMBRANE> #<MEMBRANE-PACKER::GA-MEMBRANE> #<MEMBRANE-PACKER::GA-MEMBRANE> #<MEMBRANE-PACKER::GA-MEMBRANE> #<MEMBRANE-PACKER::GA-MEMBRANE> #<MEMBRANE-PACKER::GA-MEMBRANE> #<MEMBRANE-PACKER::GA-MEMBRANE> #<MEMBRANE-PACKER::GA-MEMBRANE> #<MEMBRANE-PACKER::GA-MEMBRANE> #<MEMBRANE-PACKER::GA-MEMBRANE> #<MEMBRANE-PACKER::GA-MEMBRANE> #<MEMBRANE-PACKER::GA-MEMBRANE> #<MEMBRANE-PACKER::GA-MEMBRANE> #<MEMBRANE-PACKER::GA-MEMBRANE> #<MEMBRANE-PACKER::GA-MEMBRANE> #<MEMBRANE-PACKER::GA-MEMBRANE> #<MEMBRANE-PACKER::GA-MEMBRANE> #<MEMBRANE-PACKER::GA-MEMBRANE> #<MEMBRANE-PACKER::GA-MEMBRANE> #<MEMBRANE-PACKER::GA-MEMBRANE> #<MEMBRANE-PACKER::GA-MEMBRANE> #<MEMBRANE-PACKER::GA-MEMBRANE> #<MEMBRANE-PACKER::GA-MEMBRANE> #<MEMBRANE-PACKER::GA-MEMBRANE> #<MEMBRANE-PACKER::GA-MEMBRANE> #<MEMBRANE-PACKER::GA-MEMBRANE> #<MEMBRANE-PACKER::GA-MEMBRANE> #<MEMBRANE-PACKER::GA-MEMBRANE> #<MEMBRANE-PACKER::GA-MEMBRANE> #<MEMBRANE-PACKER::GA-MEMBRANE> #<MEMBRANE-PACKER::GA-MEMBRANE> #<MEMBRANE-PACKER::GA-MEMBRANE> #<MEMBRANE-PACKER::GA-MEMBRANE> #<MEMBRANE-PACKER::GA-MEMBRANE> #<MEMBRANE-PACKER::GA-MEMBRANE> #<MEMBRANE-PACKER::GA-MEMBRANE> #<MEMBRANE-PACKER::GA-MEMBRANE> #<MEMBRANE-PACKER::GA-MEMBRANE> #<MEMBRANE-PACKER::GA-MEMBRANE> #<MEMBRANE-PACKER::GA-MEMBRANE> #<MEMBRANE-PACKER::GA-MEMBRANE> #<MEMBRANE-PACKER::GA-MEMBRANE> #<MEMBRANE-PACKER::GA-MEMBRANE> #<MEMBRANE-PACKER::GA-MEMBRANE> #<MEMBRANE-PACKER::GA-MEMBRANE> #<MEMBRANE-PACKER::GA-MEMBRANE> #<MEMBRANE-PACKER::GA-MEMBRANE> #<MEMBRANE-PACKER::GA-MEMBRANE> #<MEMBRANE-PACKER::GA-MEMBRANE> #<MEMBRANE-PACKER::GA-MEMBRANE> #<MEMBRANE-PACKER::GA-MEMBRANE> #<MEMBRANE-PACKER::GA-MEMBRANE> #<MEMBRANE-PACKER::GA-MEMBRANE> #<MEMBRANE-PACKER::GA-MEMBRANE> #<MEMBRANE-PACKER::GA-MEMBRANE> #<MEMBRANE-PACKER::GA-MEMBRANE> #<MEMBRANE-PACKER::GA-MEMBRANE> #<MEMBRANE-PACKER::GA-MEMBRANE> #<MEMBRANE-PACKER::GA-MEMBRANE> #<MEMBRANE-PACKER::GA-MEMBRANE> #<MEMBRANE-PACKER::GA-MEMBRANE> #<MEMBRANE-PACKER::GA-MEMBRANE> #<MEMBRANE-PACKER::GA-MEMBRANE> #<MEMBRANE-PACKER::GA-MEMBRANE> #<MEMBRANE-PACKER::GA-MEMBRANE> #<MEMBRANE-PACKER::GA-MEMBRANE> #<MEMBRANE-PACKER::GA-MEMBRANE> #<MEMBRANE-PACKER::GA-MEMBRANE> #<MEMBRANE-PACKER::GA-MEMBRANE> #<MEMBRANE-PACKER::GA-MEMBRANE> #<MEMBRANE-PACKER::GA-MEMBRANE> #<MEMBRANE-PACKER::GA-MEMBRANE> #<MEMBRANE-PACKER::GA-MEMBRANE> #<MEMBRANE-PACKER::GA-MEMBRANE> #<MEMBRANE-PACKER::GA-MEMBRANE> #<MEMBRANE-PACKER::GA-MEMBRANE> #<MEMBRANE-PACKER::GA-MEMBRANE> #<MEMBRANE-PACKER::GA-MEMBRANE> #<MEMBRANE-PACKER::GA-MEMBRANE> #<MEMBRANE-PACKER::GA-MEMBRANE> #<MEMBRANE-PACKER::GA-MEMBRANE> #<MEMBRANE-PACKER::GA-MEMBRANE> #<MEMBRANE-PACKER::GA-MEMBRANE> #<MEMBRANE-PACKER::GA-MEMBRANE> #<MEMBRANE-PACKER::GA-MEMBRANE> #<MEMBRANE-PACKER::GA-MEMBRANE> #<MEMBRANE-PACKER::GA-MEMBRANE> #<MEMBRANE-PACKER::GA-MEMBRANE> #<MEMBRANE-PACKER::GA-MEMBRANE> #<MEMBRANE-PACKER::GA-MEMBRANE> #<MEMBRANE-PACKER::GA-MEMBRANE> #<MEMBRANE-PACKER::GA-MEMBRANE> #<MEMBRANE-PACKER::GA-MEMBRANE> #<MEMBRANE-PACKER::GA-MEMBRANE> #<MEMBRANE-PACKER::GA-MEMBRANE> #<MEMBRANE-PACKER::GA-MEMBRANE> #<MEMBRANE-PACKER::GA-MEMBRANE> #<MEMBRANE-PACKER::GA-MEMBRANE> #<MEMBRANE-PACKER::GA-MEMBRANE> #<MEMBRANE-PACKER::GA-MEMBRANE> #<MEMBRANE-PACKER::GA-MEMBRANE> #<MEMBRANE-PACKER::GA-MEMBRANE> #<MEMBRANE-PACKER::GA-MEMBRANE> #<MEMBRANE-PACKER::GA-MEMBRANE> #<MEMBRANE-PACKER::GA-MEMBRANE> #<MEMBRANE-PACKER::GA-MEMBRANE> #<MEMBRANE-PACKER::GA-MEMBRANE> #<MEMBRANE-PACKER::GA-MEMBRANE> #<MEMBRANE-PACKER::GA-MEMBRANE> #<MEMBRANE-PACKER::GA-MEMBRANE> #<MEMBRANE-PACKER::GA-MEMBRANE> #<MEMBRANE-PACKER::GA-MEMBRANE> #<MEMBRANE-PACKER::GA-MEMBRANE> #<MEMBRANE-PACKER::GA-MEMBRANE> #<MEMBRANE-PACKER::GA-MEMBRANE> #<MEMBRANE-PACKER::GA-MEMBRANE> #<MEMBRANE-PACKER::GA-MEMBRANE> #<MEMBRANE-PACKER::GA-MEMBRANE> #<MEMBRANE-PACKER::GA-MEMBRANE> #<MEMBRANE-PACKER::GA-MEMBRANE> #<MEMBRANE-PACKER::GA-MEMBRANE> #<MEMBRANE-PACKER::GA-MEMBRANE> #<MEMBRANE-PACKER::GA-MEMBRANE> #<MEMBRANE-PACKER::GA-MEMBRANE> #<MEMBRANE-PACKER::GA-MEMBRANE> #<MEMBRANE-PACKER::GA-MEMBRANE> #<MEMBRANE-PACKER::GA-MEMBRANE> #<MEMBRANE-PACKER::GA-MEMBRANE> #<MEMBRANE-PACKER::GA-MEMBRANE> #<MEMBRANE-PACKER::GA-MEMBRANE> #<MEMBRANE-PACKER::GA-MEMBRANE> #<MEMBRANE-PACKER::GA-MEMBRANE> #<MEMBRANE-PACKER::GA-MEMBRANE> #<MEMBRANE-PACKER::GA-MEMBRANE> #<MEMBRANE-PACKER::GA-MEMBRANE> #<MEMBRANE-PACKER::GA-MEMBRANE> #<MEMBRANE-PACKER::GA-MEMBRANE> #<MEMBRANE-PACKER::GA-MEMBRANE> #<MEMBRANE-PACKER::GA-MEMBRANE> #<MEMBRANE-PACKER::GA-MEMBRANE> #<MEMBRANE-PACKER::GA-MEMBRANE> #<MEMBRANE-PACKER::GA-MEMBRANE> #<MEMBRANE-PACKER::GA-MEMBRANE> #<MEMBRANE-PACKER::GA-MEMBRANE> #<MEMBRANE-PACKER::GA-MEMBRANE> #<MEMBRANE-PACKER::GA-MEMBRANE> #<MEMBRANE-PACKER::GA-MEMBRANE> #<MEMBRANE-PACKER::GA-MEMBRANE> #<MEMBRANE-PACKER::GA-MEMBRANE> #<MEMBRANE-PACKER::GA-MEMBRANE> #<MEMBRANE-PACKER::GA-MEMBRANE> #<MEMBRANE-PACKER::GA-MEMBRANE> #<MEMBRANE-PACKER::GA-MEMBRANE> #<MEMBRANE-PACKER::GA-MEMBRANE> #<MEMBRANE-PACKER::GA-MEMBRANE> #<MEMBRANE-PACKER::GA-MEMBRANE> #<MEMBRANE-PACKER::GA-MEMBRANE> #<MEMBRANE-PACKER::GA-MEMBRANE> #<MEMBRANE-PACKER::GA-MEMBRANE> #<MEMBRANE-PACKER::GA-MEMBRANE> #<MEMBRANE-PACKER::GA-MEMBRANE> #<MEMBRANE-PACKER::GA-MEMBRANE> #<MEMBRANE-PACKER::GA-MEMBRANE> #<MEMBRANE-PACKER::GA-MEMBRANE> #<MEMBRANE-PACKER::GA-MEMBRANE> #<MEMBRANE-PACKER::GA-MEMBRANE> #<MEMBRANE-PACKER::GA-MEMBRANE> #<MEMBRANE-PACKER::GA-MEMBRANE> #<MEMBRANE-PACKER::GA-MEMBRANE> #<MEMBRANE-PACKER::GA-MEMBRANE> #<MEMBRANE-PACKER::GA-MEMBRANE> #<MEMBRANE-PACKER::GA-MEMBRANE> #<MEMBRANE-PACKER::GA-MEMBRANE> #<MEMBRANE-PACKER::GA-MEMBRANE> #<MEMBRANE-PACKER::GA-MEMBRANE> #<MEMBRANE-PACKER::GA-MEMBRANE> #<MEMBRANE-PACKER::GA-MEMBRANE> #<MEMBRANE-PACKER::GA-MEMBRANE> #<MEMBRANE-PACKER::GA-MEMBRANE> #<MEMBRANE-PACKER::GA-MEMBRANE> #<MEMBRANE-PACKER::GA-MEMBRANE> #<MEMBRANE-PACKER::GA-MEMBRANE> #<MEMBRANE-PACKER::GA-MEMBRANE>)))\n",
      "8: (PMAP-INTO #(NIL NIL NIL NIL NIL NIL NIL NIL NIL NIL NIL NIL NIL NIL NIL NIL NIL NIL NIL NIL NIL NIL NIL NIL NIL NIL NIL NIL NIL NIL NIL NIL NIL NIL NIL NIL NIL NIL NIL NIL NIL NIL NIL NIL NIL NIL NIL NIL NIL NIL NIL NIL NIL NIL NIL NIL NIL NIL NIL NIL NIL NIL NIL NIL NIL NIL NIL NIL NIL NIL NIL NIL NIL NIL NIL NIL NIL NIL NIL NIL NIL NIL NIL NIL NIL NIL NIL NIL NIL NIL NIL NIL NIL NIL NIL NIL NIL NIL NIL NIL NIL NIL NIL NIL NIL NIL NIL NIL NIL NIL NIL NIL NIL NIL NIL NIL NIL NIL NIL NIL NIL NIL NIL NIL NIL NIL NIL NIL NIL NIL NIL NIL NIL NIL NIL NIL NIL NIL NIL NIL NIL NIL NIL NIL NIL NIL NIL NIL NIL NIL NIL NIL NIL NIL NIL NIL NIL NIL NIL NIL NIL NIL NIL NIL NIL NIL NIL NIL NIL NIL NIL NIL NIL NIL NIL NIL NIL NIL NIL NIL NIL NIL NIL NIL NIL NIL NIL NIL NIL NIL NIL NIL NIL NIL NIL NIL NIL NIL NIL NIL) #<FUNCTION LAMBDA> :SIZE 200 :PARTS 12 (#<MEMBRANE-PACKER::GA-MEMBRANE> #<MEMBRANE-PACKER::GA-MEMBRANE> #<MEMBRANE-PACKER::GA-MEMBRANE> #<MEMBRANE-PACKER::GA-MEMBRANE> #<MEMBRANE-PACKER::GA-MEMBRANE> #<MEMBRANE-PACKER::GA-MEMBRANE> #<MEMBRANE-PACKER::GA-MEMBRANE> #<MEMBRANE-PACKER::GA-MEMBRANE> #<MEMBRANE-PACKER::GA-MEMBRANE> #<MEMBRANE-PACKER::GA-MEMBRANE> #<MEMBRANE-PACKER::GA-MEMBRANE> #<MEMBRANE-PACKER::GA-MEMBRANE> #<MEMBRANE-PACKER::GA-MEMBRANE> #<MEMBRANE-PACKER::GA-MEMBRANE> #<MEMBRANE-PACKER::GA-MEMBRANE> #<MEMBRANE-PACKER::GA-MEMBRANE> #<MEMBRANE-PACKER::GA-MEMBRANE> #<MEMBRANE-PACKER::GA-MEMBRANE> #<MEMBRANE-PACKER::GA-MEMBRANE> #<MEMBRANE-PACKER::GA-MEMBRANE> #<MEMBRANE-PACKER::GA-MEMBRANE> #<MEMBRANE-PACKER::GA-MEMBRANE> #<MEMBRANE-PACKER::GA-MEMBRANE> #<MEMBRANE-PACKER::GA-MEMBRANE> #<MEMBRANE-PACKER::GA-MEMBRANE> #<MEMBRANE-PACKER::GA-MEMBRANE> #<MEMBRANE-PACKER::GA-MEMBRANE> #<MEMBRANE-PACKER::GA-MEMBRANE> #<MEMBRANE-PACKER::GA-MEMBRANE> #<MEMBRANE-PACKER::GA-MEMBRANE> #<MEMBRANE-PACKER::GA-MEMBRANE> #<MEMBRANE-PACKER::GA-MEMBRANE> #<MEMBRANE-PACKER::GA-MEMBRANE> #<MEMBRANE-PACKER::GA-MEMBRANE> #<MEMBRANE-PACKER::GA-MEMBRANE> #<MEMBRANE-PACKER::GA-MEMBRANE> #<MEMBRANE-PACKER::GA-MEMBRANE> #<MEMBRANE-PACKER::GA-MEMBRANE> #<MEMBRANE-PACKER::GA-MEMBRANE> #<MEMBRANE-PACKER::GA-MEMBRANE> #<MEMBRANE-PACKER::GA-MEMBRANE> #<MEMBRANE-PACKER::GA-MEMBRANE> #<MEMBRANE-PACKER::GA-MEMBRANE> #<MEMBRANE-PACKER::GA-MEMBRANE> #<MEMBRANE-PACKER::GA-MEMBRANE> #<MEMBRANE-PACKER::GA-MEMBRANE> #<MEMBRANE-PACKER::GA-MEMBRANE> #<MEMBRANE-PACKER::GA-MEMBRANE> #<MEMBRANE-PACKER::GA-MEMBRANE> #<MEMBRANE-PACKER::GA-MEMBRANE> #<MEMBRANE-PACKER::GA-MEMBRANE> #<MEMBRANE-PACKER::GA-MEMBRANE> #<MEMBRANE-PACKER::GA-MEMBRANE> #<MEMBRANE-PACKER::GA-MEMBRANE> #<MEMBRANE-PACKER::GA-MEMBRANE> #<MEMBRANE-PACKER::GA-MEMBRANE> #<MEMBRANE-PACKER::GA-MEMBRANE> #<MEMBRANE-PACKER::GA-MEMBRANE> #<MEMBRANE-PACKER::GA-MEMBRANE> #<MEMBRANE-PACKER::GA-MEMBRANE> #<MEMBRANE-PACKER::GA-MEMBRANE> #<MEMBRANE-PACKER::GA-MEMBRANE> #<MEMBRANE-PACKER::GA-MEMBRANE> #<MEMBRANE-PACKER::GA-MEMBRANE> #<MEMBRANE-PACKER::GA-MEMBRANE> #<MEMBRANE-PACKER::GA-MEMBRANE> #<MEMBRANE-PACKER::GA-MEMBRANE> #<MEMBRANE-PACKER::GA-MEMBRANE> #<MEMBRANE-PACKER::GA-MEMBRANE> #<MEMBRANE-PACKER::GA-MEMBRANE> #<MEMBRANE-PACKER::GA-MEMBRANE> #<MEMBRANE-PACKER::GA-MEMBRANE> #<MEMBRANE-PACKER::GA-MEMBRANE> #<MEMBRANE-PACKER::GA-MEMBRANE> #<MEMBRANE-PACKER::GA-MEMBRANE> #<MEMBRANE-PACKER::GA-MEMBRANE> #<MEMBRANE-PACKER::GA-MEMBRANE> #<MEMBRANE-PACKER::GA-MEMBRANE> #<MEMBRANE-PACKER::GA-MEMBRANE> #<MEMBRANE-PACKER::GA-MEMBRANE> #<MEMBRANE-PACKER::GA-MEMBRANE> #<MEMBRANE-PACKER::GA-MEMBRANE> #<MEMBRANE-PACKER::GA-MEMBRANE> #<MEMBRANE-PACKER::GA-MEMBRANE> #<MEMBRANE-PACKER::GA-MEMBRANE> #<MEMBRANE-PACKER::GA-MEMBRANE> #<MEMBRANE-PACKER::GA-MEMBRANE> #<MEMBRANE-PACKER::GA-MEMBRANE> #<MEMBRANE-PACKER::GA-MEMBRANE> #<MEMBRANE-PACKER::GA-MEMBRANE> #<MEMBRANE-PACKER::GA-MEMBRANE> #<MEMBRANE-PACKER::GA-MEMBRANE> #<MEMBRANE-PACKER::GA-MEMBRANE> #<MEMBRANE-PACKER::GA-MEMBRANE> #<MEMBRANE-PACKER::GA-MEMBRANE> #<MEMBRANE-PACKER::GA-MEMBRANE> #<MEMBRANE-PACKER::GA-MEMBRANE> #<MEMBRANE-PACKER::GA-MEMBRANE> #<MEMBRANE-PACKER::GA-MEMBRANE> #<MEMBRANE-PACKER::GA-MEMBRANE> #<MEMBRANE-PACKER::GA-MEMBRANE> #<MEMBRANE-PACKER::GA-MEMBRANE> #<MEMBRANE-PACKER::GA-MEMBRANE> #<MEMBRANE-PACKER::GA-MEMBRANE> #<MEMBRANE-PACKER::GA-MEMBRANE> #<MEMBRANE-PACKER::GA-MEMBRANE> #<MEMBRANE-PACKER::GA-MEMBRANE> #<MEMBRANE-PACKER::GA-MEMBRANE> #<MEMBRANE-PACKER::GA-MEMBRANE> #<MEMBRANE-PACKER::GA-MEMBRANE> #<MEMBRANE-PACKER::GA-MEMBRANE> #<MEMBRANE-PACKER::GA-MEMBRANE> #<MEMBRANE-PACKER::GA-MEMBRANE> #<MEMBRANE-PACKER::GA-MEMBRANE> #<MEMBRANE-PACKER::GA-MEMBRANE> #<MEMBRANE-PACKER::GA-MEMBRANE> #<MEMBRANE-PACKER::GA-MEMBRANE> #<MEMBRANE-PACKER::GA-MEMBRANE> #<MEMBRANE-PACKER::GA-MEMBRANE> #<MEMBRANE-PACKER::GA-MEMBRANE> #<MEMBRANE-PACKER::GA-MEMBRANE> #<MEMBRANE-PACKER::GA-MEMBRANE> #<MEMBRANE-PACKER::GA-MEMBRANE> #<MEMBRANE-PACKER::GA-MEMBRANE> #<MEMBRANE-PACKER::GA-MEMBRANE> #<MEMBRANE-PACKER::GA-MEMBRANE> #<MEMBRANE-PACKER::GA-MEMBRANE> #<MEMBRANE-PACKER::GA-MEMBRANE> #<MEMBRANE-PACKER::GA-MEMBRANE> #<MEMBRANE-PACKER::GA-MEMBRANE> #<MEMBRANE-PACKER::GA-MEMBRANE> #<MEMBRANE-PACKER::GA-MEMBRANE> #<MEMBRANE-PACKER::GA-MEMBRANE> #<MEMBRANE-PACKER::GA-MEMBRANE> #<MEMBRANE-PACKER::GA-MEMBRANE> #<MEMBRANE-PACKER::GA-MEMBRANE> #<MEMBRANE-PACKER::GA-MEMBRANE> #<MEMBRANE-PACKER::GA-MEMBRANE> #<MEMBRANE-PACKER::GA-MEMBRANE> #<MEMBRANE-PACKER::GA-MEMBRANE> #<MEMBRANE-PACKER::GA-MEMBRANE> #<MEMBRANE-PACKER::GA-MEMBRANE> #<MEMBRANE-PACKER::GA-MEMBRANE> #<MEMBRANE-PACKER::GA-MEMBRANE> #<MEMBRANE-PACKER::GA-MEMBRANE> #<MEMBRANE-PACKER::GA-MEMBRANE> #<MEMBRANE-PACKER::GA-MEMBRANE> #<MEMBRANE-PACKER::GA-MEMBRANE> #<MEMBRANE-PACKER::GA-MEMBRANE> #<MEMBRANE-PACKER::GA-MEMBRANE> #<MEMBRANE-PACKER::GA-MEMBRANE> #<MEMBRANE-PACKER::GA-MEMBRANE> #<MEMBRANE-PACKER::GA-MEMBRANE> #<MEMBRANE-PACKER::GA-MEMBRANE> #<MEMBRANE-PACKER::GA-MEMBRANE> #<MEMBRANE-PACKER::GA-MEMBRANE> #<MEMBRANE-PACKER::GA-MEMBRANE> #<MEMBRANE-PACKER::GA-MEMBRANE> #<MEMBRANE-PACKER::GA-MEMBRANE> #<MEMBRANE-PACKER::GA-MEMBRANE> #<MEMBRANE-PACKER::GA-MEMBRANE> #<MEMBRANE-PACKER::GA-MEMBRANE> #<MEMBRANE-PACKER::GA-MEMBRANE> #<MEMBRANE-PACKER::GA-MEMBRANE> #<MEMBRANE-PACKER::GA-MEMBRANE> #<MEMBRANE-PACKER::GA-MEMBRANE> #<MEMBRANE-PACKER::GA-MEMBRANE> #<MEMBRANE-PACKER::GA-MEMBRANE> #<MEMBRANE-PACKER::GA-MEMBRANE> #<MEMBRANE-PACKER::GA-MEMBRANE> #<MEMBRANE-PACKER::GA-MEMBRANE> #<MEMBRANE-PACKER::GA-MEMBRANE> #<MEMBRANE-PACKER::GA-MEMBRANE> #<MEMBRANE-PACKER::GA-MEMBRANE> #<MEMBRANE-PACKER::GA-MEMBRANE> #<MEMBRANE-PACKER::GA-MEMBRANE> #<MEMBRANE-PACKER::GA-MEMBRANE> #<MEMBRANE-PACKER::GA-MEMBRANE> #<MEMBRANE-PACKER::GA-MEMBRANE> #<MEMBRANE-PACKER::GA-MEMBRANE> #<MEMBRANE-PACKER::GA-MEMBRANE> #<MEMBRANE-PACKER::GA-MEMBRANE> #<MEMBRANE-PACKER::GA-MEMBRANE> #<MEMBRANE-PACKER::GA-MEMBRANE> #<MEMBRANE-PACKER::GA-MEMBRANE> #<MEMBRANE-PACKER::GA-MEMBRANE> #<MEMBRANE-PACKER::GA-MEMBRANE> #<MEMBRANE-PACKER::GA-MEMBRANE> #<MEMBRANE-PACKER::GA-MEMBRANE> #<MEMBRANE-PACKER::GA-MEMBRANE> #<MEMBRANE-PACKER::GA-MEMBRANE> #<MEMBRANE-PACKER::GA-MEMBRANE> #<MEMBRANE-PACKER::GA-MEMBRANE> #<MEMBRANE-PACKER::GA-MEMBRANE> #<MEMBRANE-PACKER::GA-MEMBRANE> #<MEMBRANE-PACKER::GA-MEMBRANE> #<MEMBRANE-PACKER::GA-MEMBRANE> #<MEMBRANE-PACKER::GA-MEMBRANE> #<MEMBRANE-PACKER::GA-MEMBRANE> #<MEMBRANE-PACKER::GA-MEMBRANE>))\n",
      "9: (EVOLVE #<AGGREGATE NIL @0x14450c488>)\n",
      "10: (APPLY MEMBRANE-PACKER::EVOLVE #<AGGREGATE NIL @0x14450c488> NIL)\n",
      "11: (PACK #<AGGREGATE NIL @0x14450c488>)\n",
      "12: (LAMBDA)\n",
      "\n"
     ]
    },
    {
     "data": {
      "text/plain": [
       "NIL"
      ]
     },
     "execution_count": 44,
     "metadata": {},
     "output_type": "execute_result"
    }
   ],
   "source": [
    "(defparameter *scored-membranes* (membrane-packer:pack *prot*))"
   ]
  },
  {
   "cell_type": "code",
   "execution_count": 75,
   "metadata": {},
   "outputs": [
    {
     "data": {
      "text/plain": [
       "*SCORED-MEMBRANE*"
      ]
     },
     "execution_count": 75,
     "metadata": {},
     "output_type": "execute_result"
    }
   ],
   "source": [
    "(defparameter *scored-membrane* (elt *scored-membranes* 0))"
   ]
  },
  {
   "cell_type": "code",
   "execution_count": 76,
   "metadata": {},
   "outputs": [
    {
     "data": {
      "text/plain": [
       "(0 #<MEMBRANE-PACKER::GA-MEMBRANE> #<MEMBRANE-PACKER::COLLISIONS>)"
      ]
     },
     "execution_count": 76,
     "metadata": {},
     "output_type": "execute_result"
    }
   ],
   "source": [
    "*scored-membrane*"
   ]
  },
  {
   "cell_type": "code",
   "execution_count": 77,
   "metadata": {},
   "outputs": [
    {
     "name": "stdout",
     "output_type": "stream",
     "text": [
      "center '( -3.54272e-14 1.13175e-13 2.8385e-14)\n"
     ]
    },
    {
     "data": {
      "text/plain": [
       "*AGG*"
      ]
     },
     "execution_count": 77,
     "metadata": {},
     "output_type": "execute_result"
    }
   ],
   "source": [
    "(defparameter *agg* (membrane-packer:build-aggregate-from-ga-membrane (second *scored-membrane*)))"
   ]
  },
  {
   "cell_type": "code",
   "execution_count": 78,
   "metadata": {},
   "outputs": [
    {
     "data": {
      "application/vnd.jupyter.widget-view+json": {
       "model_id": "3ABF9BFF-EF73-433B-B5FB-D8D759B3DE06",
       "version_major": 2,
       "version_minor": 0
      },
      "text/plain": [
       "#<NGLV:NGLWIDGET>"
      ]
     },
     "execution_count": 78,
     "metadata": {},
     "output_type": "execute_result"
    }
   ],
   "source": [
    "(defparameter *v* (show *agg* :axes t)) *v*"
   ]
  },
  {
   "cell_type": "code",
   "execution_count": 79,
   "metadata": {},
   "outputs": [
    {
     "data": {
      "text/plain": [
       "T"
      ]
     },
     "execution_count": 79,
     "metadata": {},
     "output_type": "execute_result"
    }
   ],
   "source": [
    "(membrane-packer:add-collisions-as-shape *v* (third *scored-membrane*))"
   ]
  },
  {
   "cell_type": "code",
   "execution_count": 80,
   "metadata": {},
   "outputs": [
    {
     "name": "stdout",
     "output_type": "stream",
     "text": [
      "Completed  100.0% elapsed:  10.0 seconds ETC: --   There are 240 close-contacts of a possible 286368214\n"
     ]
    },
    {
     "data": {
      "text/plain": [
       "*CLOSE-CONTACTS*"
      ]
     },
     "execution_count": 80,
     "metadata": {},
     "output_type": "execute_result"
    }
   ],
   "source": [
    "(defparameter *close-contacts* (membrane-packer::close-contacts *agg*))"
   ]
  },
  {
   "cell_type": "code",
   "execution_count": 84,
   "metadata": {},
   "outputs": [
    {
     "data": {
      "text/plain": [
       "T"
      ]
     },
     "execution_count": 84,
     "metadata": {},
     "output_type": "execute_result"
    }
   ],
   "source": [
    "(membrane-packer:add-close-contacts-as-shape *v* *close-contacts*)"
   ]
  },
  {
   "cell_type": "code",
   "execution_count": 26,
   "metadata": {},
   "outputs": [
    {
     "name": "stdout",
     "output_type": "stream",
     "text": [
      "Saving matter to /tmp/zzbest.mol2\n"
     ]
    },
    {
     "data": {
      "text/plain": [
       "NIL"
      ]
     },
     "execution_count": 26,
     "metadata": {},
     "output_type": "execute_result"
    }
   ],
   "source": [
    "(save-mol2 *agg* \"/tmp/zzbest.mol2\" :use-sybyl-types t)"
   ]
  },
  {
   "cell_type": "code",
   "execution_count": 22,
   "metadata": {},
   "outputs": [
    {
     "data": {
      "text/plain": [
       "'( -3.54272e-14 1.13175e-13 2.8385e-14)"
      ]
     },
     "execution_count": 22,
     "metadata": {},
     "output_type": "execute_result"
    }
   ],
   "source": [
    "(chem:geometric-center (solute (ga-solute *memb*)))"
   ]
  },
  {
   "cell_type": "code",
   "execution_count": 23,
   "metadata": {},
   "outputs": [
    {
     "data": {
      "text/plain": [
       "*MEMB1*"
      ]
     },
     "execution_count": 23,
     "metadata": {},
     "output_type": "execute_result"
    }
   ],
   "source": [
    "(defparameter *memb1* (copy-ga-membrane *memb*))"
   ]
  },
  {
   "cell_type": "code",
   "execution_count": 7,
   "metadata": {},
   "outputs": [
    {
     "name": "stdout",
     "output_type": "stream",
     "text": [
      "Swank is already running\n"
     ]
    },
    {
     "data": {
      "text/plain": [
       "NIL"
      ]
     },
     "execution_count": 7,
     "metadata": {},
     "output_type": "execute_result"
    }
   ],
   "source": [
    "(start-swank 4010)"
   ]
  },
  {
   "cell_type": "code",
   "execution_count": 1,
   "metadata": {},
   "outputs": [
    {
     "data": {
      "text/plain": [
       "#P\"/Users/meister/Dropbox/Design/alkermes/\""
      ]
     },
     "execution_count": 1,
     "metadata": {},
     "output_type": "execute_result"
    }
   ],
   "source": [
    "*default-pathname-defaults*"
   ]
  },
  {
   "cell_type": "code",
   "execution_count": 3,
   "metadata": {},
   "outputs": [
    {
     "data": {
      "text/plain": [
       "(#P\"/Users/meister/Development/amber18/dat/antechamber/\"\n",
       " #P\"/Users/meister/Development/amber18/dat/leap/cmd/\"\n",
       " #P\"/Users/meister/Development/amber18/dat/leap/parm/\"\n",
       " #P\"/Users/meister/Development/amber18/dat/leap/lib/\"\n",
       " #P\"/Users/meister/Development/amber18/dat/leap/prep/\")"
      ]
     },
     "execution_count": 3,
     "metadata": {},
     "output_type": "execute_result"
    }
   ],
   "source": [
    "(setup-amber-paths)"
   ]
  },
  {
   "cell_type": "code",
   "execution_count": 9,
   "metadata": {},
   "outputs": [
    {
     "name": "stdout",
     "output_type": "stream",
     "text": [
      "Adding force field parm10.dat to DEFAULT\n",
      "Adding force field frcmod.ff14SB to DEFAULT\n"
     ]
    },
    {
     "name": "stderr",
     "output_type": "stream",
     "text": [
      "\n",
      "add-atom-types doesn't do anything\n",
      "\n",
      "Warning!  Skipping 10-12 hbond\n",
      "\n",
      "\n",
      "Warning!  Skipping force field atom equivalences\n",
      "\n"
     ]
    },
    {
     "data": {
      "text/plain": [
       "((T))"
      ]
     },
     "execution_count": 9,
     "metadata": {},
     "output_type": "execute_result"
    }
   ],
   "source": [
    "source \"leaprc.protein.ff14SB\""
   ]
  },
  {
   "cell_type": "code",
   "execution_count": 10,
   "metadata": {},
   "outputs": [
    {
     "name": "stdout",
     "output_type": "stream",
     "text": [
      "Adding force field lipid14.dat to DEFAULT\n"
     ]
    },
    {
     "name": "stderr",
     "output_type": "stream",
     "text": [
      "\n",
      "add-atom-types doesn't do anything\n",
      "\n",
      "Warning!  Skipping 10-12 hbond\n",
      "\n",
      "\n",
      "Warning!  Skipping force field atom equivalences\n",
      "\n"
     ]
    },
    {
     "data": {
      "text/plain": [
       "((T))"
      ]
     },
     "execution_count": 10,
     "metadata": {},
     "output_type": "execute_result"
    }
   ],
   "source": [
    "source \"leaprc.lipid14\""
   ]
  },
  {
   "cell_type": "code",
   "execution_count": 11,
   "metadata": {},
   "outputs": [
    {
     "name": "stdout",
     "output_type": "stream",
     "text": [
      "Adding force field frcmod.tip3p to DEFAULT\n",
      "Adding force field frcmod.ionsjc_tip3p to DEFAULT\n",
      "Adding force field frcmod.ions234lm_126_tip3p to DEFAULT\n"
     ]
    },
    {
     "name": "stderr",
     "output_type": "stream",
     "text": [
      "\n",
      "add-atom-types doesn't do anything\n"
     ]
    },
    {
     "data": {
      "text/plain": [
       "((T))"
      ]
     },
     "execution_count": 11,
     "metadata": {},
     "output_type": "execute_result"
    }
   ],
   "source": [
    "source \"leaprc.water.tip3p\""
   ]
  },
  {
   "cell_type": "code",
   "execution_count": 12,
   "metadata": {},
   "outputs": [
    {
     "name": "stdout",
     "output_type": "stream",
     "text": [
      "Adding force field gaff.dat to DEFAULT\n"
     ]
    },
    {
     "name": "stderr",
     "output_type": "stream",
     "text": [
      "\n",
      "add-atom-types doesn't do anything\n",
      "\n",
      "Warning!  Skipping 10-12 hbond\n",
      "\n",
      "\n",
      "Warning!  Skipping force field atom equivalences\n",
      "\n"
     ]
    },
    {
     "data": {
      "text/plain": [
       "((T))"
      ]
     },
     "execution_count": 12,
     "metadata": {},
     "output_type": "execute_result"
    }
   ],
   "source": [
    "source \"leaprc.gaff\""
   ]
  },
  {
   "cell_type": "code",
   "execution_count": 13,
   "metadata": {},
   "outputs": [
    {
     "data": {
      "text/plain": [
       "#<LIPID-INFO>"
      ]
     },
     "execution_count": 13,
     "metadata": {},
     "output_type": "execute_result"
    }
   ],
   "source": [
    "*popc*"
   ]
  },
  {
   "cell_type": "code",
   "execution_count": null,
   "metadata": {},
   "outputs": [],
   "source": [
    "(test-everything1)"
   ]
  },
  {
   "cell_type": "code",
   "execution_count": 31,
   "metadata": {},
   "outputs": [
    {
     "name": "stdout",
     "output_type": "stream",
     "text": [
      "Adding force field gaff.dat to DEFAULT\n",
      "Adding force field parm10.dat to DEFAULT\n",
      "Adding force field frcmod.ff14SB to DEFAULT\n",
      "Adding force field lipid14.dat to DEFAULT\n",
      "Adding force field frcmod.tip3p to DEFAULT\n",
      "Adding force field frcmod.ionsjc_tip3p to DEFAULT\n",
      "Adding force field frcmod.ions234lm_126_tip3p to DEFAULT\n",
      "Adding force field gaff.dat to DEFAULT\n",
      "Building an empty membrane\n",
      "Translation vector: '( -52.8892 -48.7931 -55.1242)\n",
      "Total solute charge:  12.00  Max atom radius:   2.00\n",
      "Box:\n",
      "   enclosing:  -29.53 -24.60 -39.13   32.81 21.28 41.35\n",
      "PdHalfEdges:        64.00\n",
      "PdHalfDiagonals:     110.85 Angstrom.\n",
      "PdHalfEdges:        32.00\n",
      "PdHalfDiagonals:     55.43 Angstrom.\n",
      "PdHalfEdges:        16.00\n",
      "PdHalfDiagonals:     27.71 Angstrom.\n",
      "PdHalfEdges:         8.00\n",
      "PdHalfDiagonals:     13.86 Angstrom.\n",
      "PdHalfEdges:         4.00\n",
      "PdHalfDiagonals:      6.93 Angstrom.\n",
      "PdHalfEdges:         2.00\n",
      "PdHalfDiagonals:      3.46 Angstrom.\n",
      "PdHalfEdges:         1.00\n",
      "PdHalfDiagonals:      1.73 Angstrom.\n",
      "PdHalfEdges:         0.50\n",
      "PdHalfDiagonals:      0.87 Angstrom.\n",
      "   sized:\t\t\t      98.47 103.40 88.87\n",
      "   edge:        128.00\n",
      "Resolution:      1.00 Angstrom.\n",
      "Tree depth: 7\n",
      "About to build interior octant iAtoms -> 4835\n",
      "Volume =  0.00 of box, grid points 423610\n",
      "Condition of type ESTIMATED-ANGLE-TERM was signaled.\n",
      "Condition of type ESTIMATED-ANGLE-TERM was signaled.\n",
      "Condition of type ESTIMATED-ANGLE-TERM was signaled.\n",
      "Condition of type ESTIMATED-ANGLE-TERM was signaled.\n",
      "Condition of type ESTIMATED-ANGLE-TERM was signaled.\n",
      "Condition of type ESTIMATED-ANGLE-TERM was signaled.\n",
      "Condition of type ESTIMATED-ANGLE-TERM was signaled.\n",
      "Condition of type ESTIMATED-ANGLE-TERM was signaled.\n",
      "Dynamics step 0\n",
      "Dynamics step 1\n",
      "Dynamics step 2\n",
      "Dynamics step 3\n",
      "Dynamics step 4\n",
      "Dynamics step 5\n",
      "Dynamics step 6\n",
      "Dynamics step 7\n",
      "Dynamics step 8\n",
      "Dynamics step 9\n"
     ]
    },
    {
     "name": "stderr",
     "output_type": "stream",
     "text": [
      "\n",
      "Warning!  Skipping 10-12 hbond\n",
      "\n",
      "\n",
      "Warning!  Skipping force field atom equivalences\n",
      "\n",
      "\n",
      "add-atom-types doesn't do anything\n",
      "\n",
      "Warning!  Skipping 10-12 hbond\n",
      "\n",
      "\n",
      "Warning!  Skipping force field atom equivalences\n",
      "\n",
      "\n",
      "add-atom-types doesn't do anything\n",
      "\n",
      "Warning!  Skipping 10-12 hbond\n",
      "\n",
      "\n",
      "Warning!  Skipping force field atom equivalences\n",
      "\n",
      "\n",
      "add-atom-types doesn't do anything\n",
      "\n",
      "add-atom-types doesn't do anything\n",
      "\n",
      "Warning!  Skipping 10-12 hbond\n",
      "\n",
      "\n",
      "Warning!  Skipping force field atom equivalences\n",
      "\n",
      "\n",
      "Could not find stretch parameter between #<ATOM :H2/:H @0x19d29d1e9> and #<ATOM :N/:N @0x19d29d2d9>\n",
      "\n",
      "Could not find stretch parameter between #<ATOM :H3/:H @0x19d29d0f9> and #<ATOM :N/:N @0x19d29d2d9>\n",
      "\n",
      "Could not find stretch parameter between #<ATOM :OXT/:O @0x192176d29> and #<ATOM :C/:C @0x192176f09>\n",
      "\n",
      "Could not find stretch parameter between #<ATOM :H1/:H @0x192176b49> and #<ATOM :N/:N @0x192176c39>\n",
      "\n",
      "Could not find stretch parameter between #<ATOM :H2/:H @0x192176a59> and #<ATOM :N/:N @0x192176c39>\n",
      "\n",
      "Could not find stretch parameter between #<ATOM :H3/:H @0x192176969> and #<ATOM :N/:N @0x192176c39>\n",
      "\n",
      "Could not find stretch parameter between #<ATOM :OXT/:O @0x190cddd29> and #<ATOM :C/:C @0x190cddf09>\n"
     ]
    },
    {
     "data": {
      "text/plain": [
       "*DYN*"
      ]
     },
     "execution_count": 31,
     "metadata": {},
     "output_type": "execute_result"
    }
   ],
   "source": [
    "(defparameter *dyn* (test-everything))"
   ]
  },
  {
   "cell_type": "code",
   "execution_count": 32,
   "metadata": {},
   "outputs": [
    {
     "data": {
      "application/vnd.jupyter.widget-view+json": {
       "model_id": "5FE1EA4D-CA02-4398-8A1F-E54DD73C6A91",
       "version_major": 2,
       "version_minor": 0
      },
      "text/plain": [
       "#<NGLV:NGLWIDGET>"
      ]
     },
     "execution_count": 32,
     "metadata": {},
     "output_type": "execute_result"
    }
   ],
   "source": [
    "(show *dyn*)"
   ]
  },
  {
   "cell_type": "code",
   "execution_count": 13,
   "metadata": {},
   "outputs": [
    {
     "data": {
      "text/plain": [
       "NIL"
      ]
     },
     "execution_count": 13,
     "metadata": {},
     "output_type": "execute_result"
    }
   ],
   "source": [
    "(assign-atom-types *p*)"
   ]
  },
  {
   "cell_type": "code",
   "execution_count": 17,
   "metadata": {},
   "outputs": [
    {
     "name": "stdout",
     "output_type": "stream",
     "text": [
      "#<MOLECULE NIL @0x128a6fcc8> #<RESIDUE :PRO @0x167647e88> #<ATOM :N/:N @0x1676630f9>\n",
      "#<MOLECULE NIL @0x128a6fcc8> #<RESIDUE :LYS @0x167647e08> #<ATOM :N/:N @0x151dfbe19>\n",
      "#<MOLECULE NIL @0x128a6fcc8> #<RESIDUE :GLU @0x167647d88> #<ATOM :N/:N @0x133ff2009>\n",
      "#<MOLECULE NIL @0x128a6fcc8> #<RESIDUE :TYR @0x167647d08> #<ATOM :N/:N @0x1329f0789>\n",
      "#<MOLECULE NIL @0x128a6fcc8> #<RESIDUE :GLU @0x167647c88> #<ATOM :N/:N @0x16735de19>\n",
      "#<MOLECULE NIL @0x128a6fcc8> #<RESIDUE :TRP @0x167647c08> #<ATOM :N/:N @0x135fb1789>\n",
      "#<MOLECULE NIL @0x128a6fcc8> #<RESIDUE :VAL @0x167647b88> #<ATOM :N/:N @0x135fb60f9>\n",
      "#<MOLECULE NIL @0x128a6fcc8> #<RESIDUE :LEU @0x167647b08> #<ATOM :N/:N @0x135fc11e9>\n",
      "#<MOLECULE NIL @0x128a6fcc8> #<RESIDUE :ILE @0x167647a88> #<ATOM :N/:N @0x135fe4009>\n",
      "#<MOLECULE NIL @0x128a6fcc8> #<RESIDUE :ALA @0x167647a08> #<ATOM :N/:N @0x135ffae19>\n",
      "#<MOLECULE NIL @0x128a6fcc8> #<RESIDUE :GLY @0x167647988> #<ATOM :N/:N @0x135ffa4b9>\n",
      "#<MOLECULE NIL @0x128a6fcc8> #<RESIDUE :TYR @0x167647908> #<ATOM :N/:N @0x135810e19>\n",
      "#<MOLECULE NIL @0x128a6fcc8> #<RESIDUE :ILE @0x167647888> #<ATOM :N/:N @0x13581ea59>\n",
      "#<MOLECULE NIL @0x128a6fcc8> #<RESIDUE :ILE @0x167647808> #<ATOM :N/:N @0x13582e879>\n",
      "#<MOLECULE NIL @0x128a6fcc8> #<RESIDUE :VAL @0x167647788> #<ATOM :N/:N @0x135834699>\n",
      "#<MOLECULE NIL @0x128a6fcc8> #<RESIDUE :PHE @0x167647708> #<ATOM :N/:N @0x13583c789>\n",
      "#<MOLECULE NIL @0x128a6fcc8> #<RESIDUE :VAL @0x167647688> #<ATOM :N/:N @0x1358404b9>\n",
      "#<MOLECULE NIL @0x128a6fcc8> #<RESIDUE :VAL @0x167647608> #<ATOM :N/:N @0x1358485a9>\n",
      "#<MOLECULE NIL @0x128a6fcc8> #<RESIDUE :ALA @0x167647588> #<ATOM :N/:N @0x13584d699>\n",
      "#<MOLECULE NIL @0x128a6fcc8> #<RESIDUE :LEU @0x167647508> #<ATOM :N/:N @0x13585bd29>\n",
      "#<MOLECULE NIL @0x128a6fcc8> #<RESIDUE :ILE @0x167647488> #<ATOM :N/:N @0x13586db49>\n",
      "#<MOLECULE NIL @0x128a6fcc8> #<RESIDUE :GLY @0x167647408> #<ATOM :N/:N @0x13587f969>\n",
      "#<MOLECULE NIL @0x128a6fcc8> #<RESIDUE :ASN @0x167647388> #<ATOM :N/:N @0x13587f2d9>\n",
      "#<MOLECULE NIL @0x128a6fcc8> #<RESIDUE :ASN @0x167647388> #<ATOM :ND2/:N @0x13588aa59>\n",
      "#<MOLECULE NIL @0x128a6fcc8> #<RESIDUE :VAL @0x167647308> #<ATOM :N/:N @0x13588a5a9>\n",
      "#<MOLECULE NIL @0x128a6fcc8> #<RESIDUE :LEU @0x167647288> #<ATOM :N/:N @0x135898699>\n",
      "#<MOLECULE NIL @0x128a6fcc8> #<RESIDUE :VAL @0x167647208> #<ATOM :N/:N @0x13589d4b9>\n",
      "#<MOLECULE NIL @0x128a6fcc8> #<RESIDUE :CYS @0x167647188> #<ATOM :N/:N @0x1358a05a9>\n",
      "#<MOLECULE NIL @0x128a6fcc8> #<RESIDUE :VAL @0x167647108> #<ATOM :N/:N @0x1358abb49>\n",
      "#<MOLECULE NIL @0x128a6fcc8> #<RESIDUE :ALA @0x167647088> #<ATOM :N/:N @0x1358b0c39>\n",
      "#<MOLECULE NIL @0x128a6fcc8> #<RESIDUE :VAL @0x167647008> #<ATOM :N/:N @0x1358b02d9>\n",
      "#<MOLECULE NIL @0x128a6fcc8> #<RESIDUE :TRP @0x147273608> #<ATOM :N/:N @0x1358c33c9>\n",
      "#<MOLECULE NIL @0x128a6fcc8> #<RESIDUE :LYS @0x147273588> #<ATOM :N/:N @0x1358f3d29>\n",
      "#<MOLECULE NIL @0x128a6fcc8> #<RESIDUE :ASN @0x147273508> #<ATOM :N/:N @0x135902879>\n",
      "#<MOLECULE NIL @0x128a6fcc8> #<RESIDUE :ASN @0x147273508> #<ATOM :ND2/:N @0x135902009>\n",
      "#<MOLECULE NIL @0x128a6fcc8> #<RESIDUE :HIE @0x147273488> #<ATOM :N/:N @0x135904b49>\n",
      "#<MOLECULE NIL @0x128a6fcc8> #<RESIDUE :HIE @0x147273408> #<ATOM :N/:N @0x135921b49>\n",
      "#<MOLECULE NIL @0x128a6fcc8> #<RESIDUE :MET @0x147273388> #<ATOM :N/:N @0x135924b49>\n",
      "#<MOLECULE NIL @0x128a6fcc8> #<RESIDUE :ARG @0x147273308> #<ATOM :N/:N @0x13592fb49>\n",
      "#<MOLECULE NIL @0x128a6fcc8> #<RESIDUE :THR @0x147273288> #<ATOM :N/:N @0x1359324b9>\n",
      "#<MOLECULE NIL @0x128a6fcc8> #<RESIDUE :VAL @0x147273208> #<ATOM :N/:N @0x13593b789>\n",
      "#<MOLECULE NIL @0x128a6fcc8> #<RESIDUE :THR @0x147273188> #<ATOM :N/:N @0x13594a879>\n",
      "#<MOLECULE NIL @0x128a6fcc8> #<RESIDUE :ASN @0x147273108> #<ATOM :N/:N @0x13594eb49>\n",
      "#<MOLECULE NIL @0x128a6fcc8> #<RESIDUE :ASN @0x147273108> #<ATOM :ND2/:N @0x13594e2d9>\n",
      "#<MOLECULE NIL @0x128a6fcc8> #<RESIDUE :TYR @0x147273088> #<ATOM :N/:N @0x135964e19>\n",
      "#<MOLECULE NIL @0x128a6fcc8> #<RESIDUE :PHE @0x147273008> #<ATOM :N/:N @0x135968a59>\n",
      "#<MOLECULE NIL @0x128a6fcc8> #<RESIDUE :ILE @0x1472bdf88> #<ATOM :N/:N @0x13596a789>\n",
      "#<MOLECULE NIL @0x128a6fcc8> #<RESIDUE :VAL @0x1472bdf08> #<ATOM :N/:N @0x1359815a9>\n",
      "#<MOLECULE NIL @0x128a6fcc8> #<RESIDUE :ASN @0x1472bde88> #<ATOM :N/:N @0x1359ad699>\n",
      "#<MOLECULE NIL @0x128a6fcc8> #<RESIDUE :ASN @0x1472bde88> #<ATOM :ND2/:N @0x1359b7e19>\n",
      "#<MOLECULE NIL @0x128a6fcc8> #<RESIDUE :LEU @0x1472bde08> #<ATOM :N/:N @0x1359b7969>\n",
      "#<MOLECULE NIL @0x128a6fcc8> #<RESIDUE :SER @0x1472bdd88> #<ATOM :N/:N @0x1359b9789>\n",
      "#<MOLECULE NIL @0x128a6fcc8> #<RESIDUE :LEU @0x1472bdd08> #<ATOM :N/:N @0x1359d4d29>\n",
      "#<MOLECULE NIL @0x128a6fcc8> #<RESIDUE :ALA @0x1472bdc88> #<ATOM :N/:N @0x1359dcb49>\n",
      "#<MOLECULE NIL @0x128a6fcc8> #<RESIDUE :ASP @0x1472bdc08> #<ATOM :N/:N @0x1359dc1e9>\n",
      "#<MOLECULE NIL @0x128a6fcc8> #<RESIDUE :VAL @0x1472bdb88> #<ATOM :N/:N @0x1359e8699>\n",
      "#<MOLECULE NIL @0x128a6fcc8> #<RESIDUE :LEU @0x1472bdb08> #<ATOM :N/:N @0x135a11789>\n",
      "#<MOLECULE NIL @0x128a6fcc8> #<RESIDUE :VAL @0x1472bda08> #<ATOM :N/:N @0x135a1c5a9>\n",
      "#<MOLECULE NIL @0x128a6fcc8> #<RESIDUE :THR @0x1472bd988> #<ATOM :N/:N @0x135a1f699>\n",
      "#<MOLECULE NIL @0x128a6fcc8> #<RESIDUE :ILE @0x1472bd908> #<ATOM :N/:N @0x135a32969>\n",
      "#<MOLECULE NIL @0x128a6fcc8> #<RESIDUE :THR @0x1472bd888> #<ATOM :N/:N @0x135a3a789>\n",
      "#<MOLECULE NIL @0x128a6fcc8> #<RESIDUE :CYS @0x1472bd708> #<ATOM :N/:N @0x135a3fa59>\n",
      "#<MOLECULE NIL @0x128a6fcc8> #<RESIDUE :LEU @0x1472bd688> #<ATOM :N/:N @0x135a3f009>\n",
      "#<MOLECULE NIL @0x128a6fcc8> #<RESIDUE :PRO @0x1472bd608> #<ATOM :N/:N @0x135a45e19>\n",
      "#<MOLECULE NIL @0x128a6fcc8> #<RESIDUE :ALA @0x1472bd588> #<ATOM :N/:N @0x135a450f9>\n",
      "#<MOLECULE NIL @0x128a6fcc8> #<RESIDUE :THR @0x1472bd508> #<ATOM :N/:N @0x135a53789>\n",
      "#<MOLECULE NIL @0x128a6fcc8> #<RESIDUE :LEU @0x1472bd488> #<ATOM :N/:N @0x135a64a59>\n",
      "#<MOLECULE NIL @0x128a6fcc8> #<RESIDUE :VAL @0x1472bd408> #<ATOM :N/:N @0x135a76879>\n",
      "#<MOLECULE NIL @0x128a6fcc8> #<RESIDUE :VAL @0x1472bd388> #<ATOM :N/:N @0x135a7e969>\n",
      "#<MOLECULE NIL @0x128a6fcc8> #<RESIDUE :ASP @0x1472bd308> #<ATOM :N/:N @0x135a87a59>\n",
      "#<MOLECULE NIL @0x128a6fcc8> #<RESIDUE :ILE @0x1472bd288> #<ATOM :N/:N @0x135a91f09>\n",
      "#<MOLECULE NIL @0x128a6fcc8> #<RESIDUE :THR @0x1472bd208> #<ATOM :N/:N @0x135a9ad29>\n",
      "#<MOLECULE NIL @0x128a6fcc8> #<RESIDUE :GLU @0x1472bd188> #<ATOM :N/:N @0x135a9a009>\n",
      "#<MOLECULE NIL @0x128a6fcc8> #<RESIDUE :THR @0x1472bd108> #<ATOM :N/:N @0x135aa51e9>\n",
      "#<MOLECULE NIL @0x128a6fcc8> #<RESIDUE :TRP @0x1472bd088> #<ATOM :N/:N @0x135aa74b9>\n",
      "#<MOLECULE NIL @0x128a6fcc8> #<RESIDUE :PHE @0x1472bd008> #<ATOM :N/:N @0x135abfe19>\n",
      "#<MOLECULE NIL @0x128a6fcc8> #<RESIDUE :PHE @0x1472eaf88> #<ATOM :N/:N @0x135ac1b49>\n",
      "#<MOLECULE NIL @0x128a6fcc8> #<RESIDUE :GLY @0x1472eaf08> #<ATOM :N/:N @0x135ac8879>\n",
      "#<MOLECULE NIL @0x128a6fcc8> #<RESIDUE :GLN @0x1472eae88> #<ATOM :N/:N @0x135ac81e9>\n",
      "#<MOLECULE NIL @0x128a6fcc8> #<RESIDUE :GLN @0x1472eae88> #<ATOM :NE2/:N @0x135aca699>\n",
      "#<MOLECULE NIL @0x128a6fcc8> #<RESIDUE :SER @0x1472eae08> #<ATOM :N/:N @0x135aca1e9>\n",
      "#<MOLECULE NIL @0x128a6fcc8> #<RESIDUE :LEU @0x1472ead88> #<ATOM :N/:N @0x135aeb789>\n",
      "#<MOLECULE NIL @0x128a6fcc8> #<RESIDUE :CYS @0x1472ead08> #<ATOM :N/:N @0x135af25a9>\n",
      "#<MOLECULE NIL @0x128a6fcc8> #<RESIDUE :LYS @0x1472eac88> #<ATOM :N/:N @0x135afab49>\n",
      "#<MOLECULE NIL @0x128a6fcc8> #<RESIDUE :VAL @0x1472eac08> #<ATOM :N/:N @0x135b01699>\n",
      "#<MOLECULE NIL @0x128a6fcc8> #<RESIDUE :ILE @0x1472eab88> #<ATOM :N/:N @0x135b15789>\n",
      "#<MOLECULE NIL @0x128a6fcc8> #<RESIDUE :PRO @0x1472eab08> #<ATOM :N/:N @0x135b205a9>\n",
      "#<MOLECULE NIL @0x128a6fcc8> #<RESIDUE :TYR @0x1472eaa88> #<ATOM :N/:N @0x135b31879>\n",
      "#<MOLECULE NIL @0x128a6fcc8> #<RESIDUE :LEU @0x1472ea988> #<ATOM :N/:N @0x135b334b9>\n",
      "#<MOLECULE NIL @0x128a6fcc8> #<RESIDUE :GLN @0x146f4ed08> #<ATOM :N/:N @0x135b4c2d9>\n",
      "#<MOLECULE NIL @0x128a6fcc8> #<RESIDUE :GLN @0x146f4ed08> #<ATOM :NE2/:N @0x135b4f789>\n",
      "#<MOLECULE NIL @0x128a6fcc8> #<RESIDUE :THR @0x146f4ec88> #<ATOM :N/:N @0x135b4f2d9>\n",
      "#<MOLECULE NIL @0x128a6fcc8> #<RESIDUE :VAL @0x146f4ec08> #<ATOM :N/:N @0x135b535a9>\n",
      "#<MOLECULE NIL @0x128a6fcc8> #<RESIDUE :SER @0x146f4eb08> #<ATOM :N/:N @0x135b5c699>\n",
      "#<MOLECULE NIL @0x128a6fcc8> #<RESIDUE :VAL @0x146f4ea88> #<ATOM :N/:N @0x135b68c39>\n",
      "#<MOLECULE NIL @0x128a6fcc8> #<RESIDUE :SER @0x146f4ea08> #<ATOM :N/:N @0x135b82d29>\n",
      "#<MOLECULE NIL @0x128a6fcc8> #<RESIDUE :VAL @0x146f4e988> #<ATOM :N/:N @0x135b822d9>\n",
      "#<MOLECULE NIL @0x128a6fcc8> #<RESIDUE :SER @0x146f4e908> #<ATOM :N/:N @0x135b863c9>\n",
      "#<MOLECULE NIL @0x128a6fcc8> #<RESIDUE :VAL @0x146f4e888> #<ATOM :N/:N @0x135b8c969>\n",
      "#<MOLECULE NIL @0x128a6fcc8> #<RESIDUE :LEU @0x146f4e808> #<ATOM :N/:N @0x135b93a59>\n",
      "#<MOLECULE NIL @0x128a6fcc8> #<RESIDUE :THR @0x146f4e788> #<ATOM :N/:N @0x135ba4879>\n",
      "#<MOLECULE NIL @0x128a6fcc8> #<RESIDUE :LEU @0x146f4e708> #<ATOM :N/:N @0x135ba7b49>\n",
      "#<MOLECULE NIL @0x128a6fcc8> #<RESIDUE :SER @0x146f4e688> #<ATOM :N/:N @0x135baf969>\n",
      "#<MOLECULE NIL @0x128a6fcc8> #<RESIDUE :CYS @0x146f4e608> #<ATOM :N/:N @0x135bc5f09>\n",
      "#<MOLECULE NIL @0x128a6fcc8> #<RESIDUE :ILE @0x146f4e588> #<ATOM :N/:N @0x135bc54b9>\n",
      "#<MOLECULE NIL @0x128a6fcc8> #<RESIDUE :ALA @0x146f4e508> #<ATOM :N/:N @0x135bcd2d9>\n",
      "#<MOLECULE NIL @0x128a6fcc8> #<RESIDUE :LEU @0x146f4e488> #<ATOM :N/:N @0x135bd1969>\n",
      "#<MOLECULE NIL @0x128a6fcc8> #<RESIDUE :ASP @0x146f4e408> #<ATOM :N/:N @0x135bd3789>\n",
      "#<MOLECULE NIL @0x128a6fcc8> #<RESIDUE :ARG @0x146f4e388> #<ATOM :N/:N @0x135bd8c39>\n",
      "#<MOLECULE NIL @0x128a6fcc8> #<RESIDUE :TRP @0x146f4e308> #<ATOM :N/:N @0x135bda5a9>\n",
      "#<MOLECULE NIL @0x128a6fcc8> #<RESIDUE :TYR @0x146f4e288> #<ATOM :N/:N @0x135bf9f09>\n",
      "#<MOLECULE NIL @0x128a6fcc8> #<RESIDUE :ALA @0x146f4e208> #<ATOM :N/:N @0x135410b49>\n",
      "#<MOLECULE NIL @0x128a6fcc8> #<RESIDUE :ILE @0x146f4e188> #<ATOM :N/:N @0x1354101e9>\n",
      "#<MOLECULE NIL @0x128a6fcc8> #<RESIDUE :CYS @0x146f4e108> #<ATOM :N/:N @0x135446009>\n",
      "#<MOLECULE NIL @0x128a6fcc8> #<RESIDUE :HIE @0x146f4e088> #<ATOM :N/:N @0x1354485a9>\n",
      "#<MOLECULE NIL @0x128a6fcc8> #<RESIDUE :PRO @0x146f4e008> #<ATOM :N/:N @0x13544d5a9>\n",
      "#<MOLECULE NIL @0x128a6fcc8> #<RESIDUE :LEU @0x146ab6408> #<ATOM :N/:N @0x13544f879>\n",
      "#<MOLECULE NIL @0x128a6fcc8> #<RESIDUE :MET @0x146ab6388> #<ATOM :N/:N @0x135463699>\n",
      "#<MOLECULE NIL @0x128a6fcc8> #<RESIDUE :PHE @0x146ab6308> #<ATOM :N/:N @0x135493699>\n",
      "#<MOLECULE NIL @0x128a6fcc8> #<RESIDUE :LYS @0x146ab6288> #<ATOM :N/:N @0x13549e3c9>\n",
      "#<MOLECULE NIL @0x128a6fcc8> #<RESIDUE :SER @0x146ab6208> #<ATOM :N/:N @0x1354a5f09>\n",
      "#<MOLECULE NIL @0x128a6fcc8> #<RESIDUE :THR @0x146ab6188> #<ATOM :N/:N @0x1354a54b9>\n",
      "#<MOLECULE NIL @0x128a6fcc8> #<RESIDUE :ALA @0x146ab6108> #<ATOM :N/:N @0x1354c1789>\n",
      "#<MOLECULE NIL @0x128a6fcc8> #<RESIDUE :LYS @0x146ab6088> #<ATOM :N/:N @0x1354c3e19>\n",
      "#<MOLECULE NIL @0x128a6fcc8> #<RESIDUE :ARG @0x146ab6008> #<ATOM :N/:N @0x1354c6969>\n",
      "#<MOLECULE NIL @0x128a6fcc8> #<RESIDUE :ALA @0x14641ad08> #<ATOM :N/:N @0x1354d52d9>\n",
      "#<MOLECULE NIL @0x128a6fcc8> #<RESIDUE :ARG @0x14641ac88> #<ATOM :N/:N @0x1354e8969>\n",
      "#<MOLECULE NIL @0x128a6fcc8> #<RESIDUE :ASN @0x14641ac08> #<ATOM :N/:N @0x1354f32d9>\n",
      "#<MOLECULE NIL @0x128a6fcc8> #<RESIDUE :ASN @0x14641ac08> #<ATOM :ND2/:N @0x1354fca59>\n",
      "#<MOLECULE NIL @0x128a6fcc8> #<RESIDUE :SER @0x14641ab88> #<ATOM :N/:N @0x1354fc5a9>\n",
      "#<MOLECULE NIL @0x128a6fcc8> #<RESIDUE :ILE @0x14641ab08> #<ATOM :N/:N @0x1354ffb49>\n",
      "#<MOLECULE NIL @0x128a6fcc8> #<RESIDUE :VAL @0x14641aa88> #<ATOM :N/:N @0x13552d969>\n",
      "#<MOLECULE NIL @0x128a6fcc8> #<RESIDUE :ILE @0x14641aa08> #<ATOM :N/:N @0x135532a59>\n",
      "#<MOLECULE NIL @0x128a6fcc8> #<RESIDUE :ILE @0x14641a988> #<ATOM :N/:N @0x135536879>\n",
      "#<MOLECULE NIL @0x128a6fcc8> #<RESIDUE :TRP @0x14641a908> #<ATOM :N/:N @0x135539699>\n",
      "#<MOLECULE NIL @0x128a6fcc8> #<RESIDUE :ILE @0x14641a888> #<ATOM :N/:N @0x13555e009>\n",
      "#<MOLECULE NIL @0x128a6fcc8> #<RESIDUE :VAL @0x14641a808> #<ATOM :N/:N @0x135591e19>\n",
      "#<MOLECULE NIL @0x128a6fcc8> #<RESIDUE :SER @0x14641a788> #<ATOM :N/:N @0x135596f09>\n",
      "#<MOLECULE NIL @0x128a6fcc8> #<RESIDUE :CYS @0x14641a708> #<ATOM :N/:N @0x1355964b9>\n",
      "#<MOLECULE NIL @0x128a6fcc8> #<RESIDUE :ILE @0x14641a688> #<ATOM :N/:N @0x13559aa59>\n",
      "#<MOLECULE NIL @0x128a6fcc8> #<RESIDUE :ILE @0x14641a608> #<ATOM :N/:N @0x13559d879>\n",
      "#<MOLECULE NIL @0x128a6fcc8> #<RESIDUE :MET @0x14641a588> #<ATOM :N/:N @0x1355aa699>\n",
      "#<MOLECULE NIL @0x128a6fcc8> #<RESIDUE :ILE @0x14641a508> #<ATOM :N/:N @0x1355ae699>\n",
      "#<MOLECULE NIL @0x128a6fcc8> #<RESIDUE :PRO @0x14641a488> #<ATOM :N/:N @0x1355b64b9>\n",
      "#<MOLECULE NIL @0x128a6fcc8> #<RESIDUE :GLN @0x14641a408> #<ATOM :N/:N @0x1355b8789>\n",
      "#<MOLECULE NIL @0x128a6fcc8> #<RESIDUE :GLN @0x14641a408> #<ATOM :NE2/:N @0x1355d3c39>\n",
      "#<MOLECULE NIL @0x128a6fcc8> #<RESIDUE :ALA @0x14641a388> #<ATOM :N/:N @0x1355d3789>\n",
      "#<MOLECULE NIL @0x128a6fcc8> #<RESIDUE :ILE @0x14641a308> #<ATOM :N/:N @0x1355dce19>\n",
      "#<MOLECULE NIL @0x128a6fcc8> #<RESIDUE :VAL @0x14641a288> #<ATOM :N/:N @0x1355dec39>\n",
      "#<MOLECULE NIL @0x128a6fcc8> #<RESIDUE :MET @0x14641a208> #<ATOM :N/:N @0x1355f4d29>\n",
      "#<MOLECULE NIL @0x128a6fcc8> #<RESIDUE :GLU @0x14641a188> #<ATOM :N/:N @0x1355f6d29>\n",
      "#<MOLECULE NIL @0x128a6fcc8> #<RESIDUE :CYS @0x14641a108> #<ATOM :N/:N @0x1355fcf09>\n",
      "#<MOLECULE NIL @0x128a6fcc8> #<RESIDUE :SER @0x14641a088> #<ATOM :N/:N @0x1355fc4b9>\n",
      "#<MOLECULE NIL @0x128a6fcc8> #<RESIDUE :THR @0x14641a008> #<ATOM :N/:N @0x135607a59>\n",
      "#<MOLECULE NIL @0x128a6fcc8> #<RESIDUE :VAL @0x1466bff88> #<ATOM :N/:N @0x135615d29>\n",
      "#<MOLECULE NIL @0x128a6fcc8> #<RESIDUE :PHE @0x1466bff08> #<ATOM :N/:N @0x13561ae19>\n",
      "#<MOLECULE NIL @0x128a6fcc8> #<RESIDUE :PRO @0x1466bfe88> #<ATOM :N/:N @0x13561fb49>\n",
      "#<MOLECULE NIL @0x128a6fcc8> #<RESIDUE :GLY @0x1466bfe08> #<ATOM :N/:N @0x135621e19>\n",
      "#<MOLECULE NIL @0x128a6fcc8> #<RESIDUE :LEU @0x1466bfd88> #<ATOM :N/:N @0x135621789>\n",
      "#<MOLECULE NIL @0x128a6fcc8> #<RESIDUE :ALA @0x1466bfd08> #<ATOM :N/:N @0x13562a5a9>\n",
      "#<MOLECULE NIL @0x128a6fcc8> #<RESIDUE :ASN @0x1466bfc88> #<ATOM :N/:N @0x135630c39>\n",
      "#<MOLECULE NIL @0x128a6fcc8> #<RESIDUE :ASN @0x1466bfc88> #<ATOM :ND2/:N @0x1356303c9>\n",
      "#<MOLECULE NIL @0x128a6fcc8> #<RESIDUE :LYS @0x1466bfc08> #<ATOM :N/:N @0x135632f09>\n",
      "#<MOLECULE NIL @0x128a6fcc8> #<RESIDUE :THR @0x1466bfb88> #<ATOM :N/:N @0x13563ca59>\n",
      "#<MOLECULE NIL @0x128a6fcc8> #<RESIDUE :THR @0x1466bfb08> #<ATOM :N/:N @0x13566bd29>\n",
      "#<MOLECULE NIL @0x128a6fcc8> #<RESIDUE :LEU @0x1466bfa88> #<ATOM :N/:N @0x13566b009>\n",
      "#<MOLECULE NIL @0x128a6fcc8> #<RESIDUE :PHE @0x1466bfa08> #<ATOM :N/:N @0x13568ee19>\n",
      "#<MOLECULE NIL @0x128a6fcc8> #<RESIDUE :THR @0x1466bf988> #<ATOM :N/:N @0x135691b49>\n",
      "#<MOLECULE NIL @0x128a6fcc8> #<RESIDUE :VAL @0x1466bf908> #<ATOM :N/:N @0x13569ce19>\n",
      "#<MOLECULE NIL @0x128a6fcc8> #<RESIDUE :CYS @0x1466bf888> #<ATOM :N/:N @0x1356c5f09>\n",
      "#<MOLECULE NIL @0x128a6fcc8> #<RESIDUE :ASP @0x1466bf808> #<ATOM :N/:N @0x1356c54b9>\n",
      "#<MOLECULE NIL @0x128a6fcc8> #<RESIDUE :GLU @0x1466bf788> #<ATOM :N/:N @0x1356d5969>\n",
      "#<MOLECULE NIL @0x128a6fcc8> #<RESIDUE :ARG @0x1466bf708> #<ATOM :N/:N @0x1356d7b49>\n",
      "#<MOLECULE NIL @0x128a6fcc8> #<RESIDUE :TRP @0x1466bf688> #<ATOM :N/:N @0x1356e54b9>\n",
      "#<MOLECULE NIL @0x128a6fcc8> #<RESIDUE :GLY @0x1466bf608> #<ATOM :N/:N @0x135705e19>\n",
      "#<MOLECULE NIL @0x128a6fcc8> #<RESIDUE :GLY @0x1466bf588> #<ATOM :N/:N @0x135705789>\n",
      "#<MOLECULE NIL @0x128a6fcc8> #<RESIDUE :GLU @0x1466bf508> #<ATOM :N/:N @0x1357050f9>\n",
      "#<MOLECULE NIL @0x128a6fcc8> #<RESIDUE :ILE @0x1466bf488> #<ATOM :N/:N @0x1357222d9>\n",
      "#<MOLECULE NIL @0x128a6fcc8> #<RESIDUE :TYR @0x1466bf408> #<ATOM :N/:N @0x1357260f9>\n",
      "#<MOLECULE NIL @0x128a6fcc8> #<RESIDUE :PRO @0x1466bf388> #<ATOM :N/:N @0x135732d29>\n",
      "#<MOLECULE NIL @0x128a6fcc8> #<RESIDUE :LYS @0x1466bf308> #<ATOM :N/:N @0x135732009>\n",
      "#<MOLECULE NIL @0x128a6fcc8> #<RESIDUE :MET @0x1466bf288> #<ATOM :N/:N @0x135748b49>\n",
      "#<MOLECULE NIL @0x128a6fcc8> #<RESIDUE :TYR @0x1466bf208> #<ATOM :N/:N @0x13574ab49>\n",
      "#<MOLECULE NIL @0x128a6fcc8> #<RESIDUE :HIE @0x1466bf188> #<ATOM :N/:N @0x13575b789>\n",
      "#<MOLECULE NIL @0x128a6fcc8> #<RESIDUE :ILE @0x1466bf108> #<ATOM :N/:N @0x135778789>\n",
      "#<MOLECULE NIL @0x128a6fcc8> #<RESIDUE :CYS @0x1466bf088> #<ATOM :N/:N @0x13577a5a9>\n",
      "#<MOLECULE NIL @0x128a6fcc8> #<RESIDUE :PHE @0x13baf1f88> #<ATOM :N/:N @0x135782b49>\n",
      "#<MOLECULE NIL @0x128a6fcc8> #<RESIDUE :PHE @0x13baf1f08> #<ATOM :N/:N @0x135789879>\n",
      "#<MOLECULE NIL @0x128a6fcc8> #<RESIDUE :LEU @0x13baf1e88> #<ATOM :N/:N @0x1357945a9>\n",
      "#<MOLECULE NIL @0x128a6fcc8> #<RESIDUE :VAL @0x13baf1e08> #<ATOM :N/:N @0x1357963c9>\n",
      "#<MOLECULE NIL @0x128a6fcc8> #<RESIDUE :THR @0x13baf1d88> #<ATOM :N/:N @0x1357984b9>\n",
      "#<MOLECULE NIL @0x128a6fcc8> #<RESIDUE :TYR @0x13baf1d08> #<ATOM :N/:N @0x1357a0789>\n",
      "#<MOLECULE NIL @0x128a6fcc8> #<RESIDUE :MET @0x13baf1c88> #<ATOM :N/:N @0x1357ab3c9>\n",
      "#<MOLECULE NIL @0x128a6fcc8> #<RESIDUE :ALA @0x13baf1c08> #<ATOM :N/:N @0x1357c03c9>\n",
      "#<MOLECULE NIL @0x128a6fcc8> #<RESIDUE :PRO @0x13baf1b88> #<ATOM :N/:N @0x1357cba59>\n",
      "#<MOLECULE NIL @0x128a6fcc8> #<RESIDUE :LEU @0x13baf1b08> #<ATOM :N/:N @0x1357dcd29>\n",
      "#<MOLECULE NIL @0x128a6fcc8> #<RESIDUE :CYS @0x13baf1a88> #<ATOM :N/:N @0x1357eeb49>\n",
      "#<MOLECULE NIL @0x128a6fcc8> #<RESIDUE :LEU @0x13baf1a08> #<ATOM :N/:N @0x1357ee0f9>\n",
      "#<MOLECULE NIL @0x128a6fcc8> #<RESIDUE :MET @0x13baf1988> #<ATOM :N/:N @0x1357f7f09>\n",
      "#<MOLECULE NIL @0x128a6fcc8> #<RESIDUE :VAL @0x13981a988> #<ATOM :N/:N @0x1357f9f09>\n",
      "#<MOLECULE NIL @0x128a6fcc8> #<RESIDUE :LEU @0x13981a908> #<ATOM :N/:N @0x1357f9009>\n",
      "#<MOLECULE NIL @0x128a6fcc8> #<RESIDUE :ALA @0x13981a888> #<ATOM :N/:N @0x13504ae19>\n",
      "#<MOLECULE NIL @0x128a6fcc8> #<RESIDUE :TYR @0x13981a808> #<ATOM :N/:N @0x13504a4b9>\n",
      "#<MOLECULE NIL @0x128a6fcc8> #<RESIDUE :LEU @0x13981a788> #<ATOM :N/:N @0x13505a0f9>\n",
      "#<MOLECULE NIL @0x128a6fcc8> #<RESIDUE :GLN @0x13981a708> #<ATOM :N/:N @0x13507bf09>\n",
      "#<MOLECULE NIL @0x128a6fcc8> #<RESIDUE :GLN @0x13981a708> #<ATOM :NE2/:N @0x13507b3c9>\n",
      "#<MOLECULE NIL @0x128a6fcc8> #<RESIDUE :ILE @0x13981a688> #<ATOM :N/:N @0x135080f09>\n",
      "#<MOLECULE NIL @0x128a6fcc8> #<RESIDUE :PHE @0x13981a608> #<ATOM :N/:N @0x135085d29>\n",
      "#<MOLECULE NIL @0x128a6fcc8> #<RESIDUE :ARG @0x13981a588> #<ATOM :N/:N @0x13508aa59>\n",
      "#<MOLECULE NIL @0x128a6fcc8> #<RESIDUE :LYS @0x13981a508> #<ATOM :N/:N @0x13508f3c9>\n",
      "#<MOLECULE NIL @0x128a6fcc8> #<RESIDUE :LEU @0x13981a488> #<ATOM :N/:N @0x13509df09>\n",
      "#<MOLECULE NIL @0x128a6fcc8> #<RESIDUE :TRP @0x13981a408> #<ATOM :N/:N @0x1350a0d29>\n",
      "#<MOLECULE NIL @0x128a6fcc8> #<RESIDUE :CYS @0x13981a388> #<ATOM :N/:N @0x1350a8699>\n",
      "#<MOLECULE NIL @0x128a6fcc8> #<RESIDUE :ARG @0x13981a308> #<ATOM :N/:N @0x1350c4c39>\n",
      "#<MOLECULE NIL @0x128a6fcc8> #<RESIDUE :GLN @0x13981a288> #<ATOM :N/:N @0x1350c85a9>\n",
      "#<MOLECULE NIL @0x128a6fcc8> #<RESIDUE :GLN @0x13981a288> #<ATOM :NE2/:N @0x1350cea59>\n",
      "#<MOLECULE NIL @0x128431968> #<RESIDUE :LYS @0x13981a208> #<ATOM :N/:N @0x1350ce4b9>\n",
      "#<MOLECULE NIL @0x128431968> #<RESIDUE :GLN @0x13981a188> #<ATOM :N/:N @0x1350d2e19>\n",
      "#<MOLECULE NIL @0x128431968> #<RESIDUE :GLN @0x13981a188> #<ATOM :NE2/:N @0x1350d22d9>\n",
      "#<MOLECULE NIL @0x128431968> #<RESIDUE :ILE @0x13981a108> #<ATOM :N/:N @0x1350d4e19>\n",
      "#<MOLECULE NIL @0x128431968> #<RESIDUE :ARG @0x13981a088> #<ATOM :N/:N @0x1350dfc39>\n",
      "#<MOLECULE NIL @0x128431968> #<RESIDUE :ALA @0x13981a008> #<ATOM :N/:N @0x1350e45a9>\n",
      "#<MOLECULE NIL @0x128431968> #<RESIDUE :ARG @0x1371def88> #<ATOM :N/:N @0x1350e7c39>\n",
      "#<MOLECULE NIL @0x128431968> #<RESIDUE :ARG @0x1371def08> #<ATOM :N/:N @0x1350ec5a9>\n",
      "#<MOLECULE NIL @0x128431968> #<RESIDUE :LYS @0x1371dee88> #<ATOM :N/:N @0x1350f4f09>\n",
      "#<MOLECULE NIL @0x128431968> #<RESIDUE :THR @0x1371dee08> #<ATOM :N/:N @0x135105a59>\n",
      "#<MOLECULE NIL @0x128431968> #<RESIDUE :ALA @0x1371ded88> #<ATOM :N/:N @0x13510ed29>\n",
      "#<MOLECULE NIL @0x128431968> #<RESIDUE :ARG @0x1371ded08> #<ATOM :N/:N @0x13510e3c9>\n",
      "#<MOLECULE NIL @0x128431968> #<RESIDUE :MET @0x1371dec88> #<ATOM :N/:N @0x13512dd29>\n",
      "#<MOLECULE NIL @0x128431968> #<RESIDUE :LEU @0x1371dec08> #<ATOM :N/:N @0x135134d29>\n",
      "#<MOLECULE NIL @0x128431968> #<RESIDUE :MET @0x1371deb88> #<ATOM :N/:N @0x135142b49>\n",
      "#<MOLECULE NIL @0x128431968> #<RESIDUE :ILE @0x1371deb08> #<ATOM :N/:N @0x13514db49>\n",
      "#<MOLECULE NIL @0x128431968> #<RESIDUE :VAL @0x1371dea88> #<ATOM :N/:N @0x135153969>\n",
      "#<MOLECULE NIL @0x128431968> #<RESIDUE :LEU @0x1371dea08> #<ATOM :N/:N @0x135155a59>\n",
      "#<MOLECULE NIL @0x128431968> #<RESIDUE :LEU @0x1371de988> #<ATOM :N/:N @0x13515c879>\n",
      "#<MOLECULE NIL @0x128431968> #<RESIDUE :VAL @0x1371de908> #<ATOM :N/:N @0x135167699>\n",
      "#<MOLECULE NIL @0x128431968> #<RESIDUE :PHE @0x1371de888> #<ATOM :N/:N @0x13516e789>\n",
      "#<MOLECULE NIL @0x128431968> #<RESIDUE :ALA @0x1371de808> #<ATOM :N/:N @0x13519b4b9>\n",
      "#<MOLECULE NIL @0x128431968> #<RESIDUE :ILE @0x1371de788> #<ATOM :N/:N @0x1351abb49>\n",
      "#<MOLECULE NIL @0x128431968> #<RESIDUE :CYS @0x1371de708> #<ATOM :N/:N @0x1351c5969>\n",
      "#<MOLECULE NIL @0x128431968> #<RESIDUE :TYR @0x1371de688> #<ATOM :N/:N @0x1351c7f09>\n",
      "#<MOLECULE NIL @0x128431968> #<RESIDUE :LEU @0x1371de608> #<ATOM :N/:N @0x1351dab49>\n",
      "#<MOLECULE NIL @0x128431968> #<RESIDUE :PRO @0x1371de088> #<ATOM :N/:N @0x1351dc969>\n",
      "#<MOLECULE NIL @0x128431968> #<RESIDUE :ILE @0x1371de008> #<ATOM :N/:N @0x1351e4c39>\n",
      "#<MOLECULE NIL @0x128431968> #<RESIDUE :SER @0x134e6f708> #<ATOM :N/:N @0x1351eba59>\n",
      "#<MOLECULE NIL @0x128431968> #<RESIDUE :ILE @0x134e6f688> #<ATOM :N/:N @0x1351eb009>\n",
      "#<MOLECULE NIL @0x128431968> #<RESIDUE :LEU @0x134e6f608> #<ATOM :N/:N @0x1351f4e19>\n",
      "#<MOLECULE NIL @0x128431968> #<RESIDUE :ASN @0x134e6f108> #<ATOM :N/:N @0x1351fcc39>\n",
      "#<MOLECULE NIL @0x128431968> #<RESIDUE :ASN @0x134e6f108> #<ATOM :ND2/:N @0x1351fc3c9>\n",
      "#<MOLECULE NIL @0x128431968> #<RESIDUE :VAL @0x134e6f088> #<ATOM :N/:N @0x1351fff09>\n",
      "#<MOLECULE NIL @0x128431968> #<RESIDUE :LEU @0x134e6f008> #<ATOM :N/:N @0x1351ff009>\n",
      "#<MOLECULE NIL @0x128431968> #<RESIDUE :LYS @0x134f68c88> #<ATOM :N/:N @0x135207e19>\n",
      "#<MOLECULE NIL @0x128431968> #<RESIDUE :ARG @0x134f68808> #<ATOM :N/:N @0x13520b969>\n",
      "#<MOLECULE NIL @0x128431968> #<RESIDUE :VAL @0x134f68488> #<ATOM :N/:N @0x1352142d9>\n",
      "#<MOLECULE NIL @0x128431968> #<RESIDUE :PHE @0x134f68008> #<ATOM :N/:N @0x1352193c9>\n",
      "#<MOLECULE NIL @0x128431968> #<RESIDUE :GLY @0x12e860388> #<ATOM :N/:N @0x13521b0f9>\n",
      "#<MOLECULE NIL @0x128431968> #<RESIDUE :MET @0x12e860308> #<ATOM :N/:N @0x13521da59>\n",
      "#<MOLECULE NIL @0x128431968> #<RESIDUE :PHE @0x12e860288> #<ATOM :N/:N @0x135226a59>\n",
      "#<MOLECULE NIL @0x128431968> #<RESIDUE :ALA @0x12e860208> #<ATOM :N/:N @0x135236789>\n",
      "#<MOLECULE NIL @0x128431968> #<RESIDUE :HIE @0x12e860188> #<ATOM :N/:N @0x13523fe19>\n",
      "#<MOLECULE NIL @0x128431968> #<RESIDUE :THR @0x12e860108> #<ATOM :N/:N @0x135250e19>\n",
      "#<MOLECULE NIL @0x128431968> #<RESIDUE :GLU @0x12e860088> #<ATOM :N/:N @0x1352500f9>\n",
      "#<MOLECULE NIL @0x128431968> #<RESIDUE :ASP @0x12e860008> #<ATOM :N/:N @0x1352622d9>\n",
      "#<MOLECULE NIL @0x128431968> #<RESIDUE :ARG @0x12e9d3f88> #<ATOM :N/:N @0x135267789>\n",
      "#<MOLECULE NIL @0x128431968> #<RESIDUE :GLU @0x12e9d3f08> #<ATOM :N/:N @0x13526f0f9>\n",
      "#<MOLECULE NIL @0x128431968> #<RESIDUE :THR @0x12e9d3e88> #<ATOM :N/:N @0x1352712d9>\n",
      "#<MOLECULE NIL @0x128431968> #<RESIDUE :VAL @0x12e9d3e08> #<ATOM :N/:N @0x1352775a9>\n",
      "#<MOLECULE NIL @0x128431968> #<RESIDUE :TYR @0x12e9d3d88> #<ATOM :N/:N @0x13527a699>\n",
      "#<MOLECULE NIL @0x128431968> #<RESIDUE :ALA @0x12e9d3d08> #<ATOM :N/:N @0x1352832d9>\n",
      "#<MOLECULE NIL @0x128431968> #<RESIDUE :TRP @0x12e9d3c88> #<ATOM :N/:N @0x1352ca969>\n",
      "#<MOLECULE NIL @0x128431968> #<RESIDUE :PHE @0x12e9d3c08> #<ATOM :N/:N @0x1352cc2d9>\n",
      "#<MOLECULE NIL @0x128431968> #<RESIDUE :THR @0x12e9d3b88> #<ATOM :N/:N @0x1352eb009>\n",
      "#<MOLECULE NIL @0x128431968> #<RESIDUE :PHE @0x12e9d3b08> #<ATOM :N/:N @0x1352f32d9>\n",
      "#<MOLECULE NIL @0x128431968> #<RESIDUE :SER @0x12e9d3a88> #<ATOM :N/:N @0x1352fc009>\n",
      "#<MOLECULE NIL @0x128431968> #<RESIDUE :HIE @0x12e9d3a08> #<ATOM :N/:N @0x1352fe5a9>\n",
      "#<MOLECULE NIL @0x128431968> #<RESIDUE :TRP @0x12e9d3988> #<ATOM :N/:N @0x1353015a9>\n",
      "#<MOLECULE NIL @0x128431968> #<RESIDUE :LEU @0x12e9d3908> #<ATOM :N/:N @0x135313f09>\n",
      "#<MOLECULE NIL @0x128431968> #<RESIDUE :VAL @0x12e9d3888> #<ATOM :N/:N @0x135315d29>\n",
      "#<MOLECULE NIL @0x128431968> #<RESIDUE :TYR @0x12e9d3808> #<ATOM :N/:N @0x135320e19>\n",
      "#<MOLECULE NIL @0x128431968> #<RESIDUE :ALA @0x12ea7bc08> #<ATOM :N/:N @0x135324a59>\n",
      "#<MOLECULE NIL @0x128431968> #<RESIDUE :ASN @0x12ea7bb88> #<ATOM :N/:N @0x1353240f9>\n",
      "#<MOLECULE NIL @0x128431968> #<RESIDUE :ASN @0x12ea7bb88> #<ATOM :ND2/:N @0x135327879>\n",
      "#<MOLECULE NIL @0x128431968> #<RESIDUE :SER @0x12ea7bb08> #<ATOM :N/:N @0x1353273c9>\n",
      "#<MOLECULE NIL @0x128431968> #<RESIDUE :ALA @0x12ea7ba88> #<ATOM :N/:N @0x135333969>\n",
      "#<MOLECULE NIL @0x128431968> #<RESIDUE :ALA @0x12ea7ba08> #<ATOM :N/:N @0x135333009>\n",
      "#<MOLECULE NIL @0x128431968> #<RESIDUE :ASN @0x1476f3888> #<ATOM :N/:N @0x13534e699>\n",
      "#<MOLECULE NIL @0x128431968> #<RESIDUE :ASN @0x1476f3888> #<ATOM :ND2/:N @0x135356e19>\n",
      "#<MOLECULE NIL @0x128431968> #<RESIDUE :PRO @0x1476f3808> #<ATOM :N/:N @0x135356969>\n",
      "#<MOLECULE NIL @0x128431968> #<RESIDUE :ILE @0x1476f3788> #<ATOM :N/:N @0x13535dc39>\n",
      "#<MOLECULE NIL @0x128431968> #<RESIDUE :ILE @0x1476f3708> #<ATOM :N/:N @0x135360a59>\n",
      "#<MOLECULE NIL @0x128431968> #<RESIDUE :TYR @0x1476f3608> #<ATOM :N/:N @0x135363879>\n",
      "#<MOLECULE NIL @0x128431968> #<RESIDUE :ASN @0x1476f3588> #<ATOM :N/:N @0x1353684b9>\n",
      "#<MOLECULE NIL @0x128431968> #<RESIDUE :ASN @0x1476f3588> #<ATOM :ND2/:N @0x13536bc39>\n",
      "#<MOLECULE NIL @0x128431968> #<RESIDUE :PHE @0x1476f3508> #<ATOM :N/:N @0x13536b789>\n",
      "#<MOLECULE NIL @0x128431968> #<RESIDUE :LEU @0x1476f3488> #<ATOM :N/:N @0x1353774b9>\n",
      "#<MOLECULE NIL @0x128431968> #<RESIDUE :SER @0x1476f3388> #<ATOM :N/:N @0x1353922d9>\n",
      "#<MOLECULE NIL @0x128431968> #<RESIDUE :GLY @0x1476f3308> #<ATOM :N/:N @0x135394879>\n",
      "#<MOLECULE NIL @0x128431968> #<RESIDUE :LYS @0x1476f3288> #<ATOM :N/:N @0x1353941e9>\n",
      "#<MOLECULE NIL @0x128431968> #<RESIDUE :PHE @0x14768eb88> #<ATOM :N/:N @0x1353b3d29>\n",
      "#<MOLECULE NIL @0x128431968> #<RESIDUE :ARG @0x14768eb08> #<ATOM :N/:N @0x1353b6a59>\n",
      "#<MOLECULE NIL @0x128431968> #<RESIDUE :GLU @0x14768ea88> #<ATOM :N/:N @0x1353d13c9>\n",
      "#<MOLECULE NIL @0x128431968> #<RESIDUE :GLU @0x14768ea08> #<ATOM :N/:N @0x1353d55a9>\n",
      "#<MOLECULE NIL @0x128431968> #<RESIDUE :PHE @0x14768e988> #<ATOM :N/:N @0x1353ee789>\n",
      "#<MOLECULE NIL @0x128431968> #<RESIDUE :LYS @0x14768e908> #<ATOM :N/:N @0x1353fa4b9>\n",
      "#<MOLECULE NIL @0x128431968> #<RESIDUE :ALA @0x14768e888> #<ATOM :N/:N @0x1353fc009>\n",
      "#<MOLECULE NIL @0x128431968> #<RESIDUE :ALA @0x14768e808> #<ATOM :N/:N @0x134c00699>\n",
      "#<MOLECULE NIL @0x128431968> #<RESIDUE :PHE @0x14768e788> #<ATOM :N/:N @0x134c04d29>\n",
      "#<MOLECULE NIL @0x128431968> #<RESIDUE :SER @0x14768e708> #<ATOM :N/:N @0x134c12a59>\n",
      "#<MOLECULE NIL @0x128431968> #<RESIDUE :CYS @0x14768e608> #<ATOM :N/:N @0x134c12009>\n"
     ]
    },
    {
     "data": {
      "text/plain": [
       "NIL"
      ]
     },
     "execution_count": 17,
     "metadata": {},
     "output_type": "execute_result"
    }
   ],
   "source": [
    "(do-molecules (mol *p*)\n",
    "    (do-residues (res mol)\n",
    "        (do-atoms (atm res)\n",
    "            (when (eq :N (chem:get-type atm))\n",
    "                (format t \"~a ~a ~a~%\" mol res atm)))))"
   ]
  },
  {
   "cell_type": "code",
   "execution_count": 9,
   "metadata": {},
   "outputs": [
    {
     "data": {
      "text/plain": [
       "*EMPTY*"
      ]
     },
     "execution_count": 9,
     "metadata": {},
     "output_type": "execute_result"
    }
   ],
   "source": [
    "(defparameter *empty* (build-empty-membrane))"
   ]
  },
  {
   "cell_type": "code",
   "execution_count": 10,
   "metadata": {},
   "outputs": [
    {
     "data": {
      "application/vnd.jupyter.widget-view+json": {
       "model_id": "86EBE664-448B-4235-ADD2-D93A059A356C",
       "version_major": 2,
       "version_minor": 0
      },
      "text/plain": [
       "#<NGLV:NGLWIDGET>"
      ]
     },
     "execution_count": 10,
     "metadata": {},
     "output_type": "execute_result"
    }
   ],
   "source": [
    "(show *empty*)"
   ]
  },
  {
   "cell_type": "code",
   "execution_count": 11,
   "metadata": {},
   "outputs": [
    {
     "name": "stdout",
     "output_type": "stream",
     "text": [
      "Total solute charge:  -0.00  Max atom radius:   2.10\n",
      "Box:\n",
      "   enclosing:  -63.97 -63.26 -27.19   54.02 55.12 27.19\n",
      "PdHalfEdges:        64.00\n",
      "PdHalfDiagonals:     110.85 Angstrom.\n",
      "PdHalfEdges:        32.00\n",
      "PdHalfDiagonals:     55.43 Angstrom.\n",
      "PdHalfEdges:        16.00\n",
      "PdHalfDiagonals:     27.71 Angstrom.\n",
      "PdHalfEdges:         8.00\n",
      "PdHalfDiagonals:     13.86 Angstrom.\n",
      "PdHalfEdges:         4.00\n",
      "PdHalfDiagonals:      6.93 Angstrom.\n",
      "PdHalfEdges:         2.00\n",
      "PdHalfDiagonals:      3.46 Angstrom.\n",
      "PdHalfEdges:         1.00\n",
      "PdHalfDiagonals:      1.73 Angstrom.\n",
      "PdHalfEdges:         0.50\n",
      "PdHalfDiagonals:      0.87 Angstrom.\n",
      "   sized:\t\t\t      64.03 64.74 100.81\n",
      "   edge:        128.00\n",
      "Resolution:      1.00 Angstrom.\n",
      "Tree depth: 7\n",
      "About to build interior octant iAtoms -> 32428\n",
      "Volume =  0.00 of box, grid points 1061522\n"
     ]
    },
    {
     "data": {
      "text/plain": [
       "*OT*"
      ]
     },
     "execution_count": 11,
     "metadata": {},
     "output_type": "execute_result"
    }
   ],
   "source": [
    "(defparameter *ot* (chem:make-oct-tree *empty* :interior-solute 1.0 0.0 0.0 (chem:compute-merged-nonbond-force-field-for-aggregate *empty*) 0 t))"
   ]
  },
  {
   "cell_type": "code",
   "execution_count": 20,
   "metadata": {},
   "outputs": [
    {
     "data": {
      "application/vnd.jupyter.widget-view+json": {
       "model_id": "30053EB4-BA32-4D67-9EB2-6C6688003B86",
       "version_major": 2,
       "version_minor": 0
      },
      "text/plain": [
       "#<NGLV:NGLWIDGET>"
      ]
     },
     "execution_count": 20,
     "metadata": {},
     "output_type": "execute_result"
    }
   ],
   "source": [
    "(show *agg*)"
   ]
  },
  {
   "cell_type": "code",
   "execution_count": 14,
   "metadata": {},
   "outputs": [
    {
     "data": {
      "text/plain": [
       "(#<ATOM :H16R/:H @0x1247de3c9> #<RESIDUE PA @0x124fb6988>\n",
       " #<MOLECULE :lipid122 @0x124011248>)"
      ]
     },
     "execution_count": 14,
     "metadata": {},
     "output_type": "execute_result"
    }
   ],
   "source": [
    "(multiple-value-list (chem:oct-tree-find-closest-atom *ot* (geom:vec 0 0 0)))"
   ]
  },
  {
   "cell_type": "code",
   "execution_count": 12,
   "metadata": {},
   "outputs": [
    {
     "data": {
      "text/plain": [
       "32428"
      ]
     },
     "execution_count": 12,
     "metadata": {},
     "output_type": "execute_result"
    }
   ],
   "source": [
    "(chem:number-of-atoms *empty*)"
   ]
  },
  {
   "cell_type": "code",
   "execution_count": 12,
   "metadata": {},
   "outputs": [
    {
     "data": {
      "text/plain": [
       "*DYN*"
      ]
     },
     "execution_count": 12,
     "metadata": {},
     "output_type": "execute_result"
    }
   ],
   "source": [
    "(defparameter *dyn* (simulate-membrane *empty*))"
   ]
  },
  {
   "cell_type": "code",
   "execution_count": null,
   "metadata": {},
   "outputs": [],
   "source": [
    "(dynamics:velocity-verlet-step *dyn*)"
   ]
  },
  {
   "cell_type": "code",
   "execution_count": 9,
   "metadata": {},
   "outputs": [
    {
     "name": "stdout",
     "output_type": "stream",
     "text": [
      "\n",
      "\n"
     ]
    },
    {
     "name": "stderr",
     "output_type": "stream",
     "text": [
      "\n",
      "More than four bonds to carbon will be made to #<ATOM :C12/:C @0x136f60f09>\n",
      "\n",
      "There are 28 unbuilt heavy atoms - not building hydrogens\n"
     ]
    },
    {
     "data": {
      "text/plain": [
       "*MEMB*"
      ]
     },
     "execution_count": 9,
     "metadata": {},
     "output_type": "execute_result"
    }
   ],
   "source": [
    "(defparameter *memb* (load-pdb \"4s0v_popc_membrane_hid.pdb\"))"
   ]
  },
  {
   "cell_type": "code",
   "execution_count": 14,
   "metadata": {},
   "outputs": [
    {
     "data": {
      "text/plain": [
       "*SM*"
      ]
     },
     "execution_count": 14,
     "metadata": {},
     "output_type": "execute_result"
    }
   ],
   "source": [
    "(defparameter *sm* (carve-membrane *memb* (lambda (cog) (< (geom:vx cog) -20))))"
   ]
  },
  {
   "cell_type": "code",
   "execution_count": 23,
   "metadata": {},
   "outputs": [
    {
     "name": "stdout",
     "output_type": "stream",
     "text": [
      "Translation vector: '( 35.9127 0.141911 -0.0693738)\n"
     ]
    },
    {
     "data": {
      "text/plain": [
       "NIL"
      ]
     },
     "execution_count": 23,
     "metadata": {},
     "output_type": "execute_result"
    }
   ],
   "source": [
    "(cando:move-geometric-center-to-origin *sm*)"
   ]
  },
  {
   "cell_type": "code",
   "execution_count": 26,
   "metadata": {},
   "outputs": [
    {
     "name": "stderr",
     "output_type": "stream",
     "text": [
      "\n",
      "An error occurred of type: SIMPLE-ERROR: \n",
      "  Expected 3 non-negative floating point numbers {x y z} for third argument\n",
      "\n",
      "\n",
      "serious-condition backtrace:\n",
      "0: (ERROR \"Expected 3 non-negative floating point numbers {x y z} for third argument~%\")\n",
      "1: (SET-BOX #<AGGREGATE 4s0v_popc_membrane_hid @0x126b50c68> :CENTERS -2.0)\n",
      "2: (LAMBDA)\n",
      "\n"
     ]
    },
    {
     "data": {
      "text/plain": [
       "NIL"
      ]
     },
     "execution_count": 26,
     "metadata": {},
     "output_type": "execute_result"
    }
   ],
   "source": [
    "(leap.set-box:set-box *sm* :centers -2.0)"
   ]
  },
  {
   "cell_type": "code",
   "execution_count": 25,
   "metadata": {},
   "outputs": [
    {
     "data": {
      "application/vnd.jupyter.widget-view+json": {
       "model_id": "242BA14F-1080-4140-BBF4-427E46EEF0B4",
       "version_major": 2,
       "version_minor": 0
      },
      "text/plain": [
       "#<NGLV:NGLWIDGET>"
      ]
     },
     "execution_count": 25,
     "metadata": {},
     "output_type": "execute_result"
    }
   ],
   "source": [
    "(show *sm* :axes t)"
   ]
  },
  {
   "cell_type": "code",
   "execution_count": 12,
   "metadata": {},
   "outputs": [
    {
     "data": {
      "text/plain": [
       "#<AGGREGATE 4s0v_popc_membrane_hid @0x131b53848>"
      ]
     },
     "execution_count": 12,
     "metadata": {},
     "output_type": "execute_result"
    }
   ],
   "source": [
    "*memb*"
   ]
  },
  {
   "cell_type": "code",
   "execution_count": 13,
   "metadata": {},
   "outputs": [
    {
     "data": {
      "application/vnd.jupyter.widget-view+json": {
       "model_id": "CEF694A3-90B3-427B-BAA8-FAC04E620994",
       "version_major": 2,
       "version_minor": 0
      },
      "text/plain": [
       "#<NGLV:NGLWIDGET>"
      ]
     },
     "execution_count": 13,
     "metadata": {},
     "output_type": "execute_result"
    }
   ],
   "source": [
    "(show *memb*)"
   ]
  },
  {
   "cell_type": "code",
   "execution_count": 14,
   "metadata": {},
   "outputs": [
    {
     "name": "stdout",
     "output_type": "stream",
     "text": [
      "Box dimensions 124.92900085449219d0 124.42499923706055d0 85.93000030517578d0\n"
     ]
    },
    {
     "data": {
      "text/plain": [
       "NIL"
      ]
     },
     "execution_count": 14,
     "metadata": {},
     "output_type": "execute_result"
    }
   ],
   "source": [
    "(leap.set-box:set-box *memb* :centers 5.0)"
   ]
  },
  {
   "cell_type": "code",
   "execution_count": 15,
   "metadata": {},
   "outputs": [
    {
     "data": {
      "text/plain": [
       "124.92900085449219d0"
      ]
     },
     "execution_count": 15,
     "metadata": {},
     "output_type": "execute_result"
    }
   ],
   "source": [
    "(chem:get-x-width (chem:bounding-box *memb*))"
   ]
  },
  {
   "cell_type": "code",
   "execution_count": 16,
   "metadata": {},
   "outputs": [
    {
     "data": {
      "application/vnd.jupyter.widget-view+json": {
       "model_id": "8D94095B-183F-4CA8-8B95-AA6654ECF12F",
       "version_major": 2,
       "version_minor": 0
      },
      "text/plain": [
       "#<NGLV:NGLWIDGET>"
      ]
     },
     "execution_count": 16,
     "metadata": {},
     "output_type": "execute_result"
    }
   ],
   "source": [
    "(show *memb* :axes t)"
   ]
  },
  {
   "cell_type": "code",
   "execution_count": 17,
   "metadata": {},
   "outputs": [
    {
     "data": {
      "text/plain": [
       "NIL"
      ]
     },
     "execution_count": 17,
     "metadata": {},
     "output_type": "execute_result"
    }
   ],
   "source": [
    "(do-molecules (mol *memb*) \n",
    "    (when (< (chem:number-of-atoms mol) 200)\n",
    "        (chem:setf-molecule-type mol :lipid)))"
   ]
  },
  {
   "cell_type": "code",
   "execution_count": null,
   "metadata": {},
   "outputs": [
    {
     "name": "stdout",
     "output_type": "stream",
     "text": [
      "\n",
      "\n"
     ]
    }
   ],
   "source": [
    "(prepare-popc-lipids)"
   ]
  },
  {
   "cell_type": "code",
   "execution_count": 17,
   "metadata": {},
   "outputs": [
    {
     "data": {
      "text/plain": [
       "*PPP*"
      ]
     },
     "execution_count": 17,
     "metadata": {},
     "output_type": "execute_result"
    }
   ],
   "source": [
    "(defparameter *ppp* (load-cando \"source-dir:extensions;cando;src;data;poc.cando\"))"
   ]
  },
  {
   "cell_type": "code",
   "execution_count": 3,
   "metadata": {},
   "outputs": [
    {
     "name": "stderr",
     "output_type": "stream",
     "text": [
      "\n",
      "Undefined variable *LIPIDS*\n",
      "\n",
      "Undefined variable *LIPIDS*\n",
      "\n",
      "Undefined variable *MEMB*\n",
      "\n",
      "Undefined variable *MEMB*\n",
      "\n",
      "Undefined variable *MEMB*\n",
      "\n",
      "An error occurred of type: UNBOUND-VARIABLE: \n",
      "  The variable *MEMB* is unbound.\n",
      "\n",
      "serious-condition backtrace:\n",
      "0: (ERROR UNBOUND-VARIABLE :NAME *MEMB*)\n",
      "1: (LAMBDA)\n",
      "\n"
     ]
    },
    {
     "data": {
      "text/plain": [
       "NIL"
      ]
     },
     "execution_count": 3,
     "metadata": {},
     "output_type": "execute_result"
    }
   ],
   "source": [
    "(defparameter *lipids* nil)\n",
    "(do-molecules (mol *memb*)\n",
    "    (when (eq (chem:molecule-type mol) :lipid)\n",
    "          (push mol *lipids*)))"
   ]
  },
  {
   "cell_type": "code",
   "execution_count": 42,
   "metadata": {},
   "outputs": [
    {
     "data": {
      "text/plain": [
       "*CL*"
      ]
     },
     "execution_count": 42,
     "metadata": {},
     "output_type": "execute_result"
    }
   ],
   "source": [
    "(defparameter *cl* (canonicalize-lipids *lipids* '(:p31 :n31) '(:c116 :c118)))"
   ]
  },
  {
   "cell_type": "code",
   "execution_count": null,
   "metadata": {},
   "outputs": [],
   "source": []
  },
  {
   "cell_type": "code",
   "execution_count": 27,
   "metadata": {},
   "outputs": [
    {
     "data": {
      "text/plain": [
       "(#<MOLECULE :mol_1 @0x15593f128> #<MOLECULE :mol_2 @0x155930608>\n",
       " #<MOLECULE :mol_3 @0x155922ae8> #<MOLECULE :mol_4 @0x155913008>\n",
       " #<MOLECULE :mol_5 @0x1559064e8> #<MOLECULE :mol_6 @0x1558f99c8>\n",
       " #<MOLECULE :mol_7 @0x1558ebea8> #<MOLECULE :mol_8 @0x1558db3c8>\n",
       " #<MOLECULE :mol_9 @0x1558cd8a8> #<MOLECULE :mol_10 @0x1558c1d88>\n",
       " #<MOLECULE :mol_11 @0x1558b22a8> #<MOLECULE :mol_12 @0x1558a4788>\n",
       " #<MOLECULE :mol_13 @0x155894c68> #<MOLECULE :mol_14 @0x155885188>\n",
       " #<MOLECULE :mol_15 @0x155879668> #<MOLECULE :mol_16 @0x15586bb48>\n",
       " #<MOLECULE :mol_17 @0x15585b068> #<MOLECULE :mol_18 @0x15584f548>\n",
       " #<MOLECULE :mol_19 @0x15583fa28> #<MOLECULE :mol_20 @0x155832f08>\n",
       " #<MOLECULE :mol_21 @0x155822428> #<MOLECULE :mol_22 @0x155814908>\n",
       " #<MOLECULE :mol_23 @0x155807de8> #<MOLECULE :mol_24 @0x1557f8308>\n",
       " #<MOLECULE :mol_25 @0x1557ea7e8> #<MOLECULE :mol_26 @0x1557dccc8>\n",
       " #<MOLECULE :mol_27 @0x1557cd1e8> #<MOLECULE :mol_28 @0x1557bf6c8>\n",
       " #<MOLECULE :mol_29 @0x1557b2ba8> #<MOLECULE :mol_30 @0x1557a20c8>\n",
       " #<MOLECULE :mol_31 @0x1557945a8> #<MOLECULE :mol_32 @0x155788a88>\n",
       " #<MOLECULE :mol_33 @0x15577af68> #<MOLECULE :mol_34 @0x15576a488>\n",
       " #<MOLECULE :mol_35 @0x15575c968> #<MOLECULE :mol_36 @0x15574fe48>\n",
       " #<MOLECULE :mol_37 @0x15573f368> #<MOLECULE :mol_38 @0x155731848>\n",
       " #<MOLECULE :mol_39 @0x155724d28> #<MOLECULE :mol_40 @0x155716248>\n",
       " #<MOLECULE :mol_41 @0x155708728> #<MOLECULE :mol_42 @0x1556fac08>\n",
       " #<MOLECULE :mol_43 @0x1556eb128> #<MOLECULE :mol_44 @0x1556dd608>\n",
       " #<MOLECULE :mol_45 @0x1556ceae8> #<MOLECULE :mol_46 @0x1556bf008>\n",
       " #<MOLECULE :mol_47 @0x1556b14e8> #<MOLECULE :mol_48 @0x1556a49c8>\n",
       " #<MOLECULE :mol_49 @0x155698ea8> #<MOLECULE :mol_50 @0x1556873c8>\n",
       " #<MOLECULE :mol_51 @0x1556798a8> #<MOLECULE :mol_52 @0x15566cd88>\n",
       " #<MOLECULE :mol_53 @0x15565e2a8> #<MOLECULE :mol_54 @0x155650788>\n",
       " #<MOLECULE :mol_55 @0x155641c68> #<MOLECULE :mol_56 @0x155630188>\n",
       " #<MOLECULE :mol_57 @0x155625668> #<MOLECULE :mol_58 @0x155617b48>\n",
       " #<MOLECULE :mol_59 @0x155607068> #<MOLECULE :mol_60 @0x1555fa548>\n",
       " #<MOLECULE :mol_61 @0x1555eca28> #<MOLECULE :mol_62 @0x1555dff08>\n",
       " #<MOLECULE :mol_63 @0x1555ce428> #<MOLECULE :mol_64 @0x1555c0908>\n",
       " #<MOLECULE :mol_65 @0x1555b2de8> #<MOLECULE :mol_66 @0x1555a4308>\n",
       " #<MOLECULE :mol_67 @0x1555977e8> #<MOLECULE :mol_68 @0x155589cc8>\n",
       " #<MOLECULE :mol_69 @0x1555781e8> #<MOLECULE :mol_70 @0x15556b6c8>\n",
       " #<MOLECULE :mol_71 @0x15555eba8> #<MOLECULE :mol_72 @0x15554e0c8>\n",
       " #<MOLECULE :mol_73 @0x1555405a8> #<MOLECULE :mol_74 @0x155534a88>\n",
       " #<MOLECULE :mol_75 @0x155526f68> #<MOLECULE :mol_76 @0x155517488>\n",
       " #<MOLECULE :mol_77 @0x155508968> #<MOLECULE :mol_78 @0x1554fae48>\n",
       " #<MOLECULE :mol_79 @0x1554eb368> #<MOLECULE :mol_80 @0x1554de848>\n",
       " #<MOLECULE :mol_81 @0x1554d0d28> #<MOLECULE :mol_82 @0x1554c0248>\n",
       " #<MOLECULE :mol_83 @0x1554b4728> #<MOLECULE :mol_84 @0x1554a6c08>\n",
       " #<MOLECULE :mol_85 @0x155497128> #<MOLECULE :mol_86 @0x155489608>\n",
       " #<MOLECULE :mol_87 @0x15547aae8> #<MOLECULE :mol_88 @0x15546b008>\n",
       " #<MOLECULE :mol_89 @0x15545d4e8> #<MOLECULE :mol_90 @0x1554509c8>\n",
       " #<MOLECULE :mol_91 @0x155443ea8> #<MOLECULE :mol_92 @0x1554343c8>\n",
       " #<MOLECULE :mol_93 @0x1554268a8> #<MOLECULE :mol_94 @0x155418d88>\n",
       " #<MOLECULE :mol_95 @0x1554082a8> #<MOLECULE :mol_96 @0x1553fb788>\n",
       " #<MOLECULE :mol_97 @0x1553edc68> #<MOLECULE :mol_98 @0x1553dc188>\n",
       " #<MOLECULE :mol_99 @0x1553cf668> #<MOLECULE :mol_100 @0x1553c1b48>\n",
       " #<MOLECULE :mol_101 @0x1553b2068> #<MOLECULE :mol_102 @0x1553a5548>\n",
       " #<MOLECULE :mol_103 @0x155397a28> #<MOLECULE :mol_104 @0x155389f08>\n",
       " #<MOLECULE :mol_105 @0x15537a428> #<MOLECULE :mol_106 @0x15536b908>\n",
       " #<MOLECULE :mol_107 @0x15535dde8> #<MOLECULE :mol_108 @0x15534f308>\n",
       " #<MOLECULE :mol_109 @0x1553427e8> #<MOLECULE :mol_110 @0x155334cc8>\n",
       " #<MOLECULE :mol_111 @0x1553241e8> #<MOLECULE :mol_112 @0x1553166c8>\n",
       " #<MOLECULE :mol_113 @0x155308ba8> #<MOLECULE :mol_114 @0x1552f90c8>\n",
       " #<MOLECULE :mol_115 @0x1552eb5a8> #<MOLECULE :mol_116 @0x1552dea88>\n",
       " #<MOLECULE :mol_117 @0x1552d1f68> #<MOLECULE :mol_118 @0x1552c3488>\n",
       " #<MOLECULE :mol_119 @0x1552b3968> #<MOLECULE :mol_120 @0x1552a5e48>\n",
       " #<MOLECULE :mol_121 @0x155295368> #<MOLECULE :mol_122 @0x155289848>\n",
       " #<MOLECULE :mol_123 @0x15527cd28> #<MOLECULE :mol_124 @0x15526c248>\n",
       " #<MOLECULE :mol_125 @0x15525e728> #<MOLECULE :mol_126 @0x155250c08>\n",
       " #<MOLECULE :mol_127 @0x155242128> #<MOLECULE :mol_128 @0x155234608>\n",
       " #<MOLECULE :mol_129 @0x155226ae8> #<MOLECULE :mol_130 @0x155217008>\n",
       " #<MOLECULE :mol_131 @0x1552084e8> #<MOLECULE :mol_132 @0x1551fb9c8>\n",
       " #<MOLECULE :mol_133 @0x1551edea8> #<MOLECULE :mol_134 @0x1551de3c8>\n",
       " #<MOLECULE :mol_135 @0x1551d18a8> #<MOLECULE :mol_136 @0x1551c4d88>\n",
       " #<MOLECULE :mol_137 @0x1551b52a8> #<MOLECULE :mol_138 @0x1551a6788>\n",
       " #<MOLECULE :mol_139 @0x155198c68> #<MOLECULE :mol_140 @0x155189188>\n",
       " #<MOLECULE :mol_141 @0x15517b668> #<MOLECULE :mol_142 @0x15516eb48>\n",
       " #<MOLECULE :mol_143 @0x15515f068> #<MOLECULE :mol_144 @0x155151548>\n",
       " #<MOLECULE :mol_145 @0x155143a28> #<MOLECULE :mol_146 @0x155136f08>\n",
       " #<MOLECULE :mol_147 @0x155125428> #<MOLECULE :mol_148 @0x155118908>\n",
       " #<MOLECULE :mol_149 @0x15510ade8> #<MOLECULE :mol_150 @0x1550fa308>\n",
       " #<MOLECULE :mol_151 @0x1550ed7e8> #<MOLECULE :mol_152 @0x1550dfcc8>\n",
       " #<MOLECULE :mol_153 @0x1550d01e8> #<MOLECULE :mol_154 @0x1550c26c8>\n",
       " #<MOLECULE :mol_155 @0x1550b5ba8> #<MOLECULE :mol_156 @0x1550a50c8>\n",
       " #<MOLECULE :mol_157 @0x1550975a8> #<MOLECULE :mol_158 @0x15508aa88>\n",
       " #<MOLECULE :mol_159 @0x15507df68> #<MOLECULE :mol_160 @0x15506e488>\n",
       " #<MOLECULE :mol_161 @0x155061968> #<MOLECULE :mol_162 @0x155052e48>\n",
       " #<MOLECULE :mol_163 @0x155041368> #<MOLECULE :mol_164 @0x155034848>\n",
       " #<MOLECULE :mol_165 @0x155027d28> #<MOLECULE :mol_166 @0x155018248>\n",
       " #<MOLECULE :mol_167 @0x15500a728> #<MOLECULE :mol_168 @0x154ffdc08>\n",
       " #<MOLECULE :mol_169 @0x154fee128> #<MOLECULE :mol_170 @0x154fe0608>\n",
       " #<MOLECULE :mol_171 @0x154fd2ae8> #<MOLECULE :mol_172 @0x154fc3008>\n",
       " #<MOLECULE :mol_173 @0x154fb44e8> #<MOLECULE :mol_174 @0x154fa89c8>\n",
       " #<MOLECULE :mol_175 @0x154f99ea8> #<MOLECULE :mol_176 @0x154f8a3c8>\n",
       " #<MOLECULE :mol_177 @0x154f7c8a8> #<MOLECULE :mol_178 @0x154f6fd88>\n",
       " #<MOLECULE :mol_179 @0x154f612a8> #<MOLECULE :mol_180 @0x154f53788>\n",
       " #<MOLECULE :mol_181 @0x154f44c68> #<MOLECULE :mol_182 @0x154f35188>\n",
       " #<MOLECULE :mol_183 @0x154f27668> #<MOLECULE :mol_184 @0x154f19b48>\n",
       " #<MOLECULE :mol_185 @0x154f0a068> #<MOLECULE :mol_186 @0x154efd548>\n",
       " #<MOLECULE :mol_187 @0x154ef0a28> #<MOLECULE :mol_188 @0x154ee2f08>\n",
       " #<MOLECULE :mol_189 @0x154ed1428> #<MOLECULE :mol_190 @0x154ec3908>\n",
       " #<MOLECULE :mol_191 @0x154eb5de8> #<MOLECULE :mol_192 @0x154ea7308>\n",
       " #<MOLECULE :mol_193 @0x154e9b7e8> #<MOLECULE :mol_194 @0x154e8bcc8>\n",
       " #<MOLECULE :mol_195 @0x154e7c1e8> #<MOLECULE :mol_196 @0x154e6e6c8>\n",
       " #<MOLECULE :mol_197 @0x154e61ba8> #<MOLECULE :mol_198 @0x154e510c8>\n",
       " #<MOLECULE :mol_199 @0x154e435a8> #<MOLECULE :mol_200 @0x154e36a88>\n",
       " #<MOLECULE :mol_201 @0x154e28f68> #<MOLECULE :mol_202 @0x154e1a488>\n",
       " #<MOLECULE :mol_203 @0x154e0c968> #<MOLECULE :mol_204 @0x154dfee48>\n",
       " #<MOLECULE :mol_205 @0x154dee368> #<MOLECULE :mol_206 @0x154de0848>\n",
       " #<MOLECULE :mol_207 @0x154dd3d28> #<MOLECULE :mol_208 @0x154dc4248>\n",
       " #<MOLECULE :mol_209 @0x154db6728> #<MOLECULE :mol_210 @0x154da9c08>\n",
       " #<MOLECULE :mol_211 @0x154d9a128> #<MOLECULE :mol_212 @0x154d8c608>\n",
       " #<MOLECULE :mol_213 @0x154d7eae8> #<MOLECULE :mol_214 @0x154d6f008>\n",
       " #<MOLECULE :mol_215 @0x154d604e8> #<MOLECULE :mol_216 @0x154d539c8>\n",
       " #<MOLECULE :mol_217 @0x154d45ea8> #<MOLECULE :mol_218 @0x154d363c8>\n",
       " #<MOLECULE :mol_219 @0x154d288a8> #<MOLECULE :mol_220 @0x154d1bd88>\n",
       " #<MOLECULE :mol_221 @0x154d0d2a8> #<MOLECULE :mol_222 @0x154cff788>\n",
       " #<MOLECULE :mol_223 @0x154cf1c68> #<MOLECULE :mol_224 @0x154ce1188>\n",
       " #<MOLECULE :mol_225 @0x154cd3668> #<MOLECULE :mol_226 @0x154cc5b48>\n",
       " #<MOLECULE :mol_227 @0x154cb6068> #<MOLECULE :mol_228 @0x154ca9548>\n",
       " #<MOLECULE :mol_229 @0x154c9ba28> #<MOLECULE :mol_230 @0x154c8ef08>\n",
       " #<MOLECULE :mol_231 @0x154c7e428> #<MOLECULE :mol_232 @0x154c6f908>\n",
       " #<MOLECULE :mol_233 @0x154c61de8> #<MOLECULE :mol_234 @0x154c53308>\n",
       " #<MOLECULE :mol_235 @0x154c467e8> #<MOLECULE :mol_236 @0x154c39cc8>\n",
       " #<MOLECULE :mol_237 @0x154c281e8> #<MOLECULE :mol_238 @0x154c196c8>\n",
       " #<MOLECULE :mol_239 @0x154c0dba8> #<MOLECULE :mol_240 @0x154bfd0c8>\n",
       " #<MOLECULE :mol_241 @0x154bef5a8> #<MOLECULE :mol_242 @0x154be2a88>\n",
       " #<MOLECULE :mol_243 @0x154bd4f68> #<MOLECULE :mol_244 @0x154bc6488>\n",
       " #<MOLECULE :mol_245 @0x154bb8968> #<MOLECULE :mol_246 @0x154baae48>\n",
       " #<MOLECULE :mol_247 @0x154b9a368> #<MOLECULE :mol_248 @0x154b8d848>\n",
       " #<MOLECULE :mol_249 @0x154b80d28> #<MOLECULE :mol_250 @0x154b5f248>\n",
       " #<MOLECULE :mol_251 @0x154b51728> #<MOLECULE :mol_252 @0x154b44c08>\n",
       " #<MOLECULE :mol_253 @0x154b36128> #<MOLECULE :mol_254 @0x154b28608>\n",
       " #<MOLECULE :mol_255 @0x154b1aae8> #<MOLECULE :mol_256 @0x154b0b008>\n",
       " #<MOLECULE :mol_257 @0x154afd4e8> #<MOLECULE :mol_258 @0x154aef9c8>\n",
       " #<MOLECULE :mol_259 @0x154ae1ea8> #<MOLECULE :mol_260 @0x154ad23c8>\n",
       " #<MOLECULE :mol_261 @0x154ac58a8> #<MOLECULE :mol_262 @0x154ab8d88>\n",
       " #<MOLECULE :mol_263 @0x154aa82a8> #<MOLECULE :mol_264 @0x154a9a788>\n",
       " #<MOLECULE :mol_265 @0x154a8dc68> #<MOLECULE :mol_266 @0x154a7d188>\n",
       " #<MOLECULE :mol_267 @0x154a70668> #<MOLECULE :mol_268 @0x154a62b48>\n",
       " #<MOLECULE :mol_269 @0x154a51068> #<MOLECULE :mol_270 @0x154a45548>\n",
       " #<MOLECULE :mol_271 @0x154a37a28> #<MOLECULE :mol_272 @0x154a2af08>\n",
       " #<MOLECULE :mol_273 @0x15aa3a428> #<MOLECULE :mol_274 @0x15aa2b908>\n",
       " #<MOLECULE :mol_275 @0x15aa1cde8> #<MOLECULE :mol_276 @0x15aa0d308>\n",
       " #<MOLECULE :mol_277 @0x15aa007e8> #<MOLECULE :mol_278 @0x15a9f4cc8>\n",
       " #<MOLECULE :mol_279 @0x15a9e31e8> #<MOLECULE :mol_280 @0x15a9d56c8>\n",
       " #<MOLECULE :mol_281 @0x15a9c7ba8> #<MOLECULE :mol_282 @0x15a9510c8>)"
      ]
     },
     "execution_count": 27,
     "metadata": {},
     "output_type": "execute_result"
    }
   ],
   "source": [
    "*cl*"
   ]
  },
  {
   "cell_type": "code",
   "execution_count": 45,
   "metadata": {},
   "outputs": [
    {
     "data": {
      "application/vnd.jupyter.widget-view+json": {
       "model_id": "CA3759A2-C24F-47DD-89E5-FE03364B89A7",
       "version_major": 2,
       "version_minor": 0
      },
      "text/plain": [
       "#<NGLV:NGLWIDGET>"
      ]
     },
     "execution_count": 45,
     "metadata": {},
     "output_type": "execute_result"
    }
   ],
   "source": [
    "(show (first *cl*) :axes t)"
   ]
  },
  {
   "cell_type": "code",
   "execution_count": 1,
   "metadata": {},
   "outputs": [
    {
     "data": {
      "text/plain": [
       "*MP*"
      ]
     },
     "execution_count": 1,
     "metadata": {},
     "output_type": "execute_result"
    }
   ],
   "source": [
    "(defparameter *mp* (chem:make-aggregate))"
   ]
  },
  {
   "cell_type": "code",
   "execution_count": 2,
   "metadata": {},
   "outputs": [
    {
     "name": "stderr",
     "output_type": "stream",
     "text": [
      "\n",
      "Undefined variable *MEMB*\n",
      "\n",
      "An error occurred of type: UNBOUND-VARIABLE: \n",
      "  The variable *MEMB* is unbound.\n",
      "\n",
      "serious-condition backtrace:\n",
      "0: (ERROR UNBOUND-VARIABLE :NAME *MEMB*)\n",
      "1: (LAMBDA)\n",
      "\n"
     ]
    },
    {
     "data": {
      "text/plain": [
       "NIL"
      ]
     },
     "execution_count": 2,
     "metadata": {},
     "output_type": "execute_result"
    }
   ],
   "source": [
    "(chem:add-molecule *mp* (mol *memb* 0))"
   ]
  },
  {
   "cell_type": "code",
   "execution_count": null,
   "metadata": {},
   "outputs": [],
   "source": []
  },
  {
   "cell_type": "code",
   "execution_count": 47,
   "metadata": {},
   "outputs": [
    {
     "data": {
      "application/vnd.jupyter.widget-view+json": {
       "model_id": "39635BF8-009B-4B4A-AB82-CA97F680698B",
       "version_major": 2,
       "version_minor": 0
      },
      "text/plain": [
       "#<NGLV:NGLWIDGET>"
      ]
     },
     "execution_count": 47,
     "metadata": {},
     "output_type": "execute_result"
    }
   ],
   "source": [
    "(chem:make-oct-tree (mol *memb* 0) :interior-solute "
   ]
  },
  {
   "cell_type": "code",
   "execution_count": 44,
   "metadata": {},
   "outputs": [
    {
     "data": {
      "application/vnd.jupyter.widget-view+json": {
       "model_id": "EEE8AC55-96AF-4F18-93B9-5C05A4C7EF4F",
       "version_major": 2,
       "version_minor": 0
      },
      "text/plain": [
       "#<NGLV:NGLWIDGET>"
      ]
     },
     "execution_count": 44,
     "metadata": {},
     "output_type": "execute_result"
    }
   ],
   "source": [
    "*v*"
   ]
  },
  {
   "cell_type": "code",
   "execution_count": 33,
   "metadata": {},
   "outputs": [
    {
     "data": {
      "text/plain": [
       "*V*"
      ]
     },
     "execution_count": 33,
     "metadata": {},
     "output_type": "execute_result"
    }
   ],
   "source": [
    "(defparameter *v* (show (apply #'combine *cl*)))"
   ]
  },
  {
   "cell_type": "code",
   "execution_count": 37,
   "metadata": {},
   "outputs": [
    {
     "name": "stdout",
     "output_type": "stream",
     "text": [
      "CHEM:OCT-OCT-TREE-CREATE  Function\n",
      "CHEM:OCT-TREE-DELETE-SPHERE  Function\n",
      "CHEM:OCT-TREE-INIT-CHARGES  Function\n",
      "CHEM:OCT-TREE-UPDATE-CHARGE  Function\n"
     ]
    },
    {
     "data": {
      "text/plain": [
       "NIL"
      ]
     },
     "execution_count": 37,
     "metadata": {},
     "output_type": "execute_result"
    }
   ],
   "source": [
    "(apropos \"oct-tree\")"
   ]
  },
  {
   "cell_type": "code",
   "execution_count": null,
   "metadata": {},
   "outputs": [],
   "source": []
  },
  {
   "cell_type": "code",
   "execution_count": 34,
   "metadata": {},
   "outputs": [
    {
     "data": {
      "application/vnd.jupyter.widget-view+json": {
       "model_id": "03BCF2C9-58EA-4A7F-A4DF-8207ADA2B3C3",
       "version_major": 2,
       "version_minor": 0
      },
      "text/plain": [
       "#<NGLV:NGLWIDGET>"
      ]
     },
     "execution_count": 34,
     "metadata": {},
     "output_type": "execute_result"
    }
   ],
   "source": [
    "*v*"
   ]
  },
  {
   "cell_type": "code",
   "execution_count": 35,
   "metadata": {},
   "outputs": [
    {
     "data": {
      "text/plain": [
       "T"
      ]
     },
     "execution_count": 35,
     "metadata": {},
     "output_type": "execute_result"
    }
   ],
   "source": [
    "(nglv:add-axes *v*)"
   ]
  },
  {
   "cell_type": "code",
   "execution_count": 31,
   "metadata": {},
   "outputs": [
    {
     "data": {
      "text/plain": [
       "NIL"
      ]
     },
     "execution_count": 31,
     "metadata": {},
     "output_type": "execute_result"
    }
   ],
   "source": [
    "(do-molecules (mol *memb*) (when (= (chem:number-of-atoms mol) 134) (push mol *lipids*)))"
   ]
  },
  {
   "cell_type": "code",
   "execution_count": 22,
   "metadata": {},
   "outputs": [
    {
     "data": {
      "text/plain": [
       "#<AGGREGATE :PCPAOL @0x14393d828>"
      ]
     },
     "execution_count": 22,
     "metadata": {},
     "output_type": "execute_result"
    }
   ],
   "source": [
    "(save-cando *poc* \"source-dir:extensions;cando;src;data;poc.cando\")"
   ]
  },
  {
   "cell_type": "code",
   "execution_count": 32,
   "metadata": {},
   "outputs": [
    {
     "data": {
      "application/vnd.jupyter.widget-view+json": {
       "model_id": "C12848A0-11AE-46B7-9680-C82E15168EC7",
       "version_major": 2,
       "version_minor": 0
      },
      "text/plain": [
       "#<NGLV:NGLWIDGET>"
      ]
     },
     "execution_count": 32,
     "metadata": {},
     "output_type": "execute_result"
    }
   ],
   "source": [
    "(show (first *lipids*))"
   ]
  },
  {
   "cell_type": "code",
   "execution_count": 7,
   "metadata": {},
   "outputs": [
    {
     "data": {
      "text/plain": [
       "*MERCK*"
      ]
     },
     "execution_count": 7,
     "metadata": {},
     "output_type": "execute_result"
    }
   ],
   "source": [
    "(defparameter *merck* (chem:moe-read-aggregate (namestring (merge-pathnames \"merck_suvorexant_derivatives.moe\"))))"
   ]
  },
  {
   "cell_type": "code",
   "execution_count": 24,
   "metadata": {},
   "outputs": [
    {
     "data": {
      "text/plain": [
       "NIL"
      ]
     },
     "execution_count": 24,
     "metadata": {},
     "output_type": "execute_result"
    }
   ],
   "source": [
    "(chem:setf-force-field-name (mol *merck* 0) :default)"
   ]
  },
  {
   "cell_type": "code",
   "execution_count": 25,
   "metadata": {},
   "outputs": [
    {
     "data": {
      "text/plain": [
       "NIL"
      ]
     },
     "execution_count": 25,
     "metadata": {},
     "output_type": "execute_result"
    }
   ],
   "source": [
    "(chem:setf-force-field-name (mol *merck* 1) :default)"
   ]
  },
  {
   "cell_type": "code",
   "execution_count": null,
   "metadata": {},
   "outputs": [],
   "source": [
    "(assign-atom-types)"
   ]
  },
  {
   "cell_type": "code",
   "execution_count": 22,
   "metadata": {},
   "outputs": [
    {
     "data": {
      "application/vnd.jupyter.widget-view+json": {
       "model_id": "044E3B9F-324A-4BAA-B9D9-63B1B25DFA7F",
       "version_major": 2,
       "version_minor": 0
      },
      "text/plain": [
       "#<NGLV:NGLWIDGET>"
      ]
     },
     "execution_count": 22,
     "metadata": {},
     "output_type": "execute_result"
    }
   ],
   "source": [
    "(show *merck* :axes t)"
   ]
  },
  {
   "cell_type": "code",
   "execution_count": 8,
   "metadata": {},
   "outputs": [
    {
     "data": {
      "text/plain": [
       "*V*"
      ]
     },
     "execution_count": 8,
     "metadata": {},
     "output_type": "execute_result"
    }
   ],
   "source": [
    "(defparameter *v* (show *merck*))"
   ]
  },
  {
   "cell_type": "code",
   "execution_count": 9,
   "metadata": {},
   "outputs": [
    {
     "data": {
      "application/vnd.jupyter.widget-view+json": {
       "model_id": "8EC726AD-C98F-4B82-9AEF-4546665E95C0",
       "version_major": 2,
       "version_minor": 0
      },
      "text/plain": [
       "#<NGLV:NGLWIDGET>"
      ]
     },
     "execution_count": 9,
     "metadata": {},
     "output_type": "execute_result"
    }
   ],
   "source": [
    "*v*"
   ]
  },
  {
   "cell_type": "code",
   "execution_count": 25,
   "metadata": {},
   "outputs": [
    {
     "data": {
      "text/plain": [
       "T"
      ]
     },
     "execution_count": 25,
     "metadata": {},
     "output_type": "execute_result"
    }
   ],
   "source": [
    "(nglv::add-axes *v*)"
   ]
  },
  {
   "cell_type": "code",
   "execution_count": 26,
   "metadata": {},
   "outputs": [
    {
     "data": {
      "text/plain": [
       "*CC*"
      ]
     },
     "execution_count": 26,
     "metadata": {},
     "output_type": "execute_result"
    }
   ],
   "source": [
    "(defparameter *cc* (chem:geometric-center *merck*))"
   ]
  },
  {
   "cell_type": "code",
   "execution_count": 27,
   "metadata": {},
   "outputs": [
    {
     "data": {
      "text/plain": [
       "NIL"
      ]
     },
     "execution_count": 27,
     "metadata": {},
     "output_type": "execute_result"
    }
   ],
   "source": [
    "(chem:apply-transform-to-atoms *merck* (geom:make-m4-translate (geom:v* *cc* -1.0)))"
   ]
  },
  {
   "cell_type": "code",
   "execution_count": 28,
   "metadata": {},
   "outputs": [
    {
     "data": {
      "text/plain": [
       "*V*"
      ]
     },
     "execution_count": 28,
     "metadata": {},
     "output_type": "execute_result"
    }
   ],
   "source": [
    "(defparameter *v* (show *merck*))"
   ]
  },
  {
   "cell_type": "code",
   "execution_count": 29,
   "metadata": {},
   "outputs": [
    {
     "data": {
      "application/vnd.jupyter.widget-view+json": {
       "model_id": "36B0E1E1-9BC9-404A-AFC0-EBD99DE6D5E4",
       "version_major": 2,
       "version_minor": 0
      },
      "text/plain": [
       "#<NGLV:NGLWIDGET>"
      ]
     },
     "execution_count": 29,
     "metadata": {},
     "output_type": "execute_result"
    }
   ],
   "source": [
    "*v*"
   ]
  },
  {
   "cell_type": "code",
   "execution_count": 33,
   "metadata": {},
   "outputs": [
    {
     "data": {
      "application/vnd.jupyter.widget-view+json": {
       "model_id": "AE2ADDD2-0CBE-41D8-B0A4-7D8C655C7BA5",
       "version_major": 2,
       "version_minor": 0
      },
      "text/plain": [
       "#<NGLV:NGLWIDGET>"
      ]
     },
     "execution_count": 33,
     "metadata": {},
     "output_type": "execute_result"
    }
   ],
   "source": [
    "(show (mol *merck* 6))"
   ]
  },
  {
   "cell_type": "code",
   "execution_count": 12,
   "metadata": {},
   "outputs": [
    {
     "data": {
      "text/plain": [
       "*MOLS*"
      ]
     },
     "execution_count": 12,
     "metadata": {},
     "output_type": "execute_result"
    }
   ],
   "source": [
    "(defparameter *mols* (chem:map-molecules 'list #'identity *merck*))"
   ]
  },
  {
   "cell_type": "code",
   "execution_count": 13,
   "metadata": {},
   "outputs": [
    {
     "data": {
      "text/plain": [
       "*LIGANDS*"
      ]
     },
     "execution_count": 13,
     "metadata": {},
     "output_type": "execute_result"
    }
   ],
   "source": [
    "(defparameter *ligands* (subseq *mols* 2 (length *mols*)))"
   ]
  },
  {
   "cell_type": "code",
   "execution_count": 14,
   "metadata": {},
   "outputs": [
    {
     "name": "stdout",
     "output_type": "stream",
     "text": [
      "; Compiling file: /Users/meister/Development/D3R-GC4/cando/tools.lisp\n",
      ";   (DEFPARAMETER *STAGE1-NONBOND-CUTOFF* ...)\n",
      ";   (DEFPARAMETER *STAGE1-SCALE-SKETCH-NONBOND* ...)\n",
      ";   (DEFPARAMETER *STAGE1-VELOCITY-SCALE* ...)\n",
      ";   (DEFPARAMETER *STAGE2-VELOCITY-SCALE* ...)\n",
      ";   (DEFPARAMETER *STAGE1-SKETCH-NONBOND-FORCE* ...)\n",
      ";   (DEFPARAMETER *FIRST-BOND-FORCE* ...)\n",
      ";   (DEFPARAMETER *BOND-LENGTH* ...)\n",
      ";   (DEFPARAMETER *RANDOM-SCALE* ...)\n",
      ";   (DEFPARAMETER *OOZP-SCALE* ...)\n",
      ";   (DEFUN DIFFERENT-FLOATS ...)\n",
      ";   (DEFCLASS ATOM-INFO ...)\n",
      ";   (DEFCLASS CHANGE-TRACKER ...)\n",
      ";   (DEFUN CLASSIFY-ATOM-INFO ...)\n",
      ";   (DEFUN DRAW-NAMES ...)\n",
      ";   (DEFUN MAKE-CHANGE-TRACKER ...)\n",
      ";   (DEFUN MESSAGE-IF-CHANGED ...)\n",
      ";   (DEFUN DUMP ...)\n",
      ";   (DEFMETHOD SHOW ...)\n",
      ";   (DEFUN EASY-LOAD-TOP-CRD ...)\n",
      ";   (DEFUN MAKE-HASH-TABLE-FROM-MATCHES ...)\n",
      ";   (DEFUN DRAW-NAME-FOR-MATCHES ...)\n",
      ";   (DEFCLASS ONE-MATCH ...)\n",
      ";   (DEFMETHOD PRINT-OBJECT ...)\n",
      ";   (DEFCLASS MANY-MATCHES ...)\n",
      ";   (DEFUN SKETCH-MATCH-MOLS ...)\n",
      ";   (DEFUN SKETCH-ONE-MATCH ...)\n",
      ";   (DEFUN LOAD-ALL-MOLECULES ...)\n",
      ";   (DEFUN GENERATE-COMMON-SUB-MOLECULE ...)\n",
      ";   (DEFUN MATCH-ALL-MOLECULES ...)\n",
      ";   (DEFCLASS OVERLAP-CLUSTERS ...)\n",
      ";   (DEFMETHOD PRINT-OBJECT ...)\n",
      ";   (DEFUN ADD-TO-CLUSTER ...)\n",
      ";   (DEFUN SORT-CLUSTERS ...)\n",
      ";   (DEFUN CLUSTER-MATCHES ...)\n",
      ";   (DEFUN MATCHES-IN-CLUSTER-WITHOUT-MOLECULE ...)\n",
      ";   (DEFUN REMOVE-MATCHES-WITH-MOLECULE-FROM-WORK-LIST ...)\n",
      ";   (DEFUN GATHER-REMAINING-MOLECULES ...)\n",
      ";   (DEFUN FIND-SMALLEST-MATCH ...)\n",
      ";   (DEFUN UNIQUE-MOLECULES-IN-CLUSTER ...)\n",
      ";   (DEFCLASS GRAPH ...)\n",
      ";   (DEFCLASS NODE ...)\n",
      ";   (DEFMETHOD PRINT-OBJECT ...)\n",
      ";   (DEFCLASS EDGE ...)\n",
      ";   (DEFMETHOD PRINT-OBJECT ...)\n",
      ";   (DEFUN GRAPH-FOR-CLUSTER ...)\n",
      ";   (DEFUN GRAPH-STEP ...)\n",
      ";   (DEFUN ONCE-FILL-GRAPH-USING-CLUSTERS ...)\n",
      ";   (DEFUN FILL-GRAPH-USING-CLUSTERS ...)\n",
      ";   (DEFUN MEMOIZED-SKETCH-SVG ...)\n",
      ";   (DEFUN RENDER-NODES ...)\n",
      ";   (DEFCLASS NODE-TABLE ...)\n",
      ";   (DEFCLASS DUMMY-SKETCH-NONBOND-FF ...)\n",
      ";   (DEFMETHOD CHEM:MAKE-NODE-TABLE-FROM-GRAPH ...)\n",
      ";   (DEFMETHOD CHEM:NODE-TABLE-SIZE ...)\n",
      ";   (DEFMETHOD CHEM:NODE-TABLE-COORDINATE-INDEX-TIMES3 ...)\n",
      ";   (DEFMETHOD CHEM:NODE-TABLE-NODE-AT-INDEX ...)\n",
      ";   (DEFMETHOD CHEM:NODE-GET-POSITION ...)\n",
      ";   (DEFMETHOD CHEM:NODE-SET-POSITION ...)\n",
      ";   (DEFUN PREPARE-SKETCH-FUNCTION ...)\n",
      ";   (DEFUN GRAPH-DYNAMICS ...)\n",
      ";   (DEFUN ADD-FLATTEN-FUNCTION ...)\n",
      ";   (DEFUN ADVANCE-SIMULATION ...)\n",
      ";   (DEFUN RUN-SIMULATION ...)\n",
      ";   (DEFUN SVG-BOUNDING-BOX ...)\n",
      ";   (DEFUN RENDER-SVG ...)\n",
      ";   (DEFUN DUMP-COORDINATES ...)\n",
      ";   (DEFUN DUMP-EDGE-LENGTHS ...)\n",
      "Writing temporary bitcode file to: #P\"/Users/meister/Development/D3R-GC4/cando/tools.ll\"\n",
      "Writing fasl file to: #P\"/Users/meister/Development/D3R-GC4/cando/tools.fasl\"\n"
     ]
    },
    {
     "name": "stderr",
     "output_type": "stream",
     "text": [
      "\n",
      "Undefined variable *PRM7TOP7-PATHNAME-DEFAULTS*\n"
     ]
    },
    {
     "data": {
      "text/plain": [
       "T"
      ]
     },
     "execution_count": 14,
     "metadata": {},
     "output_type": "execute_result"
    }
   ],
   "source": [
    "(load (compile-file \"~/Development/D3R-GC4/cando/tools.lisp\"))"
   ]
  },
  {
   "cell_type": "code",
   "execution_count": 15,
   "metadata": {},
   "outputs": [
    {
     "name": "stdout",
     "output_type": "stream",
     "text": [
      "Missing-h NIL\n"
     ]
    },
    {
     "data": {
      "image/svg+xml": [
       "<?xml version=\"1.0\" standalone=\"no\"?>\n",
       "<svg viewport=\"0 0 453 221\" height=\"221\" width=\"453\" version=\"1.2\" id=\"\"\n",
       "    xmlns=\"http://www.w3.org/2000/svg\"\n",
       "    xmlns:xlink=\"http://www.w3.org/1999/xlink\">\n",
       "  <line x1=\"66.77\" y1=\"82.86\" x2=\"62.56\" y2=\"61.01\" fill=\"none\" stroke=\"black\"\n",
       "        stroke-width=\"2\" stroke-linecap=\"round\"/>\n",
       "  <line x1=\"71.68\" y1=\"81.92\" x2=\"68.22\" y2=\"63.99\" fill=\"none\" stroke=\"black\"\n",
       "        stroke-width=\"2\" stroke-linecap=\"round\"/>\n",
       "  <line x1=\"77.44\" y1=\"92.50\" x2=\"90.59\" y2=\"93.67\" fill=\"none\" stroke=\"black\"\n",
       "        stroke-width=\"2\" stroke-linecap=\"round\"/>\n",
       "  <line x1=\"62.56\" y1=\"61.01\" x2=\"89.64\" y2=\"45.75\" fill=\"none\" stroke=\"black\"\n",
       "        stroke-width=\"2\" stroke-linecap=\"round\"/>\n",
       "  <line x1=\"89.64\" y1=\"45.75\" x2=\"106.27\" y2=\"60.80\" fill=\"none\" stroke=\"black\"\n",
       "        stroke-width=\"2\" stroke-linecap=\"round\"/>\n",
       "  <line x1=\"89.25\" y1=\"52.14\" x2=\"102.91\" y2=\"64.50\" fill=\"none\" stroke=\"black\"\n",
       "        stroke-width=\"2\" stroke-linecap=\"round\"/>\n",
       "  <line x1=\"109.02\" y1=\"74.93\" x2=\"103.47\" y2=\"86.37\" fill=\"none\"\n",
       "        stroke=\"black\" stroke-width=\"2\" stroke-linecap=\"round\"/>\n",
       "  <line x1=\"103.84\" y1=\"102.38\" x2=\"114.36\" y2=\"121.77\" fill=\"none\"\n",
       "        stroke=\"black\" stroke-width=\"2\" stroke-linecap=\"round\"/>\n",
       "  <line x1=\"97.14\" y1=\"147.79\" x2=\"111.23\" y2=\"174.44\" fill=\"none\"\n",
       "        stroke=\"black\" stroke-width=\"2\" stroke-linecap=\"round\"/>\n",
       "  <line x1=\"103.43\" y1=\"148.99\" x2=\"113.78\" y2=\"168.56\" fill=\"none\"\n",
       "        stroke=\"black\" stroke-width=\"2\" stroke-linecap=\"round\"/>\n",
       "  <line x1=\"97.14\" y1=\"147.79\" x2=\"114.36\" y2=\"121.77\" fill=\"none\"\n",
       "        stroke=\"black\" stroke-width=\"2\" stroke-linecap=\"round\"/>\n",
       "  <line x1=\"111.23\" y1=\"174.44\" x2=\"142.75\" y2=\"175.11\" fill=\"none\"\n",
       "        stroke=\"black\" stroke-width=\"2\" stroke-linecap=\"round\"/>\n",
       "  <line x1=\"142.75\" y1=\"175.11\" x2=\"159.52\" y2=\"149.95\" fill=\"none\"\n",
       "        stroke=\"black\" stroke-width=\"2\" stroke-linecap=\"round\"/>\n",
       "  <line x1=\"140.81\" y1=\"169.01\" x2=\"153.14\" y2=\"150.51\" fill=\"none\"\n",
       "        stroke=\"black\" stroke-width=\"2\" stroke-linecap=\"round\"/>\n",
       "  <line x1=\"142.75\" y1=\"175.11\" x2=\"156.54\" y2=\"202.88\" fill=\"none\"\n",
       "        stroke=\"black\" stroke-width=\"2\" stroke-linecap=\"round\"/>\n",
       "  <line x1=\"159.52\" y1=\"149.95\" x2=\"144.59\" y2=\"123.09\" fill=\"none\"\n",
       "        stroke=\"black\" stroke-width=\"2\" stroke-linecap=\"round\"/>\n",
       "  <line x1=\"144.59\" y1=\"123.09\" x2=\"114.36\" y2=\"121.77\" fill=\"none\"\n",
       "        stroke=\"black\" stroke-width=\"2\" stroke-linecap=\"round\"/>\n",
       "  <line x1=\"140.37\" y1=\"127.91\" x2=\"118.14\" y2=\"126.94\" fill=\"none\"\n",
       "        stroke=\"black\" stroke-width=\"2\" stroke-linecap=\"round\"/>\n",
       "  <line x1=\"144.59\" y1=\"123.09\" x2=\"160.48\" y2=\"96.09\" fill=\"none\"\n",
       "        stroke=\"black\" stroke-width=\"2\" stroke-linecap=\"round\"/>\n",
       "  <line x1=\"150.73\" y1=\"76.21\" x2=\"162.58\" y2=\"94.74\" fill=\"none\"\n",
       "        stroke=\"black\" stroke-width=\"2\" stroke-linecap=\"round\"/>\n",
       "  <line x1=\"146.52\" y1=\"78.91\" x2=\"158.37\" y2=\"97.43\" fill=\"none\"\n",
       "        stroke=\"black\" stroke-width=\"2\" stroke-linecap=\"round\"/>\n",
       "  <line x1=\"160.48\" y1=\"96.09\" x2=\"182.25\" y2=\"94.14\" fill=\"none\"\n",
       "        stroke=\"black\" stroke-width=\"2\" stroke-linecap=\"round\"/>\n",
       "  <line x1=\"196.28\" y1=\"100.77\" x2=\"208.35\" y2=\"118.48\" fill=\"none\"\n",
       "        stroke=\"black\" stroke-width=\"2\" stroke-linecap=\"round\"/>\n",
       "  <line x1=\"193.72\" y1=\"84.69\" x2=\"199.68\" y2=\"64.06\" fill=\"none\"\n",
       "        stroke=\"black\" stroke-width=\"2\" stroke-linecap=\"round\"/>\n",
       "  <line x1=\"208.35\" y1=\"118.48\" x2=\"239.34\" y2=\"120.41\" fill=\"none\"\n",
       "        stroke=\"black\" stroke-width=\"2\" stroke-linecap=\"round\"/>\n",
       "  <line x1=\"239.34\" y1=\"120.41\" x2=\"253.59\" y2=\"104.36\" fill=\"none\"\n",
       "        stroke=\"black\" stroke-width=\"2\" stroke-linecap=\"round\"/>\n",
       "  <line x1=\"176.75\" y1=\"43.56\" x2=\"199.68\" y2=\"64.06\" fill=\"none\"\n",
       "        stroke=\"black\" stroke-width=\"2\" stroke-linecap=\"round\"/>\n",
       "  <line x1=\"199.68\" y1=\"64.06\" x2=\"227.95\" y2=\"51.77\" fill=\"none\"\n",
       "        stroke=\"black\" stroke-width=\"2\" stroke-linecap=\"round\"/>\n",
       "  <line x1=\"227.95\" y1=\"51.77\" x2=\"254.48\" y2=\"66.75\" fill=\"none\"\n",
       "        stroke=\"black\" stroke-width=\"2\" stroke-linecap=\"round\"/>\n",
       "  <line x1=\"254.48\" y1=\"66.75\" x2=\"258.10\" y2=\"88.75\" fill=\"none\"\n",
       "        stroke=\"black\" stroke-width=\"2\" stroke-linecap=\"round\"/>\n",
       "  <line x1=\"268.42\" y1=\"99.24\" x2=\"289.50\" y2=\"103.08\" fill=\"none\"\n",
       "        stroke=\"black\" stroke-width=\"2\" stroke-linecap=\"round\"/>\n",
       "  <line x1=\"289.50\" y1=\"103.08\" x2=\"301.01\" y2=\"122.46\" fill=\"none\"\n",
       "        stroke=\"black\" stroke-width=\"2\" stroke-linecap=\"round\"/>\n",
       "  <line x1=\"295.84\" y1=\"103.97\" x2=\"305.30\" y2=\"119.91\" fill=\"none\"\n",
       "        stroke=\"black\" stroke-width=\"2\" stroke-linecap=\"round\"/>\n",
       "  <line x1=\"289.50\" y1=\"103.08\" x2=\"303.52\" y2=\"85.85\" fill=\"none\"\n",
       "        stroke=\"black\" stroke-width=\"2\" stroke-linecap=\"round\"/>\n",
       "  <line x1=\"314.26\" y1=\"127.76\" x2=\"335.57\" y2=\"121.76\" fill=\"none\"\n",
       "        stroke=\"black\" stroke-width=\"2\" stroke-linecap=\"round\"/>\n",
       "  <line x1=\"335.57\" y1=\"121.76\" x2=\"361.13\" y2=\"139.12\" fill=\"none\"\n",
       "        stroke=\"black\" stroke-width=\"2\" stroke-linecap=\"round\"/>\n",
       "  <line x1=\"335.57\" y1=\"121.76\" x2=\"337.56\" y2=\"90.23\" fill=\"none\"\n",
       "        stroke=\"black\" stroke-width=\"2\" stroke-linecap=\"round\"/>\n",
       "  <line x1=\"330.83\" y1=\"117.45\" x2=\"332.32\" y2=\"93.91\" fill=\"none\"\n",
       "        stroke=\"black\" stroke-width=\"2\" stroke-linecap=\"round\"/>\n",
       "  <line x1=\"361.13\" y1=\"139.12\" x2=\"387.65\" y2=\"123.80\" fill=\"none\"\n",
       "        stroke=\"black\" stroke-width=\"2\" stroke-linecap=\"round\"/>\n",
       "  <line x1=\"362.09\" y1=\"132.79\" x2=\"381.69\" y2=\"121.47\" fill=\"none\"\n",
       "        stroke=\"black\" stroke-width=\"2\" stroke-linecap=\"round\"/>\n",
       "  <line x1=\"406.32\" y1=\"134.86\" x2=\"387.65\" y2=\"123.80\" fill=\"none\"\n",
       "        stroke=\"black\" stroke-width=\"2\" stroke-linecap=\"round\"/>\n",
       "  <line x1=\"387.65\" y1=\"123.80\" x2=\"389.83\" y2=\"92.34\" fill=\"none\"\n",
       "        stroke=\"black\" stroke-width=\"2\" stroke-linecap=\"round\"/>\n",
       "  <line x1=\"389.83\" y1=\"92.34\" x2=\"364.12\" y2=\"75.63\" fill=\"none\"\n",
       "        stroke=\"black\" stroke-width=\"2\" stroke-linecap=\"round\"/>\n",
       "  <line x1=\"383.75\" y1=\"94.36\" x2=\"364.75\" y2=\"82.01\" fill=\"none\"\n",
       "        stroke=\"black\" stroke-width=\"2\" stroke-linecap=\"round\"/>\n",
       "  <line x1=\"317.56\" y1=\"82.22\" x2=\"337.56\" y2=\"90.23\" fill=\"none\"\n",
       "        stroke=\"black\" stroke-width=\"2\" stroke-linecap=\"round\"/>\n",
       "  <line x1=\"337.56\" y1=\"90.23\" x2=\"364.12\" y2=\"75.63\" fill=\"none\"\n",
       "        stroke=\"black\" stroke-width=\"2\" stroke-linecap=\"round\"/>\n",
       "  <text x=\"99.55\" y=\"96.47\" text-anchor=\"middle\" alignment-baseline=\"middle\">\n",
       "    N\n",
       "  </text>\n",
       "  <text x=\"191.21\" y=\"95.34\" text-anchor=\"middle\" alignment-baseline=\"middle\">\n",
       "    N\n",
       "  </text>\n",
       "  <text x=\"305.60\" y=\"132.20\" text-anchor=\"middle\" alignment-baseline=\"middle\">\n",
       "    N\n",
       "  </text>\n",
       "  <text x=\"414.06\" y=\"141.45\" text-anchor=\"middle\" alignment-baseline=\"middle\">\n",
       "    Cl\n",
       "  </text>\n",
       "  <text x=\"143.78\" y=\"71.98\" text-anchor=\"middle\" alignment-baseline=\"middle\">\n",
       "    O\n",
       "  </text>\n",
       "  <text x=\"259.56\" y=\"99.63\" text-anchor=\"middle\" alignment-baseline=\"middle\">\n",
       "    N\n",
       "  </text>\n",
       "  <text x=\"112.94\" y=\"68.83\" text-anchor=\"middle\" alignment-baseline=\"middle\">\n",
       "    N\n",
       "  </text>\n",
       "  <text x=\"68.47\" y=\"93.70\" text-anchor=\"middle\" alignment-baseline=\"middle\">\n",
       "    N\n",
       "  </text>\n",
       "  <text x=\"309.20\" y=\"80.87\" text-anchor=\"middle\" alignment-baseline=\"middle\">\n",
       "    O\n",
       "  </text>\n",
       "</svg>\n"
      ],
      "text/plain": [
       "#<CL-JUPYTER-USER::SVG-STR>"
      ]
     },
     "execution_count": 15,
     "metadata": {},
     "output_type": "execute_result"
    }
   ],
   "source": [
    "(show (sketch2d:sketch2d (first *ligands*)))"
   ]
  },
  {
   "cell_type": "code",
   "execution_count": 16,
   "metadata": {},
   "outputs": [
    {
     "name": "stdout",
     "output_type": "stream",
     "text": [
      "Missing-h NIL\n"
     ]
    },
    {
     "data": {
      "image/svg+xml": [
       "<?xml version=\"1.0\" standalone=\"no\"?>\n",
       "<svg viewport=\"0 0 436 203\" height=\"203\" width=\"436\" version=\"1.2\" id=\"\"\n",
       "    xmlns=\"http://www.w3.org/2000/svg\"\n",
       "    xmlns:xlink=\"http://www.w3.org/1999/xlink\">\n",
       "  <line x1=\"73.70\" y1=\"29.61\" x2=\"91.46\" y2=\"41.91\" fill=\"none\" stroke=\"black\"\n",
       "        stroke-width=\"2\" stroke-linecap=\"round\"/>\n",
       "  <line x1=\"97.54\" y1=\"55.93\" x2=\"94.31\" y2=\"77.69\" fill=\"none\" stroke=\"black\"\n",
       "        stroke-width=\"2\" stroke-linecap=\"round\"/>\n",
       "  <line x1=\"52.67\" y1=\"175.88\" x2=\"73.45\" y2=\"170.07\" fill=\"none\"\n",
       "        stroke=\"black\" stroke-width=\"2\" stroke-linecap=\"round\"/>\n",
       "  <line x1=\"65.59\" y1=\"88.94\" x2=\"62.15\" y2=\"118.90\" fill=\"none\" stroke=\"black\"\n",
       "        stroke-width=\"2\" stroke-linecap=\"round\"/>\n",
       "  <line x1=\"70.10\" y1=\"93.49\" x2=\"67.57\" y2=\"115.50\" fill=\"none\" stroke=\"black\"\n",
       "        stroke-width=\"2\" stroke-linecap=\"round\"/>\n",
       "  <line x1=\"65.59\" y1=\"88.94\" x2=\"94.31\" y2=\"77.69\" fill=\"none\" stroke=\"black\"\n",
       "        stroke-width=\"2\" stroke-linecap=\"round\"/>\n",
       "  <line x1=\"62.15\" y1=\"118.90\" x2=\"87.12\" y2=\"137.52\" fill=\"none\"\n",
       "        stroke=\"black\" stroke-width=\"2\" stroke-linecap=\"round\"/>\n",
       "  <line x1=\"87.12\" y1=\"137.52\" x2=\"116.50\" y2=\"125.94\" fill=\"none\"\n",
       "        stroke=\"black\" stroke-width=\"2\" stroke-linecap=\"round\"/>\n",
       "  <line x1=\"89.01\" y1=\"131.40\" x2=\"110.94\" y2=\"122.76\" fill=\"none\"\n",
       "        stroke=\"black\" stroke-width=\"2\" stroke-linecap=\"round\"/>\n",
       "  <line x1=\"87.12\" y1=\"137.52\" x2=\"83.59\" y2=\"158.76\" fill=\"none\"\n",
       "        stroke=\"black\" stroke-width=\"2\" stroke-linecap=\"round\"/>\n",
       "  <line x1=\"116.50\" y1=\"125.94\" x2=\"119.50\" y2=\"95.87\" fill=\"none\"\n",
       "        stroke=\"black\" stroke-width=\"2\" stroke-linecap=\"round\"/>\n",
       "  <line x1=\"119.50\" y1=\"95.87\" x2=\"94.31\" y2=\"77.69\" fill=\"none\" stroke=\"black\"\n",
       "        stroke-width=\"2\" stroke-linecap=\"round\"/>\n",
       "  <line x1=\"113.33\" y1=\"97.58\" x2=\"94.63\" y2=\"84.08\" fill=\"none\" stroke=\"black\"\n",
       "        stroke-width=\"2\" stroke-linecap=\"round\"/>\n",
       "  <line x1=\"119.50\" y1=\"95.87\" x2=\"144.98\" y2=\"79.24\" fill=\"none\"\n",
       "        stroke=\"black\" stroke-width=\"2\" stroke-linecap=\"round\"/>\n",
       "  <line x1=\"142.58\" y1=\"56.61\" x2=\"147.43\" y2=\"78.71\" fill=\"none\"\n",
       "        stroke=\"black\" stroke-width=\"2\" stroke-linecap=\"round\"/>\n",
       "  <line x1=\"137.70\" y1=\"57.68\" x2=\"142.54\" y2=\"79.78\" fill=\"none\"\n",
       "        stroke=\"black\" stroke-width=\"2\" stroke-linecap=\"round\"/>\n",
       "  <line x1=\"144.98\" y1=\"79.24\" x2=\"166.61\" y2=\"81.59\" fill=\"none\"\n",
       "        stroke=\"black\" stroke-width=\"2\" stroke-linecap=\"round\"/>\n",
       "  <line x1=\"179.63\" y1=\"90.58\" x2=\"189.75\" y2=\"110.55\" fill=\"none\"\n",
       "        stroke=\"black\" stroke-width=\"2\" stroke-linecap=\"round\"/>\n",
       "  <line x1=\"189.75\" y1=\"110.55\" x2=\"220.43\" y2=\"115.59\" fill=\"none\"\n",
       "        stroke=\"black\" stroke-width=\"2\" stroke-linecap=\"round\"/>\n",
       "  <line x1=\"188.16\" y1=\"54.84\" x2=\"179.29\" y2=\"74.36\" fill=\"none\"\n",
       "        stroke=\"black\" stroke-width=\"2\" stroke-linecap=\"round\"/>\n",
       "  <line x1=\"188.16\" y1=\"54.84\" x2=\"217.91\" y2=\"45.83\" fill=\"none\"\n",
       "        stroke=\"black\" stroke-width=\"2\" stroke-linecap=\"round\"/>\n",
       "  <line x1=\"217.91\" y1=\"45.83\" x2=\"241.76\" y2=\"64.37\" fill=\"none\"\n",
       "        stroke=\"black\" stroke-width=\"2\" stroke-linecap=\"round\"/>\n",
       "  <line x1=\"241.76\" y1=\"64.37\" x2=\"242.84\" y2=\"85.98\" fill=\"none\"\n",
       "        stroke=\"black\" stroke-width=\"2\" stroke-linecap=\"round\"/>\n",
       "  <line x1=\"236.60\" y1=\"101.00\" x2=\"220.43\" y2=\"115.59\" fill=\"none\"\n",
       "        stroke=\"black\" stroke-width=\"2\" stroke-linecap=\"round\"/>\n",
       "  <line x1=\"251.92\" y1=\"97.50\" x2=\"272.62\" y2=\"103.58\" fill=\"none\"\n",
       "        stroke=\"black\" stroke-width=\"2\" stroke-linecap=\"round\"/>\n",
       "  <line x1=\"272.62\" y1=\"103.58\" x2=\"287.02\" y2=\"86.09\" fill=\"none\"\n",
       "        stroke=\"black\" stroke-width=\"2\" stroke-linecap=\"round\"/>\n",
       "  <line x1=\"279.03\" y1=\"103.67\" x2=\"290.88\" y2=\"89.27\" fill=\"none\"\n",
       "        stroke=\"black\" stroke-width=\"2\" stroke-linecap=\"round\"/>\n",
       "  <line x1=\"272.62\" y1=\"103.58\" x2=\"283.71\" y2=\"122.36\" fill=\"none\"\n",
       "        stroke=\"black\" stroke-width=\"2\" stroke-linecap=\"round\"/>\n",
       "  <line x1=\"300.92\" y1=\"82.88\" x2=\"321.32\" y2=\"92.21\" fill=\"none\"\n",
       "        stroke=\"black\" stroke-width=\"2\" stroke-linecap=\"round\"/>\n",
       "  <line x1=\"321.32\" y1=\"92.21\" x2=\"348.32\" y2=\"77.26\" fill=\"none\"\n",
       "        stroke=\"black\" stroke-width=\"2\" stroke-linecap=\"round\"/>\n",
       "  <line x1=\"321.32\" y1=\"92.21\" x2=\"318.30\" y2=\"122.70\" fill=\"none\"\n",
       "        stroke=\"black\" stroke-width=\"2\" stroke-linecap=\"round\"/>\n",
       "  <line x1=\"325.90\" y1=\"96.68\" x2=\"323.67\" y2=\"119.22\" fill=\"none\"\n",
       "        stroke=\"black\" stroke-width=\"2\" stroke-linecap=\"round\"/>\n",
       "  <line x1=\"348.32\" y1=\"77.26\" x2=\"373.15\" y2=\"95.20\" fill=\"none\"\n",
       "        stroke=\"black\" stroke-width=\"2\" stroke-linecap=\"round\"/>\n",
       "  <line x1=\"348.63\" y1=\"83.66\" x2=\"366.98\" y2=\"96.91\" fill=\"none\"\n",
       "        stroke=\"black\" stroke-width=\"2\" stroke-linecap=\"round\"/>\n",
       "  <line x1=\"373.15\" y1=\"95.20\" x2=\"370.77\" y2=\"125.55\" fill=\"none\"\n",
       "        stroke=\"black\" stroke-width=\"2\" stroke-linecap=\"round\"/>\n",
       "  <line x1=\"388.81\" y1=\"137.31\" x2=\"370.77\" y2=\"125.55\" fill=\"none\"\n",
       "        stroke=\"black\" stroke-width=\"2\" stroke-linecap=\"round\"/>\n",
       "  <line x1=\"370.77\" y1=\"125.55\" x2=\"342.98\" y2=\"140.50\" fill=\"none\"\n",
       "        stroke=\"black\" stroke-width=\"2\" stroke-linecap=\"round\"/>\n",
       "  <line x1=\"364.87\" y1=\"123.04\" x2=\"344.13\" y2=\"134.20\" fill=\"none\"\n",
       "        stroke=\"black\" stroke-width=\"2\" stroke-linecap=\"round\"/>\n",
       "  <line x1=\"297.03\" y1=\"127.95\" x2=\"318.30\" y2=\"122.70\" fill=\"none\"\n",
       "        stroke=\"black\" stroke-width=\"2\" stroke-linecap=\"round\"/>\n",
       "  <line x1=\"318.30\" y1=\"122.70\" x2=\"342.98\" y2=\"140.50\" fill=\"none\"\n",
       "        stroke=\"black\" stroke-width=\"2\" stroke-linecap=\"round\"/>\n",
       "  <text x=\"396.35\" y=\"144.22\" text-anchor=\"middle\" alignment-baseline=\"middle\">\n",
       "    Cl\n",
       "  </text>\n",
       "  <text x=\"82.12\" y=\"169.64\" text-anchor=\"middle\" alignment-baseline=\"middle\">\n",
       "    O\n",
       "  </text>\n",
       "  <text x=\"292.74\" y=\"81.14\" text-anchor=\"middle\" alignment-baseline=\"middle\">\n",
       "    N\n",
       "  </text>\n",
       "  <text x=\"243.28\" y=\"96.96\" text-anchor=\"middle\" alignment-baseline=\"middle\">\n",
       "    N\n",
       "  </text>\n",
       "  <text x=\"288.29\" y=\"132.11\" text-anchor=\"middle\" alignment-baseline=\"middle\">\n",
       "    S\n",
       "  </text>\n",
       "  <text x=\"138.22\" y=\"50.35\" text-anchor=\"middle\" alignment-baseline=\"middle\">\n",
       "    O\n",
       "  </text>\n",
       "  <text x=\"98.86\" y=\"49.03\" text-anchor=\"middle\" alignment-baseline=\"middle\">\n",
       "    O\n",
       "  </text>\n",
       "  <text x=\"175.56\" y=\"84.55\" text-anchor=\"middle\" alignment-baseline=\"middle\">\n",
       "    N\n",
       "  </text>\n",
       "</svg>\n"
      ],
      "text/plain": [
       "#<CL-JUPYTER-USER::SVG-STR>"
      ]
     },
     "execution_count": 16,
     "metadata": {},
     "output_type": "execute_result"
    }
   ],
   "source": [
    "(show (sketch2d:sketch2d (second *ligands*)))"
   ]
  },
  {
   "cell_type": "code",
   "execution_count": 17,
   "metadata": {},
   "outputs": [
    {
     "name": "stdout",
     "output_type": "stream",
     "text": [
      "Missing-h NIL\n"
     ]
    },
    {
     "data": {
      "image/svg+xml": [
       "<?xml version=\"1.0\" standalone=\"no\"?>\n",
       "<svg viewport=\"0 0 431 210\" height=\"210\" width=\"431\" version=\"1.2\" id=\"\"\n",
       "    xmlns=\"http://www.w3.org/2000/svg\"\n",
       "    xmlns:xlink=\"http://www.w3.org/1999/xlink\">\n",
       "  <line x1=\"62.78\" y1=\"39.51\" x2=\"81.72\" y2=\"49.88\" fill=\"none\" stroke=\"black\"\n",
       "        stroke-width=\"2\" stroke-linecap=\"round\"/>\n",
       "  <line x1=\"89.31\" y1=\"63.19\" x2=\"88.56\" y2=\"84.96\" fill=\"none\" stroke=\"black\"\n",
       "        stroke-width=\"2\" stroke-linecap=\"round\"/>\n",
       "  <line x1=\"88.56\" y1=\"84.96\" x2=\"60.80\" y2=\"99.30\" fill=\"none\" stroke=\"black\"\n",
       "        stroke-width=\"2\" stroke-linecap=\"round\"/>\n",
       "  <line x1=\"56.76\" y1=\"187.41\" x2=\"77.53\" y2=\"179.41\" fill=\"none\"\n",
       "        stroke=\"black\" stroke-width=\"2\" stroke-linecap=\"round\"/>\n",
       "  <line x1=\"86.36\" y1=\"167.18\" x2=\"87.42\" y2=\"144.93\" fill=\"none\"\n",
       "        stroke=\"black\" stroke-width=\"2\" stroke-linecap=\"round\"/>\n",
       "  <line x1=\"60.80\" y1=\"99.30\" x2=\"60.58\" y2=\"129.78\" fill=\"none\" stroke=\"black\"\n",
       "        stroke-width=\"2\" stroke-linecap=\"round\"/>\n",
       "  <line x1=\"65.77\" y1=\"103.33\" x2=\"65.61\" y2=\"125.82\" fill=\"none\"\n",
       "        stroke=\"black\" stroke-width=\"2\" stroke-linecap=\"round\"/>\n",
       "  <line x1=\"60.58\" y1=\"129.78\" x2=\"87.42\" y2=\"144.93\" fill=\"none\"\n",
       "        stroke=\"black\" stroke-width=\"2\" stroke-linecap=\"round\"/>\n",
       "  <line x1=\"115.18\" y1=\"131.35\" x2=\"87.42\" y2=\"144.93\" fill=\"none\"\n",
       "        stroke=\"black\" stroke-width=\"2\" stroke-linecap=\"round\"/>\n",
       "  <line x1=\"109.39\" y1=\"128.61\" x2=\"88.81\" y2=\"138.68\" fill=\"none\"\n",
       "        stroke=\"black\" stroke-width=\"2\" stroke-linecap=\"round\"/>\n",
       "  <line x1=\"115.18\" y1=\"131.35\" x2=\"114.94\" y2=\"100.28\" fill=\"none\"\n",
       "        stroke=\"black\" stroke-width=\"2\" stroke-linecap=\"round\"/>\n",
       "  <line x1=\"114.94\" y1=\"100.28\" x2=\"88.56\" y2=\"84.96\" fill=\"none\"\n",
       "        stroke=\"black\" stroke-width=\"2\" stroke-linecap=\"round\"/>\n",
       "  <line x1=\"108.97\" y1=\"102.60\" x2=\"89.51\" y2=\"91.29\" fill=\"none\"\n",
       "        stroke=\"black\" stroke-width=\"2\" stroke-linecap=\"round\"/>\n",
       "  <line x1=\"114.94\" y1=\"100.28\" x2=\"138.91\" y2=\"81.49\" fill=\"none\"\n",
       "        stroke=\"black\" stroke-width=\"2\" stroke-linecap=\"round\"/>\n",
       "  <line x1=\"135.35\" y1=\"59.65\" x2=\"141.32\" y2=\"80.81\" fill=\"none\"\n",
       "        stroke=\"black\" stroke-width=\"2\" stroke-linecap=\"round\"/>\n",
       "  <line x1=\"130.54\" y1=\"61.01\" x2=\"136.51\" y2=\"82.17\" fill=\"none\"\n",
       "        stroke=\"black\" stroke-width=\"2\" stroke-linecap=\"round\"/>\n",
       "  <line x1=\"138.91\" y1=\"81.49\" x2=\"161.41\" y2=\"83.41\" fill=\"none\"\n",
       "        stroke=\"black\" stroke-width=\"2\" stroke-linecap=\"round\"/>\n",
       "  <line x1=\"174.55\" y1=\"92.16\" x2=\"184.63\" y2=\"111.42\" fill=\"none\"\n",
       "        stroke=\"black\" stroke-width=\"2\" stroke-linecap=\"round\"/>\n",
       "  <line x1=\"184.63\" y1=\"111.42\" x2=\"214.93\" y2=\"116.03\" fill=\"none\"\n",
       "        stroke=\"black\" stroke-width=\"2\" stroke-linecap=\"round\"/>\n",
       "  <line x1=\"181.83\" y1=\"56.20\" x2=\"173.79\" y2=\"75.85\" fill=\"none\"\n",
       "        stroke=\"black\" stroke-width=\"2\" stroke-linecap=\"round\"/>\n",
       "  <line x1=\"181.83\" y1=\"56.20\" x2=\"211.36\" y2=\"46.54\" fill=\"none\"\n",
       "        stroke=\"black\" stroke-width=\"2\" stroke-linecap=\"round\"/>\n",
       "  <line x1=\"211.36\" y1=\"46.54\" x2=\"236.08\" y2=\"64.69\" fill=\"none\"\n",
       "        stroke=\"black\" stroke-width=\"2\" stroke-linecap=\"round\"/>\n",
       "  <line x1=\"236.08\" y1=\"64.69\" x2=\"237.11\" y2=\"86.52\" fill=\"none\"\n",
       "        stroke=\"black\" stroke-width=\"2\" stroke-linecap=\"round\"/>\n",
       "  <line x1=\"230.87\" y1=\"101.56\" x2=\"214.93\" y2=\"116.03\" fill=\"none\"\n",
       "        stroke=\"black\" stroke-width=\"2\" stroke-linecap=\"round\"/>\n",
       "  <line x1=\"246.13\" y1=\"98.18\" x2=\"266.93\" y2=\"104.64\" fill=\"none\"\n",
       "        stroke=\"black\" stroke-width=\"2\" stroke-linecap=\"round\"/>\n",
       "  <line x1=\"266.93\" y1=\"104.64\" x2=\"276.21\" y2=\"124.00\" fill=\"none\"\n",
       "        stroke=\"black\" stroke-width=\"2\" stroke-linecap=\"round\"/>\n",
       "  <line x1=\"273.17\" y1=\"106.09\" x2=\"280.72\" y2=\"121.84\" fill=\"none\"\n",
       "        stroke=\"black\" stroke-width=\"2\" stroke-linecap=\"round\"/>\n",
       "  <line x1=\"266.93\" y1=\"104.64\" x2=\"282.64\" y2=\"88.48\" fill=\"none\"\n",
       "        stroke=\"black\" stroke-width=\"2\" stroke-linecap=\"round\"/>\n",
       "  <line x1=\"289.00\" y1=\"130.75\" x2=\"310.51\" y2=\"127.45\" fill=\"none\"\n",
       "        stroke=\"black\" stroke-width=\"2\" stroke-linecap=\"round\"/>\n",
       "  <line x1=\"310.51\" y1=\"127.45\" x2=\"333.75\" y2=\"147.31\" fill=\"none\"\n",
       "        stroke=\"black\" stroke-width=\"2\" stroke-linecap=\"round\"/>\n",
       "  <line x1=\"310.51\" y1=\"127.45\" x2=\"315.92\" y2=\"96.79\" fill=\"none\"\n",
       "        stroke=\"black\" stroke-width=\"2\" stroke-linecap=\"round\"/>\n",
       "  <line x1=\"306.28\" y1=\"122.64\" x2=\"310.30\" y2=\"99.86\" fill=\"none\"\n",
       "        stroke=\"black\" stroke-width=\"2\" stroke-linecap=\"round\"/>\n",
       "  <line x1=\"333.75\" y1=\"147.31\" x2=\"362.69\" y2=\"135.43\" fill=\"none\"\n",
       "        stroke=\"black\" stroke-width=\"2\" stroke-linecap=\"round\"/>\n",
       "  <line x1=\"335.55\" y1=\"141.17\" x2=\"357.09\" y2=\"132.32\" fill=\"none\"\n",
       "        stroke=\"black\" stroke-width=\"2\" stroke-linecap=\"round\"/>\n",
       "  <line x1=\"362.69\" y1=\"135.43\" x2=\"367.74\" y2=\"105.33\" fill=\"none\"\n",
       "        stroke=\"black\" stroke-width=\"2\" stroke-linecap=\"round\"/>\n",
       "  <line x1=\"367.74\" y1=\"105.33\" x2=\"344.09\" y2=\"85.04\" fill=\"none\"\n",
       "        stroke=\"black\" stroke-width=\"2\" stroke-linecap=\"round\"/>\n",
       "  <line x1=\"361.45\" y1=\"106.52\" x2=\"343.87\" y2=\"91.44\" fill=\"none\"\n",
       "        stroke=\"black\" stroke-width=\"2\" stroke-linecap=\"round\"/>\n",
       "  <line x1=\"296.81\" y1=\"86.34\" x2=\"315.92\" y2=\"96.79\" fill=\"none\"\n",
       "        stroke=\"black\" stroke-width=\"2\" stroke-linecap=\"round\"/>\n",
       "  <line x1=\"315.92\" y1=\"96.79\" x2=\"344.09\" y2=\"85.04\" fill=\"none\"\n",
       "        stroke=\"black\" stroke-width=\"2\" stroke-linecap=\"round\"/>\n",
       "  <text x=\"280.11\" y=\"134.12\" text-anchor=\"middle\" alignment-baseline=\"middle\">\n",
       "    N\n",
       "  </text>\n",
       "  <text x=\"288.92\" y=\"84.02\" text-anchor=\"middle\" alignment-baseline=\"middle\">\n",
       "    S\n",
       "  </text>\n",
       "  <text x=\"170.38\" y=\"86.18\" text-anchor=\"middle\" alignment-baseline=\"middle\">\n",
       "    N\n",
       "  </text>\n",
       "  <text x=\"85.93\" y=\"178.17\" text-anchor=\"middle\" alignment-baseline=\"middle\">\n",
       "    O\n",
       "  </text>\n",
       "  <text x=\"89.62\" y=\"56.20\" text-anchor=\"middle\" alignment-baseline=\"middle\">\n",
       "    O\n",
       "  </text>\n",
       "  <text x=\"237.54\" y=\"97.51\" text-anchor=\"middle\" alignment-baseline=\"middle\">\n",
       "    N\n",
       "  </text>\n",
       "  <text x=\"130.50\" y=\"53.67\" text-anchor=\"middle\" alignment-baseline=\"middle\">\n",
       "    O\n",
       "  </text>\n",
       "</svg>\n"
      ],
      "text/plain": [
       "#<CL-JUPYTER-USER::SVG-STR>"
      ]
     },
     "execution_count": 17,
     "metadata": {},
     "output_type": "execute_result"
    }
   ],
   "source": [
    "(show (sketch2d:sketch2d (third *ligands*)))"
   ]
  },
  {
   "cell_type": "code",
   "execution_count": 18,
   "metadata": {},
   "outputs": [
    {
     "name": "stdout",
     "output_type": "stream",
     "text": [
      "Missing-h NIL\n"
     ]
    },
    {
     "data": {
      "image/svg+xml": [
       "<?xml version=\"1.0\" standalone=\"no\"?>\n",
       "<svg viewport=\"0 0 430 210\" height=\"210\" width=\"430\" version=\"1.2\" id=\"\"\n",
       "    xmlns=\"http://www.w3.org/2000/svg\"\n",
       "    xmlns:xlink=\"http://www.w3.org/1999/xlink\">\n",
       "  <line x1=\"62.86\" y1=\"39.27\" x2=\"81.58\" y2=\"49.73\" fill=\"none\" stroke=\"black\"\n",
       "        stroke-width=\"2\" stroke-linecap=\"round\"/>\n",
       "  <line x1=\"88.01\" y1=\"84.75\" x2=\"89.02\" y2=\"63.12\" fill=\"none\" stroke=\"black\"\n",
       "        stroke-width=\"2\" stroke-linecap=\"round\"/>\n",
       "  <line x1=\"88.01\" y1=\"84.75\" x2=\"61.04\" y2=\"98.96\" fill=\"none\" stroke=\"black\"\n",
       "        stroke-width=\"2\" stroke-linecap=\"round\"/>\n",
       "  <line x1=\"88.01\" y1=\"84.75\" x2=\"114.89\" y2=\"100.29\" fill=\"none\"\n",
       "        stroke=\"black\" stroke-width=\"2\" stroke-linecap=\"round\"/>\n",
       "  <line x1=\"88.97\" y1=\"91.08\" x2=\"108.93\" y2=\"102.62\" fill=\"none\"\n",
       "        stroke=\"black\" stroke-width=\"2\" stroke-linecap=\"round\"/>\n",
       "  <line x1=\"56.54\" y1=\"187.06\" x2=\"77.22\" y2=\"178.96\" fill=\"none\"\n",
       "        stroke=\"black\" stroke-width=\"2\" stroke-linecap=\"round\"/>\n",
       "  <line x1=\"86.06\" y1=\"166.69\" x2=\"87.18\" y2=\"144.77\" fill=\"none\"\n",
       "        stroke=\"black\" stroke-width=\"2\" stroke-linecap=\"round\"/>\n",
       "  <line x1=\"61.04\" y1=\"98.96\" x2=\"60.59\" y2=\"129.35\" fill=\"none\" stroke=\"black\"\n",
       "        stroke-width=\"2\" stroke-linecap=\"round\"/>\n",
       "  <line x1=\"65.98\" y1=\"103.03\" x2=\"65.64\" y2=\"125.43\" fill=\"none\"\n",
       "        stroke=\"black\" stroke-width=\"2\" stroke-linecap=\"round\"/>\n",
       "  <line x1=\"60.59\" y1=\"129.35\" x2=\"87.18\" y2=\"144.77\" fill=\"none\"\n",
       "        stroke=\"black\" stroke-width=\"2\" stroke-linecap=\"round\"/>\n",
       "  <line x1=\"87.18\" y1=\"144.77\" x2=\"114.94\" y2=\"131.03\" fill=\"none\"\n",
       "        stroke=\"black\" stroke-width=\"2\" stroke-linecap=\"round\"/>\n",
       "  <line x1=\"88.55\" y1=\"138.52\" x2=\"109.13\" y2=\"128.33\" fill=\"none\"\n",
       "        stroke=\"black\" stroke-width=\"2\" stroke-linecap=\"round\"/>\n",
       "  <line x1=\"114.94\" y1=\"131.03\" x2=\"114.89\" y2=\"100.29\" fill=\"none\"\n",
       "        stroke=\"black\" stroke-width=\"2\" stroke-linecap=\"round\"/>\n",
       "  <line x1=\"114.89\" y1=\"100.29\" x2=\"138.92\" y2=\"81.41\" fill=\"none\"\n",
       "        stroke=\"black\" stroke-width=\"2\" stroke-linecap=\"round\"/>\n",
       "  <line x1=\"135.28\" y1=\"59.48\" x2=\"141.33\" y2=\"80.72\" fill=\"none\"\n",
       "        stroke=\"black\" stroke-width=\"2\" stroke-linecap=\"round\"/>\n",
       "  <line x1=\"130.47\" y1=\"60.85\" x2=\"136.52\" y2=\"82.09\" fill=\"none\"\n",
       "        stroke=\"black\" stroke-width=\"2\" stroke-linecap=\"round\"/>\n",
       "  <line x1=\"138.92\" y1=\"81.41\" x2=\"160.96\" y2=\"83.25\" fill=\"none\"\n",
       "        stroke=\"black\" stroke-width=\"2\" stroke-linecap=\"round\"/>\n",
       "  <line x1=\"184.64\" y1=\"111.38\" x2=\"174.19\" y2=\"91.93\" fill=\"none\"\n",
       "        stroke=\"black\" stroke-width=\"2\" stroke-linecap=\"round\"/>\n",
       "  <line x1=\"184.64\" y1=\"111.38\" x2=\"214.49\" y2=\"115.94\" fill=\"none\"\n",
       "        stroke=\"black\" stroke-width=\"2\" stroke-linecap=\"round\"/>\n",
       "  <line x1=\"214.49\" y1=\"115.94\" x2=\"230.69\" y2=\"101.56\" fill=\"none\"\n",
       "        stroke=\"black\" stroke-width=\"2\" stroke-linecap=\"round\"/>\n",
       "  <line x1=\"181.87\" y1=\"55.94\" x2=\"173.45\" y2=\"75.72\" fill=\"none\"\n",
       "        stroke=\"black\" stroke-width=\"2\" stroke-linecap=\"round\"/>\n",
       "  <line x1=\"181.87\" y1=\"55.94\" x2=\"211.26\" y2=\"46.67\" fill=\"none\"\n",
       "        stroke=\"black\" stroke-width=\"2\" stroke-linecap=\"round\"/>\n",
       "  <line x1=\"211.26\" y1=\"46.67\" x2=\"235.66\" y2=\"64.12\" fill=\"none\"\n",
       "        stroke=\"black\" stroke-width=\"2\" stroke-linecap=\"round\"/>\n",
       "  <line x1=\"235.66\" y1=\"64.12\" x2=\"236.91\" y2=\"86.60\" fill=\"none\"\n",
       "        stroke=\"black\" stroke-width=\"2\" stroke-linecap=\"round\"/>\n",
       "  <line x1=\"246.07\" y1=\"98.06\" x2=\"266.59\" y2=\"103.94\" fill=\"none\"\n",
       "        stroke=\"black\" stroke-width=\"2\" stroke-linecap=\"round\"/>\n",
       "  <line x1=\"266.59\" y1=\"103.94\" x2=\"275.98\" y2=\"124.40\" fill=\"none\"\n",
       "        stroke=\"black\" stroke-width=\"2\" stroke-linecap=\"round\"/>\n",
       "  <line x1=\"272.80\" y1=\"105.48\" x2=\"280.53\" y2=\"122.31\" fill=\"none\"\n",
       "        stroke=\"black\" stroke-width=\"2\" stroke-linecap=\"round\"/>\n",
       "  <line x1=\"266.59\" y1=\"103.94\" x2=\"282.15\" y2=\"88.16\" fill=\"none\"\n",
       "        stroke=\"black\" stroke-width=\"2\" stroke-linecap=\"round\"/>\n",
       "  <line x1=\"288.61\" y1=\"131.04\" x2=\"310.83\" y2=\"127.18\" fill=\"none\"\n",
       "        stroke=\"black\" stroke-width=\"2\" stroke-linecap=\"round\"/>\n",
       "  <line x1=\"310.83\" y1=\"127.18\" x2=\"333.79\" y2=\"147.10\" fill=\"none\"\n",
       "        stroke=\"black\" stroke-width=\"2\" stroke-linecap=\"round\"/>\n",
       "  <line x1=\"310.83\" y1=\"127.18\" x2=\"315.85\" y2=\"96.96\" fill=\"none\"\n",
       "        stroke=\"black\" stroke-width=\"2\" stroke-linecap=\"round\"/>\n",
       "  <line x1=\"306.55\" y1=\"122.41\" x2=\"310.26\" y2=\"100.09\" fill=\"none\"\n",
       "        stroke=\"black\" stroke-width=\"2\" stroke-linecap=\"round\"/>\n",
       "  <line x1=\"333.79\" y1=\"147.10\" x2=\"362.33\" y2=\"135.29\" fill=\"none\"\n",
       "        stroke=\"black\" stroke-width=\"2\" stroke-linecap=\"round\"/>\n",
       "  <line x1=\"335.58\" y1=\"140.95\" x2=\"356.72\" y2=\"132.20\" fill=\"none\"\n",
       "        stroke=\"black\" stroke-width=\"2\" stroke-linecap=\"round\"/>\n",
       "  <line x1=\"362.33\" y1=\"135.29\" x2=\"367.57\" y2=\"105.04\" fill=\"none\"\n",
       "        stroke=\"black\" stroke-width=\"2\" stroke-linecap=\"round\"/>\n",
       "  <line x1=\"367.57\" y1=\"105.04\" x2=\"344.08\" y2=\"84.58\" fill=\"none\"\n",
       "        stroke=\"black\" stroke-width=\"2\" stroke-linecap=\"round\"/>\n",
       "  <line x1=\"361.27\" y1=\"106.18\" x2=\"343.82\" y2=\"90.98\" fill=\"none\"\n",
       "        stroke=\"black\" stroke-width=\"2\" stroke-linecap=\"round\"/>\n",
       "  <line x1=\"296.34\" y1=\"86.12\" x2=\"315.85\" y2=\"96.96\" fill=\"none\"\n",
       "        stroke=\"black\" stroke-width=\"2\" stroke-linecap=\"round\"/>\n",
       "  <line x1=\"315.85\" y1=\"96.96\" x2=\"344.08\" y2=\"84.58\" fill=\"none\"\n",
       "        stroke=\"black\" stroke-width=\"2\" stroke-linecap=\"round\"/>\n",
       "  <text x=\"85.60\" y=\"177.68\" text-anchor=\"middle\" alignment-baseline=\"middle\">\n",
       "    O\n",
       "  </text>\n",
       "  <text x=\"169.93\" y=\"86.01\" text-anchor=\"middle\" alignment-baseline=\"middle\">\n",
       "    N\n",
       "  </text>\n",
       "  <text x=\"279.74\" y=\"134.58\" text-anchor=\"middle\" alignment-baseline=\"middle\">\n",
       "    N\n",
       "  </text>\n",
       "  <text x=\"237.42\" y=\"97.58\" text-anchor=\"middle\" alignment-baseline=\"middle\">\n",
       "    N\n",
       "  </text>\n",
       "  <text x=\"288.47\" y=\"83.75\" text-anchor=\"middle\" alignment-baseline=\"middle\">\n",
       "    O\n",
       "  </text>\n",
       "  <text x=\"130.40\" y=\"53.51\" text-anchor=\"middle\" alignment-baseline=\"middle\">\n",
       "    O\n",
       "  </text>\n",
       "  <text x=\"89.44\" y=\"56.12\" text-anchor=\"middle\" alignment-baseline=\"middle\">\n",
       "    O\n",
       "  </text>\n",
       "</svg>\n"
      ],
      "text/plain": [
       "#<CL-JUPYTER-USER::SVG-STR>"
      ]
     },
     "execution_count": 18,
     "metadata": {},
     "output_type": "execute_result"
    }
   ],
   "source": [
    "(show (sketch2d:sketch2d (fourth *ligands*)))"
   ]
  },
  {
   "cell_type": "code",
   "execution_count": 20,
   "metadata": {},
   "outputs": [
    {
     "name": "stdout",
     "output_type": "stream",
     "text": [
      "Missing-h NIL\n"
     ]
    },
    {
     "data": {
      "image/svg+xml": [
       "<?xml version=\"1.0\" standalone=\"no\"?>\n",
       "<svg viewport=\"0 0 399 170\" height=\"170\" width=\"399\" version=\"1.2\" id=\"\"\n",
       "    xmlns=\"http://www.w3.org/2000/svg\"\n",
       "    xmlns:xlink=\"http://www.w3.org/1999/xlink\">\n",
       "  <line x1=\"141.30\" y1=\"14.14\" x2=\"148.48\" y2=\"35.42\" fill=\"none\"\n",
       "        stroke=\"black\" stroke-width=\"2\" stroke-linecap=\"round\"/>\n",
       "  <line x1=\"129.46\" y1=\"65.33\" x2=\"144.92\" y2=\"50.23\" fill=\"none\"\n",
       "        stroke=\"black\" stroke-width=\"2\" stroke-linecap=\"round\"/>\n",
       "  <line x1=\"129.46\" y1=\"65.33\" x2=\"100.21\" y2=\"55.82\" fill=\"none\"\n",
       "        stroke=\"black\" stroke-width=\"2\" stroke-linecap=\"round\"/>\n",
       "  <line x1=\"129.46\" y1=\"65.33\" x2=\"136.19\" y2=\"94.51\" fill=\"none\"\n",
       "        stroke=\"black\" stroke-width=\"2\" stroke-linecap=\"round\"/>\n",
       "  <line x1=\"125.48\" y1=\"70.35\" x2=\"130.42\" y2=\"91.74\" fill=\"none\"\n",
       "        stroke=\"black\" stroke-width=\"2\" stroke-linecap=\"round\"/>\n",
       "  <line x1=\"33.25\" y1=\"117.36\" x2=\"53.58\" y2=\"124.51\" fill=\"none\"\n",
       "        stroke=\"black\" stroke-width=\"2\" stroke-linecap=\"round\"/>\n",
       "  <line x1=\"68.57\" y1=\"121.26\" x2=\"84.12\" y2=\"106.33\" fill=\"none\"\n",
       "        stroke=\"black\" stroke-width=\"2\" stroke-linecap=\"round\"/>\n",
       "  <line x1=\"100.21\" y1=\"55.82\" x2=\"77.40\" y2=\"76.66\" fill=\"none\" stroke=\"black\"\n",
       "        stroke-width=\"2\" stroke-linecap=\"round\"/>\n",
       "  <line x1=\"100.63\" y1=\"62.21\" x2=\"83.72\" y2=\"77.65\" fill=\"none\" stroke=\"black\"\n",
       "        stroke-width=\"2\" stroke-linecap=\"round\"/>\n",
       "  <line x1=\"77.40\" y1=\"76.66\" x2=\"84.12\" y2=\"106.33\" fill=\"none\" stroke=\"black\"\n",
       "        stroke-width=\"2\" stroke-linecap=\"round\"/>\n",
       "  <line x1=\"84.12\" y1=\"106.33\" x2=\"113.60\" y2=\"116.18\" fill=\"none\"\n",
       "        stroke=\"black\" stroke-width=\"2\" stroke-linecap=\"round\"/>\n",
       "  <line x1=\"89.50\" y1=\"102.85\" x2=\"111.39\" y2=\"110.17\" fill=\"none\"\n",
       "        stroke=\"black\" stroke-width=\"2\" stroke-linecap=\"round\"/>\n",
       "  <line x1=\"113.60\" y1=\"116.18\" x2=\"136.19\" y2=\"94.51\" fill=\"none\"\n",
       "        stroke=\"black\" stroke-width=\"2\" stroke-linecap=\"round\"/>\n",
       "  <line x1=\"136.19\" y1=\"94.51\" x2=\"164.48\" y2=\"107.71\" fill=\"none\"\n",
       "        stroke=\"black\" stroke-width=\"2\" stroke-linecap=\"round\"/>\n",
       "  <line x1=\"162.34\" y1=\"129.17\" x2=\"161.98\" y2=\"107.75\" fill=\"none\"\n",
       "        stroke=\"black\" stroke-width=\"2\" stroke-linecap=\"round\"/>\n",
       "  <line x1=\"167.34\" y1=\"129.09\" x2=\"166.98\" y2=\"107.67\" fill=\"none\"\n",
       "        stroke=\"black\" stroke-width=\"2\" stroke-linecap=\"round\"/>\n",
       "  <line x1=\"164.48\" y1=\"107.71\" x2=\"184.24\" y2=\"98.06\" fill=\"none\"\n",
       "        stroke=\"black\" stroke-width=\"2\" stroke-linecap=\"round\"/>\n",
       "  <line x1=\"214.05\" y1=\"115.88\" x2=\"198.68\" y2=\"100.48\" fill=\"none\"\n",
       "        stroke=\"black\" stroke-width=\"2\" stroke-linecap=\"round\"/>\n",
       "  <line x1=\"214.05\" y1=\"115.88\" x2=\"245.36\" y2=\"112.33\" fill=\"none\"\n",
       "        stroke=\"black\" stroke-width=\"2\" stroke-linecap=\"round\"/>\n",
       "  <line x1=\"245.36\" y1=\"112.33\" x2=\"256.26\" y2=\"94.16\" fill=\"none\"\n",
       "        stroke=\"black\" stroke-width=\"2\" stroke-linecap=\"round\"/>\n",
       "  <line x1=\"195.27\" y1=\"63.97\" x2=\"193.20\" y2=\"85.15\" fill=\"none\"\n",
       "        stroke=\"black\" stroke-width=\"2\" stroke-linecap=\"round\"/>\n",
       "  <line x1=\"195.27\" y1=\"63.97\" x2=\"221.66\" y2=\"47.64\" fill=\"none\"\n",
       "        stroke=\"black\" stroke-width=\"2\" stroke-linecap=\"round\"/>\n",
       "  <line x1=\"221.66\" y1=\"47.64\" x2=\"250.73\" y2=\"57.61\" fill=\"none\"\n",
       "        stroke=\"black\" stroke-width=\"2\" stroke-linecap=\"round\"/>\n",
       "  <line x1=\"250.73\" y1=\"57.61\" x2=\"257.90\" y2=\"77.95\" fill=\"none\"\n",
       "        stroke=\"black\" stroke-width=\"2\" stroke-linecap=\"round\"/>\n",
       "  <line x1=\"269.80\" y1=\"87.68\" x2=\"291.30\" y2=\"90.69\" fill=\"none\"\n",
       "        stroke=\"black\" stroke-width=\"2\" stroke-linecap=\"round\"/>\n",
       "  <line x1=\"291.30\" y1=\"90.69\" x2=\"300.21\" y2=\"111.39\" fill=\"none\"\n",
       "        stroke=\"black\" stroke-width=\"2\" stroke-linecap=\"round\"/>\n",
       "  <line x1=\"297.47\" y1=\"92.39\" x2=\"304.80\" y2=\"109.42\" fill=\"none\"\n",
       "        stroke=\"black\" stroke-width=\"2\" stroke-linecap=\"round\"/>\n",
       "  <line x1=\"291.30\" y1=\"90.69\" x2=\"307.04\" y2=\"75.92\" fill=\"none\"\n",
       "        stroke=\"black\" stroke-width=\"2\" stroke-linecap=\"round\"/>\n",
       "  <line x1=\"312.69\" y1=\"118.54\" x2=\"334.73\" y2=\"115.76\" fill=\"none\"\n",
       "        stroke=\"black\" stroke-width=\"2\" stroke-linecap=\"round\"/>\n",
       "  <line x1=\"334.73\" y1=\"115.76\" x2=\"341.00\" y2=\"85.34\" fill=\"none\"\n",
       "        stroke=\"black\" stroke-width=\"2\" stroke-linecap=\"round\"/>\n",
       "  <line x1=\"330.64\" y1=\"110.83\" x2=\"335.30\" y2=\"88.25\" fill=\"none\"\n",
       "        stroke=\"black\" stroke-width=\"2\" stroke-linecap=\"round\"/>\n",
       "  <line x1=\"321.42\" y1=\"74.21\" x2=\"341.00\" y2=\"85.34\" fill=\"none\"\n",
       "        stroke=\"black\" stroke-width=\"2\" stroke-linecap=\"round\"/>\n",
       "  <text x=\"164.98\" y=\"140.13\" text-anchor=\"middle\" alignment-baseline=\"middle\">\n",
       "    O\n",
       "  </text>\n",
       "  <text x=\"303.76\" y=\"121.66\" text-anchor=\"middle\" alignment-baseline=\"middle\">\n",
       "    N\n",
       "  </text>\n",
       "  <text x=\"192.33\" y=\"96.10\" text-anchor=\"middle\" alignment-baseline=\"middle\">\n",
       "    N\n",
       "  </text>\n",
       "  <text x=\"313.60\" y=\"71.76\" text-anchor=\"middle\" alignment-baseline=\"middle\">\n",
       "    S\n",
       "  </text>\n",
       "  <text x=\"62.07\" y=\"129.50\" text-anchor=\"middle\" alignment-baseline=\"middle\">\n",
       "    O\n",
       "  </text>\n",
       "  <text x=\"260.89\" y=\"88.44\" text-anchor=\"middle\" alignment-baseline=\"middle\">\n",
       "    N\n",
       "  </text>\n",
       "  <text x=\"151.36\" y=\"45.94\" text-anchor=\"middle\" alignment-baseline=\"middle\">\n",
       "    O\n",
       "  </text>\n",
       "</svg>\n"
      ],
      "text/plain": [
       "#<CL-JUPYTER-USER::SVG-STR>"
      ]
     },
     "execution_count": 20,
     "metadata": {},
     "output_type": "execute_result"
    }
   ],
   "source": [
    "(show (sketch2d:sketch2d (fifth *ligands*)))"
   ]
  },
  {
   "cell_type": "code",
   "execution_count": 21,
   "metadata": {},
   "outputs": [
    {
     "name": "stdout",
     "output_type": "stream",
     "text": [
      "Missing-h NIL\n"
     ]
    },
    {
     "data": {
      "image/svg+xml": [
       "<?xml version=\"1.0\" standalone=\"no\"?>\n",
       "<svg viewport=\"0 0 437 228\" height=\"228\" width=\"437\" version=\"1.2\" id=\"\"\n",
       "    xmlns=\"http://www.w3.org/2000/svg\"\n",
       "    xmlns:xlink=\"http://www.w3.org/1999/xlink\">\n",
       "  <line x1=\"351.86\" y1=\"99.51\" x2=\"321.43\" y2=\"101.79\" fill=\"none\"\n",
       "        stroke=\"black\" stroke-width=\"2\" stroke-linecap=\"round\"/>\n",
       "  <line x1=\"351.86\" y1=\"99.51\" x2=\"370.10\" y2=\"124.26\" fill=\"none\"\n",
       "        stroke=\"black\" stroke-width=\"2\" stroke-linecap=\"round\"/>\n",
       "  <line x1=\"350.20\" y1=\"105.70\" x2=\"363.70\" y2=\"124.01\" fill=\"none\"\n",
       "        stroke=\"black\" stroke-width=\"2\" stroke-linecap=\"round\"/>\n",
       "  <line x1=\"321.43\" y1=\"101.79\" x2=\"308.32\" y2=\"129.37\" fill=\"none\"\n",
       "        stroke=\"black\" stroke-width=\"2\" stroke-linecap=\"round\"/>\n",
       "  <line x1=\"324.23\" y1=\"107.55\" x2=\"314.55\" y2=\"127.90\" fill=\"none\"\n",
       "        stroke=\"black\" stroke-width=\"2\" stroke-linecap=\"round\"/>\n",
       "  <line x1=\"308.32\" y1=\"129.37\" x2=\"326.76\" y2=\"154.26\" fill=\"none\"\n",
       "        stroke=\"black\" stroke-width=\"2\" stroke-linecap=\"round\"/>\n",
       "  <line x1=\"326.76\" y1=\"154.26\" x2=\"357.83\" y2=\"152.49\" fill=\"none\"\n",
       "        stroke=\"black\" stroke-width=\"2\" stroke-linecap=\"round\"/>\n",
       "  <line x1=\"330.47\" y1=\"149.04\" x2=\"353.56\" y2=\"147.73\" fill=\"none\"\n",
       "        stroke=\"black\" stroke-width=\"2\" stroke-linecap=\"round\"/>\n",
       "  <line x1=\"357.83\" y1=\"152.49\" x2=\"370.10\" y2=\"124.26\" fill=\"none\"\n",
       "        stroke=\"black\" stroke-width=\"2\" stroke-linecap=\"round\"/>\n",
       "  <line x1=\"391.70\" y1=\"121.79\" x2=\"370.10\" y2=\"124.26\" fill=\"none\"\n",
       "        stroke=\"black\" stroke-width=\"2\" stroke-linecap=\"round\"/>\n",
       "  <line x1=\"51.00\" y1=\"63.22\" x2=\"72.56\" y2=\"69.11\" fill=\"none\" stroke=\"black\"\n",
       "        stroke-width=\"2\" stroke-linecap=\"round\"/>\n",
       "  <line x1=\"82.79\" y1=\"80.34\" x2=\"86.44\" y2=\"101.32\" fill=\"none\" stroke=\"black\"\n",
       "        stroke-width=\"2\" stroke-linecap=\"round\"/>\n",
       "  <line x1=\"86.44\" y1=\"101.32\" x2=\"63.15\" y2=\"121.26\" fill=\"none\"\n",
       "        stroke=\"black\" stroke-width=\"2\" stroke-linecap=\"round\"/>\n",
       "  <line x1=\"79.78\" y1=\"208.69\" x2=\"97.24\" y2=\"196.29\" fill=\"none\"\n",
       "        stroke=\"black\" stroke-width=\"2\" stroke-linecap=\"round\"/>\n",
       "  <line x1=\"103.03\" y1=\"182.22\" x2=\"99.31\" y2=\"160.85\" fill=\"none\"\n",
       "        stroke=\"black\" stroke-width=\"2\" stroke-linecap=\"round\"/>\n",
       "  <line x1=\"63.15\" y1=\"121.26\" x2=\"69.96\" y2=\"151.98\" fill=\"none\"\n",
       "        stroke=\"black\" stroke-width=\"2\" stroke-linecap=\"round\"/>\n",
       "  <line x1=\"68.89\" y1=\"124.09\" x2=\"73.97\" y2=\"146.99\" fill=\"none\"\n",
       "        stroke=\"black\" stroke-width=\"2\" stroke-linecap=\"round\"/>\n",
       "  <line x1=\"69.96\" y1=\"151.98\" x2=\"99.31\" y2=\"160.85\" fill=\"none\"\n",
       "        stroke=\"black\" stroke-width=\"2\" stroke-linecap=\"round\"/>\n",
       "  <line x1=\"99.31\" y1=\"160.85\" x2=\"123.19\" y2=\"140.92\" fill=\"none\"\n",
       "        stroke=\"black\" stroke-width=\"2\" stroke-linecap=\"round\"/>\n",
       "  <line x1=\"99.17\" y1=\"154.45\" x2=\"116.92\" y2=\"139.64\" fill=\"none\"\n",
       "        stroke=\"black\" stroke-width=\"2\" stroke-linecap=\"round\"/>\n",
       "  <line x1=\"116.40\" y1=\"111.12\" x2=\"123.19\" y2=\"140.92\" fill=\"none\"\n",
       "        stroke=\"black\" stroke-width=\"2\" stroke-linecap=\"round\"/>\n",
       "  <line x1=\"116.40\" y1=\"111.12\" x2=\"86.44\" y2=\"101.32\" fill=\"none\"\n",
       "        stroke=\"black\" stroke-width=\"2\" stroke-linecap=\"round\"/>\n",
       "  <line x1=\"111.04\" y1=\"114.63\" x2=\"88.69\" y2=\"107.32\" fill=\"none\"\n",
       "        stroke=\"black\" stroke-width=\"2\" stroke-linecap=\"round\"/>\n",
       "  <line x1=\"116.40\" y1=\"111.12\" x2=\"136.81\" y2=\"88.05\" fill=\"none\"\n",
       "        stroke=\"black\" stroke-width=\"2\" stroke-linecap=\"round\"/>\n",
       "  <line x1=\"129.84\" y1=\"66.54\" x2=\"139.09\" y2=\"87.03\" fill=\"none\"\n",
       "        stroke=\"black\" stroke-width=\"2\" stroke-linecap=\"round\"/>\n",
       "  <line x1=\"125.28\" y1=\"68.59\" x2=\"134.53\" y2=\"89.08\" fill=\"none\"\n",
       "        stroke=\"black\" stroke-width=\"2\" stroke-linecap=\"round\"/>\n",
       "  <line x1=\"136.81\" y1=\"88.05\" x2=\"158.54\" y2=\"88.17\" fill=\"none\"\n",
       "        stroke=\"black\" stroke-width=\"2\" stroke-linecap=\"round\"/>\n",
       "  <line x1=\"172.25\" y1=\"95.89\" x2=\"183.38\" y2=\"113.99\" fill=\"none\"\n",
       "        stroke=\"black\" stroke-width=\"2\" stroke-linecap=\"round\"/>\n",
       "  <line x1=\"170.43\" y1=\"79.70\" x2=\"177.50\" y2=\"58.84\" fill=\"none\"\n",
       "        stroke=\"black\" stroke-width=\"2\" stroke-linecap=\"round\"/>\n",
       "  <line x1=\"183.38\" y1=\"113.99\" x2=\"213.76\" y2=\"117.71\" fill=\"none\"\n",
       "        stroke=\"black\" stroke-width=\"2\" stroke-linecap=\"round\"/>\n",
       "  <line x1=\"206.88\" y1=\"48.22\" x2=\"177.50\" y2=\"58.84\" fill=\"none\"\n",
       "        stroke=\"black\" stroke-width=\"2\" stroke-linecap=\"round\"/>\n",
       "  <line x1=\"206.88\" y1=\"48.22\" x2=\"232.22\" y2=\"65.05\" fill=\"none\"\n",
       "        stroke=\"black\" stroke-width=\"2\" stroke-linecap=\"round\"/>\n",
       "  <line x1=\"232.22\" y1=\"65.05\" x2=\"234.76\" y2=\"86.55\" fill=\"none\"\n",
       "        stroke=\"black\" stroke-width=\"2\" stroke-linecap=\"round\"/>\n",
       "  <line x1=\"229.48\" y1=\"101.88\" x2=\"213.76\" y2=\"117.71\" fill=\"none\"\n",
       "        stroke=\"black\" stroke-width=\"2\" stroke-linecap=\"round\"/>\n",
       "  <line x1=\"244.54\" y1=\"97.68\" x2=\"265.31\" y2=\"102.90\" fill=\"none\"\n",
       "        stroke=\"black\" stroke-width=\"2\" stroke-linecap=\"round\"/>\n",
       "  <line x1=\"263.42\" y1=\"101.27\" x2=\"277.43\" y2=\"84.95\" fill=\"none\"\n",
       "        stroke=\"black\" stroke-width=\"2\" stroke-linecap=\"round\"/>\n",
       "  <line x1=\"267.21\" y1=\"104.53\" x2=\"281.22\" y2=\"88.20\" fill=\"none\"\n",
       "        stroke=\"black\" stroke-width=\"2\" stroke-linecap=\"round\"/>\n",
       "  <line x1=\"265.31\" y1=\"102.90\" x2=\"274.22\" y2=\"123.01\" fill=\"none\"\n",
       "        stroke=\"black\" stroke-width=\"2\" stroke-linecap=\"round\"/>\n",
       "  <line x1=\"286.85\" y1=\"130.69\" x2=\"308.32\" y2=\"129.37\" fill=\"none\"\n",
       "        stroke=\"black\" stroke-width=\"2\" stroke-linecap=\"round\"/>\n",
       "  <text x=\"167.54\" y=\"90.22\" text-anchor=\"middle\" alignment-baseline=\"middle\">\n",
       "    N\n",
       "  </text>\n",
       "  <text x=\"104.58\" y=\"193.08\" text-anchor=\"middle\" alignment-baseline=\"middle\">\n",
       "    O\n",
       "  </text>\n",
       "  <text x=\"81.24\" y=\"73.48\" text-anchor=\"middle\" alignment-baseline=\"middle\">\n",
       "    O\n",
       "  </text>\n",
       "  <text x=\"123.85\" y=\"61.36\" text-anchor=\"middle\" alignment-baseline=\"middle\">\n",
       "    O\n",
       "  </text>\n",
       "  <text x=\"285.19\" y=\"81.75\" text-anchor=\"middle\" alignment-baseline=\"middle\">\n",
       "    S\n",
       "  </text>\n",
       "  <text x=\"400.65\" y=\"122.76\" text-anchor=\"middle\" alignment-baseline=\"middle\">\n",
       "    Cl\n",
       "  </text>\n",
       "  <text x=\"235.81\" y=\"97.49\" text-anchor=\"middle\" alignment-baseline=\"middle\">\n",
       "    N\n",
       "  </text>\n",
       "  <text x=\"277.86\" y=\"133.24\" text-anchor=\"middle\" alignment-baseline=\"middle\">\n",
       "    N\n",
       "  </text>\n",
       "  <text x=\"277.86\" y=\"133.24\" dx=\"-11\" dy=\"0\" text-anchor=\"middle\"\n",
       "       alignment-baseline=\"middle\">\n",
       "    H\n",
       "  </text>\n",
       "</svg>\n"
      ],
      "text/plain": [
       "#<CL-JUPYTER-USER::SVG-STR>"
      ]
     },
     "execution_count": 21,
     "metadata": {},
     "output_type": "execute_result"
    }
   ],
   "source": [
    "(show (sketch2d:sketch2d (sixth *ligands*)))"
   ]
  },
  {
   "cell_type": "code",
   "execution_count": 19,
   "metadata": {},
   "outputs": [
    {
     "data": {
      "text/plain": [
       "18"
      ]
     },
     "execution_count": 19,
     "metadata": {},
     "output_type": "execute_result"
    }
   ],
   "source": [
    "(length *ligands*)"
   ]
  },
  {
   "cell_type": "code",
   "execution_count": 28,
   "metadata": {},
   "outputs": [
    {
     "name": "stdout",
     "output_type": "stream",
     "text": [
      "Removing atoms (#<ATOM :N6/:N @0x13b65e2d9> #<ATOM :H28/:H @0x13b65e3c9>\n",
      " #<ATOM :C28/:C @0x13b65e4b9> #<ATOM :H27/:H @0x13b65e5a9>\n",
      " #<ATOM :C27/:C @0x13b65e699> #<ATOM :N5/:N @0x13b65e789>\n",
      " #<ATOM :N4/:N @0x13b65e879> #<ATOM :C20/:C @0x13b65e969>\n",
      " #<ATOM :H24/:H @0x13b65ea59> #<ATOM :H293/:H @0x13b65eb49>\n",
      " #<ATOM :H292/:H @0x13b65ec39> #<ATOM :H291/:H @0x13b65ed29>\n",
      " #<ATOM :C29/:C @0x13b65ee19> #<ATOM :H22/:H @0x13b65ef09>\n",
      " #<ATOM :H21/:H @0x13b65c009> #<ATOM :C21/:C @0x13b65c0f9>\n",
      " #<ATOM :C22/:C @0x13b65c1e9> #<ATOM :H303/:H @0x13b65a1e9>\n",
      " #<ATOM :H302/:H @0x13b65a2d9> #<ATOM :H301/:H @0x13b65a3c9>\n",
      " #<ATOM :C30/:C @0x13b65a4b9> #<ATOM :CL1/:Cl @0x13b65af09>\n",
      " #<ATOM :H6/:H @0x13b6580f9> #<ATOM :O1/:O @0x13b6582d9>)\n",
      "Removing #<ATOM :O1/:O @0x13593cc39> from #<RESIDUE :SUV @0x12e227208>\n",
      "Removing #<ATOM :H6/:H @0x13593ca59> from #<RESIDUE :SUV @0x12e227208>\n",
      "Removing #<ATOM :CL1/:Cl @0x13593c879> from #<RESIDUE :SUV @0x12e227208>\n",
      "Removing #<ATOM :C30/:C @0x13206ee19> from #<RESIDUE :SUV @0x12e227208>\n",
      "Removing #<ATOM :H301/:H @0x13206ed29> from #<RESIDUE :SUV @0x12e227208>\n",
      "Removing #<ATOM :H302/:H @0x13206ec39> from #<RESIDUE :SUV @0x12e227208>\n",
      "Removing #<ATOM :H303/:H @0x13206eb49> from #<RESIDUE :SUV @0x12e227208>\n",
      "Removing #<ATOM :C22/:C @0x1320d3b49> from #<RESIDUE :SUV @0x12e227208>\n",
      "Removing #<ATOM :C21/:C @0x1320d3a59> from #<RESIDUE :SUV @0x12e227208>\n",
      "Removing #<ATOM :H21/:H @0x1320d3969> from #<RESIDUE :SUV @0x12e227208>\n",
      "Removing #<ATOM :H22/:H @0x1320d3879> from #<RESIDUE :SUV @0x12e227208>\n",
      "Removing #<ATOM :C29/:C @0x1320d3789> from #<RESIDUE :SUV @0x12e227208>\n",
      "Removing #<ATOM :H291/:H @0x1320d3699> from #<RESIDUE :SUV @0x12e227208>\n",
      "Removing #<ATOM :H292/:H @0x1320d35a9> from #<RESIDUE :SUV @0x12e227208>\n",
      "Removing #<ATOM :H293/:H @0x1320d34b9> from #<RESIDUE :SUV @0x12e227208>\n",
      "Removing #<ATOM :H24/:H @0x1320d33c9> from #<RESIDUE :SUV @0x12e227208>\n",
      "Removing #<ATOM :C20/:C @0x1320d32d9> from #<RESIDUE :SUV @0x12e227208>\n",
      "Removing #<ATOM :N4/:N @0x1320d31e9> from #<RESIDUE :SUV @0x12e227208>\n",
      "Removing #<ATOM :N5/:N @0x1320d30f9> from #<RESIDUE :SUV @0x12e227208>\n",
      "Removing #<ATOM :C27/:C @0x1320d3009> from #<RESIDUE :SUV @0x12e227208>\n",
      "Removing #<ATOM :H27/:H @0x131c0af09> from #<RESIDUE :SUV @0x12e227208>\n",
      "Removing #<ATOM :C28/:C @0x131c0ae19> from #<RESIDUE :SUV @0x12e227208>\n",
      "Removing #<ATOM :H28/:H @0x131c0ad29> from #<RESIDUE :SUV @0x12e227208>\n",
      "Removing #<ATOM :N6/:N @0x131c0ac39> from #<RESIDUE :SUV @0x12e227208>\n",
      "Removing atoms (#<ATOM :N6/:N @0x13b65e2d9> #<ATOM :H28/:H @0x13b65e3c9>\n",
      " #<ATOM :C28/:C @0x13b65e4b9> #<ATOM :H27/:H @0x13b65e5a9>\n",
      " #<ATOM :C27/:C @0x13b65e699> #<ATOM :N5/:N @0x13b65e789>\n",
      " #<ATOM :N4/:N @0x13b65e879> #<ATOM :C20/:C @0x13b65e969>\n",
      " #<ATOM :H24/:H @0x13b65ea59> #<ATOM :H293/:H @0x13b65eb49>\n",
      " #<ATOM :H292/:H @0x13b65ec39> #<ATOM :H291/:H @0x13b65ed29>\n",
      " #<ATOM :C29/:C @0x13b65ee19> #<ATOM :H22/:H @0x13b65ef09>\n",
      " #<ATOM :H21/:H @0x13b65c009> #<ATOM :C21/:C @0x13b65c0f9>\n",
      " #<ATOM :C22/:C @0x13b65c1e9> #<ATOM :C23/:C @0x13b65c2d9>\n",
      " #<ATOM :H303/:H @0x13b65a1e9> #<ATOM :H302/:H @0x13b65a2d9>\n",
      " #<ATOM :H301/:H @0x13b65a3c9> #<ATOM :C30/:C @0x13b65a4b9>\n",
      " #<ATOM :CL1/:Cl @0x13b65af09> #<ATOM :O1/:O @0x13b6582d9>)\n",
      "Removing #<ATOM :O1/:O @0x131c0a879> from #<RESIDUE :SUV @0x12e227188>\n",
      "Removing #<ATOM :CL1/:Cl @0x131c0a4b9> from #<RESIDUE :SUV @0x12e227188>\n",
      "Removing #<ATOM :C30/:C @0x131d3ca59> from #<RESIDUE :SUV @0x12e227188>\n",
      "Removing #<ATOM :H301/:H @0x131d3c969> from #<RESIDUE :SUV @0x12e227188>\n",
      "Removing #<ATOM :H302/:H @0x131d3c879> from #<RESIDUE :SUV @0x12e227188>\n",
      "Removing #<ATOM :H303/:H @0x131d3c789> from #<RESIDUE :SUV @0x12e227188>\n",
      "Removing #<ATOM :C23/:C @0x131d7d879> from #<RESIDUE :SUV @0x12e227188>\n",
      "Removing #<ATOM :C22/:C @0x131d7d789> from #<RESIDUE :SUV @0x12e227188>\n",
      "Removing #<ATOM :C21/:C @0x131d7d699> from #<RESIDUE :SUV @0x12e227188>\n",
      "Removing #<ATOM :H21/:H @0x131d7d5a9> from #<RESIDUE :SUV @0x12e227188>\n",
      "Removing #<ATOM :H22/:H @0x131d7d4b9> from #<RESIDUE :SUV @0x12e227188>\n",
      "Removing #<ATOM :C29/:C @0x131d7d3c9> from #<RESIDUE :SUV @0x12e227188>\n",
      "Removing #<ATOM :H291/:H @0x131d7d2d9> from #<RESIDUE :SUV @0x12e227188>\n",
      "Removing #<ATOM :H292/:H @0x131d7d1e9> from #<RESIDUE :SUV @0x12e227188>\n",
      "Removing #<ATOM :H293/:H @0x131d7d0f9> from #<RESIDUE :SUV @0x12e227188>\n",
      "Removing #<ATOM :H24/:H @0x131d7d009> from #<RESIDUE :SUV @0x12e227188>\n",
      "Removing #<ATOM :C20/:C @0x131d8cf09> from #<RESIDUE :SUV @0x12e227188>\n",
      "Removing #<ATOM :N4/:N @0x131d8ce19> from #<RESIDUE :SUV @0x12e227188>\n",
      "Removing #<ATOM :N5/:N @0x131d8cd29> from #<RESIDUE :SUV @0x12e227188>\n",
      "Removing #<ATOM :C27/:C @0x131d8cc39> from #<RESIDUE :SUV @0x12e227188>\n",
      "Removing #<ATOM :H27/:H @0x131d8cb49> from #<RESIDUE :SUV @0x12e227188>\n",
      "Removing #<ATOM :C28/:C @0x131d8ca59> from #<RESIDUE :SUV @0x12e227188>\n",
      "Removing #<ATOM :H28/:H @0x131d8c969> from #<RESIDUE :SUV @0x12e227188>\n",
      "Removing #<ATOM :N6/:N @0x131d8c879> from #<RESIDUE :SUV @0x12e227188>\n",
      "Removing atoms (#<ATOM :N6/:N @0x13b65e2d9> #<ATOM :H28/:H @0x13b65e3c9>\n",
      " #<ATOM :C28/:C @0x13b65e4b9> #<ATOM :H27/:H @0x13b65e5a9>\n",
      " #<ATOM :C27/:C @0x13b65e699> #<ATOM :N5/:N @0x13b65e789>\n",
      " #<ATOM :N4/:N @0x13b65e879> #<ATOM :C20/:C @0x13b65e969>\n",
      " #<ATOM :H24/:H @0x13b65ea59> #<ATOM :H293/:H @0x13b65eb49>\n",
      " #<ATOM :H292/:H @0x13b65ec39> #<ATOM :H291/:H @0x13b65ed29>\n",
      " #<ATOM :C29/:C @0x13b65ee19> #<ATOM :H22/:H @0x13b65ef09>\n",
      " #<ATOM :H21/:H @0x13b65c009> #<ATOM :C21/:C @0x13b65c0f9>\n",
      " #<ATOM :C22/:C @0x13b65c1e9> #<ATOM :C23/:C @0x13b65c2d9>\n",
      " #<ATOM :C24/:C @0x13b65c3c9> #<ATOM :H303/:H @0x13b65a1e9>\n",
      " #<ATOM :H302/:H @0x13b65a2d9> #<ATOM :H301/:H @0x13b65a3c9>\n",
      " #<ATOM :C30/:C @0x13b65a4b9> #<ATOM :CL1/:Cl @0x13b65af09>)\n",
      "Removing #<ATOM :CL1/:Cl @0x131d8c0f9> from #<RESIDUE :SUV @0x12e227108>\n",
      "Removing #<ATOM :C30/:C @0x131dcb699> from #<RESIDUE :SUV @0x12e227108>\n",
      "Removing #<ATOM :H301/:H @0x131dcb5a9> from #<RESIDUE :SUV @0x12e227108>\n",
      "Removing #<ATOM :H302/:H @0x131dcb4b9> from #<RESIDUE :SUV @0x12e227108>\n",
      "Removing #<ATOM :H303/:H @0x131dcb3c9> from #<RESIDUE :SUV @0x12e227108>\n",
      "Removing #<ATOM :C24/:C @0x131dde5a9> from #<RESIDUE :SUV @0x12e227108>\n",
      "Removing #<ATOM :C23/:C @0x131dde4b9> from #<RESIDUE :SUV @0x12e227108>\n",
      "Removing #<ATOM :C22/:C @0x131dde3c9> from #<RESIDUE :SUV @0x12e227108>\n",
      "Removing #<ATOM :C21/:C @0x131dde2d9> from #<RESIDUE :SUV @0x12e227108>\n",
      "Removing #<ATOM :H21/:H @0x131dde1e9> from #<RESIDUE :SUV @0x12e227108>\n",
      "Removing #<ATOM :H22/:H @0x131dde0f9> from #<RESIDUE :SUV @0x12e227108>\n",
      "Removing #<ATOM :C29/:C @0x131dde009> from #<RESIDUE :SUV @0x12e227108>\n",
      "Removing #<ATOM :H291/:H @0x131de1f09> from #<RESIDUE :SUV @0x12e227108>\n",
      "Removing #<ATOM :H292/:H @0x131de1e19> from #<RESIDUE :SUV @0x12e227108>\n",
      "Removing #<ATOM :H293/:H @0x131de1d29> from #<RESIDUE :SUV @0x12e227108>\n",
      "Removing #<ATOM :H24/:H @0x131de1c39> from #<RESIDUE :SUV @0x12e227108>\n",
      "Removing #<ATOM :C20/:C @0x131de1b49> from #<RESIDUE :SUV @0x12e227108>\n",
      "Removing #<ATOM :N4/:N @0x131de1a59> from #<RESIDUE :SUV @0x12e227108>\n",
      "Removing #<ATOM :N5/:N @0x131de1969> from #<RESIDUE :SUV @0x12e227108>\n",
      "Removing #<ATOM :C27/:C @0x131de1879> from #<RESIDUE :SUV @0x12e227108>\n",
      "Removing #<ATOM :H27/:H @0x131de1789> from #<RESIDUE :SUV @0x12e227108>\n",
      "Removing #<ATOM :C28/:C @0x131de1699> from #<RESIDUE :SUV @0x12e227108>\n",
      "Removing #<ATOM :H28/:H @0x131de15a9> from #<RESIDUE :SUV @0x12e227108>\n",
      "Removing #<ATOM :N6/:N @0x131de14b9> from #<RESIDUE :SUV @0x12e227108>\n",
      "Removing atoms (#<ATOM :N6/:N @0x13b65e2d9> #<ATOM :H28/:H @0x13b65e3c9>\n",
      " #<ATOM :C28/:C @0x13b65e4b9> #<ATOM :H27/:H @0x13b65e5a9>\n",
      " #<ATOM :C27/:C @0x13b65e699> #<ATOM :N5/:N @0x13b65e789>\n",
      " #<ATOM :N4/:N @0x13b65e879> #<ATOM :C20/:C @0x13b65e969>\n",
      " #<ATOM :H24/:H @0x13b65ea59> #<ATOM :H293/:H @0x13b65eb49>\n",
      " #<ATOM :H292/:H @0x13b65ec39> #<ATOM :H291/:H @0x13b65ed29>\n",
      " #<ATOM :C29/:C @0x13b65ee19> #<ATOM :H22/:H @0x13b65ef09>\n",
      " #<ATOM :H21/:H @0x13b65c009> #<ATOM :C21/:C @0x13b65c0f9>\n",
      " #<ATOM :C22/:C @0x13b65c1e9> #<ATOM :C23/:C @0x13b65c2d9>\n",
      " #<ATOM :C24/:C @0x13b65c3c9> #<ATOM :C19/:C @0x13b65c4b9>\n",
      " #<ATOM :O2/:O @0x13b65c5a9> #<ATOM :C17/:C @0x13b65c699>\n",
      " #<ATOM :N3/:N @0x13b65c789> #<ATOM :H122/:H @0x13b65c879>\n",
      " #<ATOM :H121/:H @0x13b65c969> #<ATOM :C12/:C @0x13b65ca59>\n",
      " #<ATOM :H112/:H @0x13b65cb49> #<ATOM :H111/:H @0x13b65cc39>\n",
      " #<ATOM :C11/:C @0x13b65cd29> #<ATOM :H162/:H @0x13b65ce19>\n",
      " #<ATOM :H161/:H @0x13b65cf09> #<ATOM :H152/:H @0x13b65a009>\n",
      " #<ATOM :H151/:H @0x13b65a0f9> #<ATOM :H303/:H @0x13b65a1e9>\n",
      " #<ATOM :H302/:H @0x13b65a2d9> #<ATOM :H301/:H @0x13b65a3c9>\n",
      " #<ATOM :C30/:C @0x13b65a4b9> #<ATOM :H14/:H @0x13b65a5a9>\n",
      " #<ATOM :C14/:C @0x13b65a699> #<ATOM :C15/:C @0x13b65a789>\n",
      " #<ATOM :C16/:C @0x13b65a879> #<ATOM :N1/:N @0x13b65a969>\n",
      " #<ATOM :C1/:C @0x13b65aa59> #<ATOM :N2/:N @0x13b65ab49>\n",
      " #<ATOM :CL1/:Cl @0x13b65af09> #<ATOM :H6/:H @0x13b6580f9>\n",
      " #<ATOM :O1/:O @0x13b6582d9> #<ATOM :H7/:H @0x13b6584b9>)\n",
      "Removing #<ATOM :H7/:H @0x131de12d9> from #<RESIDUE :SUV @0x126450f88>\n",
      "Removing #<ATOM :O1/:O @0x131de10f9> from #<RESIDUE :SUV @0x126450f88>\n",
      "Removing #<ATOM :H6/:H @0x131e04f09> from #<RESIDUE :SUV @0x126450f88>\n",
      "Removing #<ATOM :CL1/:Cl @0x131e04d29> from #<RESIDUE :SUV @0x126450f88>\n",
      "Removing #<ATOM :N2/:N @0x131e04969> from #<RESIDUE :SUV @0x126450f88>\n",
      "Removing #<ATOM :C1/:C @0x131e04879> from #<RESIDUE :SUV @0x126450f88>\n",
      "Removing #<ATOM :N1/:N @0x131e04789> from #<RESIDUE :SUV @0x126450f88>\n",
      "Removing #<ATOM :C16/:C @0x131e04699> from #<RESIDUE :SUV @0x126450f88>\n",
      "Removing #<ATOM :C15/:C @0x131e045a9> from #<RESIDUE :SUV @0x126450f88>\n",
      "Removing #<ATOM :C14/:C @0x131e044b9> from #<RESIDUE :SUV @0x126450f88>\n",
      "Removing #<ATOM :H14/:H @0x131e043c9> from #<RESIDUE :SUV @0x126450f88>\n",
      "Removing #<ATOM :C30/:C @0x131e042d9> from #<RESIDUE :SUV @0x126450f88>\n",
      "Removing #<ATOM :H301/:H @0x131e041e9> from #<RESIDUE :SUV @0x126450f88>\n",
      "Removing #<ATOM :H302/:H @0x131e040f9> from #<RESIDUE :SUV @0x126450f88>\n",
      "Removing #<ATOM :H303/:H @0x131e04009> from #<RESIDUE :SUV @0x126450f88>\n",
      "Removing #<ATOM :H151/:H @0x131e09f09> from #<RESIDUE :SUV @0x126450f88>\n",
      "Removing #<ATOM :H152/:H @0x131e09e19> from #<RESIDUE :SUV @0x126450f88>\n",
      "Removing #<ATOM :H161/:H @0x131e09d29> from #<RESIDUE :SUV @0x126450f88>\n",
      "Removing #<ATOM :H162/:H @0x131e09c39> from #<RESIDUE :SUV @0x126450f88>\n",
      "Removing #<ATOM :C11/:C @0x131e09b49> from #<RESIDUE :SUV @0x126450f88>\n",
      "Removing #<ATOM :H111/:H @0x131e09a59> from #<RESIDUE :SUV @0x126450f88>\n",
      "Removing #<ATOM :H112/:H @0x131e09969> from #<RESIDUE :SUV @0x126450f88>\n",
      "Removing #<ATOM :C12/:C @0x131e09879> from #<RESIDUE :SUV @0x126450f88>\n",
      "Removing #<ATOM :H121/:H @0x131e09789> from #<RESIDUE :SUV @0x126450f88>\n",
      "Removing #<ATOM :H122/:H @0x131e09699> from #<RESIDUE :SUV @0x126450f88>\n",
      "Removing #<ATOM :N3/:N @0x131e095a9> from #<RESIDUE :SUV @0x126450f88>\n",
      "Removing #<ATOM :C17/:C @0x131e094b9> from #<RESIDUE :SUV @0x126450f88>\n",
      "Removing #<ATOM :O2/:O @0x131e093c9> from #<RESIDUE :SUV @0x126450f88>\n",
      "Removing #<ATOM :C19/:C @0x131e092d9> from #<RESIDUE :SUV @0x126450f88>\n",
      "Removing #<ATOM :C24/:C @0x131e091e9> from #<RESIDUE :SUV @0x126450f88>\n",
      "Removing #<ATOM :C23/:C @0x131e090f9> from #<RESIDUE :SUV @0x126450f88>\n",
      "Removing #<ATOM :C22/:C @0x131e09009> from #<RESIDUE :SUV @0x126450f88>\n",
      "Removing #<ATOM :C21/:C @0x131e13f09> from #<RESIDUE :SUV @0x126450f88>\n",
      "Removing #<ATOM :H21/:H @0x131e13e19> from #<RESIDUE :SUV @0x126450f88>\n",
      "Removing #<ATOM :H22/:H @0x131e13d29> from #<RESIDUE :SUV @0x126450f88>\n",
      "Removing #<ATOM :C29/:C @0x131e13c39> from #<RESIDUE :SUV @0x126450f88>\n",
      "Removing #<ATOM :H291/:H @0x131e13b49> from #<RESIDUE :SUV @0x126450f88>\n",
      "Removing #<ATOM :H292/:H @0x131e13a59> from #<RESIDUE :SUV @0x126450f88>\n",
      "Removing #<ATOM :H293/:H @0x131e13969> from #<RESIDUE :SUV @0x126450f88>\n",
      "Removing #<ATOM :H24/:H @0x131e13879> from #<RESIDUE :SUV @0x126450f88>\n",
      "Removing #<ATOM :C20/:C @0x131e13789> from #<RESIDUE :SUV @0x126450f88>\n",
      "Removing #<ATOM :N4/:N @0x131e13699> from #<RESIDUE :SUV @0x126450f88>\n",
      "Removing #<ATOM :N5/:N @0x131e135a9> from #<RESIDUE :SUV @0x126450f88>\n",
      "Removing #<ATOM :C27/:C @0x131e134b9> from #<RESIDUE :SUV @0x126450f88>\n",
      "Removing #<ATOM :H27/:H @0x131e133c9> from #<RESIDUE :SUV @0x126450f88>\n",
      "Removing #<ATOM :C28/:C @0x131e132d9> from #<RESIDUE :SUV @0x126450f88>\n",
      "Removing #<ATOM :H28/:H @0x131e131e9> from #<RESIDUE :SUV @0x126450f88>\n",
      "Removing #<ATOM :N6/:N @0x131e130f9> from #<RESIDUE :SUV @0x126450f88>\n",
      "Removing atoms (#<ATOM :N6/:N @0x13b65e2d9> #<ATOM :H28/:H @0x13b65e3c9>\n",
      " #<ATOM :C28/:C @0x13b65e4b9> #<ATOM :H27/:H @0x13b65e5a9>\n",
      " #<ATOM :C27/:C @0x13b65e699> #<ATOM :N5/:N @0x13b65e789>\n",
      " #<ATOM :N4/:N @0x13b65e879> #<ATOM :C20/:C @0x13b65e969>\n",
      " #<ATOM :H24/:H @0x13b65ea59> #<ATOM :H293/:H @0x13b65eb49>\n",
      " #<ATOM :H292/:H @0x13b65ec39> #<ATOM :H291/:H @0x13b65ed29>\n",
      " #<ATOM :C29/:C @0x13b65ee19> #<ATOM :H22/:H @0x13b65ef09>\n",
      " #<ATOM :H21/:H @0x13b65c009> #<ATOM :C21/:C @0x13b65c0f9>\n",
      " #<ATOM :C22/:C @0x13b65c1e9> #<ATOM :C23/:C @0x13b65c2d9>\n",
      " #<ATOM :C24/:C @0x13b65c3c9> #<ATOM :C19/:C @0x13b65c4b9>\n",
      " #<ATOM :O2/:O @0x13b65c5a9> #<ATOM :C17/:C @0x13b65c699>\n",
      " #<ATOM :N3/:N @0x13b65c789> #<ATOM :H122/:H @0x13b65c879>\n",
      " #<ATOM :H121/:H @0x13b65c969> #<ATOM :C12/:C @0x13b65ca59>\n",
      " #<ATOM :H112/:H @0x13b65cb49> #<ATOM :H111/:H @0x13b65cc39>\n",
      " #<ATOM :C11/:C @0x13b65cd29> #<ATOM :H162/:H @0x13b65ce19>\n",
      " #<ATOM :H161/:H @0x13b65cf09> #<ATOM :H152/:H @0x13b65a009>\n",
      " #<ATOM :H151/:H @0x13b65a0f9> #<ATOM :H303/:H @0x13b65a1e9>\n",
      " #<ATOM :H302/:H @0x13b65a2d9> #<ATOM :H301/:H @0x13b65a3c9>\n",
      " #<ATOM :C30/:C @0x13b65a4b9> #<ATOM :H14/:H @0x13b65a5a9>\n",
      " #<ATOM :C14/:C @0x13b65a699> #<ATOM :C15/:C @0x13b65a789>\n",
      " #<ATOM :C16/:C @0x13b65a879> #<ATOM :N1/:N @0x13b65a969>\n",
      " #<ATOM :C1/:C @0x13b65aa59> #<ATOM :N2/:N @0x13b65ab49>\n",
      " #<ATOM :CL1/:Cl @0x13b65af09> #<ATOM :H6/:H @0x13b6580f9>\n",
      " #<ATOM :O1/:O @0x13b6582d9> #<ATOM :H7/:H @0x13b6584b9>)\n",
      "Removing #<ATOM :H7/:H @0x131e26f09> from #<RESIDUE :SUV @0x126450f08>\n",
      "Removing #<ATOM :O1/:O @0x131e26d29> from #<RESIDUE :SUV @0x126450f08>\n",
      "Removing #<ATOM :H6/:H @0x131e26b49> from #<RESIDUE :SUV @0x126450f08>\n",
      "Removing #<ATOM :CL1/:Cl @0x131e26969> from #<RESIDUE :SUV @0x126450f08>\n",
      "Removing #<ATOM :N2/:N @0x131e265a9> from #<RESIDUE :SUV @0x126450f08>\n",
      "Removing #<ATOM :C1/:C @0x131e264b9> from #<RESIDUE :SUV @0x126450f08>\n",
      "Removing #<ATOM :N1/:N @0x131e263c9> from #<RESIDUE :SUV @0x126450f08>\n",
      "Removing #<ATOM :C16/:C @0x131e262d9> from #<RESIDUE :SUV @0x126450f08>\n",
      "Removing #<ATOM :C15/:C @0x131e261e9> from #<RESIDUE :SUV @0x126450f08>\n",
      "Removing #<ATOM :C14/:C @0x131e260f9> from #<RESIDUE :SUV @0x126450f08>\n",
      "Removing #<ATOM :H14/:H @0x131e26009> from #<RESIDUE :SUV @0x126450f08>\n",
      "Removing #<ATOM :C30/:C @0x131e2bf09> from #<RESIDUE :SUV @0x126450f08>\n",
      "Removing #<ATOM :H301/:H @0x131e2be19> from #<RESIDUE :SUV @0x126450f08>\n",
      "Removing #<ATOM :H302/:H @0x131e2bd29> from #<RESIDUE :SUV @0x126450f08>\n",
      "Removing #<ATOM :H303/:H @0x131e2bc39> from #<RESIDUE :SUV @0x126450f08>\n",
      "Removing #<ATOM :H151/:H @0x131e2bb49> from #<RESIDUE :SUV @0x126450f08>\n",
      "Removing #<ATOM :H152/:H @0x131e2ba59> from #<RESIDUE :SUV @0x126450f08>\n",
      "Removing #<ATOM :H161/:H @0x131e2b969> from #<RESIDUE :SUV @0x126450f08>\n",
      "Removing #<ATOM :H162/:H @0x131e2b879> from #<RESIDUE :SUV @0x126450f08>\n",
      "Removing #<ATOM :C11/:C @0x131e2b789> from #<RESIDUE :SUV @0x126450f08>\n",
      "Removing #<ATOM :H111/:H @0x131e2b699> from #<RESIDUE :SUV @0x126450f08>\n",
      "Removing #<ATOM :H112/:H @0x131e2b5a9> from #<RESIDUE :SUV @0x126450f08>\n",
      "Removing #<ATOM :C12/:C @0x131e2b4b9> from #<RESIDUE :SUV @0x126450f08>\n",
      "Removing #<ATOM :H121/:H @0x131e2b3c9> from #<RESIDUE :SUV @0x126450f08>\n",
      "Removing #<ATOM :H122/:H @0x131e2b2d9> from #<RESIDUE :SUV @0x126450f08>\n",
      "Removing #<ATOM :N3/:N @0x131e2b1e9> from #<RESIDUE :SUV @0x126450f08>\n",
      "Removing #<ATOM :C17/:C @0x131e2b0f9> from #<RESIDUE :SUV @0x126450f08>\n",
      "Removing #<ATOM :O2/:O @0x131e2b009> from #<RESIDUE :SUV @0x126450f08>\n",
      "Removing #<ATOM :C19/:C @0x131e2ef09> from #<RESIDUE :SUV @0x126450f08>\n",
      "Removing #<ATOM :C24/:C @0x131e2ee19> from #<RESIDUE :SUV @0x126450f08>\n",
      "Removing #<ATOM :C23/:C @0x131e2ed29> from #<RESIDUE :SUV @0x126450f08>\n",
      "Removing #<ATOM :C22/:C @0x131e2ec39> from #<RESIDUE :SUV @0x126450f08>\n",
      "Removing #<ATOM :C21/:C @0x131e2eb49> from #<RESIDUE :SUV @0x126450f08>\n",
      "Removing #<ATOM :H21/:H @0x131e2ea59> from #<RESIDUE :SUV @0x126450f08>\n",
      "Removing #<ATOM :H22/:H @0x131e2e969> from #<RESIDUE :SUV @0x126450f08>\n",
      "Removing #<ATOM :C29/:C @0x131e2e879> from #<RESIDUE :SUV @0x126450f08>\n",
      "Removing #<ATOM :H291/:H @0x131e2e789> from #<RESIDUE :SUV @0x126450f08>\n",
      "Removing #<ATOM :H292/:H @0x131e2e699> from #<RESIDUE :SUV @0x126450f08>\n",
      "Removing #<ATOM :H293/:H @0x131e2e5a9> from #<RESIDUE :SUV @0x126450f08>\n",
      "Removing #<ATOM :H24/:H @0x131e2e4b9> from #<RESIDUE :SUV @0x126450f08>\n",
      "Removing #<ATOM :C20/:C @0x131e2e3c9> from #<RESIDUE :SUV @0x126450f08>\n",
      "Removing #<ATOM :N4/:N @0x131e2e2d9> from #<RESIDUE :SUV @0x126450f08>\n",
      "Removing #<ATOM :N5/:N @0x131e2e1e9> from #<RESIDUE :SUV @0x126450f08>\n",
      "Removing #<ATOM :C27/:C @0x131e2e0f9> from #<RESIDUE :SUV @0x126450f08>\n",
      "Removing #<ATOM :H27/:H @0x131e2e009> from #<RESIDUE :SUV @0x126450f08>\n",
      "Removing #<ATOM :C28/:C @0x131e31f09> from #<RESIDUE :SUV @0x126450f08>\n",
      "Removing #<ATOM :H28/:H @0x131e31e19> from #<RESIDUE :SUV @0x126450f08>\n",
      "Removing #<ATOM :N6/:N @0x131e31d29> from #<RESIDUE :SUV @0x126450f08>\n",
      "Removing atoms (#<ATOM :N6/:N @0x13b65e2d9> #<ATOM :H28/:H @0x13b65e3c9>\n",
      " #<ATOM :C28/:C @0x13b65e4b9> #<ATOM :H27/:H @0x13b65e5a9>\n",
      " #<ATOM :C27/:C @0x13b65e699> #<ATOM :N5/:N @0x13b65e789>\n",
      " #<ATOM :N4/:N @0x13b65e879> #<ATOM :C20/:C @0x13b65e969>\n",
      " #<ATOM :H24/:H @0x13b65ea59> #<ATOM :H293/:H @0x13b65eb49>\n",
      " #<ATOM :H292/:H @0x13b65ec39> #<ATOM :H291/:H @0x13b65ed29>\n",
      " #<ATOM :C29/:C @0x13b65ee19> #<ATOM :H22/:H @0x13b65ef09>\n",
      " #<ATOM :H21/:H @0x13b65c009> #<ATOM :C21/:C @0x13b65c0f9>\n",
      " #<ATOM :C22/:C @0x13b65c1e9> #<ATOM :C23/:C @0x13b65c2d9>\n",
      " #<ATOM :C24/:C @0x13b65c3c9> #<ATOM :C19/:C @0x13b65c4b9>\n",
      " #<ATOM :O2/:O @0x13b65c5a9> #<ATOM :C17/:C @0x13b65c699>\n",
      " #<ATOM :N3/:N @0x13b65c789> #<ATOM :H122/:H @0x13b65c879>\n",
      " #<ATOM :H121/:H @0x13b65c969> #<ATOM :C12/:C @0x13b65ca59>\n",
      " #<ATOM :H112/:H @0x13b65cb49> #<ATOM :H111/:H @0x13b65cc39>\n",
      " #<ATOM :C11/:C @0x13b65cd29> #<ATOM :H162/:H @0x13b65ce19>\n",
      " #<ATOM :H161/:H @0x13b65cf09> #<ATOM :H152/:H @0x13b65a009>\n",
      " #<ATOM :H151/:H @0x13b65a0f9> #<ATOM :H303/:H @0x13b65a1e9>\n",
      " #<ATOM :H302/:H @0x13b65a2d9> #<ATOM :H301/:H @0x13b65a3c9>\n",
      " #<ATOM :C30/:C @0x13b65a4b9> #<ATOM :H14/:H @0x13b65a5a9>\n",
      " #<ATOM :C14/:C @0x13b65a699> #<ATOM :C15/:C @0x13b65a789>\n",
      " #<ATOM :C16/:C @0x13b65a879> #<ATOM :N1/:N @0x13b65a969>\n",
      " #<ATOM :C1/:C @0x13b65aa59> #<ATOM :N2/:N @0x13b65ab49>\n",
      " #<ATOM :CL1/:Cl @0x13b65af09> #<ATOM :H6/:H @0x13b6580f9>\n",
      " #<ATOM :O1/:O @0x13b6582d9> #<ATOM :H7/:H @0x13b6584b9>)\n",
      "Removing #<ATOM :H7/:H @0x131e31b49> from #<RESIDUE :SUV @0x126450e88>\n",
      "Removing #<ATOM :O1/:O @0x131e31969> from #<RESIDUE :SUV @0x126450e88>\n",
      "Removing #<ATOM :H6/:H @0x131e31789> from #<RESIDUE :SUV @0x126450e88>\n",
      "Removing #<ATOM :CL1/:Cl @0x131e315a9> from #<RESIDUE :SUV @0x126450e88>\n",
      "Removing #<ATOM :N2/:N @0x131e311e9> from #<RESIDUE :SUV @0x126450e88>\n",
      "Removing #<ATOM :C1/:C @0x131e310f9> from #<RESIDUE :SUV @0x126450e88>\n",
      "Removing #<ATOM :N1/:N @0x131e31009> from #<RESIDUE :SUV @0x126450e88>\n",
      "Removing #<ATOM :C16/:C @0x131e6bf09> from #<RESIDUE :SUV @0x126450e88>\n",
      "Removing #<ATOM :C15/:C @0x131e6be19> from #<RESIDUE :SUV @0x126450e88>\n",
      "Removing #<ATOM :C14/:C @0x131e6bd29> from #<RESIDUE :SUV @0x126450e88>\n",
      "Removing #<ATOM :H14/:H @0x131e6bc39> from #<RESIDUE :SUV @0x126450e88>\n",
      "Removing #<ATOM :C30/:C @0x131e6bb49> from #<RESIDUE :SUV @0x126450e88>\n",
      "Removing #<ATOM :H301/:H @0x131e6ba59> from #<RESIDUE :SUV @0x126450e88>\n",
      "Removing #<ATOM :H302/:H @0x131e6b969> from #<RESIDUE :SUV @0x126450e88>\n",
      "Removing #<ATOM :H303/:H @0x131e6b879> from #<RESIDUE :SUV @0x126450e88>\n",
      "Removing #<ATOM :H151/:H @0x131e6b789> from #<RESIDUE :SUV @0x126450e88>\n",
      "Removing #<ATOM :H152/:H @0x131e6b699> from #<RESIDUE :SUV @0x126450e88>\n",
      "Removing #<ATOM :H161/:H @0x131e6b5a9> from #<RESIDUE :SUV @0x126450e88>\n",
      "Removing #<ATOM :H162/:H @0x131e6b4b9> from #<RESIDUE :SUV @0x126450e88>\n",
      "Removing #<ATOM :C11/:C @0x131e6b3c9> from #<RESIDUE :SUV @0x126450e88>\n",
      "Removing #<ATOM :H111/:H @0x131e6b2d9> from #<RESIDUE :SUV @0x126450e88>\n",
      "Removing #<ATOM :H112/:H @0x131e6b1e9> from #<RESIDUE :SUV @0x126450e88>\n",
      "Removing #<ATOM :C12/:C @0x131e6b0f9> from #<RESIDUE :SUV @0x126450e88>\n",
      "Removing #<ATOM :H121/:H @0x131e6b009> from #<RESIDUE :SUV @0x126450e88>\n",
      "Removing #<ATOM :H122/:H @0x131e6ef09> from #<RESIDUE :SUV @0x126450e88>\n",
      "Removing #<ATOM :N3/:N @0x131e6ee19> from #<RESIDUE :SUV @0x126450e88>\n",
      "Removing #<ATOM :C17/:C @0x131e6ed29> from #<RESIDUE :SUV @0x126450e88>\n",
      "Removing #<ATOM :O2/:O @0x131e6ec39> from #<RESIDUE :SUV @0x126450e88>\n",
      "Removing #<ATOM :C19/:C @0x131e6eb49> from #<RESIDUE :SUV @0x126450e88>\n",
      "Removing #<ATOM :C24/:C @0x131e6ea59> from #<RESIDUE :SUV @0x126450e88>\n",
      "Removing #<ATOM :C23/:C @0x131e6e969> from #<RESIDUE :SUV @0x126450e88>\n",
      "Removing #<ATOM :C22/:C @0x131e6e879> from #<RESIDUE :SUV @0x126450e88>\n",
      "Removing #<ATOM :C21/:C @0x131e6e789> from #<RESIDUE :SUV @0x126450e88>\n",
      "Removing #<ATOM :H21/:H @0x131e6e699> from #<RESIDUE :SUV @0x126450e88>\n",
      "Removing #<ATOM :H22/:H @0x131e6e5a9> from #<RESIDUE :SUV @0x126450e88>\n",
      "Removing #<ATOM :C29/:C @0x131e6e4b9> from #<RESIDUE :SUV @0x126450e88>\n",
      "Removing #<ATOM :H291/:H @0x131e6e3c9> from #<RESIDUE :SUV @0x126450e88>\n",
      "Removing #<ATOM :H292/:H @0x131e6e2d9> from #<RESIDUE :SUV @0x126450e88>\n",
      "Removing #<ATOM :H293/:H @0x131e6e1e9> from #<RESIDUE :SUV @0x126450e88>\n",
      "Removing #<ATOM :H24/:H @0x131e6e0f9> from #<RESIDUE :SUV @0x126450e88>\n",
      "Removing #<ATOM :C20/:C @0x131e6e009> from #<RESIDUE :SUV @0x126450e88>\n",
      "Removing #<ATOM :N4/:N @0x131e74f09> from #<RESIDUE :SUV @0x126450e88>\n",
      "Removing #<ATOM :N5/:N @0x131e74e19> from #<RESIDUE :SUV @0x126450e88>\n",
      "Removing #<ATOM :C27/:C @0x131e74d29> from #<RESIDUE :SUV @0x126450e88>\n",
      "Removing #<ATOM :H27/:H @0x131e74c39> from #<RESIDUE :SUV @0x126450e88>\n",
      "Removing #<ATOM :C28/:C @0x131e74b49> from #<RESIDUE :SUV @0x126450e88>\n",
      "Removing #<ATOM :H28/:H @0x131e74a59> from #<RESIDUE :SUV @0x126450e88>\n",
      "Removing #<ATOM :N6/:N @0x131e74969> from #<RESIDUE :SUV @0x126450e88>\n",
      "Removing atoms (#<ATOM :N6/:N @0x13b65e2d9> #<ATOM :H28/:H @0x13b65e3c9>\n",
      " #<ATOM :C28/:C @0x13b65e4b9> #<ATOM :H27/:H @0x13b65e5a9>\n",
      " #<ATOM :C27/:C @0x13b65e699> #<ATOM :N5/:N @0x13b65e789>\n",
      " #<ATOM :N4/:N @0x13b65e879> #<ATOM :C20/:C @0x13b65e969>\n",
      " #<ATOM :H24/:H @0x13b65ea59> #<ATOM :H293/:H @0x13b65eb49>\n",
      " #<ATOM :H292/:H @0x13b65ec39> #<ATOM :H291/:H @0x13b65ed29>\n",
      " #<ATOM :C29/:C @0x13b65ee19> #<ATOM :H22/:H @0x13b65ef09>\n",
      " #<ATOM :H21/:H @0x13b65c009> #<ATOM :C21/:C @0x13b65c0f9>\n",
      " #<ATOM :C22/:C @0x13b65c1e9> #<ATOM :C23/:C @0x13b65c2d9>\n",
      " #<ATOM :C24/:C @0x13b65c3c9> #<ATOM :C19/:C @0x13b65c4b9>\n",
      " #<ATOM :O2/:O @0x13b65c5a9> #<ATOM :C17/:C @0x13b65c699>\n",
      " #<ATOM :N3/:N @0x13b65c789> #<ATOM :H122/:H @0x13b65c879>\n",
      " #<ATOM :H121/:H @0x13b65c969> #<ATOM :C12/:C @0x13b65ca59>\n",
      " #<ATOM :H112/:H @0x13b65cb49> #<ATOM :H111/:H @0x13b65cc39>\n",
      " #<ATOM :C11/:C @0x13b65cd29> #<ATOM :H162/:H @0x13b65ce19>\n",
      " #<ATOM :H161/:H @0x13b65cf09> #<ATOM :H152/:H @0x13b65a009>\n",
      " #<ATOM :H151/:H @0x13b65a0f9> #<ATOM :H303/:H @0x13b65a1e9>\n",
      " #<ATOM :H302/:H @0x13b65a2d9> #<ATOM :H301/:H @0x13b65a3c9>\n",
      " #<ATOM :C30/:C @0x13b65a4b9> #<ATOM :H14/:H @0x13b65a5a9>\n",
      " #<ATOM :C14/:C @0x13b65a699> #<ATOM :C15/:C @0x13b65a789>\n",
      " #<ATOM :C16/:C @0x13b65a879> #<ATOM :N1/:N @0x13b65a969>\n",
      " #<ATOM :C1/:C @0x13b65aa59> #<ATOM :N2/:N @0x13b65ab49>\n",
      " #<ATOM :CL1/:Cl @0x13b65af09> #<ATOM :H6/:H @0x13b6580f9>\n",
      " #<ATOM :O1/:O @0x13b6582d9> #<ATOM :H7/:H @0x13b6584b9>)\n",
      "Removing #<ATOM :H7/:H @0x131e74789> from #<RESIDUE :SUV @0x126450e08>\n",
      "Removing #<ATOM :O1/:O @0x131e745a9> from #<RESIDUE :SUV @0x126450e08>\n",
      "Removing #<ATOM :H6/:H @0x131e743c9> from #<RESIDUE :SUV @0x126450e08>\n",
      "Removing #<ATOM :CL1/:Cl @0x131e741e9> from #<RESIDUE :SUV @0x126450e08>\n",
      "Removing #<ATOM :N2/:N @0x131e8fe19> from #<RESIDUE :SUV @0x126450e08>\n",
      "Removing #<ATOM :C1/:C @0x131e8fd29> from #<RESIDUE :SUV @0x126450e08>\n",
      "Removing #<ATOM :N1/:N @0x131e8fc39> from #<RESIDUE :SUV @0x126450e08>\n",
      "Removing #<ATOM :C16/:C @0x131e8fb49> from #<RESIDUE :SUV @0x126450e08>\n",
      "Removing #<ATOM :C15/:C @0x131e8fa59> from #<RESIDUE :SUV @0x126450e08>\n",
      "Removing #<ATOM :C14/:C @0x131e8f969> from #<RESIDUE :SUV @0x126450e08>\n",
      "Removing #<ATOM :H14/:H @0x131e8f879> from #<RESIDUE :SUV @0x126450e08>\n",
      "Removing #<ATOM :C30/:C @0x131e8f789> from #<RESIDUE :SUV @0x126450e08>\n",
      "Removing #<ATOM :H301/:H @0x131e8f699> from #<RESIDUE :SUV @0x126450e08>\n",
      "Removing #<ATOM :H302/:H @0x131e8f5a9> from #<RESIDUE :SUV @0x126450e08>\n",
      "Removing #<ATOM :H303/:H @0x131e8f4b9> from #<RESIDUE :SUV @0x126450e08>\n",
      "Removing #<ATOM :H151/:H @0x131e8f3c9> from #<RESIDUE :SUV @0x126450e08>\n",
      "Removing #<ATOM :H152/:H @0x131e8f2d9> from #<RESIDUE :SUV @0x126450e08>\n",
      "Removing #<ATOM :H161/:H @0x131e8f1e9> from #<RESIDUE :SUV @0x126450e08>\n",
      "Removing #<ATOM :H162/:H @0x131e8f0f9> from #<RESIDUE :SUV @0x126450e08>\n",
      "Removing #<ATOM :C11/:C @0x131e8f009> from #<RESIDUE :SUV @0x126450e08>\n",
      "Removing #<ATOM :H111/:H @0x131e91f09> from #<RESIDUE :SUV @0x126450e08>\n",
      "Removing #<ATOM :H112/:H @0x131e91e19> from #<RESIDUE :SUV @0x126450e08>\n",
      "Removing #<ATOM :C12/:C @0x131e91d29> from #<RESIDUE :SUV @0x126450e08>\n",
      "Removing #<ATOM :H121/:H @0x131e91c39> from #<RESIDUE :SUV @0x126450e08>\n",
      "Removing #<ATOM :H122/:H @0x131e91b49> from #<RESIDUE :SUV @0x126450e08>\n",
      "Removing #<ATOM :N3/:N @0x131e91a59> from #<RESIDUE :SUV @0x126450e08>\n",
      "Removing #<ATOM :C17/:C @0x131e91969> from #<RESIDUE :SUV @0x126450e08>\n",
      "Removing #<ATOM :O2/:O @0x131e91879> from #<RESIDUE :SUV @0x126450e08>\n",
      "Removing #<ATOM :C19/:C @0x131e91789> from #<RESIDUE :SUV @0x126450e08>\n",
      "Removing #<ATOM :C24/:C @0x131e91699> from #<RESIDUE :SUV @0x126450e08>\n",
      "Removing #<ATOM :C23/:C @0x131e915a9> from #<RESIDUE :SUV @0x126450e08>\n",
      "Removing #<ATOM :C22/:C @0x131e914b9> from #<RESIDUE :SUV @0x126450e08>\n",
      "Removing #<ATOM :C21/:C @0x131e913c9> from #<RESIDUE :SUV @0x126450e08>\n",
      "Removing #<ATOM :H21/:H @0x131e912d9> from #<RESIDUE :SUV @0x126450e08>\n",
      "Removing #<ATOM :H22/:H @0x131e911e9> from #<RESIDUE :SUV @0x126450e08>\n",
      "Removing #<ATOM :C29/:C @0x131e910f9> from #<RESIDUE :SUV @0x126450e08>\n",
      "Removing #<ATOM :H291/:H @0x131e91009> from #<RESIDUE :SUV @0x126450e08>\n",
      "Removing #<ATOM :H292/:H @0x131ea2f09> from #<RESIDUE :SUV @0x126450e08>\n",
      "Removing #<ATOM :H293/:H @0x131ea2e19> from #<RESIDUE :SUV @0x126450e08>\n",
      "Removing #<ATOM :H24/:H @0x131ea2d29> from #<RESIDUE :SUV @0x126450e08>\n",
      "Removing #<ATOM :C20/:C @0x131ea2c39> from #<RESIDUE :SUV @0x126450e08>\n",
      "Removing #<ATOM :N4/:N @0x131ea2b49> from #<RESIDUE :SUV @0x126450e08>\n",
      "Removing #<ATOM :N5/:N @0x131ea2a59> from #<RESIDUE :SUV @0x126450e08>\n",
      "Removing #<ATOM :C27/:C @0x131ea2969> from #<RESIDUE :SUV @0x126450e08>\n",
      "Removing #<ATOM :H27/:H @0x131ea2879> from #<RESIDUE :SUV @0x126450e08>\n",
      "Removing #<ATOM :C28/:C @0x131ea2789> from #<RESIDUE :SUV @0x126450e08>\n",
      "Removing #<ATOM :H28/:H @0x131ea2699> from #<RESIDUE :SUV @0x126450e08>\n",
      "Removing #<ATOM :N6/:N @0x131ea25a9> from #<RESIDUE :SUV @0x126450e08>\n",
      "Removing atoms (#<ATOM :N6/:N @0x13b65e2d9> #<ATOM :H28/:H @0x13b65e3c9>\n",
      " #<ATOM :C28/:C @0x13b65e4b9> #<ATOM :H27/:H @0x13b65e5a9>\n",
      " #<ATOM :C27/:C @0x13b65e699> #<ATOM :N5/:N @0x13b65e789>\n",
      " #<ATOM :N4/:N @0x13b65e879> #<ATOM :C20/:C @0x13b65e969>\n",
      " #<ATOM :H24/:H @0x13b65ea59> #<ATOM :H293/:H @0x13b65eb49>\n",
      " #<ATOM :H292/:H @0x13b65ec39> #<ATOM :H291/:H @0x13b65ed29>\n",
      " #<ATOM :C29/:C @0x13b65ee19> #<ATOM :H22/:H @0x13b65ef09>\n",
      " #<ATOM :H21/:H @0x13b65c009> #<ATOM :C21/:C @0x13b65c0f9>\n",
      " #<ATOM :C22/:C @0x13b65c1e9> #<ATOM :C23/:C @0x13b65c2d9>\n",
      " #<ATOM :C24/:C @0x13b65c3c9> #<ATOM :C19/:C @0x13b65c4b9>\n",
      " #<ATOM :O2/:O @0x13b65c5a9> #<ATOM :C17/:C @0x13b65c699>\n",
      " #<ATOM :N3/:N @0x13b65c789> #<ATOM :H122/:H @0x13b65c879>\n",
      " #<ATOM :H121/:H @0x13b65c969> #<ATOM :C12/:C @0x13b65ca59>\n",
      " #<ATOM :H112/:H @0x13b65cb49> #<ATOM :H111/:H @0x13b65cc39>\n",
      " #<ATOM :C11/:C @0x13b65cd29> #<ATOM :H162/:H @0x13b65ce19>\n",
      " #<ATOM :H161/:H @0x13b65cf09> #<ATOM :H152/:H @0x13b65a009>\n",
      " #<ATOM :H151/:H @0x13b65a0f9> #<ATOM :H303/:H @0x13b65a1e9>\n",
      " #<ATOM :H302/:H @0x13b65a2d9> #<ATOM :H301/:H @0x13b65a3c9>\n",
      " #<ATOM :C30/:C @0x13b65a4b9> #<ATOM :H14/:H @0x13b65a5a9>\n",
      " #<ATOM :C14/:C @0x13b65a699> #<ATOM :C15/:C @0x13b65a789>\n",
      " #<ATOM :C16/:C @0x13b65a879> #<ATOM :N1/:N @0x13b65a969>\n",
      " #<ATOM :C1/:C @0x13b65aa59> #<ATOM :N2/:N @0x13b65ab49>\n",
      " #<ATOM :CL1/:Cl @0x13b65af09> #<ATOM :H6/:H @0x13b6580f9>\n",
      " #<ATOM :O1/:O @0x13b6582d9> #<ATOM :H7/:H @0x13b6584b9>)\n",
      "Removing #<ATOM :H7/:H @0x131ea23c9> from #<RESIDUE :SUV @0x126450d88>\n",
      "Removing #<ATOM :O1/:O @0x131ea21e9> from #<RESIDUE :SUV @0x126450d88>\n",
      "Removing #<ATOM :H6/:H @0x131ea2009> from #<RESIDUE :SUV @0x126450d88>\n",
      "Removing #<ATOM :CL1/:Cl @0x131ed9e19> from #<RESIDUE :SUV @0x126450d88>\n",
      "Removing #<ATOM :N2/:N @0x131ed9a59> from #<RESIDUE :SUV @0x126450d88>\n",
      "Removing #<ATOM :C1/:C @0x131ed9969> from #<RESIDUE :SUV @0x126450d88>\n",
      "Removing #<ATOM :N1/:N @0x131ed9879> from #<RESIDUE :SUV @0x126450d88>\n",
      "Removing #<ATOM :C16/:C @0x131ed9789> from #<RESIDUE :SUV @0x126450d88>\n",
      "Removing #<ATOM :C15/:C @0x131ed9699> from #<RESIDUE :SUV @0x126450d88>\n",
      "Removing #<ATOM :C14/:C @0x131ed95a9> from #<RESIDUE :SUV @0x126450d88>\n",
      "Removing #<ATOM :H14/:H @0x131ed94b9> from #<RESIDUE :SUV @0x126450d88>\n",
      "Removing #<ATOM :C30/:C @0x131ed93c9> from #<RESIDUE :SUV @0x126450d88>\n",
      "Removing #<ATOM :H301/:H @0x131ed92d9> from #<RESIDUE :SUV @0x126450d88>\n",
      "Removing #<ATOM :H302/:H @0x131ed91e9> from #<RESIDUE :SUV @0x126450d88>\n",
      "Removing #<ATOM :H303/:H @0x131ed90f9> from #<RESIDUE :SUV @0x126450d88>\n",
      "Removing #<ATOM :H151/:H @0x131ed9009> from #<RESIDUE :SUV @0x126450d88>\n",
      "Removing #<ATOM :H152/:H @0x131eddf09> from #<RESIDUE :SUV @0x126450d88>\n",
      "Removing #<ATOM :H161/:H @0x131edde19> from #<RESIDUE :SUV @0x126450d88>\n",
      "Removing #<ATOM :H162/:H @0x131eddd29> from #<RESIDUE :SUV @0x126450d88>\n",
      "Removing #<ATOM :C11/:C @0x131eddc39> from #<RESIDUE :SUV @0x126450d88>\n",
      "Removing #<ATOM :H111/:H @0x131eddb49> from #<RESIDUE :SUV @0x126450d88>\n",
      "Removing #<ATOM :H112/:H @0x131edda59> from #<RESIDUE :SUV @0x126450d88>\n",
      "Removing #<ATOM :C12/:C @0x131edd969> from #<RESIDUE :SUV @0x126450d88>\n",
      "Removing #<ATOM :H121/:H @0x131edd879> from #<RESIDUE :SUV @0x126450d88>\n",
      "Removing #<ATOM :H122/:H @0x131edd789> from #<RESIDUE :SUV @0x126450d88>\n",
      "Removing #<ATOM :N3/:N @0x131edd699> from #<RESIDUE :SUV @0x126450d88>\n",
      "Removing #<ATOM :C17/:C @0x131edd5a9> from #<RESIDUE :SUV @0x126450d88>\n",
      "Removing #<ATOM :O2/:O @0x131edd4b9> from #<RESIDUE :SUV @0x126450d88>\n",
      "Removing #<ATOM :C19/:C @0x131edd3c9> from #<RESIDUE :SUV @0x126450d88>\n",
      "Removing #<ATOM :C24/:C @0x131edd2d9> from #<RESIDUE :SUV @0x126450d88>\n",
      "Removing #<ATOM :C23/:C @0x131edd1e9> from #<RESIDUE :SUV @0x126450d88>\n",
      "Removing #<ATOM :C22/:C @0x131edd0f9> from #<RESIDUE :SUV @0x126450d88>\n",
      "Removing #<ATOM :C21/:C @0x131edd009> from #<RESIDUE :SUV @0x126450d88>\n",
      "Removing #<ATOM :H21/:H @0x131ee0f09> from #<RESIDUE :SUV @0x126450d88>\n",
      "Removing #<ATOM :H22/:H @0x131ee0e19> from #<RESIDUE :SUV @0x126450d88>\n",
      "Removing #<ATOM :C29/:C @0x131ee0d29> from #<RESIDUE :SUV @0x126450d88>\n",
      "Removing #<ATOM :H291/:H @0x131ee0c39> from #<RESIDUE :SUV @0x126450d88>\n",
      "Removing #<ATOM :H292/:H @0x131ee0b49> from #<RESIDUE :SUV @0x126450d88>\n",
      "Removing #<ATOM :H293/:H @0x131ee0a59> from #<RESIDUE :SUV @0x126450d88>\n",
      "Removing #<ATOM :H24/:H @0x131ee0969> from #<RESIDUE :SUV @0x126450d88>\n",
      "Removing #<ATOM :C20/:C @0x131ee0879> from #<RESIDUE :SUV @0x126450d88>\n",
      "Removing #<ATOM :N4/:N @0x131ee0789> from #<RESIDUE :SUV @0x126450d88>\n",
      "Removing #<ATOM :N5/:N @0x131ee0699> from #<RESIDUE :SUV @0x126450d88>\n",
      "Removing #<ATOM :C27/:C @0x131ee05a9> from #<RESIDUE :SUV @0x126450d88>\n",
      "Removing #<ATOM :H27/:H @0x131ee04b9> from #<RESIDUE :SUV @0x126450d88>\n",
      "Removing #<ATOM :C28/:C @0x131ee03c9> from #<RESIDUE :SUV @0x126450d88>\n",
      "Removing #<ATOM :H28/:H @0x131ee02d9> from #<RESIDUE :SUV @0x126450d88>\n",
      "Removing #<ATOM :N6/:N @0x131ee01e9> from #<RESIDUE :SUV @0x126450d88>\n",
      "Removing atoms (#<ATOM :N6/:N @0x13b65e2d9> #<ATOM :H28/:H @0x13b65e3c9>\n",
      " #<ATOM :C28/:C @0x13b65e4b9> #<ATOM :H27/:H @0x13b65e5a9>\n",
      " #<ATOM :C27/:C @0x13b65e699> #<ATOM :N5/:N @0x13b65e789>\n",
      " #<ATOM :N4/:N @0x13b65e879> #<ATOM :C20/:C @0x13b65e969>\n",
      " #<ATOM :H24/:H @0x13b65ea59> #<ATOM :H293/:H @0x13b65eb49>\n",
      " #<ATOM :H292/:H @0x13b65ec39> #<ATOM :H291/:H @0x13b65ed29>\n",
      " #<ATOM :C29/:C @0x13b65ee19> #<ATOM :H22/:H @0x13b65ef09>\n",
      " #<ATOM :H21/:H @0x13b65c009> #<ATOM :C21/:C @0x13b65c0f9>\n",
      " #<ATOM :O2/:O @0x13b65c5a9> #<ATOM :H303/:H @0x13b65a1e9>\n",
      " #<ATOM :H302/:H @0x13b65a2d9> #<ATOM :H301/:H @0x13b65a3c9>\n",
      " #<ATOM :C30/:C @0x13b65a4b9> #<ATOM :CL1/:Cl @0x13b65af09>\n",
      " #<ATOM :H6/:H @0x13b6580f9> #<ATOM :O1/:O @0x13b6582d9>)\n",
      "Removing #<ATOM :O1/:O @0x131f05e19> from #<RESIDUE :SUV @0x126450d08>\n",
      "Removing #<ATOM :H6/:H @0x131f05c39> from #<RESIDUE :SUV @0x126450d08>\n",
      "Removing #<ATOM :CL1/:Cl @0x131f05a59> from #<RESIDUE :SUV @0x126450d08>\n",
      "Removing #<ATOM :C30/:C @0x131f05009> from #<RESIDUE :SUV @0x126450d08>\n",
      "Removing #<ATOM :H301/:H @0x131f07f09> from #<RESIDUE :SUV @0x126450d08>\n",
      "Removing #<ATOM :H302/:H @0x131f07e19> from #<RESIDUE :SUV @0x126450d08>\n",
      "Removing #<ATOM :H303/:H @0x131f07d29> from #<RESIDUE :SUV @0x126450d08>\n",
      "Removing #<ATOM :O2/:O @0x131f070f9> from #<RESIDUE :SUV @0x126450d08>\n",
      "Removing #<ATOM :C21/:C @0x131f0ac39> from #<RESIDUE :SUV @0x126450d08>\n",
      "Removing #<ATOM :H21/:H @0x131f0ab49> from #<RESIDUE :SUV @0x126450d08>\n",
      "Removing #<ATOM :H22/:H @0x131f0aa59> from #<RESIDUE :SUV @0x126450d08>\n",
      "Removing #<ATOM :C29/:C @0x131f0a969> from #<RESIDUE :SUV @0x126450d08>\n",
      "Removing #<ATOM :H291/:H @0x131f0a879> from #<RESIDUE :SUV @0x126450d08>\n",
      "Removing #<ATOM :H292/:H @0x131f0a789> from #<RESIDUE :SUV @0x126450d08>\n",
      "Removing #<ATOM :H293/:H @0x131f0a699> from #<RESIDUE :SUV @0x126450d08>\n",
      "Removing #<ATOM :H24/:H @0x131f0a5a9> from #<RESIDUE :SUV @0x126450d08>\n",
      "Removing #<ATOM :C20/:C @0x131f0a4b9> from #<RESIDUE :SUV @0x126450d08>\n",
      "Removing #<ATOM :N4/:N @0x131f0a3c9> from #<RESIDUE :SUV @0x126450d08>\n",
      "Removing #<ATOM :N5/:N @0x131f0a2d9> from #<RESIDUE :SUV @0x126450d08>\n",
      "Removing #<ATOM :C27/:C @0x131f0a1e9> from #<RESIDUE :SUV @0x126450d08>\n",
      "Removing #<ATOM :H27/:H @0x131f0a0f9> from #<RESIDUE :SUV @0x126450d08>\n",
      "Removing #<ATOM :C28/:C @0x131f0a009> from #<RESIDUE :SUV @0x126450d08>\n",
      "Removing #<ATOM :H28/:H @0x131f10f09> from #<RESIDUE :SUV @0x126450d08>\n",
      "Removing #<ATOM :N6/:N @0x131f10e19> from #<RESIDUE :SUV @0x126450d08>\n",
      "Removing atoms (#<ATOM :N6/:N @0x13b65e2d9> #<ATOM :H28/:H @0x13b65e3c9>\n",
      " #<ATOM :C28/:C @0x13b65e4b9> #<ATOM :H27/:H @0x13b65e5a9>\n",
      " #<ATOM :C27/:C @0x13b65e699> #<ATOM :N5/:N @0x13b65e789>\n",
      " #<ATOM :N4/:N @0x13b65e879> #<ATOM :C20/:C @0x13b65e969>\n",
      " #<ATOM :H24/:H @0x13b65ea59> #<ATOM :H293/:H @0x13b65eb49>\n",
      " #<ATOM :H292/:H @0x13b65ec39> #<ATOM :H291/:H @0x13b65ed29>\n",
      " #<ATOM :C29/:C @0x13b65ee19> #<ATOM :H22/:H @0x13b65ef09>\n",
      " #<ATOM :H21/:H @0x13b65c009> #<ATOM :C21/:C @0x13b65c0f9>\n",
      " #<ATOM :C22/:C @0x13b65c1e9> #<ATOM :C23/:C @0x13b65c2d9>\n",
      " #<ATOM :C24/:C @0x13b65c3c9> #<ATOM :C19/:C @0x13b65c4b9>\n",
      " #<ATOM :O2/:O @0x13b65c5a9> #<ATOM :CL1/:Cl @0x13b65af09>\n",
      " #<ATOM :H6/:H @0x13b6580f9> #<ATOM :O1/:O @0x13b6582d9>)\n",
      "Removing #<ATOM :O1/:O @0x131f10a59> from #<RESIDUE :SUV @0x126450c88>\n",
      "Removing #<ATOM :H6/:H @0x131f10879> from #<RESIDUE :SUV @0x126450c88>\n",
      "Removing #<ATOM :CL1/:Cl @0x131f10699> from #<RESIDUE :SUV @0x126450c88>\n",
      "Removing #<ATOM :O2/:O @0x131f3cd29> from #<RESIDUE :SUV @0x126450c88>\n",
      "Removing #<ATOM :C19/:C @0x131f3cc39> from #<RESIDUE :SUV @0x126450c88>\n",
      "Removing #<ATOM :C24/:C @0x131f3cb49> from #<RESIDUE :SUV @0x126450c88>\n",
      "Removing #<ATOM :C23/:C @0x131f3ca59> from #<RESIDUE :SUV @0x126450c88>\n",
      "Removing #<ATOM :C22/:C @0x131f3c969> from #<RESIDUE :SUV @0x126450c88>\n",
      "Removing #<ATOM :C21/:C @0x131f3c879> from #<RESIDUE :SUV @0x126450c88>\n",
      "Removing #<ATOM :H21/:H @0x131f3c789> from #<RESIDUE :SUV @0x126450c88>\n",
      "Removing #<ATOM :H22/:H @0x131f3c699> from #<RESIDUE :SUV @0x126450c88>\n",
      "Removing #<ATOM :C29/:C @0x131f3c5a9> from #<RESIDUE :SUV @0x126450c88>\n",
      "Removing #<ATOM :H291/:H @0x131f3c4b9> from #<RESIDUE :SUV @0x126450c88>\n",
      "Removing #<ATOM :H292/:H @0x131f3c3c9> from #<RESIDUE :SUV @0x126450c88>\n",
      "Removing #<ATOM :H293/:H @0x131f3c2d9> from #<RESIDUE :SUV @0x126450c88>\n",
      "Removing #<ATOM :H24/:H @0x131f3c1e9> from #<RESIDUE :SUV @0x126450c88>\n",
      "Removing #<ATOM :C20/:C @0x131f3c0f9> from #<RESIDUE :SUV @0x126450c88>\n",
      "Removing #<ATOM :N4/:N @0x131f3c009> from #<RESIDUE :SUV @0x126450c88>\n",
      "Removing #<ATOM :N5/:N @0x131f3ef09> from #<RESIDUE :SUV @0x126450c88>\n",
      "Removing #<ATOM :C27/:C @0x131f3ee19> from #<RESIDUE :SUV @0x126450c88>\n",
      "Removing #<ATOM :H27/:H @0x131f3ed29> from #<RESIDUE :SUV @0x126450c88>\n",
      "Removing #<ATOM :C28/:C @0x131f3ec39> from #<RESIDUE :SUV @0x126450c88>\n",
      "Removing #<ATOM :H28/:H @0x131f3eb49> from #<RESIDUE :SUV @0x126450c88>\n",
      "Removing #<ATOM :N6/:N @0x131f3ea59> from #<RESIDUE :SUV @0x126450c88>\n",
      "Removing atoms (#<ATOM :N6/:N @0x13b65e2d9> #<ATOM :H28/:H @0x13b65e3c9>\n",
      " #<ATOM :C28/:C @0x13b65e4b9> #<ATOM :H27/:H @0x13b65e5a9>\n",
      " #<ATOM :C27/:C @0x13b65e699> #<ATOM :N5/:N @0x13b65e789>\n",
      " #<ATOM :N4/:N @0x13b65e879> #<ATOM :C20/:C @0x13b65e969>\n",
      " #<ATOM :H24/:H @0x13b65ea59> #<ATOM :H293/:H @0x13b65eb49>\n",
      " #<ATOM :H292/:H @0x13b65ec39> #<ATOM :H291/:H @0x13b65ed29>\n",
      " #<ATOM :C29/:C @0x13b65ee19> #<ATOM :H22/:H @0x13b65ef09>\n",
      " #<ATOM :H21/:H @0x13b65c009> #<ATOM :C21/:C @0x13b65c0f9>\n",
      " #<ATOM :C22/:C @0x13b65c1e9> #<ATOM :C23/:C @0x13b65c2d9>\n",
      " #<ATOM :C24/:C @0x13b65c3c9> #<ATOM :C19/:C @0x13b65c4b9>\n",
      " #<ATOM :O2/:O @0x13b65c5a9> #<ATOM :CL1/:Cl @0x13b65af09>\n",
      " #<ATOM :H6/:H @0x13b6580f9> #<ATOM :O1/:O @0x13b6582d9>)\n",
      "Removing #<ATOM :O1/:O @0x131f3e699> from #<RESIDUE :SUV @0x126450c08>\n",
      "Removing #<ATOM :H6/:H @0x131f3e4b9> from #<RESIDUE :SUV @0x126450c08>\n",
      "Removing #<ATOM :CL1/:Cl @0x131f3e2d9> from #<RESIDUE :SUV @0x126450c08>\n",
      "Removing #<ATOM :O2/:O @0x131faf969> from #<RESIDUE :SUV @0x126450c08>\n",
      "Removing #<ATOM :C19/:C @0x131faf879> from #<RESIDUE :SUV @0x126450c08>\n",
      "Removing #<ATOM :C24/:C @0x131faf789> from #<RESIDUE :SUV @0x126450c08>\n",
      "Removing #<ATOM :C23/:C @0x131faf699> from #<RESIDUE :SUV @0x126450c08>\n",
      "Removing #<ATOM :C22/:C @0x131faf5a9> from #<RESIDUE :SUV @0x126450c08>\n",
      "Removing #<ATOM :C21/:C @0x131faf4b9> from #<RESIDUE :SUV @0x126450c08>\n",
      "Removing #<ATOM :H21/:H @0x131faf3c9> from #<RESIDUE :SUV @0x126450c08>\n",
      "Removing #<ATOM :H22/:H @0x131faf2d9> from #<RESIDUE :SUV @0x126450c08>\n",
      "Removing #<ATOM :C29/:C @0x131faf1e9> from #<RESIDUE :SUV @0x126450c08>\n",
      "Removing #<ATOM :H291/:H @0x131faf0f9> from #<RESIDUE :SUV @0x126450c08>\n",
      "Removing #<ATOM :H292/:H @0x131faf009> from #<RESIDUE :SUV @0x126450c08>\n",
      "Removing #<ATOM :H293/:H @0x131fc4f09> from #<RESIDUE :SUV @0x126450c08>\n",
      "Removing #<ATOM :H24/:H @0x131fc4e19> from #<RESIDUE :SUV @0x126450c08>\n",
      "Removing #<ATOM :C20/:C @0x131fc4d29> from #<RESIDUE :SUV @0x126450c08>\n",
      "Removing #<ATOM :N4/:N @0x131fc4c39> from #<RESIDUE :SUV @0x126450c08>\n",
      "Removing #<ATOM :N5/:N @0x131fc4b49> from #<RESIDUE :SUV @0x126450c08>\n",
      "Removing #<ATOM :C27/:C @0x131fc4a59> from #<RESIDUE :SUV @0x126450c08>\n",
      "Removing #<ATOM :H27/:H @0x131fc4969> from #<RESIDUE :SUV @0x126450c08>\n",
      "Removing #<ATOM :C28/:C @0x131fc4879> from #<RESIDUE :SUV @0x126450c08>\n",
      "Removing #<ATOM :H28/:H @0x131fc4789> from #<RESIDUE :SUV @0x126450c08>\n",
      "Removing #<ATOM :N6/:N @0x131fc4699> from #<RESIDUE :SUV @0x126450c08>\n",
      "Removing atoms (#<ATOM :N6/:N @0x13b65e2d9> #<ATOM :H28/:H @0x13b65e3c9>\n",
      " #<ATOM :C28/:C @0x13b65e4b9> #<ATOM :H27/:H @0x13b65e5a9>\n",
      " #<ATOM :C27/:C @0x13b65e699> #<ATOM :N5/:N @0x13b65e789>\n",
      " #<ATOM :N4/:N @0x13b65e879> #<ATOM :C20/:C @0x13b65e969>\n",
      " #<ATOM :H24/:H @0x13b65ea59> #<ATOM :H293/:H @0x13b65eb49>\n",
      " #<ATOM :H292/:H @0x13b65ec39> #<ATOM :H291/:H @0x13b65ed29>\n",
      " #<ATOM :C29/:C @0x13b65ee19> #<ATOM :H22/:H @0x13b65ef09>\n",
      " #<ATOM :H21/:H @0x13b65c009> #<ATOM :C21/:C @0x13b65c0f9>\n",
      " #<ATOM :C22/:C @0x13b65c1e9> #<ATOM :C23/:C @0x13b65c2d9>\n",
      " #<ATOM :C24/:C @0x13b65c3c9> #<ATOM :C19/:C @0x13b65c4b9>\n",
      " #<ATOM :O2/:O @0x13b65c5a9> #<ATOM :CL1/:Cl @0x13b65af09>\n",
      " #<ATOM :H6/:H @0x13b6580f9> #<ATOM :O1/:O @0x13b6582d9>)\n",
      "Removing #<ATOM :O1/:O @0x131fc42d9> from #<RESIDUE :SUV @0x126450b88>\n",
      "Removing #<ATOM :H6/:H @0x131fc40f9> from #<RESIDUE :SUV @0x126450b88>\n",
      "Removing #<ATOM :CL1/:Cl @0x131906f09> from #<RESIDUE :SUV @0x126450b88>\n",
      "Removing #<ATOM :O2/:O @0x13190a5a9> from #<RESIDUE :SUV @0x126450b88>\n",
      "Removing #<ATOM :C19/:C @0x13190a4b9> from #<RESIDUE :SUV @0x126450b88>\n",
      "Removing #<ATOM :C24/:C @0x13190a3c9> from #<RESIDUE :SUV @0x126450b88>\n",
      "Removing #<ATOM :C23/:C @0x13190a2d9> from #<RESIDUE :SUV @0x126450b88>\n",
      "Removing #<ATOM :C22/:C @0x13190a1e9> from #<RESIDUE :SUV @0x126450b88>\n",
      "Removing #<ATOM :C21/:C @0x13190a0f9> from #<RESIDUE :SUV @0x126450b88>\n",
      "Removing #<ATOM :H21/:H @0x13190a009> from #<RESIDUE :SUV @0x126450b88>\n",
      "Removing #<ATOM :H22/:H @0x131914f09> from #<RESIDUE :SUV @0x126450b88>\n",
      "Removing #<ATOM :C29/:C @0x131914e19> from #<RESIDUE :SUV @0x126450b88>\n",
      "Removing #<ATOM :H291/:H @0x131914d29> from #<RESIDUE :SUV @0x126450b88>\n",
      "Removing #<ATOM :H292/:H @0x131914c39> from #<RESIDUE :SUV @0x126450b88>\n",
      "Removing #<ATOM :H293/:H @0x131914b49> from #<RESIDUE :SUV @0x126450b88>\n",
      "Removing #<ATOM :H24/:H @0x131914a59> from #<RESIDUE :SUV @0x126450b88>\n",
      "Removing #<ATOM :C20/:C @0x131914969> from #<RESIDUE :SUV @0x126450b88>\n",
      "Removing #<ATOM :N4/:N @0x131914879> from #<RESIDUE :SUV @0x126450b88>\n",
      "Removing #<ATOM :N5/:N @0x131914789> from #<RESIDUE :SUV @0x126450b88>\n",
      "Removing #<ATOM :C27/:C @0x131914699> from #<RESIDUE :SUV @0x126450b88>\n",
      "Removing #<ATOM :H27/:H @0x1319145a9> from #<RESIDUE :SUV @0x126450b88>\n",
      "Removing #<ATOM :C28/:C @0x1319144b9> from #<RESIDUE :SUV @0x126450b88>\n",
      "Removing #<ATOM :H28/:H @0x1319143c9> from #<RESIDUE :SUV @0x126450b88>\n",
      "Removing #<ATOM :N6/:N @0x1319142d9> from #<RESIDUE :SUV @0x126450b88>\n",
      "Removing atoms (#<ATOM :N6/:N @0x13b65e2d9> #<ATOM :H28/:H @0x13b65e3c9>\n",
      " #<ATOM :C28/:C @0x13b65e4b9> #<ATOM :H27/:H @0x13b65e5a9>\n",
      " #<ATOM :C27/:C @0x13b65e699> #<ATOM :N5/:N @0x13b65e789>\n",
      " #<ATOM :N4/:N @0x13b65e879> #<ATOM :C20/:C @0x13b65e969>\n",
      " #<ATOM :H24/:H @0x13b65ea59> #<ATOM :H293/:H @0x13b65eb49>\n",
      " #<ATOM :H292/:H @0x13b65ec39> #<ATOM :H291/:H @0x13b65ed29>\n",
      " #<ATOM :C29/:C @0x13b65ee19> #<ATOM :H22/:H @0x13b65ef09>\n",
      " #<ATOM :H21/:H @0x13b65c009> #<ATOM :C21/:C @0x13b65c0f9>\n",
      " #<ATOM :C22/:C @0x13b65c1e9> #<ATOM :C23/:C @0x13b65c2d9>\n",
      " #<ATOM :C24/:C @0x13b65c3c9> #<ATOM :C19/:C @0x13b65c4b9>\n",
      " #<ATOM :O2/:O @0x13b65c5a9> #<ATOM :CL1/:Cl @0x13b65af09>\n",
      " #<ATOM :H6/:H @0x13b6580f9> #<ATOM :O1/:O @0x13b6582d9>)\n",
      "Removing #<ATOM :O1/:O @0x131981f09> from #<RESIDUE :SUV @0x126450b08>\n",
      "Removing #<ATOM :H6/:H @0x131981d29> from #<RESIDUE :SUV @0x126450b08>\n",
      "Removing #<ATOM :CL1/:Cl @0x131981b49> from #<RESIDUE :SUV @0x126450b08>\n",
      "Removing #<ATOM :O2/:O @0x1319a51e9> from #<RESIDUE :SUV @0x126450b08>\n",
      "Removing #<ATOM :C19/:C @0x1319a50f9> from #<RESIDUE :SUV @0x126450b08>\n",
      "Removing #<ATOM :C24/:C @0x1319a5009> from #<RESIDUE :SUV @0x126450b08>\n",
      "Removing #<ATOM :C23/:C @0x1319a9f09> from #<RESIDUE :SUV @0x126450b08>\n",
      "Removing #<ATOM :C22/:C @0x1319a9e19> from #<RESIDUE :SUV @0x126450b08>\n",
      "Removing #<ATOM :C21/:C @0x1319a9d29> from #<RESIDUE :SUV @0x126450b08>\n",
      "Removing #<ATOM :H21/:H @0x1319a9c39> from #<RESIDUE :SUV @0x126450b08>\n",
      "Removing #<ATOM :H22/:H @0x1319a9b49> from #<RESIDUE :SUV @0x126450b08>\n",
      "Removing #<ATOM :C29/:C @0x1319a9a59> from #<RESIDUE :SUV @0x126450b08>\n",
      "Removing #<ATOM :H291/:H @0x1319a9969> from #<RESIDUE :SUV @0x126450b08>\n",
      "Removing #<ATOM :H292/:H @0x1319a9879> from #<RESIDUE :SUV @0x126450b08>\n",
      "Removing #<ATOM :H293/:H @0x1319a9789> from #<RESIDUE :SUV @0x126450b08>\n",
      "Removing #<ATOM :H24/:H @0x1319a9699> from #<RESIDUE :SUV @0x126450b08>\n",
      "Removing #<ATOM :C20/:C @0x1319a95a9> from #<RESIDUE :SUV @0x126450b08>\n",
      "Removing #<ATOM :N4/:N @0x1319a94b9> from #<RESIDUE :SUV @0x126450b08>\n",
      "Removing #<ATOM :N5/:N @0x1319a93c9> from #<RESIDUE :SUV @0x126450b08>\n",
      "Removing #<ATOM :C27/:C @0x1319a92d9> from #<RESIDUE :SUV @0x126450b08>\n",
      "Removing #<ATOM :H27/:H @0x1319a91e9> from #<RESIDUE :SUV @0x126450b08>\n",
      "Removing #<ATOM :C28/:C @0x1319a90f9> from #<RESIDUE :SUV @0x126450b08>\n",
      "Removing #<ATOM :H28/:H @0x1319a9009> from #<RESIDUE :SUV @0x126450b08>\n",
      "Removing #<ATOM :N6/:N @0x1319acf09> from #<RESIDUE :SUV @0x126450b08>\n",
      "Removing atoms (#<ATOM :N6/:N @0x13b65e2d9> #<ATOM :H28/:H @0x13b65e3c9>\n",
      " #<ATOM :C28/:C @0x13b65e4b9> #<ATOM :H27/:H @0x13b65e5a9>\n",
      " #<ATOM :C27/:C @0x13b65e699> #<ATOM :N5/:N @0x13b65e789>\n",
      " #<ATOM :N4/:N @0x13b65e879> #<ATOM :C20/:C @0x13b65e969>\n",
      " #<ATOM :H24/:H @0x13b65ea59> #<ATOM :H293/:H @0x13b65eb49>\n",
      " #<ATOM :H292/:H @0x13b65ec39> #<ATOM :H291/:H @0x13b65ed29>\n",
      " #<ATOM :C29/:C @0x13b65ee19> #<ATOM :H22/:H @0x13b65ef09>\n",
      " #<ATOM :H21/:H @0x13b65c009> #<ATOM :C21/:C @0x13b65c0f9>\n",
      " #<ATOM :C22/:C @0x13b65c1e9> #<ATOM :C23/:C @0x13b65c2d9>\n",
      " #<ATOM :C24/:C @0x13b65c3c9> #<ATOM :C19/:C @0x13b65c4b9>\n",
      " #<ATOM :O2/:O @0x13b65c5a9> #<ATOM :CL1/:Cl @0x13b65af09>\n",
      " #<ATOM :H6/:H @0x13b6580f9> #<ATOM :O1/:O @0x13b6582d9>)\n",
      "Removing #<ATOM :O1/:O @0x1319acb49> from #<RESIDUE :SUV @0x126450a88>\n",
      "Removing #<ATOM :H6/:H @0x1319ac969> from #<RESIDUE :SUV @0x126450a88>\n",
      "Removing #<ATOM :CL1/:Cl @0x1319ac789> from #<RESIDUE :SUV @0x126450a88>\n",
      "Removing #<ATOM :O2/:O @0x131b24e19> from #<RESIDUE :SUV @0x126450a88>\n",
      "Removing #<ATOM :C19/:C @0x131b24d29> from #<RESIDUE :SUV @0x126450a88>\n",
      "Removing #<ATOM :C24/:C @0x131b24c39> from #<RESIDUE :SUV @0x126450a88>\n",
      "Removing #<ATOM :C23/:C @0x131b24b49> from #<RESIDUE :SUV @0x126450a88>\n",
      "Removing #<ATOM :C22/:C @0x131b24a59> from #<RESIDUE :SUV @0x126450a88>\n",
      "Removing #<ATOM :C21/:C @0x131b24969> from #<RESIDUE :SUV @0x126450a88>\n",
      "Removing #<ATOM :H21/:H @0x131b24879> from #<RESIDUE :SUV @0x126450a88>\n",
      "Removing #<ATOM :H22/:H @0x131b24789> from #<RESIDUE :SUV @0x126450a88>\n",
      "Removing #<ATOM :C29/:C @0x131b24699> from #<RESIDUE :SUV @0x126450a88>\n",
      "Removing #<ATOM :H291/:H @0x131b245a9> from #<RESIDUE :SUV @0x126450a88>\n",
      "Removing #<ATOM :H292/:H @0x131b244b9> from #<RESIDUE :SUV @0x126450a88>\n",
      "Removing #<ATOM :H293/:H @0x131b243c9> from #<RESIDUE :SUV @0x126450a88>\n",
      "Removing #<ATOM :H24/:H @0x131b242d9> from #<RESIDUE :SUV @0x126450a88>\n",
      "Removing #<ATOM :C20/:C @0x131b241e9> from #<RESIDUE :SUV @0x126450a88>\n",
      "Removing #<ATOM :N4/:N @0x131b240f9> from #<RESIDUE :SUV @0x126450a88>\n",
      "Removing #<ATOM :N5/:N @0x131b24009> from #<RESIDUE :SUV @0x126450a88>\n",
      "Removing #<ATOM :C27/:C @0x131b6ff09> from #<RESIDUE :SUV @0x126450a88>\n",
      "Removing #<ATOM :H27/:H @0x131b6fe19> from #<RESIDUE :SUV @0x126450a88>\n",
      "Removing #<ATOM :C28/:C @0x131b6fd29> from #<RESIDUE :SUV @0x126450a88>\n",
      "Removing #<ATOM :H28/:H @0x131b6fc39> from #<RESIDUE :SUV @0x126450a88>\n",
      "Removing #<ATOM :N6/:N @0x131b6fb49> from #<RESIDUE :SUV @0x126450a88>\n",
      "Removing atoms (#<ATOM :N6/:N @0x13b65e2d9> #<ATOM :H28/:H @0x13b65e3c9>\n",
      " #<ATOM :C28/:C @0x13b65e4b9> #<ATOM :H27/:H @0x13b65e5a9>\n",
      " #<ATOM :C27/:C @0x13b65e699> #<ATOM :N5/:N @0x13b65e789>\n",
      " #<ATOM :N4/:N @0x13b65e879> #<ATOM :C20/:C @0x13b65e969>\n",
      " #<ATOM :H24/:H @0x13b65ea59> #<ATOM :H293/:H @0x13b65eb49>\n",
      " #<ATOM :H292/:H @0x13b65ec39> #<ATOM :H291/:H @0x13b65ed29>\n",
      " #<ATOM :C29/:C @0x13b65ee19> #<ATOM :H22/:H @0x13b65ef09>\n",
      " #<ATOM :H21/:H @0x13b65c009> #<ATOM :C21/:C @0x13b65c0f9>\n",
      " #<ATOM :C22/:C @0x13b65c1e9> #<ATOM :C23/:C @0x13b65c2d9>\n",
      " #<ATOM :C24/:C @0x13b65c3c9> #<ATOM :H303/:H @0x13b65a1e9>\n",
      " #<ATOM :H302/:H @0x13b65a2d9> #<ATOM :H301/:H @0x13b65a3c9>\n",
      " #<ATOM :C30/:C @0x13b65a4b9> #<ATOM :CL1/:Cl @0x13b65af09>)\n",
      "Removing #<ATOM :CL1/:Cl @0x131b6f3c9> from #<RESIDUE :SUV @0x126450a08>\n",
      "Removing #<ATOM :C30/:C @0x131410969> from #<RESIDUE :SUV @0x126450a08>\n",
      "Removing #<ATOM :H301/:H @0x131410879> from #<RESIDUE :SUV @0x126450a08>\n",
      "Removing #<ATOM :H302/:H @0x131410789> from #<RESIDUE :SUV @0x126450a08>\n",
      "Removing #<ATOM :H303/:H @0x131410699> from #<RESIDUE :SUV @0x126450a08>\n",
      "Removing #<ATOM :C24/:C @0x131420879> from #<RESIDUE :SUV @0x126450a08>\n",
      "Removing #<ATOM :C23/:C @0x131420789> from #<RESIDUE :SUV @0x126450a08>\n",
      "Removing #<ATOM :C22/:C @0x131420699> from #<RESIDUE :SUV @0x126450a08>\n",
      "Removing #<ATOM :C21/:C @0x1314205a9> from #<RESIDUE :SUV @0x126450a08>\n",
      "Removing #<ATOM :H21/:H @0x1314204b9> from #<RESIDUE :SUV @0x126450a08>\n",
      "Removing #<ATOM :H22/:H @0x1314203c9> from #<RESIDUE :SUV @0x126450a08>\n",
      "Removing #<ATOM :C29/:C @0x1314202d9> from #<RESIDUE :SUV @0x126450a08>\n",
      "Removing #<ATOM :H291/:H @0x1314201e9> from #<RESIDUE :SUV @0x126450a08>\n",
      "Removing #<ATOM :H292/:H @0x1314200f9> from #<RESIDUE :SUV @0x126450a08>\n",
      "Removing #<ATOM :H293/:H @0x131420009> from #<RESIDUE :SUV @0x126450a08>\n",
      "Removing #<ATOM :H24/:H @0x131434f09> from #<RESIDUE :SUV @0x126450a08>\n",
      "Removing #<ATOM :C20/:C @0x131434e19> from #<RESIDUE :SUV @0x126450a08>\n",
      "Removing #<ATOM :N4/:N @0x131434d29> from #<RESIDUE :SUV @0x126450a08>\n",
      "Removing #<ATOM :N5/:N @0x131434c39> from #<RESIDUE :SUV @0x126450a08>\n",
      "Removing #<ATOM :C27/:C @0x131434b49> from #<RESIDUE :SUV @0x126450a08>\n",
      "Removing #<ATOM :H27/:H @0x131434a59> from #<RESIDUE :SUV @0x126450a08>\n",
      "Removing #<ATOM :C28/:C @0x131434969> from #<RESIDUE :SUV @0x126450a08>\n",
      "Removing #<ATOM :H28/:H @0x131434879> from #<RESIDUE :SUV @0x126450a08>\n",
      "Removing #<ATOM :N6/:N @0x131434789> from #<RESIDUE :SUV @0x126450a08>\n",
      "Removing atoms (#<ATOM :N6/:N @0x13b65e2d9> #<ATOM :H28/:H @0x13b65e3c9>\n",
      " #<ATOM :C28/:C @0x13b65e4b9> #<ATOM :H27/:H @0x13b65e5a9>\n",
      " #<ATOM :C27/:C @0x13b65e699> #<ATOM :N5/:N @0x13b65e789>\n",
      " #<ATOM :N4/:N @0x13b65e879> #<ATOM :C20/:C @0x13b65e969>\n",
      " #<ATOM :H24/:H @0x13b65ea59> #<ATOM :H293/:H @0x13b65eb49>\n",
      " #<ATOM :H292/:H @0x13b65ec39> #<ATOM :H291/:H @0x13b65ed29>\n",
      " #<ATOM :C29/:C @0x13b65ee19> #<ATOM :H22/:H @0x13b65ef09>\n",
      " #<ATOM :H21/:H @0x13b65c009> #<ATOM :C21/:C @0x13b65c0f9>\n",
      " #<ATOM :C22/:C @0x13b65c1e9> #<ATOM :C23/:C @0x13b65c2d9>\n",
      " #<ATOM :C24/:C @0x13b65c3c9> #<ATOM :H303/:H @0x13b65a1e9>\n",
      " #<ATOM :H302/:H @0x13b65a2d9> #<ATOM :H301/:H @0x13b65a3c9>\n",
      " #<ATOM :C30/:C @0x13b65a4b9> #<ATOM :CL1/:Cl @0x13b65af09>)\n",
      "Removing #<ATOM :CL1/:Cl @0x131434009> from #<RESIDUE :SUV @0x126450988>\n",
      "Removing #<ATOM :C30/:C @0x1314695a9> from #<RESIDUE :SUV @0x126450988>\n",
      "Removing #<ATOM :H301/:H @0x1314694b9> from #<RESIDUE :SUV @0x126450988>\n",
      "Removing #<ATOM :H302/:H @0x1314693c9> from #<RESIDUE :SUV @0x126450988>\n",
      "Removing #<ATOM :H303/:H @0x1314692d9> from #<RESIDUE :SUV @0x126450988>\n",
      "Removing #<ATOM :C24/:C @0x13146c4b9> from #<RESIDUE :SUV @0x126450988>\n",
      "Removing #<ATOM :C23/:C @0x13146c3c9> from #<RESIDUE :SUV @0x126450988>\n",
      "Removing #<ATOM :C22/:C @0x13146c2d9> from #<RESIDUE :SUV @0x126450988>\n",
      "Removing #<ATOM :C21/:C @0x13146c1e9> from #<RESIDUE :SUV @0x126450988>\n",
      "Removing #<ATOM :H21/:H @0x13146c0f9> from #<RESIDUE :SUV @0x126450988>\n",
      "Removing #<ATOM :H22/:H @0x13146c009> from #<RESIDUE :SUV @0x126450988>\n",
      "Removing #<ATOM :C29/:C @0x131486f09> from #<RESIDUE :SUV @0x126450988>\n",
      "Removing #<ATOM :H291/:H @0x131486e19> from #<RESIDUE :SUV @0x126450988>\n",
      "Removing #<ATOM :H292/:H @0x131486d29> from #<RESIDUE :SUV @0x126450988>\n",
      "Removing #<ATOM :H293/:H @0x131486c39> from #<RESIDUE :SUV @0x126450988>\n",
      "Removing #<ATOM :H24/:H @0x131486b49> from #<RESIDUE :SUV @0x126450988>\n",
      "Removing #<ATOM :C20/:C @0x131486a59> from #<RESIDUE :SUV @0x126450988>\n",
      "Removing #<ATOM :N4/:N @0x131486969> from #<RESIDUE :SUV @0x126450988>\n",
      "Removing #<ATOM :N5/:N @0x131486879> from #<RESIDUE :SUV @0x126450988>\n",
      "Removing #<ATOM :C27/:C @0x131486789> from #<RESIDUE :SUV @0x126450988>\n",
      "Removing #<ATOM :H27/:H @0x131486699> from #<RESIDUE :SUV @0x126450988>\n",
      "Removing #<ATOM :C28/:C @0x1314865a9> from #<RESIDUE :SUV @0x126450988>\n",
      "Removing #<ATOM :H28/:H @0x1314864b9> from #<RESIDUE :SUV @0x126450988>\n",
      "Removing #<ATOM :N6/:N @0x1314863c9> from #<RESIDUE :SUV @0x126450988>\n",
      "Removing atoms (#<ATOM :N6/:N @0x13b65e2d9> #<ATOM :H28/:H @0x13b65e3c9>\n",
      " #<ATOM :C28/:C @0x13b65e4b9> #<ATOM :H27/:H @0x13b65e5a9>\n",
      " #<ATOM :C27/:C @0x13b65e699> #<ATOM :N5/:N @0x13b65e789>\n",
      " #<ATOM :N4/:N @0x13b65e879> #<ATOM :C20/:C @0x13b65e969>\n",
      " #<ATOM :H24/:H @0x13b65ea59> #<ATOM :H293/:H @0x13b65eb49>\n",
      " #<ATOM :H292/:H @0x13b65ec39> #<ATOM :H291/:H @0x13b65ed29>\n",
      " #<ATOM :C29/:C @0x13b65ee19> #<ATOM :H22/:H @0x13b65ef09>\n",
      " #<ATOM :H21/:H @0x13b65c009> #<ATOM :C21/:C @0x13b65c0f9>\n",
      " #<ATOM :C22/:C @0x13b65c1e9> #<ATOM :H303/:H @0x13b65a1e9>\n",
      " #<ATOM :H302/:H @0x13b65a2d9> #<ATOM :H301/:H @0x13b65a3c9>\n",
      " #<ATOM :C30/:C @0x13b65a4b9> #<ATOM :CL1/:Cl @0x13b65af09>\n",
      " #<ATOM :H6/:H @0x13b6580f9> #<ATOM :O1/:O @0x13b6582d9>)\n",
      "Removing #<ATOM :O1/:O @0x131486009> from #<RESIDUE :SUV @0x126450908>\n",
      "Removing #<ATOM :H6/:H @0x131504e19> from #<RESIDUE :SUV @0x126450908>\n",
      "Removing #<ATOM :CL1/:Cl @0x131504c39> from #<RESIDUE :SUV @0x126450908>\n",
      "Removing #<ATOM :C30/:C @0x1315041e9> from #<RESIDUE :SUV @0x126450908>\n",
      "Removing #<ATOM :H301/:H @0x1315040f9> from #<RESIDUE :SUV @0x126450908>\n",
      "Removing #<ATOM :H302/:H @0x131504009> from #<RESIDUE :SUV @0x126450908>\n",
      "Removing #<ATOM :H303/:H @0x131507f09> from #<RESIDUE :SUV @0x126450908>\n",
      "Removing #<ATOM :C22/:C @0x13150bf09> from #<RESIDUE :SUV @0x126450908>\n",
      "Removing #<ATOM :C21/:C @0x13150be19> from #<RESIDUE :SUV @0x126450908>\n",
      "Removing #<ATOM :H21/:H @0x13150bd29> from #<RESIDUE :SUV @0x126450908>\n",
      "Removing #<ATOM :H22/:H @0x13150bc39> from #<RESIDUE :SUV @0x126450908>\n",
      "Removing #<ATOM :C29/:C @0x13150bb49> from #<RESIDUE :SUV @0x126450908>\n",
      "Removing #<ATOM :H291/:H @0x13150ba59> from #<RESIDUE :SUV @0x126450908>\n",
      "Removing #<ATOM :H292/:H @0x13150b969> from #<RESIDUE :SUV @0x126450908>\n",
      "Removing #<ATOM :H293/:H @0x13150b879> from #<RESIDUE :SUV @0x126450908>\n",
      "Removing #<ATOM :H24/:H @0x13150b789> from #<RESIDUE :SUV @0x126450908>\n",
      "Removing #<ATOM :C20/:C @0x13150b699> from #<RESIDUE :SUV @0x126450908>\n",
      "Removing #<ATOM :N4/:N @0x13150b5a9> from #<RESIDUE :SUV @0x126450908>\n",
      "Removing #<ATOM :N5/:N @0x13150b4b9> from #<RESIDUE :SUV @0x126450908>\n",
      "Removing #<ATOM :C27/:C @0x13150b3c9> from #<RESIDUE :SUV @0x126450908>\n",
      "Removing #<ATOM :H27/:H @0x13150b2d9> from #<RESIDUE :SUV @0x126450908>\n",
      "Removing #<ATOM :C28/:C @0x13150b1e9> from #<RESIDUE :SUV @0x126450908>\n",
      "Removing #<ATOM :H28/:H @0x13150b0f9> from #<RESIDUE :SUV @0x126450908>\n",
      "Removing #<ATOM :N6/:N @0x13150b009> from #<RESIDUE :SUV @0x126450908>\n",
      "Removing atoms (#<ATOM :H63/:H @0x13b6632d9> #<ATOM :H62/:H @0x13b6633c9>\n",
      " #<ATOM :H61/:H @0x13b6634b9> #<ATOM :C6/:C @0x13b6635a9>\n",
      " #<ATOM :O4/:O @0x13b663699> #<ATOM :H293/:H @0x13b663789>\n",
      " #<ATOM :C20/:C @0x13b663879> #<ATOM :H24/:H @0x13b663969>\n",
      " #<ATOM :H292/:H @0x13b663a59> #<ATOM :H291/:H @0x13b663b49>\n",
      " #<ATOM :C293/:C @0x13b663c39> #<ATOM :O29/:O @0x13b663d29>\n",
      " #<ATOM :H22/:H @0x13b663e19> #<ATOM :H21/:H @0x13b663f09>\n",
      " #<ATOM :C21/:C @0x13b661009> #<ATOM :C22/:C @0x13b6610f9>\n",
      " #<ATOM :C23/:C @0x13b6611e9> #<ATOM :C24/:C @0x13b6612d9>\n",
      " #<ATOM :C19/:C @0x13b6613c9> #<ATOM :CL6/:Cl @0x13b65fd29>)\n",
      "Removing #<ATOM :CL6/:Cl @0x131539a59> from #<RESIDUE :SUV @0x126450888>\n",
      "Removing #<ATOM :C19/:C @0x13153b0f9> from #<RESIDUE :SUV @0x126450888>\n",
      "Removing #<ATOM :C24/:C @0x13153b009> from #<RESIDUE :SUV @0x126450888>\n",
      "Removing #<ATOM :C23/:C @0x131575f09> from #<RESIDUE :SUV @0x126450888>\n",
      "Removing #<ATOM :C22/:C @0x131575e19> from #<RESIDUE :SUV @0x126450888>\n",
      "Removing #<ATOM :C21/:C @0x131575d29> from #<RESIDUE :SUV @0x126450888>\n",
      "Removing #<ATOM :H21/:H @0x131575c39> from #<RESIDUE :SUV @0x126450888>\n",
      "Removing #<ATOM :H22/:H @0x131575b49> from #<RESIDUE :SUV @0x126450888>\n",
      "Removing #<ATOM :O29/:O @0x131575a59> from #<RESIDUE :SUV @0x126450888>\n",
      "Removing #<ATOM :C293/:C @0x131575969> from #<RESIDUE :SUV @0x126450888>\n",
      "Removing #<ATOM :H291/:H @0x131575879> from #<RESIDUE :SUV @0x126450888>\n",
      "Removing #<ATOM :H292/:H @0x131575789> from #<RESIDUE :SUV @0x126450888>\n",
      "Removing #<ATOM :H24/:H @0x131575699> from #<RESIDUE :SUV @0x126450888>\n",
      "Removing #<ATOM :C20/:C @0x1315755a9> from #<RESIDUE :SUV @0x126450888>\n",
      "Removing #<ATOM :H293/:H @0x1315754b9> from #<RESIDUE :SUV @0x126450888>\n",
      "Removing #<ATOM :O4/:O @0x1315753c9> from #<RESIDUE :SUV @0x126450888>\n",
      "Removing #<ATOM :C6/:C @0x1315752d9> from #<RESIDUE :SUV @0x126450888>\n",
      "Removing #<ATOM :C6/:C @0x131539b49> from #<RESIDUE :SUV @0x126450888>\n",
      "Removing #<ATOM :H61/:H @0x1315751e9> from #<RESIDUE :SUV @0x126450888>\n",
      "Removing #<ATOM :H62/:H @0x1315750f9> from #<RESIDUE :SUV @0x126450888>\n",
      "Removing #<ATOM :H63/:H @0x131575009> from #<RESIDUE :SUV @0x126450888>\n",
      "Removing atoms (#<ATOM :H63/:H @0x13b6632d9> #<ATOM :H62/:H @0x13b6633c9>\n",
      " #<ATOM :H61/:H @0x13b6634b9> #<ATOM :C6/:C @0x13b6635a9>\n",
      " #<ATOM :O4/:O @0x13b663699> #<ATOM :H293/:H @0x13b663789>\n",
      " #<ATOM :C20/:C @0x13b663879> #<ATOM :H24/:H @0x13b663969>\n",
      " #<ATOM :H292/:H @0x13b663a59> #<ATOM :H291/:H @0x13b663b49>\n",
      " #<ATOM :C293/:C @0x13b663c39> #<ATOM :O29/:O @0x13b663d29>\n",
      " #<ATOM :H22/:H @0x13b663e19> #<ATOM :H21/:H @0x13b663f09>\n",
      " #<ATOM :C21/:C @0x13b661009> #<ATOM :C22/:C @0x13b6610f9>\n",
      " #<ATOM :C23/:C @0x13b6611e9> #<ATOM :C24/:C @0x13b6612d9>\n",
      " #<ATOM :CL6/:Cl @0x13b65fd29> #<ATOM :S1/:S @0x13b65ff09>)\n",
      "Removing #<ATOM :S1/:S @0x1315dac39> from #<RESIDUE :SUV @0x126450808>\n",
      "Removing #<ATOM :CL6/:Cl @0x1315daa59> from #<RESIDUE :SUV @0x126450808>\n",
      "Removing #<ATOM :C24/:C @0x1315de009> from #<RESIDUE :SUV @0x126450808>\n",
      "Removing #<ATOM :C23/:C @0x1315e6f09> from #<RESIDUE :SUV @0x126450808>\n",
      "Removing #<ATOM :C22/:C @0x1315e6e19> from #<RESIDUE :SUV @0x126450808>\n",
      "Removing #<ATOM :C21/:C @0x1315e6d29> from #<RESIDUE :SUV @0x126450808>\n",
      "Removing #<ATOM :H21/:H @0x1315e6c39> from #<RESIDUE :SUV @0x126450808>\n",
      "Removing #<ATOM :H22/:H @0x1315e6b49> from #<RESIDUE :SUV @0x126450808>\n",
      "Removing #<ATOM :O29/:O @0x1315e6a59> from #<RESIDUE :SUV @0x126450808>\n",
      "Removing #<ATOM :C293/:C @0x1315e6969> from #<RESIDUE :SUV @0x126450808>\n",
      "Removing #<ATOM :H291/:H @0x1315e6879> from #<RESIDUE :SUV @0x126450808>\n",
      "Removing #<ATOM :H292/:H @0x1315e6789> from #<RESIDUE :SUV @0x126450808>\n",
      "Removing #<ATOM :H24/:H @0x1315e6699> from #<RESIDUE :SUV @0x126450808>\n",
      "Removing #<ATOM :C20/:C @0x1315e65a9> from #<RESIDUE :SUV @0x126450808>\n",
      "Removing #<ATOM :H293/:H @0x1315e64b9> from #<RESIDUE :SUV @0x126450808>\n",
      "Removing #<ATOM :O4/:O @0x1315e63c9> from #<RESIDUE :SUV @0x126450808>\n",
      "Removing #<ATOM :C6/:C @0x1315e62d9> from #<RESIDUE :SUV @0x126450808>\n",
      "Removing #<ATOM :C6/:C @0x1315dab49> from #<RESIDUE :SUV @0x126450808>\n",
      "Removing #<ATOM :H61/:H @0x1315e61e9> from #<RESIDUE :SUV @0x126450808>\n",
      "Removing #<ATOM :H62/:H @0x1315e60f9> from #<RESIDUE :SUV @0x126450808>\n",
      "Removing #<ATOM :H63/:H @0x1315e6009> from #<RESIDUE :SUV @0x126450808>\n",
      "Removing atoms (#<ATOM :H63/:H @0x13b6632d9> #<ATOM :H62/:H @0x13b6633c9>\n",
      " #<ATOM :H61/:H @0x13b6634b9> #<ATOM :C6/:C @0x13b6635a9>\n",
      " #<ATOM :O4/:O @0x13b663699> #<ATOM :H293/:H @0x13b663789>\n",
      " #<ATOM :C20/:C @0x13b663879> #<ATOM :H24/:H @0x13b663969>\n",
      " #<ATOM :H292/:H @0x13b663a59> #<ATOM :H291/:H @0x13b663b49>\n",
      " #<ATOM :C293/:C @0x13b663c39> #<ATOM :O29/:O @0x13b663d29>\n",
      " #<ATOM :H22/:H @0x13b663e19> #<ATOM :H21/:H @0x13b663f09>\n",
      " #<ATOM :C21/:C @0x13b661009> #<ATOM :C22/:C @0x13b6610f9>\n",
      " #<ATOM :C23/:C @0x13b6611e9> #<ATOM :C24/:C @0x13b6612d9>\n",
      " #<ATOM :C19/:C @0x13b6613c9> #<ATOM :O2/:O @0x13b6614b9>\n",
      " #<ATOM :C17/:C @0x13b6615a9> #<ATOM :N3/:N @0x13b661699>\n",
      " #<ATOM :H122/:H @0x13b661789> #<ATOM :H121/:H @0x13b661879>\n",
      " #<ATOM :C12/:C @0x13b661969> #<ATOM :H112/:H @0x13b661a59>\n",
      " #<ATOM :H111/:H @0x13b661b49> #<ATOM :C11/:C @0x13b661c39>\n",
      " #<ATOM :H162/:H @0x13b661d29> #<ATOM :H161/:H @0x13b661e19>\n",
      " #<ATOM :H152/:H @0x13b661f09> #<ATOM :H151/:H @0x13b65f009>\n",
      " #<ATOM :H141/:H @0x13b65f0f9> #<ATOM :H14/:H @0x13b65f1e9>\n",
      " #<ATOM :C14/:C @0x13b65f2d9> #<ATOM :C15/:C @0x13b65f3c9>\n",
      " #<ATOM :C16/:C @0x13b65f4b9> #<ATOM :N1/:N @0x13b65f5a9>\n",
      " #<ATOM :C1/:C @0x13b65f699> #<ATOM :N2/:N @0x13b65f789>\n",
      " #<ATOM :CL6/:Cl @0x13b65fd29> #<ATOM :C6/:C @0x13b65fe19>\n",
      " #<ATOM :S1/:S @0x13b65ff09> #<ATOM :H7/:H @0x13b65e0f9>)\n",
      "Removing #<ATOM :H7/:H @0x131644e19> from #<RESIDUE :SUV @0x126450788>\n",
      "Removing #<ATOM :S1/:S @0x131644c39> from #<RESIDUE :SUV @0x126450788>\n",
      "Removing #<ATOM :C6/:C @0x1316492d9> from #<RESIDUE :SUV @0x126450788>\n",
      "Removing #<ATOM :C6/:C @0x131644b49> from #<RESIDUE :SUV @0x126450788>\n",
      "Removing #<ATOM :CL6/:Cl @0x131644a59> from #<RESIDUE :SUV @0x126450788>\n",
      "Removing #<ATOM :N2/:N @0x1316444b9> from #<RESIDUE :SUV @0x126450788>\n",
      "Removing #<ATOM :C1/:C @0x1316443c9> from #<RESIDUE :SUV @0x126450788>\n",
      "Removing #<ATOM :N1/:N @0x1316442d9> from #<RESIDUE :SUV @0x126450788>\n",
      "Removing #<ATOM :C16/:C @0x1316441e9> from #<RESIDUE :SUV @0x126450788>\n",
      "Removing #<ATOM :C15/:C @0x1316440f9> from #<RESIDUE :SUV @0x126450788>\n",
      "Removing #<ATOM :C14/:C @0x131644009> from #<RESIDUE :SUV @0x126450788>\n",
      "Removing #<ATOM :H14/:H @0x131647f09> from #<RESIDUE :SUV @0x126450788>\n",
      "Removing #<ATOM :H141/:H @0x131647e19> from #<RESIDUE :SUV @0x126450788>\n",
      "Removing #<ATOM :H151/:H @0x131647d29> from #<RESIDUE :SUV @0x126450788>\n",
      "Removing #<ATOM :H152/:H @0x131647c39> from #<RESIDUE :SUV @0x126450788>\n",
      "Removing #<ATOM :H161/:H @0x131647b49> from #<RESIDUE :SUV @0x126450788>\n",
      "Removing #<ATOM :H162/:H @0x131647a59> from #<RESIDUE :SUV @0x126450788>\n",
      "Removing #<ATOM :C11/:C @0x131647969> from #<RESIDUE :SUV @0x126450788>\n",
      "Removing #<ATOM :H111/:H @0x131647879> from #<RESIDUE :SUV @0x126450788>\n",
      "Removing #<ATOM :H112/:H @0x131647789> from #<RESIDUE :SUV @0x126450788>\n",
      "Removing #<ATOM :C12/:C @0x131647699> from #<RESIDUE :SUV @0x126450788>\n",
      "Removing #<ATOM :H121/:H @0x1316475a9> from #<RESIDUE :SUV @0x126450788>\n",
      "Removing #<ATOM :H122/:H @0x1316474b9> from #<RESIDUE :SUV @0x126450788>\n",
      "Removing #<ATOM :N3/:N @0x1316473c9> from #<RESIDUE :SUV @0x126450788>\n",
      "Removing #<ATOM :C17/:C @0x1316472d9> from #<RESIDUE :SUV @0x126450788>\n",
      "Removing #<ATOM :O2/:O @0x1316471e9> from #<RESIDUE :SUV @0x126450788>\n",
      "Removing #<ATOM :C19/:C @0x1316470f9> from #<RESIDUE :SUV @0x126450788>\n",
      "Removing #<ATOM :C24/:C @0x131647009> from #<RESIDUE :SUV @0x126450788>\n",
      "Removing #<ATOM :C23/:C @0x131649f09> from #<RESIDUE :SUV @0x126450788>\n",
      "Removing #<ATOM :C22/:C @0x131649e19> from #<RESIDUE :SUV @0x126450788>\n",
      "Removing #<ATOM :C21/:C @0x131649d29> from #<RESIDUE :SUV @0x126450788>\n",
      "Removing #<ATOM :H21/:H @0x131649c39> from #<RESIDUE :SUV @0x126450788>\n",
      "Removing #<ATOM :H22/:H @0x131649b49> from #<RESIDUE :SUV @0x126450788>\n",
      "Removing #<ATOM :O29/:O @0x131649a59> from #<RESIDUE :SUV @0x126450788>\n",
      "Removing #<ATOM :C293/:C @0x131649969> from #<RESIDUE :SUV @0x126450788>\n",
      "Removing #<ATOM :H291/:H @0x131649879> from #<RESIDUE :SUV @0x126450788>\n",
      "Removing #<ATOM :H292/:H @0x131649789> from #<RESIDUE :SUV @0x126450788>\n",
      "Removing #<ATOM :H24/:H @0x131649699> from #<RESIDUE :SUV @0x126450788>\n",
      "Removing #<ATOM :C20/:C @0x1316495a9> from #<RESIDUE :SUV @0x126450788>\n",
      "Removing #<ATOM :H293/:H @0x1316494b9> from #<RESIDUE :SUV @0x126450788>\n",
      "Removing #<ATOM :O4/:O @0x1316493c9> from #<RESIDUE :SUV @0x126450788>\n",
      "Removing #<ATOM :C6/:C @0x1316492d9> from #<RESIDUE :SUV @0x126450788>\n"
     ]
    },
    {
     "name": "stderr",
     "output_type": "stream",
     "text": [
      "\n",
      "An error occurred of type: SIMPLE-PROGRAM-ERROR: \n",
      "  Residue does not contain atom for removal\n",
      "\n",
      "serious-condition backtrace:\n",
      "0: (ERROR CORE:SIMPLE-PROGRAM-ERROR :FORMAT-CONTROL \"Residue does not contain atom for removal\" :FORMAT-ARGUMENTS NIL)\n",
      "1: (APPLY #<FUNCTION ERROR> CORE:SIMPLE-PROGRAM-ERROR :FORMAT-CONTROL \"Residue does not contain atom for removal\" :FORMAT-ARGUMENTS NIL NIL)\n",
      "2: (SIGNAL-SIMPLE-ERROR CORE:SIMPLE-PROGRAM-ERROR NIL \"Residue does not contain atom for removal\" NIL)\n",
      "3: (GENERATE-COMMON-SUB-MOLECULE #<MOLECULE NIL @0x13b645a28> (#<ATOM :H63/:H @0x13b6632d9> #<ATOM :H62/:H @0x13b6633c9> #<ATOM :H61/:H @0x13b6634b9> #<ATOM :C6/:C @0x13b6635a9> #<ATOM :O4/:O @0x13b663699> #<ATOM :H293/:H @0x13b663789> #<ATOM :C20/:C @0x13b663879> #<ATOM :H24/:H @0x13b663969> #<ATOM :H292/:H @0x13b663a59> #<ATOM :H291/:H @0x13b663b49> #<ATOM :C293/:C @0x13b663c39> #<ATOM :O29/:O @0x13b663d29> #<ATOM :H22/:H @0x13b663e19> #<ATOM :H21/:H @0x13b663f09> #<ATOM :C21/:C @0x13b661009> #<ATOM :C22/:C @0x13b6610f9> #<ATOM :C23/:C @0x13b6611e9> #<ATOM :C24/:C @0x13b6612d9> #<ATOM :C19/:C @0x13b6613c9> #<ATOM :O2/:O @0x13b6614b9> #<ATOM :C17/:C @0x13b6615a9> #<ATOM :N3/:N @0x13b661699> #<ATOM :H122/:H @0x13b661789> #<ATOM :H121/:H @0x13b661879> #<ATOM :C12/:C @0x13b661969> #<ATOM :H112/:H @0x13b661a59> #<ATOM :H111/:H @0x13b661b49> #<ATOM :C11/:C @0x13b661c39> #<ATOM :H162/:H @0x13b661d29> #<ATOM :H161/:H @0x13b661e19> #<ATOM :H152/:H @0x13b661f09> #<ATOM :H151/:H @0x13b65f009> #<ATOM :H141/:H @0x13b65f0f9> #<ATOM :H14/:H @0x13b65f1e9> #<ATOM :C14/:C @0x13b65f2d9> #<ATOM :C15/:C @0x13b65f3c9> #<ATOM :C16/:C @0x13b65f4b9> #<ATOM :N1/:N @0x13b65f5a9> #<ATOM :C1/:C @0x13b65f699> #<ATOM :N2/:N @0x13b65f789> #<ATOM :CL6/:Cl @0x13b65fd29> #<ATOM :C6/:C @0x13b65fe19> #<ATOM :S1/:S @0x13b65ff09> #<ATOM :H7/:H @0x13b65e0f9>))\n",
      "4: (MATCH-ALL-MOLECULES (#<MOLECULE NIL @0x13b645b48> #<MOLECULE NIL @0x13b645a28> #<MOLECULE NIL @0x13b645908> #<MOLECULE NIL @0x13b6457e8> #<MOLECULE NIL @0x13b6456c8> #<MOLECULE NIL @0x13b6455a8> #<MOLECULE NIL @0x13b645488> #<MOLECULE NIL @0x13b645368> #<MOLECULE NIL @0x13b645248> #<MOLECULE NIL @0x13b645128> #<MOLECULE NIL @0x13b645008> #<MOLECULE NIL @0x13b693ea8> #<MOLECULE NIL @0x13b693d88> #<MOLECULE NIL @0x13b693c68> #<MOLECULE NIL @0x13b693b48> #<MOLECULE NIL @0x13b693a28> #<MOLECULE NIL @0x13b693908> #<MOLECULE NIL @0x13b6937e8>))\n",
      "5: (LAMBDA)\n",
      "\n"
     ]
    },
    {
     "data": {
      "text/plain": [
       "NIL"
      ]
     },
     "execution_count": 28,
     "metadata": {},
     "output_type": "execute_result"
    }
   ],
   "source": [
    "(defparameter *c* (match-all-molecules *ligands*))"
   ]
  },
  {
   "cell_type": "code",
   "execution_count": 32,
   "metadata": {},
   "outputs": [
    {
     "data": {
      "text/plain": [
       "NIL"
      ]
     },
     "execution_count": 32,
     "metadata": {},
     "output_type": "execute_result"
    }
   ],
   "source": [
    "(dolist (m *ligands*) (chem:remove-molecule *merck* m))"
   ]
  },
  {
   "cell_type": "code",
   "execution_count": 33,
   "metadata": {},
   "outputs": [
    {
     "data": {
      "application/vnd.jupyter.widget-view+json": {
       "model_id": "84771186-0DA4-432F-9929-33DB1145252E",
       "version_major": 2,
       "version_minor": 0
      },
      "text/plain": [
       "#<NGLV:NGLWIDGET>"
      ]
     },
     "execution_count": 33,
     "metadata": {},
     "output_type": "execute_result"
    }
   ],
   "source": [
    "(show *merck*)"
   ]
  },
  {
   "cell_type": "code",
   "execution_count": 34,
   "metadata": {},
   "outputs": [
    {
     "data": {
      "text/plain": [
       "*MERCK0*"
      ]
     },
     "execution_count": 34,
     "metadata": {},
     "output_type": "execute_result"
    }
   ],
   "source": [
    "(defparameter *merck0* (combine *merck* (first *ligands*)))"
   ]
  },
  {
   "cell_type": "code",
   "execution_count": 35,
   "metadata": {},
   "outputs": [
    {
     "data": {
      "application/vnd.jupyter.widget-view+json": {
       "model_id": "45A98665-8720-4F64-80DE-5B32A716A296",
       "version_major": 2,
       "version_minor": 0
      },
      "text/plain": [
       "#<NGLV:NGLWIDGET>"
      ]
     },
     "execution_count": 35,
     "metadata": {},
     "output_type": "execute_result"
    }
   ],
   "source": [
    "(show *merck0*)"
   ]
  },
  {
   "cell_type": "code",
   "execution_count": 5,
   "metadata": {},
   "outputs": [
    {
     "name": "stderr",
     "output_type": "stream",
     "text": [
      "\n",
      "Undefined variable PA\n",
      "\n",
      "An error occurred of type: UNBOUND-VARIABLE: \n",
      "  The variable PA is unbound.\n",
      "\n",
      "serious-condition backtrace:\n",
      "0: (ERROR UNBOUND-VARIABLE :NAME PA)\n",
      "1: (LAMBDA)\n",
      "\n"
     ]
    },
    {
     "data": {
      "text/plain": [
       "NIL"
      ]
     },
     "execution_count": 5,
     "metadata": {},
     "output_type": "execute_result"
    }
   ],
   "source": [
    "(print PA)"
   ]
  },
  {
   "cell_type": "code",
   "execution_count": 15,
   "metadata": {},
   "outputs": [
    {
     "name": "stderr",
     "output_type": "stream",
     "text": [
      "\n",
      "Undefined function SEQUENCE\n",
      "\n",
      "An error occurred of type: UNDEFINED-FUNCTION: \n",
      "  The function SEQUENCE is undefined.\n",
      "\n",
      "serious-condition backtrace:\n",
      "0: (ERROR UNDEFINED-FUNCTION :NAME SEQUENCE)\n",
      "1: (LAMBDA)\n",
      "\n"
     ]
    },
    {
     "data": {
      "text/plain": [
       "NIL"
      ]
     },
     "execution_count": 15,
     "metadata": {},
     "output_type": "execute_result"
    }
   ],
   "source": [
    "(defparameter *p* (sequence PC PC))"
   ]
  },
  {
   "cell_type": "code",
   "execution_count": 16,
   "metadata": {},
   "outputs": [
    {
     "name": "stderr",
     "output_type": "stream",
     "text": [
      "Reader error: At\n",
      "\n",
      "  a = sequence { PC PC}\n",
      "              ^ (Line 1, Column 12, Position 12)\n",
      "\n",
      "In context ASSIGNMENT:\n",
      "\n",
      "While parsing FUNCTION-NAME. Problem:\n",
      "\n",
      "  The production\n",
      "\n",
      "  \"sequence\"\n",
      "\n",
      "does not satisfy the predicate LEAP.PARSER::FUNCTION-NAME-P.\n",
      "\n",
      "Expected:\n",
      "\n",
      "     a character in [a-z] or [A-Z] or [0-9] satisfying FUNCTION-NAME-P\n",
      "\n",
      "While parsing VARIABLE-NAME. Expected:\n",
      "\n",
      "     a character in [a-z] or [A-Z] or [0-9] or [/] or [~] or [.] or [_] (condition of type ESRAP-PARSE-ERROR)\n"
     ]
    },
    {
     "data": {
      "text/plain": [
       "NIL"
      ]
     },
     "execution_count": 16,
     "metadata": {},
     "output_type": "execute_result"
    }
   ],
   "source": [
    "a = sequence { PC PC}"
   ]
  },
  {
   "cell_type": "code",
   "execution_count": 16,
   "metadata": {},
   "outputs": [
    {
     "name": "stdout",
     "output_type": "stream",
     "text": [
      "Help is available on the following subjects: \n",
      "add                 addAtomTypes        addH                addIons             \n",
      "addIons2            addIonsRand         addPath             addPdbAtomMap       \n",
      "addPdbResMap        alignAxes           bond                cando               \n",
      "center              charge              compileSmarts       copy                \n",
      "createAtom          createResidue       createUnit          desc                \n",
      "dir                 help                listForceFields     loadAmberParams     \n",
      "loadChemDraw        loadChemDrawAggregateloadMol2            loadOff             \n",
      "loadPdb             loadSmirnoffParams  logFile             ls                  \n",
      "measureGeom         quit                saveAmberParms      setBox              \n",
      "setForceField       setupDefaultPaths   show                showPaths           \n",
      "solvateBox          solvateCap          solvateOct          solvateShell        \n",
      "source              startSwank          transform           translate           \n"
     ]
    },
    {
     "data": {
      "text/plain": [
       "((NIL))"
      ]
     },
     "execution_count": 16,
     "metadata": {},
     "output_type": "execute_result"
    }
   ],
   "source": [
    "help"
   ]
  },
  {
   "cell_type": "code",
   "execution_count": 18,
   "metadata": {},
   "outputs": [
    {
     "name": "stdout",
     "output_type": "stream",
     "text": [
      "#<TOPOLOGY  :name PC @0x12bb9b698>\n"
     ]
    },
    {
     "data": {
      "text/plain": [
       "((#<TOPOLOGY  :name PC @0x12bb9b698>))"
      ]
     },
     "execution_count": 18,
     "metadata": {},
     "output_type": "execute_result"
    }
   ],
   "source": [
    "desc PC"
   ]
  },
  {
   "cell_type": "code",
   "execution_count": null,
   "metadata": {},
   "outputs": [],
   "source": []
  }
 ],
 "metadata": {
  "kernelspec": {
   "display_name": "cando",
   "language": "lisp",
   "name": "cando"
  },
  "language_info": {
   "codemirror_mode": "text/x-common-lisp",
   "file_extension": ".lisp",
   "mimetype": "text/x-common-lisp",
   "name": "common-lisp",
   "pygments_lexer": "common-lisp",
   "version": "X3J13"
  }
 },
 "nbformat": 4,
 "nbformat_minor": 2
}
