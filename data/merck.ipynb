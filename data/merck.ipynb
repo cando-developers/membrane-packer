{
 "cells": [
  {
   "cell_type": "code",
   "execution_count": 1,
   "metadata": {},
   "outputs": [
    {
     "name": "stdout",
     "output_type": "stream",
     "text": [
      "Checking SLIME_HOME\n",
      "About to start swank server\n",
      "Started swank server\n"
     ]
    },
    {
     "data": {
      "text/plain": [
       "T"
      ]
     },
     "execution_count": 1,
     "metadata": {},
     "output_type": "execute_result"
    }
   ],
   "source": [
    "startSwank 4009"
   ]
  },
  {
   "cell_type": "code",
   "execution_count": 2,
   "metadata": {},
   "outputs": [
    {
     "name": "stdout",
     "output_type": "stream",
     "text": [
      "To load \"membrane-packer\":\n",
      "  Load 1 ASDF system:\n",
      "    membrane-packer\n",
      "\n",
      "; Loading \"membrane-packer\"\n",
      "[package membrane-packer]................\n"
     ]
    },
    {
     "data": {
      "text/plain": [
       "(\"membrane-packer\")"
      ]
     },
     "execution_count": 2,
     "metadata": {},
     "output_type": "execute_result"
    }
   ],
   "source": [
    "quickload \"membrane-packer\""
   ]
  },
  {
   "cell_type": "code",
   "execution_count": 3,
   "metadata": {},
   "outputs": [
    {
     "data": {
      "text/plain": [
       "#<FORCE-FIELD >"
      ]
     },
     "execution_count": 3,
     "metadata": {},
     "output_type": "execute_result"
    }
   ],
   "source": [
    "(membrane-packer::setup-system-membrane-force-field)"
   ]
  },
  {
   "cell_type": "code",
   "execution_count": 4,
   "metadata": {},
   "outputs": [
    {
     "name": "stdout",
     "output_type": "stream",
     "text": [
      ":DEFAULT (#<FORCE-FIELD >)\n",
      ":SYSTEM-MEMBRANE (#<FORCE-FIELD >)\n"
     ]
    },
    {
     "data": {
      "text/plain": [
       "NIL"
      ]
     },
     "execution_count": 4,
     "metadata": {},
     "output_type": "execute_result"
    }
   ],
   "source": [
    "(list-force-fields)"
   ]
  },
  {
   "cell_type": "code",
   "execution_count": 5,
   "metadata": {},
   "outputs": [
    {
     "data": {
      "text/plain": [
       "(#P\"/Users/meister/Development/amber18/dat/antechamber/\"\n",
       " #P\"/Users/meister/Development/amber18/dat/leap/cmd/\"\n",
       " #P\"/Users/meister/Development/amber18/dat/leap/parm/\"\n",
       " #P\"/Users/meister/Development/amber18/dat/leap/lib/\"\n",
       " #P\"/Users/meister/Development/amber18/dat/leap/prep/\")"
      ]
     },
     "execution_count": 5,
     "metadata": {},
     "output_type": "execute_result"
    }
   ],
   "source": [
    "setupAmberPaths"
   ]
  },
  {
   "cell_type": "code",
   "execution_count": 6,
   "metadata": {},
   "outputs": [
    {
     "name": "stdout",
     "output_type": "stream",
     "text": [
      "Warning!  Skipping 10-12 hbond in #<IOSTREAM-STREAM #P\"/Users/meister/Development/amber18/dat/leap/parm/parm10.dat\" file-pos 56064>\n",
      "Warning!  Skipping force field atom equivalences in #<IOSTREAM-STREAM #P\"/Users/meister/Development/amber18/dat/leap/parm/parm10.dat\" file-pos 56146>\n",
      "Adding force field parm10.dat to DEFAULT\n",
      "Adding force field frcmod.ff14SB to DEFAULT\n"
     ]
    },
    {
     "data": {
      "text/plain": [
       "T"
      ]
     },
     "execution_count": 6,
     "metadata": {},
     "output_type": "execute_result"
    }
   ],
   "source": [
    "source \"leaprc.protein.ff14SB\""
   ]
  },
  {
   "cell_type": "code",
   "execution_count": 7,
   "metadata": {},
   "outputs": [
    {
     "name": "stdout",
     "output_type": "stream",
     "text": [
      "Warning!  Skipping 10-12 hbond in #<IOSTREAM-STREAM #P\"/Users/meister/Development/amber18/dat/leap/parm/lipid14.dat\" file-pos 19299>\n",
      "Warning!  Skipping force field atom equivalences in #<IOSTREAM-STREAM #P\"/Users/meister/Development/amber18/dat/leap/parm/lipid14.dat\" file-pos 19407>\n",
      "Adding force field lipid14.dat to DEFAULT\n"
     ]
    },
    {
     "data": {
      "text/plain": [
       "T"
      ]
     },
     "execution_count": 7,
     "metadata": {},
     "output_type": "execute_result"
    }
   ],
   "source": [
    "source \"leaprc.lipid14\""
   ]
  },
  {
   "cell_type": "code",
   "execution_count": 8,
   "metadata": {},
   "outputs": [
    {
     "name": "stdout",
     "output_type": "stream",
     "text": [
      "Adding force field frcmod.tip3p to DEFAULT\n",
      "Adding force field frcmod.ionsjc_tip3p to DEFAULT\n",
      "Adding force field frcmod.ions234lm_126_tip3p to DEFAULT\n"
     ]
    },
    {
     "data": {
      "text/plain": [
       "T"
      ]
     },
     "execution_count": 8,
     "metadata": {},
     "output_type": "execute_result"
    }
   ],
   "source": [
    "source \"leaprc.water.tip3p\""
   ]
  },
  {
   "cell_type": "code",
   "execution_count": 9,
   "metadata": {},
   "outputs": [
    {
     "name": "stdout",
     "output_type": "stream",
     "text": [
      "Warning!  Skipping 10-12 hbond in #<IOSTREAM-STREAM #P\"/Users/meister/Development/amber18/dat/leap/parm/gaff.dat\" file-pos 477637>\n",
      "Warning!  Skipping force field atom equivalences in #<IOSTREAM-STREAM #P\"/Users/meister/Development/amber18/dat/leap/parm/gaff.dat\" file-pos 477719>\n",
      "Adding force field gaff.dat to DEFAULT\n"
     ]
    },
    {
     "data": {
      "text/plain": [
       "T"
      ]
     },
     "execution_count": 9,
     "metadata": {},
     "output_type": "execute_result"
    }
   ],
   "source": [
    "source \"leaprc.gaff\""
   ]
  },
  {
   "cell_type": "code",
   "execution_count": 12,
   "metadata": {},
   "outputs": [
    {
     "data": {
      "text/plain": [
       "#<AGGREGATE NIL 0>"
      ]
     },
     "execution_count": 12,
     "metadata": {},
     "output_type": "execute_result"
    }
   ],
   "source": [
    "prot = loadMoe /Users/meister/Development/cando-dev/extensions/cando/src/lisp/membrane-packer/data/merck_suvorexant_derivatives.moe"
   ]
  },
  {
   "cell_type": "code",
   "execution_count": 13,
   "metadata": {},
   "outputs": [
    {
     "data": {
      "application/vnd.jupyter.widget-view+json": {
       "model_id": "16BEDFF1-3881-42FC-B958-3ABE7A31DBF7",
       "version_major": 2,
       "version_minor": 0
      },
      "text/plain": [
       "#<NGLV:NGLWIDGET>"
      ]
     },
     "execution_count": 13,
     "metadata": {},
     "output_type": "execute_result"
    }
   ],
   "source": [
    "show prot"
   ]
  },
  {
   "cell_type": "code",
   "execution_count": 14,
   "metadata": {},
   "outputs": [
    {
     "data": {
      "text/plain": [
       "(#<MOLECULE NIL 3> #<MOLECULE NIL 4> #<MOLECULE NIL 5> #<MOLECULE NIL 6>\n",
       " #<MOLECULE NIL 7> #<MOLECULE NIL 8> #<MOLECULE NIL 9> #<MOLECULE NIL 10>\n",
       " #<MOLECULE NIL 11> #<MOLECULE NIL 12> #<MOLECULE NIL 13> #<MOLECULE NIL 14>\n",
       " #<MOLECULE NIL 15> #<MOLECULE NIL 16> #<MOLECULE NIL 17> #<MOLECULE NIL 18>\n",
       " #<MOLECULE NIL 19> #<MOLECULE NIL 20>)"
      ]
     },
     "execution_count": 14,
     "metadata": {},
     "output_type": "execute_result"
    }
   ],
   "source": [
    "ligands = (loop for index from 3 to 20 collect (removeMatter prot (molid prot index)))"
   ]
  },
  {
   "cell_type": "code",
   "execution_count": 15,
   "metadata": {},
   "outputs": [
    {
     "name": "stdout",
     "output_type": "stream",
     "text": [
      "Describing (#<MOLECULE NIL 3> #<MOLECULE NIL 4> #<MOLECULE NIL 5> #<MOLECULE NIL 6>\n",
      " #<MOLECULE NIL 7> #<MOLECULE NIL 8> #<MOLECULE NIL 9> #<MOLECULE NIL 10>\n",
      " #<MOLECULE NIL 11> #<MOLECULE NIL 12> #<MOLECULE NIL 13> #<MOLECULE NIL 14>\n",
      " #<MOLECULE NIL 15> #<MOLECULE NIL 16> #<MOLECULE NIL 17> #<MOLECULE NIL 18>\n",
      " #<MOLECULE NIL 19> #<MOLECULE NIL 20>)\n",
      "\n",
      "\n",
      "(#<MOLECULE NIL 3> #<MOLECULE NIL 4> #<MOLECULE NIL 5> #<MOLECULE NIL 6>\n",
      " #<MOLECULE NIL 7> #<MOLECULE NIL 8> #<MOLECULE NIL 9> #<MOLECULE NIL 10>\n",
      " #<MOLECULE NIL 11> #<MOLECULE NIL 12> #<MOLECULE NIL 13> #<MOLECULE NIL 14>\n",
      " #<MOLECULE NIL 15> #<MOLECULE NIL 16> #<MOLECULE NIL 17> #<MOLECULE NIL 18>\n",
      " #<MOLECULE NIL 19> #<MOLECULE NIL 20>) - cons\n"
     ]
    },
    {
     "data": {
      "text/plain": [
       "NIL"
      ]
     },
     "execution_count": 15,
     "metadata": {},
     "output_type": "execute_result"
    }
   ],
   "source": [
    "desc ligands"
   ]
  },
  {
   "cell_type": "code",
   "execution_count": 16,
   "metadata": {},
   "outputs": [
    {
     "name": "stdout",
     "output_type": "stream",
     "text": [
      "Missing-h NIL\n"
     ]
    },
    {
     "data": {
      "text/plain": [
       "#<SKETCH2D:SKETCH2D>"
      ]
     },
     "execution_count": 16,
     "metadata": {},
     "output_type": "execute_result"
    }
   ],
   "source": [
    "foo = (sketch2d:sketch2d (fourth ligands) :accumulate-coordinates t)"
   ]
  },
  {
   "cell_type": "code",
   "execution_count": 17,
   "metadata": {},
   "outputs": [
    {
     "data": {
      "application/vnd.jupyter.widget-view+json": {
       "model_id": "54EBBE2B-013E-4AF3-803C-EE28EA901947",
       "version_major": 2,
       "version_minor": 0
      },
      "text/plain": [
       "#<NGLV:NGLWIDGET>"
      ]
     },
     "execution_count": 17,
     "metadata": {},
     "output_type": "execute_result"
    }
   ],
   "source": [
    "(show (sketch2d::dynamics foo))"
   ]
  },
  {
   "cell_type": "code",
   "execution_count": 18,
   "metadata": {},
   "outputs": [
    {
     "name": "stdout",
     "output_type": "stream",
     "text": [
      "Missing-h NIL\n"
     ]
    },
    {
     "data": {
      "image/svg+xml": [
       "<?xml version=\"1.0\" standalone=\"no\"?>\n",
       "<svg viewport=\"0 0 460 156\" height=\"156\" width=\"460\" version=\"1.2\" id=\"\"\n",
       "    xmlns=\"http://www.w3.org/2000/svg\"\n",
       "    xmlns:xlink=\"http://www.w3.org/1999/xlink\">\n",
       "  <line x1=\"292.95\" y1=\"143.07\" x2=\"289.46\" y2=\"119.80\" fill=\"none\"\n",
       "        stroke=\"black\" stroke-width=\"2\" stroke-linecap=\"round\"/>\n",
       "  <line x1=\"296.05\" y1=\"106.63\" x2=\"316.29\" y2=\"95.72\" fill=\"none\"\n",
       "        stroke=\"black\" stroke-width=\"2\" stroke-linecap=\"round\"/>\n",
       "  <line x1=\"393.15\" y1=\"19.95\" x2=\"395.94\" y2=\"42.38\" fill=\"none\"\n",
       "        stroke=\"black\" stroke-width=\"2\" stroke-linecap=\"round\"/>\n",
       "  <line x1=\"389.19\" y1=\"55.68\" x2=\"368.92\" y2=\"66.96\" fill=\"none\"\n",
       "        stroke=\"black\" stroke-width=\"2\" stroke-linecap=\"round\"/>\n",
       "  <line x1=\"341.78\" y1=\"112.64\" x2=\"369.19\" y2=\"96.86\" fill=\"none\"\n",
       "        stroke=\"black\" stroke-width=\"2\" stroke-linecap=\"round\"/>\n",
       "  <line x1=\"342.75\" y1=\"106.31\" x2=\"363.23\" y2=\"94.52\" fill=\"none\"\n",
       "        stroke=\"black\" stroke-width=\"2\" stroke-linecap=\"round\"/>\n",
       "  <line x1=\"341.78\" y1=\"112.64\" x2=\"316.29\" y2=\"95.72\" fill=\"none\"\n",
       "        stroke=\"black\" stroke-width=\"2\" stroke-linecap=\"round\"/>\n",
       "  <line x1=\"369.19\" y1=\"96.86\" x2=\"368.92\" y2=\"66.96\" fill=\"none\"\n",
       "        stroke=\"black\" stroke-width=\"2\" stroke-linecap=\"round\"/>\n",
       "  <line x1=\"368.92\" y1=\"66.96\" x2=\"343.66\" y2=\"48.90\" fill=\"none\"\n",
       "        stroke=\"black\" stroke-width=\"2\" stroke-linecap=\"round\"/>\n",
       "  <line x1=\"362.76\" y1=\"68.70\" x2=\"344.01\" y2=\"55.29\" fill=\"none\"\n",
       "        stroke=\"black\" stroke-width=\"2\" stroke-linecap=\"round\"/>\n",
       "  <line x1=\"343.66\" y1=\"48.90\" x2=\"315.90\" y2=\"64.70\" fill=\"none\"\n",
       "        stroke=\"black\" stroke-width=\"2\" stroke-linecap=\"round\"/>\n",
       "  <line x1=\"315.90\" y1=\"64.70\" x2=\"316.29\" y2=\"95.72\" fill=\"none\"\n",
       "        stroke=\"black\" stroke-width=\"2\" stroke-linecap=\"round\"/>\n",
       "  <line x1=\"320.95\" y1=\"68.64\" x2=\"321.24\" y2=\"91.66\" fill=\"none\"\n",
       "        stroke=\"black\" stroke-width=\"2\" stroke-linecap=\"round\"/>\n",
       "  <line x1=\"315.90\" y1=\"64.70\" x2=\"290.59\" y2=\"48.47\" fill=\"none\"\n",
       "        stroke=\"black\" stroke-width=\"2\" stroke-linecap=\"round\"/>\n",
       "  <line x1=\"293.76\" y1=\"25.70\" x2=\"293.09\" y2=\"48.54\" fill=\"none\"\n",
       "        stroke=\"black\" stroke-width=\"2\" stroke-linecap=\"round\"/>\n",
       "  <line x1=\"288.76\" y1=\"25.56\" x2=\"288.09\" y2=\"48.40\" fill=\"none\"\n",
       "        stroke=\"black\" stroke-width=\"2\" stroke-linecap=\"round\"/>\n",
       "  <line x1=\"290.59\" y1=\"48.47\" x2=\"269.79\" y2=\"58.03\" fill=\"none\"\n",
       "        stroke=\"black\" stroke-width=\"2\" stroke-linecap=\"round\"/>\n",
       "  <line x1=\"255.01\" y1=\"55.67\" x2=\"238.50\" y2=\"40.41\" fill=\"none\"\n",
       "        stroke=\"black\" stroke-width=\"2\" stroke-linecap=\"round\"/>\n",
       "  <line x1=\"238.50\" y1=\"40.41\" x2=\"207.84\" y2=\"47.87\" fill=\"none\"\n",
       "        stroke=\"black\" stroke-width=\"2\" stroke-linecap=\"round\"/>\n",
       "  <line x1=\"262.12\" y1=\"92.68\" x2=\"261.76\" y2=\"70.78\" fill=\"none\"\n",
       "        stroke=\"black\" stroke-width=\"2\" stroke-linecap=\"round\"/>\n",
       "  <line x1=\"262.12\" y1=\"92.68\" x2=\"238.17\" y2=\"112.13\" fill=\"none\"\n",
       "        stroke=\"black\" stroke-width=\"2\" stroke-linecap=\"round\"/>\n",
       "  <line x1=\"238.17\" y1=\"112.13\" x2=\"206.76\" y2=\"103.41\" fill=\"none\"\n",
       "        stroke=\"black\" stroke-width=\"2\" stroke-linecap=\"round\"/>\n",
       "  <line x1=\"206.76\" y1=\"103.41\" x2=\"199.15\" y2=\"84.39\" fill=\"none\"\n",
       "        stroke=\"black\" stroke-width=\"2\" stroke-linecap=\"round\"/>\n",
       "  <line x1=\"199.35\" y1=\"67.75\" x2=\"207.84\" y2=\"47.87\" fill=\"none\"\n",
       "        stroke=\"black\" stroke-width=\"2\" stroke-linecap=\"round\"/>\n",
       "  <line x1=\"186.81\" y1=\"75.77\" x2=\"163.80\" y2=\"75.10\" fill=\"none\"\n",
       "        stroke=\"black\" stroke-width=\"2\" stroke-linecap=\"round\"/>\n",
       "  <line x1=\"163.80\" y1=\"75.10\" x2=\"151.03\" y2=\"56.48\" fill=\"none\"\n",
       "        stroke=\"black\" stroke-width=\"2\" stroke-linecap=\"round\"/>\n",
       "  <line x1=\"157.41\" y1=\"74.63\" x2=\"146.91\" y2=\"59.31\" fill=\"none\"\n",
       "        stroke=\"black\" stroke-width=\"2\" stroke-linecap=\"round\"/>\n",
       "  <line x1=\"163.80\" y1=\"75.10\" x2=\"151.22\" y2=\"94.40\" fill=\"none\"\n",
       "        stroke=\"black\" stroke-width=\"2\" stroke-linecap=\"round\"/>\n",
       "  <line x1=\"137.50\" y1=\"52.18\" x2=\"117.52\" y2=\"59.56\" fill=\"none\"\n",
       "        stroke=\"black\" stroke-width=\"2\" stroke-linecap=\"round\"/>\n",
       "  <line x1=\"117.52\" y1=\"59.56\" x2=\"115.53\" y2=\"90.48\" fill=\"none\"\n",
       "        stroke=\"black\" stroke-width=\"2\" stroke-linecap=\"round\"/>\n",
       "  <line x1=\"122.26\" y1=\"63.87\" x2=\"120.78\" y2=\"86.81\" fill=\"none\"\n",
       "        stroke=\"black\" stroke-width=\"2\" stroke-linecap=\"round\"/>\n",
       "  <line x1=\"117.52\" y1=\"59.56\" x2=\"90.38\" y2=\"42.12\" fill=\"none\" stroke=\"black\"\n",
       "        stroke-width=\"2\" stroke-linecap=\"round\"/>\n",
       "  <line x1=\"90.38\" y1=\"42.12\" x2=\"63.19\" y2=\"58.37\" fill=\"none\" stroke=\"black\"\n",
       "        stroke-width=\"2\" stroke-linecap=\"round\"/>\n",
       "  <line x1=\"89.51\" y1=\"48.47\" x2=\"69.19\" y2=\"60.61\" fill=\"none\" stroke=\"black\"\n",
       "        stroke-width=\"2\" stroke-linecap=\"round\"/>\n",
       "  <line x1=\"63.19\" y1=\"58.37\" x2=\"63.08\" y2=\"90.08\" fill=\"none\" stroke=\"black\"\n",
       "        stroke-width=\"2\" stroke-linecap=\"round\"/>\n",
       "  <line x1=\"63.08\" y1=\"90.08\" x2=\"90.64\" y2=\"106.89\" fill=\"none\" stroke=\"black\"\n",
       "        stroke-width=\"2\" stroke-linecap=\"round\"/>\n",
       "  <line x1=\"69.10\" y1=\"87.89\" x2=\"89.83\" y2=\"100.54\" fill=\"none\" stroke=\"black\"\n",
       "        stroke-width=\"2\" stroke-linecap=\"round\"/>\n",
       "  <line x1=\"137.87\" y1=\"98.80\" x2=\"115.53\" y2=\"90.48\" fill=\"none\"\n",
       "        stroke=\"black\" stroke-width=\"2\" stroke-linecap=\"round\"/>\n",
       "  <line x1=\"115.53\" y1=\"90.48\" x2=\"90.64\" y2=\"106.89\" fill=\"none\"\n",
       "        stroke=\"black\" stroke-width=\"2\" stroke-linecap=\"round\"/>\n",
       "  <text x=\"288.13\" y=\"112.90\" text-anchor=\"middle\" alignment-baseline=\"middle\">\n",
       "    O\n",
       "  </text>\n",
       "  <text x=\"397.05\" y=\"53.31\" text-anchor=\"middle\" alignment-baseline=\"middle\">\n",
       "    O\n",
       "  </text>\n",
       "  <text x=\"291.52\" y=\"18.64\" text-anchor=\"middle\" alignment-baseline=\"middle\">\n",
       "    O\n",
       "  </text>\n",
       "  <text x=\"261.62\" y=\"63.79\" text-anchor=\"middle\" alignment-baseline=\"middle\">\n",
       "    N\n",
       "  </text>\n",
       "  <text x=\"145.94\" y=\"51.06\" text-anchor=\"middle\" alignment-baseline=\"middle\">\n",
       "    N\n",
       "  </text>\n",
       "  <text x=\"146.31\" y=\"103.94\" text-anchor=\"middle\" alignment-baseline=\"middle\">\n",
       "    O\n",
       "  </text>\n",
       "  <text x=\"195.81\" y=\"78.03\" text-anchor=\"middle\" alignment-baseline=\"middle\">\n",
       "    N\n",
       "  </text>\n",
       "</svg>\n"
      ],
      "text/plain": [
       "#<CL-JUPYTER-USER::SVG-STR>"
      ]
     },
     "execution_count": 18,
     "metadata": {},
     "output_type": "execute_result"
    }
   ],
   "source": [
    "show (sketch2d:sketch2d (fourth ligands))"
   ]
  },
  {
   "cell_type": "code",
   "execution_count": 19,
   "metadata": {},
   "outputs": [
    {
     "name": "stdout",
     "output_type": "stream",
     "text": [
      "Describing #<AGGREGATE NIL 0>\n",
      "\n",
      "\n",
      "#<MOLECULE NIL 1> 3356 atoms\n",
      "#<MOLECULE NIL 2> 1479 atoms\n",
      "\n"
     ]
    },
    {
     "data": {
      "text/plain": [
       "NIL"
      ]
     },
     "execution_count": 19,
     "metadata": {},
     "output_type": "execute_result"
    }
   ],
   "source": [
    "desc prot"
   ]
  },
  {
   "cell_type": "code",
   "execution_count": 20,
   "metadata": {},
   "outputs": [
    {
     "name": "stdout",
     "output_type": "stream",
     "text": [
      "setting #<RESIDUE :PRO 1>  property: :NAME  value: :NPRO\n",
      "setting #<RESIDUE :GLN 205>  property: :NAME  value: :CGLN\n",
      "setting #<RESIDUE :LYS 206>  property: :NAME  value: :NLYS\n",
      "setting #<RESIDUE :CYS 293>  property: :NAME  value: :CCYS\n"
     ]
    },
    {
     "data": {
      "text/plain": [
       "NIL"
      ]
     },
     "execution_count": 20,
     "metadata": {},
     "output_type": "execute_result"
    }
   ],
   "source": [
    "set prot/1.1 name :NPRO\n",
    "set prot/1.205 name :CGLN\n",
    "set prot/2.206 name :NLYS\n",
    "set prot/2.293 name :CCYS"
   ]
  },
  {
   "cell_type": "code",
   "execution_count": 21,
   "metadata": {},
   "outputs": [
    {
     "name": "stdout",
     "output_type": "stream",
     "text": [
      "Assigned 4835 types of a total of 4835 atoms.\n"
     ]
    },
    {
     "data": {
      "text/plain": [
       "NIL"
      ]
     },
     "execution_count": 21,
     "metadata": {},
     "output_type": "execute_result"
    }
   ],
   "source": [
    "assignAtomTypes prot"
   ]
  },
  {
   "cell_type": "code",
   "execution_count": 23,
   "metadata": {},
   "outputs": [
    {
     "data": {
      "text/plain": [
       "NIL"
      ]
     },
     "execution_count": 23,
     "metadata": {},
     "output_type": "execute_result"
    }
   ],
   "source": [
    "(move-geometric-center-to-origin prot)"
   ]
  },
  {
   "cell_type": "code",
   "execution_count": 24,
   "metadata": {},
   "outputs": [
    {
     "data": {
      "application/vnd.jupyter.widget-view+json": {
       "model_id": "E7C663C6-D257-4584-9F6E-843BA81EF1B9",
       "version_major": 2,
       "version_minor": 0
      },
      "text/plain": [
       "#<NGLV:NGLWIDGET>"
      ]
     },
     "execution_count": 24,
     "metadata": {},
     "output_type": "execute_result"
    }
   ],
   "source": [
    "(show prot :axes t)"
   ]
  },
  {
   "cell_type": "markdown",
   "metadata": {},
   "source": [
    "# Regular membrane packing"
   ]
  },
  {
   "cell_type": "code",
   "execution_count": 25,
   "metadata": {},
   "outputs": [
    {
     "data": {
      "text/plain": [
       "79436"
      ]
     },
     "execution_count": 25,
     "metadata": {},
     "output_type": "execute_result"
    }
   ],
   "source": [
    "(core:getpid)"
   ]
  },
  {
   "cell_type": "code",
   "execution_count": 26,
   "metadata": {},
   "outputs": [
    {
     "name": "stdout",
     "output_type": "stream",
     "text": [
      "There are 59 top-lipids\n",
      "one-lipid-area -> 84.94865912127118d0  lipid-area -> 5975.0\n",
      "Adding #collisions 2  for solute 55\n",
      "Adding #collisions 12  for solute 101\n",
      "Adding #collisions 20  for solute 69\n",
      "Adding #collisions 38  for solute 57\n",
      "    there should be 63\n",
      "There are 56 bottom-lipids\n",
      "one-lipid-area -> 84.94865912127118d0  lipid-area -> 6078.75\n",
      "Adding #collisions 4  for solute 124\n",
      "Adding #collisions 8  for solute 78\n",
      "Adding #collisions 10  for solute 94\n",
      "Adding #collisions 10  for solute 40\n",
      "Adding #collisions 12  for solute 122\n",
      "Adding #collisions 30  for solute 102\n",
      "Adding #collisions 44  for solute 58\n",
      "Adding #collisions 46  for solute 112\n",
      "    there should be 64\n"
     ]
    },
    {
     "data": {
      "text/plain": [
       "#<MEMBRANE-PACKER::GA-MEMBRANE>"
      ]
     },
     "execution_count": 26,
     "metadata": {},
     "output_type": "execute_result"
    }
   ],
   "source": [
    "memb = (membrane-packer:build-ga-membrane prot)"
   ]
  },
  {
   "cell_type": "code",
   "execution_count": 27,
   "metadata": {},
   "outputs": [
    {
     "data": {
      "text/plain": [
       "#<AGGREGATE NIL 0>"
      ]
     },
     "execution_count": 27,
     "metadata": {},
     "output_type": "execute_result"
    }
   ],
   "source": [
    "aggtop = (membrane-packer::build-simple-membrane-aggregate memb 10 :top)"
   ]
  },
  {
   "cell_type": "code",
   "execution_count": 28,
   "metadata": {},
   "outputs": [
    {
     "data": {
      "application/vnd.jupyter.widget-view+json": {
       "model_id": "2E053766-8AD7-4C3D-BD3A-C96AE11A8D12",
       "version_major": 2,
       "version_minor": 0
      },
      "text/plain": [
       "#<NGLV:NGLWIDGET>"
      ]
     },
     "execution_count": 28,
     "metadata": {},
     "output_type": "execute_result"
    }
   ],
   "source": [
    "show aggtop"
   ]
  },
  {
   "cell_type": "code",
   "execution_count": 29,
   "metadata": {},
   "outputs": [
    {
     "name": "stdout",
     "output_type": "stream",
     "text": [
      "atom-table -> #<ATOM-TABLE >\n",
      "First atom: #<ATOM :HA/:H 0>\n"
     ]
    },
    {
     "data": {
      "text/plain": [
       "(#<ENERGY-FUNCTION >\n",
       " #*111111111111111111111111111111111111111111111111111111111111111111111111111111111111111111111111111111111111111111111111111111111111111111111111111111111111111111111111111111111111111111111111111111111111111111111111111111111111111111111111111111111111111111111111111111111111111111111111111111111111111111111111111111111111111111111111111111111111111111111111111111111111111111111111111111111111111111111111111111111111111111111111111111111111111111111111111111111111111111111111111111111111111111111111111111111111111111111111111111111111111111111111111111111111111111111111111111111111111111111111111111111111111111111111111111111111111111111111111111111111111111111111111111111111111111111111111111111111111111111111111111111111111111111111111111111111111111111111111111111111111111111111111111111111111111111111111111111111111111111111111111111111111111111111111111111111111111111111111111111111111111111111111111111111111111111111111111111111111111111111111111111111111111111111111111111111111111111111111111111111111111111111111111111111111111111111111111111111111111111111111111111111111111111111111111111111111111111111111111111111111111111111111111111111111111111111111111111111111111111111111111111111111111111111111111111111111111111111111111111111111111111111111111111111111111111111111111111111111111111111111111111111111111111111111111111111111111111111111111111111111111111111111111111111111111111111111111111111111111111111111111111111111111111111111111111111111111111111111111111111111111111111111111111111111111111111111111111111111111111111111111111111111111111111111111111111111111111111111111111111111111111111111111111111111111111111111111111111111111111111111111111111111111111111111111111111111111111111111111111111111111111111111111111111111111111111111111111111111111111111111111111111111111111111111111111111111111111111111111111111111111111111111111111111111111111111111111111111111111111111111111111111111111111111111111111111111111111111111111111111111111111111111111111111111111111111111111111111111111111111111111111111111111111111111111111111111111111111111111111111111111111111111111111111111111111111111111111111111111111111111111111111111111111111111111111111111111111111111111111111111111111111111111111111111111111111111111111111111111111111111111111111111111111111111111111111111111111111111111111111111111111111111111111111111111111111111111111111111111111111111111111111111111111111111111111111111111111111111111111111111111111111111111111111111111111111111111111111111111111111111111111111111111111111111111111111111111111111111111111111111111111111111111111111111111111111111111111111111111111111111111111111111111111111111111111111001001001001001001001001001001001001001001001001001001001001001001001001001001001001001001001001001001001001001001001001001001001001001001001001001001001001001001001001001001001001001001001)"
      ]
     },
     "execution_count": 29,
     "metadata": {},
     "output_type": "execute_result"
    }
   ],
   "source": [
    "ef-frozen = (multiple-value-list (membrane-packer::build-simple-membrane-energy-function memb 10 :top))"
   ]
  },
  {
   "cell_type": "code",
   "execution_count": 30,
   "metadata": {},
   "outputs": [
    {
     "data": {
      "text/plain": [
       "#<ENERGY-FUNCTION >"
      ]
     },
     "execution_count": 30,
     "metadata": {},
     "output_type": "execute_result"
    }
   ],
   "source": [
    "ef = (first ef-frozen)"
   ]
  },
  {
   "cell_type": "code",
   "execution_count": 31,
   "metadata": {},
   "outputs": [
    {
     "data": {
      "text/plain": [
       "1.8236067436284635d7"
      ]
     },
     "execution_count": 31,
     "metadata": {},
     "output_type": "execute_result"
    }
   ],
   "source": [
    "(chem:calculate-energy-and-force ef)"
   ]
  },
  {
   "cell_type": "code",
   "execution_count": 32,
   "metadata": {},
   "outputs": [
    {
     "name": "stdout",
     "output_type": "stream",
     "text": [
      "minimize-no-fail\n",
      "======= Starting Steepest Descent Minimizer\n",
      " minSDnP       0    10     -3.87   0.0       18190369.336              5.678\n",
      " minSDnP       1    20     -3.50   0.0       18190332.041              1.147\n",
      "---Stage-Seconds--Step-log(Alpha)--Prev.dir--------Energy-----------RMSforce\n",
      " minSDnP       1    21     -3.60   0.0       18190330.060              0.936\n",
      " ! DONE absolute force test:\n",
      " ! forceRmsMag(9.356392e-01) < forceTolerance(1.000000e+00)\n",
      "======= Starting Conjugate Gradient Minimizer\n",
      " minCGnP       1    30     -2.52  50.6       18190268.490              0.122\n",
      " minCGnP       2    40     -2.07  73.5       18190259.533              0.300\n",
      " minCGnP       2    50     -2.43  62.2       18190249.347              0.034\n",
      " minCGnP       3    60     -1.98  69.0       18190243.841              0.146\n",
      " minCGnP       4    70     -1.79  16.4       18190230.088              0.091\n",
      " minCGnP       4    80     -1.96  56.1       18190227.213              0.005\n",
      " minCGnP       5    90     -1.72  75.0       18190226.051              0.027\n",
      " minCGnP       5   100     -1.99  57.0       18190220.423              0.021\n",
      " minCGnP       6   110     -1.86  64.5       18190219.343              0.004\n",
      " minCGnP       6   120     -1.85  62.8       18190219.254              0.000\n",
      "---Stage-Seconds--Step-log(Alpha)--Prev.dir--------Energy-----------RMSforce\n",
      " minCGnP       7   127     -1.92  69.4       18190219.246              0.000\n",
      " ! DONE absolute force test:\n",
      " ! forceRmsMag(0.000079)<forceTolerance(0.000100)\n",
      "======= Skipping Truncated Newton #steps = 0\n",
      "======= All three minimizers have completed or passed on minimization.\n",
      "Just returned from minimize\n",
      "matter #<AGGREGATE NIL 0>\n"
     ]
    },
    {
     "data": {
      "text/plain": [
       "(#<ENERGY-FUNCTION > #<DYNAMICS:TRAJECTORY>)"
      ]
     },
     "execution_count": 32,
     "metadata": {},
     "output_type": "execute_result"
    }
   ],
   "source": [
    "ef-traj = (multiple-value-list (energy:minimize-energy-function ef :sd-tolerance 1.0 :cg-tolerance 0.0001 :frozen (second ef-frozen) :save-trajectory t))"
   ]
  },
  {
   "cell_type": "code",
   "execution_count": 33,
   "metadata": {},
   "outputs": [
    {
     "data": {
      "application/vnd.jupyter.widget-view+json": {
       "model_id": "5CF79EE3-4649-47F6-AAA0-ABF8947ECAF6",
       "version_major": 2,
       "version_minor": 0
      },
      "text/plain": [
       "#<NGLV:NGLWIDGET>"
      ]
     },
     "execution_count": 33,
     "metadata": {},
     "output_type": "execute_result"
    }
   ],
   "source": [
    "show (chem:get-matter (first ef-traj))"
   ]
  },
  {
   "cell_type": "code",
   "execution_count": 34,
   "metadata": {},
   "outputs": [
    {
     "data": {
      "application/vnd.jupyter.widget-view+json": {
       "model_id": "2013DEC3-BB46-4453-ABE4-572E0B9078CB",
       "version_major": 2,
       "version_minor": 0
      },
      "text/plain": [
       "#<NGLV:NGLWIDGET>"
      ]
     },
     "execution_count": 34,
     "metadata": {},
     "output_type": "execute_result"
    }
   ],
   "source": [
    "show (second ef-traj)"
   ]
  },
  {
   "cell_type": "code",
   "execution_count": 35,
   "metadata": {},
   "outputs": [
    {
     "data": {
      "text/plain": [
       "#<AGGREGATE NIL 0>"
      ]
     },
     "execution_count": 35,
     "metadata": {},
     "output_type": "execute_result"
    }
   ],
   "source": [
    "membagg = (chem:get-matter (first ef-traj))"
   ]
  },
  {
   "cell_type": "code",
   "execution_count": 38,
   "metadata": {},
   "outputs": [
    {
     "name": "stdout",
     "output_type": "stream",
     "text": [
      "#<ATOM :LIPID0/:Ar 0> '( 7.7439 -21.0097 12.1986)\n",
      "#<ATOM :LIPID1/:Ar 0> '( -20.2483 -11.8132 11.2204)\n",
      "#<ATOM :LIPID2/:Ar 0> '( -21.4268 9.56008 12.8201)\n",
      "#<ATOM :LIPID3/:Ar 0> '( -2.36064 -17.1461 13.5033)\n",
      "#<ATOM :LIPID4/:Ar 0> '( 39.6483 32.433 12.8601)\n",
      "#<ATOM :LIPID5/:Ar 0> '( 29.8452 30.6296 10.4741)\n",
      "#<ATOM :LIPID6/:Ar 0> '( 20.0104 28.6103 11.578)\n",
      "#<ATOM :LIPID7/:Ar 0> '( 3.77124 34.6249 11.1637)\n",
      "#<ATOM :LIPID8/:Ar 0> '( -5.28584 30.5485 11.5962)\n",
      "#<ATOM :LIPID9/:Ar 0> '( -15.024 28.6353 12.617)\n",
      "#<ATOM :LIPID10/:Ar 0> '( -21.8852 36.736 13.2294)\n",
      "#<ATOM :LIPID11/:Ar 0> '( -31.4262 34.5171 10.3998)\n",
      "#<ATOM :LIPID12/:Ar 0> '( 36.228 22.5113 11.318)\n",
      "#<ATOM :LIPID13/:Ar 0> '( 26.233 20.7843 12.0857)\n",
      "#<ATOM :LIPID14/:Ar 0> '( 10.4091 27.4257 13.2555)\n",
      "#<ATOM :LIPID15/:Ar 0> '( 1.7318 22.765 11.7771)\n",
      "#<ATOM :LIPID16/:Ar 0> '( -8.01815 19.9779 12.1009)\n",
      "#<ATOM :LIPID17/:Ar 0> '( -18.1818 18.9268 11.7915)\n",
      "#<ATOM :LIPID18/:Ar 0> '( -24.9565 26.6019 12.3073)\n",
      "#<ATOM :LIPID19/:Ar 0> '( -34.7309 24.4915 11.5432)\n",
      "#<ATOM :LIPID20/:Ar 0> '( 32.6465 12.7898 10.9853)\n",
      "#<ATOM :LIPID21/:Ar 0> '( 19.7752 13.1808 12.0789)\n",
      "#<ATOM :LIPID22/:Ar 0> '( 10.9984 17.5284 12.0825)\n",
      "#<ATOM :LIPID23/:Ar 0> '( -28.3756 16.4652 10.2023)\n",
      "#<ATOM :LIPID24/:Ar 0> '( -37.9614 14.6321 13.504)\n",
      "#<ATOM :LIPID25/:Ar 0> '( 25.6455 5.53272 11.5132)\n",
      "#<ATOM :LIPID26/:Ar 0> '( -31.2863 5.90173 12.6244)\n",
      "#<ATOM :LIPID27/:Ar 0> '( -41.1911 5.23451 10.9911)\n",
      "#<ATOM :LIPID28/:Ar 0> '( 32.5556 -1.51857 12.5615)\n",
      "#<ATOM :LIPID29/:Ar 0> '( -37.3881 -4.65637 11.342)\n",
      "#<ATOM :LIPID30/:Ar 0> '( 25.1405 -11.6985 11.5235)\n",
      "#<ATOM :LIPID31/:Ar 0> '( -27.2372 -4.25311 11.7125)\n",
      "#<ATOM :LIPID32/:Ar 0> '( -45.506 -10.8265 12.1702)\n",
      "#<ATOM :LIPID33/:Ar 0> '( 31.2044 -20.0577 11.5802)\n",
      "#<ATOM :LIPID34/:Ar 0> '( 20.446 -21.1236 10.3875)\n",
      "#<ATOM :LIPID35/:Ar 0> '( 14.3834 -12.8221 11.5218)\n",
      "#<ATOM :LIPID36/:Ar 0> '( -12.097 -17.7756 11.6249)\n",
      "#<ATOM :LIPID37/:Ar 0> '( -30.191 -14.127 11.9777)\n",
      "#<ATOM :LIPID38/:Ar 0> '( -39.2044 -18.2502 12.9608)\n",
      "#<ATOM :LIPID39/:Ar 0> '( 29.0642 -29.7126 12.1904)\n",
      "#<ATOM :LIPID40/:Ar 0> '( 19.2348 -30.9096 12.5022)\n",
      "#<ATOM :LIPID41/:Ar 0> '( 9.3481 -31.2862 11.66)\n",
      "#<ATOM :LIPID42/:Ar 0> '( 0.363153 -35.2509 12.9515)\n",
      "#<ATOM :LIPID43/:Ar 0> '( -4.77965 -26.716 12.2704)\n",
      "#<ATOM :LIPID44/:Ar 0> '( -22.2268 -21.7257 11.4095)\n",
      "#<ATOM :LIPID45/:Ar 0> '( -31.7701 -25.0199 11.4849)\n",
      "#<ATOM :LIPID46/:Ar 0> '( -41.8536 -27.7506 11.1886)\n",
      "#<ATOM :LIPID47/:Ar 0> '( 36.1139 -37.3761 13.2371)\n",
      "#<ATOM :LIPID48/:Ar 0> '( 26.4054 -39.32 10.4292)\n",
      "#<ATOM :LIPID49/:Ar 0> '( 16.5316 -40.5788 11.5565)\n",
      "#<ATOM :LIPID50/:Ar 0> '( 6.90539 -42.7697 12.1021)\n",
      "#<ATOM :LIPID51/:Ar 0> '( -9.27101 -37.1553 11.3721)\n",
      "#<ATOM :LIPID52/:Ar 0> '( -14.8188 -28.6231 11.5302)\n",
      "#<ATOM :LIPID53/:Ar 0> '( -24.4513 -32.466 11.7765)\n",
      "#<ATOM :LIPID54/:Ar 0> '( -34.5906 -34.9731 12.6366)\n",
      "#<ATOM :LIPID55/:Ar 0> '( 33.1031 -47.1328 11.6371)\n",
      "#<ATOM :LIPID56/:Ar 0> '( 23.3262 -48.9194 13.2452)\n",
      "#<ATOM :LIPID57/:Ar 0> '( 13.642 -50.5231 11.3455)\n",
      "#<ATOM :LIPID58/:Ar 0> '( -2.89355 -45.2496 11.6665)\n",
      "#<ATOM :LIPID59/:Ar 0> '( -12.1268 -48.8148 11.5781)\n",
      "#<ATOM :LIPID60/:Ar 0> '( -18.4264 -40.7438 10.1842)\n",
      "#<ATOM :LIPID61/:Ar 0> '( -28.1313 -42.7624 11.1716)\n",
      "#<ATOM :LIPID62/:Ar 0> '( -37.8789 -45.0276 11.9)\n"
     ]
    },
    {
     "data": {
      "text/plain": [
       "NIL"
      ]
     },
     "execution_count": 38,
     "metadata": {},
     "output_type": "execute_result"
    }
   ],
   "source": [
    "(cando:do-atoms (a membagg) (when (eq (chem:get-type a) :lipid0) (format t \"~a ~a~%\" a (chem:get-position a))))"
   ]
  },
  {
   "cell_type": "code",
   "execution_count": 30,
   "metadata": {},
   "outputs": [
    {
     "data": {
      "text/plain": [
       "#<AGGREGATE NIL 0>"
      ]
     },
     "execution_count": 30,
     "metadata": {},
     "output_type": "execute_result"
    }
   ],
   "source": [
    "agg = (membrane-packer::build-aggregate-from-ga-membrane memb)"
   ]
  },
  {
   "cell_type": "code",
   "execution_count": 25,
   "metadata": {},
   "outputs": [
    {
     "data": {
      "application/vnd.jupyter.widget-view+json": {
       "model_id": "C9EA414E-30D3-4681-B389-15BB289EFCBB",
       "version_major": 2,
       "version_minor": 0
      },
      "text/plain": [
       "#<NGLV:NGLWIDGET>"
      ]
     },
     "execution_count": 25,
     "metadata": {},
     "output_type": "execute_result"
    }
   ],
   "source": [
    "show agg"
   ]
  },
  {
   "cell_type": "code",
   "execution_count": 76,
   "metadata": {},
   "outputs": [
    {
     "name": "stdout",
     "output_type": "stream",
     "text": [
      "There are 59 top-lipids\n",
      "one-lipid-area -> 84.94865912127118d0  lipid-area -> 5975.0\n",
      "Adding #collisions 24  for solute 55\n",
      "Adding #collisions 30  for solute 101\n",
      "Adding #collisions 58  for solute 109\n",
      "Adding #collisions 74  for solute 69\n",
      "    there should be 63\n",
      "There are 56 bottom-lipids\n",
      "one-lipid-area -> 84.94865912127118d0  lipid-area -> 6078.75\n",
      "Adding #collisions 2  for solute 78\n",
      "Adding #collisions 4  for solute 124\n",
      "Adding #collisions 14  for solute 40\n",
      "Adding #collisions 22  for solute 122\n",
      "Adding #collisions 24  for solute 118\n",
      "Adding #collisions 40  for solute 102\n",
      "Adding #collisions 60  for solute 58\n",
      "Adding #collisions 62  for solute 70\n",
      "    there should be 64\n",
      "Generation 0   size 200\n",
      "  ... least collisions -> (703 713 719 736 736 742 748 757 759 759)\n",
      "About to mutate-collisions\n",
      "About to randomly-mutate-membranes\n",
      "About to randomly-shift-lipids-in-membranes\n",
      "Generation 1   size 200\n",
      "  ... least collisions -> (550 553 578 593 595 619 626 628 636 642)\n",
      "About to mutate-collisions\n",
      "About to randomly-mutate-membranes\n",
      "About to randomly-shift-lipids-in-membranes\n",
      "Generation 2   size 200\n",
      "  ... least collisions -> (528 579 581 582 586 589 589 589 591 605)\n",
      "About to mutate-collisions\n",
      "About to randomly-mutate-membranes\n",
      "About to randomly-shift-lipids-in-membranes\n",
      "Generation 3   size 200\n",
      "  ... least collisions -> (531 554 554 574 575 576 584 587 590 591)\n",
      "About to mutate-collisions\n",
      "About to randomly-mutate-membranes\n",
      "About to randomly-shift-lipids-in-membranes\n",
      "Generation 4   size 200\n",
      "  ... least collisions -> (547 550 551 567 570 572 572 578 582 583)\n",
      "About to mutate-collisions\n",
      "About to randomly-mutate-membranes\n",
      "About to randomly-shift-lipids-in-membranes\n",
      "Generation 5   size 200\n",
      "  ... least collisions -> (496 525 538 575 584 584 591 591 591 592)\n",
      "About to mutate-collisions\n",
      "About to randomly-mutate-membranes\n",
      "About to randomly-shift-lipids-in-membranes\n",
      "Generation 6   size 200\n",
      "  ... least collisions -> (531 550 550 550 552 567 568 572 577 585)\n",
      "About to mutate-collisions\n",
      "About to randomly-mutate-membranes\n",
      "About to randomly-shift-lipids-in-membranes\n",
      "Generation 7   size 200\n",
      "  ... least collisions -> (505 519 526 531 534 543 548 551 551 552)\n",
      "About to mutate-collisions\n",
      "About to randomly-mutate-membranes\n",
      "About to randomly-shift-lipids-in-membranes\n",
      "Generation 8   size 200\n",
      "  ... least collisions -> (474 488 511 518 526 527 538 543 545 546)\n",
      "About to mutate-collisions\n",
      "About to randomly-mutate-membranes\n",
      "About to randomly-shift-lipids-in-membranes\n",
      "Generation 9   size 200\n",
      "  ... least collisions -> (493 495 501 506 507 509 515 515 516 516)\n",
      "About to mutate-collisions\n",
      "About to randomly-mutate-membranes\n",
      "About to randomly-shift-lipids-in-membranes\n",
      "Generation 10  size 200\n",
      "  ... least collisions -> (541 544 545 546 554 558 559 560 561 563)\n",
      "About to mutate-collisions\n",
      "About to randomly-mutate-membranes\n",
      "About to randomly-shift-lipids-in-membranes\n",
      "Generation 11  size 200\n",
      "  ... least collisions -> (486 498 506 515 517 547 549 552 565 567)\n",
      "About to mutate-collisions\n",
      "About to randomly-mutate-membranes\n",
      "About to randomly-shift-lipids-in-membranes\n",
      "Generation 12  size 200\n",
      "  ... least collisions -> (462 468 497 501 512 514 515 520 520 527)\n",
      "About to mutate-collisions\n",
      "About to randomly-mutate-membranes\n",
      "About to randomly-shift-lipids-in-membranes\n",
      "Generation 13  size 200\n",
      "  ... least collisions -> (443 455 494 499 507 509 512 512 518 519)\n",
      "About to mutate-collisions\n",
      "About to randomly-mutate-membranes\n",
      "About to randomly-shift-lipids-in-membranes\n",
      "Generation 14  size 200\n",
      "  ... least collisions -> (411 417 419 457 473 485 500 501 506 507)\n",
      "About to mutate-collisions\n",
      "About to randomly-mutate-membranes\n",
      "About to randomly-shift-lipids-in-membranes\n",
      "Generation 15  size 200\n",
      "  ... least collisions -> (511 513 513 524 527 530 531 533 537 542)\n",
      "About to mutate-collisions\n",
      "About to randomly-mutate-membranes\n",
      "About to randomly-shift-lipids-in-membranes\n",
      "Generation 16  size 200\n",
      "  ... least collisions -> (424 474 474 476 478 478 480 481 482 493)\n",
      "About to mutate-collisions\n",
      "About to randomly-mutate-membranes\n",
      "About to randomly-shift-lipids-in-membranes\n",
      "Generation 17  size 200\n",
      "  ... least collisions -> (400 400 415 423 460 462 462 472 473 475)\n",
      "About to mutate-collisions\n",
      "About to randomly-mutate-membranes\n",
      "About to randomly-shift-lipids-in-membranes\n",
      "Generation 18  size 200\n",
      "  ... least collisions -> (416 422 426 458 467 476 476 479 482 484)\n",
      "About to mutate-collisions\n",
      "About to randomly-mutate-membranes\n",
      "About to randomly-shift-lipids-in-membranes\n",
      "Generation 19  size 200\n",
      "  ... least collisions -> (427 467 482 499 502 504 504 505 515 517)\n",
      "About to mutate-collisions\n",
      "About to randomly-mutate-membranes\n",
      "About to randomly-shift-lipids-in-membranes\n",
      "Generation 20  size 200\n",
      "  ... least collisions -> (502 507 533 539 542 549 550 551 551 555)\n",
      "About to mutate-collisions\n",
      "About to randomly-mutate-membranes\n",
      "About to randomly-shift-lipids-in-membranes\n",
      "\n",
      ";;; Suspending process #<PROCESS lparallel @0x14be0b699>\n",
      ";;; Suspending process #<PROCESS lparallel @0x14be0b789>\n",
      ";;; Suspending process #<PROCESS lparallel @0x14be0b879>\n",
      ";;; Suspending process #<PROCESS lparallel @0x14be0b969>\n",
      ";;; Suspending process #<PROCESS lparallel @0x14be0ba59>\n",
      ";;; Suspending process #<PROCESS lparallel @0x14be0bb49>\n",
      ";;; Suspending process #<PROCESS lparallel @0x14be0bc39>\n",
      ";;; Suspending process #<PROCESS lparallel @0x14be0bd29>\n",
      ";;; Suspending process #<PROCESS lparallel @0x14be0be19>\n",
      ";;; Suspending process #<PROCESS lparallel @0x14be0bf09>\n",
      ";;; Suspending process #<PROCESS lparallel @0x149455009>\n",
      ";;; Suspending process #<PROCESS lparallel @0x1494550f9>\n",
      ";;; Suspending process #<PROCESS Swank Sentinel @0x1327d9d29>\n",
      ";;; Suspending process #<PROCESS Swank 4009 @0x1327d9c39>\n",
      ";;; Suspending process #<PROCESS Anonymous thread @0x12a2fc789>\n",
      ";;; Suspending process #<PROCESS Anonymous thread @0x12a2fc879>\n",
      ";;; Suspending process #<PROCESS REMOTE-CALL-THREAD @0x12a2fc969>"
     ]
    },
    {
     "name": "stderr",
     "output_type": "stream",
     "text": [
      "\n",
      "An error occurred of type: INTERACTIVE-INTERRUPT: \n",
      "  Console interrupt.\n",
      "\n",
      "serious-condition backtrace:\n",
      "0: (ERROR EXT:INTERACTIVE-INTERRUPT)\n",
      "1: (SIMPLE-TERMINAL-INTERRUPT)\n",
      "2: (_top.lsp-top131^482^TOP-COMPILE-FILE.39)\n",
      "3: (_top.lsp-top131^482^TOP-COMPILE-FILE.31)\n",
      "4: (_top.lsp-top131^482^TOP-COMPILE-FILE.30)\n",
      "5: (_top.lsp-top131^482^TOP-COMPILE-FILE.28)\n",
      "6: (_top.lsp-top131^482^TOP-COMPILE-FILE.27)\n",
      "7: (TERMINAL-INTERRUPT)\n",
      "8: (LIST-MERGE-SORT (#<MEMBRANE-PACKER::SCORED-MEMBRANE>) #<FUNCTION <> #<STANDARD-GENERIC-FUNCTION MEMBRANE-PACKER::SCORE>)\n",
      "9: (LIST-MERGE-SORT (#<MEMBRANE-PACKER::SCORED-MEMBRANE>) #<FUNCTION <> #<STANDARD-GENERIC-FUNCTION MEMBRANE-PACKER::SCORE>)\n",
      "10: (LIST-MERGE-SORT (#<MEMBRANE-PACKER::SCORED-MEMBRANE>) #<FUNCTION <> #<STANDARD-GENERIC-FUNCTION MEMBRANE-PACKER::SCORE>)\n",
      "11: (LIST-MERGE-SORT (#<MEMBRANE-PACKER::SCORED-MEMBRANE>) #<FUNCTION <> #<STANDARD-GENERIC-FUNCTION MEMBRANE-PACKER::SCORE>)\n",
      "12: (LIST-MERGE-SORT (#<MEMBRANE-PACKER::SCORED-MEMBRANE>) #<FUNCTION <> #<STANDARD-GENERIC-FUNCTION MEMBRANE-PACKER::SCORE>)\n",
      "13: (LIST-MERGE-SORT (#<MEMBRANE-PACKER::SCORED-MEMBRANE>) #<FUNCTION <> #<STANDARD-GENERIC-FUNCTION MEMBRANE-PACKER::SCORE>)\n",
      "14: (LIST-MERGE-SORT (#<MEMBRANE-PACKER::SCORED-MEMBRANE>) #<FUNCTION <> #<STANDARD-GENERIC-FUNCTION MEMBRANE-PACKER::SCORE>)\n",
      "15: (SORT (#<MEMBRANE-PACKER::SCORED-MEMBRANE>) #<FUNCTION <> :KEY #<STANDARD-GENERIC-FUNCTION MEMBRANE-PACKER::SCORE>)\n",
      "16: (SCORE-MEMBRANES (#<MEMBRANE-PACKER::GA-MEMBRANE> #<MEMBRANE-PACKER::GA-MEMBRANE> #<MEMBRANE-PACKER::GA-MEMBRANE> #<MEMBRANE-PACKER::GA-MEMBRANE> #<MEMBRANE-PACKER::GA-MEMBRANE> #<MEMBRANE-PACKER::GA-MEMBRANE> #<MEMBRANE-PACKER::GA-MEMBRANE> #<MEMBRANE-PACKER::GA-MEMBRANE> #<MEMBRANE-PACKER::GA-MEMBRANE> #<MEMBRANE-PACKER::GA-MEMBRANE> #<MEMBRANE-PACKER::GA-MEMBRANE> #<MEMBRANE-PACKER::GA-MEMBRANE> #<MEMBRANE-PACKER::GA-MEMBRANE> #<MEMBRANE-PACKER::GA-MEMBRANE> #<MEMBRANE-PACKER::GA-MEMBRANE> #<MEMBRANE-PACKER::GA-MEMBRANE> #<MEMBRANE-PACKER::GA-MEMBRANE> #<MEMBRANE-PACKER::GA-MEMBRANE> #<MEMBRANE-PACKER::GA-MEMBRANE> #<MEMBRANE-PACKER::GA-MEMBRANE> #<MEMBRANE-PACKER::GA-MEMBRANE> #<MEMBRANE-PACKER::GA-MEMBRANE> #<MEMBRANE-PACKER::GA-MEMBRANE> #<MEMBRANE-PACKER::GA-MEMBRANE> #<MEMBRANE-PACKER::GA-MEMBRANE> #<MEMBRANE-PACKER::GA-MEMBRANE> #<MEMBRANE-PACKER::GA-MEMBRANE> #<MEMBRANE-PACKER::GA-MEMBRANE> #<MEMBRANE-PACKER::GA-MEMBRANE> #<MEMBRANE-PACKER::GA-MEMBRANE> #<MEMBRANE-PACKER::GA-MEMBRANE> #<MEMBRANE-PACKER::GA-MEMBRANE> #<MEMBRANE-PACKER::GA-MEMBRANE> #<MEMBRANE-PACKER::GA-MEMBRANE> #<MEMBRANE-PACKER::GA-MEMBRANE> #<MEMBRANE-PACKER::GA-MEMBRANE> #<MEMBRANE-PACKER::GA-MEMBRANE> #<MEMBRANE-PACKER::GA-MEMBRANE> #<MEMBRANE-PACKER::GA-MEMBRANE> #<MEMBRANE-PACKER::GA-MEMBRANE> #<MEMBRANE-PACKER::GA-MEMBRANE> #<MEMBRANE-PACKER::GA-MEMBRANE> #<MEMBRANE-PACKER::GA-MEMBRANE> #<MEMBRANE-PACKER::GA-MEMBRANE> #<MEMBRANE-PACKER::GA-MEMBRANE> #<MEMBRANE-PACKER::GA-MEMBRANE> #<MEMBRANE-PACKER::GA-MEMBRANE> #<MEMBRANE-PACKER::GA-MEMBRANE> #<MEMBRANE-PACKER::GA-MEMBRANE> #<MEMBRANE-PACKER::GA-MEMBRANE> #<MEMBRANE-PACKER::GA-MEMBRANE> #<MEMBRANE-PACKER::GA-MEMBRANE> #<MEMBRANE-PACKER::GA-MEMBRANE> #<MEMBRANE-PACKER::GA-MEMBRANE> #<MEMBRANE-PACKER::GA-MEMBRANE> #<MEMBRANE-PACKER::GA-MEMBRANE> #<MEMBRANE-PACKER::GA-MEMBRANE> #<MEMBRANE-PACKER::GA-MEMBRANE> #<MEMBRANE-PACKER::GA-MEMBRANE> #<MEMBRANE-PACKER::GA-MEMBRANE> #<MEMBRANE-PACKER::GA-MEMBRANE> #<MEMBRANE-PACKER::GA-MEMBRANE> #<MEMBRANE-PACKER::GA-MEMBRANE> #<MEMBRANE-PACKER::GA-MEMBRANE> #<MEMBRANE-PACKER::GA-MEMBRANE> #<MEMBRANE-PACKER::GA-MEMBRANE> #<MEMBRANE-PACKER::GA-MEMBRANE> #<MEMBRANE-PACKER::GA-MEMBRANE> #<MEMBRANE-PACKER::GA-MEMBRANE> #<MEMBRANE-PACKER::GA-MEMBRANE> #<MEMBRANE-PACKER::GA-MEMBRANE> #<MEMBRANE-PACKER::GA-MEMBRANE> #<MEMBRANE-PACKER::GA-MEMBRANE> #<MEMBRANE-PACKER::GA-MEMBRANE> #<MEMBRANE-PACKER::GA-MEMBRANE> #<MEMBRANE-PACKER::GA-MEMBRANE> #<MEMBRANE-PACKER::GA-MEMBRANE> #<MEMBRANE-PACKER::GA-MEMBRANE> #<MEMBRANE-PACKER::GA-MEMBRANE> #<MEMBRANE-PACKER::GA-MEMBRANE> #<MEMBRANE-PACKER::GA-MEMBRANE> #<MEMBRANE-PACKER::GA-MEMBRANE> #<MEMBRANE-PACKER::GA-MEMBRANE> #<MEMBRANE-PACKER::GA-MEMBRANE> #<MEMBRANE-PACKER::GA-MEMBRANE> #<MEMBRANE-PACKER::GA-MEMBRANE> #<MEMBRANE-PACKER::GA-MEMBRANE> #<MEMBRANE-PACKER::GA-MEMBRANE> #<MEMBRANE-PACKER::GA-MEMBRANE> #<MEMBRANE-PACKER::GA-MEMBRANE> #<MEMBRANE-PACKER::GA-MEMBRANE> #<MEMBRANE-PACKER::GA-MEMBRANE> #<MEMBRANE-PACKER::GA-MEMBRANE> #<MEMBRANE-PACKER::GA-MEMBRANE> #<MEMBRANE-PACKER::GA-MEMBRANE> #<MEMBRANE-PACKER::GA-MEMBRANE> #<MEMBRANE-PACKER::GA-MEMBRANE> #<MEMBRANE-PACKER::GA-MEMBRANE> #<MEMBRANE-PACKER::GA-MEMBRANE> #<MEMBRANE-PACKER::GA-MEMBRANE> #<MEMBRANE-PACKER::GA-MEMBRANE> #<MEMBRANE-PACKER::GA-MEMBRANE> #<MEMBRANE-PACKER::GA-MEMBRANE> #<MEMBRANE-PACKER::GA-MEMBRANE> #<MEMBRANE-PACKER::GA-MEMBRANE> #<MEMBRANE-PACKER::GA-MEMBRANE> #<MEMBRANE-PACKER::GA-MEMBRANE> #<MEMBRANE-PACKER::GA-MEMBRANE> #<MEMBRANE-PACKER::GA-MEMBRANE> #<MEMBRANE-PACKER::GA-MEMBRANE> #<MEMBRANE-PACKER::GA-MEMBRANE> #<MEMBRANE-PACKER::GA-MEMBRANE> #<MEMBRANE-PACKER::GA-MEMBRANE> #<MEMBRANE-PACKER::GA-MEMBRANE> #<MEMBRANE-PACKER::GA-MEMBRANE> #<MEMBRANE-PACKER::GA-MEMBRANE> #<MEMBRANE-PACKER::GA-MEMBRANE> #<MEMBRANE-PACKER::GA-MEMBRANE> #<MEMBRANE-PACKER::GA-MEMBRANE> #<MEMBRANE-PACKER::GA-MEMBRANE> #<MEMBRANE-PACKER::GA-MEMBRANE> #<MEMBRANE-PACKER::GA-MEMBRANE> #<MEMBRANE-PACKER::GA-MEMBRANE> #<MEMBRANE-PACKER::GA-MEMBRANE> #<MEMBRANE-PACKER::GA-MEMBRANE> #<MEMBRANE-PACKER::GA-MEMBRANE> #<MEMBRANE-PACKER::GA-MEMBRANE> #<MEMBRANE-PACKER::GA-MEMBRANE> #<MEMBRANE-PACKER::GA-MEMBRANE> #<MEMBRANE-PACKER::GA-MEMBRANE> #<MEMBRANE-PACKER::GA-MEMBRANE> #<MEMBRANE-PACKER::GA-MEMBRANE> #<MEMBRANE-PACKER::GA-MEMBRANE> #<MEMBRANE-PACKER::GA-MEMBRANE> #<MEMBRANE-PACKER::GA-MEMBRANE> #<MEMBRANE-PACKER::GA-MEMBRANE> #<MEMBRANE-PACKER::GA-MEMBRANE> #<MEMBRANE-PACKER::GA-MEMBRANE> #<MEMBRANE-PACKER::GA-MEMBRANE> #<MEMBRANE-PACKER::GA-MEMBRANE> #<MEMBRANE-PACKER::GA-MEMBRANE> #<MEMBRANE-PACKER::GA-MEMBRANE> #<MEMBRANE-PACKER::GA-MEMBRANE> #<MEMBRANE-PACKER::GA-MEMBRANE> #<MEMBRANE-PACKER::GA-MEMBRANE> #<MEMBRANE-PACKER::GA-MEMBRANE> #<MEMBRANE-PACKER::GA-MEMBRANE> #<MEMBRANE-PACKER::GA-MEMBRANE> #<MEMBRANE-PACKER::GA-MEMBRANE> #<MEMBRANE-PACKER::GA-MEMBRANE> #<MEMBRANE-PACKER::GA-MEMBRANE> #<MEMBRANE-PACKER::GA-MEMBRANE> #<MEMBRANE-PACKER::GA-MEMBRANE> #<MEMBRANE-PACKER::GA-MEMBRANE> #<MEMBRANE-PACKER::GA-MEMBRANE> #<MEMBRANE-PACKER::GA-MEMBRANE> #<MEMBRANE-PACKER::GA-MEMBRANE> #<MEMBRANE-PACKER::GA-MEMBRANE> #<MEMBRANE-PACKER::GA-MEMBRANE> #<MEMBRANE-PACKER::GA-MEMBRANE> #<MEMBRANE-PACKER::GA-MEMBRANE> #<MEMBRANE-PACKER::GA-MEMBRANE> #<MEMBRANE-PACKER::GA-MEMBRANE> #<MEMBRANE-PACKER::GA-MEMBRANE> #<MEMBRANE-PACKER::GA-MEMBRANE> #<MEMBRANE-PACKER::GA-MEMBRANE> #<MEMBRANE-PACKER::GA-MEMBRANE> #<MEMBRANE-PACKER::GA-MEMBRANE> #<MEMBRANE-PACKER::GA-MEMBRANE> #<MEMBRANE-PACKER::GA-MEMBRANE> #<MEMBRANE-PACKER::GA-MEMBRANE> #<MEMBRANE-PACKER::GA-MEMBRANE> #<MEMBRANE-PACKER::GA-MEMBRANE> #<MEMBRANE-PACKER::GA-MEMBRANE> #<MEMBRANE-PACKER::GA-MEMBRANE> #<MEMBRANE-PACKER::GA-MEMBRANE> #<MEMBRANE-PACKER::GA-MEMBRANE> #<MEMBRANE-PACKER::GA-MEMBRANE> #<MEMBRANE-PACKER::GA-MEMBRANE> #<MEMBRANE-PACKER::GA-MEMBRANE> #<MEMBRANE-PACKER::GA-MEMBRANE> #<MEMBRANE-PACKER::GA-MEMBRANE> #<MEMBRANE-PACKER::GA-MEMBRANE> #<MEMBRANE-PACKER::GA-MEMBRANE> #<MEMBRANE-PACKER::GA-MEMBRANE> #<MEMBRANE-PACKER::GA-MEMBRANE> #<MEMBRANE-PACKER::GA-MEMBRANE> #<MEMBRANE-PACKER::GA-MEMBRANE> #<MEMBRANE-PACKER::GA-MEMBRANE> #<MEMBRANE-PACKER::GA-MEMBRANE> #<MEMBRANE-PACKER::GA-MEMBRANE> #<MEMBRANE-PACKER::GA-MEMBRANE> #<MEMBRANE-PACKER::GA-MEMBRANE> #<MEMBRANE-PACKER::GA-MEMBRANE> #<MEMBRANE-PACKER::GA-MEMBRANE> #<MEMBRANE-PACKER::GA-MEMBRANE> #<MEMBRANE-PACKER::GA-MEMBRANE> #<MEMBRANE-PACKER::GA-MEMBRANE> #<MEMBRANE-PACKER::GA-MEMBRANE> #<MEMBRANE-PACKER::GA-MEMBRANE>) :SORT T :PARALLEL T)\n",
      "17: (EVOLVE #<AGGREGATE NIL 0> :INPUT-BOUNDING-BOX NIL :PARALLEL T :NUMBER-OF-GENERATIONS 40)\n",
      "18: (APPLY MEMBRANE-PACKER::EVOLVE #<AGGREGATE NIL 0> :INPUT-BOUNDING-BOX NIL (:PARALLEL T :NUMBER-OF-GENERATIONS 40))\n",
      "19: (PACK #<AGGREGATE NIL 0> :PARALLEL T :NUMBER-OF-GENERATIONS 40)\n",
      "20: (APPLY MEMBRANE-PACKER:PACK (#<AGGREGATE NIL 0> :PARALLEL T :NUMBER-OF-GENERATIONS 40))\n",
      "21: (SIMPLE-EVAL (MEMBRANE-PACKER:PACK PROT :PARALLEL T :NUMBER-OF-GENERATIONS 40) NIL #<STANDARD-GENERIC-FUNCTION CLASP-CLEAVIR::CCLASP-EVAL-WITH-ENV>)\n",
      "22: (CCLASP-EVAL (MEMBRANE-PACKER:PACK PROT :PARALLEL T :NUMBER-OF-GENERATIONS 40) NIL)\n",
      "23: (LAMBDA #<FUNCTION LAMBDA> :VALUE NIL (:S-EXPR NIL :VALUE (MEMBRANE-PACKER:PACK PROT :PARALLEL T :NUMBER-OF-GENERATIONS 40) :BOUNDS (19 . 84)) :S-EXPR NIL :VALUE (MEMBRANE-PACKER:PACK PROT :PARALLEL T :NUMBER-OF-GENERATIONS 40) :BOUNDS (19 . 84))\n",
      "24: (APPLY #<FUNCTION LAMBDA> #<FUNCTION LAMBDA> :VALUE NIL (:S-EXPR NIL :VALUE (MEMBRANE-PACKER:PACK PROT :PARALLEL T :NUMBER-OF-GENERATIONS 40) :BOUNDS (19 . 84)) :S-EXPR NIL (:VALUE (MEMBRANE-PACKER:PACK PROT :PARALLEL T :NUMBER-OF-GENERATIONS 40) :BOUNDS (19 . 84)))\n",
      "25: (LAMBDA #<FUNCTION LAMBDA> LIST :VALUE NIL (:S-EXPR NIL :VALUE (MEMBRANE-PACKER:PACK PROT :PARALLEL T :NUMBER-OF-GENERATIONS 40) :BOUNDS (19 . 84)))\n",
      "26: (MULTIPLE-VALUE-FUNCALL #<FUNCTION LAMBDA> #<FUNCTION LAMBDA> #<FUNCTION LAMBDA>)\n",
      "27: (LAMBDA NIL (:S-EXPR NIL :VALUE (MEMBRANE-PACKER:PACK PROT :PARALLEL T :NUMBER-OF-GENERATIONS 40) :BOUNDS (19 . 84)))\n",
      "28: (LAMBDA :RELATIONS (:VALUE))\n",
      "29: (LAMBDA #<FUNCTION LAMBDA> :INSTRUCTION NIL (:ASSIGNMENT (:VALUE (((:S-EXPR NIL :VALUE (MEMBRANE-PACKER:PACK PROT :PARALLEL T :NUMBER-OF-GENERATIONS 40) :BOUNDS (19 . 84))))) :NAME SCORED-MEMBRANES :BOUNDS (0 . 84)) :ASSIGNMENT (:VALUE) :NAME SCORED-MEMBRANES :BOUNDS (0 . 84))\n",
      "30: (APPLY #<FUNCTION LAMBDA> #<FUNCTION LAMBDA> :INSTRUCTION NIL (:ASSIGNMENT (:VALUE (((:S-EXPR NIL :VALUE (MEMBRANE-PACKER:PACK PROT :PARALLEL T :NUMBER-OF-GENERATIONS 40) :BOUNDS (19 . 84))))) :NAME SCORED-MEMBRANES :BOUNDS (0 . 84)) :ASSIGNMENT (:VALUE) (:NAME SCORED-MEMBRANES :BOUNDS (0 . 84)))\n",
      "31: (LAMBDA #<FUNCTION LAMBDA> LIST :INSTRUCTION NIL (:ASSIGNMENT (:VALUE (((:S-EXPR NIL :VALUE (MEMBRANE-PACKER:PACK PROT :PARALLEL T :NUMBER-OF-GENERATIONS 40) :BOUNDS (19 . 84))))) :NAME SCORED-MEMBRANES :BOUNDS (0 . 84)))\n",
      "32: (MULTIPLE-VALUE-FUNCALL #<FUNCTION LAMBDA> #<FUNCTION LAMBDA> #<FUNCTION LAMBDA>)\n",
      "33: (LAMBDA NIL (:ASSIGNMENT (:VALUE (((:S-EXPR NIL :VALUE (MEMBRANE-PACKER:PACK PROT :PARALLEL T :NUMBER-OF-GENERATIONS 40) :BOUNDS (19 . 84))))) :NAME SCORED-MEMBRANES :BOUNDS (0 . 84)))\n",
      "34: (LAMBDA)\n",
      "35: (LAMBDA #<FUNCTION LAMBDA> NIL NIL (:LEAP (:INSTRUCTION (((:ASSIGNMENT (:VALUE (((:S-EXPR NIL :VALUE (MEMBRANE-PACKER:PACK PROT :PARALLEL T :NUMBER-OF-GENERATIONS 40) :BOUNDS (19 . 84))))) :NAME SCORED-MEMBRANES :BOUNDS (0 . 84))))) :BOUNDS (0 . 84)) :LEAP (:INSTRUCTION) :BOUNDS (0 . 84))\n",
      "36: (APPLY #<FUNCTION LAMBDA> #<FUNCTION LAMBDA> NIL NIL (:LEAP (:INSTRUCTION (((:ASSIGNMENT (:VALUE (((:S-EXPR NIL :VALUE (MEMBRANE-PACKER:PACK PROT :PARALLEL T :NUMBER-OF-GENERATIONS 40) :BOUNDS (19 . 84))))) :NAME SCORED-MEMBRANES :BOUNDS (0 . 84))))) :BOUNDS (0 . 84)) :LEAP (:INSTRUCTION) (:BOUNDS (0 . 84)))\n",
      "37: (LAMBDA #<FUNCTION LAMBDA> LIST NIL NIL (:LEAP (:INSTRUCTION (((:ASSIGNMENT (:VALUE (((:S-EXPR NIL :VALUE (MEMBRANE-PACKER:PACK PROT :PARALLEL T :NUMBER-OF-GENERATIONS 40) :BOUNDS (19 . 84))))) :NAME SCORED-MEMBRANES :BOUNDS (0 . 84))))) :BOUNDS (0 . 84)))\n",
      "38: (%WALK-NODES NIL #<FUNCTION LAMBDA> LIST (:LEAP (:INSTRUCTION (((:ASSIGNMENT (:VALUE (((:S-EXPR NIL :VALUE (MEMBRANE-PACKER:PACK PROT :PARALLEL T :NUMBER-OF-GENERATIONS 40) :BOUNDS (19 . 84))))) :NAME SCORED-MEMBRANES :BOUNDS (0 . 84))))) :BOUNDS (0 . 84)))\n",
      "39: (_WALK-NODES^ARCHITECTURE.BUILDER-PROTOCOL^((T LIST #<FUNCTION LAMBDA> (:LEAP (:INSTRUCTION (((:ASSIGNMENT (:VALUE (((:S-EXPR NIL :VALUE (MEMBRANE-PACKER:PACK PROT :PARALLEL T :NUMBER-OF-GENERATIONS 40) :BOUNDS (19 . 84))))) :NAME SCORED-MEMBRANES :BOUNDS (0 . 84))))) :BOUNDS (0 . 84)))\n",
      "40: (INTERPRETED-DISCRIMINATING-FUNCTION LIST #<FUNCTION LAMBDA> (:LEAP (:INSTRUCTION (((:ASSIGNMENT (:VALUE (((:S-EXPR NIL :VALUE (MEMBRANE-PACKER:PACK PROT :PARALLEL T :NUMBER-OF-GENERATIONS 40) :BOUNDS (19 . 84))))) :NAME SCORED-MEMBRANES :BOUNDS (0 . 84))))) :BOUNDS (0 . 84)))\n",
      "41: (EVALUATE LIST (:LEAP (:INSTRUCTION (((:ASSIGNMENT (:VALUE (((:S-EXPR NIL :VALUE (MEMBRANE-PACKER:PACK PROT :PARALLEL T :NUMBER-OF-GENERATIONS 40) :BOUNDS (19 . 84))))) :NAME SCORED-MEMBRANES :BOUNDS (0 . 84))))) :BOUNDS (0 . 84)) #<LEAP.CORE::LEAP-ENVIRONMENT>)\n",
      "42: (LAMBDA)\n",
      "\n"
     ]
    },
    {
     "data": {
      "text/plain": [
       "NIL"
      ]
     },
     "execution_count": 76,
     "metadata": {},
     "output_type": "execute_result"
    }
   ],
   "source": [
    "scored-membranes = (membrane-packer:pack prot :parallel t :number-of-generations 40)"
   ]
  },
  {
   "cell_type": "code",
   "execution_count": 29,
   "metadata": {},
   "outputs": [
    {
     "data": {
      "text/plain": [
       "#<MEMBRANE-PACKER::GA-MEMBRANE>"
      ]
     },
     "execution_count": 29,
     "metadata": {},
     "output_type": "execute_result"
    }
   ],
   "source": [
    "memb = (membrane-packer::membrane (first scored-membranes))"
   ]
  },
  {
   "cell_type": "code",
   "execution_count": 20,
   "metadata": {},
   "outputs": [
    {
     "data": {
      "text/plain": [
       "193"
      ]
     },
     "execution_count": 20,
     "metadata": {},
     "output_type": "execute_result"
    }
   ],
   "source": [
    "(membrane-packer::score-ga-membrane memb)"
   ]
  },
  {
   "cell_type": "code",
   "execution_count": 21,
   "metadata": {},
   "outputs": [
    {
     "data": {
      "text/plain": [
       "(#<AGGREGATE NIL 0> #<MEMBRANE-PACKER::ATOM-VECTORS>)"
      ]
     },
     "execution_count": 21,
     "metadata": {},
     "output_type": "execute_result"
    }
   ],
   "source": [
    "agg-av = (multiple-value-list (membrane-packer::build-aggregate-from-ga-membrane memb))"
   ]
  },
  {
   "cell_type": "code",
   "execution_count": 22,
   "metadata": {},
   "outputs": [
    {
     "data": {
      "text/plain": [
       "#<AGGREGATE NIL 0>"
      ]
     },
     "execution_count": 22,
     "metadata": {},
     "output_type": "execute_result"
    }
   ],
   "source": [
    "membagg = (membrane-packer::build-aggregate-from-ga-membrane memb)"
   ]
  },
  {
   "cell_type": "code",
   "execution_count": 23,
   "metadata": {},
   "outputs": [
    {
     "data": {
      "application/vnd.jupyter.widget-view+json": {
       "model_id": "0EF04FAC-4B47-4A5F-BC4C-2299CEE180C7",
       "version_major": 2,
       "version_minor": 0
      },
      "text/plain": [
       "#<NGLV:NGLWIDGET>"
      ]
     },
     "execution_count": 23,
     "metadata": {},
     "output_type": "execute_result"
    }
   ],
   "source": [
    "show membagg"
   ]
  },
  {
   "cell_type": "code",
   "execution_count": 27,
   "metadata": {},
   "outputs": [
    {
     "data": {
      "text/plain": [
       "#<MEMBRANE-PACKER::BIT-FIELD>"
      ]
     },
     "execution_count": 27,
     "metadata": {},
     "output_type": "execute_result"
    }
   ],
   "source": [
    "bf = (membrane-packer::bit-field-with-solute memb 0.0)"
   ]
  },
  {
   "cell_type": "code",
   "execution_count": 111,
   "metadata": {},
   "outputs": [
    {
     "data": {
      "text/plain": [
       "#<MEMBRANE-PACKER::ATOM-VECTORS>"
      ]
     },
     "execution_count": 111,
     "metadata": {},
     "output_type": "execute_result"
    }
   ],
   "source": [
    "av = (second agg-av)"
   ]
  },
  {
   "cell_type": "code",
   "execution_count": 112,
   "metadata": {},
   "outputs": [
    {
     "name": "stdout",
     "output_type": "stream",
     "text": [
      "Completed  100.0% elapsed:  24.0 seconds ETC: --   There are 202 close-contacts of a possible 189514056\n"
     ]
    },
    {
     "data": {
      "text/plain": [
       "CLOSE-CONTACTS"
      ]
     },
     "execution_count": 112,
     "metadata": {},
     "output_type": "execute_result"
    }
   ],
   "source": [
    "(defparameter close-contacts (membrane-packer::close-contacts av))"
   ]
  },
  {
   "cell_type": "code",
   "execution_count": 113,
   "metadata": {},
   "outputs": [
    {
     "data": {
      "application/vnd.jupyter.widget-view+json": {
       "model_id": "2635DB94-3C6B-4935-9A7D-2D5982A1E448",
       "version_major": 2,
       "version_minor": 0
      },
      "text/plain": [
       "#<NGLV:NGLWIDGET>"
      ]
     },
     "execution_count": 113,
     "metadata": {},
     "output_type": "execute_result"
    }
   ],
   "source": [
    "v = (show membagg)"
   ]
  },
  {
   "cell_type": "code",
   "execution_count": 116,
   "metadata": {},
   "outputs": [
    {
     "data": {
      "text/plain": [
       "T"
      ]
     },
     "execution_count": 116,
     "metadata": {},
     "output_type": "execute_result"
    }
   ],
   "source": [
    "(membrane-packer:add-close-contacts-as-shape v close-contacts :radius 2.0)"
   ]
  },
  {
   "cell_type": "code",
   "execution_count": 99,
   "metadata": {},
   "outputs": [
    {
     "data": {
      "text/plain": [
       "#<MEMBRANE-PACKER::ATOM-VECTORS>"
      ]
     },
     "execution_count": 99,
     "metadata": {},
     "output_type": "execute_result"
    }
   ],
   "source": [
    "av = (second agg-av)"
   ]
  },
  {
   "cell_type": "code",
   "execution_count": null,
   "metadata": {},
   "outputs": [],
   "source": []
  },
  {
   "cell_type": "code",
   "execution_count": 29,
   "metadata": {},
   "outputs": [
    {
     "data": {
      "text/plain": [
       "*RBMIN*"
      ]
     },
     "execution_count": 29,
     "metadata": {},
     "output_type": "execute_result"
    }
   ],
   "source": [
    "(defparameter *rbmin* (membrane-packer::build-rigid-body-minimizer memb :debug t))"
   ]
  },
  {
   "cell_type": "code",
   "execution_count": 28,
   "metadata": {},
   "outputs": [
    {
     "data": {
      "text/plain": [
       "#<MINIMIZER >"
      ]
     },
     "execution_count": 28,
     "metadata": {},
     "output_type": "execute_result"
    }
   ],
   "source": [
    "*rbmin*"
   ]
  },
  {
   "cell_type": "markdown",
   "metadata": {},
   "source": [
    "-----------"
   ]
  },
  {
   "cell_type": "code",
   "execution_count": null,
   "metadata": {},
   "outputs": [],
   "source": [
    "(defparameter *rbdynamics* (membrane-packer::build-rigid-body-dynamics |memb| :debug t))"
   ]
  },
  {
   "cell_type": "code",
   "execution_count": 29,
   "metadata": {},
   "outputs": [
    {
     "data": {
      "text/plain": [
       "*SHAPES*"
      ]
     },
     "execution_count": 29,
     "metadata": {},
     "output_type": "execute_result"
    }
   ],
   "source": [
    "(defparameter *shapes* (membrane-packer::rigid-body-dynamics-axes-as-shape-using-nonbond-code *rbdynamics*))"
   ]
  },
  {
   "cell_type": "code",
   "execution_count": 30,
   "metadata": {},
   "outputs": [
    {
     "data": {
      "application/vnd.jupyter.widget-view+json": {
       "model_id": "B9C5AD76-B445-4D2E-931F-C49F6BBB009F",
       "version_major": 2,
       "version_minor": 0
      },
      "text/plain": [
       "#<NGLV:NGLWIDGET>"
      ]
     },
     "execution_count": 30,
     "metadata": {},
     "output_type": "execute_result"
    }
   ],
   "source": [
    "(show |membagg| :shapes (list :centers *shapes*))"
   ]
  },
  {
   "cell_type": "code",
   "execution_count": 31,
   "metadata": {},
   "outputs": [
    {
     "data": {
      "text/plain": [
       "#<MEMBRANE-PACKER::RIGID-BODY-DYNAMICS>"
      ]
     },
     "execution_count": 31,
     "metadata": {},
     "output_type": "execute_result"
    }
   ],
   "source": [
    "*rbdynamics*"
   ]
  },
  {
   "cell_type": "code",
   "execution_count": 34,
   "metadata": {},
   "outputs": [
    {
     "name": "stdout",
     "output_type": "stream",
     "text": [
      "COMPILER::*TRAP-ZERO-LINENO*  has value\n",
      "CL-PPCRE::*ZERO-LENGTH-NUM*  has value\n",
      "CL-PPCRE::CREATE-GREEDY-NO-ZERO-MATCHER  Function\n",
      "CL-PPCRE::CREATE-NON-GREEDY-NO-ZERO-MATCHER  Function\n",
      "LLVM-SYS:DIFLAGS-ZERO\n",
      "DIVISION-BY-ZERO\n",
      "CORE:FD-ZERO  Function\n",
      "SOCKETS-INTERNAL:FDSET-ZERO  Function\n",
      "USOCKET::FDSET-ZERO  Function\n",
      ":FROM-ZERO  Constant\n",
      "CANDO::FROM-ZERO\n",
      "SKETCH2D::FROM-ZERO\n",
      "SERVE-EVENT-INTERNAL:LL-FD-ZERO  Function\n",
      ":ZERO-LENGTH  Constant\n",
      "CL-PPCRE::ZERO-LENGTH-NUM\n",
      "ZEROP  Function\n"
     ]
    },
    {
     "data": {
      "text/plain": [
       "NIL"
      ]
     },
     "execution_count": 34,
     "metadata": {},
     "output_type": "execute_result"
    }
   ],
   "source": [
    "(apropos \"zero\")"
   ]
  },
  {
   "cell_type": "code",
   "execution_count": 35,
   "metadata": {},
   "outputs": [
    {
     "data": {
      "text/plain": [
       "NIL"
      ]
     },
     "execution_count": 35,
     "metadata": {},
     "output_type": "execute_result"
    }
   ],
   "source": [
    "(loop for index below (length (membrane-packer::force *rbdynamics*)) do (setf (elt (membrane-packer::force *rbdynamics*) index) 0.0))"
   ]
  },
  {
   "cell_type": "code",
   "execution_count": 36,
   "metadata": {},
   "outputs": [
    {
     "name": "stdout",
     "output_type": "stream",
     "text": [
      "Zeroing force\n"
     ]
    },
    {
     "data": {
      "text/plain": [
       "0.0d0"
      ]
     },
     "execution_count": 36,
     "metadata": {},
     "output_type": "execute_result"
    }
   ],
   "source": [
    "(chem:evaluate-energy-force (membrane-packer::energy-function *rbdynamics*)\n",
    "                            (membrane-packer::coordinates *rbdynamics*)\n",
    "                            t\n",
    "                            (membrane-packer::force *rbdynamics*))"
   ]
  },
  {
   "cell_type": "code",
   "execution_count": 37,
   "metadata": {},
   "outputs": [
    {
     "name": "stdout",
     "output_type": "stream",
     "text": [
      "Zeroing force\n"
     ]
    },
    {
     "data": {
      "text/plain": [
       "0"
      ]
     },
     "execution_count": 37,
     "metadata": {},
     "output_type": "execute_result"
    }
   ],
   "source": [
    "(membrane-packer::advance-rigid-body-dynamics *rbdynamics*)"
   ]
  },
  {
   "cell_type": "code",
   "execution_count": 67,
   "metadata": {},
   "outputs": [
    {
     "name": "stdout",
     "output_type": "stream",
     "text": [
      "Step 0\n",
      "Step 1\n",
      "Step 2\n",
      "Step 3\n",
      "Step 4\n",
      "Step 5\n",
      "Step 6\n",
      "Step 7\n",
      "Step 8\n",
      "Step 9\n",
      "Step 10\n",
      "Step 11\n",
      "Step 12\n",
      "Step 13\n",
      "Step 14\n",
      "Step 15\n",
      "Step 16\n",
      "Step 17\n",
      "Step 18\n",
      "Step 19\n",
      "Step 20\n",
      "Step 21\n",
      "Step 22\n",
      "Step 23\n",
      "Step 24\n",
      "Step 25\n",
      "Step 26\n",
      "Step 27\n",
      "Step 28\n",
      "Step 29\n"
     ]
    },
    {
     "data": {
      "text/plain": [
       "NIL"
      ]
     },
     "execution_count": 67,
     "metadata": {},
     "output_type": "execute_result"
    }
   ],
   "source": [
    "(dotimes (i 30) (format t \"Step ~a~%\" i) (finish-output) (membrane-packer::advance-rigid-body-dynamics *rbdynamics*))"
   ]
  },
  {
   "cell_type": "code",
   "execution_count": 68,
   "metadata": {},
   "outputs": [
    {
     "data": {
      "text/plain": [
       "*TRAJ*"
      ]
     },
     "execution_count": 68,
     "metadata": {},
     "output_type": "execute_result"
    }
   ],
   "source": [
    "(defparameter *traj* (membrane-packer::trajectory *rbdynamics*))"
   ]
  },
  {
   "cell_type": "code",
   "execution_count": 69,
   "metadata": {},
   "outputs": [
    {
     "data": {
      "text/plain": [
       "#<CANDO-JUPYTER:CANDO-TRAJECTORY>"
      ]
     },
     "execution_count": 69,
     "metadata": {},
     "output_type": "execute_result"
    }
   ],
   "source": [
    "(change-class *traj* 'cando-jupyter:cando-trajectory)"
   ]
  },
  {
   "cell_type": "code",
   "execution_count": 70,
   "metadata": {},
   "outputs": [
    {
     "data": {
      "text/plain": [
       "*SS-TRAJ*"
      ]
     },
     "execution_count": 70,
     "metadata": {},
     "output_type": "execute_result"
    }
   ],
   "source": [
    "(defparameter *ss-traj* (nglv:get-structure-string *traj*))"
   ]
  },
  {
   "cell_type": "code",
   "execution_count": 71,
   "metadata": {},
   "outputs": [
    {
     "data": {
      "application/vnd.jupyter.widget-view+json": {
       "model_id": "59A19142-8669-4580-80B0-3471AB2FA300",
       "version_major": 2,
       "version_minor": 0
      },
      "text/plain": [
       "#<NGLV:NGLWIDGET>"
      ]
     },
     "execution_count": 71,
     "metadata": {},
     "output_type": "execute_result"
    }
   ],
   "source": [
    "(show *traj*)"
   ]
  },
  {
   "cell_type": "code",
   "execution_count": 72,
   "metadata": {},
   "outputs": [
    {
     "data": {
      "application/vnd.jupyter.widget-view+json": {
       "model_id": "B84E0DB5-43DD-4010-AC46-F3D1B320DECB",
       "version_major": 2,
       "version_minor": 0
      },
      "text/plain": [
       "#<NGLV:NGLWIDGET>"
      ]
     },
     "execution_count": 72,
     "metadata": {},
     "output_type": "execute_result"
    }
   ],
   "source": [
    "(show (membrane-packer::trajectory *rbdynamics*))"
   ]
  },
  {
   "cell_type": "code",
   "execution_count": 26,
   "metadata": {},
   "outputs": [
    {
     "name": "stdout",
     "output_type": "stream",
     "text": [
      "MEMBRANE-PACKER::BUILD-RIGID-BODY-ENERGY-FUNCTION  Function\n",
      "CHEM:ENERGY-RIGID-BODY-COMPONENT\n",
      "CHEM:ENERGY-RIGID-BODY-NONBOND\n",
      "CHEM:ENERGY-RIGID-BODY-NONBOND-NUMBER-OF-NONBOND-ATOMS  Function\n",
      "CHEM:ENERGY-RIGID-BODY-NONBOND-SET-TERM  Function\n",
      "CHEM:ENERGY-RIGID-BODY-STAPLE\n",
      "CHEM:ENERGY-RIGID-BODY-STAPLE-ADD-TERM  Function\n",
      "CHEM:MAKE-ENERGY-RIGID-BODY-NONBOND  Function\n",
      "CHEM:MAKE-ENERGY-RIGID-BODY-STAPLE  Function\n",
      "CHEM:MAKE-RIGID-BODY-ENERGY-FUNCTION  Function\n",
      "CHEM:RIGID-BODY-ENERGY-FUNCTION\n",
      "CANDO::RIGID-BODY-ENERGY-FUNCTION\n",
      "CHEM:RIGID-BODY-ENERGY-FUNCTION-ADD-TERM  Function\n",
      "CHEM:RIGID-BODY-ENERGY-FUNCTION-BOUNDING-BOX  Function\n",
      "CHEM:RIGID-BODY-ENERGY-FUNCTION-BOUNDING-BOX-BOUND-P  Function\n",
      "CHEM:RIGID-BODY-ENERGY-FUNCTION-GET-POSITION  Function\n",
      "CHEM:RIGID-BODY-ENERGY-FUNCTION-MAK-UNBOUND-BOUNDING-BOX  Function\n",
      "CHEM:RIGID-BODY-ENERGY-FUNCTION-NORMALIZE-POSITION  Function\n",
      "CHEM:RIGID-BODY-ENERGY-FUNCTION-SET-BOUNDING-BOX  Function\n",
      "CHEM:RIGID-BODY-ENERGY-FUNCTION-SET-POSITION  Function\n",
      "CHEM:RIGID-BODY-ENERGY-FUNCTION-TERMS  Function\n",
      "CHEM:RIGID-BODY-VELOCITY-VERLET-STEP-LIMIT-DISPLACEMENT  Function\n"
     ]
    },
    {
     "data": {
      "text/plain": [
       "NIL"
      ]
     },
     "execution_count": 26,
     "metadata": {},
     "output_type": "execute_result"
    }
   ],
   "source": [
    "(apropos \"rigid-body\")"
   ]
  },
  {
   "cell_type": "code",
   "execution_count": 27,
   "metadata": {},
   "outputs": [
    {
     "name": "stdout",
     "output_type": "stream",
     "text": [
      "CHEM:WRITE-NONBOND-ATOM-COORDINATES-TO-COMPLEX-VECTOR-FLOAT  Function\n",
      "CHEM:WRITE-NONBOND-ATOMS-TO-COMPLEX-VECTOR  Function\n"
     ]
    },
    {
     "data": {
      "text/plain": [
       "NIL"
      ]
     },
     "execution_count": 27,
     "metadata": {},
     "output_type": "execute_result"
    }
   ],
   "source": [
    "(apropos \"write-nonbond-atom\")"
   ]
  },
  {
   "cell_type": "code",
   "execution_count": 28,
   "metadata": {},
   "outputs": [
    {
     "data": {
      "text/plain": [
       "(#<ENERGY-RIGID-BODY-NONBOND >)"
      ]
     },
     "execution_count": 28,
     "metadata": {},
     "output_type": "execute_result"
    }
   ],
   "source": [
    "(chem:rigid-body-energy-function-terms (car *efp*))"
   ]
  },
  {
   "cell_type": "code",
   "execution_count": 29,
   "metadata": {},
   "outputs": [
    {
     "name": "stderr",
     "output_type": "stream",
     "text": [
      "\n",
      "Undefined variable *ATOMS*\n"
     ]
    },
    {
     "data": {
      "text/plain": [
       "NIL"
      ]
     },
     "execution_count": 29,
     "metadata": {},
     "output_type": "execute_result"
    }
   ],
   "source": [
    "(defparameter *atoms* (make-array 1024 :adjustable t :fill-pointer 0))\n",
    "(chem:write-nonbond-atoms-to-complex-vector (first (chem:rigid-body-energy-function-terms (car *efp*))) *atoms*)\n",
    "nil"
   ]
  },
  {
   "cell_type": "code",
   "execution_count": 30,
   "metadata": {},
   "outputs": [
    {
     "name": "stderr",
     "output_type": "stream",
     "text": [
      "\n",
      "Undefined variable *COORDS*\n",
      "\n",
      "An error occurred of type: WRONG-NUMBER-OF-ARGUMENTS: \n",
      "  Calling WRITE-NONBOND-ATOM-COORDINATES-TO-COMPLEX-VECTOR-FLOAT - Got 2 arguments, but expected at least 3\n",
      "\n",
      "serious-condition backtrace:\n",
      "0: (ERROR CORE:WRONG-NUMBER-OF-ARGUMENTS :CALLED-FUNCTION #<FUNCTION CHEM:WRITE-NONBOND-ATOM-COORDINATES-TO-COMPLEX-VECTOR-FLOAT> :GIVEN-NARGS 2 :MIN-NARGS 3)\n",
      "1: (LAMBDA)\n",
      "\n"
     ]
    },
    {
     "data": {
      "text/plain": [
       "NIL"
      ]
     },
     "execution_count": 30,
     "metadata": {},
     "output_type": "execute_result"
    }
   ],
   "source": [
    "(defparameter *atom-coords* (make-array 1024 :adjustable t :fill-pointer 0))\n",
    "(defparameter *rb-coords* ())\n",
    "(chem:write-nonbond-atom-coordinates-to-complex-vector-float (first (chem:rigid-body-energy-function-terms (car *efp*))) *coords*)\n",
    "nil"
   ]
  },
  {
   "cell_type": "code",
   "execution_count": 51,
   "metadata": {},
   "outputs": [
    {
     "name": "stdout",
     "output_type": "stream",
     "text": [
      "Missing-h NIL\n"
     ]
    },
    {
     "data": {
      "image/svg+xml": [
       "<?xml version=\"1.0\" standalone=\"no\"?>\n",
       "<svg viewport=\"0 0 465 196\" height=\"196\" width=\"465\" version=\"1.2\" id=\"\"\n",
       "    xmlns=\"http://www.w3.org/2000/svg\"\n",
       "    xmlns:xlink=\"http://www.w3.org/1999/xlink\">\n",
       "  <line x1=\"309.98\" y1=\"179.63\" x2=\"304.11\" y2=\"158.73\" fill=\"none\"\n",
       "        stroke=\"black\" stroke-width=\"2\" stroke-linecap=\"round\"/>\n",
       "  <line x1=\"325.81\" y1=\"130.09\" x2=\"308.61\" y2=\"144.33\" fill=\"none\"\n",
       "        stroke=\"black\" stroke-width=\"2\" stroke-linecap=\"round\"/>\n",
       "  <line x1=\"325.81\" y1=\"130.09\" x2=\"353.80\" y2=\"142.26\" fill=\"none\"\n",
       "        stroke=\"black\" stroke-width=\"2\" stroke-linecap=\"round\"/>\n",
       "  <line x1=\"325.81\" y1=\"130.09\" x2=\"321.43\" y2=\"99.80\" fill=\"none\"\n",
       "        stroke=\"black\" stroke-width=\"2\" stroke-linecap=\"round\"/>\n",
       "  <line x1=\"330.19\" y1=\"125.41\" x2=\"326.95\" y2=\"103.04\" fill=\"none\"\n",
       "        stroke=\"black\" stroke-width=\"2\" stroke-linecap=\"round\"/>\n",
       "  <line x1=\"426.56\" y1=\"86.43\" x2=\"406.34\" y2=\"77.30\" fill=\"none\"\n",
       "        stroke=\"black\" stroke-width=\"2\" stroke-linecap=\"round\"/>\n",
       "  <line x1=\"391.19\" y1=\"79.32\" x2=\"374.02\" y2=\"93.46\" fill=\"none\"\n",
       "        stroke=\"black\" stroke-width=\"2\" stroke-linecap=\"round\"/>\n",
       "  <line x1=\"353.80\" y1=\"142.26\" x2=\"378.91\" y2=\"123.40\" fill=\"none\"\n",
       "        stroke=\"black\" stroke-width=\"2\" stroke-linecap=\"round\"/>\n",
       "  <line x1=\"354.00\" y1=\"135.86\" x2=\"372.71\" y2=\"121.81\" fill=\"none\"\n",
       "        stroke=\"black\" stroke-width=\"2\" stroke-linecap=\"round\"/>\n",
       "  <line x1=\"378.91\" y1=\"123.40\" x2=\"374.02\" y2=\"93.46\" fill=\"none\"\n",
       "        stroke=\"black\" stroke-width=\"2\" stroke-linecap=\"round\"/>\n",
       "  <line x1=\"374.02\" y1=\"93.46\" x2=\"346.22\" y2=\"81.12\" fill=\"none\"\n",
       "        stroke=\"black\" stroke-width=\"2\" stroke-linecap=\"round\"/>\n",
       "  <line x1=\"368.34\" y1=\"96.40\" x2=\"347.85\" y2=\"87.31\" fill=\"none\"\n",
       "        stroke=\"black\" stroke-width=\"2\" stroke-linecap=\"round\"/>\n",
       "  <line x1=\"346.22\" y1=\"81.12\" x2=\"321.43\" y2=\"99.80\" fill=\"none\"\n",
       "        stroke=\"black\" stroke-width=\"2\" stroke-linecap=\"round\"/>\n",
       "  <line x1=\"321.43\" y1=\"99.80\" x2=\"295.21\" y2=\"83.07\" fill=\"none\"\n",
       "        stroke=\"black\" stroke-width=\"2\" stroke-linecap=\"round\"/>\n",
       "  <line x1=\"303.37\" y1=\"61.62\" x2=\"297.63\" y2=\"83.70\" fill=\"none\"\n",
       "        stroke=\"black\" stroke-width=\"2\" stroke-linecap=\"round\"/>\n",
       "  <line x1=\"298.53\" y1=\"60.36\" x2=\"292.79\" y2=\"82.44\" fill=\"none\"\n",
       "        stroke=\"black\" stroke-width=\"2\" stroke-linecap=\"round\"/>\n",
       "  <line x1=\"295.21\" y1=\"83.07\" x2=\"273.55\" y2=\"84.75\" fill=\"none\"\n",
       "        stroke=\"black\" stroke-width=\"2\" stroke-linecap=\"round\"/>\n",
       "  <line x1=\"248.98\" y1=\"111.57\" x2=\"259.96\" y2=\"93.18\" fill=\"none\"\n",
       "        stroke=\"black\" stroke-width=\"2\" stroke-linecap=\"round\"/>\n",
       "  <line x1=\"248.98\" y1=\"111.57\" x2=\"218.31\" y2=\"114.92\" fill=\"none\"\n",
       "        stroke=\"black\" stroke-width=\"2\" stroke-linecap=\"round\"/>\n",
       "  <line x1=\"218.31\" y1=\"114.92\" x2=\"203.27\" y2=\"99.59\" fill=\"none\"\n",
       "        stroke=\"black\" stroke-width=\"2\" stroke-linecap=\"round\"/>\n",
       "  <line x1=\"253.52\" y1=\"56.28\" x2=\"261.39\" y2=\"77.04\" fill=\"none\"\n",
       "        stroke=\"black\" stroke-width=\"2\" stroke-linecap=\"round\"/>\n",
       "  <line x1=\"253.52\" y1=\"56.28\" x2=\"225.53\" y2=\"45.64\" fill=\"none\"\n",
       "        stroke=\"black\" stroke-width=\"2\" stroke-linecap=\"round\"/>\n",
       "  <line x1=\"225.53\" y1=\"45.64\" x2=\"199.25\" y2=\"62.92\" fill=\"none\"\n",
       "        stroke=\"black\" stroke-width=\"2\" stroke-linecap=\"round\"/>\n",
       "  <line x1=\"199.25\" y1=\"62.92\" x2=\"197.65\" y2=\"84.19\" fill=\"none\"\n",
       "        stroke=\"black\" stroke-width=\"2\" stroke-linecap=\"round\"/>\n",
       "  <line x1=\"188.22\" y1=\"95.25\" x2=\"166.57\" y2=\"100.41\" fill=\"none\"\n",
       "        stroke=\"black\" stroke-width=\"2\" stroke-linecap=\"round\"/>\n",
       "  <line x1=\"166.57\" y1=\"100.41\" x2=\"155.88\" y2=\"119.82\" fill=\"none\"\n",
       "        stroke=\"black\" stroke-width=\"2\" stroke-linecap=\"round\"/>\n",
       "  <line x1=\"160.26\" y1=\"101.50\" x2=\"151.50\" y2=\"117.41\" fill=\"none\"\n",
       "        stroke=\"black\" stroke-width=\"2\" stroke-linecap=\"round\"/>\n",
       "  <line x1=\"166.57\" y1=\"100.41\" x2=\"152.22\" y2=\"83.46\" fill=\"none\"\n",
       "        stroke=\"black\" stroke-width=\"2\" stroke-linecap=\"round\"/>\n",
       "  <line x1=\"142.82\" y1=\"125.44\" x2=\"121.08\" y2=\"119.81\" fill=\"none\"\n",
       "        stroke=\"black\" stroke-width=\"2\" stroke-linecap=\"round\"/>\n",
       "  <line x1=\"121.08\" y1=\"119.81\" x2=\"96.68\" y2=\"138.23\" fill=\"none\"\n",
       "        stroke=\"black\" stroke-width=\"2\" stroke-linecap=\"round\"/>\n",
       "  <line x1=\"121.08\" y1=\"119.81\" x2=\"118.42\" y2=\"89.32\" fill=\"none\"\n",
       "        stroke=\"black\" stroke-width=\"2\" stroke-linecap=\"round\"/>\n",
       "  <line x1=\"115.75\" y1=\"116.26\" x2=\"113.79\" y2=\"93.74\" fill=\"none\"\n",
       "        stroke=\"black\" stroke-width=\"2\" stroke-linecap=\"round\"/>\n",
       "  <line x1=\"96.68\" y1=\"138.23\" x2=\"68.98\" y2=\"124.19\" fill=\"none\"\n",
       "        stroke=\"black\" stroke-width=\"2\" stroke-linecap=\"round\"/>\n",
       "  <line x1=\"95.37\" y1=\"131.96\" x2=\"74.81\" y2=\"121.54\" fill=\"none\"\n",
       "        stroke=\"black\" stroke-width=\"2\" stroke-linecap=\"round\"/>\n",
       "  <line x1=\"68.98\" y1=\"124.19\" x2=\"66.85\" y2=\"93.93\" fill=\"none\" stroke=\"black\"\n",
       "        stroke-width=\"2\" stroke-linecap=\"round\"/>\n",
       "  <line x1=\"46.94\" y1=\"84.68\" x2=\"66.85\" y2=\"93.93\" fill=\"none\" stroke=\"black\"\n",
       "        stroke-width=\"2\" stroke-linecap=\"round\"/>\n",
       "  <line x1=\"66.85\" y1=\"93.93\" x2=\"91.55\" y2=\"75.47\" fill=\"none\" stroke=\"black\"\n",
       "        stroke-width=\"2\" stroke-linecap=\"round\"/>\n",
       "  <line x1=\"73.05\" y1=\"95.54\" x2=\"91.34\" y2=\"81.87\" fill=\"none\" stroke=\"black\"\n",
       "        stroke-width=\"2\" stroke-linecap=\"round\"/>\n",
       "  <line x1=\"138.22\" y1=\"80.31\" x2=\"118.42\" y2=\"89.32\" fill=\"none\"\n",
       "        stroke=\"black\" stroke-width=\"2\" stroke-linecap=\"round\"/>\n",
       "  <line x1=\"118.42\" y1=\"89.32\" x2=\"91.55\" y2=\"75.47\" fill=\"none\" stroke=\"black\"\n",
       "        stroke-width=\"2\" stroke-linecap=\"round\"/>\n",
       "  <text x=\"301.68\" y=\"152.07\" text-anchor=\"middle\" alignment-baseline=\"middle\">\n",
       "    O\n",
       "  </text>\n",
       "  <text x=\"38.78\" y=\"82.89\" text-anchor=\"middle\" alignment-baseline=\"middle\">\n",
       "    Cl\n",
       "  </text>\n",
       "  <text x=\"146.41\" y=\"78.59\" text-anchor=\"middle\" alignment-baseline=\"middle\">\n",
       "    S\n",
       "  </text>\n",
       "  <text x=\"264.58\" y=\"87.45\" text-anchor=\"middle\" alignment-baseline=\"middle\">\n",
       "    N\n",
       "  </text>\n",
       "  <text x=\"303.22\" y=\"54.28\" text-anchor=\"middle\" alignment-baseline=\"middle\">\n",
       "    O\n",
       "  </text>\n",
       "  <text x=\"398.14\" y=\"75.59\" text-anchor=\"middle\" alignment-baseline=\"middle\">\n",
       "    O\n",
       "  </text>\n",
       "  <text x=\"196.97\" y=\"95.17\" text-anchor=\"middle\" alignment-baseline=\"middle\">\n",
       "    N\n",
       "  </text>\n",
       "  <text x=\"151.53\" y=\"129.70\" text-anchor=\"middle\" alignment-baseline=\"middle\">\n",
       "    N\n",
       "  </text>\n",
       "</svg>\n"
      ],
      "text/plain": [
       "#<CL-JUPYTER-USER::SVG-STR>"
      ]
     },
     "execution_count": 51,
     "metadata": {},
     "output_type": "execute_result"
    }
   ],
   "source": [
    "show (sketch2d:sketch2d |lig4|)"
   ]
  },
  {
   "cell_type": "code",
   "execution_count": 40,
   "metadata": {},
   "outputs": [
    {
     "name": "stdout",
     "output_type": "stream",
     "text": [
      "Assigned 4835 types of a total of 4835 atoms.\n"
     ]
    },
    {
     "data": {
      "text/plain": [
       "NIL"
      ]
     },
     "execution_count": 40,
     "metadata": {},
     "output_type": "execute_result"
    }
   ],
   "source": [
    "assignAtomTypes prot"
   ]
  },
  {
   "cell_type": "code",
   "execution_count": 41,
   "metadata": {},
   "outputs": [
    {
     "data": {
      "text/plain": [
       "#<ENERGY-FUNCTION >"
      ]
     },
     "execution_count": 41,
     "metadata": {},
     "output_type": "execute_result"
    }
   ],
   "source": [
    "energy = (chem:make-energy-function |prot|)"
   ]
  },
  {
   "cell_type": "code",
   "execution_count": 27,
   "metadata": {},
   "outputs": [
    {
     "name": "stdout",
     "output_type": "stream",
     "text": [
      "Describing PROT.0\n",
      "\n",
      "\n",
      "\"PROT.0\" - simple string\n",
      " dimension:  6\n"
     ]
    },
    {
     "data": {
      "text/plain": [
       "NIL"
      ]
     },
     "execution_count": 27,
     "metadata": {},
     "output_type": "execute_result"
    }
   ],
   "source": [
    "desc PROT.0"
   ]
  },
  {
   "cell_type": "code",
   "execution_count": 29,
   "metadata": {},
   "outputs": [
    {
     "data": {
      "text/plain": [
       "#<AGGREGATE NIL 0>"
      ]
     },
     "execution_count": 29,
     "metadata": {},
     "output_type": "execute_result"
    }
   ],
   "source": [
    "PROT"
   ]
  },
  {
   "cell_type": "code",
   "execution_count": 13,
   "metadata": {},
   "outputs": [
    {
     "data": {
      "text/plain": [
       "#<MEMBRANE-PACKER::GA-MEMBRANE>"
      ]
     },
     "execution_count": 13,
     "metadata": {},
     "output_type": "execute_result"
    }
   ],
   "source": [
    "*memb0*"
   ]
  },
  {
   "cell_type": "code",
   "execution_count": 14,
   "metadata": {},
   "outputs": [
    {
     "data": {
      "text/plain": [
       "*AGG-ATOMVECS*"
      ]
     },
     "execution_count": 14,
     "metadata": {},
     "output_type": "execute_result"
    }
   ],
   "source": [
    "(defparameter *agg-atomvecs* (multiple-value-list (membrane-packer::build-aggregate-from-ga-membrane *memb0* :debug t)))"
   ]
  },
  {
   "cell_type": "code",
   "execution_count": 15,
   "metadata": {},
   "outputs": [
    {
     "data": {
      "text/plain": [
       "(#<AGGREGATE NIL 0> #<MEMBRANE-PACKER::ATOM-VECTORS>)"
      ]
     },
     "execution_count": 15,
     "metadata": {},
     "output_type": "execute_result"
    }
   ],
   "source": [
    "*agg-atomvecs*"
   ]
  },
  {
   "cell_type": "code",
   "execution_count": 16,
   "metadata": {},
   "outputs": [
    {
     "data": {
      "text/plain": [
       "*AGG*"
      ]
     },
     "execution_count": 16,
     "metadata": {},
     "output_type": "execute_result"
    }
   ],
   "source": [
    "(defparameter *agg* (first *agg-atomvecs*))"
   ]
  },
  {
   "cell_type": "code",
   "execution_count": 17,
   "metadata": {},
   "outputs": [
    {
     "data": {
      "text/plain": [
       "*ATOMVECS*"
      ]
     },
     "execution_count": 17,
     "metadata": {},
     "output_type": "execute_result"
    }
   ],
   "source": [
    "(defparameter *atomvecs* (second *agg-atomvecs*))"
   ]
  },
  {
   "cell_type": "code",
   "execution_count": 18,
   "metadata": {},
   "outputs": [
    {
     "data": {
      "text/plain": [
       "#<AGGREGATE NIL 0>"
      ]
     },
     "execution_count": 18,
     "metadata": {},
     "output_type": "execute_result"
    }
   ],
   "source": [
    "agg = *AGG*"
   ]
  },
  {
   "cell_type": "code",
   "execution_count": 19,
   "metadata": {},
   "outputs": [
    {
     "data": {
      "application/vnd.jupyter.widget-view+json": {
       "model_id": "E6D826C6-0A9E-423D-9EAE-D99A265C0AB8",
       "version_major": 2,
       "version_minor": 0
      },
      "text/plain": [
       "#<NGLV:NGLWIDGET>"
      ]
     },
     "execution_count": 19,
     "metadata": {},
     "output_type": "execute_result"
    }
   ],
   "source": [
    "v = show *AGG*"
   ]
  },
  {
   "cell_type": "code",
   "execution_count": 111,
   "metadata": {},
   "outputs": [
    {
     "name": "stdout",
     "output_type": "stream",
     "text": [
      "Assigned 24935 types of a total of 24935 atoms.\n"
     ]
    },
    {
     "data": {
      "text/plain": [
       "NIL"
      ]
     },
     "execution_count": 111,
     "metadata": {},
     "output_type": "execute_result"
    }
   ],
   "source": [
    "assignAtomTypes memb"
   ]
  },
  {
   "cell_type": "code",
   "execution_count": 112,
   "metadata": {},
   "outputs": [
    {
     "name": "stderr",
     "output_type": "stream",
     "text": [
      "\n",
      "Undefined variable *AGG*\n",
      "\n",
      "An error occurred of type: UNBOUND-VARIABLE: \n",
      "  The variable *AGG* is unbound.\n",
      "\n",
      "serious-condition backtrace:\n",
      "0: (ERROR UNBOUND-VARIABLE :NAME *AGG*)\n",
      "1: (LAMBDA)\n",
      "\n"
     ]
    },
    {
     "data": {
      "text/plain": [
       "NIL"
      ]
     },
     "execution_count": 112,
     "metadata": {},
     "output_type": "execute_result"
    }
   ],
   "source": [
    "(defparameter *ef* (chem:make-energy-function *agg*))"
   ]
  },
  {
   "cell_type": "code",
   "execution_count": 84,
   "metadata": {},
   "outputs": [
    {
     "name": "stdout",
     "output_type": "stream",
     "text": [
      "Saving matter to /tmp/agg.mol2\n"
     ]
    },
    {
     "data": {
      "text/plain": [
       "NIL"
      ]
     },
     "execution_count": 84,
     "metadata": {},
     "output_type": "execute_result"
    }
   ],
   "source": [
    "(save-mol2 *agg* \"/tmp/agg.mol2\" :use-sybyl-types t)"
   ]
  },
  {
   "cell_type": "code",
   "execution_count": 85,
   "metadata": {},
   "outputs": [
    {
     "data": {
      "text/plain": [
       "NIL"
      ]
     },
     "execution_count": 85,
     "metadata": {},
     "output_type": "execute_result"
    }
   ],
   "source": [
    "(assign-atom-types *agg*)"
   ]
  },
  {
   "cell_type": "code",
   "execution_count": 87,
   "metadata": {},
   "outputs": [
    {
     "name": "stdout",
     "output_type": "stream",
     "text": [
      "Entered minimize\n",
      "Condition of type ESTIMATED-ANGLE-TERM was signaled.\n",
      "Condition of type ESTIMATED-ANGLE-TERM was signaled.\n",
      "Condition of type ESTIMATED-ANGLE-TERM was signaled.\n",
      "Condition of type ESTIMATED-ANGLE-TERM was signaled.\n",
      "Condition of type ESTIMATED-ANGLE-TERM was signaled.\n",
      "Condition of type ESTIMATED-ANGLE-TERM was signaled.\n",
      "Condition of type ESTIMATED-ANGLE-TERM was signaled.\n",
      "Condition of type ESTIMATED-ANGLE-TERM was signaled.\n",
      "minimize-no-fail\n",
      "======= Starting Steepest Descent Minimizer\n",
      "\n",
      ";;; Suspending process #<PROCESS repl-thread @0x139d32699>\n",
      ";;; Suspending process #<PROCESS auto-flush-thread @0x139d32789>\n",
      ";;; Suspending process #<PROCESS swank-indentation-cache-thread @0x14273dc39>\n",
      ";;; Suspending process #<PROCESS reader-thread @0x14273dd29>\n",
      ";;; Suspending process #<PROCESS control-thread @0x14273de19>\n",
      ";;; Suspending process #<PROCESS lparallel @0x142598969>\n",
      ";;; Suspending process #<PROCESS lparallel @0x13756d009>\n",
      ";;; Suspending process #<PROCESS lparallel @0x13756d0f9>\n",
      ";;; Suspending process #<PROCESS lparallel @0x13756d1e9>\n",
      ";;; Suspending process #<PROCESS lparallel @0x13756d2d9>\n",
      ";;; Suspending process #<PROCESS lparallel @0x13756d3c9>\n",
      ";;; Suspending process #<PROCESS lparallel @0x13756d4b9>\n",
      ";;; Suspending process #<PROCESS lparallel @0x13756d5a9>\n",
      ";;; Suspending process #<PROCESS lparallel @0x13756d699>\n",
      ";;; Suspending process #<PROCESS lparallel @0x13756d879>\n",
      ";;; Suspending process #<PROCESS lparallel @0x13756d789>\n",
      ";;; Suspending process #<PROCESS lparallel @0x13756d969>\n",
      ";;; Suspending process #<PROCESS Swank Sentinel @0x135001d29>\n",
      ";;; Suspending process #<PROCESS REMOTE-CALL-THREAD @0x13825a1e9>\n",
      ";;; Suspending process #<PROCESS Anonymous thread @0x13825a009>\n",
      ";;; Suspending process #<PROCESS Anonymous thread @0x13825a0f9>"
     ]
    },
    {
     "name": "stderr",
     "output_type": "stream",
     "text": [
      "\n",
      "Could not find stretch parameter between #<ATOM :H2/:H 0> and #<ATOM :N/:N 0>\n",
      "\n",
      "Could not find stretch parameter between #<ATOM :H3/:H 0> and #<ATOM :N/:N 0>\n",
      "\n",
      "Could not find stretch parameter between #<ATOM :OXT/:O 0> and #<ATOM :C/:C 0>\n",
      "\n",
      "Could not find stretch parameter between #<ATOM :H1/:H 0> and #<ATOM :N/:N 0>\n",
      "\n",
      "Could not find stretch parameter between #<ATOM :H2/:H 0> and #<ATOM :N/:N 0>\n",
      "\n",
      "Could not find stretch parameter between #<ATOM :H3/:H 0> and #<ATOM :N/:N 0>\n",
      "\n",
      "Could not find stretch parameter between #<ATOM :OXT/:O 0> and #<ATOM :C/:C 0>\n",
      "\n",
      "An error occurred of type: INTERACTIVE-INTERRUPT: \n",
      "  Console interrupt.\n",
      "\n",
      "serious-condition backtrace:\n",
      "0: (ERROR EXT:INTERACTIVE-INTERRUPT)\n",
      "1: (SIMPLE-TERMINAL-INTERRUPT)\n",
      "2: (_top.lsp-top131^482^TOP-COMPILE-FILE.39)\n",
      "3: (_top.lsp-top131^482^TOP-COMPILE-FILE.31)\n",
      "4: (_top.lsp-top131^482^TOP-COMPILE-FILE.30)\n",
      "5: (_top.lsp-top131^482^TOP-COMPILE-FILE.28)\n",
      "6: (_top.lsp-top131^482^TOP-COMPILE-FILE.27)\n",
      "7: (TERMINAL-INTERRUPT)\n",
      "8: (_top.lsp-top131^482^TOP-COMPILE-FILE.28)\n",
      "9: (_top.lsp-top131^482^TOP-COMPILE-FILE.27)\n",
      "10: (TERMINAL-INTERRUPT)\n",
      "11: (_molecules.lisp-^150^TOP-COMPILE-FILE.35)\n",
      "12: (_molecules.lisp-^150^TOP-COMPILE-FILE.33)\n",
      "13: (_molecules.lisp-^150^TOP-COMPILE-FILE.31)\n",
      "14: (MINIMIZE-NO-FAIL #<MINIMIZER >)\n",
      "15: (MINIMIZE-MINIMIZER #<MINIMIZER >)\n",
      "16: (APPLY #<FUNCTION ENERGY:MINIMIZE-MINIMIZER> #<MINIMIZER > NIL)\n",
      "17: (MINIMIZE-ENERGY-FUNCTION #<ENERGY-FUNCTION >)\n",
      "18: (APPLY #<FUNCTION ENERGY:MINIMIZE-ENERGY-FUNCTION> #<ENERGY-FUNCTION > NIL)\n",
      "19: (MINIMIZE #<AGGREGATE NIL 0>)\n",
      "20: (LAMBDA)\n",
      "\n"
     ]
    },
    {
     "data": {
      "text/plain": [
       "NIL"
      ]
     },
     "execution_count": 87,
     "metadata": {},
     "output_type": "execute_result"
    }
   ],
   "source": [
    "(minimize *agg*)"
   ]
  },
  {
   "cell_type": "code",
   "execution_count": 114,
   "metadata": {},
   "outputs": [
    {
     "name": "stdout",
     "output_type": "stream",
     "text": [
      "Constructing energy function\n",
      "Writing to /tmp/agg.top\n",
      "Starting prepare-amber-energy-dihedral\n",
      "Ordering i1,i2,i3,i4 prepare-amber-energy-dihedral\n",
      "1-4 interactions prepare-amber-energy-dihedral\n",
      "Counting w and w/o water prepare-amber-energy-dihedral\n",
      "Extracting prepare-amber-energy-dihedral\n",
      "Saving     [*************************************....] ETC:   0.5 secondssolvent_pointers info: iptres nspm nspsol -> NIL NIL NIL\n",
      "Saving     [*******************************************] ETC: --\n"
     ]
    },
    {
     "name": "stderr",
     "output_type": "stream",
     "text": [
      "\n",
      "There should be a short residue name for NPRO - truncating\n",
      "\n",
      "There should be a short residue name for CGLN - truncating\n",
      "\n",
      "There should be a short residue name for NLYS - truncating\n",
      "\n",
      "There should be a short residue name for CCYS - truncating\n"
     ]
    },
    {
     "data": {
      "text/plain": [
       "#<ENERGY-FUNCTION >"
      ]
     },
     "execution_count": 114,
     "metadata": {},
     "output_type": "execute_result"
    }
   ],
   "source": [
    "saveAmberParm memb \"/tmp/agg.top\" \"/tmp/agg.crd\""
   ]
  },
  {
   "cell_type": "code",
   "execution_count": 61,
   "metadata": {},
   "outputs": [
    {
     "data": {
      "text/plain": [
       "#<RIGID-BODY-ENERGY-FUNCTION >"
      ]
     },
     "execution_count": 61,
     "metadata": {},
     "output_type": "execute_result"
    }
   ],
   "source": [
    "(membrane-packer::build-rigid-body-energy-function *memb*)"
   ]
  },
  {
   "cell_type": "code",
   "execution_count": 27,
   "metadata": {},
   "outputs": [
    {
     "name": "stderr",
     "output_type": "stream",
     "text": [
      "\n",
      "Undefined variable *MEMB*\n",
      "\n",
      "An error occurred of type: UNBOUND-VARIABLE: \n",
      "  The variable *MEMB* is unbound.\n",
      "\n",
      "serious-condition backtrace:\n",
      "0: (ERROR UNBOUND-VARIABLE :NAME *MEMB*)\n",
      "1: (LAMBDA)\n",
      "\n"
     ]
    },
    {
     "data": {
      "text/plain": [
       "NIL"
      ]
     },
     "execution_count": 27,
     "metadata": {},
     "output_type": "execute_result"
    }
   ],
   "source": [
    "(defparameter *efp* (multiple-value-list (membrane-packer::build-rigid-body-energy-function *memb*)))"
   ]
  },
  {
   "cell_type": "code",
   "execution_count": 64,
   "metadata": {},
   "outputs": [
    {
     "data": {
      "text/plain": [
       "*EF*"
      ]
     },
     "execution_count": 64,
     "metadata": {},
     "output_type": "execute_result"
    }
   ],
   "source": [
    "(defparameter *ef* (first *efp*))"
   ]
  },
  {
   "cell_type": "code",
   "execution_count": 66,
   "metadata": {},
   "outputs": [
    {
     "data": {
      "text/plain": [
       "*FORCE*"
      ]
     },
     "execution_count": 66,
     "metadata": {},
     "output_type": "execute_result"
    }
   ],
   "source": [
    "(defparameter *force* (make-array (chem:get-nvector-size *ef*) :element-type 'double-float))"
   ]
  },
  {
   "cell_type": "code",
   "execution_count": 67,
   "metadata": {},
   "outputs": [
    {
     "data": {
      "text/plain": [
       "*POS*"
      ]
     },
     "execution_count": 67,
     "metadata": {},
     "output_type": "execute_result"
    }
   ],
   "source": [
    "(defparameter *pos* (second *efp*))"
   ]
  },
  {
   "cell_type": "code",
   "execution_count": 69,
   "metadata": {},
   "outputs": [
    {
     "data": {
      "text/plain": [
       "4.623621002369209d10"
      ]
     },
     "execution_count": 69,
     "metadata": {},
     "output_type": "execute_result"
    }
   ],
   "source": [
    "(chem:evaluate-energy-force *ef* *pos* t *force*)"
   ]
  },
  {
   "cell_type": "code",
   "execution_count": 63,
   "metadata": {},
   "outputs": [
    {
     "data": {
      "text/plain": [
       "4.623621002369209d10"
      ]
     },
     "execution_count": 63,
     "metadata": {},
     "output_type": "execute_result"
    }
   ],
   "source": [
    "(apply 'chem:evaluate-energy *efp*)"
   ]
  },
  {
   "cell_type": "code",
   "execution_count": 115,
   "metadata": {},
   "outputs": [
    {
     "name": "stdout",
     "output_type": "stream",
     "text": [
      "Dynamics step 0\n",
      "Dynamics step 1\n",
      "Dynamics step 2\n",
      "Dynamics step 3\n",
      "Dynamics step 4\n"
     ]
    },
    {
     "data": {
      "text/plain": [
       "*DYN*"
      ]
     },
     "execution_count": 115,
     "metadata": {},
     "output_type": "execute_result"
    }
   ],
   "source": [
    "(defparameter *dyn* (membrane-packer::simulate-membrane |memb| 5))"
   ]
  },
  {
   "cell_type": "code",
   "execution_count": 117,
   "metadata": {},
   "outputs": [
    {
     "data": {
      "application/vnd.jupyter.widget-view+json": {
       "model_id": "B989EAF0-ABD7-4D58-8E36-5288F5616EDF",
       "version_major": 2,
       "version_minor": 0
      },
      "text/plain": [
       "#<NGLV:NGLWIDGET>"
      ]
     },
     "execution_count": 117,
     "metadata": {},
     "output_type": "execute_result"
    }
   ],
   "source": [
    "v = show *DYN*"
   ]
  },
  {
   "cell_type": "code",
   "execution_count": 119,
   "metadata": {},
   "outputs": [
    {
     "data": {
      "text/plain": [
       "T"
      ]
     },
     "execution_count": 119,
     "metadata": {},
     "output_type": "execute_result"
    }
   ],
   "source": [
    "(nglv:add-representation |v| \"ball+stick\" :selection \"protein\")"
   ]
  },
  {
   "cell_type": "code",
   "execution_count": 59,
   "metadata": {},
   "outputs": [
    {
     "name": "stdout",
     "output_type": "stream",
     "text": [
      "CHEM:ENERGY-RIGID-BODY-COMPONENT\n",
      "CHEM:ENERGY-RIGID-BODY-NONBOND\n",
      "CHEM:ENERGY-RIGID-BODY-NONBOND-SET-TERM  Function\n",
      "CHEM:ENERGY-RIGID-BODY-STAPLE\n",
      "CHEM:ENERGY-RIGID-BODY-STAPLE-ADD-TERM  Function\n",
      "CHEM:MAKE-ENERGY-RIGID-BODY-NONBOND  Function\n",
      "CHEM:MAKE-ENERGY-RIGID-BODY-STAPLE  Function\n",
      "CHEM:MAKE-RIGID-BODY-ENERGY-FUNCTION  Function\n",
      "CHEM::NUMBER_OF_RIGID_BODIES\n",
      "CORE::NUMBER_OF_RIGID_BODIES\n",
      "CHEM:RIGID-BODY-ENERGY-FUNCTION\n",
      "CHEM:RIGID-BODY-ENERGY-FUNCTION-ADD-TERM  Function\n",
      "CHEM:RIGID-BODY-ENERGY-FUNCTION-GET-POSITION  Function\n",
      "CHEM:RIGID-BODY-ENERGY-FUNCTION-NORMALIZE-POSITION  Function\n",
      "CHEM:RIGID-BODY-ENERGY-FUNCTION-SET-POSITION  Function\n",
      "CHEM:RIGID-BODY-ENERGY-FUNCTION-TERMS  Function\n"
     ]
    },
    {
     "data": {
      "text/plain": [
       "NIL"
      ]
     },
     "execution_count": 59,
     "metadata": {},
     "output_type": "execute_result"
    }
   ],
   "source": [
    "(apropos \"rigid\")"
   ]
  },
  {
   "cell_type": "code",
   "execution_count": 37,
   "metadata": {},
   "outputs": [
    {
     "name": "stdout",
     "output_type": "stream",
     "text": [
      "Saving matter to /tmp/agg.mol2\n"
     ]
    },
    {
     "data": {
      "text/plain": [
       "NIL"
      ]
     },
     "execution_count": 37,
     "metadata": {},
     "output_type": "execute_result"
    }
   ],
   "source": [
    "(save-mol2 *agg* \"/tmp/agg.mol2\" :use-sybyl-types t)"
   ]
  },
  {
   "cell_type": "code",
   "execution_count": 16,
   "metadata": {},
   "outputs": [
    {
     "name": "stdout",
     "output_type": "stream",
     "text": [
      "Completed  100.0% elapsed:  37.0 seconds ETC: --   There are 437 close-contacts of a possible 375498016\n"
     ]
    },
    {
     "data": {
      "text/plain": [
       "*CLOSE-CONTACTS*"
      ]
     },
     "execution_count": 16,
     "metadata": {},
     "output_type": "execute_result"
    }
   ],
   "source": [
    "(defparameter *close-contacts* (membrane-packer::close-contacts *atomvecs*))"
   ]
  },
  {
   "cell_type": "code",
   "execution_count": 17,
   "metadata": {},
   "outputs": [
    {
     "data": {
      "text/plain": [
       "T"
      ]
     },
     "execution_count": 17,
     "metadata": {},
     "output_type": "execute_result"
    }
   ],
   "source": [
    "(membrane-packer:add-close-contacts-as-shape |v| *close-contacts* :radius 2.0)"
   ]
  },
  {
   "cell_type": "code",
   "execution_count": 18,
   "metadata": {},
   "outputs": [
    {
     "data": {
      "text/plain": [
       "*WORK-LIST*"
      ]
     },
     "execution_count": 18,
     "metadata": {},
     "output_type": "execute_result"
    }
   ],
   "source": [
    "(defparameter *work-list* (membrane-packer::build-ga-membrane-work-list *memb*))"
   ]
  },
  {
   "cell_type": "code",
   "execution_count": 19,
   "metadata": {},
   "outputs": [
    {
     "data": {
      "text/plain": [
       "*WLSCORE*"
      ]
     },
     "execution_count": 19,
     "metadata": {},
     "output_type": "execute_result"
    }
   ],
   "source": [
    "(defparameter *wlscore* (multiple-value-list (membrane-packer::score-work-list *work-list* *memb*)))"
   ]
  },
  {
   "cell_type": "code",
   "execution_count": 20,
   "metadata": {},
   "outputs": [
    {
     "data": {
      "text/plain": [
       "(434 #<MEMBRANE-PACKER::COLLISIONS>)"
      ]
     },
     "execution_count": 20,
     "metadata": {},
     "output_type": "execute_result"
    }
   ],
   "source": [
    "*wlscore*"
   ]
  },
  {
   "cell_type": "code",
   "execution_count": 21,
   "metadata": {},
   "outputs": [
    {
     "data": {
      "text/plain": [
       "*SCORE*"
      ]
     },
     "execution_count": 21,
     "metadata": {},
     "output_type": "execute_result"
    }
   ],
   "source": [
    "(defparameter *score* (multiple-value-list (membrane-packer:score-ga-membrane *memb*)))"
   ]
  },
  {
   "cell_type": "code",
   "execution_count": 22,
   "metadata": {},
   "outputs": [
    {
     "data": {
      "text/plain": [
       "(434 #<MEMBRANE-PACKER::COLLISIONS>)"
      ]
     },
     "execution_count": 22,
     "metadata": {},
     "output_type": "execute_result"
    }
   ],
   "source": [
    "*score*"
   ]
  },
  {
   "cell_type": "code",
   "execution_count": 23,
   "metadata": {},
   "outputs": [
    {
     "data": {
      "text/plain": [
       "*COLLISIONS*"
      ]
     },
     "execution_count": 23,
     "metadata": {},
     "output_type": "execute_result"
    }
   ],
   "source": [
    "(defparameter *collisions* (second *score*))"
   ]
  },
  {
   "cell_type": "code",
   "execution_count": 24,
   "metadata": {},
   "outputs": [
    {
     "data": {
      "text/plain": [
       "T"
      ]
     },
     "execution_count": 24,
     "metadata": {},
     "output_type": "execute_result"
    }
   ],
   "source": [
    "(membrane-packer:add-collisions-as-shape |v| *collisions* :radius 2.1)"
   ]
  },
  {
   "cell_type": "markdown",
   "metadata": {},
   "source": [
    "# Test GA"
   ]
  },
  {
   "cell_type": "code",
   "execution_count": 35,
   "metadata": {},
   "outputs": [
    {
     "name": "stderr",
     "output_type": "stream",
     "text": [
      "\n",
      "We should fill in a few more lipids from solute-colliders to fill in the membrane\n",
      "\n",
      "We should fill in a few more lipids from solute-colliders to fill in the membrane\n"
     ]
    },
    {
     "data": {
      "text/plain": [
       "#<MEMBRANE-PACKER::GA-MEMBRANE>"
      ]
     },
     "execution_count": 35,
     "metadata": {},
     "output_type": "execute_result"
    }
   ],
   "source": [
    "memb1 = (membrane-packer:build-ga-membrane prot)"
   ]
  },
  {
   "cell_type": "code",
   "execution_count": 36,
   "metadata": {},
   "outputs": [
    {
     "data": {
      "text/plain": [
       "(#<MEMBRANE-PACKER::GA-MEMBRANE> #<MEMBRANE-PACKER::GA-MEMBRANE>\n",
       " #<MEMBRANE-PACKER::GA-MEMBRANE> #<MEMBRANE-PACKER::GA-MEMBRANE>\n",
       " #<MEMBRANE-PACKER::GA-MEMBRANE> #<MEMBRANE-PACKER::GA-MEMBRANE>\n",
       " #<MEMBRANE-PACKER::GA-MEMBRANE> #<MEMBRANE-PACKER::GA-MEMBRANE>\n",
       " #<MEMBRANE-PACKER::GA-MEMBRANE> #<MEMBRANE-PACKER::GA-MEMBRANE>\n",
       " #<MEMBRANE-PACKER::GA-MEMBRANE> #<MEMBRANE-PACKER::GA-MEMBRANE>\n",
       " #<MEMBRANE-PACKER::GA-MEMBRANE> #<MEMBRANE-PACKER::GA-MEMBRANE>\n",
       " #<MEMBRANE-PACKER::GA-MEMBRANE> #<MEMBRANE-PACKER::GA-MEMBRANE>\n",
       " #<MEMBRANE-PACKER::GA-MEMBRANE> #<MEMBRANE-PACKER::GA-MEMBRANE>\n",
       " #<MEMBRANE-PACKER::GA-MEMBRANE> #<MEMBRANE-PACKER::GA-MEMBRANE>\n",
       " #<MEMBRANE-PACKER::GA-MEMBRANE> #<MEMBRANE-PACKER::GA-MEMBRANE>\n",
       " #<MEMBRANE-PACKER::GA-MEMBRANE> #<MEMBRANE-PACKER::GA-MEMBRANE>\n",
       " #<MEMBRANE-PACKER::GA-MEMBRANE> #<MEMBRANE-PACKER::GA-MEMBRANE>\n",
       " #<MEMBRANE-PACKER::GA-MEMBRANE> #<MEMBRANE-PACKER::GA-MEMBRANE>\n",
       " #<MEMBRANE-PACKER::GA-MEMBRANE> #<MEMBRANE-PACKER::GA-MEMBRANE>\n",
       " #<MEMBRANE-PACKER::GA-MEMBRANE> #<MEMBRANE-PACKER::GA-MEMBRANE>\n",
       " #<MEMBRANE-PACKER::GA-MEMBRANE> #<MEMBRANE-PACKER::GA-MEMBRANE>\n",
       " #<MEMBRANE-PACKER::GA-MEMBRANE> #<MEMBRANE-PACKER::GA-MEMBRANE>\n",
       " #<MEMBRANE-PACKER::GA-MEMBRANE> #<MEMBRANE-PACKER::GA-MEMBRANE>\n",
       " #<MEMBRANE-PACKER::GA-MEMBRANE> #<MEMBRANE-PACKER::GA-MEMBRANE>\n",
       " #<MEMBRANE-PACKER::GA-MEMBRANE> #<MEMBRANE-PACKER::GA-MEMBRANE>\n",
       " #<MEMBRANE-PACKER::GA-MEMBRANE> #<MEMBRANE-PACKER::GA-MEMBRANE>\n",
       " #<MEMBRANE-PACKER::GA-MEMBRANE> #<MEMBRANE-PACKER::GA-MEMBRANE>\n",
       " #<MEMBRANE-PACKER::GA-MEMBRANE> #<MEMBRANE-PACKER::GA-MEMBRANE>\n",
       " #<MEMBRANE-PACKER::GA-MEMBRANE> #<MEMBRANE-PACKER::GA-MEMBRANE>\n",
       " #<MEMBRANE-PACKER::GA-MEMBRANE> #<MEMBRANE-PACKER::GA-MEMBRANE>\n",
       " #<MEMBRANE-PACKER::GA-MEMBRANE> #<MEMBRANE-PACKER::GA-MEMBRANE>\n",
       " #<MEMBRANE-PACKER::GA-MEMBRANE> #<MEMBRANE-PACKER::GA-MEMBRANE>\n",
       " #<MEMBRANE-PACKER::GA-MEMBRANE> #<MEMBRANE-PACKER::GA-MEMBRANE>\n",
       " #<MEMBRANE-PACKER::GA-MEMBRANE> #<MEMBRANE-PACKER::GA-MEMBRANE>\n",
       " #<MEMBRANE-PACKER::GA-MEMBRANE> #<MEMBRANE-PACKER::GA-MEMBRANE>\n",
       " #<MEMBRANE-PACKER::GA-MEMBRANE> #<MEMBRANE-PACKER::GA-MEMBRANE>\n",
       " #<MEMBRANE-PACKER::GA-MEMBRANE> #<MEMBRANE-PACKER::GA-MEMBRANE>\n",
       " #<MEMBRANE-PACKER::GA-MEMBRANE> #<MEMBRANE-PACKER::GA-MEMBRANE>\n",
       " #<MEMBRANE-PACKER::GA-MEMBRANE> #<MEMBRANE-PACKER::GA-MEMBRANE>\n",
       " #<MEMBRANE-PACKER::GA-MEMBRANE> #<MEMBRANE-PACKER::GA-MEMBRANE>\n",
       " #<MEMBRANE-PACKER::GA-MEMBRANE> #<MEMBRANE-PACKER::GA-MEMBRANE>\n",
       " #<MEMBRANE-PACKER::GA-MEMBRANE> #<MEMBRANE-PACKER::GA-MEMBRANE>\n",
       " #<MEMBRANE-PACKER::GA-MEMBRANE> #<MEMBRANE-PACKER::GA-MEMBRANE>\n",
       " #<MEMBRANE-PACKER::GA-MEMBRANE> #<MEMBRANE-PACKER::GA-MEMBRANE>\n",
       " #<MEMBRANE-PACKER::GA-MEMBRANE> #<MEMBRANE-PACKER::GA-MEMBRANE>\n",
       " #<MEMBRANE-PACKER::GA-MEMBRANE> #<MEMBRANE-PACKER::GA-MEMBRANE>\n",
       " #<MEMBRANE-PACKER::GA-MEMBRANE> #<MEMBRANE-PACKER::GA-MEMBRANE>\n",
       " #<MEMBRANE-PACKER::GA-MEMBRANE> #<MEMBRANE-PACKER::GA-MEMBRANE>\n",
       " #<MEMBRANE-PACKER::GA-MEMBRANE> #<MEMBRANE-PACKER::GA-MEMBRANE>\n",
       " #<MEMBRANE-PACKER::GA-MEMBRANE> #<MEMBRANE-PACKER::GA-MEMBRANE>\n",
       " #<MEMBRANE-PACKER::GA-MEMBRANE> #<MEMBRANE-PACKER::GA-MEMBRANE>\n",
       " #<MEMBRANE-PACKER::GA-MEMBRANE> #<MEMBRANE-PACKER::GA-MEMBRANE>\n",
       " #<MEMBRANE-PACKER::GA-MEMBRANE> #<MEMBRANE-PACKER::GA-MEMBRANE>\n",
       " #<MEMBRANE-PACKER::GA-MEMBRANE> #<MEMBRANE-PACKER::GA-MEMBRANE>\n",
       " #<MEMBRANE-PACKER::GA-MEMBRANE> #<MEMBRANE-PACKER::GA-MEMBRANE>\n",
       " #<MEMBRANE-PACKER::GA-MEMBRANE> #<MEMBRANE-PACKER::GA-MEMBRANE>\n",
       " #<MEMBRANE-PACKER::GA-MEMBRANE> #<MEMBRANE-PACKER::GA-MEMBRANE>\n",
       " #<MEMBRANE-PACKER::GA-MEMBRANE> #<MEMBRANE-PACKER::GA-MEMBRANE>\n",
       " #<MEMBRANE-PACKER::GA-MEMBRANE> #<MEMBRANE-PACKER::GA-MEMBRANE>\n",
       " #<MEMBRANE-PACKER::GA-MEMBRANE> #<MEMBRANE-PACKER::GA-MEMBRANE>\n",
       " #<MEMBRANE-PACKER::GA-MEMBRANE> #<MEMBRANE-PACKER::GA-MEMBRANE>\n",
       " #<MEMBRANE-PACKER::GA-MEMBRANE> #<MEMBRANE-PACKER::GA-MEMBRANE>\n",
       " #<MEMBRANE-PACKER::GA-MEMBRANE> #<MEMBRANE-PACKER::GA-MEMBRANE>\n",
       " #<MEMBRANE-PACKER::GA-MEMBRANE> #<MEMBRANE-PACKER::GA-MEMBRANE>\n",
       " #<MEMBRANE-PACKER::GA-MEMBRANE> #<MEMBRANE-PACKER::GA-MEMBRANE>\n",
       " #<MEMBRANE-PACKER::GA-MEMBRANE> #<MEMBRANE-PACKER::GA-MEMBRANE>\n",
       " #<MEMBRANE-PACKER::GA-MEMBRANE> #<MEMBRANE-PACKER::GA-MEMBRANE>\n",
       " #<MEMBRANE-PACKER::GA-MEMBRANE> #<MEMBRANE-PACKER::GA-MEMBRANE>\n",
       " #<MEMBRANE-PACKER::GA-MEMBRANE> #<MEMBRANE-PACKER::GA-MEMBRANE>\n",
       " #<MEMBRANE-PACKER::GA-MEMBRANE> #<MEMBRANE-PACKER::GA-MEMBRANE>\n",
       " #<MEMBRANE-PACKER::GA-MEMBRANE> #<MEMBRANE-PACKER::GA-MEMBRANE>\n",
       " #<MEMBRANE-PACKER::GA-MEMBRANE> #<MEMBRANE-PACKER::GA-MEMBRANE>\n",
       " #<MEMBRANE-PACKER::GA-MEMBRANE> #<MEMBRANE-PACKER::GA-MEMBRANE>\n",
       " #<MEMBRANE-PACKER::GA-MEMBRANE> #<MEMBRANE-PACKER::GA-MEMBRANE>\n",
       " #<MEMBRANE-PACKER::GA-MEMBRANE> #<MEMBRANE-PACKER::GA-MEMBRANE>\n",
       " #<MEMBRANE-PACKER::GA-MEMBRANE> #<MEMBRANE-PACKER::GA-MEMBRANE>\n",
       " #<MEMBRANE-PACKER::GA-MEMBRANE> #<MEMBRANE-PACKER::GA-MEMBRANE>\n",
       " #<MEMBRANE-PACKER::GA-MEMBRANE> #<MEMBRANE-PACKER::GA-MEMBRANE>\n",
       " #<MEMBRANE-PACKER::GA-MEMBRANE> #<MEMBRANE-PACKER::GA-MEMBRANE>\n",
       " #<MEMBRANE-PACKER::GA-MEMBRANE> #<MEMBRANE-PACKER::GA-MEMBRANE>\n",
       " #<MEMBRANE-PACKER::GA-MEMBRANE> #<MEMBRANE-PACKER::GA-MEMBRANE>\n",
       " #<MEMBRANE-PACKER::GA-MEMBRANE> #<MEMBRANE-PACKER::GA-MEMBRANE>\n",
       " #<MEMBRANE-PACKER::GA-MEMBRANE> #<MEMBRANE-PACKER::GA-MEMBRANE>\n",
       " #<MEMBRANE-PACKER::GA-MEMBRANE> #<MEMBRANE-PACKER::GA-MEMBRANE>\n",
       " #<MEMBRANE-PACKER::GA-MEMBRANE> #<MEMBRANE-PACKER::GA-MEMBRANE>\n",
       " #<MEMBRANE-PACKER::GA-MEMBRANE> #<MEMBRANE-PACKER::GA-MEMBRANE>\n",
       " #<MEMBRANE-PACKER::GA-MEMBRANE> #<MEMBRANE-PACKER::GA-MEMBRANE>\n",
       " #<MEMBRANE-PACKER::GA-MEMBRANE> #<MEMBRANE-PACKER::GA-MEMBRANE>\n",
       " #<MEMBRANE-PACKER::GA-MEMBRANE> #<MEMBRANE-PACKER::GA-MEMBRANE>\n",
       " #<MEMBRANE-PACKER::GA-MEMBRANE> #<MEMBRANE-PACKER::GA-MEMBRANE>\n",
       " #<MEMBRANE-PACKER::GA-MEMBRANE> #<MEMBRANE-PACKER::GA-MEMBRANE>\n",
       " #<MEMBRANE-PACKER::GA-MEMBRANE> #<MEMBRANE-PACKER::GA-MEMBRANE>\n",
       " #<MEMBRANE-PACKER::GA-MEMBRANE> #<MEMBRANE-PACKER::GA-MEMBRANE>\n",
       " #<MEMBRANE-PACKER::GA-MEMBRANE> #<MEMBRANE-PACKER::GA-MEMBRANE>\n",
       " #<MEMBRANE-PACKER::GA-MEMBRANE> #<MEMBRANE-PACKER::GA-MEMBRANE>\n",
       " #<MEMBRANE-PACKER::GA-MEMBRANE> #<MEMBRANE-PACKER::GA-MEMBRANE>\n",
       " #<MEMBRANE-PACKER::GA-MEMBRANE> #<MEMBRANE-PACKER::GA-MEMBRANE>\n",
       " #<MEMBRANE-PACKER::GA-MEMBRANE> #<MEMBRANE-PACKER::GA-MEMBRANE>\n",
       " #<MEMBRANE-PACKER::GA-MEMBRANE> #<MEMBRANE-PACKER::GA-MEMBRANE>\n",
       " #<MEMBRANE-PACKER::GA-MEMBRANE> #<MEMBRANE-PACKER::GA-MEMBRANE>\n",
       " #<MEMBRANE-PACKER::GA-MEMBRANE> #<MEMBRANE-PACKER::GA-MEMBRANE>\n",
       " #<MEMBRANE-PACKER::GA-MEMBRANE> #<MEMBRANE-PACKER::GA-MEMBRANE>\n",
       " #<MEMBRANE-PACKER::GA-MEMBRANE> #<MEMBRANE-PACKER::GA-MEMBRANE>\n",
       " #<MEMBRANE-PACKER::GA-MEMBRANE> #<MEMBRANE-PACKER::GA-MEMBRANE>)"
      ]
     },
     "execution_count": 36,
     "metadata": {},
     "output_type": "execute_result"
    }
   ],
   "source": [
    "membs = (membrane-packer::build-population memb1)"
   ]
  },
  {
   "cell_type": "code",
   "execution_count": 59,
   "metadata": {},
   "outputs": [
    {
     "data": {
      "text/plain": [
       "'( 70.7107 69.9854 88.479)"
      ]
     },
     "execution_count": 59,
     "metadata": {},
     "output_type": "execute_result"
    }
   ],
   "source": [
    "(chem:get-bounding-box-widths (membrane-packer::bounding-box memb1))"
   ]
  },
  {
   "cell_type": "code",
   "execution_count": 74,
   "metadata": {},
   "outputs": [
    {
     "name": "stdout",
     "output_type": "stream",
     "text": [
      "bound0 bound1 -> 0.1122748 0.94081503\n",
      "min-corner: '( -35.3553 -34.9927 -44.2395)\n",
      "max-corner: '( 35.3553 34.9927 44.2395)\n"
     ]
    },
    {
     "data": {
      "text/plain": [
       "#<MEMBRANE-PACKER::GA-MEMBRANE>"
      ]
     },
     "execution_count": 74,
     "metadata": {},
     "output_type": "execute_result"
    }
   ],
   "source": [
    "(membrane-packer::cross-membranes (elt membs 0) (elt membs 1))"
   ]
  },
  {
   "cell_type": "code",
   "execution_count": 76,
   "metadata": {},
   "outputs": [
    {
     "data": {
      "text/plain": [
       "291"
      ]
     },
     "execution_count": 76,
     "metadata": {},
     "output_type": "execute_result"
    }
   ],
   "source": [
    "(membrane-packer::score-ga-membrane (elt membs 0))"
   ]
  },
  {
   "cell_type": "code",
   "execution_count": 77,
   "metadata": {},
   "outputs": [
    {
     "data": {
      "text/plain": [
       "324"
      ]
     },
     "execution_count": 77,
     "metadata": {},
     "output_type": "execute_result"
    }
   ],
   "source": [
    "(membrane-packer::score-ga-membrane (elt membs 1))"
   ]
  },
  {
   "cell_type": "code",
   "execution_count": 84,
   "metadata": {},
   "outputs": [
    {
     "data": {
      "text/plain": [
       "279"
      ]
     },
     "execution_count": 84,
     "metadata": {},
     "output_type": "execute_result"
    }
   ],
   "source": [
    "(membrane-packer::score-ga-membrane (membrane-packer::cross-membranes (elt membs 0) (elt membs 1)))"
   ]
  },
  {
   "cell_type": "code",
   "execution_count": 20,
   "metadata": {},
   "outputs": [
    {
     "data": {
      "text/plain": [
       "#<AGGREGATE NIL 0>"
      ]
     },
     "execution_count": 20,
     "metadata": {},
     "output_type": "execute_result"
    }
   ],
   "source": [
    "agg = (membrane-packer::build-aggregate-from-ga-membrane one-membrane :debug t)"
   ]
  },
  {
   "cell_type": "code",
   "execution_count": 21,
   "metadata": {},
   "outputs": [
    {
     "data": {
      "application/vnd.jupyter.widget-view+json": {
       "model_id": "2017384E-D533-4CCC-8907-213BDC5FCA51",
       "version_major": 2,
       "version_minor": 0
      },
      "text/plain": [
       "#<NGLV:NGLWIDGET>"
      ]
     },
     "execution_count": 21,
     "metadata": {},
     "output_type": "execute_result"
    }
   ],
   "source": [
    "(show agg :shapes (list :close (membrane-packer::overlapping-octrees-as-shape one-membrane 40)))"
   ]
  },
  {
   "cell_type": "code",
   "execution_count": 35,
   "metadata": {},
   "outputs": [
    {
     "name": "stdout",
     "output_type": "stream",
     "text": [
      "Total scores: 2278   lipid-scores: 512     solute-scores: 54\n"
     ]
    },
    {
     "data": {
      "text/plain": [
       "407"
      ]
     },
     "execution_count": 35,
     "metadata": {},
     "output_type": "execute_result"
    }
   ],
   "source": [
    "(membrane-packer::score-ga-membrane one-membrane)"
   ]
  },
  {
   "cell_type": "code",
   "execution_count": 26,
   "metadata": {},
   "outputs": [
    {
     "data": {
      "text/plain": [
       "*WL*"
      ]
     },
     "execution_count": 26,
     "metadata": {},
     "output_type": "execute_result"
    }
   ],
   "source": [
    "(defparameter *wl* (membrane-packer::build-ga-membrane-work-list *tm*))"
   ]
  },
  {
   "cell_type": "code",
   "execution_count": 27,
   "metadata": {},
   "outputs": [
    {
     "data": {
      "text/plain": [
       "*MEMBRANES*"
      ]
     },
     "execution_count": 27,
     "metadata": {},
     "output_type": "execute_result"
    }
   ],
   "source": [
    "(defparameter *membranes* (membrane-packer::build-population *tm*))"
   ]
  },
  {
   "cell_type": "code",
   "execution_count": 28,
   "metadata": {},
   "outputs": [
    {
     "data": {
      "text/plain": [
       "*SORTED-SCORED-POP*"
      ]
     },
     "execution_count": 28,
     "metadata": {},
     "output_type": "execute_result"
    }
   ],
   "source": [
    "(defparameter *sorted-scored-pop* (membrane-packer::score-membranes *wl* *membranes*))"
   ]
  },
  {
   "cell_type": "code",
   "execution_count": 29,
   "metadata": {},
   "outputs": [
    {
     "name": "stdout",
     "output_type": "stream",
     "text": [
      "Generation 0   size 200\n",
      "  ... least collisions -> (268 270 276 282 282 287 288 288 289 289)\n",
      "Generation 1   size 200\n",
      "  ... least collisions -> (206 216 216 221 221 224 226 228 229 230)\n",
      "Generation 2   size 200\n",
      "  ... least collisions -> (153 164 169 174 179 182 189 191 192 192)\n",
      "Generation 3   size 200\n",
      "  ... least collisions -> (154 154 154 154 160 162 162 171 171 171)\n",
      "Generation 4   size 200\n",
      "  ... least collisions -> (137 141 145 146 146 147 149 150 150 150)\n",
      "Generation 5   size 200\n",
      "  ... least collisions -> (134 134 136 137 137 137 138 138 138 140)\n",
      "Generation 6   size 200\n",
      "  ... least collisions -> (107 112 112 115 117 117 118 118 120 123)\n",
      "Generation 7   size 200\n",
      "  ... least collisions -> (103 103 105 105 106 106 112 114 115 115)\n",
      "Generation 8   size 200\n",
      "  ... least collisions -> (86 88 94 94 95 95 96 99 100 100)\n",
      "Generation 9   size 200\n",
      "  ... least collisions -> (59 74 74 76 77 77 77 77 77 78)\n",
      "Generation 10  size 200\n",
      "  ... least collisions -> (55 57 58 59 60 61 61 62 63 63)\n",
      "Generation 11  size 200\n",
      "  ... least collisions -> (37 44 45 45 46 47 48 48 49 50)\n",
      "Generation 12  size 200\n",
      "  ... least collisions -> (30 34 38 39 39 39 39 39 40 41)\n",
      "Generation 13  size 200\n",
      "  ... least collisions -> (24 28 29 30 30 31 31 32 32 33)\n",
      "Generation 14  size 200\n",
      "  ... least collisions -> (23 26 26 26 26 26 27 28 28 28)\n",
      "Generation 15  size 200\n",
      "  ... least collisions -> (17 19 20 20 21 22 22 23 23 24)\n",
      "Generation 16  size 200\n",
      "  ... least collisions -> (9 9 13 14 15 16 17 18 18 18)\n",
      "Generation 17  size 200\n",
      "  ... least collisions -> (3 6 6 7 7 8 8 9 9 9)\n",
      "Generation 18  size 200\n",
      "  ... least collisions -> (6 6 6 6 6 7 7 7 7 7)\n",
      "Generation 19  size 200\n",
      "  ... least collisions -> (3 3 4 4 4 4 4 4 4 4)\n",
      "Generation 20  size 200\n",
      "  ... least collisions -> (0 1 1 1 2 2 2 2 3 3)\n"
     ]
    },
    {
     "data": {
      "text/plain": [
       "*SCORED-MEMBRANES*"
      ]
     },
     "execution_count": 29,
     "metadata": {},
     "output_type": "execute_result"
    }
   ],
   "source": [
    "(defparameter *scored-membranes* (membrane-packer:pack *prot* :parallel t :number-of-generations 40))"
   ]
  },
  {
   "cell_type": "code",
   "execution_count": 30,
   "metadata": {},
   "outputs": [
    {
     "data": {
      "text/plain": [
       "*SCORED-MEMBRANE*"
      ]
     },
     "execution_count": 30,
     "metadata": {},
     "output_type": "execute_result"
    }
   ],
   "source": [
    "(defparameter *scored-membrane* (first *scored-membranes*))"
   ]
  },
  {
   "cell_type": "code",
   "execution_count": 31,
   "metadata": {},
   "outputs": [
    {
     "data": {
      "text/plain": [
       "#<MEMBRANE-PACKER::SCORED-MEMBRANE>"
      ]
     },
     "execution_count": 31,
     "metadata": {},
     "output_type": "execute_result"
    }
   ],
   "source": [
    "*scored-membrane*"
   ]
  },
  {
   "cell_type": "code",
   "execution_count": 32,
   "metadata": {},
   "outputs": [
    {
     "data": {
      "text/plain": [
       "*MEMB0*"
      ]
     },
     "execution_count": 32,
     "metadata": {},
     "output_type": "execute_result"
    }
   ],
   "source": [
    "(defparameter *memb0* (membrane-packer::membrane *scored-membrane*))"
   ]
  },
  {
   "cell_type": "code",
   "execution_count": 33,
   "metadata": {},
   "outputs": [
    {
     "data": {
      "text/plain": [
       "#<MEMBRANE-PACKER::GA-MEMBRANE>"
      ]
     },
     "execution_count": 33,
     "metadata": {},
     "output_type": "execute_result"
    }
   ],
   "source": [
    "*memb0*"
   ]
  },
  {
   "cell_type": "code",
   "execution_count": null,
   "metadata": {},
   "outputs": [],
   "source": [
    "(membrane-packer::evolve2 *memb0* :close-distance 2.0)"
   ]
  },
  {
   "cell_type": "code",
   "execution_count": 40,
   "metadata": {},
   "outputs": [
    {
     "data": {
      "text/plain": [
       "*COLLISION0*"
      ]
     },
     "execution_count": 40,
     "metadata": {},
     "output_type": "execute_result"
    }
   ],
   "source": [
    "(defparameter *collision0* (membrane-packer::collisions *scored-membrane*))"
   ]
  },
  {
   "cell_type": "code",
   "execution_count": 41,
   "metadata": {},
   "outputs": [
    {
     "data": {
      "text/plain": [
       "#<MEMBRANE-PACKER::COLLISIONS>"
      ]
     },
     "execution_count": 41,
     "metadata": {},
     "output_type": "execute_result"
    }
   ],
   "source": [
    "*collision0*"
   ]
  },
  {
   "cell_type": "code",
   "execution_count": 42,
   "metadata": {},
   "outputs": [
    {
     "data": {
      "text/plain": [
       "*AGG-ATOMVECS*"
      ]
     },
     "execution_count": 42,
     "metadata": {},
     "output_type": "execute_result"
    }
   ],
   "source": [
    "(defparameter *agg-atomvecs* (multiple-value-list (membrane-packer::build-aggregate-from-ga-membrane *memb0* :debug t)))"
   ]
  },
  {
   "cell_type": "code",
   "execution_count": 43,
   "metadata": {},
   "outputs": [
    {
     "data": {
      "text/plain": [
       "(#<AGGREGATE NIL 0> #<MEMBRANE-PACKER::ATOM-VECTORS>)"
      ]
     },
     "execution_count": 43,
     "metadata": {},
     "output_type": "execute_result"
    }
   ],
   "source": [
    "*agg-atomvecs*"
   ]
  },
  {
   "cell_type": "code",
   "execution_count": 44,
   "metadata": {},
   "outputs": [
    {
     "data": {
      "text/plain": [
       "*AGG*"
      ]
     },
     "execution_count": 44,
     "metadata": {},
     "output_type": "execute_result"
    }
   ],
   "source": [
    "(defparameter *agg* (first *agg-atomvecs*))"
   ]
  },
  {
   "cell_type": "code",
   "execution_count": 45,
   "metadata": {},
   "outputs": [
    {
     "data": {
      "application/vnd.jupyter.widget-view+json": {
       "model_id": "2C0DE904-A7D3-4E2D-8F64-77209E0F7470",
       "version_major": 2,
       "version_minor": 0
      },
      "text/plain": [
       "#<NGLV:NGLWIDGET>"
      ]
     },
     "execution_count": 45,
     "metadata": {},
     "output_type": "execute_result"
    }
   ],
   "source": [
    "show *AGG*"
   ]
  },
  {
   "cell_type": "code",
   "execution_count": 46,
   "metadata": {},
   "outputs": [
    {
     "data": {
      "text/plain": [
       "*ATOMVECS*"
      ]
     },
     "execution_count": 46,
     "metadata": {},
     "output_type": "execute_result"
    }
   ],
   "source": [
    "(defparameter *atomvecs* (second *agg-atomvecs*))"
   ]
  },
  {
   "cell_type": "code",
   "execution_count": 47,
   "metadata": {},
   "outputs": [
    {
     "name": "stderr",
     "output_type": "stream",
     "text": [
      "\n",
      "Undefined variable *V*\n"
     ]
    },
    {
     "data": {
      "application/vnd.jupyter.widget-view+json": {
       "model_id": "EF74A0AF-7477-4B2A-875A-F0593DA7DB3A",
       "version_major": 2,
       "version_minor": 0
      },
      "text/plain": [
       "#<NGLV:NGLWIDGET>"
      ]
     },
     "execution_count": 47,
     "metadata": {},
     "output_type": "execute_result"
    }
   ],
   "source": [
    "(defparameter *v* (show *agg* :axes t)) *v*"
   ]
  },
  {
   "cell_type": "code",
   "execution_count": 48,
   "metadata": {},
   "outputs": [
    {
     "name": "stdout",
     "output_type": "stream",
     "text": [
      "Completed  100.0% elapsed:  31.0 seconds ETC: --   There are 4 close-contacts of a possible 371779650\n"
     ]
    },
    {
     "data": {
      "text/plain": [
       "*CLOSE-CONTACTS*"
      ]
     },
     "execution_count": 48,
     "metadata": {},
     "output_type": "execute_result"
    }
   ],
   "source": [
    "(defparameter *close-contacts* (membrane-packer::close-contacts *atomvecs*))"
   ]
  },
  {
   "cell_type": "code",
   "execution_count": 49,
   "metadata": {},
   "outputs": [
    {
     "data": {
      "text/plain": [
       "T"
      ]
     },
     "execution_count": 49,
     "metadata": {},
     "output_type": "execute_result"
    }
   ],
   "source": [
    "(membrane-packer:add-close-contacts-as-shape *v* *close-contacts* :radius 2.0)"
   ]
  },
  {
   "cell_type": "code",
   "execution_count": 50,
   "metadata": {},
   "outputs": [
    {
     "data": {
      "text/plain": [
       "*WORK-LIST*"
      ]
     },
     "execution_count": 50,
     "metadata": {},
     "output_type": "execute_result"
    }
   ],
   "source": [
    "(defparameter *work-list* (membrane-packer::build-ga-membrane-work-list *memb0*))"
   ]
  },
  {
   "cell_type": "code",
   "execution_count": 51,
   "metadata": {},
   "outputs": [
    {
     "data": {
      "text/plain": [
       "*WLSCORE*"
      ]
     },
     "execution_count": 51,
     "metadata": {},
     "output_type": "execute_result"
    }
   ],
   "source": [
    "(defparameter *wlscore* (multiple-value-list (membrane-packer::score-work-list *work-list* *memb0*)))"
   ]
  },
  {
   "cell_type": "code",
   "execution_count": 52,
   "metadata": {},
   "outputs": [
    {
     "data": {
      "text/plain": [
       "(0 #<MEMBRANE-PACKER::COLLISIONS>)"
      ]
     },
     "execution_count": 52,
     "metadata": {},
     "output_type": "execute_result"
    }
   ],
   "source": [
    "*wlscore*"
   ]
  },
  {
   "cell_type": "code",
   "execution_count": 53,
   "metadata": {},
   "outputs": [
    {
     "data": {
      "text/plain": [
       "*SCORE*"
      ]
     },
     "execution_count": 53,
     "metadata": {},
     "output_type": "execute_result"
    }
   ],
   "source": [
    "(defparameter *score* (multiple-value-list (membrane-packer:score-ga-membrane *memb0*)))"
   ]
  },
  {
   "cell_type": "code",
   "execution_count": 54,
   "metadata": {},
   "outputs": [
    {
     "data": {
      "text/plain": [
       "(4 #<MEMBRANE-PACKER::COLLISIONS>)"
      ]
     },
     "execution_count": 54,
     "metadata": {},
     "output_type": "execute_result"
    }
   ],
   "source": [
    "*score*"
   ]
  },
  {
   "cell_type": "code",
   "execution_count": 55,
   "metadata": {},
   "outputs": [
    {
     "data": {
      "text/plain": [
       "*COLLISIONS*"
      ]
     },
     "execution_count": 55,
     "metadata": {},
     "output_type": "execute_result"
    }
   ],
   "source": [
    "(defparameter *collisions* (second *score*))"
   ]
  },
  {
   "cell_type": "code",
   "execution_count": 56,
   "metadata": {},
   "outputs": [
    {
     "data": {
      "text/plain": [
       "T"
      ]
     },
     "execution_count": 56,
     "metadata": {},
     "output_type": "execute_result"
    }
   ],
   "source": [
    "(membrane-packer:add-collisions-as-shape *v* *collisions* :radius 2.1)"
   ]
  },
  {
   "cell_type": "markdown",
   "metadata": {},
   "source": [
    "# Try optimizing a membrane"
   ]
  },
  {
   "cell_type": "code",
   "execution_count": 52,
   "metadata": {},
   "outputs": [
    {
     "name": "stdout",
     "output_type": "stream",
     "text": [
      "Generation 0   ... least collisions -> (134 151 155 156 156 157 160 164 165 167)\n"
     ]
    },
    {
     "name": "stderr",
     "output_type": "stream",
     "text": [
      "\n",
      "An error occurred of type: SEQUENCE-OUT-OF-BOUNDS: \n",
      "  Sequence index 3 is out of bounds (INTEGER 0 2).\n",
      "\n",
      "serious-condition backtrace:\n",
      "0: (ERROR CORE:SEQUENCE-OUT-OF-BOUNDS :DATUM 3 :OBJECT (#<MEMBRANE-PACKER::SCORED-MEMBRANE> #<MEMBRANE-PACKER::SCORED-MEMBRANE> #<MEMBRANE-PACKER::SCORED-MEMBRANE>) :EXPECTED-TYPE (INTEGER 0 2))\n",
      "1: (EVOLVE #<AGGREGATE NIL @0x12beb7488> :INPUT-BOUNDING-BOX NIL :PARALLEL T :NUMBER-OF-GENERATIONS 100)\n",
      "2: (APPLY MEMBRANE-PACKER::EVOLVE #<AGGREGATE NIL @0x12beb7488> :INPUT-BOUNDING-BOX NIL (:PARALLEL T :NUMBER-OF-GENERATIONS 100))\n",
      "3: (PACK #<AGGREGATE NIL @0x12beb7488> :PARALLEL T :NUMBER-OF-GENERATIONS 100)\n",
      "4: (LAMBDA)\n",
      "\n"
     ]
    },
    {
     "data": {
      "text/plain": [
       "NIL"
      ]
     },
     "execution_count": 52,
     "metadata": {},
     "output_type": "execute_result"
    }
   ],
   "source": [
    "(defparameter *scored-membranes* (membrane-packer:pack *prot* :parallel t :number-of-generations 50))"
   ]
  },
  {
   "cell_type": "code",
   "execution_count": 37,
   "metadata": {},
   "outputs": [
    {
     "data": {
      "text/plain": [
       "*MEMB0*"
      ]
     },
     "execution_count": 37,
     "metadata": {},
     "output_type": "execute_result"
    }
   ],
   "source": [
    "(defparameter *memb0* (second (elt *scored-membranes* 0)))"
   ]
  },
  {
   "cell_type": "code",
   "execution_count": 38,
   "metadata": {},
   "outputs": [
    {
     "data": {
      "text/plain": [
       "*AGG0*"
      ]
     },
     "execution_count": 38,
     "metadata": {},
     "output_type": "execute_result"
    }
   ],
   "source": [
    "(defparameter *agg0* (membrane-packer::build-aggregate-from-ga-membrane *memb0* :debug t))"
   ]
  },
  {
   "cell_type": "code",
   "execution_count": 39,
   "metadata": {},
   "outputs": [
    {
     "data": {
      "application/vnd.jupyter.widget-view+json": {
       "model_id": "10D1B074-8C4A-40B8-8396-DDD584A64619",
       "version_major": 2,
       "version_minor": 0
      },
      "text/plain": [
       "#<NGLV:NGLWIDGET>"
      ]
     },
     "execution_count": 39,
     "metadata": {},
     "output_type": "execute_result"
    }
   ],
   "source": [
    "(defparameter *v0* (show *agg0*)) *v0*"
   ]
  },
  {
   "cell_type": "code",
   "execution_count": 40,
   "metadata": {},
   "outputs": [
    {
     "data": {
      "text/plain": [
       "*WL0*"
      ]
     },
     "execution_count": 40,
     "metadata": {},
     "output_type": "execute_result"
    }
   ],
   "source": [
    "(defparameter *wl0* (membrane-packer::build-ga-membrane-work-list *memb0*))"
   ]
  },
  {
   "cell_type": "code",
   "execution_count": 41,
   "metadata": {},
   "outputs": [
    {
     "data": {
      "text/plain": [
       "(1 #<MEMBRANE-PACKER::COLLISIONS>)"
      ]
     },
     "execution_count": 41,
     "metadata": {},
     "output_type": "execute_result"
    }
   ],
   "source": [
    "(multiple-value-list (membrane-packer::score-work-list *wl0* *memb0*))"
   ]
  },
  {
   "cell_type": "code",
   "execution_count": 42,
   "metadata": {},
   "outputs": [
    {
     "data": {
      "text/plain": [
       "*SCORE0*"
      ]
     },
     "execution_count": 42,
     "metadata": {},
     "output_type": "execute_result"
    }
   ],
   "source": [
    "(defparameter *score0* (multiple-value-list (membrane-packer::score-work-list *wl0* *memb0*)))"
   ]
  },
  {
   "cell_type": "code",
   "execution_count": 43,
   "metadata": {},
   "outputs": [
    {
     "data": {
      "text/plain": [
       "*COLLISIONS0*"
      ]
     },
     "execution_count": 43,
     "metadata": {},
     "output_type": "execute_result"
    }
   ],
   "source": [
    "(defparameter *collisions0* (second *score0*))"
   ]
  },
  {
   "cell_type": "code",
   "execution_count": 44,
   "metadata": {},
   "outputs": [
    {
     "data": {
      "text/plain": [
       "T"
      ]
     },
     "execution_count": 44,
     "metadata": {},
     "output_type": "execute_result"
    }
   ],
   "source": [
    "(membrane-packer:add-collisions-as-shape *v0* *collisions0* :radius 2.1)"
   ]
  },
  {
   "cell_type": "markdown",
   "metadata": {},
   "source": [
    "# Find two lipids that interact with yellow spheres (close contacts) but not magenta (collisions using octrees)"
   ]
  },
  {
   "cell_type": "code",
   "execution_count": 57,
   "metadata": {},
   "outputs": [
    {
     "data": {
      "text/plain": [
       "*L2*"
      ]
     },
     "execution_count": 57,
     "metadata": {},
     "output_type": "execute_result"
    }
   ],
   "source": [
    "(defparameter *l1* (membrane-packer::find-ga-lipid *memb* 9))\n",
    "(defparameter *l2* (membrane-packer::find-ga-lipid *memb* 169))"
   ]
  },
  {
   "cell_type": "code",
   "execution_count": 59,
   "metadata": {},
   "outputs": [
    {
     "name": "stdout",
     "output_type": "stream",
     "text": [
      "*l1* -> #<GA-LIPID :id 9 :lipid-index 94> .   *l2* -> #<GA-LIPID :id 169 :lipid-index 34> \n"
     ]
    },
    {
     "data": {
      "text/plain": [
       "NIL"
      ]
     },
     "execution_count": 59,
     "metadata": {},
     "output_type": "execute_result"
    }
   ],
   "source": [
    "(format t \"*l1* -> ~a .   *l2* -> ~a ~%\" *l1* *l2*)"
   ]
  },
  {
   "cell_type": "code",
   "execution_count": 60,
   "metadata": {},
   "outputs": [
    {
     "data": {
      "text/plain": [
       "(9 12 2)"
      ]
     },
     "execution_count": 60,
     "metadata": {},
     "output_type": "execute_result"
    }
   ],
   "source": [
    "(array-dimensions (membrane-packer::array *memb*))"
   ]
  },
  {
   "cell_type": "code",
   "execution_count": 61,
   "metadata": {},
   "outputs": [
    {
     "data": {
      "text/plain": [
       "(4 0 0)"
      ]
     },
     "execution_count": 61,
     "metadata": {},
     "output_type": "execute_result"
    }
   ],
   "source": [
    "(membrane-packer::array-indices *l1*)"
   ]
  },
  {
   "cell_type": "code",
   "execution_count": 62,
   "metadata": {},
   "outputs": [
    {
     "data": {
      "text/plain": [
       "(3 9 0)"
      ]
     },
     "execution_count": 62,
     "metadata": {},
     "output_type": "execute_result"
    }
   ],
   "source": [
    "(membrane-packer::array-indices *l2*)"
   ]
  },
  {
   "cell_type": "code",
   "execution_count": 63,
   "metadata": {},
   "outputs": [
    {
     "data": {
      "text/plain": [
       "*RANGE*"
      ]
     },
     "execution_count": 63,
     "metadata": {},
     "output_type": "execute_result"
    }
   ],
   "source": [
    "(defparameter *range* (membrane-packer:find-collision-range *collisions* *l1* *l2*))"
   ]
  },
  {
   "cell_type": "code",
   "execution_count": 64,
   "metadata": {},
   "outputs": [
    {
     "data": {
      "text/plain": [
       "NIL"
      ]
     },
     "execution_count": 64,
     "metadata": {},
     "output_type": "execute_result"
    }
   ],
   "source": [
    "*range*"
   ]
  },
  {
   "cell_type": "code",
   "execution_count": 65,
   "metadata": {},
   "outputs": [
    {
     "name": "stderr",
     "output_type": "stream",
     "text": [
      "\n",
      "Undefined variable *FA-ATOMVECS*\n",
      "\n",
      "Undefined variable *FA-ATOMVECS*\n"
     ]
    },
    {
     "data": {
      "text/plain": [
       "*ATOMVECS*"
      ]
     },
     "execution_count": 65,
     "metadata": {},
     "output_type": "execute_result"
    }
   ],
   "source": [
    "(defparameter *fa-atomvecs* (multiple-value-list (membrane-packer::focused-aggregate *memb* (list *l1* *l2*))))\n",
    "(defparameter *fa* (first *fa-atomvecs*))\n",
    "(defparameter *atomvecs* (second *fa-atomvecs*))"
   ]
  },
  {
   "cell_type": "code",
   "execution_count": 66,
   "metadata": {},
   "outputs": [
    {
     "data": {
      "text/plain": [
       "*OCTREE-SHAPE*"
      ]
     },
     "execution_count": 66,
     "metadata": {},
     "output_type": "execute_result"
    }
   ],
   "source": [
    "(defparameter *octree-shape* (membrane-packer::ga-lipid-octree-as-shape *l2*))"
   ]
  },
  {
   "cell_type": "code",
   "execution_count": 68,
   "metadata": {},
   "outputs": [
    {
     "data": {
      "application/vnd.jupyter.widget-view+json": {
       "model_id": "7F69AADC-5422-43E0-975B-989731453580",
       "version_major": 2,
       "version_minor": 0
      },
      "text/plain": [
       "#<NGLV:NGLWIDGET>"
      ]
     },
     "execution_count": 68,
     "metadata": {},
     "output_type": "execute_result"
    }
   ],
   "source": [
    "(defparameter *vfa* (show *fa* :shapes (list :octree *octree-shape*))) *vfa*"
   ]
  },
  {
   "cell_type": "code",
   "execution_count": 30,
   "metadata": {},
   "outputs": [
    {
     "name": "stdout",
     "output_type": "stream",
     "text": [
      "Completed  100.0% elapsed:   1.0 seconds ETC: --   There are 1 close-contacts of a possible 17956\n"
     ]
    },
    {
     "data": {
      "text/plain": [
       "*CC*"
      ]
     },
     "execution_count": 30,
     "metadata": {},
     "output_type": "execute_result"
    }
   ],
   "source": [
    "(defparameter *cc* (membrane-packer::close-contacts *atomvecs*))"
   ]
  },
  {
   "cell_type": "code",
   "execution_count": 31,
   "metadata": {},
   "outputs": [
    {
     "data": {
      "text/plain": [
       "T"
      ]
     },
     "execution_count": 31,
     "metadata": {},
     "output_type": "execute_result"
    }
   ],
   "source": [
    "(membrane-packer::add-close-contacts-as-shape *vfa* *cc* :radius 0.3)"
   ]
  },
  {
   "cell_type": "code",
   "execution_count": 32,
   "metadata": {},
   "outputs": [
    {
     "name": "stderr",
     "output_type": "stream",
     "text": [
      "\n",
      "Undefined variable *FA-COLLISIONS*\n"
     ]
    },
    {
     "data": {
      "text/plain": [
       "0"
      ]
     },
     "execution_count": 32,
     "metadata": {},
     "output_type": "execute_result"
    }
   ],
   "source": [
    "(defparameter *fa-collisions* (membrane-packer::make-collisions))\n",
    "(let ((chem:*debug-octree* nil))\n",
    "     (membrane-packer::score-cell (membrane-packer::bounding-box *memb*) *l1* *l2* *fa-collisions*))"
   ]
  },
  {
   "cell_type": "code",
   "execution_count": 33,
   "metadata": {},
   "outputs": [
    {
     "data": {
      "text/plain": [
       "#()"
      ]
     },
     "execution_count": 33,
     "metadata": {},
     "output_type": "execute_result"
    }
   ],
   "source": [
    "(membrane-packer::indices *fa-collisions*)"
   ]
  },
  {
   "cell_type": "code",
   "execution_count": 34,
   "metadata": {},
   "outputs": [
    {
     "data": {
      "text/plain": [
       "T"
      ]
     },
     "execution_count": 34,
     "metadata": {},
     "output_type": "execute_result"
    }
   ],
   "source": [
    "(membrane-packer:add-collisions-as-shape *vfa* *fa-collisions* :radius 0.31)"
   ]
  },
  {
   "cell_type": "markdown",
   "metadata": {},
   "source": [
    "## Set the atom names in l1 and l2"
   ]
  },
  {
   "cell_type": "code",
   "execution_count": 36,
   "metadata": {},
   "outputs": [
    {
     "data": {
      "text/plain": [
       "*N2*"
      ]
     },
     "execution_count": 36,
     "metadata": {},
     "output_type": "execute_result"
    }
   ],
   "source": [
    "(defparameter *r1* :l9-pa) (defparameter *sr1* :pa) (defparameter *n1* :h3r)\n",
    "(defparameter *r2* :l169-pa) (defparameter *sr2* :pa) (defparameter *n2* :h2r)"
   ]
  },
  {
   "cell_type": "markdown",
   "metadata": {},
   "source": [
    "# Apply a bounding box transformation"
   ]
  },
  {
   "cell_type": "code",
   "execution_count": 37,
   "metadata": {},
   "outputs": [
    {
     "name": "stdout",
     "output_type": "stream",
     "text": [
      "widths: 94.87 91.29 60.00\n"
     ]
    },
    {
     "name": "stderr",
     "output_type": "stream",
     "text": [
      "\n",
      "Undefined variable *BBOX*\n",
      "\n",
      "Undefined variable *BBOX*\n",
      "\n",
      "Undefined variable *BBOX*\n"
     ]
    },
    {
     "data": {
      "text/plain": [
       "NIL"
      ]
     },
     "execution_count": 37,
     "metadata": {},
     "output_type": "execute_result"
    }
   ],
   "source": [
    "(defparameter *bbox* (membrane-packer::bounding-box *memb*))\n",
    "(format t \"widths: ~,2f ~,2f ~,2f~%\" (chem:get-x-width *bbox*) (chem:get-y-width *bbox*) (chem:get-z-width *bbox*)))"
   ]
  },
  {
   "cell_type": "code",
   "execution_count": 40,
   "metadata": {},
   "outputs": [
    {
     "data": {
      "text/plain": [
       "NIL"
      ]
     },
     "execution_count": 40,
     "metadata": {},
     "output_type": "execute_result"
    }
   ],
   "source": [
    "(defparameter *tfa* (chem:matter-copy *fa*))\n",
    "(chem:apply-transform-to-atoms (mol *tfa* 0) (geom:make-m4-translate (geom:vec 0.0 (chem:get-y-width *bbox*) 0.0)))"
   ]
  },
  {
   "cell_type": "code",
   "execution_count": 41,
   "metadata": {},
   "outputs": [
    {
     "data": {
      "application/vnd.jupyter.widget-view+json": {
       "model_id": "FD9E6F2D-4B14-4170-9131-E96400133B79",
       "version_major": 2,
       "version_minor": 0
      },
      "text/plain": [
       "#<NGLV:NGLWIDGET>"
      ]
     },
     "execution_count": 41,
     "metadata": {},
     "output_type": "execute_result"
    }
   ],
   "source": [
    "(show *tfa* :shapes (list :octree *octree-shape*))"
   ]
  },
  {
   "cell_type": "code",
   "execution_count": 42,
   "metadata": {},
   "outputs": [
    {
     "name": "stderr",
     "output_type": "stream",
     "text": [
      "\n",
      "Undefined variable *TFA-ATOM1*\n",
      "\n",
      "Undefined variable *TFA-ATOM2*\n"
     ]
    },
    {
     "data": {
      "text/plain": [
       "*TFA-POS2*"
      ]
     },
     "execution_count": 42,
     "metadata": {},
     "output_type": "execute_result"
    }
   ],
   "source": [
    "(defparameter *tfa-atom1* (chem:first-atom-with-name (chem:content-with-name (mol *tfa* 0) *r1*) *n1*))\n",
    "(defparameter *tfa-pos1* (chem:get-position *tfa-atom1*))\n",
    "(defparameter *tfa-atom2* (chem:first-atom-with-name (chem:content-with-name (mol *tfa* 1) *r2*) *n2*))\n",
    "(defparameter *tfa-pos2* (chem:get-position *tfa-atom2*))"
   ]
  },
  {
   "cell_type": "code",
   "execution_count": 43,
   "metadata": {},
   "outputs": [
    {
     "name": "stdout",
     "output_type": "stream",
     "text": [
      "#<ATOM :H3R/:H @0x136470a59> *tfa-pos1* -> '( -12.02 37.6815 12.6495)   #<ATOM :H2R/:H @0x135e32969> *tfa-pos2* -> '( -12.388 37.1262 12.3398)\n"
     ]
    },
    {
     "data": {
      "text/plain": [
       "NIL"
      ]
     },
     "execution_count": 43,
     "metadata": {},
     "output_type": "execute_result"
    }
   ],
   "source": [
    "(format t \"~a *tfa-pos1* -> ~a   ~a *tfa-pos2* -> ~a~%\" *tfa-atom1* *tfa-pos1* *tfa-atom2* *tfa-pos2*)"
   ]
  },
  {
   "cell_type": "code",
   "execution_count": 44,
   "metadata": {},
   "outputs": [
    {
     "name": "stdout",
     "output_type": "stream",
     "text": [
      "pos1 -> '( -12.02 37.6815 12.6495)  pos2 -> '( -12.388 37.1262 12.3398)  non-bbox delta -> 0.73  bbox-delta -> 0.73 close-distance -> 1.20\n"
     ]
    },
    {
     "data": {
      "text/plain": [
       "NIL"
      ]
     },
     "execution_count": 44,
     "metadata": {},
     "output_type": "execute_result"
    }
   ],
   "source": [
    "(let* ((diff (geom:v- *tfa-pos1* *tfa-pos2*))\n",
    "       (tdelta (geom:vlength diff))\n",
    "       (delta (sqrt (chem:bounding-box-distance-squared-between-two-points (membrane-packer::bounding-box *memb*) *tfa-pos1* *tfa-pos2*))))\n",
    "      (format t \"pos1 -> ~a  pos2 -> ~a  non-bbox delta -> ~,2f  bbox-delta -> ~,2f close-distance -> ~,2f~%\" *tfa-pos1* *tfa-pos2* tdelta delta membrane-packer::*close-distance*))"
   ]
  },
  {
   "cell_type": "markdown",
   "metadata": {},
   "source": [
    "# Check the positions with the untransformed system"
   ]
  },
  {
   "cell_type": "code",
   "execution_count": 45,
   "metadata": {},
   "outputs": [
    {
     "name": "stderr",
     "output_type": "stream",
     "text": [
      "\n",
      "Undefined variable *FA-ATOM1*\n",
      "\n",
      "Undefined variable *FA-ATOM2*\n"
     ]
    },
    {
     "data": {
      "text/plain": [
       "*FA-POS2*"
      ]
     },
     "execution_count": 45,
     "metadata": {},
     "output_type": "execute_result"
    }
   ],
   "source": [
    "(defparameter *fa-atom1* (chem:first-atom-with-name (chem:content-with-name (mol *fa* 0) *r1*) *n1*))\n",
    "(defparameter *fa-pos1* (chem:get-position *fa-atom1*))\n",
    "(defparameter *fa-atom2* (chem:first-atom-with-name (chem:content-with-name (mol *fa* 1) *r2*) *n2*))\n",
    "(defparameter *fa-pos2* (chem:get-position *fa-atom2*))"
   ]
  },
  {
   "cell_type": "code",
   "execution_count": 46,
   "metadata": {},
   "outputs": [
    {
     "name": "stdout",
     "output_type": "stream",
     "text": [
      "#<ATOM :H3R/:H @0x13594ae19> *fa-pos1* -> '( -12.02 -53.6056 12.6495)   #<ATOM :H2R/:H @0x135500d29> *fa-pos2* -> '( -12.388 37.1262 12.3398)\n"
     ]
    },
    {
     "data": {
      "text/plain": [
       "NIL"
      ]
     },
     "execution_count": 46,
     "metadata": {},
     "output_type": "execute_result"
    }
   ],
   "source": [
    "(format t \"~a *fa-pos1* -> ~a   ~a *fa-pos2* -> ~a~%\" *fa-atom1* *fa-pos1* *fa-atom2* *fa-pos2*)"
   ]
  },
  {
   "cell_type": "code",
   "execution_count": 56,
   "metadata": {},
   "outputs": [
    {
     "data": {
      "application/vnd.jupyter.widget-view+json": {
       "model_id": "DFE32ED2-E1C5-445D-9265-E5D310D13B06",
       "version_major": 2,
       "version_minor": 0
      },
      "text/plain": [
       "#<NGLV:NGLWIDGET>"
      ]
     },
     "execution_count": 56,
     "metadata": {},
     "output_type": "execute_result"
    }
   ],
   "source": [
    "(show *fa* :axes t :shapes (list :octree *octree-shape*))"
   ]
  },
  {
   "cell_type": "code",
   "execution_count": 48,
   "metadata": {},
   "outputs": [
    {
     "data": {
      "text/plain": [
       "*MEMB-POS2*"
      ]
     },
     "execution_count": 48,
     "metadata": {},
     "output_type": "execute_result"
    }
   ],
   "source": [
    "(defparameter *memb-pos1* (membrane-packer::find-ga-lipid-position *l1* *sr1* *n1*))\n",
    "(defparameter *memb-pos2* (membrane-packer::find-ga-lipid-position *l2* *sr2* *n2*))"
   ]
  },
  {
   "cell_type": "code",
   "execution_count": 49,
   "metadata": {},
   "outputs": [
    {
     "name": "stdout",
     "output_type": "stream",
     "text": [
      "*memb-pos1* -> '( -12.02 -53.6056 12.6495)   *memb-pos2* -> '( -12.388 37.1262 12.3398)\n"
     ]
    },
    {
     "data": {
      "text/plain": [
       "NIL"
      ]
     },
     "execution_count": 49,
     "metadata": {},
     "output_type": "execute_result"
    }
   ],
   "source": [
    "(format t \"*memb-pos1* -> ~a   *memb-pos2* -> ~a~%\" *memb-pos1* *memb-pos2*)"
   ]
  },
  {
   "cell_type": "code",
   "execution_count": 50,
   "metadata": {},
   "outputs": [
    {
     "name": "stdout",
     "output_type": "stream",
     "text": [
      "pos1 -> '( -12.02 -53.6056 12.6495)  pos2 -> '( -12.388 37.1262 12.3398)  bbox delta -> 0.73  close-distance -> 1.20\n"
     ]
    },
    {
     "data": {
      "text/plain": [
       "NIL"
      ]
     },
     "execution_count": 50,
     "metadata": {},
     "output_type": "execute_result"
    }
   ],
   "source": [
    "(let* ((diff (geom:v- *memb-pos1* *memb-pos2*))\n",
    "       (delta (sqrt (chem:bounding-box-distance-squared-between-two-points (membrane-packer::bounding-box *memb*) *fa-pos1* *fa-pos2*))))\n",
    "      (format t \"pos1 -> ~a  pos2 -> ~a  bbox delta -> ~,2f  close-distance -> ~,2f~%\" *fa-pos1* *fa-pos2* delta membrane-packer::*close-distance*))"
   ]
  },
  {
   "cell_type": "code",
   "execution_count": 51,
   "metadata": {},
   "outputs": [
    {
     "name": "stdout",
     "output_type": "stream",
     "text": [
      "Skipping octree #<GENERIC-OCTREE >  data: NIL origin: '( -0.264288 -0.124874 0.19699)\n",
      "Skipping octree #<GENERIC-OCTREE >  data: NIL origin: '( -3.3095 -2.87484 -6.14693)\n",
      "Skipping octree #<GENERIC-OCTREE >  data: NIL origin: '( -4.8321 -4.24982 -9.31888)\n",
      "Skipping octree #<GENERIC-OCTREE >  data: NIL origin: '( -4.8321 -4.24982 -2.97497)\n",
      "Skipping octree #<GENERIC-OCTREE >  data: NIL origin: '( -4.8321 -1.49986 -2.97497)\n",
      "Skipping octree #<GENERIC-OCTREE >  data: NIL origin: '( -1.78689 -4.24982 -9.31888)\n",
      "Skipping octree #<GENERIC-OCTREE >  data: NIL origin: '( -1.78689 -4.24982 -2.97497)\n",
      "Skipping octree #<GENERIC-OCTREE >  data: NIL origin: '( -1.78689 -1.49986 -2.97497)\n",
      "Skipping octree #<GENERIC-OCTREE >  data: NIL origin: '( -2.5482 -2.18735 -1.38899)\n",
      "Skipping octree #<GENERIC-OCTREE >  data: NIL origin: '( -2.5482 -0.812364 -4.56095)\n",
      "Skipping octree #<GENERIC-OCTREE >  data: NIL origin: '( -2.92885 -1.15611 -3.76796)\n",
      "Skipping octree #<GENERIC-OCTREE >  data: NIL origin: '( -2.92885 -0.468619 -5.35394)\n",
      "Skipping octree #<GENERIC-OCTREE >  data: NIL origin: '( -2.92885 -0.468619 -3.76796)\n",
      "Skipping octree #<GENERIC-OCTREE >  data: NIL origin: '( -2.16754 -1.15611 -5.35394)\n",
      "Skipping octree #<GENERIC-OCTREE >  data: NIL origin: '( -2.16754 -1.15611 -3.76796)\n",
      "Skipping octree #<GENERIC-OCTREE >  data: NIL origin: '( -1.02559 -0.812364 -1.38899)\n",
      "Skipping octree #<GENERIC-OCTREE >  data: NIL origin: '( -1.40624 -1.15611 -2.18198)\n",
      "Skipping octree #<GENERIC-OCTREE >  data: NIL origin: '( -1.59657 -1.32798 -1.78548)\n",
      "Skipping octree #<GENERIC-OCTREE >  data: NIL origin: '( -1.59657 -0.984237 -2.57847)\n",
      "Skipping octree #<GENERIC-OCTREE >  data: NIL origin: '( -1.21592 -1.32798 -2.57847)\n",
      "Skipping octree #<GENERIC-OCTREE >  data: NIL origin: '( -1.21592 -1.32798 -1.78548)\n",
      "Skipping octree #<GENERIC-OCTREE >  data: NIL origin: '( -1.21592 -0.984237 -2.57847)\n",
      "Skipping octree #<GENERIC-OCTREE >  data: NIL origin: '( -1.21592 -0.984237 -1.78548)\n",
      "Skipping octree #<GENERIC-OCTREE >  data: NIL origin: '( -1.40624 -1.15611 -0.596)\n",
      "Skipping octree #<GENERIC-OCTREE >  data: NIL origin: '( -1.40624 -0.468619 -2.18198)\n",
      "Skipping octree #<GENERIC-OCTREE >  data: NIL origin: '( -1.40624 -0.468619 -0.596)\n",
      "Skipping octree #<GENERIC-OCTREE >  data: NIL origin: '( -0.644939 -1.15611 -2.18198)\n",
      "Skipping octree #<GENERIC-OCTREE >  data: NIL origin: '( -0.644939 -1.15611 -0.596)\n",
      "Skipping octree #<GENERIC-OCTREE >  data: NIL origin: '( -0.644939 -0.468619 -2.18198)\n",
      "Skipping octree #<GENERIC-OCTREE >  data: NIL origin: '( -0.644939 -0.468619 -0.596)\n",
      "Skipping octree #<GENERIC-OCTREE >  data: NIL origin: '( -3.3095 -2.87484 6.5409)\n",
      "Skipping octree #<GENERIC-OCTREE >  data: NIL origin: '( -4.8321 -4.24982 3.36895)\n",
      "Skipping octree #<GENERIC-OCTREE >  data: NIL origin: '( -4.8321 -4.24982 9.71286)\n",
      "Skipping octree #<GENERIC-OCTREE >  data: NIL origin: '( -4.8321 -1.49986 9.71286)\n",
      "Skipping octree #<GENERIC-OCTREE >  data: NIL origin: '( -1.78689 -4.24982 3.36895)\n",
      "Skipping octree #<GENERIC-OCTREE >  data: NIL origin: '( -2.5482 -4.93731 1.78297)\n",
      "Skipping octree #<GENERIC-OCTREE >  data: NIL origin: '( -2.5482 -4.93731 4.95493)\n",
      "Skipping octree #<GENERIC-OCTREE >  data: NIL origin: '( -2.5482 -3.56233 1.78297)\n",
      "Skipping octree #<GENERIC-OCTREE >  data: NIL origin: '( -1.02559 -4.93731 1.78297)\n",
      "Skipping octree #<GENERIC-OCTREE >  data: NIL origin: '( -1.02559 -4.93731 4.95493)\n",
      "Skipping octree #<GENERIC-OCTREE >  data: NIL origin: '( -1.78689 -4.24982 9.71286)\n",
      "Skipping octree #<GENERIC-OCTREE >  data: NIL origin: '( -1.78689 -1.49986 3.36895)\n",
      "Skipping octree #<GENERIC-OCTREE >  data: NIL origin: '( -2.5482 -2.18735 1.78297)\n",
      "Skipping octree #<GENERIC-OCTREE >  data: NIL origin: '( -2.5482 -0.812364 1.78297)\n",
      "Skipping octree #<GENERIC-OCTREE >  data: NIL origin: '( -2.92885 -1.15611 0.989979)\n",
      "Skipping octree #<GENERIC-OCTREE >  data: NIL origin: '( -2.92885 -1.15611 2.57596)\n",
      "Skipping octree #<GENERIC-OCTREE >  data: NIL origin: '( -3.11917 -1.32798 2.17946)\n",
      "Skipping octree #<GENERIC-OCTREE >  data: NIL origin: '( -3.11917 -1.32798 2.97245)\n",
      "Skipping octree #<GENERIC-OCTREE >  data: NIL origin: '( -3.11917 -0.984237 2.17946)\n",
      "Skipping octree #<GENERIC-OCTREE >  data: NIL origin: '( -3.11917 -0.984237 2.97245)\n",
      "Skipping octree #<GENERIC-OCTREE >  data: NIL origin: '( -2.73852 -1.32798 2.97245)\n",
      "Skipping octree #<GENERIC-OCTREE >  data: NIL origin: '( -2.73852 -0.984237 2.17946)\n",
      "Skipping octree #<GENERIC-OCTREE >  data: NIL origin: '( -2.92885 -0.468619 0.989979)\n",
      "Skipping octree #<GENERIC-OCTREE >  data: NIL origin: '( -2.92885 -0.468619 2.57596)\n",
      "Skipping octree #<GENERIC-OCTREE >  data: NIL origin: '( -2.16754 -1.15611 0.989979)\n",
      "Skipping octree #<GENERIC-OCTREE >  data: NIL origin: '( -2.16754 -1.15611 2.57596)\n",
      "Skipping octree #<GENERIC-OCTREE >  data: NIL origin: '( -2.16754 -0.468619 0.989979)\n",
      "Skipping octree #<GENERIC-OCTREE >  data: NIL origin: '( -2.16754 -0.468619 2.57596)\n",
      "Skipping octree #<GENERIC-OCTREE >  data: NIL origin: '( -1.02559 -2.18735 1.78297)\n",
      "Skipping octree #<GENERIC-OCTREE >  data: NIL origin: '( -1.02559 -0.812364 1.78297)\n",
      "Skipping octree #<GENERIC-OCTREE >  data: NIL origin: '( -1.78689 -1.49986 9.71286)\n",
      "Skipping octree #<GENERIC-OCTREE >  data: NIL origin: '( -2.5482 -2.18735 8.12688)\n",
      "Skipping octree #<GENERIC-OCTREE >  data: NIL origin: '( -2.5482 -2.18735 11.2988)\n",
      "Skipping octree #<GENERIC-OCTREE >  data: NIL origin: '( -2.5482 -0.812364 11.2988)\n",
      "Skipping octree #<GENERIC-OCTREE >  data: NIL origin: '( -1.02559 -2.18735 8.12688)\n",
      "Skipping octree #<GENERIC-OCTREE >  data: NIL origin: '( -1.02559 -2.18735 11.2988)\n",
      "Skipping octree #<GENERIC-OCTREE >  data: NIL origin: '( -1.02559 -0.812364 11.2988)\n",
      "Skipping octree #<GENERIC-OCTREE >  data: NIL origin: '( -3.3095 2.62509 -6.14693)\n",
      "Skipping octree #<GENERIC-OCTREE >  data: NIL origin: '( -4.8321 1.25011 -9.31888)\n",
      "Skipping octree #<GENERIC-OCTREE >  data: NIL origin: '( -5.59341 0.562617 -7.7329)\n",
      "Skipping octree #<GENERIC-OCTREE >  data: NIL origin: '( -5.59341 1.9376 -10.9049)\n",
      "Skipping octree #<GENERIC-OCTREE >  data: NIL origin: '( -5.59341 1.9376 -7.7329)\n",
      "Skipping octree #<GENERIC-OCTREE >  data: NIL origin: '( -4.0708 0.562617 -7.7329)\n",
      "Skipping octree #<GENERIC-OCTREE >  data: NIL origin: '( -4.0708 1.9376 -10.9049)\n",
      "Skipping octree #<GENERIC-OCTREE >  data: NIL origin: '( -4.45145 1.59385 -11.6979)\n",
      "Skipping octree #<GENERIC-OCTREE >  data: NIL origin: '( -4.45145 2.28134 -11.6979)\n",
      "Skipping octree #<GENERIC-OCTREE >  data: NIL origin: '( -3.69015 1.59385 -11.6979)\n",
      "Skipping octree #<GENERIC-OCTREE >  data: NIL origin: '( -3.69015 1.59385 -10.1119)\n",
      "Skipping octree #<GENERIC-OCTREE >  data: NIL origin: '( -3.69015 2.28134 -11.6979)\n",
      "Skipping octree #<GENERIC-OCTREE >  data: NIL origin: '( -3.69015 2.28134 -10.1119)\n",
      "Skipping octree #<GENERIC-OCTREE >  data: NIL origin: '( -4.0708 1.9376 -7.7329)\n",
      "Skipping octree #<GENERIC-OCTREE >  data: NIL origin: '( -4.45145 1.59385 -8.52589)\n",
      "Skipping octree #<GENERIC-OCTREE >  data: NIL origin: '( -4.45145 1.59385 -6.93991)\n",
      "Skipping octree #<GENERIC-OCTREE >  data: NIL origin: '( -4.45145 2.28134 -6.93991)\n",
      "Skipping octree #<GENERIC-OCTREE >  data: NIL origin: '( -3.69015 1.59385 -6.93991)\n",
      "Skipping octree #<GENERIC-OCTREE >  data: NIL origin: '( -3.69015 2.28134 -8.52589)\n",
      "Skipping octree #<GENERIC-OCTREE >  data: NIL origin: '( -3.69015 2.28134 -6.93991)\n",
      "Skipping octree #<GENERIC-OCTREE >  data: NIL origin: '( -4.8321 4.00007 -9.31888)\n",
      "Skipping octree #<GENERIC-OCTREE >  data: NIL origin: '( -4.8321 4.00007 -2.97497)\n",
      "Skipping octree #<GENERIC-OCTREE >  data: NIL origin: '( -1.78689 1.25011 -9.31888)\n",
      "Skipping octree #<GENERIC-OCTREE >  data: NIL origin: '( -2.5482 0.562617 -10.9049)\n",
      "Skipping octree #<GENERIC-OCTREE >  data: NIL origin: '( -2.5482 1.9376 -10.9049)\n",
      "Skipping octree #<GENERIC-OCTREE >  data: NIL origin: '( -1.02559 0.562617 -10.9049)\n",
      "Skipping octree #<GENERIC-OCTREE >  data: NIL origin: '( -1.02559 0.562617 -7.7329)\n",
      "Skipping octree #<GENERIC-OCTREE >  data: NIL origin: '( -1.02559 1.9376 -10.9049)\n",
      "Skipping octree #<GENERIC-OCTREE >  data: NIL origin: '( -1.02559 1.9376 -7.7329)\n",
      "Skipping octree #<GENERIC-OCTREE >  data: NIL origin: '( -1.78689 1.25011 -2.97497)\n",
      "Skipping octree #<GENERIC-OCTREE >  data: NIL origin: '( -2.5482 0.562617 -4.56095)\n",
      "Skipping octree #<GENERIC-OCTREE >  data: NIL origin: '( -2.92885 0.218872 -5.35394)\n",
      "Skipping octree #<GENERIC-OCTREE >  data: NIL origin: '( -2.92885 0.906362 -3.76796)\n",
      "Skipping octree #<GENERIC-OCTREE >  data: NIL origin: '( -2.16754 0.218872 -5.35394)\n",
      "Skipping octree #<GENERIC-OCTREE >  data: NIL origin: '( -2.16754 0.218872 -3.76796)\n",
      "Skipping octree #<GENERIC-OCTREE >  data: NIL origin: '( -2.16754 0.906362 -5.35394)\n",
      "Skipping octree #<GENERIC-OCTREE >  data: NIL origin: '( -2.16754 0.906362 -3.76796)\n",
      "Skipping octree #<GENERIC-OCTREE >  data: NIL origin: '( -2.5482 0.562617 -1.38899)\n",
      "Skipping octree #<GENERIC-OCTREE >  data: NIL origin: '( -2.5482 1.9376 -1.38899)\n",
      "Skipping octree #<GENERIC-OCTREE >  data: NIL origin: '( -1.02559 0.562617 -1.38899)\n",
      "Skipping octree #<GENERIC-OCTREE >  data: NIL origin: '( -1.40624 0.218872 -2.18198)\n",
      "Skipping octree #<GENERIC-OCTREE >  data: NIL origin: '( -1.40624 0.906362 -2.18198)\n",
      "Skipping octree #<GENERIC-OCTREE >  data: NIL origin: '( -0.644939 0.218872 -2.18198)\n",
      "Skipping octree #<GENERIC-OCTREE >  data: NIL origin: '( -0.644939 0.218872 -0.596)\n",
      "Skipping octree #<GENERIC-OCTREE >  data: NIL origin: '( -0.644939 0.906362 -2.18198)\n",
      "Skipping octree #<GENERIC-OCTREE >  data: NIL origin: '( -0.644939 0.906362 -0.596)\n",
      "Skipping octree #<GENERIC-OCTREE >  data: NIL origin: '( -1.02559 1.9376 -4.56095)\n",
      "Skipping octree #<GENERIC-OCTREE >  data: NIL origin: '( -1.02559 1.9376 -1.38899)\n",
      "Skipping octree #<GENERIC-OCTREE >  data: NIL origin: '( -1.78689 4.00007 -9.31888)\n",
      "Skipping octree #<GENERIC-OCTREE >  data: NIL origin: '( -1.78689 4.00007 -2.97497)\n",
      "Skipping octree #<GENERIC-OCTREE >  data: NIL origin: '( -3.3095 2.62509 6.5409)\n",
      "Skipping octree #<GENERIC-OCTREE >  data: NIL origin: '( -4.8321 1.25011 3.36895)\n",
      "Skipping octree #<GENERIC-OCTREE >  data: NIL origin: '( -5.59341 0.562617 1.78297)\n",
      "Skipping octree #<GENERIC-OCTREE >  data: NIL origin: '( -5.59341 0.562617 4.95493)\n",
      "Skipping octree #<GENERIC-OCTREE >  data: NIL origin: '( -5.59341 1.9376 1.78297)\n",
      "Skipping octree #<GENERIC-OCTREE >  data: NIL origin: '( -5.59341 1.9376 4.95493)\n",
      "Skipping octree #<GENERIC-OCTREE >  data: NIL origin: '( -4.0708 0.562617 4.95493)\n",
      "Skipping octree #<GENERIC-OCTREE >  data: NIL origin: '( -4.0708 1.9376 1.78297)\n",
      "Skipping octree #<GENERIC-OCTREE >  data: NIL origin: '( -4.45145 1.59385 0.989979)\n",
      "Skipping octree #<GENERIC-OCTREE >  data: NIL origin: '( -4.45145 1.59385 2.57596)\n",
      "Skipping octree #<GENERIC-OCTREE >  data: NIL origin: '( -4.45145 2.28134 0.989979)\n",
      "Skipping octree #<GENERIC-OCTREE >  data: NIL origin: '( -4.45145 2.28134 2.57596)\n",
      "Skipping octree #<GENERIC-OCTREE >  data: NIL origin: '( -3.69015 2.28134 0.989979)\n",
      "Skipping octree #<GENERIC-OCTREE >  data: NIL origin: '( -3.69015 2.28134 2.57596)\n",
      "Skipping octree #<GENERIC-OCTREE >  data: NIL origin: '( -4.0708 1.9376 4.95493)\n",
      "Skipping octree #<GENERIC-OCTREE >  data: NIL origin: '( -4.8321 1.25011 9.71286)\n",
      "Skipping octree #<GENERIC-OCTREE >  data: NIL origin: '( -5.59341 0.562617 8.12688)\n",
      "Skipping octree #<GENERIC-OCTREE >  data: NIL origin: '( -5.59341 0.562617 11.2988)\n",
      "Skipping octree #<GENERIC-OCTREE >  data: NIL origin: '( -5.59341 1.9376 8.12688)\n",
      "Skipping octree #<GENERIC-OCTREE >  data: NIL origin: '( -5.59341 1.9376 11.2988)\n",
      "Skipping octree #<GENERIC-OCTREE >  data: NIL origin: '( -4.0708 0.562617 8.12688)\n",
      "Skipping octree #<GENERIC-OCTREE >  data: NIL origin: '( -4.0708 0.562617 11.2988)\n",
      "Skipping octree #<GENERIC-OCTREE >  data: NIL origin: '( -4.0708 1.9376 8.12688)\n",
      "Skipping octree #<GENERIC-OCTREE >  data: NIL origin: '( -4.0708 1.9376 11.2988)\n",
      "Skipping octree #<GENERIC-OCTREE >  data: NIL origin: '( -4.45145 1.59385 12.0918)\n",
      "Skipping octree #<GENERIC-OCTREE >  data: NIL origin: '( -4.45145 2.28134 10.5059)\n",
      "Skipping octree #<GENERIC-OCTREE >  data: NIL origin: '( -4.45145 2.28134 12.0918)\n",
      "Skipping octree #<GENERIC-OCTREE >  data: NIL origin: '( -3.69015 1.59385 12.0918)\n",
      "Skipping octree #<GENERIC-OCTREE >  data: NIL origin: '( -3.69015 2.28134 12.0918)\n",
      "Skipping octree #<GENERIC-OCTREE >  data: NIL origin: '( -4.8321 4.00007 3.36895)\n",
      "Skipping octree #<GENERIC-OCTREE >  data: NIL origin: '( -4.8321 4.00007 9.71286)\n",
      "Skipping octree #<GENERIC-OCTREE >  data: NIL origin: '( -1.78689 1.25011 3.36895)\n",
      "Skipping octree #<GENERIC-OCTREE >  data: NIL origin: '( -2.5482 0.562617 1.78297)\n",
      "Skipping octree #<GENERIC-OCTREE >  data: NIL origin: '( -2.92885 0.218872 0.989979)\n",
      "Skipping octree #<GENERIC-OCTREE >  data: NIL origin: '( -2.92885 0.218872 2.57596)\n",
      "Skipping octree #<GENERIC-OCTREE >  data: NIL origin: '( -2.92885 0.906362 2.57596)\n",
      "Skipping octree #<GENERIC-OCTREE >  data: NIL origin: '( -2.16754 0.218872 0.989979)\n",
      "Skipping octree #<GENERIC-OCTREE >  data: NIL origin: '( -2.16754 0.906362 0.989979)\n",
      "Skipping octree #<GENERIC-OCTREE >  data: NIL origin: '( -2.16754 0.906362 2.57596)\n",
      "Skipping octree #<GENERIC-OCTREE >  data: NIL origin: '( -2.5482 1.9376 1.78297)\n",
      "Skipping octree #<GENERIC-OCTREE >  data: NIL origin: '( -2.92885 1.59385 0.989979)\n",
      "Skipping octree #<GENERIC-OCTREE >  data: NIL origin: '( -2.92885 1.59385 2.57596)\n",
      "Skipping octree #<GENERIC-OCTREE >  data: NIL origin: '( -2.92885 2.28134 0.989979)\n",
      "Skipping octree #<GENERIC-OCTREE >  data: NIL origin: '( -2.92885 2.28134 2.57596)\n",
      "Skipping octree #<GENERIC-OCTREE >  data: NIL origin: '( -2.16754 1.59385 0.989979)\n",
      "Skipping octree #<GENERIC-OCTREE >  data: NIL origin: '( -2.16754 2.28134 0.989979)\n",
      "Skipping octree #<GENERIC-OCTREE >  data: NIL origin: '( -2.5482 1.9376 4.95493)\n",
      "Skipping octree #<GENERIC-OCTREE >  data: NIL origin: '( -1.02559 0.562617 4.95493)\n",
      "Skipping octree #<GENERIC-OCTREE >  data: NIL origin: '( -1.02559 1.9376 4.95493)\n",
      "Skipping octree #<GENERIC-OCTREE >  data: NIL origin: '( -1.78689 1.25011 9.71286)\n",
      "Skipping octree #<GENERIC-OCTREE >  data: NIL origin: '( -2.5482 0.562617 8.12688)\n",
      "Skipping octree #<GENERIC-OCTREE >  data: NIL origin: '( -2.92885 0.218872 7.33389)\n",
      "Skipping octree #<GENERIC-OCTREE >  data: NIL origin: '( -2.92885 0.906362 7.33389)\n",
      "Skipping octree #<GENERIC-OCTREE >  data: NIL origin: '( -2.92885 0.906362 8.91987)\n",
      "Skipping octree #<GENERIC-OCTREE >  data: NIL origin: '( -2.16754 0.218872 7.33389)\n",
      "Skipping octree #<GENERIC-OCTREE >  data: NIL origin: '( -2.16754 0.218872 8.91987)\n",
      "Skipping octree #<GENERIC-OCTREE >  data: NIL origin: '( -2.16754 0.906362 7.33389)\n",
      "Skipping octree #<GENERIC-OCTREE >  data: NIL origin: '( -2.5482 1.9376 8.12688)\n",
      "Skipping octree #<GENERIC-OCTREE >  data: NIL origin: '( -1.02559 1.9376 11.2988)\n",
      "Skipping octree #<GENERIC-OCTREE >  data: NIL origin: '( -1.40624 1.59385 10.5059)\n",
      "Skipping octree #<GENERIC-OCTREE >  data: NIL origin: '( -1.40624 1.59385 12.0918)\n",
      "Skipping octree #<GENERIC-OCTREE >  data: NIL origin: '( -1.40624 2.28134 10.5059)\n",
      "Skipping octree #<GENERIC-OCTREE >  data: NIL origin: '( -0.644939 1.59385 12.0918)\n",
      "Skipping octree #<GENERIC-OCTREE >  data: NIL origin: '( -0.644939 2.28134 10.5059)\n",
      "Skipping octree #<GENERIC-OCTREE >  data: NIL origin: '( -0.644939 2.28134 12.0918)\n",
      "Skipping octree #<GENERIC-OCTREE >  data: NIL origin: '( -1.78689 4.00007 3.36895)\n",
      "Skipping octree #<GENERIC-OCTREE >  data: NIL origin: '( -1.78689 4.00007 9.71286)\n",
      "Skipping octree #<GENERIC-OCTREE >  data: NIL origin: '( -2.5482 3.31258 8.12688)\n",
      "Skipping octree #<GENERIC-OCTREE >  data: NIL origin: '( -2.92885 2.96883 7.33389)\n",
      "Skipping octree #<GENERIC-OCTREE >  data: NIL origin: '( -2.92885 3.65633 7.33389)\n",
      "Skipping octree #<GENERIC-OCTREE >  data: NIL origin: '( -2.92885 3.65633 8.91987)\n",
      "Skipping octree #<GENERIC-OCTREE >  data: NIL origin: '( -2.16754 2.96883 7.33389)\n",
      "Skipping octree #<GENERIC-OCTREE >  data: NIL origin: '( -2.16754 3.65633 7.33389)\n",
      "Skipping octree #<GENERIC-OCTREE >  data: NIL origin: '( -2.16754 3.65633 8.91987)\n",
      "Skipping octree #<GENERIC-OCTREE >  data: NIL origin: '( -2.5482 4.68756 8.12688)\n",
      "Skipping octree #<GENERIC-OCTREE >  data: NIL origin: '( -2.5482 4.68756 11.2988)\n",
      "Skipping octree #<GENERIC-OCTREE >  data: NIL origin: '( -1.02559 3.31258 11.2988)\n",
      "Skipping octree #<GENERIC-OCTREE >  data: NIL origin: '( -1.02559 4.68756 8.12688)\n",
      "Skipping octree #<GENERIC-OCTREE >  data: NIL origin: '( -1.02559 4.68756 11.2988)\n",
      "Skipping octree #<GENERIC-OCTREE >  data: NIL origin: '( 2.78092 -2.87484 -6.14693)\n",
      "Skipping octree #<GENERIC-OCTREE >  data: NIL origin: '( 1.25832 -4.24982 -9.31888)\n",
      "Skipping octree #<GENERIC-OCTREE >  data: NIL origin: '( 1.25832 -4.24982 -2.97497)\n",
      "Skipping octree #<GENERIC-OCTREE >  data: NIL origin: '( 1.25832 -1.49986 -9.31888)\n",
      "Skipping octree #<GENERIC-OCTREE >  data: NIL origin: '( 0.497015 -2.18735 -10.9049)\n",
      "Skipping octree #<GENERIC-OCTREE >  data: NIL origin: '( 0.497015 -2.18735 -7.7329)\n",
      "Skipping octree #<GENERIC-OCTREE >  data: NIL origin: '( 0.116364 -2.53109 -8.52589)\n",
      "Skipping octree #<GENERIC-OCTREE >  data: NIL origin: '( 0.116364 -2.53109 -6.93991)\n",
      "Skipping octree #<GENERIC-OCTREE >  data: NIL origin: '( 0.116364 -1.8436 -6.93991)\n",
      "Skipping octree #<GENERIC-OCTREE >  data: NIL origin: '( 0.877666 -1.8436 -6.93991)\n",
      "Skipping octree #<GENERIC-OCTREE >  data: NIL origin: '( 0.497015 -0.812364 -10.9049)\n",
      "Skipping octree #<GENERIC-OCTREE >  data: NIL origin: '( 0.116364 -1.15611 -11.6979)\n",
      "Skipping octree #<GENERIC-OCTREE >  data: NIL origin: '( 0.116364 -1.15611 -10.1119)\n",
      "Skipping octree #<GENERIC-OCTREE >  data: NIL origin: '( 0.116364 -0.468619 -11.6979)\n",
      "Skipping octree #<GENERIC-OCTREE >  data: NIL origin: '( 0.116364 -0.468619 -10.1119)\n",
      "Skipping octree #<GENERIC-OCTREE >  data: NIL origin: '( 0.877666 -1.15611 -11.6979)\n",
      "Skipping octree #<GENERIC-OCTREE >  data: NIL origin: '( 0.877666 -0.468619 -11.6979)\n",
      "Skipping octree #<GENERIC-OCTREE >  data: NIL origin: '( 2.01962 -2.18735 -10.9049)\n",
      "Skipping octree #<GENERIC-OCTREE >  data: NIL origin: '( 2.01962 -2.18735 -7.7329)\n",
      "Skipping octree #<GENERIC-OCTREE >  data: NIL origin: '( 1.63897 -2.53109 -8.52589)\n",
      "Skipping octree #<GENERIC-OCTREE >  data: NIL origin: '( 1.63897 -2.53109 -6.93991)\n",
      "Skipping octree #<GENERIC-OCTREE >  data: NIL origin: '( 1.63897 -1.8436 -8.52589)\n",
      "Skipping octree #<GENERIC-OCTREE >  data: NIL origin: '( 2.40027 -2.53109 -8.52589)\n",
      "Skipping octree #<GENERIC-OCTREE >  data: NIL origin: '( 2.40027 -1.8436 -8.52589)\n",
      "Skipping octree #<GENERIC-OCTREE >  data: NIL origin: '( 2.40027 -1.8436 -6.93991)\n",
      "Skipping octree #<GENERIC-OCTREE >  data: NIL origin: '( 2.01962 -0.812364 -7.7329)\n",
      "Skipping octree #<GENERIC-OCTREE >  data: NIL origin: '( 1.63897 -1.15611 -8.52589)\n",
      "Skipping octree #<GENERIC-OCTREE >  data: NIL origin: '( 1.63897 -0.468619 -8.52589)\n",
      "Skipping octree #<GENERIC-OCTREE >  data: NIL origin: '( 1.63897 -0.468619 -6.93991)\n",
      "Skipping octree #<GENERIC-OCTREE >  data: NIL origin: '( 2.40027 -1.15611 -8.52589)\n",
      "Skipping octree #<GENERIC-OCTREE >  data: NIL origin: '( 2.40027 -1.15611 -6.93991)\n",
      "Skipping octree #<GENERIC-OCTREE >  data: NIL origin: '( 2.40027 -0.468619 -8.52589)\n",
      "Skipping octree #<GENERIC-OCTREE >  data: NIL origin: '( 1.25832 -1.49986 -2.97497)\n",
      "Skipping octree #<GENERIC-OCTREE >  data: NIL origin: '( 0.497015 -2.18735 -4.56095)\n",
      "Skipping octree #<GENERIC-OCTREE >  data: NIL origin: '( 0.497015 -2.18735 -1.38899)\n",
      "Skipping octree #<GENERIC-OCTREE >  data: NIL origin: '( 0.497015 -0.812364 -1.38899)\n",
      "Skipping octree #<GENERIC-OCTREE >  data: NIL origin: '( 2.01962 -2.18735 -4.56095)\n",
      "Skipping octree #<GENERIC-OCTREE >  data: NIL origin: '( 1.63897 -2.53109 -5.35394)\n",
      "Skipping octree #<GENERIC-OCTREE >  data: NIL origin: '( 1.63897 -1.8436 -3.76796)\n",
      "Skipping octree #<GENERIC-OCTREE >  data: NIL origin: '( 2.40027 -2.53109 -5.35394)\n",
      "Skipping octree #<GENERIC-OCTREE >  data: NIL origin: '( 2.40027 -2.53109 -3.76796)\n",
      "Skipping octree #<GENERIC-OCTREE >  data: NIL origin: '( 2.40027 -1.8436 -5.35394)\n",
      "Skipping octree #<GENERIC-OCTREE >  data: NIL origin: '( 2.40027 -1.8436 -3.76796)\n",
      "Skipping octree #<GENERIC-OCTREE >  data: NIL origin: '( 2.01962 -2.18735 -1.38899)\n",
      "Skipping octree #<GENERIC-OCTREE >  data: NIL origin: '( 4.30353 -4.24982 -9.31888)\n",
      "Skipping octree #<GENERIC-OCTREE >  data: NIL origin: '( 4.30353 -4.24982 -2.97497)\n",
      "Skipping octree #<GENERIC-OCTREE >  data: NIL origin: '( 4.30353 -1.49986 -9.31888)\n",
      "Skipping octree #<GENERIC-OCTREE >  data: NIL origin: '( 3.54223 -2.18735 -10.9049)\n",
      "Skipping octree #<GENERIC-OCTREE >  data: NIL origin: '( 3.16157 -1.8436 -11.6979)\n",
      "Skipping octree #<GENERIC-OCTREE >  data: NIL origin: '( 3.92288 -2.53109 -11.6979)\n",
      "Skipping octree #<GENERIC-OCTREE >  data: NIL origin: '( 3.92288 -2.53109 -10.1119)\n",
      "Skipping octree #<GENERIC-OCTREE >  data: NIL origin: '( 3.92288 -1.8436 -11.6979)\n",
      "Skipping octree #<GENERIC-OCTREE >  data: NIL origin: '( 3.92288 -1.8436 -10.1119)\n",
      "Skipping octree #<GENERIC-OCTREE >  data: NIL origin: '( 3.54223 -2.18735 -7.7329)\n",
      "Skipping octree #<GENERIC-OCTREE >  data: NIL origin: '( 3.54223 -0.812364 -10.9049)\n",
      "Skipping octree #<GENERIC-OCTREE >  data: NIL origin: '( 3.54223 -0.812364 -7.7329)\n",
      "Skipping octree #<GENERIC-OCTREE >  data: NIL origin: '( 5.06483 -2.18735 -7.7329)\n",
      "Skipping octree #<GENERIC-OCTREE >  data: NIL origin: '( 5.06483 -0.812364 -10.9049)\n",
      "Skipping octree #<GENERIC-OCTREE >  data: NIL origin: '( 5.06483 -0.812364 -7.7329)\n",
      "Skipping octree #<GENERIC-OCTREE >  data: NIL origin: '( 4.30353 -1.49986 -2.97497)\n",
      "Skipping octree #<GENERIC-OCTREE >  data: NIL origin: '( 3.54223 -2.18735 -4.56095)\n",
      "Skipping octree #<GENERIC-OCTREE >  data: NIL origin: '( 3.54223 -2.18735 -1.38899)\n",
      "Skipping octree #<GENERIC-OCTREE >  data: NIL origin: '( 5.06483 -2.18735 -4.56095)\n",
      "Skipping octree #<GENERIC-OCTREE >  data: NIL origin: '( 5.06483 -2.18735 -1.38899)\n",
      "Skipping octree #<GENERIC-OCTREE >  data: NIL origin: '( 5.06483 -0.812364 -4.56095)\n",
      "Skipping octree #<GENERIC-OCTREE >  data: NIL origin: '( 5.06483 -0.812364 -1.38899)\n",
      "Skipping octree #<GENERIC-OCTREE >  data: NIL origin: '( 2.78092 -2.87484 6.5409)\n",
      "Skipping octree #<GENERIC-OCTREE >  data: NIL origin: '( 1.25832 -4.24982 3.36895)\n",
      "Skipping octree #<GENERIC-OCTREE >  data: NIL origin: '( 0.497015 -4.93731 1.78297)\n",
      "Skipping octree #<GENERIC-OCTREE >  data: NIL origin: '( 0.497015 -4.93731 4.95493)\n",
      "Skipping octree #<GENERIC-OCTREE >  data: NIL origin: '( 0.497015 -3.56233 1.78297)\n",
      "Skipping octree #<GENERIC-OCTREE >  data: NIL origin: '( 0.497015 -3.56233 4.95493)\n",
      "Skipping octree #<GENERIC-OCTREE >  data: NIL origin: '( 0.116364 -3.90607 4.16194)\n",
      "Skipping octree #<GENERIC-OCTREE >  data: NIL origin: '( 0.116364 -3.90607 5.74792)\n",
      "Skipping octree #<GENERIC-OCTREE >  data: NIL origin: '( 0.116364 -3.21858 5.74792)\n",
      "Skipping octree #<GENERIC-OCTREE >  data: NIL origin: '( 0.877666 -3.90607 4.16194)\n",
      "Skipping octree #<GENERIC-OCTREE >  data: NIL origin: '( 0.877666 -3.90607 5.74792)\n",
      "Skipping octree #<GENERIC-OCTREE >  data: NIL origin: '( 0.877666 -3.21858 5.74792)\n",
      "Skipping octree #<GENERIC-OCTREE >  data: NIL origin: '( 2.01962 -4.93731 1.78297)\n",
      "Skipping octree #<GENERIC-OCTREE >  data: NIL origin: '( 2.01962 -3.56233 1.78297)\n",
      "Skipping octree #<GENERIC-OCTREE >  data: NIL origin: '( 1.25832 -4.24982 9.71286)\n",
      "Skipping octree #<GENERIC-OCTREE >  data: NIL origin: '( 1.25832 -1.49986 3.36895)\n",
      "Skipping octree #<GENERIC-OCTREE >  data: NIL origin: '( 0.497015 -2.18735 4.95493)\n",
      "Skipping octree #<GENERIC-OCTREE >  data: NIL origin: '( 0.497015 -0.812364 1.78297)\n",
      "Skipping octree #<GENERIC-OCTREE >  data: NIL origin: '( 0.497015 -0.812364 4.95493)\n",
      "Skipping octree #<GENERIC-OCTREE >  data: NIL origin: '( 2.01962 -2.18735 1.78297)\n",
      "Skipping octree #<GENERIC-OCTREE >  data: NIL origin: '( 2.01962 -0.812364 1.78297)\n",
      "Skipping octree #<GENERIC-OCTREE >  data: NIL origin: '( 2.01962 -0.812364 4.95493)\n",
      "Skipping octree #<GENERIC-OCTREE >  data: NIL origin: '( 1.25832 -1.49986 9.71286)\n",
      "Skipping octree #<GENERIC-OCTREE >  data: NIL origin: '( 0.497015 -2.18735 11.2988)\n",
      "Skipping octree #<GENERIC-OCTREE >  data: NIL origin: '( 0.497015 -0.812364 8.12688)\n",
      "Skipping octree #<GENERIC-OCTREE >  data: NIL origin: '( 0.116364 -1.15611 7.33389)\n",
      "Skipping octree #<GENERIC-OCTREE >  data: NIL origin: '( 0.116364 -1.15611 8.91987)\n",
      "Skipping octree #<GENERIC-OCTREE >  data: NIL origin: '( 0.116364 -0.468619 7.33389)\n",
      "Skipping octree #<GENERIC-OCTREE >  data: NIL origin: '( 0.116364 -0.468619 8.91987)\n",
      "Skipping octree #<GENERIC-OCTREE >  data: NIL origin: '( 0.877666 -0.468619 7.33389)\n",
      "Skipping octree #<GENERIC-OCTREE >  data: NIL origin: '( 0.877666 -0.468619 8.91987)\n",
      "Skipping octree #<GENERIC-OCTREE >  data: NIL origin: '( 0.497015 -0.812364 11.2988)\n",
      "Skipping octree #<GENERIC-OCTREE >  data: NIL origin: '( 2.01962 -2.18735 11.2988)\n",
      "Skipping octree #<GENERIC-OCTREE >  data: NIL origin: '( 2.01962 -0.812364 11.2988)\n",
      "Skipping octree #<GENERIC-OCTREE >  data: NIL origin: '( 4.30353 -4.24982 3.36895)\n",
      "Skipping octree #<GENERIC-OCTREE >  data: NIL origin: '( 4.30353 -4.24982 9.71286)\n",
      "Skipping octree #<GENERIC-OCTREE >  data: NIL origin: '( 4.30353 -1.49986 3.36895)\n",
      "Skipping octree #<GENERIC-OCTREE >  data: NIL origin: '( 3.54223 -2.18735 1.78297)\n",
      "Skipping octree #<GENERIC-OCTREE >  data: NIL origin: '( 3.54223 -2.18735 4.95493)\n",
      "Skipping octree #<GENERIC-OCTREE >  data: NIL origin: '( 3.16157 -2.53109 4.16194)\n",
      "Skipping octree #<GENERIC-OCTREE >  data: NIL origin: '( 3.16157 -2.53109 5.74792)\n",
      "Skipping octree #<GENERIC-OCTREE >  data: NIL origin: '( 3.16157 -1.8436 4.16194)\n",
      "Skipping octree #<GENERIC-OCTREE >  data: NIL origin: '( 3.92288 -2.53109 5.74792)\n",
      "Skipping octree #<GENERIC-OCTREE >  data: NIL origin: '( 3.92288 -1.8436 4.16194)\n",
      "Skipping octree #<GENERIC-OCTREE >  data: NIL origin: '( 3.92288 -1.8436 5.74792)\n",
      "Skipping octree #<GENERIC-OCTREE >  data: NIL origin: '( 3.54223 -0.812364 1.78297)\n",
      "Skipping octree #<GENERIC-OCTREE >  data: NIL origin: '( 3.54223 -0.812364 4.95493)\n",
      "Skipping octree #<GENERIC-OCTREE >  data: NIL origin: '( 3.16157 -1.15611 4.16194)\n",
      "Skipping octree #<GENERIC-OCTREE >  data: NIL origin: '( 3.16157 -1.15611 5.74792)\n",
      "Skipping octree #<GENERIC-OCTREE >  data: NIL origin: '( 3.16157 -0.468619 4.16194)\n",
      "Skipping octree #<GENERIC-OCTREE >  data: NIL origin: '( 3.92288 -1.15611 4.16194)\n",
      "Skipping octree #<GENERIC-OCTREE >  data: NIL origin: '( 3.92288 -1.15611 5.74792)\n",
      "Skipping octree #<GENERIC-OCTREE >  data: NIL origin: '( 3.92288 -0.468619 5.74792)\n",
      "Skipping octree #<GENERIC-OCTREE >  data: NIL origin: '( 5.06483 -2.18735 1.78297)\n",
      "Skipping octree #<GENERIC-OCTREE >  data: NIL origin: '( 5.06483 -2.18735 4.95493)\n",
      "Skipping octree #<GENERIC-OCTREE >  data: NIL origin: '( 5.06483 -0.812364 1.78297)\n",
      "Skipping octree #<GENERIC-OCTREE >  data: NIL origin: '( 2.78092 2.62509 -6.14693)\n",
      "Skipping octree #<GENERIC-OCTREE >  data: NIL origin: '( 1.25832 1.25011 -9.31888)\n",
      "Skipping octree #<GENERIC-OCTREE >  data: NIL origin: '( 0.497015 0.562617 -7.7329)\n",
      "Skipping octree #<GENERIC-OCTREE >  data: NIL origin: '( 0.497015 1.9376 -10.9049)\n",
      "Skipping octree #<GENERIC-OCTREE >  data: NIL origin: '( 0.497015 1.9376 -7.7329)\n",
      "Skipping octree #<GENERIC-OCTREE >  data: NIL origin: '( 2.01962 0.562617 -7.7329)\n",
      "Skipping octree #<GENERIC-OCTREE >  data: NIL origin: '( 2.01962 1.9376 -10.9049)\n",
      "Skipping octree #<GENERIC-OCTREE >  data: NIL origin: '( 2.01962 1.9376 -7.7329)\n",
      "Skipping octree #<GENERIC-OCTREE >  data: NIL origin: '( 1.25832 1.25011 -2.97497)\n",
      "Skipping octree #<GENERIC-OCTREE >  data: NIL origin: '( 0.497015 0.562617 -4.56095)\n",
      "Skipping octree #<GENERIC-OCTREE >  data: NIL origin: '( 0.497015 1.9376 -4.56095)\n",
      "Skipping octree #<GENERIC-OCTREE >  data: NIL origin: '( 0.497015 1.9376 -1.38899)\n",
      "Skipping octree #<GENERIC-OCTREE >  data: NIL origin: '( 2.01962 0.562617 -4.56095)\n",
      "Skipping octree #<GENERIC-OCTREE >  data: NIL origin: '( 2.01962 1.9376 -1.38899)\n",
      "Skipping octree #<GENERIC-OCTREE >  data: NIL origin: '( 1.63897 1.59385 -2.18198)\n",
      "Skipping octree #<GENERIC-OCTREE >  data: NIL origin: '( 1.63897 1.59385 -0.596)\n",
      "Skipping octree #<GENERIC-OCTREE >  data: NIL origin: '( 1.63897 2.28134 -0.596)\n",
      "Skipping octree #<GENERIC-OCTREE >  data: NIL origin: '( 2.40027 1.59385 -2.18198)\n",
      "Skipping octree #<GENERIC-OCTREE >  data: NIL origin: '( 2.20995 1.42198 -1.78548)\n",
      "Skipping octree #<GENERIC-OCTREE >  data: NIL origin: '( 2.20995 1.76573 -2.57847)\n",
      "Skipping octree #<GENERIC-OCTREE >  data: NIL origin: '( 2.5906 1.42198 -2.57847)\n",
      "Skipping octree #<GENERIC-OCTREE >  data: NIL origin: '( 2.5906 1.42198 -1.78548)\n",
      "Skipping octree #<GENERIC-OCTREE >  data: NIL origin: '( 2.5906 1.76573 -2.57847)\n",
      "Skipping octree #<GENERIC-OCTREE >  data: NIL origin: '( 2.5906 1.76573 -1.78548)\n",
      "Skipping octree #<GENERIC-OCTREE >  data: NIL origin: '( 2.40027 1.59385 -0.596)\n",
      "Skipping octree #<GENERIC-OCTREE >  data: NIL origin: '( 2.40027 2.28134 -2.18198)\n",
      "Skipping octree #<GENERIC-OCTREE >  data: NIL origin: '( 2.40027 2.28134 -0.596)\n",
      "Skipping octree #<GENERIC-OCTREE >  data: NIL origin: '( 1.25832 4.00007 -9.31888)\n",
      "Skipping octree #<GENERIC-OCTREE >  data: NIL origin: '( 4.30353 1.25011 -2.97497)\n",
      "Skipping octree #<GENERIC-OCTREE >  data: NIL origin: '( 3.54223 0.562617 -4.56095)\n",
      "Skipping octree #<GENERIC-OCTREE >  data: NIL origin: '( 3.16157 0.906362 -5.35394)\n",
      "Skipping octree #<GENERIC-OCTREE >  data: NIL origin: '( 3.16157 0.906362 -3.76796)\n",
      "Skipping octree #<GENERIC-OCTREE >  data: NIL origin: '( 3.92288 0.218872 -5.35394)\n",
      "Skipping octree #<GENERIC-OCTREE >  data: NIL origin: '( 3.92288 0.218872 -3.76796)\n",
      "Skipping octree #<GENERIC-OCTREE >  data: NIL origin: '( 3.92288 0.906362 -5.35394)\n",
      "Skipping octree #<GENERIC-OCTREE >  data: NIL origin: '( 3.92288 0.906362 -3.76796)\n",
      "Skipping octree #<GENERIC-OCTREE >  data: NIL origin: '( 3.54223 0.562617 -1.38899)\n",
      "Skipping octree #<GENERIC-OCTREE >  data: NIL origin: '( 3.54223 1.9376 -1.38899)\n",
      "Skipping octree #<GENERIC-OCTREE >  data: NIL origin: '( 3.16157 1.59385 -2.18198)\n",
      "Skipping octree #<GENERIC-OCTREE >  data: NIL origin: '( 3.16157 1.59385 -0.596)\n",
      "Skipping octree #<GENERIC-OCTREE >  data: NIL origin: '( 3.16157 2.28134 -2.18198)\n",
      "Skipping octree #<GENERIC-OCTREE >  data: NIL origin: '( 3.92288 1.59385 -2.18198)\n",
      "Skipping octree #<GENERIC-OCTREE >  data: NIL origin: '( 3.92288 2.28134 -2.18198)\n",
      "Skipping octree #<GENERIC-OCTREE >  data: NIL origin: '( 3.92288 2.28134 -0.596)\n",
      "Skipping octree #<GENERIC-OCTREE >  data: NIL origin: '( 5.06483 0.562617 -4.56095)\n",
      "Skipping octree #<GENERIC-OCTREE >  data: NIL origin: '( 5.06483 0.562617 -1.38899)\n",
      "Skipping octree #<GENERIC-OCTREE >  data: NIL origin: '( 5.06483 1.9376 -4.56095)\n",
      "Skipping octree #<GENERIC-OCTREE >  data: NIL origin: '( 5.06483 1.9376 -1.38899)\n",
      "Skipping octree #<GENERIC-OCTREE >  data: NIL origin: '( 4.30353 4.00007 -9.31888)\n",
      "Skipping octree #<GENERIC-OCTREE >  data: NIL origin: '( 2.78092 2.62509 6.5409)\n",
      "Skipping octree #<GENERIC-OCTREE >  data: NIL origin: '( 1.25832 1.25011 3.36895)\n",
      "Skipping octree #<GENERIC-OCTREE >  data: NIL origin: '( 0.497015 0.562617 1.78297)\n",
      "Skipping octree #<GENERIC-OCTREE >  data: NIL origin: '( 0.497015 0.562617 4.95493)\n",
      "Skipping octree #<GENERIC-OCTREE >  data: NIL origin: '( 0.497015 1.9376 1.78297)\n",
      "Skipping octree #<GENERIC-OCTREE >  data: NIL origin: '( 0.497015 1.9376 4.95493)\n",
      "Skipping octree #<GENERIC-OCTREE >  data: NIL origin: '( 2.01962 0.562617 1.78297)\n",
      "Skipping octree #<GENERIC-OCTREE >  data: NIL origin: '( 2.01962 0.562617 4.95493)\n",
      "Skipping octree #<GENERIC-OCTREE >  data: NIL origin: '( 1.25832 1.25011 9.71286)\n",
      "Skipping octree #<GENERIC-OCTREE >  data: NIL origin: '( 0.497015 0.562617 11.2988)\n",
      "Skipping octree #<GENERIC-OCTREE >  data: NIL origin: '( 0.497015 1.9376 8.12688)\n",
      "Skipping octree #<GENERIC-OCTREE >  data: NIL origin: '( 2.01962 0.562617 8.12688)\n",
      "Skipping octree #<GENERIC-OCTREE >  data: NIL origin: '( 2.01962 0.562617 11.2988)\n",
      "Skipping octree #<GENERIC-OCTREE >  data: NIL origin: '( 2.01962 1.9376 8.12688)\n",
      "Skipping octree #<GENERIC-OCTREE >  data: NIL origin: '( 2.01962 1.9376 11.2988)\n",
      "Skipping octree #<GENERIC-OCTREE >  data: NIL origin: '( 1.25832 4.00007 9.71286)\n",
      "Skipping octree #<GENERIC-OCTREE >  data: NIL origin: '( 4.30353 1.25011 3.36895)\n",
      "Skipping octree #<GENERIC-OCTREE >  data: NIL origin: '( 3.54223 0.562617 4.95493)\n",
      "Skipping octree #<GENERIC-OCTREE >  data: NIL origin: '( 3.16157 0.218872 4.16194)\n",
      "Skipping octree #<GENERIC-OCTREE >  data: NIL origin: '( 3.16157 0.906362 5.74792)\n",
      "Skipping octree #<GENERIC-OCTREE >  data: NIL origin: '( 3.92288 0.218872 4.16194)\n",
      "Skipping octree #<GENERIC-OCTREE >  data: NIL origin: '( 3.92288 0.218872 5.74792)\n",
      "Skipping octree #<GENERIC-OCTREE >  data: NIL origin: '( 3.92288 0.906362 4.16194)\n",
      "Skipping octree #<GENERIC-OCTREE >  data: NIL origin: '( 3.92288 0.906362 5.74792)\n",
      "Skipping octree #<GENERIC-OCTREE >  data: NIL origin: '( 3.54223 1.9376 1.78297)\n",
      "Skipping octree #<GENERIC-OCTREE >  data: NIL origin: '( 3.16157 1.59385 0.989979)\n",
      "Skipping octree #<GENERIC-OCTREE >  data: NIL origin: '( 3.16157 1.59385 2.57596)\n",
      "Skipping octree #<GENERIC-OCTREE >  data: NIL origin: '( 3.16157 2.28134 2.57596)\n",
      "Skipping octree #<GENERIC-OCTREE >  data: NIL origin: '( 3.92288 1.59385 0.989979)\n",
      "Skipping octree #<GENERIC-OCTREE >  data: NIL origin: '( 3.92288 2.28134 0.989979)\n",
      "Skipping octree #<GENERIC-OCTREE >  data: NIL origin: '( 3.92288 2.28134 2.57596)\n",
      "Skipping octree #<GENERIC-OCTREE >  data: NIL origin: '( 3.54223 1.9376 4.95493)\n",
      "Skipping octree #<GENERIC-OCTREE >  data: NIL origin: '( 5.06483 0.562617 1.78297)\n",
      "Skipping octree #<GENERIC-OCTREE >  data: NIL origin: '( 5.06483 0.562617 4.95493)\n",
      "generic-octree-data -> residue: #<RESIDUE :PA @0x134c29688>   atom: #<ATOM :H2R/:H @0x1364e7a59>\n"
     ]
    },
    {
     "name": "stderr",
     "output_type": "stream",
     "text": [
      "\n",
      "Undefined variable *OCTREE-STACK*\n"
     ]
    },
    {
     "data": {
      "text/plain": [
       "(132\n",
       " #(#<GENERIC-OCTREE > #<GENERIC-OCTREE > #<GENERIC-OCTREE > #<GENERIC-OCTREE >))"
      ]
     },
     "execution_count": 51,
     "metadata": {},
     "output_type": "execute_result"
    }
   ],
   "source": [
    "(defparameter *octree-stack* (multiple-value-list (membrane-packer::find-ga-lipid-octree *l2* *sr2* *n2*)))\n",
    "*octree-stack*"
   ]
  },
  {
   "cell_type": "markdown",
   "metadata": {},
   "source": [
    "Get the position of the source atom"
   ]
  },
  {
   "cell_type": "code",
   "execution_count": 52,
   "metadata": {},
   "outputs": [
    {
     "name": "stderr",
     "output_type": "stream",
     "text": [
      "\n",
      "Undefined variable *STACK*\n"
     ]
    },
    {
     "data": {
      "text/plain": [
       "#(#<GENERIC-OCTREE > #<GENERIC-OCTREE > #<GENERIC-OCTREE > #<GENERIC-OCTREE >)"
      ]
     },
     "execution_count": 52,
     "metadata": {},
     "output_type": "execute_result"
    }
   ],
   "source": [
    "(defparameter *stack* (second *octree-stack*))\n",
    "*stack*"
   ]
  },
  {
   "cell_type": "code",
   "execution_count": 53,
   "metadata": {},
   "outputs": [
    {
     "data": {
      "text/plain": [
       "#<BOUNDING-BOX >"
      ]
     },
     "execution_count": 53,
     "metadata": {},
     "output_type": "execute_result"
    }
   ],
   "source": [
    "(membrane-packer::bounding-box *memb*)"
   ]
  },
  {
   "cell_type": "code",
   "execution_count": 54,
   "metadata": {},
   "outputs": [
    {
     "data": {
      "text/plain": [
       "'( -12.02 -53.6056 12.6495)"
      ]
     },
     "execution_count": 54,
     "metadata": {},
     "output_type": "execute_result"
    }
   ],
   "source": [
    "*memb-pos1*"
   ]
  },
  {
   "cell_type": "code",
   "execution_count": 55,
   "metadata": {},
   "outputs": [
    {
     "name": "stdout",
     "output_type": "stream",
     "text": [
      "-------- getPointsWithinCutoff  depth 0    isLeafNode -> 0     this->_data.boundp() -> 0\n",
      " x_size, y_size, z_size: 94.868332, 91.287117, 60.000000 | x_rsize, y_rsize, z_rsize: 0.010541, 0.010954, 0.016667\n",
      "querypoint -> -12.020044 -53.605571 12.649463\n",
      "this->_children[0]->_origin -> -3.309498 -2.874837 -6.146925\n",
      "this->_children[0]->_halfDimension -> 3.045210 2.749963 6.343915\n",
      "skipping child dx->8.710546 > this->_children[0]->_halfDimension.getX()+cutoff->4.245210 \n",
      "this->_children[1]->_origin -> -3.309498 -2.874837 6.540905\n",
      "this->_children[1]->_halfDimension -> 3.045210 2.749963 6.343915\n",
      "skipping child dx->8.710546 > this->_children[1]->_halfDimension.getX()+cutoff->4.245210 \n",
      "this->_children[2]->_origin -> -3.309498 2.625089 -6.146925\n",
      "this->_children[2]->_halfDimension -> 3.045210 2.749963 6.343915\n",
      "skipping child dx->8.710546 > this->_children[2]->_halfDimension.getX()+cutoff->4.245210 \n",
      "this->_children[3]->_origin -> -3.309498 2.625089 6.540905\n",
      "this->_children[3]->_halfDimension -> 3.045210 2.749963 6.343915\n",
      "skipping child dx->8.710546 > this->_children[3]->_halfDimension.getX()+cutoff->4.245210 \n",
      "this->_children[4]->_origin -> 2.780923 -2.874837 -6.146925\n",
      "this->_children[4]->_halfDimension -> 3.045210 2.749963 6.343915\n",
      "skipping child dx->14.800967 > this->_children[4]->_halfDimension.getX()+cutoff->4.245210 \n",
      "this->_children[5]->_origin -> 2.780923 -2.874837 6.540905\n",
      "this->_children[5]->_halfDimension -> 3.045210 2.749963 6.343915\n",
      "skipping child dx->14.800967 > this->_children[5]->_halfDimension.getX()+cutoff->4.245210 \n",
      "this->_children[6]->_origin -> 2.780923 2.625089 -6.146925\n",
      "this->_children[6]->_halfDimension -> 3.045210 2.749963 6.343915\n",
      "skipping child dx->14.800967 > this->_children[6]->_halfDimension.getX()+cutoff->4.245210 \n",
      "this->_children[7]->_origin -> 2.780923 2.625089 6.540905\n",
      "this->_children[7]->_halfDimension -> 3.045210 2.749963 6.343915\n",
      "skipping child dx->14.800967 > this->_children[7]->_halfDimension.getX()+cutoff->4.245210 \n"
     ]
    },
    {
     "name": "stderr",
     "output_type": "stream",
     "text": [
      "\n",
      "Undefined variable *TEST-COLLISIONS*\n",
      "\n",
      "Undefined variable *TEST-COLLISIONS*\n"
     ]
    },
    {
     "data": {
      "text/plain": [
       "#()"
      ]
     },
     "execution_count": 55,
     "metadata": {},
     "output_type": "execute_result"
    }
   ],
   "source": [
    "(defparameter *test-collisions* (membrane-packer::make-collisions))\n",
    "(let ((chem:*debug-octree* t))\n",
    "  (chem:generic-octree-get-points-within-cutoff (elt *stack* 0)\n",
    "                                                membrane-packer::*close-distance*\n",
    "                                                :dummy-value\n",
    "                                                *memb-pos1*\n",
    "                                                (membrane-packer::bounding-box *memb*)\n",
    "                                                (membrane-packer::indices *test-collisions*)))\n",
    "(membrane-packer::indices *test-collisions*)"
   ]
  },
  {
   "cell_type": "code",
   "execution_count": 58,
   "metadata": {},
   "outputs": [
    {
     "data": {
      "text/plain": [
       "(126\n",
       " #(#<GENERIC-OCTREE > #<GENERIC-OCTREE > #<GENERIC-OCTREE > #<GENERIC-OCTREE >))"
      ]
     },
     "execution_count": 58,
     "metadata": {},
     "output_type": "execute_result"
    }
   ],
   "source": [
    "*octree-stack*"
   ]
  },
  {
   "cell_type": "code",
   "execution_count": 44,
   "metadata": {},
   "outputs": [
    {
     "name": "stderr",
     "output_type": "stream",
     "text": [
      "\n",
      "An error occurred of type: TASK-KILLED-ERROR: \n",
      "  The task was killed.\n",
      "\n",
      "serious-condition backtrace:\n",
      "0: (ERROR #<LPARALLEL.KERNEL:TASK-KILLED-ERROR>)\n",
      "1: UNWRAP-RESULT\n",
      "2: (RECEIVE-RESULT #S(LPARALLEL.KERNEL:CHANNEL :QUEUE #S(LPARALLEL.CONS-QUEUE:CONS-QUEUE :IMPL #S(LPARALLEL.RAW-QUEUE:RAW-QUEUE :HEAD (#S(LPARALLEL.KERNEL::WRAPPED-ERROR :VALUE #<LPARALLEL.KERNEL:TASK-KILLED-ERROR>) #S(LPARALLEL.KERNEL::WRAPPED-ERROR :VALUE #<LPARALLEL.KERNEL:TASK-KILLED-ERROR>) #S(LPARALLEL.KERNEL::WRAPPED-ERROR :VALUE #<LPARALLEL.KERNEL:TASK-KILLED-ERROR>) #S(LPARALLEL.KERNEL::WRAPPED-ERROR :VALUE #<LPARALLEL.KERNEL:TASK-KILLED-ERROR>) #S(LPARALLEL.KERNEL::WRAPPED-ERROR :VALUE #<LPARALLEL.KERNEL:TASK-KILLED-ERROR>) #S(LPARALLEL.KERNEL::WRAPPED-ERROR :VALUE #<LPARALLEL.KERNEL:TASK-KILLED-ERROR>) #S(LPARALLEL.KERNEL::WRAPPED-ERROR :VALUE #<LPARALLEL.KERNEL:TASK-KILLED-ERROR>) #S(LPARALLEL.KERNEL::WRAPPED-ERROR :VALUE #<LPARALLEL.KERNEL:TASK-KILLED-ERROR>) #S(LPARALLEL.KERNEL::WRAPPED-ERROR :VALUE #<LPARALLEL.KERNEL:TASK-KILLED-ERROR>) #S(LPARALLEL.KERNEL::WRAPPED-ERROR :VALUE #<LPARALLEL.KERNEL:TASK-KILLED-ERROR>) #S(LPARALLEL.KERNEL::WRAPPED-ERROR :VALUE #<LPARALLEL.KERNEL:TASK-KILLED-ERROR>)) :TAIL (#S(LPARALLEL.KERNEL::WRAPPED-ERROR :VALUE #<LPARALLEL.KERNEL:TASK-KILLED-ERROR>))) :LOCK #<MUTEX :ANONYMOUS :owner NIL :counter 0 @0x13dcd0989> :CVAR #<CONDITION-VARIABLE >) :KERNEL #<KERNEL :NAME \"lparallel\" :WORKER-COUNT 12 :USE-CALLER NIL :ALIVE T @0x14abb5489>))\n",
      "3: (RECEIVE-RESULTS #S(LPARALLEL.KERNEL:CHANNEL :QUEUE #S(LPARALLEL.CONS-QUEUE:CONS-QUEUE :IMPL #S(LPARALLEL.RAW-QUEUE:RAW-QUEUE :HEAD (#S(LPARALLEL.KERNEL::WRAPPED-ERROR :VALUE #<LPARALLEL.KERNEL:TASK-KILLED-ERROR>) #S(LPARALLEL.KERNEL::WRAPPED-ERROR :VALUE #<LPARALLEL.KERNEL:TASK-KILLED-ERROR>) #S(LPARALLEL.KERNEL::WRAPPED-ERROR :VALUE #<LPARALLEL.KERNEL:TASK-KILLED-ERROR>) #S(LPARALLEL.KERNEL::WRAPPED-ERROR :VALUE #<LPARALLEL.KERNEL:TASK-KILLED-ERROR>) #S(LPARALLEL.KERNEL::WRAPPED-ERROR :VALUE #<LPARALLEL.KERNEL:TASK-KILLED-ERROR>) #S(LPARALLEL.KERNEL::WRAPPED-ERROR :VALUE #<LPARALLEL.KERNEL:TASK-KILLED-ERROR>) #S(LPARALLEL.KERNEL::WRAPPED-ERROR :VALUE #<LPARALLEL.KERNEL:TASK-KILLED-ERROR>) #S(LPARALLEL.KERNEL::WRAPPED-ERROR :VALUE #<LPARALLEL.KERNEL:TASK-KILLED-ERROR>) #S(LPARALLEL.KERNEL::WRAPPED-ERROR :VALUE #<LPARALLEL.KERNEL:TASK-KILLED-ERROR>) #S(LPARALLEL.KERNEL::WRAPPED-ERROR :VALUE #<LPARALLEL.KERNEL:TASK-KILLED-ERROR>) #S(LPARALLEL.KERNEL::WRAPPED-ERROR :VALUE #<LPARALLEL.KERNEL:TASK-KILLED-ERROR>)) :TAIL (#S(LPARALLEL.KERNEL::WRAPPED-ERROR :VALUE #<LPARALLEL.KERNEL:TASK-KILLED-ERROR>))) :LOCK #<MUTEX :ANONYMOUS :owner NIL :counter 0 @0x13dcd0989> :CVAR #<CONDITION-VARIABLE >) :KERNEL #<KERNEL :NAME \"lparallel\" :WORKER-COUNT 12 :USE-CALLER NIL :ALIVE T @0x14abb5489>) 12 NIL)\n",
      "4: (LAMBDA)\n",
      "5: (PMAP-INTO/PARTS #<FUNCTION MAP-INTO> #(NIL NIL NIL NIL NIL NIL NIL NIL NIL NIL NIL NIL NIL NIL NIL NIL NIL NIL NIL NIL NIL NIL NIL NIL NIL NIL NIL NIL NIL NIL NIL NIL NIL NIL NIL NIL NIL NIL NIL NIL NIL NIL NIL NIL NIL NIL NIL NIL NIL NIL NIL NIL NIL NIL NIL NIL NIL NIL NIL NIL NIL NIL NIL NIL NIL NIL NIL NIL NIL NIL NIL NIL NIL NIL NIL NIL NIL NIL NIL NIL NIL NIL NIL NIL NIL NIL NIL NIL NIL NIL NIL NIL NIL NIL NIL NIL NIL NIL NIL NIL NIL NIL NIL NIL NIL NIL NIL NIL NIL NIL NIL NIL NIL NIL NIL NIL NIL NIL NIL NIL NIL NIL NIL NIL NIL NIL NIL NIL NIL NIL NIL NIL NIL NIL NIL NIL NIL NIL NIL NIL NIL NIL NIL NIL NIL NIL NIL NIL NIL NIL NIL NIL NIL NIL NIL NIL NIL NIL NIL NIL NIL NIL NIL NIL NIL NIL NIL NIL NIL NIL NIL NIL NIL NIL NIL NIL NIL NIL NIL NIL NIL NIL NIL NIL NIL NIL NIL NIL NIL NIL NIL NIL NIL NIL NIL NIL NIL NIL NIL NIL) #<FUNCTION LAMBDA> ((#<MEMBRANE-PACKER::GA-MEMBRANE> #<MEMBRANE-PACKER::GA-MEMBRANE> #<MEMBRANE-PACKER::GA-MEMBRANE> #<MEMBRANE-PACKER::GA-MEMBRANE> #<MEMBRANE-PACKER::GA-MEMBRANE> #<MEMBRANE-PACKER::GA-MEMBRANE> #<MEMBRANE-PACKER::GA-MEMBRANE> #<MEMBRANE-PACKER::GA-MEMBRANE> #<MEMBRANE-PACKER::GA-MEMBRANE> #<MEMBRANE-PACKER::GA-MEMBRANE> #<MEMBRANE-PACKER::GA-MEMBRANE> #<MEMBRANE-PACKER::GA-MEMBRANE> #<MEMBRANE-PACKER::GA-MEMBRANE> #<MEMBRANE-PACKER::GA-MEMBRANE> #<MEMBRANE-PACKER::GA-MEMBRANE> #<MEMBRANE-PACKER::GA-MEMBRANE> #<MEMBRANE-PACKER::GA-MEMBRANE> #<MEMBRANE-PACKER::GA-MEMBRANE> #<MEMBRANE-PACKER::GA-MEMBRANE> #<MEMBRANE-PACKER::GA-MEMBRANE> #<MEMBRANE-PACKER::GA-MEMBRANE> #<MEMBRANE-PACKER::GA-MEMBRANE> #<MEMBRANE-PACKER::GA-MEMBRANE> #<MEMBRANE-PACKER::GA-MEMBRANE> #<MEMBRANE-PACKER::GA-MEMBRANE> #<MEMBRANE-PACKER::GA-MEMBRANE> #<MEMBRANE-PACKER::GA-MEMBRANE> #<MEMBRANE-PACKER::GA-MEMBRANE> #<MEMBRANE-PACKER::GA-MEMBRANE> #<MEMBRANE-PACKER::GA-MEMBRANE> #<MEMBRANE-PACKER::GA-MEMBRANE> #<MEMBRANE-PACKER::GA-MEMBRANE> #<MEMBRANE-PACKER::GA-MEMBRANE> #<MEMBRANE-PACKER::GA-MEMBRANE> #<MEMBRANE-PACKER::GA-MEMBRANE> #<MEMBRANE-PACKER::GA-MEMBRANE> #<MEMBRANE-PACKER::GA-MEMBRANE> #<MEMBRANE-PACKER::GA-MEMBRANE> #<MEMBRANE-PACKER::GA-MEMBRANE> #<MEMBRANE-PACKER::GA-MEMBRANE> #<MEMBRANE-PACKER::GA-MEMBRANE> #<MEMBRANE-PACKER::GA-MEMBRANE> #<MEMBRANE-PACKER::GA-MEMBRANE> #<MEMBRANE-PACKER::GA-MEMBRANE> #<MEMBRANE-PACKER::GA-MEMBRANE> #<MEMBRANE-PACKER::GA-MEMBRANE> #<MEMBRANE-PACKER::GA-MEMBRANE> #<MEMBRANE-PACKER::GA-MEMBRANE> #<MEMBRANE-PACKER::GA-MEMBRANE> #<MEMBRANE-PACKER::GA-MEMBRANE> #<MEMBRANE-PACKER::GA-MEMBRANE> #<MEMBRANE-PACKER::GA-MEMBRANE> #<MEMBRANE-PACKER::GA-MEMBRANE> #<MEMBRANE-PACKER::GA-MEMBRANE> #<MEMBRANE-PACKER::GA-MEMBRANE> #<MEMBRANE-PACKER::GA-MEMBRANE> #<MEMBRANE-PACKER::GA-MEMBRANE> #<MEMBRANE-PACKER::GA-MEMBRANE> #<MEMBRANE-PACKER::GA-MEMBRANE> #<MEMBRANE-PACKER::GA-MEMBRANE> #<MEMBRANE-PACKER::GA-MEMBRANE> #<MEMBRANE-PACKER::GA-MEMBRANE> #<MEMBRANE-PACKER::GA-MEMBRANE> #<MEMBRANE-PACKER::GA-MEMBRANE> #<MEMBRANE-PACKER::GA-MEMBRANE> #<MEMBRANE-PACKER::GA-MEMBRANE> #<MEMBRANE-PACKER::GA-MEMBRANE> #<MEMBRANE-PACKER::GA-MEMBRANE> #<MEMBRANE-PACKER::GA-MEMBRANE> #<MEMBRANE-PACKER::GA-MEMBRANE> #<MEMBRANE-PACKER::GA-MEMBRANE> #<MEMBRANE-PACKER::GA-MEMBRANE> #<MEMBRANE-PACKER::GA-MEMBRANE> #<MEMBRANE-PACKER::GA-MEMBRANE> #<MEMBRANE-PACKER::GA-MEMBRANE> #<MEMBRANE-PACKER::GA-MEMBRANE> #<MEMBRANE-PACKER::GA-MEMBRANE> #<MEMBRANE-PACKER::GA-MEMBRANE> #<MEMBRANE-PACKER::GA-MEMBRANE> #<MEMBRANE-PACKER::GA-MEMBRANE> #<MEMBRANE-PACKER::GA-MEMBRANE> #<MEMBRANE-PACKER::GA-MEMBRANE> #<MEMBRANE-PACKER::GA-MEMBRANE> #<MEMBRANE-PACKER::GA-MEMBRANE> #<MEMBRANE-PACKER::GA-MEMBRANE> #<MEMBRANE-PACKER::GA-MEMBRANE> #<MEMBRANE-PACKER::GA-MEMBRANE> #<MEMBRANE-PACKER::GA-MEMBRANE> #<MEMBRANE-PACKER::GA-MEMBRANE> #<MEMBRANE-PACKER::GA-MEMBRANE> #<MEMBRANE-PACKER::GA-MEMBRANE> #<MEMBRANE-PACKER::GA-MEMBRANE> #<MEMBRANE-PACKER::GA-MEMBRANE> #<MEMBRANE-PACKER::GA-MEMBRANE> #<MEMBRANE-PACKER::GA-MEMBRANE> #<MEMBRANE-PACKER::GA-MEMBRANE> #<MEMBRANE-PACKER::GA-MEMBRANE> #<MEMBRANE-PACKER::GA-MEMBRANE> #<MEMBRANE-PACKER::GA-MEMBRANE> #<MEMBRANE-PACKER::GA-MEMBRANE> #<MEMBRANE-PACKER::GA-MEMBRANE> #<MEMBRANE-PACKER::GA-MEMBRANE> #<MEMBRANE-PACKER::GA-MEMBRANE> #<MEMBRANE-PACKER::GA-MEMBRANE> #<MEMBRANE-PACKER::GA-MEMBRANE> #<MEMBRANE-PACKER::GA-MEMBRANE> #<MEMBRANE-PACKER::GA-MEMBRANE> #<MEMBRANE-PACKER::GA-MEMBRANE> #<MEMBRANE-PACKER::GA-MEMBRANE> #<MEMBRANE-PACKER::GA-MEMBRANE> #<MEMBRANE-PACKER::GA-MEMBRANE> #<MEMBRANE-PACKER::GA-MEMBRANE> #<MEMBRANE-PACKER::GA-MEMBRANE> #<MEMBRANE-PACKER::GA-MEMBRANE> #<MEMBRANE-PACKER::GA-MEMBRANE> #<MEMBRANE-PACKER::GA-MEMBRANE> #<MEMBRANE-PACKER::GA-MEMBRANE> #<MEMBRANE-PACKER::GA-MEMBRANE> #<MEMBRANE-PACKER::GA-MEMBRANE> #<MEMBRANE-PACKER::GA-MEMBRANE> #<MEMBRANE-PACKER::GA-MEMBRANE> #<MEMBRANE-PACKER::GA-MEMBRANE> #<MEMBRANE-PACKER::GA-MEMBRANE> #<MEMBRANE-PACKER::GA-MEMBRANE> #<MEMBRANE-PACKER::GA-MEMBRANE> #<MEMBRANE-PACKER::GA-MEMBRANE> #<MEMBRANE-PACKER::GA-MEMBRANE> #<MEMBRANE-PACKER::GA-MEMBRANE> #<MEMBRANE-PACKER::GA-MEMBRANE> #<MEMBRANE-PACKER::GA-MEMBRANE> #<MEMBRANE-PACKER::GA-MEMBRANE> #<MEMBRANE-PACKER::GA-MEMBRANE> #<MEMBRANE-PACKER::GA-MEMBRANE> #<MEMBRANE-PACKER::GA-MEMBRANE> #<MEMBRANE-PACKER::GA-MEMBRANE> #<MEMBRANE-PACKER::GA-MEMBRANE> #<MEMBRANE-PACKER::GA-MEMBRANE> #<MEMBRANE-PACKER::GA-MEMBRANE> #<MEMBRANE-PACKER::GA-MEMBRANE> #<MEMBRANE-PACKER::GA-MEMBRANE> #<MEMBRANE-PACKER::GA-MEMBRANE> #<MEMBRANE-PACKER::GA-MEMBRANE> #<MEMBRANE-PACKER::GA-MEMBRANE> #<MEMBRANE-PACKER::GA-MEMBRANE> #<MEMBRANE-PACKER::GA-MEMBRANE> #<MEMBRANE-PACKER::GA-MEMBRANE> #<MEMBRANE-PACKER::GA-MEMBRANE> #<MEMBRANE-PACKER::GA-MEMBRANE> #<MEMBRANE-PACKER::GA-MEMBRANE> #<MEMBRANE-PACKER::GA-MEMBRANE> #<MEMBRANE-PACKER::GA-MEMBRANE> #<MEMBRANE-PACKER::GA-MEMBRANE> #<MEMBRANE-PACKER::GA-MEMBRANE> #<MEMBRANE-PACKER::GA-MEMBRANE> #<MEMBRANE-PACKER::GA-MEMBRANE> #<MEMBRANE-PACKER::GA-MEMBRANE> #<MEMBRANE-PACKER::GA-MEMBRANE> #<MEMBRANE-PACKER::GA-MEMBRANE> #<MEMBRANE-PACKER::GA-MEMBRANE> #<MEMBRANE-PACKER::GA-MEMBRANE> #<MEMBRANE-PACKER::GA-MEMBRANE> #<MEMBRANE-PACKER::GA-MEMBRANE> #<MEMBRANE-PACKER::GA-MEMBRANE> #<MEMBRANE-PACKER::GA-MEMBRANE> #<MEMBRANE-PACKER::GA-MEMBRANE> #<MEMBRANE-PACKER::GA-MEMBRANE> #<MEMBRANE-PACKER::GA-MEMBRANE> #<MEMBRANE-PACKER::GA-MEMBRANE> #<MEMBRANE-PACKER::GA-MEMBRANE> #<MEMBRANE-PACKER::GA-MEMBRANE> #<MEMBRANE-PACKER::GA-MEMBRANE> #<MEMBRANE-PACKER::GA-MEMBRANE> #<MEMBRANE-PACKER::GA-MEMBRANE> #<MEMBRANE-PACKER::GA-MEMBRANE> #<MEMBRANE-PACKER::GA-MEMBRANE> #<MEMBRANE-PACKER::GA-MEMBRANE> #<MEMBRANE-PACKER::GA-MEMBRANE> #<MEMBRANE-PACKER::GA-MEMBRANE> #<MEMBRANE-PACKER::GA-MEMBRANE> #<MEMBRANE-PACKER::GA-MEMBRANE> #<MEMBRANE-PACKER::GA-MEMBRANE> #<MEMBRANE-PACKER::GA-MEMBRANE> #<MEMBRANE-PACKER::GA-MEMBRANE> #<MEMBRANE-PACKER::GA-MEMBRANE> #<MEMBRANE-PACKER::GA-MEMBRANE> #<MEMBRANE-PACKER::GA-MEMBRANE> #<MEMBRANE-PACKER::GA-MEMBRANE> #<MEMBRANE-PACKER::GA-MEMBRANE> #<MEMBRANE-PACKER::GA-MEMBRANE> #<MEMBRANE-PACKER::GA-MEMBRANE> #<MEMBRANE-PACKER::GA-MEMBRANE> #<MEMBRANE-PACKER::GA-MEMBRANE> #<MEMBRANE-PACKER::GA-MEMBRANE> #<MEMBRANE-PACKER::GA-MEMBRANE> #<MEMBRANE-PACKER::GA-MEMBRANE> #<MEMBRANE-PACKER::GA-MEMBRANE> #<MEMBRANE-PACKER::GA-MEMBRANE> #<MEMBRANE-PACKER::GA-MEMBRANE> #<MEMBRANE-PACKER::GA-MEMBRANE> #<MEMBRANE-PACKER::GA-MEMBRANE>)) 200 12)\n",
      "6: (PMAP-INTO/PARSED #<FUNCTION MAP-INTO> #(NIL NIL NIL NIL NIL NIL NIL NIL NIL NIL NIL NIL NIL NIL NIL NIL NIL NIL NIL NIL NIL NIL NIL NIL NIL NIL NIL NIL NIL NIL NIL NIL NIL NIL NIL NIL NIL NIL NIL NIL NIL NIL NIL NIL NIL NIL NIL NIL NIL NIL NIL NIL NIL NIL NIL NIL NIL NIL NIL NIL NIL NIL NIL NIL NIL NIL NIL NIL NIL NIL NIL NIL NIL NIL NIL NIL NIL NIL NIL NIL NIL NIL NIL NIL NIL NIL NIL NIL NIL NIL NIL NIL NIL NIL NIL NIL NIL NIL NIL NIL NIL NIL NIL NIL NIL NIL NIL NIL NIL NIL NIL NIL NIL NIL NIL NIL NIL NIL NIL NIL NIL NIL NIL NIL NIL NIL NIL NIL NIL NIL NIL NIL NIL NIL NIL NIL NIL NIL NIL NIL NIL NIL NIL NIL NIL NIL NIL NIL NIL NIL NIL NIL NIL NIL NIL NIL NIL NIL NIL NIL NIL NIL NIL NIL NIL NIL NIL NIL NIL NIL NIL NIL NIL NIL NIL NIL NIL NIL NIL NIL NIL NIL NIL NIL NIL NIL NIL NIL NIL NIL NIL NIL NIL NIL NIL NIL NIL NIL NIL NIL) #<FUNCTION LAMBDA> ((#<MEMBRANE-PACKER::GA-MEMBRANE> #<MEMBRANE-PACKER::GA-MEMBRANE> #<MEMBRANE-PACKER::GA-MEMBRANE> #<MEMBRANE-PACKER::GA-MEMBRANE> #<MEMBRANE-PACKER::GA-MEMBRANE> #<MEMBRANE-PACKER::GA-MEMBRANE> #<MEMBRANE-PACKER::GA-MEMBRANE> #<MEMBRANE-PACKER::GA-MEMBRANE> #<MEMBRANE-PACKER::GA-MEMBRANE> #<MEMBRANE-PACKER::GA-MEMBRANE> #<MEMBRANE-PACKER::GA-MEMBRANE> #<MEMBRANE-PACKER::GA-MEMBRANE> #<MEMBRANE-PACKER::GA-MEMBRANE> #<MEMBRANE-PACKER::GA-MEMBRANE> #<MEMBRANE-PACKER::GA-MEMBRANE> #<MEMBRANE-PACKER::GA-MEMBRANE> #<MEMBRANE-PACKER::GA-MEMBRANE> #<MEMBRANE-PACKER::GA-MEMBRANE> #<MEMBRANE-PACKER::GA-MEMBRANE> #<MEMBRANE-PACKER::GA-MEMBRANE> #<MEMBRANE-PACKER::GA-MEMBRANE> #<MEMBRANE-PACKER::GA-MEMBRANE> #<MEMBRANE-PACKER::GA-MEMBRANE> #<MEMBRANE-PACKER::GA-MEMBRANE> #<MEMBRANE-PACKER::GA-MEMBRANE> #<MEMBRANE-PACKER::GA-MEMBRANE> #<MEMBRANE-PACKER::GA-MEMBRANE> #<MEMBRANE-PACKER::GA-MEMBRANE> #<MEMBRANE-PACKER::GA-MEMBRANE> #<MEMBRANE-PACKER::GA-MEMBRANE> #<MEMBRANE-PACKER::GA-MEMBRANE> #<MEMBRANE-PACKER::GA-MEMBRANE> #<MEMBRANE-PACKER::GA-MEMBRANE> #<MEMBRANE-PACKER::GA-MEMBRANE> #<MEMBRANE-PACKER::GA-MEMBRANE> #<MEMBRANE-PACKER::GA-MEMBRANE> #<MEMBRANE-PACKER::GA-MEMBRANE> #<MEMBRANE-PACKER::GA-MEMBRANE> #<MEMBRANE-PACKER::GA-MEMBRANE> #<MEMBRANE-PACKER::GA-MEMBRANE> #<MEMBRANE-PACKER::GA-MEMBRANE> #<MEMBRANE-PACKER::GA-MEMBRANE> #<MEMBRANE-PACKER::GA-MEMBRANE> #<MEMBRANE-PACKER::GA-MEMBRANE> #<MEMBRANE-PACKER::GA-MEMBRANE> #<MEMBRANE-PACKER::GA-MEMBRANE> #<MEMBRANE-PACKER::GA-MEMBRANE> #<MEMBRANE-PACKER::GA-MEMBRANE> #<MEMBRANE-PACKER::GA-MEMBRANE> #<MEMBRANE-PACKER::GA-MEMBRANE> #<MEMBRANE-PACKER::GA-MEMBRANE> #<MEMBRANE-PACKER::GA-MEMBRANE> #<MEMBRANE-PACKER::GA-MEMBRANE> #<MEMBRANE-PACKER::GA-MEMBRANE> #<MEMBRANE-PACKER::GA-MEMBRANE> #<MEMBRANE-PACKER::GA-MEMBRANE> #<MEMBRANE-PACKER::GA-MEMBRANE> #<MEMBRANE-PACKER::GA-MEMBRANE> #<MEMBRANE-PACKER::GA-MEMBRANE> #<MEMBRANE-PACKER::GA-MEMBRANE> #<MEMBRANE-PACKER::GA-MEMBRANE> #<MEMBRANE-PACKER::GA-MEMBRANE> #<MEMBRANE-PACKER::GA-MEMBRANE> #<MEMBRANE-PACKER::GA-MEMBRANE> #<MEMBRANE-PACKER::GA-MEMBRANE> #<MEMBRANE-PACKER::GA-MEMBRANE> #<MEMBRANE-PACKER::GA-MEMBRANE> #<MEMBRANE-PACKER::GA-MEMBRANE> #<MEMBRANE-PACKER::GA-MEMBRANE> #<MEMBRANE-PACKER::GA-MEMBRANE> #<MEMBRANE-PACKER::GA-MEMBRANE> #<MEMBRANE-PACKER::GA-MEMBRANE> #<MEMBRANE-PACKER::GA-MEMBRANE> #<MEMBRANE-PACKER::GA-MEMBRANE> #<MEMBRANE-PACKER::GA-MEMBRANE> #<MEMBRANE-PACKER::GA-MEMBRANE> #<MEMBRANE-PACKER::GA-MEMBRANE> #<MEMBRANE-PACKER::GA-MEMBRANE> #<MEMBRANE-PACKER::GA-MEMBRANE> #<MEMBRANE-PACKER::GA-MEMBRANE> #<MEMBRANE-PACKER::GA-MEMBRANE> #<MEMBRANE-PACKER::GA-MEMBRANE> #<MEMBRANE-PACKER::GA-MEMBRANE> #<MEMBRANE-PACKER::GA-MEMBRANE> #<MEMBRANE-PACKER::GA-MEMBRANE> #<MEMBRANE-PACKER::GA-MEMBRANE> #<MEMBRANE-PACKER::GA-MEMBRANE> #<MEMBRANE-PACKER::GA-MEMBRANE> #<MEMBRANE-PACKER::GA-MEMBRANE> #<MEMBRANE-PACKER::GA-MEMBRANE> #<MEMBRANE-PACKER::GA-MEMBRANE> #<MEMBRANE-PACKER::GA-MEMBRANE> #<MEMBRANE-PACKER::GA-MEMBRANE> #<MEMBRANE-PACKER::GA-MEMBRANE> #<MEMBRANE-PACKER::GA-MEMBRANE> #<MEMBRANE-PACKER::GA-MEMBRANE> #<MEMBRANE-PACKER::GA-MEMBRANE> #<MEMBRANE-PACKER::GA-MEMBRANE> #<MEMBRANE-PACKER::GA-MEMBRANE> #<MEMBRANE-PACKER::GA-MEMBRANE> #<MEMBRANE-PACKER::GA-MEMBRANE> #<MEMBRANE-PACKER::GA-MEMBRANE> #<MEMBRANE-PACKER::GA-MEMBRANE> #<MEMBRANE-PACKER::GA-MEMBRANE> #<MEMBRANE-PACKER::GA-MEMBRANE> #<MEMBRANE-PACKER::GA-MEMBRANE> #<MEMBRANE-PACKER::GA-MEMBRANE> #<MEMBRANE-PACKER::GA-MEMBRANE> #<MEMBRANE-PACKER::GA-MEMBRANE> #<MEMBRANE-PACKER::GA-MEMBRANE> #<MEMBRANE-PACKER::GA-MEMBRANE> #<MEMBRANE-PACKER::GA-MEMBRANE> #<MEMBRANE-PACKER::GA-MEMBRANE> #<MEMBRANE-PACKER::GA-MEMBRANE> #<MEMBRANE-PACKER::GA-MEMBRANE> #<MEMBRANE-PACKER::GA-MEMBRANE> #<MEMBRANE-PACKER::GA-MEMBRANE> #<MEMBRANE-PACKER::GA-MEMBRANE> #<MEMBRANE-PACKER::GA-MEMBRANE> #<MEMBRANE-PACKER::GA-MEMBRANE> #<MEMBRANE-PACKER::GA-MEMBRANE> #<MEMBRANE-PACKER::GA-MEMBRANE> #<MEMBRANE-PACKER::GA-MEMBRANE> #<MEMBRANE-PACKER::GA-MEMBRANE> #<MEMBRANE-PACKER::GA-MEMBRANE> #<MEMBRANE-PACKER::GA-MEMBRANE> #<MEMBRANE-PACKER::GA-MEMBRANE> #<MEMBRANE-PACKER::GA-MEMBRANE> #<MEMBRANE-PACKER::GA-MEMBRANE> #<MEMBRANE-PACKER::GA-MEMBRANE> #<MEMBRANE-PACKER::GA-MEMBRANE> #<MEMBRANE-PACKER::GA-MEMBRANE> #<MEMBRANE-PACKER::GA-MEMBRANE> #<MEMBRANE-PACKER::GA-MEMBRANE> #<MEMBRANE-PACKER::GA-MEMBRANE> #<MEMBRANE-PACKER::GA-MEMBRANE> #<MEMBRANE-PACKER::GA-MEMBRANE> #<MEMBRANE-PACKER::GA-MEMBRANE> #<MEMBRANE-PACKER::GA-MEMBRANE> #<MEMBRANE-PACKER::GA-MEMBRANE> #<MEMBRANE-PACKER::GA-MEMBRANE> #<MEMBRANE-PACKER::GA-MEMBRANE> #<MEMBRANE-PACKER::GA-MEMBRANE> #<MEMBRANE-PACKER::GA-MEMBRANE> #<MEMBRANE-PACKER::GA-MEMBRANE> #<MEMBRANE-PACKER::GA-MEMBRANE> #<MEMBRANE-PACKER::GA-MEMBRANE> #<MEMBRANE-PACKER::GA-MEMBRANE> #<MEMBRANE-PACKER::GA-MEMBRANE> #<MEMBRANE-PACKER::GA-MEMBRANE> #<MEMBRANE-PACKER::GA-MEMBRANE> #<MEMBRANE-PACKER::GA-MEMBRANE> #<MEMBRANE-PACKER::GA-MEMBRANE> #<MEMBRANE-PACKER::GA-MEMBRANE> #<MEMBRANE-PACKER::GA-MEMBRANE> #<MEMBRANE-PACKER::GA-MEMBRANE> #<MEMBRANE-PACKER::GA-MEMBRANE> #<MEMBRANE-PACKER::GA-MEMBRANE> #<MEMBRANE-PACKER::GA-MEMBRANE> #<MEMBRANE-PACKER::GA-MEMBRANE> #<MEMBRANE-PACKER::GA-MEMBRANE> #<MEMBRANE-PACKER::GA-MEMBRANE> #<MEMBRANE-PACKER::GA-MEMBRANE> #<MEMBRANE-PACKER::GA-MEMBRANE> #<MEMBRANE-PACKER::GA-MEMBRANE> #<MEMBRANE-PACKER::GA-MEMBRANE> #<MEMBRANE-PACKER::GA-MEMBRANE> #<MEMBRANE-PACKER::GA-MEMBRANE> #<MEMBRANE-PACKER::GA-MEMBRANE> #<MEMBRANE-PACKER::GA-MEMBRANE> #<MEMBRANE-PACKER::GA-MEMBRANE> #<MEMBRANE-PACKER::GA-MEMBRANE> #<MEMBRANE-PACKER::GA-MEMBRANE> #<MEMBRANE-PACKER::GA-MEMBRANE> #<MEMBRANE-PACKER::GA-MEMBRANE> #<MEMBRANE-PACKER::GA-MEMBRANE> #<MEMBRANE-PACKER::GA-MEMBRANE> #<MEMBRANE-PACKER::GA-MEMBRANE> #<MEMBRANE-PACKER::GA-MEMBRANE> #<MEMBRANE-PACKER::GA-MEMBRANE> #<MEMBRANE-PACKER::GA-MEMBRANE> #<MEMBRANE-PACKER::GA-MEMBRANE> #<MEMBRANE-PACKER::GA-MEMBRANE> #<MEMBRANE-PACKER::GA-MEMBRANE> #<MEMBRANE-PACKER::GA-MEMBRANE> #<MEMBRANE-PACKER::GA-MEMBRANE> #<MEMBRANE-PACKER::GA-MEMBRANE> #<MEMBRANE-PACKER::GA-MEMBRANE> #<MEMBRANE-PACKER::GA-MEMBRANE> #<MEMBRANE-PACKER::GA-MEMBRANE> #<MEMBRANE-PACKER::GA-MEMBRANE> #<MEMBRANE-PACKER::GA-MEMBRANE> #<MEMBRANE-PACKER::GA-MEMBRANE> #<MEMBRANE-PACKER::GA-MEMBRANE> #<MEMBRANE-PACKER::GA-MEMBRANE> #<MEMBRANE-PACKER::GA-MEMBRANE> #<MEMBRANE-PACKER::GA-MEMBRANE> #<MEMBRANE-PACKER::GA-MEMBRANE> #<MEMBRANE-PACKER::GA-MEMBRANE> #<MEMBRANE-PACKER::GA-MEMBRANE>)) 200 12)\n",
      "7: (PMAP-INTO/UNPARSED #<FUNCTION MAP-INTO> #(NIL NIL NIL NIL NIL NIL NIL NIL NIL NIL NIL NIL NIL NIL NIL NIL NIL NIL NIL NIL NIL NIL NIL NIL NIL NIL NIL NIL NIL NIL NIL NIL NIL NIL NIL NIL NIL NIL NIL NIL NIL NIL NIL NIL NIL NIL NIL NIL NIL NIL NIL NIL NIL NIL NIL NIL NIL NIL NIL NIL NIL NIL NIL NIL NIL NIL NIL NIL NIL NIL NIL NIL NIL NIL NIL NIL NIL NIL NIL NIL NIL NIL NIL NIL NIL NIL NIL NIL NIL NIL NIL NIL NIL NIL NIL NIL NIL NIL NIL NIL NIL NIL NIL NIL NIL NIL NIL NIL NIL NIL NIL NIL NIL NIL NIL NIL NIL NIL NIL NIL NIL NIL NIL NIL NIL NIL NIL NIL NIL NIL NIL NIL NIL NIL NIL NIL NIL NIL NIL NIL NIL NIL NIL NIL NIL NIL NIL NIL NIL NIL NIL NIL NIL NIL NIL NIL NIL NIL NIL NIL NIL NIL NIL NIL NIL NIL NIL NIL NIL NIL NIL NIL NIL NIL NIL NIL NIL NIL NIL NIL NIL NIL NIL NIL NIL NIL NIL NIL NIL NIL NIL NIL NIL NIL NIL NIL NIL NIL NIL NIL) #<FUNCTION LAMBDA> (:SIZE 200 :PARTS 12 (#<MEMBRANE-PACKER::GA-MEMBRANE> #<MEMBRANE-PACKER::GA-MEMBRANE> #<MEMBRANE-PACKER::GA-MEMBRANE> #<MEMBRANE-PACKER::GA-MEMBRANE> #<MEMBRANE-PACKER::GA-MEMBRANE> #<MEMBRANE-PACKER::GA-MEMBRANE> #<MEMBRANE-PACKER::GA-MEMBRANE> #<MEMBRANE-PACKER::GA-MEMBRANE> #<MEMBRANE-PACKER::GA-MEMBRANE> #<MEMBRANE-PACKER::GA-MEMBRANE> #<MEMBRANE-PACKER::GA-MEMBRANE> #<MEMBRANE-PACKER::GA-MEMBRANE> #<MEMBRANE-PACKER::GA-MEMBRANE> #<MEMBRANE-PACKER::GA-MEMBRANE> #<MEMBRANE-PACKER::GA-MEMBRANE> #<MEMBRANE-PACKER::GA-MEMBRANE> #<MEMBRANE-PACKER::GA-MEMBRANE> #<MEMBRANE-PACKER::GA-MEMBRANE> #<MEMBRANE-PACKER::GA-MEMBRANE> #<MEMBRANE-PACKER::GA-MEMBRANE> #<MEMBRANE-PACKER::GA-MEMBRANE> #<MEMBRANE-PACKER::GA-MEMBRANE> #<MEMBRANE-PACKER::GA-MEMBRANE> #<MEMBRANE-PACKER::GA-MEMBRANE> #<MEMBRANE-PACKER::GA-MEMBRANE> #<MEMBRANE-PACKER::GA-MEMBRANE> #<MEMBRANE-PACKER::GA-MEMBRANE> #<MEMBRANE-PACKER::GA-MEMBRANE> #<MEMBRANE-PACKER::GA-MEMBRANE> #<MEMBRANE-PACKER::GA-MEMBRANE> #<MEMBRANE-PACKER::GA-MEMBRANE> #<MEMBRANE-PACKER::GA-MEMBRANE> #<MEMBRANE-PACKER::GA-MEMBRANE> #<MEMBRANE-PACKER::GA-MEMBRANE> #<MEMBRANE-PACKER::GA-MEMBRANE> #<MEMBRANE-PACKER::GA-MEMBRANE> #<MEMBRANE-PACKER::GA-MEMBRANE> #<MEMBRANE-PACKER::GA-MEMBRANE> #<MEMBRANE-PACKER::GA-MEMBRANE> #<MEMBRANE-PACKER::GA-MEMBRANE> #<MEMBRANE-PACKER::GA-MEMBRANE> #<MEMBRANE-PACKER::GA-MEMBRANE> #<MEMBRANE-PACKER::GA-MEMBRANE> #<MEMBRANE-PACKER::GA-MEMBRANE> #<MEMBRANE-PACKER::GA-MEMBRANE> #<MEMBRANE-PACKER::GA-MEMBRANE> #<MEMBRANE-PACKER::GA-MEMBRANE> #<MEMBRANE-PACKER::GA-MEMBRANE> #<MEMBRANE-PACKER::GA-MEMBRANE> #<MEMBRANE-PACKER::GA-MEMBRANE> #<MEMBRANE-PACKER::GA-MEMBRANE> #<MEMBRANE-PACKER::GA-MEMBRANE> #<MEMBRANE-PACKER::GA-MEMBRANE> #<MEMBRANE-PACKER::GA-MEMBRANE> #<MEMBRANE-PACKER::GA-MEMBRANE> #<MEMBRANE-PACKER::GA-MEMBRANE> #<MEMBRANE-PACKER::GA-MEMBRANE> #<MEMBRANE-PACKER::GA-MEMBRANE> #<MEMBRANE-PACKER::GA-MEMBRANE> #<MEMBRANE-PACKER::GA-MEMBRANE> #<MEMBRANE-PACKER::GA-MEMBRANE> #<MEMBRANE-PACKER::GA-MEMBRANE> #<MEMBRANE-PACKER::GA-MEMBRANE> #<MEMBRANE-PACKER::GA-MEMBRANE> #<MEMBRANE-PACKER::GA-MEMBRANE> #<MEMBRANE-PACKER::GA-MEMBRANE> #<MEMBRANE-PACKER::GA-MEMBRANE> #<MEMBRANE-PACKER::GA-MEMBRANE> #<MEMBRANE-PACKER::GA-MEMBRANE> #<MEMBRANE-PACKER::GA-MEMBRANE> #<MEMBRANE-PACKER::GA-MEMBRANE> #<MEMBRANE-PACKER::GA-MEMBRANE> #<MEMBRANE-PACKER::GA-MEMBRANE> #<MEMBRANE-PACKER::GA-MEMBRANE> #<MEMBRANE-PACKER::GA-MEMBRANE> #<MEMBRANE-PACKER::GA-MEMBRANE> #<MEMBRANE-PACKER::GA-MEMBRANE> #<MEMBRANE-PACKER::GA-MEMBRANE> #<MEMBRANE-PACKER::GA-MEMBRANE> #<MEMBRANE-PACKER::GA-MEMBRANE> #<MEMBRANE-PACKER::GA-MEMBRANE> #<MEMBRANE-PACKER::GA-MEMBRANE> #<MEMBRANE-PACKER::GA-MEMBRANE> #<MEMBRANE-PACKER::GA-MEMBRANE> #<MEMBRANE-PACKER::GA-MEMBRANE> #<MEMBRANE-PACKER::GA-MEMBRANE> #<MEMBRANE-PACKER::GA-MEMBRANE> #<MEMBRANE-PACKER::GA-MEMBRANE> #<MEMBRANE-PACKER::GA-MEMBRANE> #<MEMBRANE-PACKER::GA-MEMBRANE> #<MEMBRANE-PACKER::GA-MEMBRANE> #<MEMBRANE-PACKER::GA-MEMBRANE> #<MEMBRANE-PACKER::GA-MEMBRANE> #<MEMBRANE-PACKER::GA-MEMBRANE> #<MEMBRANE-PACKER::GA-MEMBRANE> #<MEMBRANE-PACKER::GA-MEMBRANE> #<MEMBRANE-PACKER::GA-MEMBRANE> #<MEMBRANE-PACKER::GA-MEMBRANE> #<MEMBRANE-PACKER::GA-MEMBRANE> #<MEMBRANE-PACKER::GA-MEMBRANE> #<MEMBRANE-PACKER::GA-MEMBRANE> #<MEMBRANE-PACKER::GA-MEMBRANE> #<MEMBRANE-PACKER::GA-MEMBRANE> #<MEMBRANE-PACKER::GA-MEMBRANE> #<MEMBRANE-PACKER::GA-MEMBRANE> #<MEMBRANE-PACKER::GA-MEMBRANE> #<MEMBRANE-PACKER::GA-MEMBRANE> #<MEMBRANE-PACKER::GA-MEMBRANE> #<MEMBRANE-PACKER::GA-MEMBRANE> #<MEMBRANE-PACKER::GA-MEMBRANE> #<MEMBRANE-PACKER::GA-MEMBRANE> #<MEMBRANE-PACKER::GA-MEMBRANE> #<MEMBRANE-PACKER::GA-MEMBRANE> #<MEMBRANE-PACKER::GA-MEMBRANE> #<MEMBRANE-PACKER::GA-MEMBRANE> #<MEMBRANE-PACKER::GA-MEMBRANE> #<MEMBRANE-PACKER::GA-MEMBRANE> #<MEMBRANE-PACKER::GA-MEMBRANE> #<MEMBRANE-PACKER::GA-MEMBRANE> #<MEMBRANE-PACKER::GA-MEMBRANE> #<MEMBRANE-PACKER::GA-MEMBRANE> #<MEMBRANE-PACKER::GA-MEMBRANE> #<MEMBRANE-PACKER::GA-MEMBRANE> #<MEMBRANE-PACKER::GA-MEMBRANE> #<MEMBRANE-PACKER::GA-MEMBRANE> #<MEMBRANE-PACKER::GA-MEMBRANE> #<MEMBRANE-PACKER::GA-MEMBRANE> #<MEMBRANE-PACKER::GA-MEMBRANE> #<MEMBRANE-PACKER::GA-MEMBRANE> #<MEMBRANE-PACKER::GA-MEMBRANE> #<MEMBRANE-PACKER::GA-MEMBRANE> #<MEMBRANE-PACKER::GA-MEMBRANE> #<MEMBRANE-PACKER::GA-MEMBRANE> #<MEMBRANE-PACKER::GA-MEMBRANE> #<MEMBRANE-PACKER::GA-MEMBRANE> #<MEMBRANE-PACKER::GA-MEMBRANE> #<MEMBRANE-PACKER::GA-MEMBRANE> #<MEMBRANE-PACKER::GA-MEMBRANE> #<MEMBRANE-PACKER::GA-MEMBRANE> #<MEMBRANE-PACKER::GA-MEMBRANE> #<MEMBRANE-PACKER::GA-MEMBRANE> #<MEMBRANE-PACKER::GA-MEMBRANE> #<MEMBRANE-PACKER::GA-MEMBRANE> #<MEMBRANE-PACKER::GA-MEMBRANE> #<MEMBRANE-PACKER::GA-MEMBRANE> #<MEMBRANE-PACKER::GA-MEMBRANE> #<MEMBRANE-PACKER::GA-MEMBRANE> #<MEMBRANE-PACKER::GA-MEMBRANE> #<MEMBRANE-PACKER::GA-MEMBRANE> #<MEMBRANE-PACKER::GA-MEMBRANE> #<MEMBRANE-PACKER::GA-MEMBRANE> #<MEMBRANE-PACKER::GA-MEMBRANE> #<MEMBRANE-PACKER::GA-MEMBRANE> #<MEMBRANE-PACKER::GA-MEMBRANE> #<MEMBRANE-PACKER::GA-MEMBRANE> #<MEMBRANE-PACKER::GA-MEMBRANE> #<MEMBRANE-PACKER::GA-MEMBRANE> #<MEMBRANE-PACKER::GA-MEMBRANE> #<MEMBRANE-PACKER::GA-MEMBRANE> #<MEMBRANE-PACKER::GA-MEMBRANE> #<MEMBRANE-PACKER::GA-MEMBRANE> #<MEMBRANE-PACKER::GA-MEMBRANE> #<MEMBRANE-PACKER::GA-MEMBRANE> #<MEMBRANE-PACKER::GA-MEMBRANE> #<MEMBRANE-PACKER::GA-MEMBRANE> #<MEMBRANE-PACKER::GA-MEMBRANE> #<MEMBRANE-PACKER::GA-MEMBRANE> #<MEMBRANE-PACKER::GA-MEMBRANE> #<MEMBRANE-PACKER::GA-MEMBRANE> #<MEMBRANE-PACKER::GA-MEMBRANE> #<MEMBRANE-PACKER::GA-MEMBRANE> #<MEMBRANE-PACKER::GA-MEMBRANE> #<MEMBRANE-PACKER::GA-MEMBRANE> #<MEMBRANE-PACKER::GA-MEMBRANE> #<MEMBRANE-PACKER::GA-MEMBRANE> #<MEMBRANE-PACKER::GA-MEMBRANE> #<MEMBRANE-PACKER::GA-MEMBRANE> #<MEMBRANE-PACKER::GA-MEMBRANE> #<MEMBRANE-PACKER::GA-MEMBRANE> #<MEMBRANE-PACKER::GA-MEMBRANE> #<MEMBRANE-PACKER::GA-MEMBRANE> #<MEMBRANE-PACKER::GA-MEMBRANE> #<MEMBRANE-PACKER::GA-MEMBRANE> #<MEMBRANE-PACKER::GA-MEMBRANE> #<MEMBRANE-PACKER::GA-MEMBRANE> #<MEMBRANE-PACKER::GA-MEMBRANE> #<MEMBRANE-PACKER::GA-MEMBRANE> #<MEMBRANE-PACKER::GA-MEMBRANE> #<MEMBRANE-PACKER::GA-MEMBRANE> #<MEMBRANE-PACKER::GA-MEMBRANE> #<MEMBRANE-PACKER::GA-MEMBRANE> #<MEMBRANE-PACKER::GA-MEMBRANE> #<MEMBRANE-PACKER::GA-MEMBRANE> #<MEMBRANE-PACKER::GA-MEMBRANE> #<MEMBRANE-PACKER::GA-MEMBRANE> #<MEMBRANE-PACKER::GA-MEMBRANE> #<MEMBRANE-PACKER::GA-MEMBRANE> #<MEMBRANE-PACKER::GA-MEMBRANE> #<MEMBRANE-PACKER::GA-MEMBRANE> #<MEMBRANE-PACKER::GA-MEMBRANE>)))\n",
      "8: (PMAP-INTO #(NIL NIL NIL NIL NIL NIL NIL NIL NIL NIL NIL NIL NIL NIL NIL NIL NIL NIL NIL NIL NIL NIL NIL NIL NIL NIL NIL NIL NIL NIL NIL NIL NIL NIL NIL NIL NIL NIL NIL NIL NIL NIL NIL NIL NIL NIL NIL NIL NIL NIL NIL NIL NIL NIL NIL NIL NIL NIL NIL NIL NIL NIL NIL NIL NIL NIL NIL NIL NIL NIL NIL NIL NIL NIL NIL NIL NIL NIL NIL NIL NIL NIL NIL NIL NIL NIL NIL NIL NIL NIL NIL NIL NIL NIL NIL NIL NIL NIL NIL NIL NIL NIL NIL NIL NIL NIL NIL NIL NIL NIL NIL NIL NIL NIL NIL NIL NIL NIL NIL NIL NIL NIL NIL NIL NIL NIL NIL NIL NIL NIL NIL NIL NIL NIL NIL NIL NIL NIL NIL NIL NIL NIL NIL NIL NIL NIL NIL NIL NIL NIL NIL NIL NIL NIL NIL NIL NIL NIL NIL NIL NIL NIL NIL NIL NIL NIL NIL NIL NIL NIL NIL NIL NIL NIL NIL NIL NIL NIL NIL NIL NIL NIL NIL NIL NIL NIL NIL NIL NIL NIL NIL NIL NIL NIL NIL NIL NIL NIL NIL NIL) #<FUNCTION LAMBDA> :SIZE 200 :PARTS 12 (#<MEMBRANE-PACKER::GA-MEMBRANE> #<MEMBRANE-PACKER::GA-MEMBRANE> #<MEMBRANE-PACKER::GA-MEMBRANE> #<MEMBRANE-PACKER::GA-MEMBRANE> #<MEMBRANE-PACKER::GA-MEMBRANE> #<MEMBRANE-PACKER::GA-MEMBRANE> #<MEMBRANE-PACKER::GA-MEMBRANE> #<MEMBRANE-PACKER::GA-MEMBRANE> #<MEMBRANE-PACKER::GA-MEMBRANE> #<MEMBRANE-PACKER::GA-MEMBRANE> #<MEMBRANE-PACKER::GA-MEMBRANE> #<MEMBRANE-PACKER::GA-MEMBRANE> #<MEMBRANE-PACKER::GA-MEMBRANE> #<MEMBRANE-PACKER::GA-MEMBRANE> #<MEMBRANE-PACKER::GA-MEMBRANE> #<MEMBRANE-PACKER::GA-MEMBRANE> #<MEMBRANE-PACKER::GA-MEMBRANE> #<MEMBRANE-PACKER::GA-MEMBRANE> #<MEMBRANE-PACKER::GA-MEMBRANE> #<MEMBRANE-PACKER::GA-MEMBRANE> #<MEMBRANE-PACKER::GA-MEMBRANE> #<MEMBRANE-PACKER::GA-MEMBRANE> #<MEMBRANE-PACKER::GA-MEMBRANE> #<MEMBRANE-PACKER::GA-MEMBRANE> #<MEMBRANE-PACKER::GA-MEMBRANE> #<MEMBRANE-PACKER::GA-MEMBRANE> #<MEMBRANE-PACKER::GA-MEMBRANE> #<MEMBRANE-PACKER::GA-MEMBRANE> #<MEMBRANE-PACKER::GA-MEMBRANE> #<MEMBRANE-PACKER::GA-MEMBRANE> #<MEMBRANE-PACKER::GA-MEMBRANE> #<MEMBRANE-PACKER::GA-MEMBRANE> #<MEMBRANE-PACKER::GA-MEMBRANE> #<MEMBRANE-PACKER::GA-MEMBRANE> #<MEMBRANE-PACKER::GA-MEMBRANE> #<MEMBRANE-PACKER::GA-MEMBRANE> #<MEMBRANE-PACKER::GA-MEMBRANE> #<MEMBRANE-PACKER::GA-MEMBRANE> #<MEMBRANE-PACKER::GA-MEMBRANE> #<MEMBRANE-PACKER::GA-MEMBRANE> #<MEMBRANE-PACKER::GA-MEMBRANE> #<MEMBRANE-PACKER::GA-MEMBRANE> #<MEMBRANE-PACKER::GA-MEMBRANE> #<MEMBRANE-PACKER::GA-MEMBRANE> #<MEMBRANE-PACKER::GA-MEMBRANE> #<MEMBRANE-PACKER::GA-MEMBRANE> #<MEMBRANE-PACKER::GA-MEMBRANE> #<MEMBRANE-PACKER::GA-MEMBRANE> #<MEMBRANE-PACKER::GA-MEMBRANE> #<MEMBRANE-PACKER::GA-MEMBRANE> #<MEMBRANE-PACKER::GA-MEMBRANE> #<MEMBRANE-PACKER::GA-MEMBRANE> #<MEMBRANE-PACKER::GA-MEMBRANE> #<MEMBRANE-PACKER::GA-MEMBRANE> #<MEMBRANE-PACKER::GA-MEMBRANE> #<MEMBRANE-PACKER::GA-MEMBRANE> #<MEMBRANE-PACKER::GA-MEMBRANE> #<MEMBRANE-PACKER::GA-MEMBRANE> #<MEMBRANE-PACKER::GA-MEMBRANE> #<MEMBRANE-PACKER::GA-MEMBRANE> #<MEMBRANE-PACKER::GA-MEMBRANE> #<MEMBRANE-PACKER::GA-MEMBRANE> #<MEMBRANE-PACKER::GA-MEMBRANE> #<MEMBRANE-PACKER::GA-MEMBRANE> #<MEMBRANE-PACKER::GA-MEMBRANE> #<MEMBRANE-PACKER::GA-MEMBRANE> #<MEMBRANE-PACKER::GA-MEMBRANE> #<MEMBRANE-PACKER::GA-MEMBRANE> #<MEMBRANE-PACKER::GA-MEMBRANE> #<MEMBRANE-PACKER::GA-MEMBRANE> #<MEMBRANE-PACKER::GA-MEMBRANE> #<MEMBRANE-PACKER::GA-MEMBRANE> #<MEMBRANE-PACKER::GA-MEMBRANE> #<MEMBRANE-PACKER::GA-MEMBRANE> #<MEMBRANE-PACKER::GA-MEMBRANE> #<MEMBRANE-PACKER::GA-MEMBRANE> #<MEMBRANE-PACKER::GA-MEMBRANE> #<MEMBRANE-PACKER::GA-MEMBRANE> #<MEMBRANE-PACKER::GA-MEMBRANE> #<MEMBRANE-PACKER::GA-MEMBRANE> #<MEMBRANE-PACKER::GA-MEMBRANE> #<MEMBRANE-PACKER::GA-MEMBRANE> #<MEMBRANE-PACKER::GA-MEMBRANE> #<MEMBRANE-PACKER::GA-MEMBRANE> #<MEMBRANE-PACKER::GA-MEMBRANE> #<MEMBRANE-PACKER::GA-MEMBRANE> #<MEMBRANE-PACKER::GA-MEMBRANE> #<MEMBRANE-PACKER::GA-MEMBRANE> #<MEMBRANE-PACKER::GA-MEMBRANE> #<MEMBRANE-PACKER::GA-MEMBRANE> #<MEMBRANE-PACKER::GA-MEMBRANE> #<MEMBRANE-PACKER::GA-MEMBRANE> #<MEMBRANE-PACKER::GA-MEMBRANE> #<MEMBRANE-PACKER::GA-MEMBRANE> #<MEMBRANE-PACKER::GA-MEMBRANE> #<MEMBRANE-PACKER::GA-MEMBRANE> #<MEMBRANE-PACKER::GA-MEMBRANE> #<MEMBRANE-PACKER::GA-MEMBRANE> #<MEMBRANE-PACKER::GA-MEMBRANE> #<MEMBRANE-PACKER::GA-MEMBRANE> #<MEMBRANE-PACKER::GA-MEMBRANE> #<MEMBRANE-PACKER::GA-MEMBRANE> #<MEMBRANE-PACKER::GA-MEMBRANE> #<MEMBRANE-PACKER::GA-MEMBRANE> #<MEMBRANE-PACKER::GA-MEMBRANE> #<MEMBRANE-PACKER::GA-MEMBRANE> #<MEMBRANE-PACKER::GA-MEMBRANE> #<MEMBRANE-PACKER::GA-MEMBRANE> #<MEMBRANE-PACKER::GA-MEMBRANE> #<MEMBRANE-PACKER::GA-MEMBRANE> #<MEMBRANE-PACKER::GA-MEMBRANE> #<MEMBRANE-PACKER::GA-MEMBRANE> #<MEMBRANE-PACKER::GA-MEMBRANE> #<MEMBRANE-PACKER::GA-MEMBRANE> #<MEMBRANE-PACKER::GA-MEMBRANE> #<MEMBRANE-PACKER::GA-MEMBRANE> #<MEMBRANE-PACKER::GA-MEMBRANE> #<MEMBRANE-PACKER::GA-MEMBRANE> #<MEMBRANE-PACKER::GA-MEMBRANE> #<MEMBRANE-PACKER::GA-MEMBRANE> #<MEMBRANE-PACKER::GA-MEMBRANE> #<MEMBRANE-PACKER::GA-MEMBRANE> #<MEMBRANE-PACKER::GA-MEMBRANE> #<MEMBRANE-PACKER::GA-MEMBRANE> #<MEMBRANE-PACKER::GA-MEMBRANE> #<MEMBRANE-PACKER::GA-MEMBRANE> #<MEMBRANE-PACKER::GA-MEMBRANE> #<MEMBRANE-PACKER::GA-MEMBRANE> #<MEMBRANE-PACKER::GA-MEMBRANE> #<MEMBRANE-PACKER::GA-MEMBRANE> #<MEMBRANE-PACKER::GA-MEMBRANE> #<MEMBRANE-PACKER::GA-MEMBRANE> #<MEMBRANE-PACKER::GA-MEMBRANE> #<MEMBRANE-PACKER::GA-MEMBRANE> #<MEMBRANE-PACKER::GA-MEMBRANE> #<MEMBRANE-PACKER::GA-MEMBRANE> #<MEMBRANE-PACKER::GA-MEMBRANE> #<MEMBRANE-PACKER::GA-MEMBRANE> #<MEMBRANE-PACKER::GA-MEMBRANE> #<MEMBRANE-PACKER::GA-MEMBRANE> #<MEMBRANE-PACKER::GA-MEMBRANE> #<MEMBRANE-PACKER::GA-MEMBRANE> #<MEMBRANE-PACKER::GA-MEMBRANE> #<MEMBRANE-PACKER::GA-MEMBRANE> #<MEMBRANE-PACKER::GA-MEMBRANE> #<MEMBRANE-PACKER::GA-MEMBRANE> #<MEMBRANE-PACKER::GA-MEMBRANE> #<MEMBRANE-PACKER::GA-MEMBRANE> #<MEMBRANE-PACKER::GA-MEMBRANE> #<MEMBRANE-PACKER::GA-MEMBRANE> #<MEMBRANE-PACKER::GA-MEMBRANE> #<MEMBRANE-PACKER::GA-MEMBRANE> #<MEMBRANE-PACKER::GA-MEMBRANE> #<MEMBRANE-PACKER::GA-MEMBRANE> #<MEMBRANE-PACKER::GA-MEMBRANE> #<MEMBRANE-PACKER::GA-MEMBRANE> #<MEMBRANE-PACKER::GA-MEMBRANE> #<MEMBRANE-PACKER::GA-MEMBRANE> #<MEMBRANE-PACKER::GA-MEMBRANE> #<MEMBRANE-PACKER::GA-MEMBRANE> #<MEMBRANE-PACKER::GA-MEMBRANE> #<MEMBRANE-PACKER::GA-MEMBRANE> #<MEMBRANE-PACKER::GA-MEMBRANE> #<MEMBRANE-PACKER::GA-MEMBRANE> #<MEMBRANE-PACKER::GA-MEMBRANE> #<MEMBRANE-PACKER::GA-MEMBRANE> #<MEMBRANE-PACKER::GA-MEMBRANE> #<MEMBRANE-PACKER::GA-MEMBRANE> #<MEMBRANE-PACKER::GA-MEMBRANE> #<MEMBRANE-PACKER::GA-MEMBRANE> #<MEMBRANE-PACKER::GA-MEMBRANE> #<MEMBRANE-PACKER::GA-MEMBRANE> #<MEMBRANE-PACKER::GA-MEMBRANE> #<MEMBRANE-PACKER::GA-MEMBRANE> #<MEMBRANE-PACKER::GA-MEMBRANE> #<MEMBRANE-PACKER::GA-MEMBRANE> #<MEMBRANE-PACKER::GA-MEMBRANE> #<MEMBRANE-PACKER::GA-MEMBRANE> #<MEMBRANE-PACKER::GA-MEMBRANE> #<MEMBRANE-PACKER::GA-MEMBRANE> #<MEMBRANE-PACKER::GA-MEMBRANE> #<MEMBRANE-PACKER::GA-MEMBRANE> #<MEMBRANE-PACKER::GA-MEMBRANE> #<MEMBRANE-PACKER::GA-MEMBRANE> #<MEMBRANE-PACKER::GA-MEMBRANE> #<MEMBRANE-PACKER::GA-MEMBRANE> #<MEMBRANE-PACKER::GA-MEMBRANE> #<MEMBRANE-PACKER::GA-MEMBRANE> #<MEMBRANE-PACKER::GA-MEMBRANE> #<MEMBRANE-PACKER::GA-MEMBRANE> #<MEMBRANE-PACKER::GA-MEMBRANE> #<MEMBRANE-PACKER::GA-MEMBRANE> #<MEMBRANE-PACKER::GA-MEMBRANE> #<MEMBRANE-PACKER::GA-MEMBRANE> #<MEMBRANE-PACKER::GA-MEMBRANE> #<MEMBRANE-PACKER::GA-MEMBRANE> #<MEMBRANE-PACKER::GA-MEMBRANE> #<MEMBRANE-PACKER::GA-MEMBRANE> #<MEMBRANE-PACKER::GA-MEMBRANE> #<MEMBRANE-PACKER::GA-MEMBRANE>))\n",
      "9: (EVOLVE #<AGGREGATE NIL @0x14450c488>)\n",
      "10: (APPLY MEMBRANE-PACKER::EVOLVE #<AGGREGATE NIL @0x14450c488> NIL)\n",
      "11: (PACK #<AGGREGATE NIL @0x14450c488>)\n",
      "12: (LAMBDA)\n",
      "\n"
     ]
    },
    {
     "data": {
      "text/plain": [
       "NIL"
      ]
     },
     "execution_count": 44,
     "metadata": {},
     "output_type": "execute_result"
    }
   ],
   "source": [
    "(defparameter *scored-membranes* (membrane-packer:pack *prot*))"
   ]
  },
  {
   "cell_type": "code",
   "execution_count": 75,
   "metadata": {},
   "outputs": [
    {
     "data": {
      "text/plain": [
       "*SCORED-MEMBRANE*"
      ]
     },
     "execution_count": 75,
     "metadata": {},
     "output_type": "execute_result"
    }
   ],
   "source": [
    "(defparameter *scored-membrane* (elt *scored-membranes* 0))"
   ]
  },
  {
   "cell_type": "code",
   "execution_count": 76,
   "metadata": {},
   "outputs": [
    {
     "data": {
      "text/plain": [
       "(0 #<MEMBRANE-PACKER::GA-MEMBRANE> #<MEMBRANE-PACKER::COLLISIONS>)"
      ]
     },
     "execution_count": 76,
     "metadata": {},
     "output_type": "execute_result"
    }
   ],
   "source": [
    "*scored-membrane*"
   ]
  },
  {
   "cell_type": "code",
   "execution_count": 77,
   "metadata": {},
   "outputs": [
    {
     "name": "stdout",
     "output_type": "stream",
     "text": [
      "center '( -3.54272e-14 1.13175e-13 2.8385e-14)\n"
     ]
    },
    {
     "data": {
      "text/plain": [
       "*AGG*"
      ]
     },
     "execution_count": 77,
     "metadata": {},
     "output_type": "execute_result"
    }
   ],
   "source": [
    "(defparameter *agg* (membrane-packer:build-aggregate-from-ga-membrane (second *scored-membrane*)))"
   ]
  },
  {
   "cell_type": "code",
   "execution_count": 78,
   "metadata": {},
   "outputs": [
    {
     "data": {
      "application/vnd.jupyter.widget-view+json": {
       "model_id": "3ABF9BFF-EF73-433B-B5FB-D8D759B3DE06",
       "version_major": 2,
       "version_minor": 0
      },
      "text/plain": [
       "#<NGLV:NGLWIDGET>"
      ]
     },
     "execution_count": 78,
     "metadata": {},
     "output_type": "execute_result"
    }
   ],
   "source": [
    "(defparameter *v* (show *agg* :axes t)) *v*"
   ]
  },
  {
   "cell_type": "code",
   "execution_count": 79,
   "metadata": {},
   "outputs": [
    {
     "data": {
      "text/plain": [
       "T"
      ]
     },
     "execution_count": 79,
     "metadata": {},
     "output_type": "execute_result"
    }
   ],
   "source": [
    "(membrane-packer:add-collisions-as-shape *v* (third *scored-membrane*))"
   ]
  },
  {
   "cell_type": "code",
   "execution_count": 80,
   "metadata": {},
   "outputs": [
    {
     "name": "stdout",
     "output_type": "stream",
     "text": [
      "Completed  100.0% elapsed:  10.0 seconds ETC: --   There are 240 close-contacts of a possible 286368214\n"
     ]
    },
    {
     "data": {
      "text/plain": [
       "*CLOSE-CONTACTS*"
      ]
     },
     "execution_count": 80,
     "metadata": {},
     "output_type": "execute_result"
    }
   ],
   "source": [
    "(defparameter *close-contacts* (membrane-packer::close-contacts *agg*))"
   ]
  },
  {
   "cell_type": "code",
   "execution_count": 84,
   "metadata": {},
   "outputs": [
    {
     "data": {
      "text/plain": [
       "T"
      ]
     },
     "execution_count": 84,
     "metadata": {},
     "output_type": "execute_result"
    }
   ],
   "source": [
    "(membrane-packer:add-close-contacts-as-shape *v* *close-contacts*)"
   ]
  },
  {
   "cell_type": "code",
   "execution_count": 26,
   "metadata": {},
   "outputs": [
    {
     "name": "stdout",
     "output_type": "stream",
     "text": [
      "Saving matter to /tmp/zzbest.mol2\n"
     ]
    },
    {
     "data": {
      "text/plain": [
       "NIL"
      ]
     },
     "execution_count": 26,
     "metadata": {},
     "output_type": "execute_result"
    }
   ],
   "source": [
    "(save-mol2 *agg* \"/tmp/zzbest.mol2\" :use-sybyl-types t)"
   ]
  },
  {
   "cell_type": "code",
   "execution_count": 22,
   "metadata": {},
   "outputs": [
    {
     "data": {
      "text/plain": [
       "'( -3.54272e-14 1.13175e-13 2.8385e-14)"
      ]
     },
     "execution_count": 22,
     "metadata": {},
     "output_type": "execute_result"
    }
   ],
   "source": [
    "(chem:geometric-center (solute (ga-solute *memb*)))"
   ]
  },
  {
   "cell_type": "code",
   "execution_count": 23,
   "metadata": {},
   "outputs": [
    {
     "data": {
      "text/plain": [
       "*MEMB1*"
      ]
     },
     "execution_count": 23,
     "metadata": {},
     "output_type": "execute_result"
    }
   ],
   "source": [
    "(defparameter *memb1* (copy-ga-membrane *memb*))"
   ]
  },
  {
   "cell_type": "code",
   "execution_count": 7,
   "metadata": {},
   "outputs": [
    {
     "name": "stdout",
     "output_type": "stream",
     "text": [
      "Swank is already running\n"
     ]
    },
    {
     "data": {
      "text/plain": [
       "NIL"
      ]
     },
     "execution_count": 7,
     "metadata": {},
     "output_type": "execute_result"
    }
   ],
   "source": [
    "(start-swank 4010)"
   ]
  },
  {
   "cell_type": "code",
   "execution_count": 1,
   "metadata": {},
   "outputs": [
    {
     "data": {
      "text/plain": [
       "#P\"/Users/meister/Dropbox/Design/alkermes/\""
      ]
     },
     "execution_count": 1,
     "metadata": {},
     "output_type": "execute_result"
    }
   ],
   "source": [
    "*default-pathname-defaults*"
   ]
  },
  {
   "cell_type": "code",
   "execution_count": 3,
   "metadata": {},
   "outputs": [
    {
     "data": {
      "text/plain": [
       "(#P\"/Users/meister/Development/amber18/dat/antechamber/\"\n",
       " #P\"/Users/meister/Development/amber18/dat/leap/cmd/\"\n",
       " #P\"/Users/meister/Development/amber18/dat/leap/parm/\"\n",
       " #P\"/Users/meister/Development/amber18/dat/leap/lib/\"\n",
       " #P\"/Users/meister/Development/amber18/dat/leap/prep/\")"
      ]
     },
     "execution_count": 3,
     "metadata": {},
     "output_type": "execute_result"
    }
   ],
   "source": [
    "(setup-amber-paths)"
   ]
  },
  {
   "cell_type": "code",
   "execution_count": 9,
   "metadata": {},
   "outputs": [
    {
     "name": "stdout",
     "output_type": "stream",
     "text": [
      "Adding force field parm10.dat to DEFAULT\n",
      "Adding force field frcmod.ff14SB to DEFAULT\n"
     ]
    },
    {
     "name": "stderr",
     "output_type": "stream",
     "text": [
      "\n",
      "add-atom-types doesn't do anything\n",
      "\n",
      "Warning!  Skipping 10-12 hbond\n",
      "\n",
      "\n",
      "Warning!  Skipping force field atom equivalences\n",
      "\n"
     ]
    },
    {
     "data": {
      "text/plain": [
       "((T))"
      ]
     },
     "execution_count": 9,
     "metadata": {},
     "output_type": "execute_result"
    }
   ],
   "source": [
    "source \"leaprc.protein.ff14SB\""
   ]
  },
  {
   "cell_type": "code",
   "execution_count": 10,
   "metadata": {},
   "outputs": [
    {
     "name": "stdout",
     "output_type": "stream",
     "text": [
      "Adding force field lipid14.dat to DEFAULT\n"
     ]
    },
    {
     "name": "stderr",
     "output_type": "stream",
     "text": [
      "\n",
      "add-atom-types doesn't do anything\n",
      "\n",
      "Warning!  Skipping 10-12 hbond\n",
      "\n",
      "\n",
      "Warning!  Skipping force field atom equivalences\n",
      "\n"
     ]
    },
    {
     "data": {
      "text/plain": [
       "((T))"
      ]
     },
     "execution_count": 10,
     "metadata": {},
     "output_type": "execute_result"
    }
   ],
   "source": [
    "source \"leaprc.lipid14\""
   ]
  },
  {
   "cell_type": "code",
   "execution_count": 11,
   "metadata": {},
   "outputs": [
    {
     "name": "stdout",
     "output_type": "stream",
     "text": [
      "Adding force field frcmod.tip3p to DEFAULT\n",
      "Adding force field frcmod.ionsjc_tip3p to DEFAULT\n",
      "Adding force field frcmod.ions234lm_126_tip3p to DEFAULT\n"
     ]
    },
    {
     "name": "stderr",
     "output_type": "stream",
     "text": [
      "\n",
      "add-atom-types doesn't do anything\n"
     ]
    },
    {
     "data": {
      "text/plain": [
       "((T))"
      ]
     },
     "execution_count": 11,
     "metadata": {},
     "output_type": "execute_result"
    }
   ],
   "source": [
    "source \"leaprc.water.tip3p\""
   ]
  },
  {
   "cell_type": "code",
   "execution_count": 12,
   "metadata": {},
   "outputs": [
    {
     "name": "stdout",
     "output_type": "stream",
     "text": [
      "Adding force field gaff.dat to DEFAULT\n"
     ]
    },
    {
     "name": "stderr",
     "output_type": "stream",
     "text": [
      "\n",
      "add-atom-types doesn't do anything\n",
      "\n",
      "Warning!  Skipping 10-12 hbond\n",
      "\n",
      "\n",
      "Warning!  Skipping force field atom equivalences\n",
      "\n"
     ]
    },
    {
     "data": {
      "text/plain": [
       "((T))"
      ]
     },
     "execution_count": 12,
     "metadata": {},
     "output_type": "execute_result"
    }
   ],
   "source": [
    "source \"leaprc.gaff\""
   ]
  },
  {
   "cell_type": "code",
   "execution_count": 13,
   "metadata": {},
   "outputs": [
    {
     "data": {
      "text/plain": [
       "#<LIPID-INFO>"
      ]
     },
     "execution_count": 13,
     "metadata": {},
     "output_type": "execute_result"
    }
   ],
   "source": [
    "*popc*"
   ]
  },
  {
   "cell_type": "code",
   "execution_count": null,
   "metadata": {},
   "outputs": [],
   "source": [
    "(test-everything1)"
   ]
  },
  {
   "cell_type": "code",
   "execution_count": 31,
   "metadata": {},
   "outputs": [
    {
     "name": "stdout",
     "output_type": "stream",
     "text": [
      "Adding force field gaff.dat to DEFAULT\n",
      "Adding force field parm10.dat to DEFAULT\n",
      "Adding force field frcmod.ff14SB to DEFAULT\n",
      "Adding force field lipid14.dat to DEFAULT\n",
      "Adding force field frcmod.tip3p to DEFAULT\n",
      "Adding force field frcmod.ionsjc_tip3p to DEFAULT\n",
      "Adding force field frcmod.ions234lm_126_tip3p to DEFAULT\n",
      "Adding force field gaff.dat to DEFAULT\n",
      "Building an empty membrane\n",
      "Translation vector: '( -52.8892 -48.7931 -55.1242)\n",
      "Total solute charge:  12.00  Max atom radius:   2.00\n",
      "Box:\n",
      "   enclosing:  -29.53 -24.60 -39.13   32.81 21.28 41.35\n",
      "PdHalfEdges:        64.00\n",
      "PdHalfDiagonals:     110.85 Angstrom.\n",
      "PdHalfEdges:        32.00\n",
      "PdHalfDiagonals:     55.43 Angstrom.\n",
      "PdHalfEdges:        16.00\n",
      "PdHalfDiagonals:     27.71 Angstrom.\n",
      "PdHalfEdges:         8.00\n",
      "PdHalfDiagonals:     13.86 Angstrom.\n",
      "PdHalfEdges:         4.00\n",
      "PdHalfDiagonals:      6.93 Angstrom.\n",
      "PdHalfEdges:         2.00\n",
      "PdHalfDiagonals:      3.46 Angstrom.\n",
      "PdHalfEdges:         1.00\n",
      "PdHalfDiagonals:      1.73 Angstrom.\n",
      "PdHalfEdges:         0.50\n",
      "PdHalfDiagonals:      0.87 Angstrom.\n",
      "   sized:\t\t\t      98.47 103.40 88.87\n",
      "   edge:        128.00\n",
      "Resolution:      1.00 Angstrom.\n",
      "Tree depth: 7\n",
      "About to build interior octant iAtoms -> 4835\n",
      "Volume =  0.00 of box, grid points 423610\n",
      "Condition of type ESTIMATED-ANGLE-TERM was signaled.\n",
      "Condition of type ESTIMATED-ANGLE-TERM was signaled.\n",
      "Condition of type ESTIMATED-ANGLE-TERM was signaled.\n",
      "Condition of type ESTIMATED-ANGLE-TERM was signaled.\n",
      "Condition of type ESTIMATED-ANGLE-TERM was signaled.\n",
      "Condition of type ESTIMATED-ANGLE-TERM was signaled.\n",
      "Condition of type ESTIMATED-ANGLE-TERM was signaled.\n",
      "Condition of type ESTIMATED-ANGLE-TERM was signaled.\n",
      "Dynamics step 0\n",
      "Dynamics step 1\n",
      "Dynamics step 2\n",
      "Dynamics step 3\n",
      "Dynamics step 4\n",
      "Dynamics step 5\n",
      "Dynamics step 6\n",
      "Dynamics step 7\n",
      "Dynamics step 8\n",
      "Dynamics step 9\n"
     ]
    },
    {
     "name": "stderr",
     "output_type": "stream",
     "text": [
      "\n",
      "Warning!  Skipping 10-12 hbond\n",
      "\n",
      "\n",
      "Warning!  Skipping force field atom equivalences\n",
      "\n",
      "\n",
      "add-atom-types doesn't do anything\n",
      "\n",
      "Warning!  Skipping 10-12 hbond\n",
      "\n",
      "\n",
      "Warning!  Skipping force field atom equivalences\n",
      "\n",
      "\n",
      "add-atom-types doesn't do anything\n",
      "\n",
      "Warning!  Skipping 10-12 hbond\n",
      "\n",
      "\n",
      "Warning!  Skipping force field atom equivalences\n",
      "\n",
      "\n",
      "add-atom-types doesn't do anything\n",
      "\n",
      "add-atom-types doesn't do anything\n",
      "\n",
      "Warning!  Skipping 10-12 hbond\n",
      "\n",
      "\n",
      "Warning!  Skipping force field atom equivalences\n",
      "\n",
      "\n",
      "Could not find stretch parameter between #<ATOM :H2/:H @0x19d29d1e9> and #<ATOM :N/:N @0x19d29d2d9>\n",
      "\n",
      "Could not find stretch parameter between #<ATOM :H3/:H @0x19d29d0f9> and #<ATOM :N/:N @0x19d29d2d9>\n",
      "\n",
      "Could not find stretch parameter between #<ATOM :OXT/:O @0x192176d29> and #<ATOM :C/:C @0x192176f09>\n",
      "\n",
      "Could not find stretch parameter between #<ATOM :H1/:H @0x192176b49> and #<ATOM :N/:N @0x192176c39>\n",
      "\n",
      "Could not find stretch parameter between #<ATOM :H2/:H @0x192176a59> and #<ATOM :N/:N @0x192176c39>\n",
      "\n",
      "Could not find stretch parameter between #<ATOM :H3/:H @0x192176969> and #<ATOM :N/:N @0x192176c39>\n",
      "\n",
      "Could not find stretch parameter between #<ATOM :OXT/:O @0x190cddd29> and #<ATOM :C/:C @0x190cddf09>\n"
     ]
    },
    {
     "data": {
      "text/plain": [
       "*DYN*"
      ]
     },
     "execution_count": 31,
     "metadata": {},
     "output_type": "execute_result"
    }
   ],
   "source": [
    "(defparameter *dyn* (test-everything))"
   ]
  },
  {
   "cell_type": "code",
   "execution_count": 32,
   "metadata": {},
   "outputs": [
    {
     "data": {
      "application/vnd.jupyter.widget-view+json": {
       "model_id": "5FE1EA4D-CA02-4398-8A1F-E54DD73C6A91",
       "version_major": 2,
       "version_minor": 0
      },
      "text/plain": [
       "#<NGLV:NGLWIDGET>"
      ]
     },
     "execution_count": 32,
     "metadata": {},
     "output_type": "execute_result"
    }
   ],
   "source": [
    "(show *dyn*)"
   ]
  },
  {
   "cell_type": "code",
   "execution_count": 13,
   "metadata": {},
   "outputs": [
    {
     "data": {
      "text/plain": [
       "NIL"
      ]
     },
     "execution_count": 13,
     "metadata": {},
     "output_type": "execute_result"
    }
   ],
   "source": [
    "(assign-atom-types *p*)"
   ]
  },
  {
   "cell_type": "code",
   "execution_count": 17,
   "metadata": {},
   "outputs": [
    {
     "name": "stdout",
     "output_type": "stream",
     "text": [
      "#<MOLECULE NIL @0x128a6fcc8> #<RESIDUE :PRO @0x167647e88> #<ATOM :N/:N @0x1676630f9>\n",
      "#<MOLECULE NIL @0x128a6fcc8> #<RESIDUE :LYS @0x167647e08> #<ATOM :N/:N @0x151dfbe19>\n",
      "#<MOLECULE NIL @0x128a6fcc8> #<RESIDUE :GLU @0x167647d88> #<ATOM :N/:N @0x133ff2009>\n",
      "#<MOLECULE NIL @0x128a6fcc8> #<RESIDUE :TYR @0x167647d08> #<ATOM :N/:N @0x1329f0789>\n",
      "#<MOLECULE NIL @0x128a6fcc8> #<RESIDUE :GLU @0x167647c88> #<ATOM :N/:N @0x16735de19>\n",
      "#<MOLECULE NIL @0x128a6fcc8> #<RESIDUE :TRP @0x167647c08> #<ATOM :N/:N @0x135fb1789>\n",
      "#<MOLECULE NIL @0x128a6fcc8> #<RESIDUE :VAL @0x167647b88> #<ATOM :N/:N @0x135fb60f9>\n",
      "#<MOLECULE NIL @0x128a6fcc8> #<RESIDUE :LEU @0x167647b08> #<ATOM :N/:N @0x135fc11e9>\n",
      "#<MOLECULE NIL @0x128a6fcc8> #<RESIDUE :ILE @0x167647a88> #<ATOM :N/:N @0x135fe4009>\n",
      "#<MOLECULE NIL @0x128a6fcc8> #<RESIDUE :ALA @0x167647a08> #<ATOM :N/:N @0x135ffae19>\n",
      "#<MOLECULE NIL @0x128a6fcc8> #<RESIDUE :GLY @0x167647988> #<ATOM :N/:N @0x135ffa4b9>\n",
      "#<MOLECULE NIL @0x128a6fcc8> #<RESIDUE :TYR @0x167647908> #<ATOM :N/:N @0x135810e19>\n",
      "#<MOLECULE NIL @0x128a6fcc8> #<RESIDUE :ILE @0x167647888> #<ATOM :N/:N @0x13581ea59>\n",
      "#<MOLECULE NIL @0x128a6fcc8> #<RESIDUE :ILE @0x167647808> #<ATOM :N/:N @0x13582e879>\n",
      "#<MOLECULE NIL @0x128a6fcc8> #<RESIDUE :VAL @0x167647788> #<ATOM :N/:N @0x135834699>\n",
      "#<MOLECULE NIL @0x128a6fcc8> #<RESIDUE :PHE @0x167647708> #<ATOM :N/:N @0x13583c789>\n",
      "#<MOLECULE NIL @0x128a6fcc8> #<RESIDUE :VAL @0x167647688> #<ATOM :N/:N @0x1358404b9>\n",
      "#<MOLECULE NIL @0x128a6fcc8> #<RESIDUE :VAL @0x167647608> #<ATOM :N/:N @0x1358485a9>\n",
      "#<MOLECULE NIL @0x128a6fcc8> #<RESIDUE :ALA @0x167647588> #<ATOM :N/:N @0x13584d699>\n",
      "#<MOLECULE NIL @0x128a6fcc8> #<RESIDUE :LEU @0x167647508> #<ATOM :N/:N @0x13585bd29>\n",
      "#<MOLECULE NIL @0x128a6fcc8> #<RESIDUE :ILE @0x167647488> #<ATOM :N/:N @0x13586db49>\n",
      "#<MOLECULE NIL @0x128a6fcc8> #<RESIDUE :GLY @0x167647408> #<ATOM :N/:N @0x13587f969>\n",
      "#<MOLECULE NIL @0x128a6fcc8> #<RESIDUE :ASN @0x167647388> #<ATOM :N/:N @0x13587f2d9>\n",
      "#<MOLECULE NIL @0x128a6fcc8> #<RESIDUE :ASN @0x167647388> #<ATOM :ND2/:N @0x13588aa59>\n",
      "#<MOLECULE NIL @0x128a6fcc8> #<RESIDUE :VAL @0x167647308> #<ATOM :N/:N @0x13588a5a9>\n",
      "#<MOLECULE NIL @0x128a6fcc8> #<RESIDUE :LEU @0x167647288> #<ATOM :N/:N @0x135898699>\n",
      "#<MOLECULE NIL @0x128a6fcc8> #<RESIDUE :VAL @0x167647208> #<ATOM :N/:N @0x13589d4b9>\n",
      "#<MOLECULE NIL @0x128a6fcc8> #<RESIDUE :CYS @0x167647188> #<ATOM :N/:N @0x1358a05a9>\n",
      "#<MOLECULE NIL @0x128a6fcc8> #<RESIDUE :VAL @0x167647108> #<ATOM :N/:N @0x1358abb49>\n",
      "#<MOLECULE NIL @0x128a6fcc8> #<RESIDUE :ALA @0x167647088> #<ATOM :N/:N @0x1358b0c39>\n",
      "#<MOLECULE NIL @0x128a6fcc8> #<RESIDUE :VAL @0x167647008> #<ATOM :N/:N @0x1358b02d9>\n",
      "#<MOLECULE NIL @0x128a6fcc8> #<RESIDUE :TRP @0x147273608> #<ATOM :N/:N @0x1358c33c9>\n",
      "#<MOLECULE NIL @0x128a6fcc8> #<RESIDUE :LYS @0x147273588> #<ATOM :N/:N @0x1358f3d29>\n",
      "#<MOLECULE NIL @0x128a6fcc8> #<RESIDUE :ASN @0x147273508> #<ATOM :N/:N @0x135902879>\n",
      "#<MOLECULE NIL @0x128a6fcc8> #<RESIDUE :ASN @0x147273508> #<ATOM :ND2/:N @0x135902009>\n",
      "#<MOLECULE NIL @0x128a6fcc8> #<RESIDUE :HIE @0x147273488> #<ATOM :N/:N @0x135904b49>\n",
      "#<MOLECULE NIL @0x128a6fcc8> #<RESIDUE :HIE @0x147273408> #<ATOM :N/:N @0x135921b49>\n",
      "#<MOLECULE NIL @0x128a6fcc8> #<RESIDUE :MET @0x147273388> #<ATOM :N/:N @0x135924b49>\n",
      "#<MOLECULE NIL @0x128a6fcc8> #<RESIDUE :ARG @0x147273308> #<ATOM :N/:N @0x13592fb49>\n",
      "#<MOLECULE NIL @0x128a6fcc8> #<RESIDUE :THR @0x147273288> #<ATOM :N/:N @0x1359324b9>\n",
      "#<MOLECULE NIL @0x128a6fcc8> #<RESIDUE :VAL @0x147273208> #<ATOM :N/:N @0x13593b789>\n",
      "#<MOLECULE NIL @0x128a6fcc8> #<RESIDUE :THR @0x147273188> #<ATOM :N/:N @0x13594a879>\n",
      "#<MOLECULE NIL @0x128a6fcc8> #<RESIDUE :ASN @0x147273108> #<ATOM :N/:N @0x13594eb49>\n",
      "#<MOLECULE NIL @0x128a6fcc8> #<RESIDUE :ASN @0x147273108> #<ATOM :ND2/:N @0x13594e2d9>\n",
      "#<MOLECULE NIL @0x128a6fcc8> #<RESIDUE :TYR @0x147273088> #<ATOM :N/:N @0x135964e19>\n",
      "#<MOLECULE NIL @0x128a6fcc8> #<RESIDUE :PHE @0x147273008> #<ATOM :N/:N @0x135968a59>\n",
      "#<MOLECULE NIL @0x128a6fcc8> #<RESIDUE :ILE @0x1472bdf88> #<ATOM :N/:N @0x13596a789>\n",
      "#<MOLECULE NIL @0x128a6fcc8> #<RESIDUE :VAL @0x1472bdf08> #<ATOM :N/:N @0x1359815a9>\n",
      "#<MOLECULE NIL @0x128a6fcc8> #<RESIDUE :ASN @0x1472bde88> #<ATOM :N/:N @0x1359ad699>\n",
      "#<MOLECULE NIL @0x128a6fcc8> #<RESIDUE :ASN @0x1472bde88> #<ATOM :ND2/:N @0x1359b7e19>\n",
      "#<MOLECULE NIL @0x128a6fcc8> #<RESIDUE :LEU @0x1472bde08> #<ATOM :N/:N @0x1359b7969>\n",
      "#<MOLECULE NIL @0x128a6fcc8> #<RESIDUE :SER @0x1472bdd88> #<ATOM :N/:N @0x1359b9789>\n",
      "#<MOLECULE NIL @0x128a6fcc8> #<RESIDUE :LEU @0x1472bdd08> #<ATOM :N/:N @0x1359d4d29>\n",
      "#<MOLECULE NIL @0x128a6fcc8> #<RESIDUE :ALA @0x1472bdc88> #<ATOM :N/:N @0x1359dcb49>\n",
      "#<MOLECULE NIL @0x128a6fcc8> #<RESIDUE :ASP @0x1472bdc08> #<ATOM :N/:N @0x1359dc1e9>\n",
      "#<MOLECULE NIL @0x128a6fcc8> #<RESIDUE :VAL @0x1472bdb88> #<ATOM :N/:N @0x1359e8699>\n",
      "#<MOLECULE NIL @0x128a6fcc8> #<RESIDUE :LEU @0x1472bdb08> #<ATOM :N/:N @0x135a11789>\n",
      "#<MOLECULE NIL @0x128a6fcc8> #<RESIDUE :VAL @0x1472bda08> #<ATOM :N/:N @0x135a1c5a9>\n",
      "#<MOLECULE NIL @0x128a6fcc8> #<RESIDUE :THR @0x1472bd988> #<ATOM :N/:N @0x135a1f699>\n",
      "#<MOLECULE NIL @0x128a6fcc8> #<RESIDUE :ILE @0x1472bd908> #<ATOM :N/:N @0x135a32969>\n",
      "#<MOLECULE NIL @0x128a6fcc8> #<RESIDUE :THR @0x1472bd888> #<ATOM :N/:N @0x135a3a789>\n",
      "#<MOLECULE NIL @0x128a6fcc8> #<RESIDUE :CYS @0x1472bd708> #<ATOM :N/:N @0x135a3fa59>\n",
      "#<MOLECULE NIL @0x128a6fcc8> #<RESIDUE :LEU @0x1472bd688> #<ATOM :N/:N @0x135a3f009>\n",
      "#<MOLECULE NIL @0x128a6fcc8> #<RESIDUE :PRO @0x1472bd608> #<ATOM :N/:N @0x135a45e19>\n",
      "#<MOLECULE NIL @0x128a6fcc8> #<RESIDUE :ALA @0x1472bd588> #<ATOM :N/:N @0x135a450f9>\n",
      "#<MOLECULE NIL @0x128a6fcc8> #<RESIDUE :THR @0x1472bd508> #<ATOM :N/:N @0x135a53789>\n",
      "#<MOLECULE NIL @0x128a6fcc8> #<RESIDUE :LEU @0x1472bd488> #<ATOM :N/:N @0x135a64a59>\n",
      "#<MOLECULE NIL @0x128a6fcc8> #<RESIDUE :VAL @0x1472bd408> #<ATOM :N/:N @0x135a76879>\n",
      "#<MOLECULE NIL @0x128a6fcc8> #<RESIDUE :VAL @0x1472bd388> #<ATOM :N/:N @0x135a7e969>\n",
      "#<MOLECULE NIL @0x128a6fcc8> #<RESIDUE :ASP @0x1472bd308> #<ATOM :N/:N @0x135a87a59>\n",
      "#<MOLECULE NIL @0x128a6fcc8> #<RESIDUE :ILE @0x1472bd288> #<ATOM :N/:N @0x135a91f09>\n",
      "#<MOLECULE NIL @0x128a6fcc8> #<RESIDUE :THR @0x1472bd208> #<ATOM :N/:N @0x135a9ad29>\n",
      "#<MOLECULE NIL @0x128a6fcc8> #<RESIDUE :GLU @0x1472bd188> #<ATOM :N/:N @0x135a9a009>\n",
      "#<MOLECULE NIL @0x128a6fcc8> #<RESIDUE :THR @0x1472bd108> #<ATOM :N/:N @0x135aa51e9>\n",
      "#<MOLECULE NIL @0x128a6fcc8> #<RESIDUE :TRP @0x1472bd088> #<ATOM :N/:N @0x135aa74b9>\n",
      "#<MOLECULE NIL @0x128a6fcc8> #<RESIDUE :PHE @0x1472bd008> #<ATOM :N/:N @0x135abfe19>\n",
      "#<MOLECULE NIL @0x128a6fcc8> #<RESIDUE :PHE @0x1472eaf88> #<ATOM :N/:N @0x135ac1b49>\n",
      "#<MOLECULE NIL @0x128a6fcc8> #<RESIDUE :GLY @0x1472eaf08> #<ATOM :N/:N @0x135ac8879>\n",
      "#<MOLECULE NIL @0x128a6fcc8> #<RESIDUE :GLN @0x1472eae88> #<ATOM :N/:N @0x135ac81e9>\n",
      "#<MOLECULE NIL @0x128a6fcc8> #<RESIDUE :GLN @0x1472eae88> #<ATOM :NE2/:N @0x135aca699>\n",
      "#<MOLECULE NIL @0x128a6fcc8> #<RESIDUE :SER @0x1472eae08> #<ATOM :N/:N @0x135aca1e9>\n",
      "#<MOLECULE NIL @0x128a6fcc8> #<RESIDUE :LEU @0x1472ead88> #<ATOM :N/:N @0x135aeb789>\n",
      "#<MOLECULE NIL @0x128a6fcc8> #<RESIDUE :CYS @0x1472ead08> #<ATOM :N/:N @0x135af25a9>\n",
      "#<MOLECULE NIL @0x128a6fcc8> #<RESIDUE :LYS @0x1472eac88> #<ATOM :N/:N @0x135afab49>\n",
      "#<MOLECULE NIL @0x128a6fcc8> #<RESIDUE :VAL @0x1472eac08> #<ATOM :N/:N @0x135b01699>\n",
      "#<MOLECULE NIL @0x128a6fcc8> #<RESIDUE :ILE @0x1472eab88> #<ATOM :N/:N @0x135b15789>\n",
      "#<MOLECULE NIL @0x128a6fcc8> #<RESIDUE :PRO @0x1472eab08> #<ATOM :N/:N @0x135b205a9>\n",
      "#<MOLECULE NIL @0x128a6fcc8> #<RESIDUE :TYR @0x1472eaa88> #<ATOM :N/:N @0x135b31879>\n",
      "#<MOLECULE NIL @0x128a6fcc8> #<RESIDUE :LEU @0x1472ea988> #<ATOM :N/:N @0x135b334b9>\n",
      "#<MOLECULE NIL @0x128a6fcc8> #<RESIDUE :GLN @0x146f4ed08> #<ATOM :N/:N @0x135b4c2d9>\n",
      "#<MOLECULE NIL @0x128a6fcc8> #<RESIDUE :GLN @0x146f4ed08> #<ATOM :NE2/:N @0x135b4f789>\n",
      "#<MOLECULE NIL @0x128a6fcc8> #<RESIDUE :THR @0x146f4ec88> #<ATOM :N/:N @0x135b4f2d9>\n",
      "#<MOLECULE NIL @0x128a6fcc8> #<RESIDUE :VAL @0x146f4ec08> #<ATOM :N/:N @0x135b535a9>\n",
      "#<MOLECULE NIL @0x128a6fcc8> #<RESIDUE :SER @0x146f4eb08> #<ATOM :N/:N @0x135b5c699>\n",
      "#<MOLECULE NIL @0x128a6fcc8> #<RESIDUE :VAL @0x146f4ea88> #<ATOM :N/:N @0x135b68c39>\n",
      "#<MOLECULE NIL @0x128a6fcc8> #<RESIDUE :SER @0x146f4ea08> #<ATOM :N/:N @0x135b82d29>\n",
      "#<MOLECULE NIL @0x128a6fcc8> #<RESIDUE :VAL @0x146f4e988> #<ATOM :N/:N @0x135b822d9>\n",
      "#<MOLECULE NIL @0x128a6fcc8> #<RESIDUE :SER @0x146f4e908> #<ATOM :N/:N @0x135b863c9>\n",
      "#<MOLECULE NIL @0x128a6fcc8> #<RESIDUE :VAL @0x146f4e888> #<ATOM :N/:N @0x135b8c969>\n",
      "#<MOLECULE NIL @0x128a6fcc8> #<RESIDUE :LEU @0x146f4e808> #<ATOM :N/:N @0x135b93a59>\n",
      "#<MOLECULE NIL @0x128a6fcc8> #<RESIDUE :THR @0x146f4e788> #<ATOM :N/:N @0x135ba4879>\n",
      "#<MOLECULE NIL @0x128a6fcc8> #<RESIDUE :LEU @0x146f4e708> #<ATOM :N/:N @0x135ba7b49>\n",
      "#<MOLECULE NIL @0x128a6fcc8> #<RESIDUE :SER @0x146f4e688> #<ATOM :N/:N @0x135baf969>\n",
      "#<MOLECULE NIL @0x128a6fcc8> #<RESIDUE :CYS @0x146f4e608> #<ATOM :N/:N @0x135bc5f09>\n",
      "#<MOLECULE NIL @0x128a6fcc8> #<RESIDUE :ILE @0x146f4e588> #<ATOM :N/:N @0x135bc54b9>\n",
      "#<MOLECULE NIL @0x128a6fcc8> #<RESIDUE :ALA @0x146f4e508> #<ATOM :N/:N @0x135bcd2d9>\n",
      "#<MOLECULE NIL @0x128a6fcc8> #<RESIDUE :LEU @0x146f4e488> #<ATOM :N/:N @0x135bd1969>\n",
      "#<MOLECULE NIL @0x128a6fcc8> #<RESIDUE :ASP @0x146f4e408> #<ATOM :N/:N @0x135bd3789>\n",
      "#<MOLECULE NIL @0x128a6fcc8> #<RESIDUE :ARG @0x146f4e388> #<ATOM :N/:N @0x135bd8c39>\n",
      "#<MOLECULE NIL @0x128a6fcc8> #<RESIDUE :TRP @0x146f4e308> #<ATOM :N/:N @0x135bda5a9>\n",
      "#<MOLECULE NIL @0x128a6fcc8> #<RESIDUE :TYR @0x146f4e288> #<ATOM :N/:N @0x135bf9f09>\n",
      "#<MOLECULE NIL @0x128a6fcc8> #<RESIDUE :ALA @0x146f4e208> #<ATOM :N/:N @0x135410b49>\n",
      "#<MOLECULE NIL @0x128a6fcc8> #<RESIDUE :ILE @0x146f4e188> #<ATOM :N/:N @0x1354101e9>\n",
      "#<MOLECULE NIL @0x128a6fcc8> #<RESIDUE :CYS @0x146f4e108> #<ATOM :N/:N @0x135446009>\n",
      "#<MOLECULE NIL @0x128a6fcc8> #<RESIDUE :HIE @0x146f4e088> #<ATOM :N/:N @0x1354485a9>\n",
      "#<MOLECULE NIL @0x128a6fcc8> #<RESIDUE :PRO @0x146f4e008> #<ATOM :N/:N @0x13544d5a9>\n",
      "#<MOLECULE NIL @0x128a6fcc8> #<RESIDUE :LEU @0x146ab6408> #<ATOM :N/:N @0x13544f879>\n",
      "#<MOLECULE NIL @0x128a6fcc8> #<RESIDUE :MET @0x146ab6388> #<ATOM :N/:N @0x135463699>\n",
      "#<MOLECULE NIL @0x128a6fcc8> #<RESIDUE :PHE @0x146ab6308> #<ATOM :N/:N @0x135493699>\n",
      "#<MOLECULE NIL @0x128a6fcc8> #<RESIDUE :LYS @0x146ab6288> #<ATOM :N/:N @0x13549e3c9>\n",
      "#<MOLECULE NIL @0x128a6fcc8> #<RESIDUE :SER @0x146ab6208> #<ATOM :N/:N @0x1354a5f09>\n",
      "#<MOLECULE NIL @0x128a6fcc8> #<RESIDUE :THR @0x146ab6188> #<ATOM :N/:N @0x1354a54b9>\n",
      "#<MOLECULE NIL @0x128a6fcc8> #<RESIDUE :ALA @0x146ab6108> #<ATOM :N/:N @0x1354c1789>\n",
      "#<MOLECULE NIL @0x128a6fcc8> #<RESIDUE :LYS @0x146ab6088> #<ATOM :N/:N @0x1354c3e19>\n",
      "#<MOLECULE NIL @0x128a6fcc8> #<RESIDUE :ARG @0x146ab6008> #<ATOM :N/:N @0x1354c6969>\n",
      "#<MOLECULE NIL @0x128a6fcc8> #<RESIDUE :ALA @0x14641ad08> #<ATOM :N/:N @0x1354d52d9>\n",
      "#<MOLECULE NIL @0x128a6fcc8> #<RESIDUE :ARG @0x14641ac88> #<ATOM :N/:N @0x1354e8969>\n",
      "#<MOLECULE NIL @0x128a6fcc8> #<RESIDUE :ASN @0x14641ac08> #<ATOM :N/:N @0x1354f32d9>\n",
      "#<MOLECULE NIL @0x128a6fcc8> #<RESIDUE :ASN @0x14641ac08> #<ATOM :ND2/:N @0x1354fca59>\n",
      "#<MOLECULE NIL @0x128a6fcc8> #<RESIDUE :SER @0x14641ab88> #<ATOM :N/:N @0x1354fc5a9>\n",
      "#<MOLECULE NIL @0x128a6fcc8> #<RESIDUE :ILE @0x14641ab08> #<ATOM :N/:N @0x1354ffb49>\n",
      "#<MOLECULE NIL @0x128a6fcc8> #<RESIDUE :VAL @0x14641aa88> #<ATOM :N/:N @0x13552d969>\n",
      "#<MOLECULE NIL @0x128a6fcc8> #<RESIDUE :ILE @0x14641aa08> #<ATOM :N/:N @0x135532a59>\n",
      "#<MOLECULE NIL @0x128a6fcc8> #<RESIDUE :ILE @0x14641a988> #<ATOM :N/:N @0x135536879>\n",
      "#<MOLECULE NIL @0x128a6fcc8> #<RESIDUE :TRP @0x14641a908> #<ATOM :N/:N @0x135539699>\n",
      "#<MOLECULE NIL @0x128a6fcc8> #<RESIDUE :ILE @0x14641a888> #<ATOM :N/:N @0x13555e009>\n",
      "#<MOLECULE NIL @0x128a6fcc8> #<RESIDUE :VAL @0x14641a808> #<ATOM :N/:N @0x135591e19>\n",
      "#<MOLECULE NIL @0x128a6fcc8> #<RESIDUE :SER @0x14641a788> #<ATOM :N/:N @0x135596f09>\n",
      "#<MOLECULE NIL @0x128a6fcc8> #<RESIDUE :CYS @0x14641a708> #<ATOM :N/:N @0x1355964b9>\n",
      "#<MOLECULE NIL @0x128a6fcc8> #<RESIDUE :ILE @0x14641a688> #<ATOM :N/:N @0x13559aa59>\n",
      "#<MOLECULE NIL @0x128a6fcc8> #<RESIDUE :ILE @0x14641a608> #<ATOM :N/:N @0x13559d879>\n",
      "#<MOLECULE NIL @0x128a6fcc8> #<RESIDUE :MET @0x14641a588> #<ATOM :N/:N @0x1355aa699>\n",
      "#<MOLECULE NIL @0x128a6fcc8> #<RESIDUE :ILE @0x14641a508> #<ATOM :N/:N @0x1355ae699>\n",
      "#<MOLECULE NIL @0x128a6fcc8> #<RESIDUE :PRO @0x14641a488> #<ATOM :N/:N @0x1355b64b9>\n",
      "#<MOLECULE NIL @0x128a6fcc8> #<RESIDUE :GLN @0x14641a408> #<ATOM :N/:N @0x1355b8789>\n",
      "#<MOLECULE NIL @0x128a6fcc8> #<RESIDUE :GLN @0x14641a408> #<ATOM :NE2/:N @0x1355d3c39>\n",
      "#<MOLECULE NIL @0x128a6fcc8> #<RESIDUE :ALA @0x14641a388> #<ATOM :N/:N @0x1355d3789>\n",
      "#<MOLECULE NIL @0x128a6fcc8> #<RESIDUE :ILE @0x14641a308> #<ATOM :N/:N @0x1355dce19>\n",
      "#<MOLECULE NIL @0x128a6fcc8> #<RESIDUE :VAL @0x14641a288> #<ATOM :N/:N @0x1355dec39>\n",
      "#<MOLECULE NIL @0x128a6fcc8> #<RESIDUE :MET @0x14641a208> #<ATOM :N/:N @0x1355f4d29>\n",
      "#<MOLECULE NIL @0x128a6fcc8> #<RESIDUE :GLU @0x14641a188> #<ATOM :N/:N @0x1355f6d29>\n",
      "#<MOLECULE NIL @0x128a6fcc8> #<RESIDUE :CYS @0x14641a108> #<ATOM :N/:N @0x1355fcf09>\n",
      "#<MOLECULE NIL @0x128a6fcc8> #<RESIDUE :SER @0x14641a088> #<ATOM :N/:N @0x1355fc4b9>\n",
      "#<MOLECULE NIL @0x128a6fcc8> #<RESIDUE :THR @0x14641a008> #<ATOM :N/:N @0x135607a59>\n",
      "#<MOLECULE NIL @0x128a6fcc8> #<RESIDUE :VAL @0x1466bff88> #<ATOM :N/:N @0x135615d29>\n",
      "#<MOLECULE NIL @0x128a6fcc8> #<RESIDUE :PHE @0x1466bff08> #<ATOM :N/:N @0x13561ae19>\n",
      "#<MOLECULE NIL @0x128a6fcc8> #<RESIDUE :PRO @0x1466bfe88> #<ATOM :N/:N @0x13561fb49>\n",
      "#<MOLECULE NIL @0x128a6fcc8> #<RESIDUE :GLY @0x1466bfe08> #<ATOM :N/:N @0x135621e19>\n",
      "#<MOLECULE NIL @0x128a6fcc8> #<RESIDUE :LEU @0x1466bfd88> #<ATOM :N/:N @0x135621789>\n",
      "#<MOLECULE NIL @0x128a6fcc8> #<RESIDUE :ALA @0x1466bfd08> #<ATOM :N/:N @0x13562a5a9>\n",
      "#<MOLECULE NIL @0x128a6fcc8> #<RESIDUE :ASN @0x1466bfc88> #<ATOM :N/:N @0x135630c39>\n",
      "#<MOLECULE NIL @0x128a6fcc8> #<RESIDUE :ASN @0x1466bfc88> #<ATOM :ND2/:N @0x1356303c9>\n",
      "#<MOLECULE NIL @0x128a6fcc8> #<RESIDUE :LYS @0x1466bfc08> #<ATOM :N/:N @0x135632f09>\n",
      "#<MOLECULE NIL @0x128a6fcc8> #<RESIDUE :THR @0x1466bfb88> #<ATOM :N/:N @0x13563ca59>\n",
      "#<MOLECULE NIL @0x128a6fcc8> #<RESIDUE :THR @0x1466bfb08> #<ATOM :N/:N @0x13566bd29>\n",
      "#<MOLECULE NIL @0x128a6fcc8> #<RESIDUE :LEU @0x1466bfa88> #<ATOM :N/:N @0x13566b009>\n",
      "#<MOLECULE NIL @0x128a6fcc8> #<RESIDUE :PHE @0x1466bfa08> #<ATOM :N/:N @0x13568ee19>\n",
      "#<MOLECULE NIL @0x128a6fcc8> #<RESIDUE :THR @0x1466bf988> #<ATOM :N/:N @0x135691b49>\n",
      "#<MOLECULE NIL @0x128a6fcc8> #<RESIDUE :VAL @0x1466bf908> #<ATOM :N/:N @0x13569ce19>\n",
      "#<MOLECULE NIL @0x128a6fcc8> #<RESIDUE :CYS @0x1466bf888> #<ATOM :N/:N @0x1356c5f09>\n",
      "#<MOLECULE NIL @0x128a6fcc8> #<RESIDUE :ASP @0x1466bf808> #<ATOM :N/:N @0x1356c54b9>\n",
      "#<MOLECULE NIL @0x128a6fcc8> #<RESIDUE :GLU @0x1466bf788> #<ATOM :N/:N @0x1356d5969>\n",
      "#<MOLECULE NIL @0x128a6fcc8> #<RESIDUE :ARG @0x1466bf708> #<ATOM :N/:N @0x1356d7b49>\n",
      "#<MOLECULE NIL @0x128a6fcc8> #<RESIDUE :TRP @0x1466bf688> #<ATOM :N/:N @0x1356e54b9>\n",
      "#<MOLECULE NIL @0x128a6fcc8> #<RESIDUE :GLY @0x1466bf608> #<ATOM :N/:N @0x135705e19>\n",
      "#<MOLECULE NIL @0x128a6fcc8> #<RESIDUE :GLY @0x1466bf588> #<ATOM :N/:N @0x135705789>\n",
      "#<MOLECULE NIL @0x128a6fcc8> #<RESIDUE :GLU @0x1466bf508> #<ATOM :N/:N @0x1357050f9>\n",
      "#<MOLECULE NIL @0x128a6fcc8> #<RESIDUE :ILE @0x1466bf488> #<ATOM :N/:N @0x1357222d9>\n",
      "#<MOLECULE NIL @0x128a6fcc8> #<RESIDUE :TYR @0x1466bf408> #<ATOM :N/:N @0x1357260f9>\n",
      "#<MOLECULE NIL @0x128a6fcc8> #<RESIDUE :PRO @0x1466bf388> #<ATOM :N/:N @0x135732d29>\n",
      "#<MOLECULE NIL @0x128a6fcc8> #<RESIDUE :LYS @0x1466bf308> #<ATOM :N/:N @0x135732009>\n",
      "#<MOLECULE NIL @0x128a6fcc8> #<RESIDUE :MET @0x1466bf288> #<ATOM :N/:N @0x135748b49>\n",
      "#<MOLECULE NIL @0x128a6fcc8> #<RESIDUE :TYR @0x1466bf208> #<ATOM :N/:N @0x13574ab49>\n",
      "#<MOLECULE NIL @0x128a6fcc8> #<RESIDUE :HIE @0x1466bf188> #<ATOM :N/:N @0x13575b789>\n",
      "#<MOLECULE NIL @0x128a6fcc8> #<RESIDUE :ILE @0x1466bf108> #<ATOM :N/:N @0x135778789>\n",
      "#<MOLECULE NIL @0x128a6fcc8> #<RESIDUE :CYS @0x1466bf088> #<ATOM :N/:N @0x13577a5a9>\n",
      "#<MOLECULE NIL @0x128a6fcc8> #<RESIDUE :PHE @0x13baf1f88> #<ATOM :N/:N @0x135782b49>\n",
      "#<MOLECULE NIL @0x128a6fcc8> #<RESIDUE :PHE @0x13baf1f08> #<ATOM :N/:N @0x135789879>\n",
      "#<MOLECULE NIL @0x128a6fcc8> #<RESIDUE :LEU @0x13baf1e88> #<ATOM :N/:N @0x1357945a9>\n",
      "#<MOLECULE NIL @0x128a6fcc8> #<RESIDUE :VAL @0x13baf1e08> #<ATOM :N/:N @0x1357963c9>\n",
      "#<MOLECULE NIL @0x128a6fcc8> #<RESIDUE :THR @0x13baf1d88> #<ATOM :N/:N @0x1357984b9>\n",
      "#<MOLECULE NIL @0x128a6fcc8> #<RESIDUE :TYR @0x13baf1d08> #<ATOM :N/:N @0x1357a0789>\n",
      "#<MOLECULE NIL @0x128a6fcc8> #<RESIDUE :MET @0x13baf1c88> #<ATOM :N/:N @0x1357ab3c9>\n",
      "#<MOLECULE NIL @0x128a6fcc8> #<RESIDUE :ALA @0x13baf1c08> #<ATOM :N/:N @0x1357c03c9>\n",
      "#<MOLECULE NIL @0x128a6fcc8> #<RESIDUE :PRO @0x13baf1b88> #<ATOM :N/:N @0x1357cba59>\n",
      "#<MOLECULE NIL @0x128a6fcc8> #<RESIDUE :LEU @0x13baf1b08> #<ATOM :N/:N @0x1357dcd29>\n",
      "#<MOLECULE NIL @0x128a6fcc8> #<RESIDUE :CYS @0x13baf1a88> #<ATOM :N/:N @0x1357eeb49>\n",
      "#<MOLECULE NIL @0x128a6fcc8> #<RESIDUE :LEU @0x13baf1a08> #<ATOM :N/:N @0x1357ee0f9>\n",
      "#<MOLECULE NIL @0x128a6fcc8> #<RESIDUE :MET @0x13baf1988> #<ATOM :N/:N @0x1357f7f09>\n",
      "#<MOLECULE NIL @0x128a6fcc8> #<RESIDUE :VAL @0x13981a988> #<ATOM :N/:N @0x1357f9f09>\n",
      "#<MOLECULE NIL @0x128a6fcc8> #<RESIDUE :LEU @0x13981a908> #<ATOM :N/:N @0x1357f9009>\n",
      "#<MOLECULE NIL @0x128a6fcc8> #<RESIDUE :ALA @0x13981a888> #<ATOM :N/:N @0x13504ae19>\n",
      "#<MOLECULE NIL @0x128a6fcc8> #<RESIDUE :TYR @0x13981a808> #<ATOM :N/:N @0x13504a4b9>\n",
      "#<MOLECULE NIL @0x128a6fcc8> #<RESIDUE :LEU @0x13981a788> #<ATOM :N/:N @0x13505a0f9>\n",
      "#<MOLECULE NIL @0x128a6fcc8> #<RESIDUE :GLN @0x13981a708> #<ATOM :N/:N @0x13507bf09>\n",
      "#<MOLECULE NIL @0x128a6fcc8> #<RESIDUE :GLN @0x13981a708> #<ATOM :NE2/:N @0x13507b3c9>\n",
      "#<MOLECULE NIL @0x128a6fcc8> #<RESIDUE :ILE @0x13981a688> #<ATOM :N/:N @0x135080f09>\n",
      "#<MOLECULE NIL @0x128a6fcc8> #<RESIDUE :PHE @0x13981a608> #<ATOM :N/:N @0x135085d29>\n",
      "#<MOLECULE NIL @0x128a6fcc8> #<RESIDUE :ARG @0x13981a588> #<ATOM :N/:N @0x13508aa59>\n",
      "#<MOLECULE NIL @0x128a6fcc8> #<RESIDUE :LYS @0x13981a508> #<ATOM :N/:N @0x13508f3c9>\n",
      "#<MOLECULE NIL @0x128a6fcc8> #<RESIDUE :LEU @0x13981a488> #<ATOM :N/:N @0x13509df09>\n",
      "#<MOLECULE NIL @0x128a6fcc8> #<RESIDUE :TRP @0x13981a408> #<ATOM :N/:N @0x1350a0d29>\n",
      "#<MOLECULE NIL @0x128a6fcc8> #<RESIDUE :CYS @0x13981a388> #<ATOM :N/:N @0x1350a8699>\n",
      "#<MOLECULE NIL @0x128a6fcc8> #<RESIDUE :ARG @0x13981a308> #<ATOM :N/:N @0x1350c4c39>\n",
      "#<MOLECULE NIL @0x128a6fcc8> #<RESIDUE :GLN @0x13981a288> #<ATOM :N/:N @0x1350c85a9>\n",
      "#<MOLECULE NIL @0x128a6fcc8> #<RESIDUE :GLN @0x13981a288> #<ATOM :NE2/:N @0x1350cea59>\n",
      "#<MOLECULE NIL @0x128431968> #<RESIDUE :LYS @0x13981a208> #<ATOM :N/:N @0x1350ce4b9>\n",
      "#<MOLECULE NIL @0x128431968> #<RESIDUE :GLN @0x13981a188> #<ATOM :N/:N @0x1350d2e19>\n",
      "#<MOLECULE NIL @0x128431968> #<RESIDUE :GLN @0x13981a188> #<ATOM :NE2/:N @0x1350d22d9>\n",
      "#<MOLECULE NIL @0x128431968> #<RESIDUE :ILE @0x13981a108> #<ATOM :N/:N @0x1350d4e19>\n",
      "#<MOLECULE NIL @0x128431968> #<RESIDUE :ARG @0x13981a088> #<ATOM :N/:N @0x1350dfc39>\n",
      "#<MOLECULE NIL @0x128431968> #<RESIDUE :ALA @0x13981a008> #<ATOM :N/:N @0x1350e45a9>\n",
      "#<MOLECULE NIL @0x128431968> #<RESIDUE :ARG @0x1371def88> #<ATOM :N/:N @0x1350e7c39>\n",
      "#<MOLECULE NIL @0x128431968> #<RESIDUE :ARG @0x1371def08> #<ATOM :N/:N @0x1350ec5a9>\n",
      "#<MOLECULE NIL @0x128431968> #<RESIDUE :LYS @0x1371dee88> #<ATOM :N/:N @0x1350f4f09>\n",
      "#<MOLECULE NIL @0x128431968> #<RESIDUE :THR @0x1371dee08> #<ATOM :N/:N @0x135105a59>\n",
      "#<MOLECULE NIL @0x128431968> #<RESIDUE :ALA @0x1371ded88> #<ATOM :N/:N @0x13510ed29>\n",
      "#<MOLECULE NIL @0x128431968> #<RESIDUE :ARG @0x1371ded08> #<ATOM :N/:N @0x13510e3c9>\n",
      "#<MOLECULE NIL @0x128431968> #<RESIDUE :MET @0x1371dec88> #<ATOM :N/:N @0x13512dd29>\n",
      "#<MOLECULE NIL @0x128431968> #<RESIDUE :LEU @0x1371dec08> #<ATOM :N/:N @0x135134d29>\n",
      "#<MOLECULE NIL @0x128431968> #<RESIDUE :MET @0x1371deb88> #<ATOM :N/:N @0x135142b49>\n",
      "#<MOLECULE NIL @0x128431968> #<RESIDUE :ILE @0x1371deb08> #<ATOM :N/:N @0x13514db49>\n",
      "#<MOLECULE NIL @0x128431968> #<RESIDUE :VAL @0x1371dea88> #<ATOM :N/:N @0x135153969>\n",
      "#<MOLECULE NIL @0x128431968> #<RESIDUE :LEU @0x1371dea08> #<ATOM :N/:N @0x135155a59>\n",
      "#<MOLECULE NIL @0x128431968> #<RESIDUE :LEU @0x1371de988> #<ATOM :N/:N @0x13515c879>\n",
      "#<MOLECULE NIL @0x128431968> #<RESIDUE :VAL @0x1371de908> #<ATOM :N/:N @0x135167699>\n",
      "#<MOLECULE NIL @0x128431968> #<RESIDUE :PHE @0x1371de888> #<ATOM :N/:N @0x13516e789>\n",
      "#<MOLECULE NIL @0x128431968> #<RESIDUE :ALA @0x1371de808> #<ATOM :N/:N @0x13519b4b9>\n",
      "#<MOLECULE NIL @0x128431968> #<RESIDUE :ILE @0x1371de788> #<ATOM :N/:N @0x1351abb49>\n",
      "#<MOLECULE NIL @0x128431968> #<RESIDUE :CYS @0x1371de708> #<ATOM :N/:N @0x1351c5969>\n",
      "#<MOLECULE NIL @0x128431968> #<RESIDUE :TYR @0x1371de688> #<ATOM :N/:N @0x1351c7f09>\n",
      "#<MOLECULE NIL @0x128431968> #<RESIDUE :LEU @0x1371de608> #<ATOM :N/:N @0x1351dab49>\n",
      "#<MOLECULE NIL @0x128431968> #<RESIDUE :PRO @0x1371de088> #<ATOM :N/:N @0x1351dc969>\n",
      "#<MOLECULE NIL @0x128431968> #<RESIDUE :ILE @0x1371de008> #<ATOM :N/:N @0x1351e4c39>\n",
      "#<MOLECULE NIL @0x128431968> #<RESIDUE :SER @0x134e6f708> #<ATOM :N/:N @0x1351eba59>\n",
      "#<MOLECULE NIL @0x128431968> #<RESIDUE :ILE @0x134e6f688> #<ATOM :N/:N @0x1351eb009>\n",
      "#<MOLECULE NIL @0x128431968> #<RESIDUE :LEU @0x134e6f608> #<ATOM :N/:N @0x1351f4e19>\n",
      "#<MOLECULE NIL @0x128431968> #<RESIDUE :ASN @0x134e6f108> #<ATOM :N/:N @0x1351fcc39>\n",
      "#<MOLECULE NIL @0x128431968> #<RESIDUE :ASN @0x134e6f108> #<ATOM :ND2/:N @0x1351fc3c9>\n",
      "#<MOLECULE NIL @0x128431968> #<RESIDUE :VAL @0x134e6f088> #<ATOM :N/:N @0x1351fff09>\n",
      "#<MOLECULE NIL @0x128431968> #<RESIDUE :LEU @0x134e6f008> #<ATOM :N/:N @0x1351ff009>\n",
      "#<MOLECULE NIL @0x128431968> #<RESIDUE :LYS @0x134f68c88> #<ATOM :N/:N @0x135207e19>\n",
      "#<MOLECULE NIL @0x128431968> #<RESIDUE :ARG @0x134f68808> #<ATOM :N/:N @0x13520b969>\n",
      "#<MOLECULE NIL @0x128431968> #<RESIDUE :VAL @0x134f68488> #<ATOM :N/:N @0x1352142d9>\n",
      "#<MOLECULE NIL @0x128431968> #<RESIDUE :PHE @0x134f68008> #<ATOM :N/:N @0x1352193c9>\n",
      "#<MOLECULE NIL @0x128431968> #<RESIDUE :GLY @0x12e860388> #<ATOM :N/:N @0x13521b0f9>\n",
      "#<MOLECULE NIL @0x128431968> #<RESIDUE :MET @0x12e860308> #<ATOM :N/:N @0x13521da59>\n",
      "#<MOLECULE NIL @0x128431968> #<RESIDUE :PHE @0x12e860288> #<ATOM :N/:N @0x135226a59>\n",
      "#<MOLECULE NIL @0x128431968> #<RESIDUE :ALA @0x12e860208> #<ATOM :N/:N @0x135236789>\n",
      "#<MOLECULE NIL @0x128431968> #<RESIDUE :HIE @0x12e860188> #<ATOM :N/:N @0x13523fe19>\n",
      "#<MOLECULE NIL @0x128431968> #<RESIDUE :THR @0x12e860108> #<ATOM :N/:N @0x135250e19>\n",
      "#<MOLECULE NIL @0x128431968> #<RESIDUE :GLU @0x12e860088> #<ATOM :N/:N @0x1352500f9>\n",
      "#<MOLECULE NIL @0x128431968> #<RESIDUE :ASP @0x12e860008> #<ATOM :N/:N @0x1352622d9>\n",
      "#<MOLECULE NIL @0x128431968> #<RESIDUE :ARG @0x12e9d3f88> #<ATOM :N/:N @0x135267789>\n",
      "#<MOLECULE NIL @0x128431968> #<RESIDUE :GLU @0x12e9d3f08> #<ATOM :N/:N @0x13526f0f9>\n",
      "#<MOLECULE NIL @0x128431968> #<RESIDUE :THR @0x12e9d3e88> #<ATOM :N/:N @0x1352712d9>\n",
      "#<MOLECULE NIL @0x128431968> #<RESIDUE :VAL @0x12e9d3e08> #<ATOM :N/:N @0x1352775a9>\n",
      "#<MOLECULE NIL @0x128431968> #<RESIDUE :TYR @0x12e9d3d88> #<ATOM :N/:N @0x13527a699>\n",
      "#<MOLECULE NIL @0x128431968> #<RESIDUE :ALA @0x12e9d3d08> #<ATOM :N/:N @0x1352832d9>\n",
      "#<MOLECULE NIL @0x128431968> #<RESIDUE :TRP @0x12e9d3c88> #<ATOM :N/:N @0x1352ca969>\n",
      "#<MOLECULE NIL @0x128431968> #<RESIDUE :PHE @0x12e9d3c08> #<ATOM :N/:N @0x1352cc2d9>\n",
      "#<MOLECULE NIL @0x128431968> #<RESIDUE :THR @0x12e9d3b88> #<ATOM :N/:N @0x1352eb009>\n",
      "#<MOLECULE NIL @0x128431968> #<RESIDUE :PHE @0x12e9d3b08> #<ATOM :N/:N @0x1352f32d9>\n",
      "#<MOLECULE NIL @0x128431968> #<RESIDUE :SER @0x12e9d3a88> #<ATOM :N/:N @0x1352fc009>\n",
      "#<MOLECULE NIL @0x128431968> #<RESIDUE :HIE @0x12e9d3a08> #<ATOM :N/:N @0x1352fe5a9>\n",
      "#<MOLECULE NIL @0x128431968> #<RESIDUE :TRP @0x12e9d3988> #<ATOM :N/:N @0x1353015a9>\n",
      "#<MOLECULE NIL @0x128431968> #<RESIDUE :LEU @0x12e9d3908> #<ATOM :N/:N @0x135313f09>\n",
      "#<MOLECULE NIL @0x128431968> #<RESIDUE :VAL @0x12e9d3888> #<ATOM :N/:N @0x135315d29>\n",
      "#<MOLECULE NIL @0x128431968> #<RESIDUE :TYR @0x12e9d3808> #<ATOM :N/:N @0x135320e19>\n",
      "#<MOLECULE NIL @0x128431968> #<RESIDUE :ALA @0x12ea7bc08> #<ATOM :N/:N @0x135324a59>\n",
      "#<MOLECULE NIL @0x128431968> #<RESIDUE :ASN @0x12ea7bb88> #<ATOM :N/:N @0x1353240f9>\n",
      "#<MOLECULE NIL @0x128431968> #<RESIDUE :ASN @0x12ea7bb88> #<ATOM :ND2/:N @0x135327879>\n",
      "#<MOLECULE NIL @0x128431968> #<RESIDUE :SER @0x12ea7bb08> #<ATOM :N/:N @0x1353273c9>\n",
      "#<MOLECULE NIL @0x128431968> #<RESIDUE :ALA @0x12ea7ba88> #<ATOM :N/:N @0x135333969>\n",
      "#<MOLECULE NIL @0x128431968> #<RESIDUE :ALA @0x12ea7ba08> #<ATOM :N/:N @0x135333009>\n",
      "#<MOLECULE NIL @0x128431968> #<RESIDUE :ASN @0x1476f3888> #<ATOM :N/:N @0x13534e699>\n",
      "#<MOLECULE NIL @0x128431968> #<RESIDUE :ASN @0x1476f3888> #<ATOM :ND2/:N @0x135356e19>\n",
      "#<MOLECULE NIL @0x128431968> #<RESIDUE :PRO @0x1476f3808> #<ATOM :N/:N @0x135356969>\n",
      "#<MOLECULE NIL @0x128431968> #<RESIDUE :ILE @0x1476f3788> #<ATOM :N/:N @0x13535dc39>\n",
      "#<MOLECULE NIL @0x128431968> #<RESIDUE :ILE @0x1476f3708> #<ATOM :N/:N @0x135360a59>\n",
      "#<MOLECULE NIL @0x128431968> #<RESIDUE :TYR @0x1476f3608> #<ATOM :N/:N @0x135363879>\n",
      "#<MOLECULE NIL @0x128431968> #<RESIDUE :ASN @0x1476f3588> #<ATOM :N/:N @0x1353684b9>\n",
      "#<MOLECULE NIL @0x128431968> #<RESIDUE :ASN @0x1476f3588> #<ATOM :ND2/:N @0x13536bc39>\n",
      "#<MOLECULE NIL @0x128431968> #<RESIDUE :PHE @0x1476f3508> #<ATOM :N/:N @0x13536b789>\n",
      "#<MOLECULE NIL @0x128431968> #<RESIDUE :LEU @0x1476f3488> #<ATOM :N/:N @0x1353774b9>\n",
      "#<MOLECULE NIL @0x128431968> #<RESIDUE :SER @0x1476f3388> #<ATOM :N/:N @0x1353922d9>\n",
      "#<MOLECULE NIL @0x128431968> #<RESIDUE :GLY @0x1476f3308> #<ATOM :N/:N @0x135394879>\n",
      "#<MOLECULE NIL @0x128431968> #<RESIDUE :LYS @0x1476f3288> #<ATOM :N/:N @0x1353941e9>\n",
      "#<MOLECULE NIL @0x128431968> #<RESIDUE :PHE @0x14768eb88> #<ATOM :N/:N @0x1353b3d29>\n",
      "#<MOLECULE NIL @0x128431968> #<RESIDUE :ARG @0x14768eb08> #<ATOM :N/:N @0x1353b6a59>\n",
      "#<MOLECULE NIL @0x128431968> #<RESIDUE :GLU @0x14768ea88> #<ATOM :N/:N @0x1353d13c9>\n",
      "#<MOLECULE NIL @0x128431968> #<RESIDUE :GLU @0x14768ea08> #<ATOM :N/:N @0x1353d55a9>\n",
      "#<MOLECULE NIL @0x128431968> #<RESIDUE :PHE @0x14768e988> #<ATOM :N/:N @0x1353ee789>\n",
      "#<MOLECULE NIL @0x128431968> #<RESIDUE :LYS @0x14768e908> #<ATOM :N/:N @0x1353fa4b9>\n",
      "#<MOLECULE NIL @0x128431968> #<RESIDUE :ALA @0x14768e888> #<ATOM :N/:N @0x1353fc009>\n",
      "#<MOLECULE NIL @0x128431968> #<RESIDUE :ALA @0x14768e808> #<ATOM :N/:N @0x134c00699>\n",
      "#<MOLECULE NIL @0x128431968> #<RESIDUE :PHE @0x14768e788> #<ATOM :N/:N @0x134c04d29>\n",
      "#<MOLECULE NIL @0x128431968> #<RESIDUE :SER @0x14768e708> #<ATOM :N/:N @0x134c12a59>\n",
      "#<MOLECULE NIL @0x128431968> #<RESIDUE :CYS @0x14768e608> #<ATOM :N/:N @0x134c12009>\n"
     ]
    },
    {
     "data": {
      "text/plain": [
       "NIL"
      ]
     },
     "execution_count": 17,
     "metadata": {},
     "output_type": "execute_result"
    }
   ],
   "source": [
    "(do-molecules (mol *p*)\n",
    "    (do-residues (res mol)\n",
    "        (do-atoms (atm res)\n",
    "            (when (eq :N (chem:get-type atm))\n",
    "                (format t \"~a ~a ~a~%\" mol res atm)))))"
   ]
  },
  {
   "cell_type": "code",
   "execution_count": 9,
   "metadata": {},
   "outputs": [
    {
     "data": {
      "text/plain": [
       "*EMPTY*"
      ]
     },
     "execution_count": 9,
     "metadata": {},
     "output_type": "execute_result"
    }
   ],
   "source": [
    "(defparameter *empty* (build-empty-membrane))"
   ]
  },
  {
   "cell_type": "code",
   "execution_count": 10,
   "metadata": {},
   "outputs": [
    {
     "data": {
      "application/vnd.jupyter.widget-view+json": {
       "model_id": "86EBE664-448B-4235-ADD2-D93A059A356C",
       "version_major": 2,
       "version_minor": 0
      },
      "text/plain": [
       "#<NGLV:NGLWIDGET>"
      ]
     },
     "execution_count": 10,
     "metadata": {},
     "output_type": "execute_result"
    }
   ],
   "source": [
    "(show *empty*)"
   ]
  },
  {
   "cell_type": "code",
   "execution_count": 11,
   "metadata": {},
   "outputs": [
    {
     "name": "stdout",
     "output_type": "stream",
     "text": [
      "Total solute charge:  -0.00  Max atom radius:   2.10\n",
      "Box:\n",
      "   enclosing:  -63.97 -63.26 -27.19   54.02 55.12 27.19\n",
      "PdHalfEdges:        64.00\n",
      "PdHalfDiagonals:     110.85 Angstrom.\n",
      "PdHalfEdges:        32.00\n",
      "PdHalfDiagonals:     55.43 Angstrom.\n",
      "PdHalfEdges:        16.00\n",
      "PdHalfDiagonals:     27.71 Angstrom.\n",
      "PdHalfEdges:         8.00\n",
      "PdHalfDiagonals:     13.86 Angstrom.\n",
      "PdHalfEdges:         4.00\n",
      "PdHalfDiagonals:      6.93 Angstrom.\n",
      "PdHalfEdges:         2.00\n",
      "PdHalfDiagonals:      3.46 Angstrom.\n",
      "PdHalfEdges:         1.00\n",
      "PdHalfDiagonals:      1.73 Angstrom.\n",
      "PdHalfEdges:         0.50\n",
      "PdHalfDiagonals:      0.87 Angstrom.\n",
      "   sized:\t\t\t      64.03 64.74 100.81\n",
      "   edge:        128.00\n",
      "Resolution:      1.00 Angstrom.\n",
      "Tree depth: 7\n",
      "About to build interior octant iAtoms -> 32428\n",
      "Volume =  0.00 of box, grid points 1061522\n"
     ]
    },
    {
     "data": {
      "text/plain": [
       "*OT*"
      ]
     },
     "execution_count": 11,
     "metadata": {},
     "output_type": "execute_result"
    }
   ],
   "source": [
    "(defparameter *ot* (chem:make-oct-tree *empty* :interior-solute 1.0 0.0 0.0 (chem:compute-merged-nonbond-force-field-for-aggregate *empty*) 0 t))"
   ]
  },
  {
   "cell_type": "code",
   "execution_count": 20,
   "metadata": {},
   "outputs": [
    {
     "data": {
      "application/vnd.jupyter.widget-view+json": {
       "model_id": "30053EB4-BA32-4D67-9EB2-6C6688003B86",
       "version_major": 2,
       "version_minor": 0
      },
      "text/plain": [
       "#<NGLV:NGLWIDGET>"
      ]
     },
     "execution_count": 20,
     "metadata": {},
     "output_type": "execute_result"
    }
   ],
   "source": [
    "(show *agg*)"
   ]
  },
  {
   "cell_type": "code",
   "execution_count": 14,
   "metadata": {},
   "outputs": [
    {
     "data": {
      "text/plain": [
       "(#<ATOM :H16R/:H @0x1247de3c9> #<RESIDUE PA @0x124fb6988>\n",
       " #<MOLECULE :lipid122 @0x124011248>)"
      ]
     },
     "execution_count": 14,
     "metadata": {},
     "output_type": "execute_result"
    }
   ],
   "source": [
    "(multiple-value-list (chem:oct-tree-find-closest-atom *ot* (geom:vec 0 0 0)))"
   ]
  },
  {
   "cell_type": "code",
   "execution_count": 12,
   "metadata": {},
   "outputs": [
    {
     "data": {
      "text/plain": [
       "32428"
      ]
     },
     "execution_count": 12,
     "metadata": {},
     "output_type": "execute_result"
    }
   ],
   "source": [
    "(chem:number-of-atoms *empty*)"
   ]
  },
  {
   "cell_type": "code",
   "execution_count": 12,
   "metadata": {},
   "outputs": [
    {
     "data": {
      "text/plain": [
       "*DYN*"
      ]
     },
     "execution_count": 12,
     "metadata": {},
     "output_type": "execute_result"
    }
   ],
   "source": [
    "(defparameter *dyn* (simulate-membrane *empty*))"
   ]
  },
  {
   "cell_type": "code",
   "execution_count": null,
   "metadata": {},
   "outputs": [],
   "source": [
    "(dynamics:velocity-verlet-step *dyn*)"
   ]
  },
  {
   "cell_type": "code",
   "execution_count": 9,
   "metadata": {},
   "outputs": [
    {
     "name": "stdout",
     "output_type": "stream",
     "text": [
      "\n",
      "\n"
     ]
    },
    {
     "name": "stderr",
     "output_type": "stream",
     "text": [
      "\n",
      "More than four bonds to carbon will be made to #<ATOM :C12/:C @0x136f60f09>\n",
      "\n",
      "There are 28 unbuilt heavy atoms - not building hydrogens\n"
     ]
    },
    {
     "data": {
      "text/plain": [
       "*MEMB*"
      ]
     },
     "execution_count": 9,
     "metadata": {},
     "output_type": "execute_result"
    }
   ],
   "source": [
    "(defparameter *memb* (load-pdb \"4s0v_popc_membrane_hid.pdb\"))"
   ]
  },
  {
   "cell_type": "code",
   "execution_count": 14,
   "metadata": {},
   "outputs": [
    {
     "data": {
      "text/plain": [
       "*SM*"
      ]
     },
     "execution_count": 14,
     "metadata": {},
     "output_type": "execute_result"
    }
   ],
   "source": [
    "(defparameter *sm* (carve-membrane *memb* (lambda (cog) (< (geom:vx cog) -20))))"
   ]
  },
  {
   "cell_type": "code",
   "execution_count": 23,
   "metadata": {},
   "outputs": [
    {
     "name": "stdout",
     "output_type": "stream",
     "text": [
      "Translation vector: '( 35.9127 0.141911 -0.0693738)\n"
     ]
    },
    {
     "data": {
      "text/plain": [
       "NIL"
      ]
     },
     "execution_count": 23,
     "metadata": {},
     "output_type": "execute_result"
    }
   ],
   "source": [
    "(cando:move-geometric-center-to-origin *sm*)"
   ]
  },
  {
   "cell_type": "code",
   "execution_count": 26,
   "metadata": {},
   "outputs": [
    {
     "name": "stderr",
     "output_type": "stream",
     "text": [
      "\n",
      "An error occurred of type: SIMPLE-ERROR: \n",
      "  Expected 3 non-negative floating point numbers {x y z} for third argument\n",
      "\n",
      "\n",
      "serious-condition backtrace:\n",
      "0: (ERROR \"Expected 3 non-negative floating point numbers {x y z} for third argument~%\")\n",
      "1: (SET-BOX #<AGGREGATE 4s0v_popc_membrane_hid @0x126b50c68> :CENTERS -2.0)\n",
      "2: (LAMBDA)\n",
      "\n"
     ]
    },
    {
     "data": {
      "text/plain": [
       "NIL"
      ]
     },
     "execution_count": 26,
     "metadata": {},
     "output_type": "execute_result"
    }
   ],
   "source": [
    "(leap.set-box:set-box *sm* :centers -2.0)"
   ]
  },
  {
   "cell_type": "code",
   "execution_count": 25,
   "metadata": {},
   "outputs": [
    {
     "data": {
      "application/vnd.jupyter.widget-view+json": {
       "model_id": "242BA14F-1080-4140-BBF4-427E46EEF0B4",
       "version_major": 2,
       "version_minor": 0
      },
      "text/plain": [
       "#<NGLV:NGLWIDGET>"
      ]
     },
     "execution_count": 25,
     "metadata": {},
     "output_type": "execute_result"
    }
   ],
   "source": [
    "(show *sm* :axes t)"
   ]
  },
  {
   "cell_type": "code",
   "execution_count": 12,
   "metadata": {},
   "outputs": [
    {
     "data": {
      "text/plain": [
       "#<AGGREGATE 4s0v_popc_membrane_hid @0x131b53848>"
      ]
     },
     "execution_count": 12,
     "metadata": {},
     "output_type": "execute_result"
    }
   ],
   "source": [
    "*memb*"
   ]
  },
  {
   "cell_type": "code",
   "execution_count": 13,
   "metadata": {},
   "outputs": [
    {
     "data": {
      "application/vnd.jupyter.widget-view+json": {
       "model_id": "CEF694A3-90B3-427B-BAA8-FAC04E620994",
       "version_major": 2,
       "version_minor": 0
      },
      "text/plain": [
       "#<NGLV:NGLWIDGET>"
      ]
     },
     "execution_count": 13,
     "metadata": {},
     "output_type": "execute_result"
    }
   ],
   "source": [
    "(show *memb*)"
   ]
  },
  {
   "cell_type": "code",
   "execution_count": 14,
   "metadata": {},
   "outputs": [
    {
     "name": "stdout",
     "output_type": "stream",
     "text": [
      "Box dimensions 124.92900085449219d0 124.42499923706055d0 85.93000030517578d0\n"
     ]
    },
    {
     "data": {
      "text/plain": [
       "NIL"
      ]
     },
     "execution_count": 14,
     "metadata": {},
     "output_type": "execute_result"
    }
   ],
   "source": [
    "(leap.set-box:set-box *memb* :centers 5.0)"
   ]
  },
  {
   "cell_type": "code",
   "execution_count": 15,
   "metadata": {},
   "outputs": [
    {
     "data": {
      "text/plain": [
       "124.92900085449219d0"
      ]
     },
     "execution_count": 15,
     "metadata": {},
     "output_type": "execute_result"
    }
   ],
   "source": [
    "(chem:get-x-width (chem:bounding-box *memb*))"
   ]
  },
  {
   "cell_type": "code",
   "execution_count": 16,
   "metadata": {},
   "outputs": [
    {
     "data": {
      "application/vnd.jupyter.widget-view+json": {
       "model_id": "8D94095B-183F-4CA8-8B95-AA6654ECF12F",
       "version_major": 2,
       "version_minor": 0
      },
      "text/plain": [
       "#<NGLV:NGLWIDGET>"
      ]
     },
     "execution_count": 16,
     "metadata": {},
     "output_type": "execute_result"
    }
   ],
   "source": [
    "(show *memb* :axes t)"
   ]
  },
  {
   "cell_type": "code",
   "execution_count": 17,
   "metadata": {},
   "outputs": [
    {
     "data": {
      "text/plain": [
       "NIL"
      ]
     },
     "execution_count": 17,
     "metadata": {},
     "output_type": "execute_result"
    }
   ],
   "source": [
    "(do-molecules (mol *memb*) \n",
    "    (when (< (chem:number-of-atoms mol) 200)\n",
    "        (chem:setf-molecule-type mol :lipid)))"
   ]
  },
  {
   "cell_type": "code",
   "execution_count": null,
   "metadata": {},
   "outputs": [
    {
     "name": "stdout",
     "output_type": "stream",
     "text": [
      "\n",
      "\n"
     ]
    }
   ],
   "source": [
    "(prepare-popc-lipids)"
   ]
  },
  {
   "cell_type": "code",
   "execution_count": 17,
   "metadata": {},
   "outputs": [
    {
     "data": {
      "text/plain": [
       "*PPP*"
      ]
     },
     "execution_count": 17,
     "metadata": {},
     "output_type": "execute_result"
    }
   ],
   "source": [
    "(defparameter *ppp* (load-cando \"source-dir:extensions;cando;src;data;poc.cando\"))"
   ]
  },
  {
   "cell_type": "code",
   "execution_count": 3,
   "metadata": {},
   "outputs": [
    {
     "name": "stderr",
     "output_type": "stream",
     "text": [
      "\n",
      "Undefined variable *LIPIDS*\n",
      "\n",
      "Undefined variable *LIPIDS*\n",
      "\n",
      "Undefined variable *MEMB*\n",
      "\n",
      "Undefined variable *MEMB*\n",
      "\n",
      "Undefined variable *MEMB*\n",
      "\n",
      "An error occurred of type: UNBOUND-VARIABLE: \n",
      "  The variable *MEMB* is unbound.\n",
      "\n",
      "serious-condition backtrace:\n",
      "0: (ERROR UNBOUND-VARIABLE :NAME *MEMB*)\n",
      "1: (LAMBDA)\n",
      "\n"
     ]
    },
    {
     "data": {
      "text/plain": [
       "NIL"
      ]
     },
     "execution_count": 3,
     "metadata": {},
     "output_type": "execute_result"
    }
   ],
   "source": [
    "(defparameter *lipids* nil)\n",
    "(do-molecules (mol *memb*)\n",
    "    (when (eq (chem:molecule-type mol) :lipid)\n",
    "          (push mol *lipids*)))"
   ]
  },
  {
   "cell_type": "code",
   "execution_count": 42,
   "metadata": {},
   "outputs": [
    {
     "data": {
      "text/plain": [
       "*CL*"
      ]
     },
     "execution_count": 42,
     "metadata": {},
     "output_type": "execute_result"
    }
   ],
   "source": [
    "(defparameter *cl* (canonicalize-lipids *lipids* '(:p31 :n31) '(:c116 :c118)))"
   ]
  },
  {
   "cell_type": "code",
   "execution_count": null,
   "metadata": {},
   "outputs": [],
   "source": []
  },
  {
   "cell_type": "code",
   "execution_count": 27,
   "metadata": {},
   "outputs": [
    {
     "data": {
      "text/plain": [
       "(#<MOLECULE :mol_1 @0x15593f128> #<MOLECULE :mol_2 @0x155930608>\n",
       " #<MOLECULE :mol_3 @0x155922ae8> #<MOLECULE :mol_4 @0x155913008>\n",
       " #<MOLECULE :mol_5 @0x1559064e8> #<MOLECULE :mol_6 @0x1558f99c8>\n",
       " #<MOLECULE :mol_7 @0x1558ebea8> #<MOLECULE :mol_8 @0x1558db3c8>\n",
       " #<MOLECULE :mol_9 @0x1558cd8a8> #<MOLECULE :mol_10 @0x1558c1d88>\n",
       " #<MOLECULE :mol_11 @0x1558b22a8> #<MOLECULE :mol_12 @0x1558a4788>\n",
       " #<MOLECULE :mol_13 @0x155894c68> #<MOLECULE :mol_14 @0x155885188>\n",
       " #<MOLECULE :mol_15 @0x155879668> #<MOLECULE :mol_16 @0x15586bb48>\n",
       " #<MOLECULE :mol_17 @0x15585b068> #<MOLECULE :mol_18 @0x15584f548>\n",
       " #<MOLECULE :mol_19 @0x15583fa28> #<MOLECULE :mol_20 @0x155832f08>\n",
       " #<MOLECULE :mol_21 @0x155822428> #<MOLECULE :mol_22 @0x155814908>\n",
       " #<MOLECULE :mol_23 @0x155807de8> #<MOLECULE :mol_24 @0x1557f8308>\n",
       " #<MOLECULE :mol_25 @0x1557ea7e8> #<MOLECULE :mol_26 @0x1557dccc8>\n",
       " #<MOLECULE :mol_27 @0x1557cd1e8> #<MOLECULE :mol_28 @0x1557bf6c8>\n",
       " #<MOLECULE :mol_29 @0x1557b2ba8> #<MOLECULE :mol_30 @0x1557a20c8>\n",
       " #<MOLECULE :mol_31 @0x1557945a8> #<MOLECULE :mol_32 @0x155788a88>\n",
       " #<MOLECULE :mol_33 @0x15577af68> #<MOLECULE :mol_34 @0x15576a488>\n",
       " #<MOLECULE :mol_35 @0x15575c968> #<MOLECULE :mol_36 @0x15574fe48>\n",
       " #<MOLECULE :mol_37 @0x15573f368> #<MOLECULE :mol_38 @0x155731848>\n",
       " #<MOLECULE :mol_39 @0x155724d28> #<MOLECULE :mol_40 @0x155716248>\n",
       " #<MOLECULE :mol_41 @0x155708728> #<MOLECULE :mol_42 @0x1556fac08>\n",
       " #<MOLECULE :mol_43 @0x1556eb128> #<MOLECULE :mol_44 @0x1556dd608>\n",
       " #<MOLECULE :mol_45 @0x1556ceae8> #<MOLECULE :mol_46 @0x1556bf008>\n",
       " #<MOLECULE :mol_47 @0x1556b14e8> #<MOLECULE :mol_48 @0x1556a49c8>\n",
       " #<MOLECULE :mol_49 @0x155698ea8> #<MOLECULE :mol_50 @0x1556873c8>\n",
       " #<MOLECULE :mol_51 @0x1556798a8> #<MOLECULE :mol_52 @0x15566cd88>\n",
       " #<MOLECULE :mol_53 @0x15565e2a8> #<MOLECULE :mol_54 @0x155650788>\n",
       " #<MOLECULE :mol_55 @0x155641c68> #<MOLECULE :mol_56 @0x155630188>\n",
       " #<MOLECULE :mol_57 @0x155625668> #<MOLECULE :mol_58 @0x155617b48>\n",
       " #<MOLECULE :mol_59 @0x155607068> #<MOLECULE :mol_60 @0x1555fa548>\n",
       " #<MOLECULE :mol_61 @0x1555eca28> #<MOLECULE :mol_62 @0x1555dff08>\n",
       " #<MOLECULE :mol_63 @0x1555ce428> #<MOLECULE :mol_64 @0x1555c0908>\n",
       " #<MOLECULE :mol_65 @0x1555b2de8> #<MOLECULE :mol_66 @0x1555a4308>\n",
       " #<MOLECULE :mol_67 @0x1555977e8> #<MOLECULE :mol_68 @0x155589cc8>\n",
       " #<MOLECULE :mol_69 @0x1555781e8> #<MOLECULE :mol_70 @0x15556b6c8>\n",
       " #<MOLECULE :mol_71 @0x15555eba8> #<MOLECULE :mol_72 @0x15554e0c8>\n",
       " #<MOLECULE :mol_73 @0x1555405a8> #<MOLECULE :mol_74 @0x155534a88>\n",
       " #<MOLECULE :mol_75 @0x155526f68> #<MOLECULE :mol_76 @0x155517488>\n",
       " #<MOLECULE :mol_77 @0x155508968> #<MOLECULE :mol_78 @0x1554fae48>\n",
       " #<MOLECULE :mol_79 @0x1554eb368> #<MOLECULE :mol_80 @0x1554de848>\n",
       " #<MOLECULE :mol_81 @0x1554d0d28> #<MOLECULE :mol_82 @0x1554c0248>\n",
       " #<MOLECULE :mol_83 @0x1554b4728> #<MOLECULE :mol_84 @0x1554a6c08>\n",
       " #<MOLECULE :mol_85 @0x155497128> #<MOLECULE :mol_86 @0x155489608>\n",
       " #<MOLECULE :mol_87 @0x15547aae8> #<MOLECULE :mol_88 @0x15546b008>\n",
       " #<MOLECULE :mol_89 @0x15545d4e8> #<MOLECULE :mol_90 @0x1554509c8>\n",
       " #<MOLECULE :mol_91 @0x155443ea8> #<MOLECULE :mol_92 @0x1554343c8>\n",
       " #<MOLECULE :mol_93 @0x1554268a8> #<MOLECULE :mol_94 @0x155418d88>\n",
       " #<MOLECULE :mol_95 @0x1554082a8> #<MOLECULE :mol_96 @0x1553fb788>\n",
       " #<MOLECULE :mol_97 @0x1553edc68> #<MOLECULE :mol_98 @0x1553dc188>\n",
       " #<MOLECULE :mol_99 @0x1553cf668> #<MOLECULE :mol_100 @0x1553c1b48>\n",
       " #<MOLECULE :mol_101 @0x1553b2068> #<MOLECULE :mol_102 @0x1553a5548>\n",
       " #<MOLECULE :mol_103 @0x155397a28> #<MOLECULE :mol_104 @0x155389f08>\n",
       " #<MOLECULE :mol_105 @0x15537a428> #<MOLECULE :mol_106 @0x15536b908>\n",
       " #<MOLECULE :mol_107 @0x15535dde8> #<MOLECULE :mol_108 @0x15534f308>\n",
       " #<MOLECULE :mol_109 @0x1553427e8> #<MOLECULE :mol_110 @0x155334cc8>\n",
       " #<MOLECULE :mol_111 @0x1553241e8> #<MOLECULE :mol_112 @0x1553166c8>\n",
       " #<MOLECULE :mol_113 @0x155308ba8> #<MOLECULE :mol_114 @0x1552f90c8>\n",
       " #<MOLECULE :mol_115 @0x1552eb5a8> #<MOLECULE :mol_116 @0x1552dea88>\n",
       " #<MOLECULE :mol_117 @0x1552d1f68> #<MOLECULE :mol_118 @0x1552c3488>\n",
       " #<MOLECULE :mol_119 @0x1552b3968> #<MOLECULE :mol_120 @0x1552a5e48>\n",
       " #<MOLECULE :mol_121 @0x155295368> #<MOLECULE :mol_122 @0x155289848>\n",
       " #<MOLECULE :mol_123 @0x15527cd28> #<MOLECULE :mol_124 @0x15526c248>\n",
       " #<MOLECULE :mol_125 @0x15525e728> #<MOLECULE :mol_126 @0x155250c08>\n",
       " #<MOLECULE :mol_127 @0x155242128> #<MOLECULE :mol_128 @0x155234608>\n",
       " #<MOLECULE :mol_129 @0x155226ae8> #<MOLECULE :mol_130 @0x155217008>\n",
       " #<MOLECULE :mol_131 @0x1552084e8> #<MOLECULE :mol_132 @0x1551fb9c8>\n",
       " #<MOLECULE :mol_133 @0x1551edea8> #<MOLECULE :mol_134 @0x1551de3c8>\n",
       " #<MOLECULE :mol_135 @0x1551d18a8> #<MOLECULE :mol_136 @0x1551c4d88>\n",
       " #<MOLECULE :mol_137 @0x1551b52a8> #<MOLECULE :mol_138 @0x1551a6788>\n",
       " #<MOLECULE :mol_139 @0x155198c68> #<MOLECULE :mol_140 @0x155189188>\n",
       " #<MOLECULE :mol_141 @0x15517b668> #<MOLECULE :mol_142 @0x15516eb48>\n",
       " #<MOLECULE :mol_143 @0x15515f068> #<MOLECULE :mol_144 @0x155151548>\n",
       " #<MOLECULE :mol_145 @0x155143a28> #<MOLECULE :mol_146 @0x155136f08>\n",
       " #<MOLECULE :mol_147 @0x155125428> #<MOLECULE :mol_148 @0x155118908>\n",
       " #<MOLECULE :mol_149 @0x15510ade8> #<MOLECULE :mol_150 @0x1550fa308>\n",
       " #<MOLECULE :mol_151 @0x1550ed7e8> #<MOLECULE :mol_152 @0x1550dfcc8>\n",
       " #<MOLECULE :mol_153 @0x1550d01e8> #<MOLECULE :mol_154 @0x1550c26c8>\n",
       " #<MOLECULE :mol_155 @0x1550b5ba8> #<MOLECULE :mol_156 @0x1550a50c8>\n",
       " #<MOLECULE :mol_157 @0x1550975a8> #<MOLECULE :mol_158 @0x15508aa88>\n",
       " #<MOLECULE :mol_159 @0x15507df68> #<MOLECULE :mol_160 @0x15506e488>\n",
       " #<MOLECULE :mol_161 @0x155061968> #<MOLECULE :mol_162 @0x155052e48>\n",
       " #<MOLECULE :mol_163 @0x155041368> #<MOLECULE :mol_164 @0x155034848>\n",
       " #<MOLECULE :mol_165 @0x155027d28> #<MOLECULE :mol_166 @0x155018248>\n",
       " #<MOLECULE :mol_167 @0x15500a728> #<MOLECULE :mol_168 @0x154ffdc08>\n",
       " #<MOLECULE :mol_169 @0x154fee128> #<MOLECULE :mol_170 @0x154fe0608>\n",
       " #<MOLECULE :mol_171 @0x154fd2ae8> #<MOLECULE :mol_172 @0x154fc3008>\n",
       " #<MOLECULE :mol_173 @0x154fb44e8> #<MOLECULE :mol_174 @0x154fa89c8>\n",
       " #<MOLECULE :mol_175 @0x154f99ea8> #<MOLECULE :mol_176 @0x154f8a3c8>\n",
       " #<MOLECULE :mol_177 @0x154f7c8a8> #<MOLECULE :mol_178 @0x154f6fd88>\n",
       " #<MOLECULE :mol_179 @0x154f612a8> #<MOLECULE :mol_180 @0x154f53788>\n",
       " #<MOLECULE :mol_181 @0x154f44c68> #<MOLECULE :mol_182 @0x154f35188>\n",
       " #<MOLECULE :mol_183 @0x154f27668> #<MOLECULE :mol_184 @0x154f19b48>\n",
       " #<MOLECULE :mol_185 @0x154f0a068> #<MOLECULE :mol_186 @0x154efd548>\n",
       " #<MOLECULE :mol_187 @0x154ef0a28> #<MOLECULE :mol_188 @0x154ee2f08>\n",
       " #<MOLECULE :mol_189 @0x154ed1428> #<MOLECULE :mol_190 @0x154ec3908>\n",
       " #<MOLECULE :mol_191 @0x154eb5de8> #<MOLECULE :mol_192 @0x154ea7308>\n",
       " #<MOLECULE :mol_193 @0x154e9b7e8> #<MOLECULE :mol_194 @0x154e8bcc8>\n",
       " #<MOLECULE :mol_195 @0x154e7c1e8> #<MOLECULE :mol_196 @0x154e6e6c8>\n",
       " #<MOLECULE :mol_197 @0x154e61ba8> #<MOLECULE :mol_198 @0x154e510c8>\n",
       " #<MOLECULE :mol_199 @0x154e435a8> #<MOLECULE :mol_200 @0x154e36a88>\n",
       " #<MOLECULE :mol_201 @0x154e28f68> #<MOLECULE :mol_202 @0x154e1a488>\n",
       " #<MOLECULE :mol_203 @0x154e0c968> #<MOLECULE :mol_204 @0x154dfee48>\n",
       " #<MOLECULE :mol_205 @0x154dee368> #<MOLECULE :mol_206 @0x154de0848>\n",
       " #<MOLECULE :mol_207 @0x154dd3d28> #<MOLECULE :mol_208 @0x154dc4248>\n",
       " #<MOLECULE :mol_209 @0x154db6728> #<MOLECULE :mol_210 @0x154da9c08>\n",
       " #<MOLECULE :mol_211 @0x154d9a128> #<MOLECULE :mol_212 @0x154d8c608>\n",
       " #<MOLECULE :mol_213 @0x154d7eae8> #<MOLECULE :mol_214 @0x154d6f008>\n",
       " #<MOLECULE :mol_215 @0x154d604e8> #<MOLECULE :mol_216 @0x154d539c8>\n",
       " #<MOLECULE :mol_217 @0x154d45ea8> #<MOLECULE :mol_218 @0x154d363c8>\n",
       " #<MOLECULE :mol_219 @0x154d288a8> #<MOLECULE :mol_220 @0x154d1bd88>\n",
       " #<MOLECULE :mol_221 @0x154d0d2a8> #<MOLECULE :mol_222 @0x154cff788>\n",
       " #<MOLECULE :mol_223 @0x154cf1c68> #<MOLECULE :mol_224 @0x154ce1188>\n",
       " #<MOLECULE :mol_225 @0x154cd3668> #<MOLECULE :mol_226 @0x154cc5b48>\n",
       " #<MOLECULE :mol_227 @0x154cb6068> #<MOLECULE :mol_228 @0x154ca9548>\n",
       " #<MOLECULE :mol_229 @0x154c9ba28> #<MOLECULE :mol_230 @0x154c8ef08>\n",
       " #<MOLECULE :mol_231 @0x154c7e428> #<MOLECULE :mol_232 @0x154c6f908>\n",
       " #<MOLECULE :mol_233 @0x154c61de8> #<MOLECULE :mol_234 @0x154c53308>\n",
       " #<MOLECULE :mol_235 @0x154c467e8> #<MOLECULE :mol_236 @0x154c39cc8>\n",
       " #<MOLECULE :mol_237 @0x154c281e8> #<MOLECULE :mol_238 @0x154c196c8>\n",
       " #<MOLECULE :mol_239 @0x154c0dba8> #<MOLECULE :mol_240 @0x154bfd0c8>\n",
       " #<MOLECULE :mol_241 @0x154bef5a8> #<MOLECULE :mol_242 @0x154be2a88>\n",
       " #<MOLECULE :mol_243 @0x154bd4f68> #<MOLECULE :mol_244 @0x154bc6488>\n",
       " #<MOLECULE :mol_245 @0x154bb8968> #<MOLECULE :mol_246 @0x154baae48>\n",
       " #<MOLECULE :mol_247 @0x154b9a368> #<MOLECULE :mol_248 @0x154b8d848>\n",
       " #<MOLECULE :mol_249 @0x154b80d28> #<MOLECULE :mol_250 @0x154b5f248>\n",
       " #<MOLECULE :mol_251 @0x154b51728> #<MOLECULE :mol_252 @0x154b44c08>\n",
       " #<MOLECULE :mol_253 @0x154b36128> #<MOLECULE :mol_254 @0x154b28608>\n",
       " #<MOLECULE :mol_255 @0x154b1aae8> #<MOLECULE :mol_256 @0x154b0b008>\n",
       " #<MOLECULE :mol_257 @0x154afd4e8> #<MOLECULE :mol_258 @0x154aef9c8>\n",
       " #<MOLECULE :mol_259 @0x154ae1ea8> #<MOLECULE :mol_260 @0x154ad23c8>\n",
       " #<MOLECULE :mol_261 @0x154ac58a8> #<MOLECULE :mol_262 @0x154ab8d88>\n",
       " #<MOLECULE :mol_263 @0x154aa82a8> #<MOLECULE :mol_264 @0x154a9a788>\n",
       " #<MOLECULE :mol_265 @0x154a8dc68> #<MOLECULE :mol_266 @0x154a7d188>\n",
       " #<MOLECULE :mol_267 @0x154a70668> #<MOLECULE :mol_268 @0x154a62b48>\n",
       " #<MOLECULE :mol_269 @0x154a51068> #<MOLECULE :mol_270 @0x154a45548>\n",
       " #<MOLECULE :mol_271 @0x154a37a28> #<MOLECULE :mol_272 @0x154a2af08>\n",
       " #<MOLECULE :mol_273 @0x15aa3a428> #<MOLECULE :mol_274 @0x15aa2b908>\n",
       " #<MOLECULE :mol_275 @0x15aa1cde8> #<MOLECULE :mol_276 @0x15aa0d308>\n",
       " #<MOLECULE :mol_277 @0x15aa007e8> #<MOLECULE :mol_278 @0x15a9f4cc8>\n",
       " #<MOLECULE :mol_279 @0x15a9e31e8> #<MOLECULE :mol_280 @0x15a9d56c8>\n",
       " #<MOLECULE :mol_281 @0x15a9c7ba8> #<MOLECULE :mol_282 @0x15a9510c8>)"
      ]
     },
     "execution_count": 27,
     "metadata": {},
     "output_type": "execute_result"
    }
   ],
   "source": [
    "*cl*"
   ]
  },
  {
   "cell_type": "code",
   "execution_count": 45,
   "metadata": {},
   "outputs": [
    {
     "data": {
      "application/vnd.jupyter.widget-view+json": {
       "model_id": "CA3759A2-C24F-47DD-89E5-FE03364B89A7",
       "version_major": 2,
       "version_minor": 0
      },
      "text/plain": [
       "#<NGLV:NGLWIDGET>"
      ]
     },
     "execution_count": 45,
     "metadata": {},
     "output_type": "execute_result"
    }
   ],
   "source": [
    "(show (first *cl*) :axes t)"
   ]
  },
  {
   "cell_type": "code",
   "execution_count": 1,
   "metadata": {},
   "outputs": [
    {
     "data": {
      "text/plain": [
       "*MP*"
      ]
     },
     "execution_count": 1,
     "metadata": {},
     "output_type": "execute_result"
    }
   ],
   "source": [
    "(defparameter *mp* (chem:make-aggregate))"
   ]
  },
  {
   "cell_type": "code",
   "execution_count": 2,
   "metadata": {},
   "outputs": [
    {
     "name": "stderr",
     "output_type": "stream",
     "text": [
      "\n",
      "Undefined variable *MEMB*\n",
      "\n",
      "An error occurred of type: UNBOUND-VARIABLE: \n",
      "  The variable *MEMB* is unbound.\n",
      "\n",
      "serious-condition backtrace:\n",
      "0: (ERROR UNBOUND-VARIABLE :NAME *MEMB*)\n",
      "1: (LAMBDA)\n",
      "\n"
     ]
    },
    {
     "data": {
      "text/plain": [
       "NIL"
      ]
     },
     "execution_count": 2,
     "metadata": {},
     "output_type": "execute_result"
    }
   ],
   "source": [
    "(chem:add-molecule *mp* (mol *memb* 0))"
   ]
  },
  {
   "cell_type": "code",
   "execution_count": null,
   "metadata": {},
   "outputs": [],
   "source": []
  },
  {
   "cell_type": "code",
   "execution_count": 47,
   "metadata": {},
   "outputs": [
    {
     "data": {
      "application/vnd.jupyter.widget-view+json": {
       "model_id": "39635BF8-009B-4B4A-AB82-CA97F680698B",
       "version_major": 2,
       "version_minor": 0
      },
      "text/plain": [
       "#<NGLV:NGLWIDGET>"
      ]
     },
     "execution_count": 47,
     "metadata": {},
     "output_type": "execute_result"
    }
   ],
   "source": [
    "(chem:make-oct-tree (mol *memb* 0) :interior-solute "
   ]
  },
  {
   "cell_type": "code",
   "execution_count": 44,
   "metadata": {},
   "outputs": [
    {
     "data": {
      "application/vnd.jupyter.widget-view+json": {
       "model_id": "EEE8AC55-96AF-4F18-93B9-5C05A4C7EF4F",
       "version_major": 2,
       "version_minor": 0
      },
      "text/plain": [
       "#<NGLV:NGLWIDGET>"
      ]
     },
     "execution_count": 44,
     "metadata": {},
     "output_type": "execute_result"
    }
   ],
   "source": [
    "*v*"
   ]
  },
  {
   "cell_type": "code",
   "execution_count": 33,
   "metadata": {},
   "outputs": [
    {
     "data": {
      "text/plain": [
       "*V*"
      ]
     },
     "execution_count": 33,
     "metadata": {},
     "output_type": "execute_result"
    }
   ],
   "source": [
    "(defparameter *v* (show (apply #'combine *cl*)))"
   ]
  },
  {
   "cell_type": "code",
   "execution_count": 37,
   "metadata": {},
   "outputs": [
    {
     "name": "stdout",
     "output_type": "stream",
     "text": [
      "CHEM:OCT-OCT-TREE-CREATE  Function\n",
      "CHEM:OCT-TREE-DELETE-SPHERE  Function\n",
      "CHEM:OCT-TREE-INIT-CHARGES  Function\n",
      "CHEM:OCT-TREE-UPDATE-CHARGE  Function\n"
     ]
    },
    {
     "data": {
      "text/plain": [
       "NIL"
      ]
     },
     "execution_count": 37,
     "metadata": {},
     "output_type": "execute_result"
    }
   ],
   "source": [
    "(apropos \"oct-tree\")"
   ]
  },
  {
   "cell_type": "code",
   "execution_count": null,
   "metadata": {},
   "outputs": [],
   "source": []
  },
  {
   "cell_type": "code",
   "execution_count": 34,
   "metadata": {},
   "outputs": [
    {
     "data": {
      "application/vnd.jupyter.widget-view+json": {
       "model_id": "03BCF2C9-58EA-4A7F-A4DF-8207ADA2B3C3",
       "version_major": 2,
       "version_minor": 0
      },
      "text/plain": [
       "#<NGLV:NGLWIDGET>"
      ]
     },
     "execution_count": 34,
     "metadata": {},
     "output_type": "execute_result"
    }
   ],
   "source": [
    "*v*"
   ]
  },
  {
   "cell_type": "code",
   "execution_count": 35,
   "metadata": {},
   "outputs": [
    {
     "data": {
      "text/plain": [
       "T"
      ]
     },
     "execution_count": 35,
     "metadata": {},
     "output_type": "execute_result"
    }
   ],
   "source": [
    "(nglv:add-axes *v*)"
   ]
  },
  {
   "cell_type": "code",
   "execution_count": 31,
   "metadata": {},
   "outputs": [
    {
     "data": {
      "text/plain": [
       "NIL"
      ]
     },
     "execution_count": 31,
     "metadata": {},
     "output_type": "execute_result"
    }
   ],
   "source": [
    "(do-molecules (mol *memb*) (when (= (chem:number-of-atoms mol) 134) (push mol *lipids*)))"
   ]
  },
  {
   "cell_type": "code",
   "execution_count": 22,
   "metadata": {},
   "outputs": [
    {
     "data": {
      "text/plain": [
       "#<AGGREGATE :PCPAOL @0x14393d828>"
      ]
     },
     "execution_count": 22,
     "metadata": {},
     "output_type": "execute_result"
    }
   ],
   "source": [
    "(save-cando *poc* \"source-dir:extensions;cando;src;data;poc.cando\")"
   ]
  },
  {
   "cell_type": "code",
   "execution_count": 32,
   "metadata": {},
   "outputs": [
    {
     "data": {
      "application/vnd.jupyter.widget-view+json": {
       "model_id": "C12848A0-11AE-46B7-9680-C82E15168EC7",
       "version_major": 2,
       "version_minor": 0
      },
      "text/plain": [
       "#<NGLV:NGLWIDGET>"
      ]
     },
     "execution_count": 32,
     "metadata": {},
     "output_type": "execute_result"
    }
   ],
   "source": [
    "(show (first *lipids*))"
   ]
  },
  {
   "cell_type": "code",
   "execution_count": 7,
   "metadata": {},
   "outputs": [
    {
     "data": {
      "text/plain": [
       "*MERCK*"
      ]
     },
     "execution_count": 7,
     "metadata": {},
     "output_type": "execute_result"
    }
   ],
   "source": [
    "(defparameter *merck* (chem:moe-read-aggregate (namestring (merge-pathnames \"merck_suvorexant_derivatives.moe\"))))"
   ]
  },
  {
   "cell_type": "code",
   "execution_count": 24,
   "metadata": {},
   "outputs": [
    {
     "data": {
      "text/plain": [
       "NIL"
      ]
     },
     "execution_count": 24,
     "metadata": {},
     "output_type": "execute_result"
    }
   ],
   "source": [
    "(chem:setf-force-field-name (mol *merck* 0) :default)"
   ]
  },
  {
   "cell_type": "code",
   "execution_count": 25,
   "metadata": {},
   "outputs": [
    {
     "data": {
      "text/plain": [
       "NIL"
      ]
     },
     "execution_count": 25,
     "metadata": {},
     "output_type": "execute_result"
    }
   ],
   "source": [
    "(chem:setf-force-field-name (mol *merck* 1) :default)"
   ]
  },
  {
   "cell_type": "code",
   "execution_count": null,
   "metadata": {},
   "outputs": [],
   "source": [
    "(assign-atom-types)"
   ]
  },
  {
   "cell_type": "code",
   "execution_count": 22,
   "metadata": {},
   "outputs": [
    {
     "data": {
      "application/vnd.jupyter.widget-view+json": {
       "model_id": "044E3B9F-324A-4BAA-B9D9-63B1B25DFA7F",
       "version_major": 2,
       "version_minor": 0
      },
      "text/plain": [
       "#<NGLV:NGLWIDGET>"
      ]
     },
     "execution_count": 22,
     "metadata": {},
     "output_type": "execute_result"
    }
   ],
   "source": [
    "(show *merck* :axes t)"
   ]
  },
  {
   "cell_type": "code",
   "execution_count": 8,
   "metadata": {},
   "outputs": [
    {
     "data": {
      "text/plain": [
       "*V*"
      ]
     },
     "execution_count": 8,
     "metadata": {},
     "output_type": "execute_result"
    }
   ],
   "source": [
    "(defparameter *v* (show *merck*))"
   ]
  },
  {
   "cell_type": "code",
   "execution_count": 9,
   "metadata": {},
   "outputs": [
    {
     "data": {
      "application/vnd.jupyter.widget-view+json": {
       "model_id": "8EC726AD-C98F-4B82-9AEF-4546665E95C0",
       "version_major": 2,
       "version_minor": 0
      },
      "text/plain": [
       "#<NGLV:NGLWIDGET>"
      ]
     },
     "execution_count": 9,
     "metadata": {},
     "output_type": "execute_result"
    }
   ],
   "source": [
    "*v*"
   ]
  },
  {
   "cell_type": "code",
   "execution_count": 25,
   "metadata": {},
   "outputs": [
    {
     "data": {
      "text/plain": [
       "T"
      ]
     },
     "execution_count": 25,
     "metadata": {},
     "output_type": "execute_result"
    }
   ],
   "source": [
    "(nglv::add-axes *v*)"
   ]
  },
  {
   "cell_type": "code",
   "execution_count": 26,
   "metadata": {},
   "outputs": [
    {
     "data": {
      "text/plain": [
       "*CC*"
      ]
     },
     "execution_count": 26,
     "metadata": {},
     "output_type": "execute_result"
    }
   ],
   "source": [
    "(defparameter *cc* (chem:geometric-center *merck*))"
   ]
  },
  {
   "cell_type": "code",
   "execution_count": 27,
   "metadata": {},
   "outputs": [
    {
     "data": {
      "text/plain": [
       "NIL"
      ]
     },
     "execution_count": 27,
     "metadata": {},
     "output_type": "execute_result"
    }
   ],
   "source": [
    "(chem:apply-transform-to-atoms *merck* (geom:make-m4-translate (geom:v* *cc* -1.0)))"
   ]
  },
  {
   "cell_type": "code",
   "execution_count": 28,
   "metadata": {},
   "outputs": [
    {
     "data": {
      "text/plain": [
       "*V*"
      ]
     },
     "execution_count": 28,
     "metadata": {},
     "output_type": "execute_result"
    }
   ],
   "source": [
    "(defparameter *v* (show *merck*))"
   ]
  },
  {
   "cell_type": "code",
   "execution_count": 29,
   "metadata": {},
   "outputs": [
    {
     "data": {
      "application/vnd.jupyter.widget-view+json": {
       "model_id": "36B0E1E1-9BC9-404A-AFC0-EBD99DE6D5E4",
       "version_major": 2,
       "version_minor": 0
      },
      "text/plain": [
       "#<NGLV:NGLWIDGET>"
      ]
     },
     "execution_count": 29,
     "metadata": {},
     "output_type": "execute_result"
    }
   ],
   "source": [
    "*v*"
   ]
  },
  {
   "cell_type": "code",
   "execution_count": 33,
   "metadata": {},
   "outputs": [
    {
     "data": {
      "application/vnd.jupyter.widget-view+json": {
       "model_id": "AE2ADDD2-0CBE-41D8-B0A4-7D8C655C7BA5",
       "version_major": 2,
       "version_minor": 0
      },
      "text/plain": [
       "#<NGLV:NGLWIDGET>"
      ]
     },
     "execution_count": 33,
     "metadata": {},
     "output_type": "execute_result"
    }
   ],
   "source": [
    "(show (mol *merck* 6))"
   ]
  },
  {
   "cell_type": "code",
   "execution_count": 12,
   "metadata": {},
   "outputs": [
    {
     "data": {
      "text/plain": [
       "*MOLS*"
      ]
     },
     "execution_count": 12,
     "metadata": {},
     "output_type": "execute_result"
    }
   ],
   "source": [
    "(defparameter *mols* (chem:map-molecules 'list #'identity *merck*))"
   ]
  },
  {
   "cell_type": "code",
   "execution_count": 13,
   "metadata": {},
   "outputs": [
    {
     "data": {
      "text/plain": [
       "*LIGANDS*"
      ]
     },
     "execution_count": 13,
     "metadata": {},
     "output_type": "execute_result"
    }
   ],
   "source": [
    "(defparameter *ligands* (subseq *mols* 2 (length *mols*)))"
   ]
  },
  {
   "cell_type": "code",
   "execution_count": 14,
   "metadata": {},
   "outputs": [
    {
     "name": "stdout",
     "output_type": "stream",
     "text": [
      "; Compiling file: /Users/meister/Development/D3R-GC4/cando/tools.lisp\n",
      ";   (DEFPARAMETER *STAGE1-NONBOND-CUTOFF* ...)\n",
      ";   (DEFPARAMETER *STAGE1-SCALE-SKETCH-NONBOND* ...)\n",
      ";   (DEFPARAMETER *STAGE1-VELOCITY-SCALE* ...)\n",
      ";   (DEFPARAMETER *STAGE2-VELOCITY-SCALE* ...)\n",
      ";   (DEFPARAMETER *STAGE1-SKETCH-NONBOND-FORCE* ...)\n",
      ";   (DEFPARAMETER *FIRST-BOND-FORCE* ...)\n",
      ";   (DEFPARAMETER *BOND-LENGTH* ...)\n",
      ";   (DEFPARAMETER *RANDOM-SCALE* ...)\n",
      ";   (DEFPARAMETER *OOZP-SCALE* ...)\n",
      ";   (DEFUN DIFFERENT-FLOATS ...)\n",
      ";   (DEFCLASS ATOM-INFO ...)\n",
      ";   (DEFCLASS CHANGE-TRACKER ...)\n",
      ";   (DEFUN CLASSIFY-ATOM-INFO ...)\n",
      ";   (DEFUN DRAW-NAMES ...)\n",
      ";   (DEFUN MAKE-CHANGE-TRACKER ...)\n",
      ";   (DEFUN MESSAGE-IF-CHANGED ...)\n",
      ";   (DEFUN DUMP ...)\n",
      ";   (DEFMETHOD SHOW ...)\n",
      ";   (DEFUN EASY-LOAD-TOP-CRD ...)\n",
      ";   (DEFUN MAKE-HASH-TABLE-FROM-MATCHES ...)\n",
      ";   (DEFUN DRAW-NAME-FOR-MATCHES ...)\n",
      ";   (DEFCLASS ONE-MATCH ...)\n",
      ";   (DEFMETHOD PRINT-OBJECT ...)\n",
      ";   (DEFCLASS MANY-MATCHES ...)\n",
      ";   (DEFUN SKETCH-MATCH-MOLS ...)\n",
      ";   (DEFUN SKETCH-ONE-MATCH ...)\n",
      ";   (DEFUN LOAD-ALL-MOLECULES ...)\n",
      ";   (DEFUN GENERATE-COMMON-SUB-MOLECULE ...)\n",
      ";   (DEFUN MATCH-ALL-MOLECULES ...)\n",
      ";   (DEFCLASS OVERLAP-CLUSTERS ...)\n",
      ";   (DEFMETHOD PRINT-OBJECT ...)\n",
      ";   (DEFUN ADD-TO-CLUSTER ...)\n",
      ";   (DEFUN SORT-CLUSTERS ...)\n",
      ";   (DEFUN CLUSTER-MATCHES ...)\n",
      ";   (DEFUN MATCHES-IN-CLUSTER-WITHOUT-MOLECULE ...)\n",
      ";   (DEFUN REMOVE-MATCHES-WITH-MOLECULE-FROM-WORK-LIST ...)\n",
      ";   (DEFUN GATHER-REMAINING-MOLECULES ...)\n",
      ";   (DEFUN FIND-SMALLEST-MATCH ...)\n",
      ";   (DEFUN UNIQUE-MOLECULES-IN-CLUSTER ...)\n",
      ";   (DEFCLASS GRAPH ...)\n",
      ";   (DEFCLASS NODE ...)\n",
      ";   (DEFMETHOD PRINT-OBJECT ...)\n",
      ";   (DEFCLASS EDGE ...)\n",
      ";   (DEFMETHOD PRINT-OBJECT ...)\n",
      ";   (DEFUN GRAPH-FOR-CLUSTER ...)\n",
      ";   (DEFUN GRAPH-STEP ...)\n",
      ";   (DEFUN ONCE-FILL-GRAPH-USING-CLUSTERS ...)\n",
      ";   (DEFUN FILL-GRAPH-USING-CLUSTERS ...)\n",
      ";   (DEFUN MEMOIZED-SKETCH-SVG ...)\n",
      ";   (DEFUN RENDER-NODES ...)\n",
      ";   (DEFCLASS NODE-TABLE ...)\n",
      ";   (DEFCLASS DUMMY-SKETCH-NONBOND-FF ...)\n",
      ";   (DEFMETHOD CHEM:MAKE-NODE-TABLE-FROM-GRAPH ...)\n",
      ";   (DEFMETHOD CHEM:NODE-TABLE-SIZE ...)\n",
      ";   (DEFMETHOD CHEM:NODE-TABLE-COORDINATE-INDEX-TIMES3 ...)\n",
      ";   (DEFMETHOD CHEM:NODE-TABLE-NODE-AT-INDEX ...)\n",
      ";   (DEFMETHOD CHEM:NODE-GET-POSITION ...)\n",
      ";   (DEFMETHOD CHEM:NODE-SET-POSITION ...)\n",
      ";   (DEFUN PREPARE-SKETCH-FUNCTION ...)\n",
      ";   (DEFUN GRAPH-DYNAMICS ...)\n",
      ";   (DEFUN ADD-FLATTEN-FUNCTION ...)\n",
      ";   (DEFUN ADVANCE-SIMULATION ...)\n",
      ";   (DEFUN RUN-SIMULATION ...)\n",
      ";   (DEFUN SVG-BOUNDING-BOX ...)\n",
      ";   (DEFUN RENDER-SVG ...)\n",
      ";   (DEFUN DUMP-COORDINATES ...)\n",
      ";   (DEFUN DUMP-EDGE-LENGTHS ...)\n",
      "Writing temporary bitcode file to: #P\"/Users/meister/Development/D3R-GC4/cando/tools.ll\"\n",
      "Writing fasl file to: #P\"/Users/meister/Development/D3R-GC4/cando/tools.fasl\"\n"
     ]
    },
    {
     "name": "stderr",
     "output_type": "stream",
     "text": [
      "\n",
      "Undefined variable *PRM7TOP7-PATHNAME-DEFAULTS*\n"
     ]
    },
    {
     "data": {
      "text/plain": [
       "T"
      ]
     },
     "execution_count": 14,
     "metadata": {},
     "output_type": "execute_result"
    }
   ],
   "source": [
    "(load (compile-file \"~/Development/D3R-GC4/cando/tools.lisp\"))"
   ]
  },
  {
   "cell_type": "code",
   "execution_count": 15,
   "metadata": {},
   "outputs": [
    {
     "name": "stdout",
     "output_type": "stream",
     "text": [
      "Missing-h NIL\n"
     ]
    },
    {
     "data": {
      "image/svg+xml": [
       "<?xml version=\"1.0\" standalone=\"no\"?>\n",
       "<svg viewport=\"0 0 453 221\" height=\"221\" width=\"453\" version=\"1.2\" id=\"\"\n",
       "    xmlns=\"http://www.w3.org/2000/svg\"\n",
       "    xmlns:xlink=\"http://www.w3.org/1999/xlink\">\n",
       "  <line x1=\"66.77\" y1=\"82.86\" x2=\"62.56\" y2=\"61.01\" fill=\"none\" stroke=\"black\"\n",
       "        stroke-width=\"2\" stroke-linecap=\"round\"/>\n",
       "  <line x1=\"71.68\" y1=\"81.92\" x2=\"68.22\" y2=\"63.99\" fill=\"none\" stroke=\"black\"\n",
       "        stroke-width=\"2\" stroke-linecap=\"round\"/>\n",
       "  <line x1=\"77.44\" y1=\"92.50\" x2=\"90.59\" y2=\"93.67\" fill=\"none\" stroke=\"black\"\n",
       "        stroke-width=\"2\" stroke-linecap=\"round\"/>\n",
       "  <line x1=\"62.56\" y1=\"61.01\" x2=\"89.64\" y2=\"45.75\" fill=\"none\" stroke=\"black\"\n",
       "        stroke-width=\"2\" stroke-linecap=\"round\"/>\n",
       "  <line x1=\"89.64\" y1=\"45.75\" x2=\"106.27\" y2=\"60.80\" fill=\"none\" stroke=\"black\"\n",
       "        stroke-width=\"2\" stroke-linecap=\"round\"/>\n",
       "  <line x1=\"89.25\" y1=\"52.14\" x2=\"102.91\" y2=\"64.50\" fill=\"none\" stroke=\"black\"\n",
       "        stroke-width=\"2\" stroke-linecap=\"round\"/>\n",
       "  <line x1=\"109.02\" y1=\"74.93\" x2=\"103.47\" y2=\"86.37\" fill=\"none\"\n",
       "        stroke=\"black\" stroke-width=\"2\" stroke-linecap=\"round\"/>\n",
       "  <line x1=\"103.84\" y1=\"102.38\" x2=\"114.36\" y2=\"121.77\" fill=\"none\"\n",
       "        stroke=\"black\" stroke-width=\"2\" stroke-linecap=\"round\"/>\n",
       "  <line x1=\"97.14\" y1=\"147.79\" x2=\"111.23\" y2=\"174.44\" fill=\"none\"\n",
       "        stroke=\"black\" stroke-width=\"2\" stroke-linecap=\"round\"/>\n",
       "  <line x1=\"103.43\" y1=\"148.99\" x2=\"113.78\" y2=\"168.56\" fill=\"none\"\n",
       "        stroke=\"black\" stroke-width=\"2\" stroke-linecap=\"round\"/>\n",
       "  <line x1=\"97.14\" y1=\"147.79\" x2=\"114.36\" y2=\"121.77\" fill=\"none\"\n",
       "        stroke=\"black\" stroke-width=\"2\" stroke-linecap=\"round\"/>\n",
       "  <line x1=\"111.23\" y1=\"174.44\" x2=\"142.75\" y2=\"175.11\" fill=\"none\"\n",
       "        stroke=\"black\" stroke-width=\"2\" stroke-linecap=\"round\"/>\n",
       "  <line x1=\"142.75\" y1=\"175.11\" x2=\"159.52\" y2=\"149.95\" fill=\"none\"\n",
       "        stroke=\"black\" stroke-width=\"2\" stroke-linecap=\"round\"/>\n",
       "  <line x1=\"140.81\" y1=\"169.01\" x2=\"153.14\" y2=\"150.51\" fill=\"none\"\n",
       "        stroke=\"black\" stroke-width=\"2\" stroke-linecap=\"round\"/>\n",
       "  <line x1=\"142.75\" y1=\"175.11\" x2=\"156.54\" y2=\"202.88\" fill=\"none\"\n",
       "        stroke=\"black\" stroke-width=\"2\" stroke-linecap=\"round\"/>\n",
       "  <line x1=\"159.52\" y1=\"149.95\" x2=\"144.59\" y2=\"123.09\" fill=\"none\"\n",
       "        stroke=\"black\" stroke-width=\"2\" stroke-linecap=\"round\"/>\n",
       "  <line x1=\"144.59\" y1=\"123.09\" x2=\"114.36\" y2=\"121.77\" fill=\"none\"\n",
       "        stroke=\"black\" stroke-width=\"2\" stroke-linecap=\"round\"/>\n",
       "  <line x1=\"140.37\" y1=\"127.91\" x2=\"118.14\" y2=\"126.94\" fill=\"none\"\n",
       "        stroke=\"black\" stroke-width=\"2\" stroke-linecap=\"round\"/>\n",
       "  <line x1=\"144.59\" y1=\"123.09\" x2=\"160.48\" y2=\"96.09\" fill=\"none\"\n",
       "        stroke=\"black\" stroke-width=\"2\" stroke-linecap=\"round\"/>\n",
       "  <line x1=\"150.73\" y1=\"76.21\" x2=\"162.58\" y2=\"94.74\" fill=\"none\"\n",
       "        stroke=\"black\" stroke-width=\"2\" stroke-linecap=\"round\"/>\n",
       "  <line x1=\"146.52\" y1=\"78.91\" x2=\"158.37\" y2=\"97.43\" fill=\"none\"\n",
       "        stroke=\"black\" stroke-width=\"2\" stroke-linecap=\"round\"/>\n",
       "  <line x1=\"160.48\" y1=\"96.09\" x2=\"182.25\" y2=\"94.14\" fill=\"none\"\n",
       "        stroke=\"black\" stroke-width=\"2\" stroke-linecap=\"round\"/>\n",
       "  <line x1=\"196.28\" y1=\"100.77\" x2=\"208.35\" y2=\"118.48\" fill=\"none\"\n",
       "        stroke=\"black\" stroke-width=\"2\" stroke-linecap=\"round\"/>\n",
       "  <line x1=\"193.72\" y1=\"84.69\" x2=\"199.68\" y2=\"64.06\" fill=\"none\"\n",
       "        stroke=\"black\" stroke-width=\"2\" stroke-linecap=\"round\"/>\n",
       "  <line x1=\"208.35\" y1=\"118.48\" x2=\"239.34\" y2=\"120.41\" fill=\"none\"\n",
       "        stroke=\"black\" stroke-width=\"2\" stroke-linecap=\"round\"/>\n",
       "  <line x1=\"239.34\" y1=\"120.41\" x2=\"253.59\" y2=\"104.36\" fill=\"none\"\n",
       "        stroke=\"black\" stroke-width=\"2\" stroke-linecap=\"round\"/>\n",
       "  <line x1=\"176.75\" y1=\"43.56\" x2=\"199.68\" y2=\"64.06\" fill=\"none\"\n",
       "        stroke=\"black\" stroke-width=\"2\" stroke-linecap=\"round\"/>\n",
       "  <line x1=\"199.68\" y1=\"64.06\" x2=\"227.95\" y2=\"51.77\" fill=\"none\"\n",
       "        stroke=\"black\" stroke-width=\"2\" stroke-linecap=\"round\"/>\n",
       "  <line x1=\"227.95\" y1=\"51.77\" x2=\"254.48\" y2=\"66.75\" fill=\"none\"\n",
       "        stroke=\"black\" stroke-width=\"2\" stroke-linecap=\"round\"/>\n",
       "  <line x1=\"254.48\" y1=\"66.75\" x2=\"258.10\" y2=\"88.75\" fill=\"none\"\n",
       "        stroke=\"black\" stroke-width=\"2\" stroke-linecap=\"round\"/>\n",
       "  <line x1=\"268.42\" y1=\"99.24\" x2=\"289.50\" y2=\"103.08\" fill=\"none\"\n",
       "        stroke=\"black\" stroke-width=\"2\" stroke-linecap=\"round\"/>\n",
       "  <line x1=\"289.50\" y1=\"103.08\" x2=\"301.01\" y2=\"122.46\" fill=\"none\"\n",
       "        stroke=\"black\" stroke-width=\"2\" stroke-linecap=\"round\"/>\n",
       "  <line x1=\"295.84\" y1=\"103.97\" x2=\"305.30\" y2=\"119.91\" fill=\"none\"\n",
       "        stroke=\"black\" stroke-width=\"2\" stroke-linecap=\"round\"/>\n",
       "  <line x1=\"289.50\" y1=\"103.08\" x2=\"303.52\" y2=\"85.85\" fill=\"none\"\n",
       "        stroke=\"black\" stroke-width=\"2\" stroke-linecap=\"round\"/>\n",
       "  <line x1=\"314.26\" y1=\"127.76\" x2=\"335.57\" y2=\"121.76\" fill=\"none\"\n",
       "        stroke=\"black\" stroke-width=\"2\" stroke-linecap=\"round\"/>\n",
       "  <line x1=\"335.57\" y1=\"121.76\" x2=\"361.13\" y2=\"139.12\" fill=\"none\"\n",
       "        stroke=\"black\" stroke-width=\"2\" stroke-linecap=\"round\"/>\n",
       "  <line x1=\"335.57\" y1=\"121.76\" x2=\"337.56\" y2=\"90.23\" fill=\"none\"\n",
       "        stroke=\"black\" stroke-width=\"2\" stroke-linecap=\"round\"/>\n",
       "  <line x1=\"330.83\" y1=\"117.45\" x2=\"332.32\" y2=\"93.91\" fill=\"none\"\n",
       "        stroke=\"black\" stroke-width=\"2\" stroke-linecap=\"round\"/>\n",
       "  <line x1=\"361.13\" y1=\"139.12\" x2=\"387.65\" y2=\"123.80\" fill=\"none\"\n",
       "        stroke=\"black\" stroke-width=\"2\" stroke-linecap=\"round\"/>\n",
       "  <line x1=\"362.09\" y1=\"132.79\" x2=\"381.69\" y2=\"121.47\" fill=\"none\"\n",
       "        stroke=\"black\" stroke-width=\"2\" stroke-linecap=\"round\"/>\n",
       "  <line x1=\"406.32\" y1=\"134.86\" x2=\"387.65\" y2=\"123.80\" fill=\"none\"\n",
       "        stroke=\"black\" stroke-width=\"2\" stroke-linecap=\"round\"/>\n",
       "  <line x1=\"387.65\" y1=\"123.80\" x2=\"389.83\" y2=\"92.34\" fill=\"none\"\n",
       "        stroke=\"black\" stroke-width=\"2\" stroke-linecap=\"round\"/>\n",
       "  <line x1=\"389.83\" y1=\"92.34\" x2=\"364.12\" y2=\"75.63\" fill=\"none\"\n",
       "        stroke=\"black\" stroke-width=\"2\" stroke-linecap=\"round\"/>\n",
       "  <line x1=\"383.75\" y1=\"94.36\" x2=\"364.75\" y2=\"82.01\" fill=\"none\"\n",
       "        stroke=\"black\" stroke-width=\"2\" stroke-linecap=\"round\"/>\n",
       "  <line x1=\"317.56\" y1=\"82.22\" x2=\"337.56\" y2=\"90.23\" fill=\"none\"\n",
       "        stroke=\"black\" stroke-width=\"2\" stroke-linecap=\"round\"/>\n",
       "  <line x1=\"337.56\" y1=\"90.23\" x2=\"364.12\" y2=\"75.63\" fill=\"none\"\n",
       "        stroke=\"black\" stroke-width=\"2\" stroke-linecap=\"round\"/>\n",
       "  <text x=\"99.55\" y=\"96.47\" text-anchor=\"middle\" alignment-baseline=\"middle\">\n",
       "    N\n",
       "  </text>\n",
       "  <text x=\"191.21\" y=\"95.34\" text-anchor=\"middle\" alignment-baseline=\"middle\">\n",
       "    N\n",
       "  </text>\n",
       "  <text x=\"305.60\" y=\"132.20\" text-anchor=\"middle\" alignment-baseline=\"middle\">\n",
       "    N\n",
       "  </text>\n",
       "  <text x=\"414.06\" y=\"141.45\" text-anchor=\"middle\" alignment-baseline=\"middle\">\n",
       "    Cl\n",
       "  </text>\n",
       "  <text x=\"143.78\" y=\"71.98\" text-anchor=\"middle\" alignment-baseline=\"middle\">\n",
       "    O\n",
       "  </text>\n",
       "  <text x=\"259.56\" y=\"99.63\" text-anchor=\"middle\" alignment-baseline=\"middle\">\n",
       "    N\n",
       "  </text>\n",
       "  <text x=\"112.94\" y=\"68.83\" text-anchor=\"middle\" alignment-baseline=\"middle\">\n",
       "    N\n",
       "  </text>\n",
       "  <text x=\"68.47\" y=\"93.70\" text-anchor=\"middle\" alignment-baseline=\"middle\">\n",
       "    N\n",
       "  </text>\n",
       "  <text x=\"309.20\" y=\"80.87\" text-anchor=\"middle\" alignment-baseline=\"middle\">\n",
       "    O\n",
       "  </text>\n",
       "</svg>\n"
      ],
      "text/plain": [
       "#<CL-JUPYTER-USER::SVG-STR>"
      ]
     },
     "execution_count": 15,
     "metadata": {},
     "output_type": "execute_result"
    }
   ],
   "source": [
    "(show (sketch2d:sketch2d (first *ligands*)))"
   ]
  },
  {
   "cell_type": "code",
   "execution_count": 16,
   "metadata": {},
   "outputs": [
    {
     "name": "stdout",
     "output_type": "stream",
     "text": [
      "Missing-h NIL\n"
     ]
    },
    {
     "data": {
      "image/svg+xml": [
       "<?xml version=\"1.0\" standalone=\"no\"?>\n",
       "<svg viewport=\"0 0 436 203\" height=\"203\" width=\"436\" version=\"1.2\" id=\"\"\n",
       "    xmlns=\"http://www.w3.org/2000/svg\"\n",
       "    xmlns:xlink=\"http://www.w3.org/1999/xlink\">\n",
       "  <line x1=\"73.70\" y1=\"29.61\" x2=\"91.46\" y2=\"41.91\" fill=\"none\" stroke=\"black\"\n",
       "        stroke-width=\"2\" stroke-linecap=\"round\"/>\n",
       "  <line x1=\"97.54\" y1=\"55.93\" x2=\"94.31\" y2=\"77.69\" fill=\"none\" stroke=\"black\"\n",
       "        stroke-width=\"2\" stroke-linecap=\"round\"/>\n",
       "  <line x1=\"52.67\" y1=\"175.88\" x2=\"73.45\" y2=\"170.07\" fill=\"none\"\n",
       "        stroke=\"black\" stroke-width=\"2\" stroke-linecap=\"round\"/>\n",
       "  <line x1=\"65.59\" y1=\"88.94\" x2=\"62.15\" y2=\"118.90\" fill=\"none\" stroke=\"black\"\n",
       "        stroke-width=\"2\" stroke-linecap=\"round\"/>\n",
       "  <line x1=\"70.10\" y1=\"93.49\" x2=\"67.57\" y2=\"115.50\" fill=\"none\" stroke=\"black\"\n",
       "        stroke-width=\"2\" stroke-linecap=\"round\"/>\n",
       "  <line x1=\"65.59\" y1=\"88.94\" x2=\"94.31\" y2=\"77.69\" fill=\"none\" stroke=\"black\"\n",
       "        stroke-width=\"2\" stroke-linecap=\"round\"/>\n",
       "  <line x1=\"62.15\" y1=\"118.90\" x2=\"87.12\" y2=\"137.52\" fill=\"none\"\n",
       "        stroke=\"black\" stroke-width=\"2\" stroke-linecap=\"round\"/>\n",
       "  <line x1=\"87.12\" y1=\"137.52\" x2=\"116.50\" y2=\"125.94\" fill=\"none\"\n",
       "        stroke=\"black\" stroke-width=\"2\" stroke-linecap=\"round\"/>\n",
       "  <line x1=\"89.01\" y1=\"131.40\" x2=\"110.94\" y2=\"122.76\" fill=\"none\"\n",
       "        stroke=\"black\" stroke-width=\"2\" stroke-linecap=\"round\"/>\n",
       "  <line x1=\"87.12\" y1=\"137.52\" x2=\"83.59\" y2=\"158.76\" fill=\"none\"\n",
       "        stroke=\"black\" stroke-width=\"2\" stroke-linecap=\"round\"/>\n",
       "  <line x1=\"116.50\" y1=\"125.94\" x2=\"119.50\" y2=\"95.87\" fill=\"none\"\n",
       "        stroke=\"black\" stroke-width=\"2\" stroke-linecap=\"round\"/>\n",
       "  <line x1=\"119.50\" y1=\"95.87\" x2=\"94.31\" y2=\"77.69\" fill=\"none\" stroke=\"black\"\n",
       "        stroke-width=\"2\" stroke-linecap=\"round\"/>\n",
       "  <line x1=\"113.33\" y1=\"97.58\" x2=\"94.63\" y2=\"84.08\" fill=\"none\" stroke=\"black\"\n",
       "        stroke-width=\"2\" stroke-linecap=\"round\"/>\n",
       "  <line x1=\"119.50\" y1=\"95.87\" x2=\"144.98\" y2=\"79.24\" fill=\"none\"\n",
       "        stroke=\"black\" stroke-width=\"2\" stroke-linecap=\"round\"/>\n",
       "  <line x1=\"142.58\" y1=\"56.61\" x2=\"147.43\" y2=\"78.71\" fill=\"none\"\n",
       "        stroke=\"black\" stroke-width=\"2\" stroke-linecap=\"round\"/>\n",
       "  <line x1=\"137.70\" y1=\"57.68\" x2=\"142.54\" y2=\"79.78\" fill=\"none\"\n",
       "        stroke=\"black\" stroke-width=\"2\" stroke-linecap=\"round\"/>\n",
       "  <line x1=\"144.98\" y1=\"79.24\" x2=\"166.61\" y2=\"81.59\" fill=\"none\"\n",
       "        stroke=\"black\" stroke-width=\"2\" stroke-linecap=\"round\"/>\n",
       "  <line x1=\"179.63\" y1=\"90.58\" x2=\"189.75\" y2=\"110.55\" fill=\"none\"\n",
       "        stroke=\"black\" stroke-width=\"2\" stroke-linecap=\"round\"/>\n",
       "  <line x1=\"189.75\" y1=\"110.55\" x2=\"220.43\" y2=\"115.59\" fill=\"none\"\n",
       "        stroke=\"black\" stroke-width=\"2\" stroke-linecap=\"round\"/>\n",
       "  <line x1=\"188.16\" y1=\"54.84\" x2=\"179.29\" y2=\"74.36\" fill=\"none\"\n",
       "        stroke=\"black\" stroke-width=\"2\" stroke-linecap=\"round\"/>\n",
       "  <line x1=\"188.16\" y1=\"54.84\" x2=\"217.91\" y2=\"45.83\" fill=\"none\"\n",
       "        stroke=\"black\" stroke-width=\"2\" stroke-linecap=\"round\"/>\n",
       "  <line x1=\"217.91\" y1=\"45.83\" x2=\"241.76\" y2=\"64.37\" fill=\"none\"\n",
       "        stroke=\"black\" stroke-width=\"2\" stroke-linecap=\"round\"/>\n",
       "  <line x1=\"241.76\" y1=\"64.37\" x2=\"242.84\" y2=\"85.98\" fill=\"none\"\n",
       "        stroke=\"black\" stroke-width=\"2\" stroke-linecap=\"round\"/>\n",
       "  <line x1=\"236.60\" y1=\"101.00\" x2=\"220.43\" y2=\"115.59\" fill=\"none\"\n",
       "        stroke=\"black\" stroke-width=\"2\" stroke-linecap=\"round\"/>\n",
       "  <line x1=\"251.92\" y1=\"97.50\" x2=\"272.62\" y2=\"103.58\" fill=\"none\"\n",
       "        stroke=\"black\" stroke-width=\"2\" stroke-linecap=\"round\"/>\n",
       "  <line x1=\"272.62\" y1=\"103.58\" x2=\"287.02\" y2=\"86.09\" fill=\"none\"\n",
       "        stroke=\"black\" stroke-width=\"2\" stroke-linecap=\"round\"/>\n",
       "  <line x1=\"279.03\" y1=\"103.67\" x2=\"290.88\" y2=\"89.27\" fill=\"none\"\n",
       "        stroke=\"black\" stroke-width=\"2\" stroke-linecap=\"round\"/>\n",
       "  <line x1=\"272.62\" y1=\"103.58\" x2=\"283.71\" y2=\"122.36\" fill=\"none\"\n",
       "        stroke=\"black\" stroke-width=\"2\" stroke-linecap=\"round\"/>\n",
       "  <line x1=\"300.92\" y1=\"82.88\" x2=\"321.32\" y2=\"92.21\" fill=\"none\"\n",
       "        stroke=\"black\" stroke-width=\"2\" stroke-linecap=\"round\"/>\n",
       "  <line x1=\"321.32\" y1=\"92.21\" x2=\"348.32\" y2=\"77.26\" fill=\"none\"\n",
       "        stroke=\"black\" stroke-width=\"2\" stroke-linecap=\"round\"/>\n",
       "  <line x1=\"321.32\" y1=\"92.21\" x2=\"318.30\" y2=\"122.70\" fill=\"none\"\n",
       "        stroke=\"black\" stroke-width=\"2\" stroke-linecap=\"round\"/>\n",
       "  <line x1=\"325.90\" y1=\"96.68\" x2=\"323.67\" y2=\"119.22\" fill=\"none\"\n",
       "        stroke=\"black\" stroke-width=\"2\" stroke-linecap=\"round\"/>\n",
       "  <line x1=\"348.32\" y1=\"77.26\" x2=\"373.15\" y2=\"95.20\" fill=\"none\"\n",
       "        stroke=\"black\" stroke-width=\"2\" stroke-linecap=\"round\"/>\n",
       "  <line x1=\"348.63\" y1=\"83.66\" x2=\"366.98\" y2=\"96.91\" fill=\"none\"\n",
       "        stroke=\"black\" stroke-width=\"2\" stroke-linecap=\"round\"/>\n",
       "  <line x1=\"373.15\" y1=\"95.20\" x2=\"370.77\" y2=\"125.55\" fill=\"none\"\n",
       "        stroke=\"black\" stroke-width=\"2\" stroke-linecap=\"round\"/>\n",
       "  <line x1=\"388.81\" y1=\"137.31\" x2=\"370.77\" y2=\"125.55\" fill=\"none\"\n",
       "        stroke=\"black\" stroke-width=\"2\" stroke-linecap=\"round\"/>\n",
       "  <line x1=\"370.77\" y1=\"125.55\" x2=\"342.98\" y2=\"140.50\" fill=\"none\"\n",
       "        stroke=\"black\" stroke-width=\"2\" stroke-linecap=\"round\"/>\n",
       "  <line x1=\"364.87\" y1=\"123.04\" x2=\"344.13\" y2=\"134.20\" fill=\"none\"\n",
       "        stroke=\"black\" stroke-width=\"2\" stroke-linecap=\"round\"/>\n",
       "  <line x1=\"297.03\" y1=\"127.95\" x2=\"318.30\" y2=\"122.70\" fill=\"none\"\n",
       "        stroke=\"black\" stroke-width=\"2\" stroke-linecap=\"round\"/>\n",
       "  <line x1=\"318.30\" y1=\"122.70\" x2=\"342.98\" y2=\"140.50\" fill=\"none\"\n",
       "        stroke=\"black\" stroke-width=\"2\" stroke-linecap=\"round\"/>\n",
       "  <text x=\"396.35\" y=\"144.22\" text-anchor=\"middle\" alignment-baseline=\"middle\">\n",
       "    Cl\n",
       "  </text>\n",
       "  <text x=\"82.12\" y=\"169.64\" text-anchor=\"middle\" alignment-baseline=\"middle\">\n",
       "    O\n",
       "  </text>\n",
       "  <text x=\"292.74\" y=\"81.14\" text-anchor=\"middle\" alignment-baseline=\"middle\">\n",
       "    N\n",
       "  </text>\n",
       "  <text x=\"243.28\" y=\"96.96\" text-anchor=\"middle\" alignment-baseline=\"middle\">\n",
       "    N\n",
       "  </text>\n",
       "  <text x=\"288.29\" y=\"132.11\" text-anchor=\"middle\" alignment-baseline=\"middle\">\n",
       "    S\n",
       "  </text>\n",
       "  <text x=\"138.22\" y=\"50.35\" text-anchor=\"middle\" alignment-baseline=\"middle\">\n",
       "    O\n",
       "  </text>\n",
       "  <text x=\"98.86\" y=\"49.03\" text-anchor=\"middle\" alignment-baseline=\"middle\">\n",
       "    O\n",
       "  </text>\n",
       "  <text x=\"175.56\" y=\"84.55\" text-anchor=\"middle\" alignment-baseline=\"middle\">\n",
       "    N\n",
       "  </text>\n",
       "</svg>\n"
      ],
      "text/plain": [
       "#<CL-JUPYTER-USER::SVG-STR>"
      ]
     },
     "execution_count": 16,
     "metadata": {},
     "output_type": "execute_result"
    }
   ],
   "source": [
    "(show (sketch2d:sketch2d (second *ligands*)))"
   ]
  },
  {
   "cell_type": "code",
   "execution_count": 17,
   "metadata": {},
   "outputs": [
    {
     "name": "stdout",
     "output_type": "stream",
     "text": [
      "Missing-h NIL\n"
     ]
    },
    {
     "data": {
      "image/svg+xml": [
       "<?xml version=\"1.0\" standalone=\"no\"?>\n",
       "<svg viewport=\"0 0 431 210\" height=\"210\" width=\"431\" version=\"1.2\" id=\"\"\n",
       "    xmlns=\"http://www.w3.org/2000/svg\"\n",
       "    xmlns:xlink=\"http://www.w3.org/1999/xlink\">\n",
       "  <line x1=\"62.78\" y1=\"39.51\" x2=\"81.72\" y2=\"49.88\" fill=\"none\" stroke=\"black\"\n",
       "        stroke-width=\"2\" stroke-linecap=\"round\"/>\n",
       "  <line x1=\"89.31\" y1=\"63.19\" x2=\"88.56\" y2=\"84.96\" fill=\"none\" stroke=\"black\"\n",
       "        stroke-width=\"2\" stroke-linecap=\"round\"/>\n",
       "  <line x1=\"88.56\" y1=\"84.96\" x2=\"60.80\" y2=\"99.30\" fill=\"none\" stroke=\"black\"\n",
       "        stroke-width=\"2\" stroke-linecap=\"round\"/>\n",
       "  <line x1=\"56.76\" y1=\"187.41\" x2=\"77.53\" y2=\"179.41\" fill=\"none\"\n",
       "        stroke=\"black\" stroke-width=\"2\" stroke-linecap=\"round\"/>\n",
       "  <line x1=\"86.36\" y1=\"167.18\" x2=\"87.42\" y2=\"144.93\" fill=\"none\"\n",
       "        stroke=\"black\" stroke-width=\"2\" stroke-linecap=\"round\"/>\n",
       "  <line x1=\"60.80\" y1=\"99.30\" x2=\"60.58\" y2=\"129.78\" fill=\"none\" stroke=\"black\"\n",
       "        stroke-width=\"2\" stroke-linecap=\"round\"/>\n",
       "  <line x1=\"65.77\" y1=\"103.33\" x2=\"65.61\" y2=\"125.82\" fill=\"none\"\n",
       "        stroke=\"black\" stroke-width=\"2\" stroke-linecap=\"round\"/>\n",
       "  <line x1=\"60.58\" y1=\"129.78\" x2=\"87.42\" y2=\"144.93\" fill=\"none\"\n",
       "        stroke=\"black\" stroke-width=\"2\" stroke-linecap=\"round\"/>\n",
       "  <line x1=\"115.18\" y1=\"131.35\" x2=\"87.42\" y2=\"144.93\" fill=\"none\"\n",
       "        stroke=\"black\" stroke-width=\"2\" stroke-linecap=\"round\"/>\n",
       "  <line x1=\"109.39\" y1=\"128.61\" x2=\"88.81\" y2=\"138.68\" fill=\"none\"\n",
       "        stroke=\"black\" stroke-width=\"2\" stroke-linecap=\"round\"/>\n",
       "  <line x1=\"115.18\" y1=\"131.35\" x2=\"114.94\" y2=\"100.28\" fill=\"none\"\n",
       "        stroke=\"black\" stroke-width=\"2\" stroke-linecap=\"round\"/>\n",
       "  <line x1=\"114.94\" y1=\"100.28\" x2=\"88.56\" y2=\"84.96\" fill=\"none\"\n",
       "        stroke=\"black\" stroke-width=\"2\" stroke-linecap=\"round\"/>\n",
       "  <line x1=\"108.97\" y1=\"102.60\" x2=\"89.51\" y2=\"91.29\" fill=\"none\"\n",
       "        stroke=\"black\" stroke-width=\"2\" stroke-linecap=\"round\"/>\n",
       "  <line x1=\"114.94\" y1=\"100.28\" x2=\"138.91\" y2=\"81.49\" fill=\"none\"\n",
       "        stroke=\"black\" stroke-width=\"2\" stroke-linecap=\"round\"/>\n",
       "  <line x1=\"135.35\" y1=\"59.65\" x2=\"141.32\" y2=\"80.81\" fill=\"none\"\n",
       "        stroke=\"black\" stroke-width=\"2\" stroke-linecap=\"round\"/>\n",
       "  <line x1=\"130.54\" y1=\"61.01\" x2=\"136.51\" y2=\"82.17\" fill=\"none\"\n",
       "        stroke=\"black\" stroke-width=\"2\" stroke-linecap=\"round\"/>\n",
       "  <line x1=\"138.91\" y1=\"81.49\" x2=\"161.41\" y2=\"83.41\" fill=\"none\"\n",
       "        stroke=\"black\" stroke-width=\"2\" stroke-linecap=\"round\"/>\n",
       "  <line x1=\"174.55\" y1=\"92.16\" x2=\"184.63\" y2=\"111.42\" fill=\"none\"\n",
       "        stroke=\"black\" stroke-width=\"2\" stroke-linecap=\"round\"/>\n",
       "  <line x1=\"184.63\" y1=\"111.42\" x2=\"214.93\" y2=\"116.03\" fill=\"none\"\n",
       "        stroke=\"black\" stroke-width=\"2\" stroke-linecap=\"round\"/>\n",
       "  <line x1=\"181.83\" y1=\"56.20\" x2=\"173.79\" y2=\"75.85\" fill=\"none\"\n",
       "        stroke=\"black\" stroke-width=\"2\" stroke-linecap=\"round\"/>\n",
       "  <line x1=\"181.83\" y1=\"56.20\" x2=\"211.36\" y2=\"46.54\" fill=\"none\"\n",
       "        stroke=\"black\" stroke-width=\"2\" stroke-linecap=\"round\"/>\n",
       "  <line x1=\"211.36\" y1=\"46.54\" x2=\"236.08\" y2=\"64.69\" fill=\"none\"\n",
       "        stroke=\"black\" stroke-width=\"2\" stroke-linecap=\"round\"/>\n",
       "  <line x1=\"236.08\" y1=\"64.69\" x2=\"237.11\" y2=\"86.52\" fill=\"none\"\n",
       "        stroke=\"black\" stroke-width=\"2\" stroke-linecap=\"round\"/>\n",
       "  <line x1=\"230.87\" y1=\"101.56\" x2=\"214.93\" y2=\"116.03\" fill=\"none\"\n",
       "        stroke=\"black\" stroke-width=\"2\" stroke-linecap=\"round\"/>\n",
       "  <line x1=\"246.13\" y1=\"98.18\" x2=\"266.93\" y2=\"104.64\" fill=\"none\"\n",
       "        stroke=\"black\" stroke-width=\"2\" stroke-linecap=\"round\"/>\n",
       "  <line x1=\"266.93\" y1=\"104.64\" x2=\"276.21\" y2=\"124.00\" fill=\"none\"\n",
       "        stroke=\"black\" stroke-width=\"2\" stroke-linecap=\"round\"/>\n",
       "  <line x1=\"273.17\" y1=\"106.09\" x2=\"280.72\" y2=\"121.84\" fill=\"none\"\n",
       "        stroke=\"black\" stroke-width=\"2\" stroke-linecap=\"round\"/>\n",
       "  <line x1=\"266.93\" y1=\"104.64\" x2=\"282.64\" y2=\"88.48\" fill=\"none\"\n",
       "        stroke=\"black\" stroke-width=\"2\" stroke-linecap=\"round\"/>\n",
       "  <line x1=\"289.00\" y1=\"130.75\" x2=\"310.51\" y2=\"127.45\" fill=\"none\"\n",
       "        stroke=\"black\" stroke-width=\"2\" stroke-linecap=\"round\"/>\n",
       "  <line x1=\"310.51\" y1=\"127.45\" x2=\"333.75\" y2=\"147.31\" fill=\"none\"\n",
       "        stroke=\"black\" stroke-width=\"2\" stroke-linecap=\"round\"/>\n",
       "  <line x1=\"310.51\" y1=\"127.45\" x2=\"315.92\" y2=\"96.79\" fill=\"none\"\n",
       "        stroke=\"black\" stroke-width=\"2\" stroke-linecap=\"round\"/>\n",
       "  <line x1=\"306.28\" y1=\"122.64\" x2=\"310.30\" y2=\"99.86\" fill=\"none\"\n",
       "        stroke=\"black\" stroke-width=\"2\" stroke-linecap=\"round\"/>\n",
       "  <line x1=\"333.75\" y1=\"147.31\" x2=\"362.69\" y2=\"135.43\" fill=\"none\"\n",
       "        stroke=\"black\" stroke-width=\"2\" stroke-linecap=\"round\"/>\n",
       "  <line x1=\"335.55\" y1=\"141.17\" x2=\"357.09\" y2=\"132.32\" fill=\"none\"\n",
       "        stroke=\"black\" stroke-width=\"2\" stroke-linecap=\"round\"/>\n",
       "  <line x1=\"362.69\" y1=\"135.43\" x2=\"367.74\" y2=\"105.33\" fill=\"none\"\n",
       "        stroke=\"black\" stroke-width=\"2\" stroke-linecap=\"round\"/>\n",
       "  <line x1=\"367.74\" y1=\"105.33\" x2=\"344.09\" y2=\"85.04\" fill=\"none\"\n",
       "        stroke=\"black\" stroke-width=\"2\" stroke-linecap=\"round\"/>\n",
       "  <line x1=\"361.45\" y1=\"106.52\" x2=\"343.87\" y2=\"91.44\" fill=\"none\"\n",
       "        stroke=\"black\" stroke-width=\"2\" stroke-linecap=\"round\"/>\n",
       "  <line x1=\"296.81\" y1=\"86.34\" x2=\"315.92\" y2=\"96.79\" fill=\"none\"\n",
       "        stroke=\"black\" stroke-width=\"2\" stroke-linecap=\"round\"/>\n",
       "  <line x1=\"315.92\" y1=\"96.79\" x2=\"344.09\" y2=\"85.04\" fill=\"none\"\n",
       "        stroke=\"black\" stroke-width=\"2\" stroke-linecap=\"round\"/>\n",
       "  <text x=\"280.11\" y=\"134.12\" text-anchor=\"middle\" alignment-baseline=\"middle\">\n",
       "    N\n",
       "  </text>\n",
       "  <text x=\"288.92\" y=\"84.02\" text-anchor=\"middle\" alignment-baseline=\"middle\">\n",
       "    S\n",
       "  </text>\n",
       "  <text x=\"170.38\" y=\"86.18\" text-anchor=\"middle\" alignment-baseline=\"middle\">\n",
       "    N\n",
       "  </text>\n",
       "  <text x=\"85.93\" y=\"178.17\" text-anchor=\"middle\" alignment-baseline=\"middle\">\n",
       "    O\n",
       "  </text>\n",
       "  <text x=\"89.62\" y=\"56.20\" text-anchor=\"middle\" alignment-baseline=\"middle\">\n",
       "    O\n",
       "  </text>\n",
       "  <text x=\"237.54\" y=\"97.51\" text-anchor=\"middle\" alignment-baseline=\"middle\">\n",
       "    N\n",
       "  </text>\n",
       "  <text x=\"130.50\" y=\"53.67\" text-anchor=\"middle\" alignment-baseline=\"middle\">\n",
       "    O\n",
       "  </text>\n",
       "</svg>\n"
      ],
      "text/plain": [
       "#<CL-JUPYTER-USER::SVG-STR>"
      ]
     },
     "execution_count": 17,
     "metadata": {},
     "output_type": "execute_result"
    }
   ],
   "source": [
    "(show (sketch2d:sketch2d (third *ligands*)))"
   ]
  },
  {
   "cell_type": "code",
   "execution_count": 18,
   "metadata": {},
   "outputs": [
    {
     "name": "stdout",
     "output_type": "stream",
     "text": [
      "Missing-h NIL\n"
     ]
    },
    {
     "data": {
      "image/svg+xml": [
       "<?xml version=\"1.0\" standalone=\"no\"?>\n",
       "<svg viewport=\"0 0 430 210\" height=\"210\" width=\"430\" version=\"1.2\" id=\"\"\n",
       "    xmlns=\"http://www.w3.org/2000/svg\"\n",
       "    xmlns:xlink=\"http://www.w3.org/1999/xlink\">\n",
       "  <line x1=\"62.86\" y1=\"39.27\" x2=\"81.58\" y2=\"49.73\" fill=\"none\" stroke=\"black\"\n",
       "        stroke-width=\"2\" stroke-linecap=\"round\"/>\n",
       "  <line x1=\"88.01\" y1=\"84.75\" x2=\"89.02\" y2=\"63.12\" fill=\"none\" stroke=\"black\"\n",
       "        stroke-width=\"2\" stroke-linecap=\"round\"/>\n",
       "  <line x1=\"88.01\" y1=\"84.75\" x2=\"61.04\" y2=\"98.96\" fill=\"none\" stroke=\"black\"\n",
       "        stroke-width=\"2\" stroke-linecap=\"round\"/>\n",
       "  <line x1=\"88.01\" y1=\"84.75\" x2=\"114.89\" y2=\"100.29\" fill=\"none\"\n",
       "        stroke=\"black\" stroke-width=\"2\" stroke-linecap=\"round\"/>\n",
       "  <line x1=\"88.97\" y1=\"91.08\" x2=\"108.93\" y2=\"102.62\" fill=\"none\"\n",
       "        stroke=\"black\" stroke-width=\"2\" stroke-linecap=\"round\"/>\n",
       "  <line x1=\"56.54\" y1=\"187.06\" x2=\"77.22\" y2=\"178.96\" fill=\"none\"\n",
       "        stroke=\"black\" stroke-width=\"2\" stroke-linecap=\"round\"/>\n",
       "  <line x1=\"86.06\" y1=\"166.69\" x2=\"87.18\" y2=\"144.77\" fill=\"none\"\n",
       "        stroke=\"black\" stroke-width=\"2\" stroke-linecap=\"round\"/>\n",
       "  <line x1=\"61.04\" y1=\"98.96\" x2=\"60.59\" y2=\"129.35\" fill=\"none\" stroke=\"black\"\n",
       "        stroke-width=\"2\" stroke-linecap=\"round\"/>\n",
       "  <line x1=\"65.98\" y1=\"103.03\" x2=\"65.64\" y2=\"125.43\" fill=\"none\"\n",
       "        stroke=\"black\" stroke-width=\"2\" stroke-linecap=\"round\"/>\n",
       "  <line x1=\"60.59\" y1=\"129.35\" x2=\"87.18\" y2=\"144.77\" fill=\"none\"\n",
       "        stroke=\"black\" stroke-width=\"2\" stroke-linecap=\"round\"/>\n",
       "  <line x1=\"87.18\" y1=\"144.77\" x2=\"114.94\" y2=\"131.03\" fill=\"none\"\n",
       "        stroke=\"black\" stroke-width=\"2\" stroke-linecap=\"round\"/>\n",
       "  <line x1=\"88.55\" y1=\"138.52\" x2=\"109.13\" y2=\"128.33\" fill=\"none\"\n",
       "        stroke=\"black\" stroke-width=\"2\" stroke-linecap=\"round\"/>\n",
       "  <line x1=\"114.94\" y1=\"131.03\" x2=\"114.89\" y2=\"100.29\" fill=\"none\"\n",
       "        stroke=\"black\" stroke-width=\"2\" stroke-linecap=\"round\"/>\n",
       "  <line x1=\"114.89\" y1=\"100.29\" x2=\"138.92\" y2=\"81.41\" fill=\"none\"\n",
       "        stroke=\"black\" stroke-width=\"2\" stroke-linecap=\"round\"/>\n",
       "  <line x1=\"135.28\" y1=\"59.48\" x2=\"141.33\" y2=\"80.72\" fill=\"none\"\n",
       "        stroke=\"black\" stroke-width=\"2\" stroke-linecap=\"round\"/>\n",
       "  <line x1=\"130.47\" y1=\"60.85\" x2=\"136.52\" y2=\"82.09\" fill=\"none\"\n",
       "        stroke=\"black\" stroke-width=\"2\" stroke-linecap=\"round\"/>\n",
       "  <line x1=\"138.92\" y1=\"81.41\" x2=\"160.96\" y2=\"83.25\" fill=\"none\"\n",
       "        stroke=\"black\" stroke-width=\"2\" stroke-linecap=\"round\"/>\n",
       "  <line x1=\"184.64\" y1=\"111.38\" x2=\"174.19\" y2=\"91.93\" fill=\"none\"\n",
       "        stroke=\"black\" stroke-width=\"2\" stroke-linecap=\"round\"/>\n",
       "  <line x1=\"184.64\" y1=\"111.38\" x2=\"214.49\" y2=\"115.94\" fill=\"none\"\n",
       "        stroke=\"black\" stroke-width=\"2\" stroke-linecap=\"round\"/>\n",
       "  <line x1=\"214.49\" y1=\"115.94\" x2=\"230.69\" y2=\"101.56\" fill=\"none\"\n",
       "        stroke=\"black\" stroke-width=\"2\" stroke-linecap=\"round\"/>\n",
       "  <line x1=\"181.87\" y1=\"55.94\" x2=\"173.45\" y2=\"75.72\" fill=\"none\"\n",
       "        stroke=\"black\" stroke-width=\"2\" stroke-linecap=\"round\"/>\n",
       "  <line x1=\"181.87\" y1=\"55.94\" x2=\"211.26\" y2=\"46.67\" fill=\"none\"\n",
       "        stroke=\"black\" stroke-width=\"2\" stroke-linecap=\"round\"/>\n",
       "  <line x1=\"211.26\" y1=\"46.67\" x2=\"235.66\" y2=\"64.12\" fill=\"none\"\n",
       "        stroke=\"black\" stroke-width=\"2\" stroke-linecap=\"round\"/>\n",
       "  <line x1=\"235.66\" y1=\"64.12\" x2=\"236.91\" y2=\"86.60\" fill=\"none\"\n",
       "        stroke=\"black\" stroke-width=\"2\" stroke-linecap=\"round\"/>\n",
       "  <line x1=\"246.07\" y1=\"98.06\" x2=\"266.59\" y2=\"103.94\" fill=\"none\"\n",
       "        stroke=\"black\" stroke-width=\"2\" stroke-linecap=\"round\"/>\n",
       "  <line x1=\"266.59\" y1=\"103.94\" x2=\"275.98\" y2=\"124.40\" fill=\"none\"\n",
       "        stroke=\"black\" stroke-width=\"2\" stroke-linecap=\"round\"/>\n",
       "  <line x1=\"272.80\" y1=\"105.48\" x2=\"280.53\" y2=\"122.31\" fill=\"none\"\n",
       "        stroke=\"black\" stroke-width=\"2\" stroke-linecap=\"round\"/>\n",
       "  <line x1=\"266.59\" y1=\"103.94\" x2=\"282.15\" y2=\"88.16\" fill=\"none\"\n",
       "        stroke=\"black\" stroke-width=\"2\" stroke-linecap=\"round\"/>\n",
       "  <line x1=\"288.61\" y1=\"131.04\" x2=\"310.83\" y2=\"127.18\" fill=\"none\"\n",
       "        stroke=\"black\" stroke-width=\"2\" stroke-linecap=\"round\"/>\n",
       "  <line x1=\"310.83\" y1=\"127.18\" x2=\"333.79\" y2=\"147.10\" fill=\"none\"\n",
       "        stroke=\"black\" stroke-width=\"2\" stroke-linecap=\"round\"/>\n",
       "  <line x1=\"310.83\" y1=\"127.18\" x2=\"315.85\" y2=\"96.96\" fill=\"none\"\n",
       "        stroke=\"black\" stroke-width=\"2\" stroke-linecap=\"round\"/>\n",
       "  <line x1=\"306.55\" y1=\"122.41\" x2=\"310.26\" y2=\"100.09\" fill=\"none\"\n",
       "        stroke=\"black\" stroke-width=\"2\" stroke-linecap=\"round\"/>\n",
       "  <line x1=\"333.79\" y1=\"147.10\" x2=\"362.33\" y2=\"135.29\" fill=\"none\"\n",
       "        stroke=\"black\" stroke-width=\"2\" stroke-linecap=\"round\"/>\n",
       "  <line x1=\"335.58\" y1=\"140.95\" x2=\"356.72\" y2=\"132.20\" fill=\"none\"\n",
       "        stroke=\"black\" stroke-width=\"2\" stroke-linecap=\"round\"/>\n",
       "  <line x1=\"362.33\" y1=\"135.29\" x2=\"367.57\" y2=\"105.04\" fill=\"none\"\n",
       "        stroke=\"black\" stroke-width=\"2\" stroke-linecap=\"round\"/>\n",
       "  <line x1=\"367.57\" y1=\"105.04\" x2=\"344.08\" y2=\"84.58\" fill=\"none\"\n",
       "        stroke=\"black\" stroke-width=\"2\" stroke-linecap=\"round\"/>\n",
       "  <line x1=\"361.27\" y1=\"106.18\" x2=\"343.82\" y2=\"90.98\" fill=\"none\"\n",
       "        stroke=\"black\" stroke-width=\"2\" stroke-linecap=\"round\"/>\n",
       "  <line x1=\"296.34\" y1=\"86.12\" x2=\"315.85\" y2=\"96.96\" fill=\"none\"\n",
       "        stroke=\"black\" stroke-width=\"2\" stroke-linecap=\"round\"/>\n",
       "  <line x1=\"315.85\" y1=\"96.96\" x2=\"344.08\" y2=\"84.58\" fill=\"none\"\n",
       "        stroke=\"black\" stroke-width=\"2\" stroke-linecap=\"round\"/>\n",
       "  <text x=\"85.60\" y=\"177.68\" text-anchor=\"middle\" alignment-baseline=\"middle\">\n",
       "    O\n",
       "  </text>\n",
       "  <text x=\"169.93\" y=\"86.01\" text-anchor=\"middle\" alignment-baseline=\"middle\">\n",
       "    N\n",
       "  </text>\n",
       "  <text x=\"279.74\" y=\"134.58\" text-anchor=\"middle\" alignment-baseline=\"middle\">\n",
       "    N\n",
       "  </text>\n",
       "  <text x=\"237.42\" y=\"97.58\" text-anchor=\"middle\" alignment-baseline=\"middle\">\n",
       "    N\n",
       "  </text>\n",
       "  <text x=\"288.47\" y=\"83.75\" text-anchor=\"middle\" alignment-baseline=\"middle\">\n",
       "    O\n",
       "  </text>\n",
       "  <text x=\"130.40\" y=\"53.51\" text-anchor=\"middle\" alignment-baseline=\"middle\">\n",
       "    O\n",
       "  </text>\n",
       "  <text x=\"89.44\" y=\"56.12\" text-anchor=\"middle\" alignment-baseline=\"middle\">\n",
       "    O\n",
       "  </text>\n",
       "</svg>\n"
      ],
      "text/plain": [
       "#<CL-JUPYTER-USER::SVG-STR>"
      ]
     },
     "execution_count": 18,
     "metadata": {},
     "output_type": "execute_result"
    }
   ],
   "source": [
    "(show (sketch2d:sketch2d (fourth *ligands*)))"
   ]
  },
  {
   "cell_type": "code",
   "execution_count": 20,
   "metadata": {},
   "outputs": [
    {
     "name": "stdout",
     "output_type": "stream",
     "text": [
      "Missing-h NIL\n"
     ]
    },
    {
     "data": {
      "image/svg+xml": [
       "<?xml version=\"1.0\" standalone=\"no\"?>\n",
       "<svg viewport=\"0 0 399 170\" height=\"170\" width=\"399\" version=\"1.2\" id=\"\"\n",
       "    xmlns=\"http://www.w3.org/2000/svg\"\n",
       "    xmlns:xlink=\"http://www.w3.org/1999/xlink\">\n",
       "  <line x1=\"141.30\" y1=\"14.14\" x2=\"148.48\" y2=\"35.42\" fill=\"none\"\n",
       "        stroke=\"black\" stroke-width=\"2\" stroke-linecap=\"round\"/>\n",
       "  <line x1=\"129.46\" y1=\"65.33\" x2=\"144.92\" y2=\"50.23\" fill=\"none\"\n",
       "        stroke=\"black\" stroke-width=\"2\" stroke-linecap=\"round\"/>\n",
       "  <line x1=\"129.46\" y1=\"65.33\" x2=\"100.21\" y2=\"55.82\" fill=\"none\"\n",
       "        stroke=\"black\" stroke-width=\"2\" stroke-linecap=\"round\"/>\n",
       "  <line x1=\"129.46\" y1=\"65.33\" x2=\"136.19\" y2=\"94.51\" fill=\"none\"\n",
       "        stroke=\"black\" stroke-width=\"2\" stroke-linecap=\"round\"/>\n",
       "  <line x1=\"125.48\" y1=\"70.35\" x2=\"130.42\" y2=\"91.74\" fill=\"none\"\n",
       "        stroke=\"black\" stroke-width=\"2\" stroke-linecap=\"round\"/>\n",
       "  <line x1=\"33.25\" y1=\"117.36\" x2=\"53.58\" y2=\"124.51\" fill=\"none\"\n",
       "        stroke=\"black\" stroke-width=\"2\" stroke-linecap=\"round\"/>\n",
       "  <line x1=\"68.57\" y1=\"121.26\" x2=\"84.12\" y2=\"106.33\" fill=\"none\"\n",
       "        stroke=\"black\" stroke-width=\"2\" stroke-linecap=\"round\"/>\n",
       "  <line x1=\"100.21\" y1=\"55.82\" x2=\"77.40\" y2=\"76.66\" fill=\"none\" stroke=\"black\"\n",
       "        stroke-width=\"2\" stroke-linecap=\"round\"/>\n",
       "  <line x1=\"100.63\" y1=\"62.21\" x2=\"83.72\" y2=\"77.65\" fill=\"none\" stroke=\"black\"\n",
       "        stroke-width=\"2\" stroke-linecap=\"round\"/>\n",
       "  <line x1=\"77.40\" y1=\"76.66\" x2=\"84.12\" y2=\"106.33\" fill=\"none\" stroke=\"black\"\n",
       "        stroke-width=\"2\" stroke-linecap=\"round\"/>\n",
       "  <line x1=\"84.12\" y1=\"106.33\" x2=\"113.60\" y2=\"116.18\" fill=\"none\"\n",
       "        stroke=\"black\" stroke-width=\"2\" stroke-linecap=\"round\"/>\n",
       "  <line x1=\"89.50\" y1=\"102.85\" x2=\"111.39\" y2=\"110.17\" fill=\"none\"\n",
       "        stroke=\"black\" stroke-width=\"2\" stroke-linecap=\"round\"/>\n",
       "  <line x1=\"113.60\" y1=\"116.18\" x2=\"136.19\" y2=\"94.51\" fill=\"none\"\n",
       "        stroke=\"black\" stroke-width=\"2\" stroke-linecap=\"round\"/>\n",
       "  <line x1=\"136.19\" y1=\"94.51\" x2=\"164.48\" y2=\"107.71\" fill=\"none\"\n",
       "        stroke=\"black\" stroke-width=\"2\" stroke-linecap=\"round\"/>\n",
       "  <line x1=\"162.34\" y1=\"129.17\" x2=\"161.98\" y2=\"107.75\" fill=\"none\"\n",
       "        stroke=\"black\" stroke-width=\"2\" stroke-linecap=\"round\"/>\n",
       "  <line x1=\"167.34\" y1=\"129.09\" x2=\"166.98\" y2=\"107.67\" fill=\"none\"\n",
       "        stroke=\"black\" stroke-width=\"2\" stroke-linecap=\"round\"/>\n",
       "  <line x1=\"164.48\" y1=\"107.71\" x2=\"184.24\" y2=\"98.06\" fill=\"none\"\n",
       "        stroke=\"black\" stroke-width=\"2\" stroke-linecap=\"round\"/>\n",
       "  <line x1=\"214.05\" y1=\"115.88\" x2=\"198.68\" y2=\"100.48\" fill=\"none\"\n",
       "        stroke=\"black\" stroke-width=\"2\" stroke-linecap=\"round\"/>\n",
       "  <line x1=\"214.05\" y1=\"115.88\" x2=\"245.36\" y2=\"112.33\" fill=\"none\"\n",
       "        stroke=\"black\" stroke-width=\"2\" stroke-linecap=\"round\"/>\n",
       "  <line x1=\"245.36\" y1=\"112.33\" x2=\"256.26\" y2=\"94.16\" fill=\"none\"\n",
       "        stroke=\"black\" stroke-width=\"2\" stroke-linecap=\"round\"/>\n",
       "  <line x1=\"195.27\" y1=\"63.97\" x2=\"193.20\" y2=\"85.15\" fill=\"none\"\n",
       "        stroke=\"black\" stroke-width=\"2\" stroke-linecap=\"round\"/>\n",
       "  <line x1=\"195.27\" y1=\"63.97\" x2=\"221.66\" y2=\"47.64\" fill=\"none\"\n",
       "        stroke=\"black\" stroke-width=\"2\" stroke-linecap=\"round\"/>\n",
       "  <line x1=\"221.66\" y1=\"47.64\" x2=\"250.73\" y2=\"57.61\" fill=\"none\"\n",
       "        stroke=\"black\" stroke-width=\"2\" stroke-linecap=\"round\"/>\n",
       "  <line x1=\"250.73\" y1=\"57.61\" x2=\"257.90\" y2=\"77.95\" fill=\"none\"\n",
       "        stroke=\"black\" stroke-width=\"2\" stroke-linecap=\"round\"/>\n",
       "  <line x1=\"269.80\" y1=\"87.68\" x2=\"291.30\" y2=\"90.69\" fill=\"none\"\n",
       "        stroke=\"black\" stroke-width=\"2\" stroke-linecap=\"round\"/>\n",
       "  <line x1=\"291.30\" y1=\"90.69\" x2=\"300.21\" y2=\"111.39\" fill=\"none\"\n",
       "        stroke=\"black\" stroke-width=\"2\" stroke-linecap=\"round\"/>\n",
       "  <line x1=\"297.47\" y1=\"92.39\" x2=\"304.80\" y2=\"109.42\" fill=\"none\"\n",
       "        stroke=\"black\" stroke-width=\"2\" stroke-linecap=\"round\"/>\n",
       "  <line x1=\"291.30\" y1=\"90.69\" x2=\"307.04\" y2=\"75.92\" fill=\"none\"\n",
       "        stroke=\"black\" stroke-width=\"2\" stroke-linecap=\"round\"/>\n",
       "  <line x1=\"312.69\" y1=\"118.54\" x2=\"334.73\" y2=\"115.76\" fill=\"none\"\n",
       "        stroke=\"black\" stroke-width=\"2\" stroke-linecap=\"round\"/>\n",
       "  <line x1=\"334.73\" y1=\"115.76\" x2=\"341.00\" y2=\"85.34\" fill=\"none\"\n",
       "        stroke=\"black\" stroke-width=\"2\" stroke-linecap=\"round\"/>\n",
       "  <line x1=\"330.64\" y1=\"110.83\" x2=\"335.30\" y2=\"88.25\" fill=\"none\"\n",
       "        stroke=\"black\" stroke-width=\"2\" stroke-linecap=\"round\"/>\n",
       "  <line x1=\"321.42\" y1=\"74.21\" x2=\"341.00\" y2=\"85.34\" fill=\"none\"\n",
       "        stroke=\"black\" stroke-width=\"2\" stroke-linecap=\"round\"/>\n",
       "  <text x=\"164.98\" y=\"140.13\" text-anchor=\"middle\" alignment-baseline=\"middle\">\n",
       "    O\n",
       "  </text>\n",
       "  <text x=\"303.76\" y=\"121.66\" text-anchor=\"middle\" alignment-baseline=\"middle\">\n",
       "    N\n",
       "  </text>\n",
       "  <text x=\"192.33\" y=\"96.10\" text-anchor=\"middle\" alignment-baseline=\"middle\">\n",
       "    N\n",
       "  </text>\n",
       "  <text x=\"313.60\" y=\"71.76\" text-anchor=\"middle\" alignment-baseline=\"middle\">\n",
       "    S\n",
       "  </text>\n",
       "  <text x=\"62.07\" y=\"129.50\" text-anchor=\"middle\" alignment-baseline=\"middle\">\n",
       "    O\n",
       "  </text>\n",
       "  <text x=\"260.89\" y=\"88.44\" text-anchor=\"middle\" alignment-baseline=\"middle\">\n",
       "    N\n",
       "  </text>\n",
       "  <text x=\"151.36\" y=\"45.94\" text-anchor=\"middle\" alignment-baseline=\"middle\">\n",
       "    O\n",
       "  </text>\n",
       "</svg>\n"
      ],
      "text/plain": [
       "#<CL-JUPYTER-USER::SVG-STR>"
      ]
     },
     "execution_count": 20,
     "metadata": {},
     "output_type": "execute_result"
    }
   ],
   "source": [
    "(show (sketch2d:sketch2d (fifth *ligands*)))"
   ]
  },
  {
   "cell_type": "code",
   "execution_count": 21,
   "metadata": {},
   "outputs": [
    {
     "name": "stdout",
     "output_type": "stream",
     "text": [
      "Missing-h NIL\n"
     ]
    },
    {
     "data": {
      "image/svg+xml": [
       "<?xml version=\"1.0\" standalone=\"no\"?>\n",
       "<svg viewport=\"0 0 437 228\" height=\"228\" width=\"437\" version=\"1.2\" id=\"\"\n",
       "    xmlns=\"http://www.w3.org/2000/svg\"\n",
       "    xmlns:xlink=\"http://www.w3.org/1999/xlink\">\n",
       "  <line x1=\"351.86\" y1=\"99.51\" x2=\"321.43\" y2=\"101.79\" fill=\"none\"\n",
       "        stroke=\"black\" stroke-width=\"2\" stroke-linecap=\"round\"/>\n",
       "  <line x1=\"351.86\" y1=\"99.51\" x2=\"370.10\" y2=\"124.26\" fill=\"none\"\n",
       "        stroke=\"black\" stroke-width=\"2\" stroke-linecap=\"round\"/>\n",
       "  <line x1=\"350.20\" y1=\"105.70\" x2=\"363.70\" y2=\"124.01\" fill=\"none\"\n",
       "        stroke=\"black\" stroke-width=\"2\" stroke-linecap=\"round\"/>\n",
       "  <line x1=\"321.43\" y1=\"101.79\" x2=\"308.32\" y2=\"129.37\" fill=\"none\"\n",
       "        stroke=\"black\" stroke-width=\"2\" stroke-linecap=\"round\"/>\n",
       "  <line x1=\"324.23\" y1=\"107.55\" x2=\"314.55\" y2=\"127.90\" fill=\"none\"\n",
       "        stroke=\"black\" stroke-width=\"2\" stroke-linecap=\"round\"/>\n",
       "  <line x1=\"308.32\" y1=\"129.37\" x2=\"326.76\" y2=\"154.26\" fill=\"none\"\n",
       "        stroke=\"black\" stroke-width=\"2\" stroke-linecap=\"round\"/>\n",
       "  <line x1=\"326.76\" y1=\"154.26\" x2=\"357.83\" y2=\"152.49\" fill=\"none\"\n",
       "        stroke=\"black\" stroke-width=\"2\" stroke-linecap=\"round\"/>\n",
       "  <line x1=\"330.47\" y1=\"149.04\" x2=\"353.56\" y2=\"147.73\" fill=\"none\"\n",
       "        stroke=\"black\" stroke-width=\"2\" stroke-linecap=\"round\"/>\n",
       "  <line x1=\"357.83\" y1=\"152.49\" x2=\"370.10\" y2=\"124.26\" fill=\"none\"\n",
       "        stroke=\"black\" stroke-width=\"2\" stroke-linecap=\"round\"/>\n",
       "  <line x1=\"391.70\" y1=\"121.79\" x2=\"370.10\" y2=\"124.26\" fill=\"none\"\n",
       "        stroke=\"black\" stroke-width=\"2\" stroke-linecap=\"round\"/>\n",
       "  <line x1=\"51.00\" y1=\"63.22\" x2=\"72.56\" y2=\"69.11\" fill=\"none\" stroke=\"black\"\n",
       "        stroke-width=\"2\" stroke-linecap=\"round\"/>\n",
       "  <line x1=\"82.79\" y1=\"80.34\" x2=\"86.44\" y2=\"101.32\" fill=\"none\" stroke=\"black\"\n",
       "        stroke-width=\"2\" stroke-linecap=\"round\"/>\n",
       "  <line x1=\"86.44\" y1=\"101.32\" x2=\"63.15\" y2=\"121.26\" fill=\"none\"\n",
       "        stroke=\"black\" stroke-width=\"2\" stroke-linecap=\"round\"/>\n",
       "  <line x1=\"79.78\" y1=\"208.69\" x2=\"97.24\" y2=\"196.29\" fill=\"none\"\n",
       "        stroke=\"black\" stroke-width=\"2\" stroke-linecap=\"round\"/>\n",
       "  <line x1=\"103.03\" y1=\"182.22\" x2=\"99.31\" y2=\"160.85\" fill=\"none\"\n",
       "        stroke=\"black\" stroke-width=\"2\" stroke-linecap=\"round\"/>\n",
       "  <line x1=\"63.15\" y1=\"121.26\" x2=\"69.96\" y2=\"151.98\" fill=\"none\"\n",
       "        stroke=\"black\" stroke-width=\"2\" stroke-linecap=\"round\"/>\n",
       "  <line x1=\"68.89\" y1=\"124.09\" x2=\"73.97\" y2=\"146.99\" fill=\"none\"\n",
       "        stroke=\"black\" stroke-width=\"2\" stroke-linecap=\"round\"/>\n",
       "  <line x1=\"69.96\" y1=\"151.98\" x2=\"99.31\" y2=\"160.85\" fill=\"none\"\n",
       "        stroke=\"black\" stroke-width=\"2\" stroke-linecap=\"round\"/>\n",
       "  <line x1=\"99.31\" y1=\"160.85\" x2=\"123.19\" y2=\"140.92\" fill=\"none\"\n",
       "        stroke=\"black\" stroke-width=\"2\" stroke-linecap=\"round\"/>\n",
       "  <line x1=\"99.17\" y1=\"154.45\" x2=\"116.92\" y2=\"139.64\" fill=\"none\"\n",
       "        stroke=\"black\" stroke-width=\"2\" stroke-linecap=\"round\"/>\n",
       "  <line x1=\"116.40\" y1=\"111.12\" x2=\"123.19\" y2=\"140.92\" fill=\"none\"\n",
       "        stroke=\"black\" stroke-width=\"2\" stroke-linecap=\"round\"/>\n",
       "  <line x1=\"116.40\" y1=\"111.12\" x2=\"86.44\" y2=\"101.32\" fill=\"none\"\n",
       "        stroke=\"black\" stroke-width=\"2\" stroke-linecap=\"round\"/>\n",
       "  <line x1=\"111.04\" y1=\"114.63\" x2=\"88.69\" y2=\"107.32\" fill=\"none\"\n",
       "        stroke=\"black\" stroke-width=\"2\" stroke-linecap=\"round\"/>\n",
       "  <line x1=\"116.40\" y1=\"111.12\" x2=\"136.81\" y2=\"88.05\" fill=\"none\"\n",
       "        stroke=\"black\" stroke-width=\"2\" stroke-linecap=\"round\"/>\n",
       "  <line x1=\"129.84\" y1=\"66.54\" x2=\"139.09\" y2=\"87.03\" fill=\"none\"\n",
       "        stroke=\"black\" stroke-width=\"2\" stroke-linecap=\"round\"/>\n",
       "  <line x1=\"125.28\" y1=\"68.59\" x2=\"134.53\" y2=\"89.08\" fill=\"none\"\n",
       "        stroke=\"black\" stroke-width=\"2\" stroke-linecap=\"round\"/>\n",
       "  <line x1=\"136.81\" y1=\"88.05\" x2=\"158.54\" y2=\"88.17\" fill=\"none\"\n",
       "        stroke=\"black\" stroke-width=\"2\" stroke-linecap=\"round\"/>\n",
       "  <line x1=\"172.25\" y1=\"95.89\" x2=\"183.38\" y2=\"113.99\" fill=\"none\"\n",
       "        stroke=\"black\" stroke-width=\"2\" stroke-linecap=\"round\"/>\n",
       "  <line x1=\"170.43\" y1=\"79.70\" x2=\"177.50\" y2=\"58.84\" fill=\"none\"\n",
       "        stroke=\"black\" stroke-width=\"2\" stroke-linecap=\"round\"/>\n",
       "  <line x1=\"183.38\" y1=\"113.99\" x2=\"213.76\" y2=\"117.71\" fill=\"none\"\n",
       "        stroke=\"black\" stroke-width=\"2\" stroke-linecap=\"round\"/>\n",
       "  <line x1=\"206.88\" y1=\"48.22\" x2=\"177.50\" y2=\"58.84\" fill=\"none\"\n",
       "        stroke=\"black\" stroke-width=\"2\" stroke-linecap=\"round\"/>\n",
       "  <line x1=\"206.88\" y1=\"48.22\" x2=\"232.22\" y2=\"65.05\" fill=\"none\"\n",
       "        stroke=\"black\" stroke-width=\"2\" stroke-linecap=\"round\"/>\n",
       "  <line x1=\"232.22\" y1=\"65.05\" x2=\"234.76\" y2=\"86.55\" fill=\"none\"\n",
       "        stroke=\"black\" stroke-width=\"2\" stroke-linecap=\"round\"/>\n",
       "  <line x1=\"229.48\" y1=\"101.88\" x2=\"213.76\" y2=\"117.71\" fill=\"none\"\n",
       "        stroke=\"black\" stroke-width=\"2\" stroke-linecap=\"round\"/>\n",
       "  <line x1=\"244.54\" y1=\"97.68\" x2=\"265.31\" y2=\"102.90\" fill=\"none\"\n",
       "        stroke=\"black\" stroke-width=\"2\" stroke-linecap=\"round\"/>\n",
       "  <line x1=\"263.42\" y1=\"101.27\" x2=\"277.43\" y2=\"84.95\" fill=\"none\"\n",
       "        stroke=\"black\" stroke-width=\"2\" stroke-linecap=\"round\"/>\n",
       "  <line x1=\"267.21\" y1=\"104.53\" x2=\"281.22\" y2=\"88.20\" fill=\"none\"\n",
       "        stroke=\"black\" stroke-width=\"2\" stroke-linecap=\"round\"/>\n",
       "  <line x1=\"265.31\" y1=\"102.90\" x2=\"274.22\" y2=\"123.01\" fill=\"none\"\n",
       "        stroke=\"black\" stroke-width=\"2\" stroke-linecap=\"round\"/>\n",
       "  <line x1=\"286.85\" y1=\"130.69\" x2=\"308.32\" y2=\"129.37\" fill=\"none\"\n",
       "        stroke=\"black\" stroke-width=\"2\" stroke-linecap=\"round\"/>\n",
       "  <text x=\"167.54\" y=\"90.22\" text-anchor=\"middle\" alignment-baseline=\"middle\">\n",
       "    N\n",
       "  </text>\n",
       "  <text x=\"104.58\" y=\"193.08\" text-anchor=\"middle\" alignment-baseline=\"middle\">\n",
       "    O\n",
       "  </text>\n",
       "  <text x=\"81.24\" y=\"73.48\" text-anchor=\"middle\" alignment-baseline=\"middle\">\n",
       "    O\n",
       "  </text>\n",
       "  <text x=\"123.85\" y=\"61.36\" text-anchor=\"middle\" alignment-baseline=\"middle\">\n",
       "    O\n",
       "  </text>\n",
       "  <text x=\"285.19\" y=\"81.75\" text-anchor=\"middle\" alignment-baseline=\"middle\">\n",
       "    S\n",
       "  </text>\n",
       "  <text x=\"400.65\" y=\"122.76\" text-anchor=\"middle\" alignment-baseline=\"middle\">\n",
       "    Cl\n",
       "  </text>\n",
       "  <text x=\"235.81\" y=\"97.49\" text-anchor=\"middle\" alignment-baseline=\"middle\">\n",
       "    N\n",
       "  </text>\n",
       "  <text x=\"277.86\" y=\"133.24\" text-anchor=\"middle\" alignment-baseline=\"middle\">\n",
       "    N\n",
       "  </text>\n",
       "  <text x=\"277.86\" y=\"133.24\" dx=\"-11\" dy=\"0\" text-anchor=\"middle\"\n",
       "       alignment-baseline=\"middle\">\n",
       "    H\n",
       "  </text>\n",
       "</svg>\n"
      ],
      "text/plain": [
       "#<CL-JUPYTER-USER::SVG-STR>"
      ]
     },
     "execution_count": 21,
     "metadata": {},
     "output_type": "execute_result"
    }
   ],
   "source": [
    "(show (sketch2d:sketch2d (sixth *ligands*)))"
   ]
  },
  {
   "cell_type": "code",
   "execution_count": 19,
   "metadata": {},
   "outputs": [
    {
     "data": {
      "text/plain": [
       "18"
      ]
     },
     "execution_count": 19,
     "metadata": {},
     "output_type": "execute_result"
    }
   ],
   "source": [
    "(length *ligands*)"
   ]
  },
  {
   "cell_type": "code",
   "execution_count": 28,
   "metadata": {},
   "outputs": [
    {
     "name": "stdout",
     "output_type": "stream",
     "text": [
      "Removing atoms (#<ATOM :N6/:N @0x13b65e2d9> #<ATOM :H28/:H @0x13b65e3c9>\n",
      " #<ATOM :C28/:C @0x13b65e4b9> #<ATOM :H27/:H @0x13b65e5a9>\n",
      " #<ATOM :C27/:C @0x13b65e699> #<ATOM :N5/:N @0x13b65e789>\n",
      " #<ATOM :N4/:N @0x13b65e879> #<ATOM :C20/:C @0x13b65e969>\n",
      " #<ATOM :H24/:H @0x13b65ea59> #<ATOM :H293/:H @0x13b65eb49>\n",
      " #<ATOM :H292/:H @0x13b65ec39> #<ATOM :H291/:H @0x13b65ed29>\n",
      " #<ATOM :C29/:C @0x13b65ee19> #<ATOM :H22/:H @0x13b65ef09>\n",
      " #<ATOM :H21/:H @0x13b65c009> #<ATOM :C21/:C @0x13b65c0f9>\n",
      " #<ATOM :C22/:C @0x13b65c1e9> #<ATOM :H303/:H @0x13b65a1e9>\n",
      " #<ATOM :H302/:H @0x13b65a2d9> #<ATOM :H301/:H @0x13b65a3c9>\n",
      " #<ATOM :C30/:C @0x13b65a4b9> #<ATOM :CL1/:Cl @0x13b65af09>\n",
      " #<ATOM :H6/:H @0x13b6580f9> #<ATOM :O1/:O @0x13b6582d9>)\n",
      "Removing #<ATOM :O1/:O @0x13593cc39> from #<RESIDUE :SUV @0x12e227208>\n",
      "Removing #<ATOM :H6/:H @0x13593ca59> from #<RESIDUE :SUV @0x12e227208>\n",
      "Removing #<ATOM :CL1/:Cl @0x13593c879> from #<RESIDUE :SUV @0x12e227208>\n",
      "Removing #<ATOM :C30/:C @0x13206ee19> from #<RESIDUE :SUV @0x12e227208>\n",
      "Removing #<ATOM :H301/:H @0x13206ed29> from #<RESIDUE :SUV @0x12e227208>\n",
      "Removing #<ATOM :H302/:H @0x13206ec39> from #<RESIDUE :SUV @0x12e227208>\n",
      "Removing #<ATOM :H303/:H @0x13206eb49> from #<RESIDUE :SUV @0x12e227208>\n",
      "Removing #<ATOM :C22/:C @0x1320d3b49> from #<RESIDUE :SUV @0x12e227208>\n",
      "Removing #<ATOM :C21/:C @0x1320d3a59> from #<RESIDUE :SUV @0x12e227208>\n",
      "Removing #<ATOM :H21/:H @0x1320d3969> from #<RESIDUE :SUV @0x12e227208>\n",
      "Removing #<ATOM :H22/:H @0x1320d3879> from #<RESIDUE :SUV @0x12e227208>\n",
      "Removing #<ATOM :C29/:C @0x1320d3789> from #<RESIDUE :SUV @0x12e227208>\n",
      "Removing #<ATOM :H291/:H @0x1320d3699> from #<RESIDUE :SUV @0x12e227208>\n",
      "Removing #<ATOM :H292/:H @0x1320d35a9> from #<RESIDUE :SUV @0x12e227208>\n",
      "Removing #<ATOM :H293/:H @0x1320d34b9> from #<RESIDUE :SUV @0x12e227208>\n",
      "Removing #<ATOM :H24/:H @0x1320d33c9> from #<RESIDUE :SUV @0x12e227208>\n",
      "Removing #<ATOM :C20/:C @0x1320d32d9> from #<RESIDUE :SUV @0x12e227208>\n",
      "Removing #<ATOM :N4/:N @0x1320d31e9> from #<RESIDUE :SUV @0x12e227208>\n",
      "Removing #<ATOM :N5/:N @0x1320d30f9> from #<RESIDUE :SUV @0x12e227208>\n",
      "Removing #<ATOM :C27/:C @0x1320d3009> from #<RESIDUE :SUV @0x12e227208>\n",
      "Removing #<ATOM :H27/:H @0x131c0af09> from #<RESIDUE :SUV @0x12e227208>\n",
      "Removing #<ATOM :C28/:C @0x131c0ae19> from #<RESIDUE :SUV @0x12e227208>\n",
      "Removing #<ATOM :H28/:H @0x131c0ad29> from #<RESIDUE :SUV @0x12e227208>\n",
      "Removing #<ATOM :N6/:N @0x131c0ac39> from #<RESIDUE :SUV @0x12e227208>\n",
      "Removing atoms (#<ATOM :N6/:N @0x13b65e2d9> #<ATOM :H28/:H @0x13b65e3c9>\n",
      " #<ATOM :C28/:C @0x13b65e4b9> #<ATOM :H27/:H @0x13b65e5a9>\n",
      " #<ATOM :C27/:C @0x13b65e699> #<ATOM :N5/:N @0x13b65e789>\n",
      " #<ATOM :N4/:N @0x13b65e879> #<ATOM :C20/:C @0x13b65e969>\n",
      " #<ATOM :H24/:H @0x13b65ea59> #<ATOM :H293/:H @0x13b65eb49>\n",
      " #<ATOM :H292/:H @0x13b65ec39> #<ATOM :H291/:H @0x13b65ed29>\n",
      " #<ATOM :C29/:C @0x13b65ee19> #<ATOM :H22/:H @0x13b65ef09>\n",
      " #<ATOM :H21/:H @0x13b65c009> #<ATOM :C21/:C @0x13b65c0f9>\n",
      " #<ATOM :C22/:C @0x13b65c1e9> #<ATOM :C23/:C @0x13b65c2d9>\n",
      " #<ATOM :H303/:H @0x13b65a1e9> #<ATOM :H302/:H @0x13b65a2d9>\n",
      " #<ATOM :H301/:H @0x13b65a3c9> #<ATOM :C30/:C @0x13b65a4b9>\n",
      " #<ATOM :CL1/:Cl @0x13b65af09> #<ATOM :O1/:O @0x13b6582d9>)\n",
      "Removing #<ATOM :O1/:O @0x131c0a879> from #<RESIDUE :SUV @0x12e227188>\n",
      "Removing #<ATOM :CL1/:Cl @0x131c0a4b9> from #<RESIDUE :SUV @0x12e227188>\n",
      "Removing #<ATOM :C30/:C @0x131d3ca59> from #<RESIDUE :SUV @0x12e227188>\n",
      "Removing #<ATOM :H301/:H @0x131d3c969> from #<RESIDUE :SUV @0x12e227188>\n",
      "Removing #<ATOM :H302/:H @0x131d3c879> from #<RESIDUE :SUV @0x12e227188>\n",
      "Removing #<ATOM :H303/:H @0x131d3c789> from #<RESIDUE :SUV @0x12e227188>\n",
      "Removing #<ATOM :C23/:C @0x131d7d879> from #<RESIDUE :SUV @0x12e227188>\n",
      "Removing #<ATOM :C22/:C @0x131d7d789> from #<RESIDUE :SUV @0x12e227188>\n",
      "Removing #<ATOM :C21/:C @0x131d7d699> from #<RESIDUE :SUV @0x12e227188>\n",
      "Removing #<ATOM :H21/:H @0x131d7d5a9> from #<RESIDUE :SUV @0x12e227188>\n",
      "Removing #<ATOM :H22/:H @0x131d7d4b9> from #<RESIDUE :SUV @0x12e227188>\n",
      "Removing #<ATOM :C29/:C @0x131d7d3c9> from #<RESIDUE :SUV @0x12e227188>\n",
      "Removing #<ATOM :H291/:H @0x131d7d2d9> from #<RESIDUE :SUV @0x12e227188>\n",
      "Removing #<ATOM :H292/:H @0x131d7d1e9> from #<RESIDUE :SUV @0x12e227188>\n",
      "Removing #<ATOM :H293/:H @0x131d7d0f9> from #<RESIDUE :SUV @0x12e227188>\n",
      "Removing #<ATOM :H24/:H @0x131d7d009> from #<RESIDUE :SUV @0x12e227188>\n",
      "Removing #<ATOM :C20/:C @0x131d8cf09> from #<RESIDUE :SUV @0x12e227188>\n",
      "Removing #<ATOM :N4/:N @0x131d8ce19> from #<RESIDUE :SUV @0x12e227188>\n",
      "Removing #<ATOM :N5/:N @0x131d8cd29> from #<RESIDUE :SUV @0x12e227188>\n",
      "Removing #<ATOM :C27/:C @0x131d8cc39> from #<RESIDUE :SUV @0x12e227188>\n",
      "Removing #<ATOM :H27/:H @0x131d8cb49> from #<RESIDUE :SUV @0x12e227188>\n",
      "Removing #<ATOM :C28/:C @0x131d8ca59> from #<RESIDUE :SUV @0x12e227188>\n",
      "Removing #<ATOM :H28/:H @0x131d8c969> from #<RESIDUE :SUV @0x12e227188>\n",
      "Removing #<ATOM :N6/:N @0x131d8c879> from #<RESIDUE :SUV @0x12e227188>\n",
      "Removing atoms (#<ATOM :N6/:N @0x13b65e2d9> #<ATOM :H28/:H @0x13b65e3c9>\n",
      " #<ATOM :C28/:C @0x13b65e4b9> #<ATOM :H27/:H @0x13b65e5a9>\n",
      " #<ATOM :C27/:C @0x13b65e699> #<ATOM :N5/:N @0x13b65e789>\n",
      " #<ATOM :N4/:N @0x13b65e879> #<ATOM :C20/:C @0x13b65e969>\n",
      " #<ATOM :H24/:H @0x13b65ea59> #<ATOM :H293/:H @0x13b65eb49>\n",
      " #<ATOM :H292/:H @0x13b65ec39> #<ATOM :H291/:H @0x13b65ed29>\n",
      " #<ATOM :C29/:C @0x13b65ee19> #<ATOM :H22/:H @0x13b65ef09>\n",
      " #<ATOM :H21/:H @0x13b65c009> #<ATOM :C21/:C @0x13b65c0f9>\n",
      " #<ATOM :C22/:C @0x13b65c1e9> #<ATOM :C23/:C @0x13b65c2d9>\n",
      " #<ATOM :C24/:C @0x13b65c3c9> #<ATOM :H303/:H @0x13b65a1e9>\n",
      " #<ATOM :H302/:H @0x13b65a2d9> #<ATOM :H301/:H @0x13b65a3c9>\n",
      " #<ATOM :C30/:C @0x13b65a4b9> #<ATOM :CL1/:Cl @0x13b65af09>)\n",
      "Removing #<ATOM :CL1/:Cl @0x131d8c0f9> from #<RESIDUE :SUV @0x12e227108>\n",
      "Removing #<ATOM :C30/:C @0x131dcb699> from #<RESIDUE :SUV @0x12e227108>\n",
      "Removing #<ATOM :H301/:H @0x131dcb5a9> from #<RESIDUE :SUV @0x12e227108>\n",
      "Removing #<ATOM :H302/:H @0x131dcb4b9> from #<RESIDUE :SUV @0x12e227108>\n",
      "Removing #<ATOM :H303/:H @0x131dcb3c9> from #<RESIDUE :SUV @0x12e227108>\n",
      "Removing #<ATOM :C24/:C @0x131dde5a9> from #<RESIDUE :SUV @0x12e227108>\n",
      "Removing #<ATOM :C23/:C @0x131dde4b9> from #<RESIDUE :SUV @0x12e227108>\n",
      "Removing #<ATOM :C22/:C @0x131dde3c9> from #<RESIDUE :SUV @0x12e227108>\n",
      "Removing #<ATOM :C21/:C @0x131dde2d9> from #<RESIDUE :SUV @0x12e227108>\n",
      "Removing #<ATOM :H21/:H @0x131dde1e9> from #<RESIDUE :SUV @0x12e227108>\n",
      "Removing #<ATOM :H22/:H @0x131dde0f9> from #<RESIDUE :SUV @0x12e227108>\n",
      "Removing #<ATOM :C29/:C @0x131dde009> from #<RESIDUE :SUV @0x12e227108>\n",
      "Removing #<ATOM :H291/:H @0x131de1f09> from #<RESIDUE :SUV @0x12e227108>\n",
      "Removing #<ATOM :H292/:H @0x131de1e19> from #<RESIDUE :SUV @0x12e227108>\n",
      "Removing #<ATOM :H293/:H @0x131de1d29> from #<RESIDUE :SUV @0x12e227108>\n",
      "Removing #<ATOM :H24/:H @0x131de1c39> from #<RESIDUE :SUV @0x12e227108>\n",
      "Removing #<ATOM :C20/:C @0x131de1b49> from #<RESIDUE :SUV @0x12e227108>\n",
      "Removing #<ATOM :N4/:N @0x131de1a59> from #<RESIDUE :SUV @0x12e227108>\n",
      "Removing #<ATOM :N5/:N @0x131de1969> from #<RESIDUE :SUV @0x12e227108>\n",
      "Removing #<ATOM :C27/:C @0x131de1879> from #<RESIDUE :SUV @0x12e227108>\n",
      "Removing #<ATOM :H27/:H @0x131de1789> from #<RESIDUE :SUV @0x12e227108>\n",
      "Removing #<ATOM :C28/:C @0x131de1699> from #<RESIDUE :SUV @0x12e227108>\n",
      "Removing #<ATOM :H28/:H @0x131de15a9> from #<RESIDUE :SUV @0x12e227108>\n",
      "Removing #<ATOM :N6/:N @0x131de14b9> from #<RESIDUE :SUV @0x12e227108>\n",
      "Removing atoms (#<ATOM :N6/:N @0x13b65e2d9> #<ATOM :H28/:H @0x13b65e3c9>\n",
      " #<ATOM :C28/:C @0x13b65e4b9> #<ATOM :H27/:H @0x13b65e5a9>\n",
      " #<ATOM :C27/:C @0x13b65e699> #<ATOM :N5/:N @0x13b65e789>\n",
      " #<ATOM :N4/:N @0x13b65e879> #<ATOM :C20/:C @0x13b65e969>\n",
      " #<ATOM :H24/:H @0x13b65ea59> #<ATOM :H293/:H @0x13b65eb49>\n",
      " #<ATOM :H292/:H @0x13b65ec39> #<ATOM :H291/:H @0x13b65ed29>\n",
      " #<ATOM :C29/:C @0x13b65ee19> #<ATOM :H22/:H @0x13b65ef09>\n",
      " #<ATOM :H21/:H @0x13b65c009> #<ATOM :C21/:C @0x13b65c0f9>\n",
      " #<ATOM :C22/:C @0x13b65c1e9> #<ATOM :C23/:C @0x13b65c2d9>\n",
      " #<ATOM :C24/:C @0x13b65c3c9> #<ATOM :C19/:C @0x13b65c4b9>\n",
      " #<ATOM :O2/:O @0x13b65c5a9> #<ATOM :C17/:C @0x13b65c699>\n",
      " #<ATOM :N3/:N @0x13b65c789> #<ATOM :H122/:H @0x13b65c879>\n",
      " #<ATOM :H121/:H @0x13b65c969> #<ATOM :C12/:C @0x13b65ca59>\n",
      " #<ATOM :H112/:H @0x13b65cb49> #<ATOM :H111/:H @0x13b65cc39>\n",
      " #<ATOM :C11/:C @0x13b65cd29> #<ATOM :H162/:H @0x13b65ce19>\n",
      " #<ATOM :H161/:H @0x13b65cf09> #<ATOM :H152/:H @0x13b65a009>\n",
      " #<ATOM :H151/:H @0x13b65a0f9> #<ATOM :H303/:H @0x13b65a1e9>\n",
      " #<ATOM :H302/:H @0x13b65a2d9> #<ATOM :H301/:H @0x13b65a3c9>\n",
      " #<ATOM :C30/:C @0x13b65a4b9> #<ATOM :H14/:H @0x13b65a5a9>\n",
      " #<ATOM :C14/:C @0x13b65a699> #<ATOM :C15/:C @0x13b65a789>\n",
      " #<ATOM :C16/:C @0x13b65a879> #<ATOM :N1/:N @0x13b65a969>\n",
      " #<ATOM :C1/:C @0x13b65aa59> #<ATOM :N2/:N @0x13b65ab49>\n",
      " #<ATOM :CL1/:Cl @0x13b65af09> #<ATOM :H6/:H @0x13b6580f9>\n",
      " #<ATOM :O1/:O @0x13b6582d9> #<ATOM :H7/:H @0x13b6584b9>)\n",
      "Removing #<ATOM :H7/:H @0x131de12d9> from #<RESIDUE :SUV @0x126450f88>\n",
      "Removing #<ATOM :O1/:O @0x131de10f9> from #<RESIDUE :SUV @0x126450f88>\n",
      "Removing #<ATOM :H6/:H @0x131e04f09> from #<RESIDUE :SUV @0x126450f88>\n",
      "Removing #<ATOM :CL1/:Cl @0x131e04d29> from #<RESIDUE :SUV @0x126450f88>\n",
      "Removing #<ATOM :N2/:N @0x131e04969> from #<RESIDUE :SUV @0x126450f88>\n",
      "Removing #<ATOM :C1/:C @0x131e04879> from #<RESIDUE :SUV @0x126450f88>\n",
      "Removing #<ATOM :N1/:N @0x131e04789> from #<RESIDUE :SUV @0x126450f88>\n",
      "Removing #<ATOM :C16/:C @0x131e04699> from #<RESIDUE :SUV @0x126450f88>\n",
      "Removing #<ATOM :C15/:C @0x131e045a9> from #<RESIDUE :SUV @0x126450f88>\n",
      "Removing #<ATOM :C14/:C @0x131e044b9> from #<RESIDUE :SUV @0x126450f88>\n",
      "Removing #<ATOM :H14/:H @0x131e043c9> from #<RESIDUE :SUV @0x126450f88>\n",
      "Removing #<ATOM :C30/:C @0x131e042d9> from #<RESIDUE :SUV @0x126450f88>\n",
      "Removing #<ATOM :H301/:H @0x131e041e9> from #<RESIDUE :SUV @0x126450f88>\n",
      "Removing #<ATOM :H302/:H @0x131e040f9> from #<RESIDUE :SUV @0x126450f88>\n",
      "Removing #<ATOM :H303/:H @0x131e04009> from #<RESIDUE :SUV @0x126450f88>\n",
      "Removing #<ATOM :H151/:H @0x131e09f09> from #<RESIDUE :SUV @0x126450f88>\n",
      "Removing #<ATOM :H152/:H @0x131e09e19> from #<RESIDUE :SUV @0x126450f88>\n",
      "Removing #<ATOM :H161/:H @0x131e09d29> from #<RESIDUE :SUV @0x126450f88>\n",
      "Removing #<ATOM :H162/:H @0x131e09c39> from #<RESIDUE :SUV @0x126450f88>\n",
      "Removing #<ATOM :C11/:C @0x131e09b49> from #<RESIDUE :SUV @0x126450f88>\n",
      "Removing #<ATOM :H111/:H @0x131e09a59> from #<RESIDUE :SUV @0x126450f88>\n",
      "Removing #<ATOM :H112/:H @0x131e09969> from #<RESIDUE :SUV @0x126450f88>\n",
      "Removing #<ATOM :C12/:C @0x131e09879> from #<RESIDUE :SUV @0x126450f88>\n",
      "Removing #<ATOM :H121/:H @0x131e09789> from #<RESIDUE :SUV @0x126450f88>\n",
      "Removing #<ATOM :H122/:H @0x131e09699> from #<RESIDUE :SUV @0x126450f88>\n",
      "Removing #<ATOM :N3/:N @0x131e095a9> from #<RESIDUE :SUV @0x126450f88>\n",
      "Removing #<ATOM :C17/:C @0x131e094b9> from #<RESIDUE :SUV @0x126450f88>\n",
      "Removing #<ATOM :O2/:O @0x131e093c9> from #<RESIDUE :SUV @0x126450f88>\n",
      "Removing #<ATOM :C19/:C @0x131e092d9> from #<RESIDUE :SUV @0x126450f88>\n",
      "Removing #<ATOM :C24/:C @0x131e091e9> from #<RESIDUE :SUV @0x126450f88>\n",
      "Removing #<ATOM :C23/:C @0x131e090f9> from #<RESIDUE :SUV @0x126450f88>\n",
      "Removing #<ATOM :C22/:C @0x131e09009> from #<RESIDUE :SUV @0x126450f88>\n",
      "Removing #<ATOM :C21/:C @0x131e13f09> from #<RESIDUE :SUV @0x126450f88>\n",
      "Removing #<ATOM :H21/:H @0x131e13e19> from #<RESIDUE :SUV @0x126450f88>\n",
      "Removing #<ATOM :H22/:H @0x131e13d29> from #<RESIDUE :SUV @0x126450f88>\n",
      "Removing #<ATOM :C29/:C @0x131e13c39> from #<RESIDUE :SUV @0x126450f88>\n",
      "Removing #<ATOM :H291/:H @0x131e13b49> from #<RESIDUE :SUV @0x126450f88>\n",
      "Removing #<ATOM :H292/:H @0x131e13a59> from #<RESIDUE :SUV @0x126450f88>\n",
      "Removing #<ATOM :H293/:H @0x131e13969> from #<RESIDUE :SUV @0x126450f88>\n",
      "Removing #<ATOM :H24/:H @0x131e13879> from #<RESIDUE :SUV @0x126450f88>\n",
      "Removing #<ATOM :C20/:C @0x131e13789> from #<RESIDUE :SUV @0x126450f88>\n",
      "Removing #<ATOM :N4/:N @0x131e13699> from #<RESIDUE :SUV @0x126450f88>\n",
      "Removing #<ATOM :N5/:N @0x131e135a9> from #<RESIDUE :SUV @0x126450f88>\n",
      "Removing #<ATOM :C27/:C @0x131e134b9> from #<RESIDUE :SUV @0x126450f88>\n",
      "Removing #<ATOM :H27/:H @0x131e133c9> from #<RESIDUE :SUV @0x126450f88>\n",
      "Removing #<ATOM :C28/:C @0x131e132d9> from #<RESIDUE :SUV @0x126450f88>\n",
      "Removing #<ATOM :H28/:H @0x131e131e9> from #<RESIDUE :SUV @0x126450f88>\n",
      "Removing #<ATOM :N6/:N @0x131e130f9> from #<RESIDUE :SUV @0x126450f88>\n",
      "Removing atoms (#<ATOM :N6/:N @0x13b65e2d9> #<ATOM :H28/:H @0x13b65e3c9>\n",
      " #<ATOM :C28/:C @0x13b65e4b9> #<ATOM :H27/:H @0x13b65e5a9>\n",
      " #<ATOM :C27/:C @0x13b65e699> #<ATOM :N5/:N @0x13b65e789>\n",
      " #<ATOM :N4/:N @0x13b65e879> #<ATOM :C20/:C @0x13b65e969>\n",
      " #<ATOM :H24/:H @0x13b65ea59> #<ATOM :H293/:H @0x13b65eb49>\n",
      " #<ATOM :H292/:H @0x13b65ec39> #<ATOM :H291/:H @0x13b65ed29>\n",
      " #<ATOM :C29/:C @0x13b65ee19> #<ATOM :H22/:H @0x13b65ef09>\n",
      " #<ATOM :H21/:H @0x13b65c009> #<ATOM :C21/:C @0x13b65c0f9>\n",
      " #<ATOM :C22/:C @0x13b65c1e9> #<ATOM :C23/:C @0x13b65c2d9>\n",
      " #<ATOM :C24/:C @0x13b65c3c9> #<ATOM :C19/:C @0x13b65c4b9>\n",
      " #<ATOM :O2/:O @0x13b65c5a9> #<ATOM :C17/:C @0x13b65c699>\n",
      " #<ATOM :N3/:N @0x13b65c789> #<ATOM :H122/:H @0x13b65c879>\n",
      " #<ATOM :H121/:H @0x13b65c969> #<ATOM :C12/:C @0x13b65ca59>\n",
      " #<ATOM :H112/:H @0x13b65cb49> #<ATOM :H111/:H @0x13b65cc39>\n",
      " #<ATOM :C11/:C @0x13b65cd29> #<ATOM :H162/:H @0x13b65ce19>\n",
      " #<ATOM :H161/:H @0x13b65cf09> #<ATOM :H152/:H @0x13b65a009>\n",
      " #<ATOM :H151/:H @0x13b65a0f9> #<ATOM :H303/:H @0x13b65a1e9>\n",
      " #<ATOM :H302/:H @0x13b65a2d9> #<ATOM :H301/:H @0x13b65a3c9>\n",
      " #<ATOM :C30/:C @0x13b65a4b9> #<ATOM :H14/:H @0x13b65a5a9>\n",
      " #<ATOM :C14/:C @0x13b65a699> #<ATOM :C15/:C @0x13b65a789>\n",
      " #<ATOM :C16/:C @0x13b65a879> #<ATOM :N1/:N @0x13b65a969>\n",
      " #<ATOM :C1/:C @0x13b65aa59> #<ATOM :N2/:N @0x13b65ab49>\n",
      " #<ATOM :CL1/:Cl @0x13b65af09> #<ATOM :H6/:H @0x13b6580f9>\n",
      " #<ATOM :O1/:O @0x13b6582d9> #<ATOM :H7/:H @0x13b6584b9>)\n",
      "Removing #<ATOM :H7/:H @0x131e26f09> from #<RESIDUE :SUV @0x126450f08>\n",
      "Removing #<ATOM :O1/:O @0x131e26d29> from #<RESIDUE :SUV @0x126450f08>\n",
      "Removing #<ATOM :H6/:H @0x131e26b49> from #<RESIDUE :SUV @0x126450f08>\n",
      "Removing #<ATOM :CL1/:Cl @0x131e26969> from #<RESIDUE :SUV @0x126450f08>\n",
      "Removing #<ATOM :N2/:N @0x131e265a9> from #<RESIDUE :SUV @0x126450f08>\n",
      "Removing #<ATOM :C1/:C @0x131e264b9> from #<RESIDUE :SUV @0x126450f08>\n",
      "Removing #<ATOM :N1/:N @0x131e263c9> from #<RESIDUE :SUV @0x126450f08>\n",
      "Removing #<ATOM :C16/:C @0x131e262d9> from #<RESIDUE :SUV @0x126450f08>\n",
      "Removing #<ATOM :C15/:C @0x131e261e9> from #<RESIDUE :SUV @0x126450f08>\n",
      "Removing #<ATOM :C14/:C @0x131e260f9> from #<RESIDUE :SUV @0x126450f08>\n",
      "Removing #<ATOM :H14/:H @0x131e26009> from #<RESIDUE :SUV @0x126450f08>\n",
      "Removing #<ATOM :C30/:C @0x131e2bf09> from #<RESIDUE :SUV @0x126450f08>\n",
      "Removing #<ATOM :H301/:H @0x131e2be19> from #<RESIDUE :SUV @0x126450f08>\n",
      "Removing #<ATOM :H302/:H @0x131e2bd29> from #<RESIDUE :SUV @0x126450f08>\n",
      "Removing #<ATOM :H303/:H @0x131e2bc39> from #<RESIDUE :SUV @0x126450f08>\n",
      "Removing #<ATOM :H151/:H @0x131e2bb49> from #<RESIDUE :SUV @0x126450f08>\n",
      "Removing #<ATOM :H152/:H @0x131e2ba59> from #<RESIDUE :SUV @0x126450f08>\n",
      "Removing #<ATOM :H161/:H @0x131e2b969> from #<RESIDUE :SUV @0x126450f08>\n",
      "Removing #<ATOM :H162/:H @0x131e2b879> from #<RESIDUE :SUV @0x126450f08>\n",
      "Removing #<ATOM :C11/:C @0x131e2b789> from #<RESIDUE :SUV @0x126450f08>\n",
      "Removing #<ATOM :H111/:H @0x131e2b699> from #<RESIDUE :SUV @0x126450f08>\n",
      "Removing #<ATOM :H112/:H @0x131e2b5a9> from #<RESIDUE :SUV @0x126450f08>\n",
      "Removing #<ATOM :C12/:C @0x131e2b4b9> from #<RESIDUE :SUV @0x126450f08>\n",
      "Removing #<ATOM :H121/:H @0x131e2b3c9> from #<RESIDUE :SUV @0x126450f08>\n",
      "Removing #<ATOM :H122/:H @0x131e2b2d9> from #<RESIDUE :SUV @0x126450f08>\n",
      "Removing #<ATOM :N3/:N @0x131e2b1e9> from #<RESIDUE :SUV @0x126450f08>\n",
      "Removing #<ATOM :C17/:C @0x131e2b0f9> from #<RESIDUE :SUV @0x126450f08>\n",
      "Removing #<ATOM :O2/:O @0x131e2b009> from #<RESIDUE :SUV @0x126450f08>\n",
      "Removing #<ATOM :C19/:C @0x131e2ef09> from #<RESIDUE :SUV @0x126450f08>\n",
      "Removing #<ATOM :C24/:C @0x131e2ee19> from #<RESIDUE :SUV @0x126450f08>\n",
      "Removing #<ATOM :C23/:C @0x131e2ed29> from #<RESIDUE :SUV @0x126450f08>\n",
      "Removing #<ATOM :C22/:C @0x131e2ec39> from #<RESIDUE :SUV @0x126450f08>\n",
      "Removing #<ATOM :C21/:C @0x131e2eb49> from #<RESIDUE :SUV @0x126450f08>\n",
      "Removing #<ATOM :H21/:H @0x131e2ea59> from #<RESIDUE :SUV @0x126450f08>\n",
      "Removing #<ATOM :H22/:H @0x131e2e969> from #<RESIDUE :SUV @0x126450f08>\n",
      "Removing #<ATOM :C29/:C @0x131e2e879> from #<RESIDUE :SUV @0x126450f08>\n",
      "Removing #<ATOM :H291/:H @0x131e2e789> from #<RESIDUE :SUV @0x126450f08>\n",
      "Removing #<ATOM :H292/:H @0x131e2e699> from #<RESIDUE :SUV @0x126450f08>\n",
      "Removing #<ATOM :H293/:H @0x131e2e5a9> from #<RESIDUE :SUV @0x126450f08>\n",
      "Removing #<ATOM :H24/:H @0x131e2e4b9> from #<RESIDUE :SUV @0x126450f08>\n",
      "Removing #<ATOM :C20/:C @0x131e2e3c9> from #<RESIDUE :SUV @0x126450f08>\n",
      "Removing #<ATOM :N4/:N @0x131e2e2d9> from #<RESIDUE :SUV @0x126450f08>\n",
      "Removing #<ATOM :N5/:N @0x131e2e1e9> from #<RESIDUE :SUV @0x126450f08>\n",
      "Removing #<ATOM :C27/:C @0x131e2e0f9> from #<RESIDUE :SUV @0x126450f08>\n",
      "Removing #<ATOM :H27/:H @0x131e2e009> from #<RESIDUE :SUV @0x126450f08>\n",
      "Removing #<ATOM :C28/:C @0x131e31f09> from #<RESIDUE :SUV @0x126450f08>\n",
      "Removing #<ATOM :H28/:H @0x131e31e19> from #<RESIDUE :SUV @0x126450f08>\n",
      "Removing #<ATOM :N6/:N @0x131e31d29> from #<RESIDUE :SUV @0x126450f08>\n",
      "Removing atoms (#<ATOM :N6/:N @0x13b65e2d9> #<ATOM :H28/:H @0x13b65e3c9>\n",
      " #<ATOM :C28/:C @0x13b65e4b9> #<ATOM :H27/:H @0x13b65e5a9>\n",
      " #<ATOM :C27/:C @0x13b65e699> #<ATOM :N5/:N @0x13b65e789>\n",
      " #<ATOM :N4/:N @0x13b65e879> #<ATOM :C20/:C @0x13b65e969>\n",
      " #<ATOM :H24/:H @0x13b65ea59> #<ATOM :H293/:H @0x13b65eb49>\n",
      " #<ATOM :H292/:H @0x13b65ec39> #<ATOM :H291/:H @0x13b65ed29>\n",
      " #<ATOM :C29/:C @0x13b65ee19> #<ATOM :H22/:H @0x13b65ef09>\n",
      " #<ATOM :H21/:H @0x13b65c009> #<ATOM :C21/:C @0x13b65c0f9>\n",
      " #<ATOM :C22/:C @0x13b65c1e9> #<ATOM :C23/:C @0x13b65c2d9>\n",
      " #<ATOM :C24/:C @0x13b65c3c9> #<ATOM :C19/:C @0x13b65c4b9>\n",
      " #<ATOM :O2/:O @0x13b65c5a9> #<ATOM :C17/:C @0x13b65c699>\n",
      " #<ATOM :N3/:N @0x13b65c789> #<ATOM :H122/:H @0x13b65c879>\n",
      " #<ATOM :H121/:H @0x13b65c969> #<ATOM :C12/:C @0x13b65ca59>\n",
      " #<ATOM :H112/:H @0x13b65cb49> #<ATOM :H111/:H @0x13b65cc39>\n",
      " #<ATOM :C11/:C @0x13b65cd29> #<ATOM :H162/:H @0x13b65ce19>\n",
      " #<ATOM :H161/:H @0x13b65cf09> #<ATOM :H152/:H @0x13b65a009>\n",
      " #<ATOM :H151/:H @0x13b65a0f9> #<ATOM :H303/:H @0x13b65a1e9>\n",
      " #<ATOM :H302/:H @0x13b65a2d9> #<ATOM :H301/:H @0x13b65a3c9>\n",
      " #<ATOM :C30/:C @0x13b65a4b9> #<ATOM :H14/:H @0x13b65a5a9>\n",
      " #<ATOM :C14/:C @0x13b65a699> #<ATOM :C15/:C @0x13b65a789>\n",
      " #<ATOM :C16/:C @0x13b65a879> #<ATOM :N1/:N @0x13b65a969>\n",
      " #<ATOM :C1/:C @0x13b65aa59> #<ATOM :N2/:N @0x13b65ab49>\n",
      " #<ATOM :CL1/:Cl @0x13b65af09> #<ATOM :H6/:H @0x13b6580f9>\n",
      " #<ATOM :O1/:O @0x13b6582d9> #<ATOM :H7/:H @0x13b6584b9>)\n",
      "Removing #<ATOM :H7/:H @0x131e31b49> from #<RESIDUE :SUV @0x126450e88>\n",
      "Removing #<ATOM :O1/:O @0x131e31969> from #<RESIDUE :SUV @0x126450e88>\n",
      "Removing #<ATOM :H6/:H @0x131e31789> from #<RESIDUE :SUV @0x126450e88>\n",
      "Removing #<ATOM :CL1/:Cl @0x131e315a9> from #<RESIDUE :SUV @0x126450e88>\n",
      "Removing #<ATOM :N2/:N @0x131e311e9> from #<RESIDUE :SUV @0x126450e88>\n",
      "Removing #<ATOM :C1/:C @0x131e310f9> from #<RESIDUE :SUV @0x126450e88>\n",
      "Removing #<ATOM :N1/:N @0x131e31009> from #<RESIDUE :SUV @0x126450e88>\n",
      "Removing #<ATOM :C16/:C @0x131e6bf09> from #<RESIDUE :SUV @0x126450e88>\n",
      "Removing #<ATOM :C15/:C @0x131e6be19> from #<RESIDUE :SUV @0x126450e88>\n",
      "Removing #<ATOM :C14/:C @0x131e6bd29> from #<RESIDUE :SUV @0x126450e88>\n",
      "Removing #<ATOM :H14/:H @0x131e6bc39> from #<RESIDUE :SUV @0x126450e88>\n",
      "Removing #<ATOM :C30/:C @0x131e6bb49> from #<RESIDUE :SUV @0x126450e88>\n",
      "Removing #<ATOM :H301/:H @0x131e6ba59> from #<RESIDUE :SUV @0x126450e88>\n",
      "Removing #<ATOM :H302/:H @0x131e6b969> from #<RESIDUE :SUV @0x126450e88>\n",
      "Removing #<ATOM :H303/:H @0x131e6b879> from #<RESIDUE :SUV @0x126450e88>\n",
      "Removing #<ATOM :H151/:H @0x131e6b789> from #<RESIDUE :SUV @0x126450e88>\n",
      "Removing #<ATOM :H152/:H @0x131e6b699> from #<RESIDUE :SUV @0x126450e88>\n",
      "Removing #<ATOM :H161/:H @0x131e6b5a9> from #<RESIDUE :SUV @0x126450e88>\n",
      "Removing #<ATOM :H162/:H @0x131e6b4b9> from #<RESIDUE :SUV @0x126450e88>\n",
      "Removing #<ATOM :C11/:C @0x131e6b3c9> from #<RESIDUE :SUV @0x126450e88>\n",
      "Removing #<ATOM :H111/:H @0x131e6b2d9> from #<RESIDUE :SUV @0x126450e88>\n",
      "Removing #<ATOM :H112/:H @0x131e6b1e9> from #<RESIDUE :SUV @0x126450e88>\n",
      "Removing #<ATOM :C12/:C @0x131e6b0f9> from #<RESIDUE :SUV @0x126450e88>\n",
      "Removing #<ATOM :H121/:H @0x131e6b009> from #<RESIDUE :SUV @0x126450e88>\n",
      "Removing #<ATOM :H122/:H @0x131e6ef09> from #<RESIDUE :SUV @0x126450e88>\n",
      "Removing #<ATOM :N3/:N @0x131e6ee19> from #<RESIDUE :SUV @0x126450e88>\n",
      "Removing #<ATOM :C17/:C @0x131e6ed29> from #<RESIDUE :SUV @0x126450e88>\n",
      "Removing #<ATOM :O2/:O @0x131e6ec39> from #<RESIDUE :SUV @0x126450e88>\n",
      "Removing #<ATOM :C19/:C @0x131e6eb49> from #<RESIDUE :SUV @0x126450e88>\n",
      "Removing #<ATOM :C24/:C @0x131e6ea59> from #<RESIDUE :SUV @0x126450e88>\n",
      "Removing #<ATOM :C23/:C @0x131e6e969> from #<RESIDUE :SUV @0x126450e88>\n",
      "Removing #<ATOM :C22/:C @0x131e6e879> from #<RESIDUE :SUV @0x126450e88>\n",
      "Removing #<ATOM :C21/:C @0x131e6e789> from #<RESIDUE :SUV @0x126450e88>\n",
      "Removing #<ATOM :H21/:H @0x131e6e699> from #<RESIDUE :SUV @0x126450e88>\n",
      "Removing #<ATOM :H22/:H @0x131e6e5a9> from #<RESIDUE :SUV @0x126450e88>\n",
      "Removing #<ATOM :C29/:C @0x131e6e4b9> from #<RESIDUE :SUV @0x126450e88>\n",
      "Removing #<ATOM :H291/:H @0x131e6e3c9> from #<RESIDUE :SUV @0x126450e88>\n",
      "Removing #<ATOM :H292/:H @0x131e6e2d9> from #<RESIDUE :SUV @0x126450e88>\n",
      "Removing #<ATOM :H293/:H @0x131e6e1e9> from #<RESIDUE :SUV @0x126450e88>\n",
      "Removing #<ATOM :H24/:H @0x131e6e0f9> from #<RESIDUE :SUV @0x126450e88>\n",
      "Removing #<ATOM :C20/:C @0x131e6e009> from #<RESIDUE :SUV @0x126450e88>\n",
      "Removing #<ATOM :N4/:N @0x131e74f09> from #<RESIDUE :SUV @0x126450e88>\n",
      "Removing #<ATOM :N5/:N @0x131e74e19> from #<RESIDUE :SUV @0x126450e88>\n",
      "Removing #<ATOM :C27/:C @0x131e74d29> from #<RESIDUE :SUV @0x126450e88>\n",
      "Removing #<ATOM :H27/:H @0x131e74c39> from #<RESIDUE :SUV @0x126450e88>\n",
      "Removing #<ATOM :C28/:C @0x131e74b49> from #<RESIDUE :SUV @0x126450e88>\n",
      "Removing #<ATOM :H28/:H @0x131e74a59> from #<RESIDUE :SUV @0x126450e88>\n",
      "Removing #<ATOM :N6/:N @0x131e74969> from #<RESIDUE :SUV @0x126450e88>\n",
      "Removing atoms (#<ATOM :N6/:N @0x13b65e2d9> #<ATOM :H28/:H @0x13b65e3c9>\n",
      " #<ATOM :C28/:C @0x13b65e4b9> #<ATOM :H27/:H @0x13b65e5a9>\n",
      " #<ATOM :C27/:C @0x13b65e699> #<ATOM :N5/:N @0x13b65e789>\n",
      " #<ATOM :N4/:N @0x13b65e879> #<ATOM :C20/:C @0x13b65e969>\n",
      " #<ATOM :H24/:H @0x13b65ea59> #<ATOM :H293/:H @0x13b65eb49>\n",
      " #<ATOM :H292/:H @0x13b65ec39> #<ATOM :H291/:H @0x13b65ed29>\n",
      " #<ATOM :C29/:C @0x13b65ee19> #<ATOM :H22/:H @0x13b65ef09>\n",
      " #<ATOM :H21/:H @0x13b65c009> #<ATOM :C21/:C @0x13b65c0f9>\n",
      " #<ATOM :C22/:C @0x13b65c1e9> #<ATOM :C23/:C @0x13b65c2d9>\n",
      " #<ATOM :C24/:C @0x13b65c3c9> #<ATOM :C19/:C @0x13b65c4b9>\n",
      " #<ATOM :O2/:O @0x13b65c5a9> #<ATOM :C17/:C @0x13b65c699>\n",
      " #<ATOM :N3/:N @0x13b65c789> #<ATOM :H122/:H @0x13b65c879>\n",
      " #<ATOM :H121/:H @0x13b65c969> #<ATOM :C12/:C @0x13b65ca59>\n",
      " #<ATOM :H112/:H @0x13b65cb49> #<ATOM :H111/:H @0x13b65cc39>\n",
      " #<ATOM :C11/:C @0x13b65cd29> #<ATOM :H162/:H @0x13b65ce19>\n",
      " #<ATOM :H161/:H @0x13b65cf09> #<ATOM :H152/:H @0x13b65a009>\n",
      " #<ATOM :H151/:H @0x13b65a0f9> #<ATOM :H303/:H @0x13b65a1e9>\n",
      " #<ATOM :H302/:H @0x13b65a2d9> #<ATOM :H301/:H @0x13b65a3c9>\n",
      " #<ATOM :C30/:C @0x13b65a4b9> #<ATOM :H14/:H @0x13b65a5a9>\n",
      " #<ATOM :C14/:C @0x13b65a699> #<ATOM :C15/:C @0x13b65a789>\n",
      " #<ATOM :C16/:C @0x13b65a879> #<ATOM :N1/:N @0x13b65a969>\n",
      " #<ATOM :C1/:C @0x13b65aa59> #<ATOM :N2/:N @0x13b65ab49>\n",
      " #<ATOM :CL1/:Cl @0x13b65af09> #<ATOM :H6/:H @0x13b6580f9>\n",
      " #<ATOM :O1/:O @0x13b6582d9> #<ATOM :H7/:H @0x13b6584b9>)\n",
      "Removing #<ATOM :H7/:H @0x131e74789> from #<RESIDUE :SUV @0x126450e08>\n",
      "Removing #<ATOM :O1/:O @0x131e745a9> from #<RESIDUE :SUV @0x126450e08>\n",
      "Removing #<ATOM :H6/:H @0x131e743c9> from #<RESIDUE :SUV @0x126450e08>\n",
      "Removing #<ATOM :CL1/:Cl @0x131e741e9> from #<RESIDUE :SUV @0x126450e08>\n",
      "Removing #<ATOM :N2/:N @0x131e8fe19> from #<RESIDUE :SUV @0x126450e08>\n",
      "Removing #<ATOM :C1/:C @0x131e8fd29> from #<RESIDUE :SUV @0x126450e08>\n",
      "Removing #<ATOM :N1/:N @0x131e8fc39> from #<RESIDUE :SUV @0x126450e08>\n",
      "Removing #<ATOM :C16/:C @0x131e8fb49> from #<RESIDUE :SUV @0x126450e08>\n",
      "Removing #<ATOM :C15/:C @0x131e8fa59> from #<RESIDUE :SUV @0x126450e08>\n",
      "Removing #<ATOM :C14/:C @0x131e8f969> from #<RESIDUE :SUV @0x126450e08>\n",
      "Removing #<ATOM :H14/:H @0x131e8f879> from #<RESIDUE :SUV @0x126450e08>\n",
      "Removing #<ATOM :C30/:C @0x131e8f789> from #<RESIDUE :SUV @0x126450e08>\n",
      "Removing #<ATOM :H301/:H @0x131e8f699> from #<RESIDUE :SUV @0x126450e08>\n",
      "Removing #<ATOM :H302/:H @0x131e8f5a9> from #<RESIDUE :SUV @0x126450e08>\n",
      "Removing #<ATOM :H303/:H @0x131e8f4b9> from #<RESIDUE :SUV @0x126450e08>\n",
      "Removing #<ATOM :H151/:H @0x131e8f3c9> from #<RESIDUE :SUV @0x126450e08>\n",
      "Removing #<ATOM :H152/:H @0x131e8f2d9> from #<RESIDUE :SUV @0x126450e08>\n",
      "Removing #<ATOM :H161/:H @0x131e8f1e9> from #<RESIDUE :SUV @0x126450e08>\n",
      "Removing #<ATOM :H162/:H @0x131e8f0f9> from #<RESIDUE :SUV @0x126450e08>\n",
      "Removing #<ATOM :C11/:C @0x131e8f009> from #<RESIDUE :SUV @0x126450e08>\n",
      "Removing #<ATOM :H111/:H @0x131e91f09> from #<RESIDUE :SUV @0x126450e08>\n",
      "Removing #<ATOM :H112/:H @0x131e91e19> from #<RESIDUE :SUV @0x126450e08>\n",
      "Removing #<ATOM :C12/:C @0x131e91d29> from #<RESIDUE :SUV @0x126450e08>\n",
      "Removing #<ATOM :H121/:H @0x131e91c39> from #<RESIDUE :SUV @0x126450e08>\n",
      "Removing #<ATOM :H122/:H @0x131e91b49> from #<RESIDUE :SUV @0x126450e08>\n",
      "Removing #<ATOM :N3/:N @0x131e91a59> from #<RESIDUE :SUV @0x126450e08>\n",
      "Removing #<ATOM :C17/:C @0x131e91969> from #<RESIDUE :SUV @0x126450e08>\n",
      "Removing #<ATOM :O2/:O @0x131e91879> from #<RESIDUE :SUV @0x126450e08>\n",
      "Removing #<ATOM :C19/:C @0x131e91789> from #<RESIDUE :SUV @0x126450e08>\n",
      "Removing #<ATOM :C24/:C @0x131e91699> from #<RESIDUE :SUV @0x126450e08>\n",
      "Removing #<ATOM :C23/:C @0x131e915a9> from #<RESIDUE :SUV @0x126450e08>\n",
      "Removing #<ATOM :C22/:C @0x131e914b9> from #<RESIDUE :SUV @0x126450e08>\n",
      "Removing #<ATOM :C21/:C @0x131e913c9> from #<RESIDUE :SUV @0x126450e08>\n",
      "Removing #<ATOM :H21/:H @0x131e912d9> from #<RESIDUE :SUV @0x126450e08>\n",
      "Removing #<ATOM :H22/:H @0x131e911e9> from #<RESIDUE :SUV @0x126450e08>\n",
      "Removing #<ATOM :C29/:C @0x131e910f9> from #<RESIDUE :SUV @0x126450e08>\n",
      "Removing #<ATOM :H291/:H @0x131e91009> from #<RESIDUE :SUV @0x126450e08>\n",
      "Removing #<ATOM :H292/:H @0x131ea2f09> from #<RESIDUE :SUV @0x126450e08>\n",
      "Removing #<ATOM :H293/:H @0x131ea2e19> from #<RESIDUE :SUV @0x126450e08>\n",
      "Removing #<ATOM :H24/:H @0x131ea2d29> from #<RESIDUE :SUV @0x126450e08>\n",
      "Removing #<ATOM :C20/:C @0x131ea2c39> from #<RESIDUE :SUV @0x126450e08>\n",
      "Removing #<ATOM :N4/:N @0x131ea2b49> from #<RESIDUE :SUV @0x126450e08>\n",
      "Removing #<ATOM :N5/:N @0x131ea2a59> from #<RESIDUE :SUV @0x126450e08>\n",
      "Removing #<ATOM :C27/:C @0x131ea2969> from #<RESIDUE :SUV @0x126450e08>\n",
      "Removing #<ATOM :H27/:H @0x131ea2879> from #<RESIDUE :SUV @0x126450e08>\n",
      "Removing #<ATOM :C28/:C @0x131ea2789> from #<RESIDUE :SUV @0x126450e08>\n",
      "Removing #<ATOM :H28/:H @0x131ea2699> from #<RESIDUE :SUV @0x126450e08>\n",
      "Removing #<ATOM :N6/:N @0x131ea25a9> from #<RESIDUE :SUV @0x126450e08>\n",
      "Removing atoms (#<ATOM :N6/:N @0x13b65e2d9> #<ATOM :H28/:H @0x13b65e3c9>\n",
      " #<ATOM :C28/:C @0x13b65e4b9> #<ATOM :H27/:H @0x13b65e5a9>\n",
      " #<ATOM :C27/:C @0x13b65e699> #<ATOM :N5/:N @0x13b65e789>\n",
      " #<ATOM :N4/:N @0x13b65e879> #<ATOM :C20/:C @0x13b65e969>\n",
      " #<ATOM :H24/:H @0x13b65ea59> #<ATOM :H293/:H @0x13b65eb49>\n",
      " #<ATOM :H292/:H @0x13b65ec39> #<ATOM :H291/:H @0x13b65ed29>\n",
      " #<ATOM :C29/:C @0x13b65ee19> #<ATOM :H22/:H @0x13b65ef09>\n",
      " #<ATOM :H21/:H @0x13b65c009> #<ATOM :C21/:C @0x13b65c0f9>\n",
      " #<ATOM :C22/:C @0x13b65c1e9> #<ATOM :C23/:C @0x13b65c2d9>\n",
      " #<ATOM :C24/:C @0x13b65c3c9> #<ATOM :C19/:C @0x13b65c4b9>\n",
      " #<ATOM :O2/:O @0x13b65c5a9> #<ATOM :C17/:C @0x13b65c699>\n",
      " #<ATOM :N3/:N @0x13b65c789> #<ATOM :H122/:H @0x13b65c879>\n",
      " #<ATOM :H121/:H @0x13b65c969> #<ATOM :C12/:C @0x13b65ca59>\n",
      " #<ATOM :H112/:H @0x13b65cb49> #<ATOM :H111/:H @0x13b65cc39>\n",
      " #<ATOM :C11/:C @0x13b65cd29> #<ATOM :H162/:H @0x13b65ce19>\n",
      " #<ATOM :H161/:H @0x13b65cf09> #<ATOM :H152/:H @0x13b65a009>\n",
      " #<ATOM :H151/:H @0x13b65a0f9> #<ATOM :H303/:H @0x13b65a1e9>\n",
      " #<ATOM :H302/:H @0x13b65a2d9> #<ATOM :H301/:H @0x13b65a3c9>\n",
      " #<ATOM :C30/:C @0x13b65a4b9> #<ATOM :H14/:H @0x13b65a5a9>\n",
      " #<ATOM :C14/:C @0x13b65a699> #<ATOM :C15/:C @0x13b65a789>\n",
      " #<ATOM :C16/:C @0x13b65a879> #<ATOM :N1/:N @0x13b65a969>\n",
      " #<ATOM :C1/:C @0x13b65aa59> #<ATOM :N2/:N @0x13b65ab49>\n",
      " #<ATOM :CL1/:Cl @0x13b65af09> #<ATOM :H6/:H @0x13b6580f9>\n",
      " #<ATOM :O1/:O @0x13b6582d9> #<ATOM :H7/:H @0x13b6584b9>)\n",
      "Removing #<ATOM :H7/:H @0x131ea23c9> from #<RESIDUE :SUV @0x126450d88>\n",
      "Removing #<ATOM :O1/:O @0x131ea21e9> from #<RESIDUE :SUV @0x126450d88>\n",
      "Removing #<ATOM :H6/:H @0x131ea2009> from #<RESIDUE :SUV @0x126450d88>\n",
      "Removing #<ATOM :CL1/:Cl @0x131ed9e19> from #<RESIDUE :SUV @0x126450d88>\n",
      "Removing #<ATOM :N2/:N @0x131ed9a59> from #<RESIDUE :SUV @0x126450d88>\n",
      "Removing #<ATOM :C1/:C @0x131ed9969> from #<RESIDUE :SUV @0x126450d88>\n",
      "Removing #<ATOM :N1/:N @0x131ed9879> from #<RESIDUE :SUV @0x126450d88>\n",
      "Removing #<ATOM :C16/:C @0x131ed9789> from #<RESIDUE :SUV @0x126450d88>\n",
      "Removing #<ATOM :C15/:C @0x131ed9699> from #<RESIDUE :SUV @0x126450d88>\n",
      "Removing #<ATOM :C14/:C @0x131ed95a9> from #<RESIDUE :SUV @0x126450d88>\n",
      "Removing #<ATOM :H14/:H @0x131ed94b9> from #<RESIDUE :SUV @0x126450d88>\n",
      "Removing #<ATOM :C30/:C @0x131ed93c9> from #<RESIDUE :SUV @0x126450d88>\n",
      "Removing #<ATOM :H301/:H @0x131ed92d9> from #<RESIDUE :SUV @0x126450d88>\n",
      "Removing #<ATOM :H302/:H @0x131ed91e9> from #<RESIDUE :SUV @0x126450d88>\n",
      "Removing #<ATOM :H303/:H @0x131ed90f9> from #<RESIDUE :SUV @0x126450d88>\n",
      "Removing #<ATOM :H151/:H @0x131ed9009> from #<RESIDUE :SUV @0x126450d88>\n",
      "Removing #<ATOM :H152/:H @0x131eddf09> from #<RESIDUE :SUV @0x126450d88>\n",
      "Removing #<ATOM :H161/:H @0x131edde19> from #<RESIDUE :SUV @0x126450d88>\n",
      "Removing #<ATOM :H162/:H @0x131eddd29> from #<RESIDUE :SUV @0x126450d88>\n",
      "Removing #<ATOM :C11/:C @0x131eddc39> from #<RESIDUE :SUV @0x126450d88>\n",
      "Removing #<ATOM :H111/:H @0x131eddb49> from #<RESIDUE :SUV @0x126450d88>\n",
      "Removing #<ATOM :H112/:H @0x131edda59> from #<RESIDUE :SUV @0x126450d88>\n",
      "Removing #<ATOM :C12/:C @0x131edd969> from #<RESIDUE :SUV @0x126450d88>\n",
      "Removing #<ATOM :H121/:H @0x131edd879> from #<RESIDUE :SUV @0x126450d88>\n",
      "Removing #<ATOM :H122/:H @0x131edd789> from #<RESIDUE :SUV @0x126450d88>\n",
      "Removing #<ATOM :N3/:N @0x131edd699> from #<RESIDUE :SUV @0x126450d88>\n",
      "Removing #<ATOM :C17/:C @0x131edd5a9> from #<RESIDUE :SUV @0x126450d88>\n",
      "Removing #<ATOM :O2/:O @0x131edd4b9> from #<RESIDUE :SUV @0x126450d88>\n",
      "Removing #<ATOM :C19/:C @0x131edd3c9> from #<RESIDUE :SUV @0x126450d88>\n",
      "Removing #<ATOM :C24/:C @0x131edd2d9> from #<RESIDUE :SUV @0x126450d88>\n",
      "Removing #<ATOM :C23/:C @0x131edd1e9> from #<RESIDUE :SUV @0x126450d88>\n",
      "Removing #<ATOM :C22/:C @0x131edd0f9> from #<RESIDUE :SUV @0x126450d88>\n",
      "Removing #<ATOM :C21/:C @0x131edd009> from #<RESIDUE :SUV @0x126450d88>\n",
      "Removing #<ATOM :H21/:H @0x131ee0f09> from #<RESIDUE :SUV @0x126450d88>\n",
      "Removing #<ATOM :H22/:H @0x131ee0e19> from #<RESIDUE :SUV @0x126450d88>\n",
      "Removing #<ATOM :C29/:C @0x131ee0d29> from #<RESIDUE :SUV @0x126450d88>\n",
      "Removing #<ATOM :H291/:H @0x131ee0c39> from #<RESIDUE :SUV @0x126450d88>\n",
      "Removing #<ATOM :H292/:H @0x131ee0b49> from #<RESIDUE :SUV @0x126450d88>\n",
      "Removing #<ATOM :H293/:H @0x131ee0a59> from #<RESIDUE :SUV @0x126450d88>\n",
      "Removing #<ATOM :H24/:H @0x131ee0969> from #<RESIDUE :SUV @0x126450d88>\n",
      "Removing #<ATOM :C20/:C @0x131ee0879> from #<RESIDUE :SUV @0x126450d88>\n",
      "Removing #<ATOM :N4/:N @0x131ee0789> from #<RESIDUE :SUV @0x126450d88>\n",
      "Removing #<ATOM :N5/:N @0x131ee0699> from #<RESIDUE :SUV @0x126450d88>\n",
      "Removing #<ATOM :C27/:C @0x131ee05a9> from #<RESIDUE :SUV @0x126450d88>\n",
      "Removing #<ATOM :H27/:H @0x131ee04b9> from #<RESIDUE :SUV @0x126450d88>\n",
      "Removing #<ATOM :C28/:C @0x131ee03c9> from #<RESIDUE :SUV @0x126450d88>\n",
      "Removing #<ATOM :H28/:H @0x131ee02d9> from #<RESIDUE :SUV @0x126450d88>\n",
      "Removing #<ATOM :N6/:N @0x131ee01e9> from #<RESIDUE :SUV @0x126450d88>\n",
      "Removing atoms (#<ATOM :N6/:N @0x13b65e2d9> #<ATOM :H28/:H @0x13b65e3c9>\n",
      " #<ATOM :C28/:C @0x13b65e4b9> #<ATOM :H27/:H @0x13b65e5a9>\n",
      " #<ATOM :C27/:C @0x13b65e699> #<ATOM :N5/:N @0x13b65e789>\n",
      " #<ATOM :N4/:N @0x13b65e879> #<ATOM :C20/:C @0x13b65e969>\n",
      " #<ATOM :H24/:H @0x13b65ea59> #<ATOM :H293/:H @0x13b65eb49>\n",
      " #<ATOM :H292/:H @0x13b65ec39> #<ATOM :H291/:H @0x13b65ed29>\n",
      " #<ATOM :C29/:C @0x13b65ee19> #<ATOM :H22/:H @0x13b65ef09>\n",
      " #<ATOM :H21/:H @0x13b65c009> #<ATOM :C21/:C @0x13b65c0f9>\n",
      " #<ATOM :O2/:O @0x13b65c5a9> #<ATOM :H303/:H @0x13b65a1e9>\n",
      " #<ATOM :H302/:H @0x13b65a2d9> #<ATOM :H301/:H @0x13b65a3c9>\n",
      " #<ATOM :C30/:C @0x13b65a4b9> #<ATOM :CL1/:Cl @0x13b65af09>\n",
      " #<ATOM :H6/:H @0x13b6580f9> #<ATOM :O1/:O @0x13b6582d9>)\n",
      "Removing #<ATOM :O1/:O @0x131f05e19> from #<RESIDUE :SUV @0x126450d08>\n",
      "Removing #<ATOM :H6/:H @0x131f05c39> from #<RESIDUE :SUV @0x126450d08>\n",
      "Removing #<ATOM :CL1/:Cl @0x131f05a59> from #<RESIDUE :SUV @0x126450d08>\n",
      "Removing #<ATOM :C30/:C @0x131f05009> from #<RESIDUE :SUV @0x126450d08>\n",
      "Removing #<ATOM :H301/:H @0x131f07f09> from #<RESIDUE :SUV @0x126450d08>\n",
      "Removing #<ATOM :H302/:H @0x131f07e19> from #<RESIDUE :SUV @0x126450d08>\n",
      "Removing #<ATOM :H303/:H @0x131f07d29> from #<RESIDUE :SUV @0x126450d08>\n",
      "Removing #<ATOM :O2/:O @0x131f070f9> from #<RESIDUE :SUV @0x126450d08>\n",
      "Removing #<ATOM :C21/:C @0x131f0ac39> from #<RESIDUE :SUV @0x126450d08>\n",
      "Removing #<ATOM :H21/:H @0x131f0ab49> from #<RESIDUE :SUV @0x126450d08>\n",
      "Removing #<ATOM :H22/:H @0x131f0aa59> from #<RESIDUE :SUV @0x126450d08>\n",
      "Removing #<ATOM :C29/:C @0x131f0a969> from #<RESIDUE :SUV @0x126450d08>\n",
      "Removing #<ATOM :H291/:H @0x131f0a879> from #<RESIDUE :SUV @0x126450d08>\n",
      "Removing #<ATOM :H292/:H @0x131f0a789> from #<RESIDUE :SUV @0x126450d08>\n",
      "Removing #<ATOM :H293/:H @0x131f0a699> from #<RESIDUE :SUV @0x126450d08>\n",
      "Removing #<ATOM :H24/:H @0x131f0a5a9> from #<RESIDUE :SUV @0x126450d08>\n",
      "Removing #<ATOM :C20/:C @0x131f0a4b9> from #<RESIDUE :SUV @0x126450d08>\n",
      "Removing #<ATOM :N4/:N @0x131f0a3c9> from #<RESIDUE :SUV @0x126450d08>\n",
      "Removing #<ATOM :N5/:N @0x131f0a2d9> from #<RESIDUE :SUV @0x126450d08>\n",
      "Removing #<ATOM :C27/:C @0x131f0a1e9> from #<RESIDUE :SUV @0x126450d08>\n",
      "Removing #<ATOM :H27/:H @0x131f0a0f9> from #<RESIDUE :SUV @0x126450d08>\n",
      "Removing #<ATOM :C28/:C @0x131f0a009> from #<RESIDUE :SUV @0x126450d08>\n",
      "Removing #<ATOM :H28/:H @0x131f10f09> from #<RESIDUE :SUV @0x126450d08>\n",
      "Removing #<ATOM :N6/:N @0x131f10e19> from #<RESIDUE :SUV @0x126450d08>\n",
      "Removing atoms (#<ATOM :N6/:N @0x13b65e2d9> #<ATOM :H28/:H @0x13b65e3c9>\n",
      " #<ATOM :C28/:C @0x13b65e4b9> #<ATOM :H27/:H @0x13b65e5a9>\n",
      " #<ATOM :C27/:C @0x13b65e699> #<ATOM :N5/:N @0x13b65e789>\n",
      " #<ATOM :N4/:N @0x13b65e879> #<ATOM :C20/:C @0x13b65e969>\n",
      " #<ATOM :H24/:H @0x13b65ea59> #<ATOM :H293/:H @0x13b65eb49>\n",
      " #<ATOM :H292/:H @0x13b65ec39> #<ATOM :H291/:H @0x13b65ed29>\n",
      " #<ATOM :C29/:C @0x13b65ee19> #<ATOM :H22/:H @0x13b65ef09>\n",
      " #<ATOM :H21/:H @0x13b65c009> #<ATOM :C21/:C @0x13b65c0f9>\n",
      " #<ATOM :C22/:C @0x13b65c1e9> #<ATOM :C23/:C @0x13b65c2d9>\n",
      " #<ATOM :C24/:C @0x13b65c3c9> #<ATOM :C19/:C @0x13b65c4b9>\n",
      " #<ATOM :O2/:O @0x13b65c5a9> #<ATOM :CL1/:Cl @0x13b65af09>\n",
      " #<ATOM :H6/:H @0x13b6580f9> #<ATOM :O1/:O @0x13b6582d9>)\n",
      "Removing #<ATOM :O1/:O @0x131f10a59> from #<RESIDUE :SUV @0x126450c88>\n",
      "Removing #<ATOM :H6/:H @0x131f10879> from #<RESIDUE :SUV @0x126450c88>\n",
      "Removing #<ATOM :CL1/:Cl @0x131f10699> from #<RESIDUE :SUV @0x126450c88>\n",
      "Removing #<ATOM :O2/:O @0x131f3cd29> from #<RESIDUE :SUV @0x126450c88>\n",
      "Removing #<ATOM :C19/:C @0x131f3cc39> from #<RESIDUE :SUV @0x126450c88>\n",
      "Removing #<ATOM :C24/:C @0x131f3cb49> from #<RESIDUE :SUV @0x126450c88>\n",
      "Removing #<ATOM :C23/:C @0x131f3ca59> from #<RESIDUE :SUV @0x126450c88>\n",
      "Removing #<ATOM :C22/:C @0x131f3c969> from #<RESIDUE :SUV @0x126450c88>\n",
      "Removing #<ATOM :C21/:C @0x131f3c879> from #<RESIDUE :SUV @0x126450c88>\n",
      "Removing #<ATOM :H21/:H @0x131f3c789> from #<RESIDUE :SUV @0x126450c88>\n",
      "Removing #<ATOM :H22/:H @0x131f3c699> from #<RESIDUE :SUV @0x126450c88>\n",
      "Removing #<ATOM :C29/:C @0x131f3c5a9> from #<RESIDUE :SUV @0x126450c88>\n",
      "Removing #<ATOM :H291/:H @0x131f3c4b9> from #<RESIDUE :SUV @0x126450c88>\n",
      "Removing #<ATOM :H292/:H @0x131f3c3c9> from #<RESIDUE :SUV @0x126450c88>\n",
      "Removing #<ATOM :H293/:H @0x131f3c2d9> from #<RESIDUE :SUV @0x126450c88>\n",
      "Removing #<ATOM :H24/:H @0x131f3c1e9> from #<RESIDUE :SUV @0x126450c88>\n",
      "Removing #<ATOM :C20/:C @0x131f3c0f9> from #<RESIDUE :SUV @0x126450c88>\n",
      "Removing #<ATOM :N4/:N @0x131f3c009> from #<RESIDUE :SUV @0x126450c88>\n",
      "Removing #<ATOM :N5/:N @0x131f3ef09> from #<RESIDUE :SUV @0x126450c88>\n",
      "Removing #<ATOM :C27/:C @0x131f3ee19> from #<RESIDUE :SUV @0x126450c88>\n",
      "Removing #<ATOM :H27/:H @0x131f3ed29> from #<RESIDUE :SUV @0x126450c88>\n",
      "Removing #<ATOM :C28/:C @0x131f3ec39> from #<RESIDUE :SUV @0x126450c88>\n",
      "Removing #<ATOM :H28/:H @0x131f3eb49> from #<RESIDUE :SUV @0x126450c88>\n",
      "Removing #<ATOM :N6/:N @0x131f3ea59> from #<RESIDUE :SUV @0x126450c88>\n",
      "Removing atoms (#<ATOM :N6/:N @0x13b65e2d9> #<ATOM :H28/:H @0x13b65e3c9>\n",
      " #<ATOM :C28/:C @0x13b65e4b9> #<ATOM :H27/:H @0x13b65e5a9>\n",
      " #<ATOM :C27/:C @0x13b65e699> #<ATOM :N5/:N @0x13b65e789>\n",
      " #<ATOM :N4/:N @0x13b65e879> #<ATOM :C20/:C @0x13b65e969>\n",
      " #<ATOM :H24/:H @0x13b65ea59> #<ATOM :H293/:H @0x13b65eb49>\n",
      " #<ATOM :H292/:H @0x13b65ec39> #<ATOM :H291/:H @0x13b65ed29>\n",
      " #<ATOM :C29/:C @0x13b65ee19> #<ATOM :H22/:H @0x13b65ef09>\n",
      " #<ATOM :H21/:H @0x13b65c009> #<ATOM :C21/:C @0x13b65c0f9>\n",
      " #<ATOM :C22/:C @0x13b65c1e9> #<ATOM :C23/:C @0x13b65c2d9>\n",
      " #<ATOM :C24/:C @0x13b65c3c9> #<ATOM :C19/:C @0x13b65c4b9>\n",
      " #<ATOM :O2/:O @0x13b65c5a9> #<ATOM :CL1/:Cl @0x13b65af09>\n",
      " #<ATOM :H6/:H @0x13b6580f9> #<ATOM :O1/:O @0x13b6582d9>)\n",
      "Removing #<ATOM :O1/:O @0x131f3e699> from #<RESIDUE :SUV @0x126450c08>\n",
      "Removing #<ATOM :H6/:H @0x131f3e4b9> from #<RESIDUE :SUV @0x126450c08>\n",
      "Removing #<ATOM :CL1/:Cl @0x131f3e2d9> from #<RESIDUE :SUV @0x126450c08>\n",
      "Removing #<ATOM :O2/:O @0x131faf969> from #<RESIDUE :SUV @0x126450c08>\n",
      "Removing #<ATOM :C19/:C @0x131faf879> from #<RESIDUE :SUV @0x126450c08>\n",
      "Removing #<ATOM :C24/:C @0x131faf789> from #<RESIDUE :SUV @0x126450c08>\n",
      "Removing #<ATOM :C23/:C @0x131faf699> from #<RESIDUE :SUV @0x126450c08>\n",
      "Removing #<ATOM :C22/:C @0x131faf5a9> from #<RESIDUE :SUV @0x126450c08>\n",
      "Removing #<ATOM :C21/:C @0x131faf4b9> from #<RESIDUE :SUV @0x126450c08>\n",
      "Removing #<ATOM :H21/:H @0x131faf3c9> from #<RESIDUE :SUV @0x126450c08>\n",
      "Removing #<ATOM :H22/:H @0x131faf2d9> from #<RESIDUE :SUV @0x126450c08>\n",
      "Removing #<ATOM :C29/:C @0x131faf1e9> from #<RESIDUE :SUV @0x126450c08>\n",
      "Removing #<ATOM :H291/:H @0x131faf0f9> from #<RESIDUE :SUV @0x126450c08>\n",
      "Removing #<ATOM :H292/:H @0x131faf009> from #<RESIDUE :SUV @0x126450c08>\n",
      "Removing #<ATOM :H293/:H @0x131fc4f09> from #<RESIDUE :SUV @0x126450c08>\n",
      "Removing #<ATOM :H24/:H @0x131fc4e19> from #<RESIDUE :SUV @0x126450c08>\n",
      "Removing #<ATOM :C20/:C @0x131fc4d29> from #<RESIDUE :SUV @0x126450c08>\n",
      "Removing #<ATOM :N4/:N @0x131fc4c39> from #<RESIDUE :SUV @0x126450c08>\n",
      "Removing #<ATOM :N5/:N @0x131fc4b49> from #<RESIDUE :SUV @0x126450c08>\n",
      "Removing #<ATOM :C27/:C @0x131fc4a59> from #<RESIDUE :SUV @0x126450c08>\n",
      "Removing #<ATOM :H27/:H @0x131fc4969> from #<RESIDUE :SUV @0x126450c08>\n",
      "Removing #<ATOM :C28/:C @0x131fc4879> from #<RESIDUE :SUV @0x126450c08>\n",
      "Removing #<ATOM :H28/:H @0x131fc4789> from #<RESIDUE :SUV @0x126450c08>\n",
      "Removing #<ATOM :N6/:N @0x131fc4699> from #<RESIDUE :SUV @0x126450c08>\n",
      "Removing atoms (#<ATOM :N6/:N @0x13b65e2d9> #<ATOM :H28/:H @0x13b65e3c9>\n",
      " #<ATOM :C28/:C @0x13b65e4b9> #<ATOM :H27/:H @0x13b65e5a9>\n",
      " #<ATOM :C27/:C @0x13b65e699> #<ATOM :N5/:N @0x13b65e789>\n",
      " #<ATOM :N4/:N @0x13b65e879> #<ATOM :C20/:C @0x13b65e969>\n",
      " #<ATOM :H24/:H @0x13b65ea59> #<ATOM :H293/:H @0x13b65eb49>\n",
      " #<ATOM :H292/:H @0x13b65ec39> #<ATOM :H291/:H @0x13b65ed29>\n",
      " #<ATOM :C29/:C @0x13b65ee19> #<ATOM :H22/:H @0x13b65ef09>\n",
      " #<ATOM :H21/:H @0x13b65c009> #<ATOM :C21/:C @0x13b65c0f9>\n",
      " #<ATOM :C22/:C @0x13b65c1e9> #<ATOM :C23/:C @0x13b65c2d9>\n",
      " #<ATOM :C24/:C @0x13b65c3c9> #<ATOM :C19/:C @0x13b65c4b9>\n",
      " #<ATOM :O2/:O @0x13b65c5a9> #<ATOM :CL1/:Cl @0x13b65af09>\n",
      " #<ATOM :H6/:H @0x13b6580f9> #<ATOM :O1/:O @0x13b6582d9>)\n",
      "Removing #<ATOM :O1/:O @0x131fc42d9> from #<RESIDUE :SUV @0x126450b88>\n",
      "Removing #<ATOM :H6/:H @0x131fc40f9> from #<RESIDUE :SUV @0x126450b88>\n",
      "Removing #<ATOM :CL1/:Cl @0x131906f09> from #<RESIDUE :SUV @0x126450b88>\n",
      "Removing #<ATOM :O2/:O @0x13190a5a9> from #<RESIDUE :SUV @0x126450b88>\n",
      "Removing #<ATOM :C19/:C @0x13190a4b9> from #<RESIDUE :SUV @0x126450b88>\n",
      "Removing #<ATOM :C24/:C @0x13190a3c9> from #<RESIDUE :SUV @0x126450b88>\n",
      "Removing #<ATOM :C23/:C @0x13190a2d9> from #<RESIDUE :SUV @0x126450b88>\n",
      "Removing #<ATOM :C22/:C @0x13190a1e9> from #<RESIDUE :SUV @0x126450b88>\n",
      "Removing #<ATOM :C21/:C @0x13190a0f9> from #<RESIDUE :SUV @0x126450b88>\n",
      "Removing #<ATOM :H21/:H @0x13190a009> from #<RESIDUE :SUV @0x126450b88>\n",
      "Removing #<ATOM :H22/:H @0x131914f09> from #<RESIDUE :SUV @0x126450b88>\n",
      "Removing #<ATOM :C29/:C @0x131914e19> from #<RESIDUE :SUV @0x126450b88>\n",
      "Removing #<ATOM :H291/:H @0x131914d29> from #<RESIDUE :SUV @0x126450b88>\n",
      "Removing #<ATOM :H292/:H @0x131914c39> from #<RESIDUE :SUV @0x126450b88>\n",
      "Removing #<ATOM :H293/:H @0x131914b49> from #<RESIDUE :SUV @0x126450b88>\n",
      "Removing #<ATOM :H24/:H @0x131914a59> from #<RESIDUE :SUV @0x126450b88>\n",
      "Removing #<ATOM :C20/:C @0x131914969> from #<RESIDUE :SUV @0x126450b88>\n",
      "Removing #<ATOM :N4/:N @0x131914879> from #<RESIDUE :SUV @0x126450b88>\n",
      "Removing #<ATOM :N5/:N @0x131914789> from #<RESIDUE :SUV @0x126450b88>\n",
      "Removing #<ATOM :C27/:C @0x131914699> from #<RESIDUE :SUV @0x126450b88>\n",
      "Removing #<ATOM :H27/:H @0x1319145a9> from #<RESIDUE :SUV @0x126450b88>\n",
      "Removing #<ATOM :C28/:C @0x1319144b9> from #<RESIDUE :SUV @0x126450b88>\n",
      "Removing #<ATOM :H28/:H @0x1319143c9> from #<RESIDUE :SUV @0x126450b88>\n",
      "Removing #<ATOM :N6/:N @0x1319142d9> from #<RESIDUE :SUV @0x126450b88>\n",
      "Removing atoms (#<ATOM :N6/:N @0x13b65e2d9> #<ATOM :H28/:H @0x13b65e3c9>\n",
      " #<ATOM :C28/:C @0x13b65e4b9> #<ATOM :H27/:H @0x13b65e5a9>\n",
      " #<ATOM :C27/:C @0x13b65e699> #<ATOM :N5/:N @0x13b65e789>\n",
      " #<ATOM :N4/:N @0x13b65e879> #<ATOM :C20/:C @0x13b65e969>\n",
      " #<ATOM :H24/:H @0x13b65ea59> #<ATOM :H293/:H @0x13b65eb49>\n",
      " #<ATOM :H292/:H @0x13b65ec39> #<ATOM :H291/:H @0x13b65ed29>\n",
      " #<ATOM :C29/:C @0x13b65ee19> #<ATOM :H22/:H @0x13b65ef09>\n",
      " #<ATOM :H21/:H @0x13b65c009> #<ATOM :C21/:C @0x13b65c0f9>\n",
      " #<ATOM :C22/:C @0x13b65c1e9> #<ATOM :C23/:C @0x13b65c2d9>\n",
      " #<ATOM :C24/:C @0x13b65c3c9> #<ATOM :C19/:C @0x13b65c4b9>\n",
      " #<ATOM :O2/:O @0x13b65c5a9> #<ATOM :CL1/:Cl @0x13b65af09>\n",
      " #<ATOM :H6/:H @0x13b6580f9> #<ATOM :O1/:O @0x13b6582d9>)\n",
      "Removing #<ATOM :O1/:O @0x131981f09> from #<RESIDUE :SUV @0x126450b08>\n",
      "Removing #<ATOM :H6/:H @0x131981d29> from #<RESIDUE :SUV @0x126450b08>\n",
      "Removing #<ATOM :CL1/:Cl @0x131981b49> from #<RESIDUE :SUV @0x126450b08>\n",
      "Removing #<ATOM :O2/:O @0x1319a51e9> from #<RESIDUE :SUV @0x126450b08>\n",
      "Removing #<ATOM :C19/:C @0x1319a50f9> from #<RESIDUE :SUV @0x126450b08>\n",
      "Removing #<ATOM :C24/:C @0x1319a5009> from #<RESIDUE :SUV @0x126450b08>\n",
      "Removing #<ATOM :C23/:C @0x1319a9f09> from #<RESIDUE :SUV @0x126450b08>\n",
      "Removing #<ATOM :C22/:C @0x1319a9e19> from #<RESIDUE :SUV @0x126450b08>\n",
      "Removing #<ATOM :C21/:C @0x1319a9d29> from #<RESIDUE :SUV @0x126450b08>\n",
      "Removing #<ATOM :H21/:H @0x1319a9c39> from #<RESIDUE :SUV @0x126450b08>\n",
      "Removing #<ATOM :H22/:H @0x1319a9b49> from #<RESIDUE :SUV @0x126450b08>\n",
      "Removing #<ATOM :C29/:C @0x1319a9a59> from #<RESIDUE :SUV @0x126450b08>\n",
      "Removing #<ATOM :H291/:H @0x1319a9969> from #<RESIDUE :SUV @0x126450b08>\n",
      "Removing #<ATOM :H292/:H @0x1319a9879> from #<RESIDUE :SUV @0x126450b08>\n",
      "Removing #<ATOM :H293/:H @0x1319a9789> from #<RESIDUE :SUV @0x126450b08>\n",
      "Removing #<ATOM :H24/:H @0x1319a9699> from #<RESIDUE :SUV @0x126450b08>\n",
      "Removing #<ATOM :C20/:C @0x1319a95a9> from #<RESIDUE :SUV @0x126450b08>\n",
      "Removing #<ATOM :N4/:N @0x1319a94b9> from #<RESIDUE :SUV @0x126450b08>\n",
      "Removing #<ATOM :N5/:N @0x1319a93c9> from #<RESIDUE :SUV @0x126450b08>\n",
      "Removing #<ATOM :C27/:C @0x1319a92d9> from #<RESIDUE :SUV @0x126450b08>\n",
      "Removing #<ATOM :H27/:H @0x1319a91e9> from #<RESIDUE :SUV @0x126450b08>\n",
      "Removing #<ATOM :C28/:C @0x1319a90f9> from #<RESIDUE :SUV @0x126450b08>\n",
      "Removing #<ATOM :H28/:H @0x1319a9009> from #<RESIDUE :SUV @0x126450b08>\n",
      "Removing #<ATOM :N6/:N @0x1319acf09> from #<RESIDUE :SUV @0x126450b08>\n",
      "Removing atoms (#<ATOM :N6/:N @0x13b65e2d9> #<ATOM :H28/:H @0x13b65e3c9>\n",
      " #<ATOM :C28/:C @0x13b65e4b9> #<ATOM :H27/:H @0x13b65e5a9>\n",
      " #<ATOM :C27/:C @0x13b65e699> #<ATOM :N5/:N @0x13b65e789>\n",
      " #<ATOM :N4/:N @0x13b65e879> #<ATOM :C20/:C @0x13b65e969>\n",
      " #<ATOM :H24/:H @0x13b65ea59> #<ATOM :H293/:H @0x13b65eb49>\n",
      " #<ATOM :H292/:H @0x13b65ec39> #<ATOM :H291/:H @0x13b65ed29>\n",
      " #<ATOM :C29/:C @0x13b65ee19> #<ATOM :H22/:H @0x13b65ef09>\n",
      " #<ATOM :H21/:H @0x13b65c009> #<ATOM :C21/:C @0x13b65c0f9>\n",
      " #<ATOM :C22/:C @0x13b65c1e9> #<ATOM :C23/:C @0x13b65c2d9>\n",
      " #<ATOM :C24/:C @0x13b65c3c9> #<ATOM :C19/:C @0x13b65c4b9>\n",
      " #<ATOM :O2/:O @0x13b65c5a9> #<ATOM :CL1/:Cl @0x13b65af09>\n",
      " #<ATOM :H6/:H @0x13b6580f9> #<ATOM :O1/:O @0x13b6582d9>)\n",
      "Removing #<ATOM :O1/:O @0x1319acb49> from #<RESIDUE :SUV @0x126450a88>\n",
      "Removing #<ATOM :H6/:H @0x1319ac969> from #<RESIDUE :SUV @0x126450a88>\n",
      "Removing #<ATOM :CL1/:Cl @0x1319ac789> from #<RESIDUE :SUV @0x126450a88>\n",
      "Removing #<ATOM :O2/:O @0x131b24e19> from #<RESIDUE :SUV @0x126450a88>\n",
      "Removing #<ATOM :C19/:C @0x131b24d29> from #<RESIDUE :SUV @0x126450a88>\n",
      "Removing #<ATOM :C24/:C @0x131b24c39> from #<RESIDUE :SUV @0x126450a88>\n",
      "Removing #<ATOM :C23/:C @0x131b24b49> from #<RESIDUE :SUV @0x126450a88>\n",
      "Removing #<ATOM :C22/:C @0x131b24a59> from #<RESIDUE :SUV @0x126450a88>\n",
      "Removing #<ATOM :C21/:C @0x131b24969> from #<RESIDUE :SUV @0x126450a88>\n",
      "Removing #<ATOM :H21/:H @0x131b24879> from #<RESIDUE :SUV @0x126450a88>\n",
      "Removing #<ATOM :H22/:H @0x131b24789> from #<RESIDUE :SUV @0x126450a88>\n",
      "Removing #<ATOM :C29/:C @0x131b24699> from #<RESIDUE :SUV @0x126450a88>\n",
      "Removing #<ATOM :H291/:H @0x131b245a9> from #<RESIDUE :SUV @0x126450a88>\n",
      "Removing #<ATOM :H292/:H @0x131b244b9> from #<RESIDUE :SUV @0x126450a88>\n",
      "Removing #<ATOM :H293/:H @0x131b243c9> from #<RESIDUE :SUV @0x126450a88>\n",
      "Removing #<ATOM :H24/:H @0x131b242d9> from #<RESIDUE :SUV @0x126450a88>\n",
      "Removing #<ATOM :C20/:C @0x131b241e9> from #<RESIDUE :SUV @0x126450a88>\n",
      "Removing #<ATOM :N4/:N @0x131b240f9> from #<RESIDUE :SUV @0x126450a88>\n",
      "Removing #<ATOM :N5/:N @0x131b24009> from #<RESIDUE :SUV @0x126450a88>\n",
      "Removing #<ATOM :C27/:C @0x131b6ff09> from #<RESIDUE :SUV @0x126450a88>\n",
      "Removing #<ATOM :H27/:H @0x131b6fe19> from #<RESIDUE :SUV @0x126450a88>\n",
      "Removing #<ATOM :C28/:C @0x131b6fd29> from #<RESIDUE :SUV @0x126450a88>\n",
      "Removing #<ATOM :H28/:H @0x131b6fc39> from #<RESIDUE :SUV @0x126450a88>\n",
      "Removing #<ATOM :N6/:N @0x131b6fb49> from #<RESIDUE :SUV @0x126450a88>\n",
      "Removing atoms (#<ATOM :N6/:N @0x13b65e2d9> #<ATOM :H28/:H @0x13b65e3c9>\n",
      " #<ATOM :C28/:C @0x13b65e4b9> #<ATOM :H27/:H @0x13b65e5a9>\n",
      " #<ATOM :C27/:C @0x13b65e699> #<ATOM :N5/:N @0x13b65e789>\n",
      " #<ATOM :N4/:N @0x13b65e879> #<ATOM :C20/:C @0x13b65e969>\n",
      " #<ATOM :H24/:H @0x13b65ea59> #<ATOM :H293/:H @0x13b65eb49>\n",
      " #<ATOM :H292/:H @0x13b65ec39> #<ATOM :H291/:H @0x13b65ed29>\n",
      " #<ATOM :C29/:C @0x13b65ee19> #<ATOM :H22/:H @0x13b65ef09>\n",
      " #<ATOM :H21/:H @0x13b65c009> #<ATOM :C21/:C @0x13b65c0f9>\n",
      " #<ATOM :C22/:C @0x13b65c1e9> #<ATOM :C23/:C @0x13b65c2d9>\n",
      " #<ATOM :C24/:C @0x13b65c3c9> #<ATOM :H303/:H @0x13b65a1e9>\n",
      " #<ATOM :H302/:H @0x13b65a2d9> #<ATOM :H301/:H @0x13b65a3c9>\n",
      " #<ATOM :C30/:C @0x13b65a4b9> #<ATOM :CL1/:Cl @0x13b65af09>)\n",
      "Removing #<ATOM :CL1/:Cl @0x131b6f3c9> from #<RESIDUE :SUV @0x126450a08>\n",
      "Removing #<ATOM :C30/:C @0x131410969> from #<RESIDUE :SUV @0x126450a08>\n",
      "Removing #<ATOM :H301/:H @0x131410879> from #<RESIDUE :SUV @0x126450a08>\n",
      "Removing #<ATOM :H302/:H @0x131410789> from #<RESIDUE :SUV @0x126450a08>\n",
      "Removing #<ATOM :H303/:H @0x131410699> from #<RESIDUE :SUV @0x126450a08>\n",
      "Removing #<ATOM :C24/:C @0x131420879> from #<RESIDUE :SUV @0x126450a08>\n",
      "Removing #<ATOM :C23/:C @0x131420789> from #<RESIDUE :SUV @0x126450a08>\n",
      "Removing #<ATOM :C22/:C @0x131420699> from #<RESIDUE :SUV @0x126450a08>\n",
      "Removing #<ATOM :C21/:C @0x1314205a9> from #<RESIDUE :SUV @0x126450a08>\n",
      "Removing #<ATOM :H21/:H @0x1314204b9> from #<RESIDUE :SUV @0x126450a08>\n",
      "Removing #<ATOM :H22/:H @0x1314203c9> from #<RESIDUE :SUV @0x126450a08>\n",
      "Removing #<ATOM :C29/:C @0x1314202d9> from #<RESIDUE :SUV @0x126450a08>\n",
      "Removing #<ATOM :H291/:H @0x1314201e9> from #<RESIDUE :SUV @0x126450a08>\n",
      "Removing #<ATOM :H292/:H @0x1314200f9> from #<RESIDUE :SUV @0x126450a08>\n",
      "Removing #<ATOM :H293/:H @0x131420009> from #<RESIDUE :SUV @0x126450a08>\n",
      "Removing #<ATOM :H24/:H @0x131434f09> from #<RESIDUE :SUV @0x126450a08>\n",
      "Removing #<ATOM :C20/:C @0x131434e19> from #<RESIDUE :SUV @0x126450a08>\n",
      "Removing #<ATOM :N4/:N @0x131434d29> from #<RESIDUE :SUV @0x126450a08>\n",
      "Removing #<ATOM :N5/:N @0x131434c39> from #<RESIDUE :SUV @0x126450a08>\n",
      "Removing #<ATOM :C27/:C @0x131434b49> from #<RESIDUE :SUV @0x126450a08>\n",
      "Removing #<ATOM :H27/:H @0x131434a59> from #<RESIDUE :SUV @0x126450a08>\n",
      "Removing #<ATOM :C28/:C @0x131434969> from #<RESIDUE :SUV @0x126450a08>\n",
      "Removing #<ATOM :H28/:H @0x131434879> from #<RESIDUE :SUV @0x126450a08>\n",
      "Removing #<ATOM :N6/:N @0x131434789> from #<RESIDUE :SUV @0x126450a08>\n",
      "Removing atoms (#<ATOM :N6/:N @0x13b65e2d9> #<ATOM :H28/:H @0x13b65e3c9>\n",
      " #<ATOM :C28/:C @0x13b65e4b9> #<ATOM :H27/:H @0x13b65e5a9>\n",
      " #<ATOM :C27/:C @0x13b65e699> #<ATOM :N5/:N @0x13b65e789>\n",
      " #<ATOM :N4/:N @0x13b65e879> #<ATOM :C20/:C @0x13b65e969>\n",
      " #<ATOM :H24/:H @0x13b65ea59> #<ATOM :H293/:H @0x13b65eb49>\n",
      " #<ATOM :H292/:H @0x13b65ec39> #<ATOM :H291/:H @0x13b65ed29>\n",
      " #<ATOM :C29/:C @0x13b65ee19> #<ATOM :H22/:H @0x13b65ef09>\n",
      " #<ATOM :H21/:H @0x13b65c009> #<ATOM :C21/:C @0x13b65c0f9>\n",
      " #<ATOM :C22/:C @0x13b65c1e9> #<ATOM :C23/:C @0x13b65c2d9>\n",
      " #<ATOM :C24/:C @0x13b65c3c9> #<ATOM :H303/:H @0x13b65a1e9>\n",
      " #<ATOM :H302/:H @0x13b65a2d9> #<ATOM :H301/:H @0x13b65a3c9>\n",
      " #<ATOM :C30/:C @0x13b65a4b9> #<ATOM :CL1/:Cl @0x13b65af09>)\n",
      "Removing #<ATOM :CL1/:Cl @0x131434009> from #<RESIDUE :SUV @0x126450988>\n",
      "Removing #<ATOM :C30/:C @0x1314695a9> from #<RESIDUE :SUV @0x126450988>\n",
      "Removing #<ATOM :H301/:H @0x1314694b9> from #<RESIDUE :SUV @0x126450988>\n",
      "Removing #<ATOM :H302/:H @0x1314693c9> from #<RESIDUE :SUV @0x126450988>\n",
      "Removing #<ATOM :H303/:H @0x1314692d9> from #<RESIDUE :SUV @0x126450988>\n",
      "Removing #<ATOM :C24/:C @0x13146c4b9> from #<RESIDUE :SUV @0x126450988>\n",
      "Removing #<ATOM :C23/:C @0x13146c3c9> from #<RESIDUE :SUV @0x126450988>\n",
      "Removing #<ATOM :C22/:C @0x13146c2d9> from #<RESIDUE :SUV @0x126450988>\n",
      "Removing #<ATOM :C21/:C @0x13146c1e9> from #<RESIDUE :SUV @0x126450988>\n",
      "Removing #<ATOM :H21/:H @0x13146c0f9> from #<RESIDUE :SUV @0x126450988>\n",
      "Removing #<ATOM :H22/:H @0x13146c009> from #<RESIDUE :SUV @0x126450988>\n",
      "Removing #<ATOM :C29/:C @0x131486f09> from #<RESIDUE :SUV @0x126450988>\n",
      "Removing #<ATOM :H291/:H @0x131486e19> from #<RESIDUE :SUV @0x126450988>\n",
      "Removing #<ATOM :H292/:H @0x131486d29> from #<RESIDUE :SUV @0x126450988>\n",
      "Removing #<ATOM :H293/:H @0x131486c39> from #<RESIDUE :SUV @0x126450988>\n",
      "Removing #<ATOM :H24/:H @0x131486b49> from #<RESIDUE :SUV @0x126450988>\n",
      "Removing #<ATOM :C20/:C @0x131486a59> from #<RESIDUE :SUV @0x126450988>\n",
      "Removing #<ATOM :N4/:N @0x131486969> from #<RESIDUE :SUV @0x126450988>\n",
      "Removing #<ATOM :N5/:N @0x131486879> from #<RESIDUE :SUV @0x126450988>\n",
      "Removing #<ATOM :C27/:C @0x131486789> from #<RESIDUE :SUV @0x126450988>\n",
      "Removing #<ATOM :H27/:H @0x131486699> from #<RESIDUE :SUV @0x126450988>\n",
      "Removing #<ATOM :C28/:C @0x1314865a9> from #<RESIDUE :SUV @0x126450988>\n",
      "Removing #<ATOM :H28/:H @0x1314864b9> from #<RESIDUE :SUV @0x126450988>\n",
      "Removing #<ATOM :N6/:N @0x1314863c9> from #<RESIDUE :SUV @0x126450988>\n",
      "Removing atoms (#<ATOM :N6/:N @0x13b65e2d9> #<ATOM :H28/:H @0x13b65e3c9>\n",
      " #<ATOM :C28/:C @0x13b65e4b9> #<ATOM :H27/:H @0x13b65e5a9>\n",
      " #<ATOM :C27/:C @0x13b65e699> #<ATOM :N5/:N @0x13b65e789>\n",
      " #<ATOM :N4/:N @0x13b65e879> #<ATOM :C20/:C @0x13b65e969>\n",
      " #<ATOM :H24/:H @0x13b65ea59> #<ATOM :H293/:H @0x13b65eb49>\n",
      " #<ATOM :H292/:H @0x13b65ec39> #<ATOM :H291/:H @0x13b65ed29>\n",
      " #<ATOM :C29/:C @0x13b65ee19> #<ATOM :H22/:H @0x13b65ef09>\n",
      " #<ATOM :H21/:H @0x13b65c009> #<ATOM :C21/:C @0x13b65c0f9>\n",
      " #<ATOM :C22/:C @0x13b65c1e9> #<ATOM :H303/:H @0x13b65a1e9>\n",
      " #<ATOM :H302/:H @0x13b65a2d9> #<ATOM :H301/:H @0x13b65a3c9>\n",
      " #<ATOM :C30/:C @0x13b65a4b9> #<ATOM :CL1/:Cl @0x13b65af09>\n",
      " #<ATOM :H6/:H @0x13b6580f9> #<ATOM :O1/:O @0x13b6582d9>)\n",
      "Removing #<ATOM :O1/:O @0x131486009> from #<RESIDUE :SUV @0x126450908>\n",
      "Removing #<ATOM :H6/:H @0x131504e19> from #<RESIDUE :SUV @0x126450908>\n",
      "Removing #<ATOM :CL1/:Cl @0x131504c39> from #<RESIDUE :SUV @0x126450908>\n",
      "Removing #<ATOM :C30/:C @0x1315041e9> from #<RESIDUE :SUV @0x126450908>\n",
      "Removing #<ATOM :H301/:H @0x1315040f9> from #<RESIDUE :SUV @0x126450908>\n",
      "Removing #<ATOM :H302/:H @0x131504009> from #<RESIDUE :SUV @0x126450908>\n",
      "Removing #<ATOM :H303/:H @0x131507f09> from #<RESIDUE :SUV @0x126450908>\n",
      "Removing #<ATOM :C22/:C @0x13150bf09> from #<RESIDUE :SUV @0x126450908>\n",
      "Removing #<ATOM :C21/:C @0x13150be19> from #<RESIDUE :SUV @0x126450908>\n",
      "Removing #<ATOM :H21/:H @0x13150bd29> from #<RESIDUE :SUV @0x126450908>\n",
      "Removing #<ATOM :H22/:H @0x13150bc39> from #<RESIDUE :SUV @0x126450908>\n",
      "Removing #<ATOM :C29/:C @0x13150bb49> from #<RESIDUE :SUV @0x126450908>\n",
      "Removing #<ATOM :H291/:H @0x13150ba59> from #<RESIDUE :SUV @0x126450908>\n",
      "Removing #<ATOM :H292/:H @0x13150b969> from #<RESIDUE :SUV @0x126450908>\n",
      "Removing #<ATOM :H293/:H @0x13150b879> from #<RESIDUE :SUV @0x126450908>\n",
      "Removing #<ATOM :H24/:H @0x13150b789> from #<RESIDUE :SUV @0x126450908>\n",
      "Removing #<ATOM :C20/:C @0x13150b699> from #<RESIDUE :SUV @0x126450908>\n",
      "Removing #<ATOM :N4/:N @0x13150b5a9> from #<RESIDUE :SUV @0x126450908>\n",
      "Removing #<ATOM :N5/:N @0x13150b4b9> from #<RESIDUE :SUV @0x126450908>\n",
      "Removing #<ATOM :C27/:C @0x13150b3c9> from #<RESIDUE :SUV @0x126450908>\n",
      "Removing #<ATOM :H27/:H @0x13150b2d9> from #<RESIDUE :SUV @0x126450908>\n",
      "Removing #<ATOM :C28/:C @0x13150b1e9> from #<RESIDUE :SUV @0x126450908>\n",
      "Removing #<ATOM :H28/:H @0x13150b0f9> from #<RESIDUE :SUV @0x126450908>\n",
      "Removing #<ATOM :N6/:N @0x13150b009> from #<RESIDUE :SUV @0x126450908>\n",
      "Removing atoms (#<ATOM :H63/:H @0x13b6632d9> #<ATOM :H62/:H @0x13b6633c9>\n",
      " #<ATOM :H61/:H @0x13b6634b9> #<ATOM :C6/:C @0x13b6635a9>\n",
      " #<ATOM :O4/:O @0x13b663699> #<ATOM :H293/:H @0x13b663789>\n",
      " #<ATOM :C20/:C @0x13b663879> #<ATOM :H24/:H @0x13b663969>\n",
      " #<ATOM :H292/:H @0x13b663a59> #<ATOM :H291/:H @0x13b663b49>\n",
      " #<ATOM :C293/:C @0x13b663c39> #<ATOM :O29/:O @0x13b663d29>\n",
      " #<ATOM :H22/:H @0x13b663e19> #<ATOM :H21/:H @0x13b663f09>\n",
      " #<ATOM :C21/:C @0x13b661009> #<ATOM :C22/:C @0x13b6610f9>\n",
      " #<ATOM :C23/:C @0x13b6611e9> #<ATOM :C24/:C @0x13b6612d9>\n",
      " #<ATOM :C19/:C @0x13b6613c9> #<ATOM :CL6/:Cl @0x13b65fd29>)\n",
      "Removing #<ATOM :CL6/:Cl @0x131539a59> from #<RESIDUE :SUV @0x126450888>\n",
      "Removing #<ATOM :C19/:C @0x13153b0f9> from #<RESIDUE :SUV @0x126450888>\n",
      "Removing #<ATOM :C24/:C @0x13153b009> from #<RESIDUE :SUV @0x126450888>\n",
      "Removing #<ATOM :C23/:C @0x131575f09> from #<RESIDUE :SUV @0x126450888>\n",
      "Removing #<ATOM :C22/:C @0x131575e19> from #<RESIDUE :SUV @0x126450888>\n",
      "Removing #<ATOM :C21/:C @0x131575d29> from #<RESIDUE :SUV @0x126450888>\n",
      "Removing #<ATOM :H21/:H @0x131575c39> from #<RESIDUE :SUV @0x126450888>\n",
      "Removing #<ATOM :H22/:H @0x131575b49> from #<RESIDUE :SUV @0x126450888>\n",
      "Removing #<ATOM :O29/:O @0x131575a59> from #<RESIDUE :SUV @0x126450888>\n",
      "Removing #<ATOM :C293/:C @0x131575969> from #<RESIDUE :SUV @0x126450888>\n",
      "Removing #<ATOM :H291/:H @0x131575879> from #<RESIDUE :SUV @0x126450888>\n",
      "Removing #<ATOM :H292/:H @0x131575789> from #<RESIDUE :SUV @0x126450888>\n",
      "Removing #<ATOM :H24/:H @0x131575699> from #<RESIDUE :SUV @0x126450888>\n",
      "Removing #<ATOM :C20/:C @0x1315755a9> from #<RESIDUE :SUV @0x126450888>\n",
      "Removing #<ATOM :H293/:H @0x1315754b9> from #<RESIDUE :SUV @0x126450888>\n",
      "Removing #<ATOM :O4/:O @0x1315753c9> from #<RESIDUE :SUV @0x126450888>\n",
      "Removing #<ATOM :C6/:C @0x1315752d9> from #<RESIDUE :SUV @0x126450888>\n",
      "Removing #<ATOM :C6/:C @0x131539b49> from #<RESIDUE :SUV @0x126450888>\n",
      "Removing #<ATOM :H61/:H @0x1315751e9> from #<RESIDUE :SUV @0x126450888>\n",
      "Removing #<ATOM :H62/:H @0x1315750f9> from #<RESIDUE :SUV @0x126450888>\n",
      "Removing #<ATOM :H63/:H @0x131575009> from #<RESIDUE :SUV @0x126450888>\n",
      "Removing atoms (#<ATOM :H63/:H @0x13b6632d9> #<ATOM :H62/:H @0x13b6633c9>\n",
      " #<ATOM :H61/:H @0x13b6634b9> #<ATOM :C6/:C @0x13b6635a9>\n",
      " #<ATOM :O4/:O @0x13b663699> #<ATOM :H293/:H @0x13b663789>\n",
      " #<ATOM :C20/:C @0x13b663879> #<ATOM :H24/:H @0x13b663969>\n",
      " #<ATOM :H292/:H @0x13b663a59> #<ATOM :H291/:H @0x13b663b49>\n",
      " #<ATOM :C293/:C @0x13b663c39> #<ATOM :O29/:O @0x13b663d29>\n",
      " #<ATOM :H22/:H @0x13b663e19> #<ATOM :H21/:H @0x13b663f09>\n",
      " #<ATOM :C21/:C @0x13b661009> #<ATOM :C22/:C @0x13b6610f9>\n",
      " #<ATOM :C23/:C @0x13b6611e9> #<ATOM :C24/:C @0x13b6612d9>\n",
      " #<ATOM :CL6/:Cl @0x13b65fd29> #<ATOM :S1/:S @0x13b65ff09>)\n",
      "Removing #<ATOM :S1/:S @0x1315dac39> from #<RESIDUE :SUV @0x126450808>\n",
      "Removing #<ATOM :CL6/:Cl @0x1315daa59> from #<RESIDUE :SUV @0x126450808>\n",
      "Removing #<ATOM :C24/:C @0x1315de009> from #<RESIDUE :SUV @0x126450808>\n",
      "Removing #<ATOM :C23/:C @0x1315e6f09> from #<RESIDUE :SUV @0x126450808>\n",
      "Removing #<ATOM :C22/:C @0x1315e6e19> from #<RESIDUE :SUV @0x126450808>\n",
      "Removing #<ATOM :C21/:C @0x1315e6d29> from #<RESIDUE :SUV @0x126450808>\n",
      "Removing #<ATOM :H21/:H @0x1315e6c39> from #<RESIDUE :SUV @0x126450808>\n",
      "Removing #<ATOM :H22/:H @0x1315e6b49> from #<RESIDUE :SUV @0x126450808>\n",
      "Removing #<ATOM :O29/:O @0x1315e6a59> from #<RESIDUE :SUV @0x126450808>\n",
      "Removing #<ATOM :C293/:C @0x1315e6969> from #<RESIDUE :SUV @0x126450808>\n",
      "Removing #<ATOM :H291/:H @0x1315e6879> from #<RESIDUE :SUV @0x126450808>\n",
      "Removing #<ATOM :H292/:H @0x1315e6789> from #<RESIDUE :SUV @0x126450808>\n",
      "Removing #<ATOM :H24/:H @0x1315e6699> from #<RESIDUE :SUV @0x126450808>\n",
      "Removing #<ATOM :C20/:C @0x1315e65a9> from #<RESIDUE :SUV @0x126450808>\n",
      "Removing #<ATOM :H293/:H @0x1315e64b9> from #<RESIDUE :SUV @0x126450808>\n",
      "Removing #<ATOM :O4/:O @0x1315e63c9> from #<RESIDUE :SUV @0x126450808>\n",
      "Removing #<ATOM :C6/:C @0x1315e62d9> from #<RESIDUE :SUV @0x126450808>\n",
      "Removing #<ATOM :C6/:C @0x1315dab49> from #<RESIDUE :SUV @0x126450808>\n",
      "Removing #<ATOM :H61/:H @0x1315e61e9> from #<RESIDUE :SUV @0x126450808>\n",
      "Removing #<ATOM :H62/:H @0x1315e60f9> from #<RESIDUE :SUV @0x126450808>\n",
      "Removing #<ATOM :H63/:H @0x1315e6009> from #<RESIDUE :SUV @0x126450808>\n",
      "Removing atoms (#<ATOM :H63/:H @0x13b6632d9> #<ATOM :H62/:H @0x13b6633c9>\n",
      " #<ATOM :H61/:H @0x13b6634b9> #<ATOM :C6/:C @0x13b6635a9>\n",
      " #<ATOM :O4/:O @0x13b663699> #<ATOM :H293/:H @0x13b663789>\n",
      " #<ATOM :C20/:C @0x13b663879> #<ATOM :H24/:H @0x13b663969>\n",
      " #<ATOM :H292/:H @0x13b663a59> #<ATOM :H291/:H @0x13b663b49>\n",
      " #<ATOM :C293/:C @0x13b663c39> #<ATOM :O29/:O @0x13b663d29>\n",
      " #<ATOM :H22/:H @0x13b663e19> #<ATOM :H21/:H @0x13b663f09>\n",
      " #<ATOM :C21/:C @0x13b661009> #<ATOM :C22/:C @0x13b6610f9>\n",
      " #<ATOM :C23/:C @0x13b6611e9> #<ATOM :C24/:C @0x13b6612d9>\n",
      " #<ATOM :C19/:C @0x13b6613c9> #<ATOM :O2/:O @0x13b6614b9>\n",
      " #<ATOM :C17/:C @0x13b6615a9> #<ATOM :N3/:N @0x13b661699>\n",
      " #<ATOM :H122/:H @0x13b661789> #<ATOM :H121/:H @0x13b661879>\n",
      " #<ATOM :C12/:C @0x13b661969> #<ATOM :H112/:H @0x13b661a59>\n",
      " #<ATOM :H111/:H @0x13b661b49> #<ATOM :C11/:C @0x13b661c39>\n",
      " #<ATOM :H162/:H @0x13b661d29> #<ATOM :H161/:H @0x13b661e19>\n",
      " #<ATOM :H152/:H @0x13b661f09> #<ATOM :H151/:H @0x13b65f009>\n",
      " #<ATOM :H141/:H @0x13b65f0f9> #<ATOM :H14/:H @0x13b65f1e9>\n",
      " #<ATOM :C14/:C @0x13b65f2d9> #<ATOM :C15/:C @0x13b65f3c9>\n",
      " #<ATOM :C16/:C @0x13b65f4b9> #<ATOM :N1/:N @0x13b65f5a9>\n",
      " #<ATOM :C1/:C @0x13b65f699> #<ATOM :N2/:N @0x13b65f789>\n",
      " #<ATOM :CL6/:Cl @0x13b65fd29> #<ATOM :C6/:C @0x13b65fe19>\n",
      " #<ATOM :S1/:S @0x13b65ff09> #<ATOM :H7/:H @0x13b65e0f9>)\n",
      "Removing #<ATOM :H7/:H @0x131644e19> from #<RESIDUE :SUV @0x126450788>\n",
      "Removing #<ATOM :S1/:S @0x131644c39> from #<RESIDUE :SUV @0x126450788>\n",
      "Removing #<ATOM :C6/:C @0x1316492d9> from #<RESIDUE :SUV @0x126450788>\n",
      "Removing #<ATOM :C6/:C @0x131644b49> from #<RESIDUE :SUV @0x126450788>\n",
      "Removing #<ATOM :CL6/:Cl @0x131644a59> from #<RESIDUE :SUV @0x126450788>\n",
      "Removing #<ATOM :N2/:N @0x1316444b9> from #<RESIDUE :SUV @0x126450788>\n",
      "Removing #<ATOM :C1/:C @0x1316443c9> from #<RESIDUE :SUV @0x126450788>\n",
      "Removing #<ATOM :N1/:N @0x1316442d9> from #<RESIDUE :SUV @0x126450788>\n",
      "Removing #<ATOM :C16/:C @0x1316441e9> from #<RESIDUE :SUV @0x126450788>\n",
      "Removing #<ATOM :C15/:C @0x1316440f9> from #<RESIDUE :SUV @0x126450788>\n",
      "Removing #<ATOM :C14/:C @0x131644009> from #<RESIDUE :SUV @0x126450788>\n",
      "Removing #<ATOM :H14/:H @0x131647f09> from #<RESIDUE :SUV @0x126450788>\n",
      "Removing #<ATOM :H141/:H @0x131647e19> from #<RESIDUE :SUV @0x126450788>\n",
      "Removing #<ATOM :H151/:H @0x131647d29> from #<RESIDUE :SUV @0x126450788>\n",
      "Removing #<ATOM :H152/:H @0x131647c39> from #<RESIDUE :SUV @0x126450788>\n",
      "Removing #<ATOM :H161/:H @0x131647b49> from #<RESIDUE :SUV @0x126450788>\n",
      "Removing #<ATOM :H162/:H @0x131647a59> from #<RESIDUE :SUV @0x126450788>\n",
      "Removing #<ATOM :C11/:C @0x131647969> from #<RESIDUE :SUV @0x126450788>\n",
      "Removing #<ATOM :H111/:H @0x131647879> from #<RESIDUE :SUV @0x126450788>\n",
      "Removing #<ATOM :H112/:H @0x131647789> from #<RESIDUE :SUV @0x126450788>\n",
      "Removing #<ATOM :C12/:C @0x131647699> from #<RESIDUE :SUV @0x126450788>\n",
      "Removing #<ATOM :H121/:H @0x1316475a9> from #<RESIDUE :SUV @0x126450788>\n",
      "Removing #<ATOM :H122/:H @0x1316474b9> from #<RESIDUE :SUV @0x126450788>\n",
      "Removing #<ATOM :N3/:N @0x1316473c9> from #<RESIDUE :SUV @0x126450788>\n",
      "Removing #<ATOM :C17/:C @0x1316472d9> from #<RESIDUE :SUV @0x126450788>\n",
      "Removing #<ATOM :O2/:O @0x1316471e9> from #<RESIDUE :SUV @0x126450788>\n",
      "Removing #<ATOM :C19/:C @0x1316470f9> from #<RESIDUE :SUV @0x126450788>\n",
      "Removing #<ATOM :C24/:C @0x131647009> from #<RESIDUE :SUV @0x126450788>\n",
      "Removing #<ATOM :C23/:C @0x131649f09> from #<RESIDUE :SUV @0x126450788>\n",
      "Removing #<ATOM :C22/:C @0x131649e19> from #<RESIDUE :SUV @0x126450788>\n",
      "Removing #<ATOM :C21/:C @0x131649d29> from #<RESIDUE :SUV @0x126450788>\n",
      "Removing #<ATOM :H21/:H @0x131649c39> from #<RESIDUE :SUV @0x126450788>\n",
      "Removing #<ATOM :H22/:H @0x131649b49> from #<RESIDUE :SUV @0x126450788>\n",
      "Removing #<ATOM :O29/:O @0x131649a59> from #<RESIDUE :SUV @0x126450788>\n",
      "Removing #<ATOM :C293/:C @0x131649969> from #<RESIDUE :SUV @0x126450788>\n",
      "Removing #<ATOM :H291/:H @0x131649879> from #<RESIDUE :SUV @0x126450788>\n",
      "Removing #<ATOM :H292/:H @0x131649789> from #<RESIDUE :SUV @0x126450788>\n",
      "Removing #<ATOM :H24/:H @0x131649699> from #<RESIDUE :SUV @0x126450788>\n",
      "Removing #<ATOM :C20/:C @0x1316495a9> from #<RESIDUE :SUV @0x126450788>\n",
      "Removing #<ATOM :H293/:H @0x1316494b9> from #<RESIDUE :SUV @0x126450788>\n",
      "Removing #<ATOM :O4/:O @0x1316493c9> from #<RESIDUE :SUV @0x126450788>\n",
      "Removing #<ATOM :C6/:C @0x1316492d9> from #<RESIDUE :SUV @0x126450788>\n"
     ]
    },
    {
     "name": "stderr",
     "output_type": "stream",
     "text": [
      "\n",
      "An error occurred of type: SIMPLE-PROGRAM-ERROR: \n",
      "  Residue does not contain atom for removal\n",
      "\n",
      "serious-condition backtrace:\n",
      "0: (ERROR CORE:SIMPLE-PROGRAM-ERROR :FORMAT-CONTROL \"Residue does not contain atom for removal\" :FORMAT-ARGUMENTS NIL)\n",
      "1: (APPLY #<FUNCTION ERROR> CORE:SIMPLE-PROGRAM-ERROR :FORMAT-CONTROL \"Residue does not contain atom for removal\" :FORMAT-ARGUMENTS NIL NIL)\n",
      "2: (SIGNAL-SIMPLE-ERROR CORE:SIMPLE-PROGRAM-ERROR NIL \"Residue does not contain atom for removal\" NIL)\n",
      "3: (GENERATE-COMMON-SUB-MOLECULE #<MOLECULE NIL @0x13b645a28> (#<ATOM :H63/:H @0x13b6632d9> #<ATOM :H62/:H @0x13b6633c9> #<ATOM :H61/:H @0x13b6634b9> #<ATOM :C6/:C @0x13b6635a9> #<ATOM :O4/:O @0x13b663699> #<ATOM :H293/:H @0x13b663789> #<ATOM :C20/:C @0x13b663879> #<ATOM :H24/:H @0x13b663969> #<ATOM :H292/:H @0x13b663a59> #<ATOM :H291/:H @0x13b663b49> #<ATOM :C293/:C @0x13b663c39> #<ATOM :O29/:O @0x13b663d29> #<ATOM :H22/:H @0x13b663e19> #<ATOM :H21/:H @0x13b663f09> #<ATOM :C21/:C @0x13b661009> #<ATOM :C22/:C @0x13b6610f9> #<ATOM :C23/:C @0x13b6611e9> #<ATOM :C24/:C @0x13b6612d9> #<ATOM :C19/:C @0x13b6613c9> #<ATOM :O2/:O @0x13b6614b9> #<ATOM :C17/:C @0x13b6615a9> #<ATOM :N3/:N @0x13b661699> #<ATOM :H122/:H @0x13b661789> #<ATOM :H121/:H @0x13b661879> #<ATOM :C12/:C @0x13b661969> #<ATOM :H112/:H @0x13b661a59> #<ATOM :H111/:H @0x13b661b49> #<ATOM :C11/:C @0x13b661c39> #<ATOM :H162/:H @0x13b661d29> #<ATOM :H161/:H @0x13b661e19> #<ATOM :H152/:H @0x13b661f09> #<ATOM :H151/:H @0x13b65f009> #<ATOM :H141/:H @0x13b65f0f9> #<ATOM :H14/:H @0x13b65f1e9> #<ATOM :C14/:C @0x13b65f2d9> #<ATOM :C15/:C @0x13b65f3c9> #<ATOM :C16/:C @0x13b65f4b9> #<ATOM :N1/:N @0x13b65f5a9> #<ATOM :C1/:C @0x13b65f699> #<ATOM :N2/:N @0x13b65f789> #<ATOM :CL6/:Cl @0x13b65fd29> #<ATOM :C6/:C @0x13b65fe19> #<ATOM :S1/:S @0x13b65ff09> #<ATOM :H7/:H @0x13b65e0f9>))\n",
      "4: (MATCH-ALL-MOLECULES (#<MOLECULE NIL @0x13b645b48> #<MOLECULE NIL @0x13b645a28> #<MOLECULE NIL @0x13b645908> #<MOLECULE NIL @0x13b6457e8> #<MOLECULE NIL @0x13b6456c8> #<MOLECULE NIL @0x13b6455a8> #<MOLECULE NIL @0x13b645488> #<MOLECULE NIL @0x13b645368> #<MOLECULE NIL @0x13b645248> #<MOLECULE NIL @0x13b645128> #<MOLECULE NIL @0x13b645008> #<MOLECULE NIL @0x13b693ea8> #<MOLECULE NIL @0x13b693d88> #<MOLECULE NIL @0x13b693c68> #<MOLECULE NIL @0x13b693b48> #<MOLECULE NIL @0x13b693a28> #<MOLECULE NIL @0x13b693908> #<MOLECULE NIL @0x13b6937e8>))\n",
      "5: (LAMBDA)\n",
      "\n"
     ]
    },
    {
     "data": {
      "text/plain": [
       "NIL"
      ]
     },
     "execution_count": 28,
     "metadata": {},
     "output_type": "execute_result"
    }
   ],
   "source": [
    "(defparameter *c* (match-all-molecules *ligands*))"
   ]
  },
  {
   "cell_type": "code",
   "execution_count": 32,
   "metadata": {},
   "outputs": [
    {
     "data": {
      "text/plain": [
       "NIL"
      ]
     },
     "execution_count": 32,
     "metadata": {},
     "output_type": "execute_result"
    }
   ],
   "source": [
    "(dolist (m *ligands*) (chem:remove-molecule *merck* m))"
   ]
  },
  {
   "cell_type": "code",
   "execution_count": 33,
   "metadata": {},
   "outputs": [
    {
     "data": {
      "application/vnd.jupyter.widget-view+json": {
       "model_id": "84771186-0DA4-432F-9929-33DB1145252E",
       "version_major": 2,
       "version_minor": 0
      },
      "text/plain": [
       "#<NGLV:NGLWIDGET>"
      ]
     },
     "execution_count": 33,
     "metadata": {},
     "output_type": "execute_result"
    }
   ],
   "source": [
    "(show *merck*)"
   ]
  },
  {
   "cell_type": "code",
   "execution_count": 34,
   "metadata": {},
   "outputs": [
    {
     "data": {
      "text/plain": [
       "*MERCK0*"
      ]
     },
     "execution_count": 34,
     "metadata": {},
     "output_type": "execute_result"
    }
   ],
   "source": [
    "(defparameter *merck0* (combine *merck* (first *ligands*)))"
   ]
  },
  {
   "cell_type": "code",
   "execution_count": 35,
   "metadata": {},
   "outputs": [
    {
     "data": {
      "application/vnd.jupyter.widget-view+json": {
       "model_id": "45A98665-8720-4F64-80DE-5B32A716A296",
       "version_major": 2,
       "version_minor": 0
      },
      "text/plain": [
       "#<NGLV:NGLWIDGET>"
      ]
     },
     "execution_count": 35,
     "metadata": {},
     "output_type": "execute_result"
    }
   ],
   "source": [
    "(show *merck0*)"
   ]
  },
  {
   "cell_type": "code",
   "execution_count": 5,
   "metadata": {},
   "outputs": [
    {
     "name": "stderr",
     "output_type": "stream",
     "text": [
      "\n",
      "Undefined variable PA\n",
      "\n",
      "An error occurred of type: UNBOUND-VARIABLE: \n",
      "  The variable PA is unbound.\n",
      "\n",
      "serious-condition backtrace:\n",
      "0: (ERROR UNBOUND-VARIABLE :NAME PA)\n",
      "1: (LAMBDA)\n",
      "\n"
     ]
    },
    {
     "data": {
      "text/plain": [
       "NIL"
      ]
     },
     "execution_count": 5,
     "metadata": {},
     "output_type": "execute_result"
    }
   ],
   "source": [
    "(print PA)"
   ]
  },
  {
   "cell_type": "code",
   "execution_count": 15,
   "metadata": {},
   "outputs": [
    {
     "name": "stderr",
     "output_type": "stream",
     "text": [
      "\n",
      "Undefined function SEQUENCE\n",
      "\n",
      "An error occurred of type: UNDEFINED-FUNCTION: \n",
      "  The function SEQUENCE is undefined.\n",
      "\n",
      "serious-condition backtrace:\n",
      "0: (ERROR UNDEFINED-FUNCTION :NAME SEQUENCE)\n",
      "1: (LAMBDA)\n",
      "\n"
     ]
    },
    {
     "data": {
      "text/plain": [
       "NIL"
      ]
     },
     "execution_count": 15,
     "metadata": {},
     "output_type": "execute_result"
    }
   ],
   "source": [
    "(defparameter *p* (sequence PC PC))"
   ]
  },
  {
   "cell_type": "code",
   "execution_count": 16,
   "metadata": {},
   "outputs": [
    {
     "name": "stderr",
     "output_type": "stream",
     "text": [
      "Reader error: At\n",
      "\n",
      "  a = sequence { PC PC}\n",
      "              ^ (Line 1, Column 12, Position 12)\n",
      "\n",
      "In context ASSIGNMENT:\n",
      "\n",
      "While parsing FUNCTION-NAME. Problem:\n",
      "\n",
      "  The production\n",
      "\n",
      "  \"sequence\"\n",
      "\n",
      "does not satisfy the predicate LEAP.PARSER::FUNCTION-NAME-P.\n",
      "\n",
      "Expected:\n",
      "\n",
      "     a character in [a-z] or [A-Z] or [0-9] satisfying FUNCTION-NAME-P\n",
      "\n",
      "While parsing VARIABLE-NAME. Expected:\n",
      "\n",
      "     a character in [a-z] or [A-Z] or [0-9] or [/] or [~] or [.] or [_] (condition of type ESRAP-PARSE-ERROR)\n"
     ]
    },
    {
     "data": {
      "text/plain": [
       "NIL"
      ]
     },
     "execution_count": 16,
     "metadata": {},
     "output_type": "execute_result"
    }
   ],
   "source": [
    "a = sequence { PC PC}"
   ]
  },
  {
   "cell_type": "code",
   "execution_count": 16,
   "metadata": {},
   "outputs": [
    {
     "name": "stdout",
     "output_type": "stream",
     "text": [
      "Help is available on the following subjects: \n",
      "add                 addAtomTypes        addH                addIons             \n",
      "addIons2            addIonsRand         addPath             addPdbAtomMap       \n",
      "addPdbResMap        alignAxes           bond                cando               \n",
      "center              charge              compileSmarts       copy                \n",
      "createAtom          createResidue       createUnit          desc                \n",
      "dir                 help                listForceFields     loadAmberParams     \n",
      "loadChemDraw        loadChemDrawAggregateloadMol2            loadOff             \n",
      "loadPdb             loadSmirnoffParams  logFile             ls                  \n",
      "measureGeom         quit                saveAmberParms      setBox              \n",
      "setForceField       setupDefaultPaths   show                showPaths           \n",
      "solvateBox          solvateCap          solvateOct          solvateShell        \n",
      "source              startSwank          transform           translate           \n"
     ]
    },
    {
     "data": {
      "text/plain": [
       "((NIL))"
      ]
     },
     "execution_count": 16,
     "metadata": {},
     "output_type": "execute_result"
    }
   ],
   "source": [
    "help"
   ]
  },
  {
   "cell_type": "code",
   "execution_count": 18,
   "metadata": {},
   "outputs": [
    {
     "name": "stdout",
     "output_type": "stream",
     "text": [
      "#<TOPOLOGY  :name PC @0x12bb9b698>\n"
     ]
    },
    {
     "data": {
      "text/plain": [
       "((#<TOPOLOGY  :name PC @0x12bb9b698>))"
      ]
     },
     "execution_count": 18,
     "metadata": {},
     "output_type": "execute_result"
    }
   ],
   "source": [
    "desc PC"
   ]
  },
  {
   "cell_type": "code",
   "execution_count": null,
   "metadata": {},
   "outputs": [],
   "source": []
  }
 ],
 "metadata": {
  "kernelspec": {
   "display_name": "cando",
   "language": "lisp",
   "name": "cando"
  },
  "language_info": {
   "codemirror_mode": "text/x-common-lisp",
   "file_extension": ".lisp",
   "mimetype": "text/x-common-lisp",
   "name": "common-lisp",
   "pygments_lexer": "common-lisp",
   "version": "X3J13"
  }
 },
 "nbformat": 4,
 "nbformat_minor": 2
}
