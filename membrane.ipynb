{
 "cells": [
  {
   "cell_type": "code",
   "execution_count": 39,
   "metadata": {},
   "outputs": [
    {
     "name": "stdout",
     "output_type": "stream",
     "text": [
      "Swank is already running\n"
     ]
    },
    {
     "data": {
      "text/plain": [
       "NIL"
      ]
     },
     "execution_count": 39,
     "metadata": {},
     "output_type": "execute_result"
    }
   ],
   "source": [
    "startSwank 4009"
   ]
  },
  {
   "cell_type": "code",
   "execution_count": 40,
   "metadata": {},
   "outputs": [
    {
     "data": {
      "text/plain": [
       "#P\"/Users/meister/Development/membrane-packer/\""
      ]
     },
     "execution_count": 40,
     "metadata": {},
     "output_type": "execute_result"
    }
   ],
   "source": [
    "*default-pathname-defaults*"
   ]
  },
  {
   "cell_type": "code",
   "execution_count": 41,
   "metadata": {},
   "outputs": [
    {
     "data": {
      "text/plain": [
       "#<DEFINE-OP >"
      ]
     },
     "execution_count": 41,
     "metadata": {},
     "output_type": "execute_result"
    }
   ],
   "source": [
    "(asdf:load-asd (merge-pathnames \"membrane-packer.asd\"))"
   ]
  },
  {
   "cell_type": "code",
   "execution_count": 42,
   "metadata": {},
   "outputs": [
    {
     "name": "stdout",
     "output_type": "stream",
     "text": [
      "To load \"membrane-packer\":\n",
      "  Load 1 ASDF system:\n",
      "    membrane-packer\n",
      "\n",
      "; Loading \"membrane-packer\"\n",
      "\n"
     ]
    },
    {
     "data": {
      "text/plain": [
       "(\"membrane-packer\")"
      ]
     },
     "execution_count": 42,
     "metadata": {},
     "output_type": "execute_result"
    }
   ],
   "source": [
    "quickload \"membrane-packer\""
   ]
  },
  {
   "cell_type": "markdown",
   "metadata": {},
   "source": [
    "## The following parameter defines the density of the lipids.  \n",
    "## I read somewhere that 0.0098 is the optimal density.\n",
    "## Lower density values like 0.008 should decrease the collisions and make fitting things easier.\n",
    "## If you change the value below - you need to evaluate everything that follows."
   ]
  },
  {
   "cell_type": "code",
   "execution_count": 43,
   "metadata": {},
   "outputs": [
    {
     "data": {
      "text/plain": [
       "MEMBRANE-PACKER::*LIPID-DENSITY*"
      ]
     },
     "execution_count": 43,
     "metadata": {},
     "output_type": "execute_result"
    }
   ],
   "source": [
    "(defparameter membrane-packer::*lipid-density* 0.0070) ; 0.0098)"
   ]
  },
  {
   "cell_type": "code",
   "execution_count": 44,
   "metadata": {},
   "outputs": [
    {
     "data": {
      "text/plain": [
       "#<FORCE-FIELD >"
      ]
     },
     "execution_count": 44,
     "metadata": {},
     "output_type": "execute_result"
    }
   ],
   "source": [
    "(membrane-packer::setup-system-membrane-force-field)"
   ]
  },
  {
   "cell_type": "code",
   "execution_count": 45,
   "metadata": {},
   "outputs": [
    {
     "name": "stdout",
     "output_type": "stream",
     "text": [
      ":DEFAULT (#<FORCE-FIELD gaff.dat> #<FORCE-FIELD frcmod.ions234lm_126_tip3p>\n",
      " #<FORCE-FIELD frcmod.ionsjc_tip3p> #<FORCE-FIELD frcmod.tip3p>\n",
      " #<FORCE-FIELD lipid14.dat> #<FORCE-FIELD frcmod.ff14SB>\n",
      " #<FORCE-FIELD parm10.dat> #<FORCE-FIELD >)\n",
      ":SYSTEM-MEMBRANE (#<FORCE-FIELD > #<FORCE-FIELD >)\n"
     ]
    },
    {
     "data": {
      "text/plain": [
       "NIL"
      ]
     },
     "execution_count": 45,
     "metadata": {},
     "output_type": "execute_result"
    }
   ],
   "source": [
    "(list-force-fields)"
   ]
  },
  {
   "cell_type": "code",
   "execution_count": 46,
   "metadata": {},
   "outputs": [
    {
     "data": {
      "text/plain": [
       "(#P\"/Users/meister/Development/amber18/dat/antechamber/\"\n",
       " #P\"/Users/meister/Development/amber18/dat/leap/cmd/\"\n",
       " #P\"/Users/meister/Development/amber18/dat/leap/parm/\"\n",
       " #P\"/Users/meister/Development/amber18/dat/leap/lib/\"\n",
       " #P\"/Users/meister/Development/amber18/dat/leap/prep/\")"
      ]
     },
     "execution_count": 46,
     "metadata": {},
     "output_type": "execute_result"
    }
   ],
   "source": [
    "setupAmberPaths"
   ]
  },
  {
   "cell_type": "code",
   "execution_count": 47,
   "metadata": {},
   "outputs": [
    {
     "name": "stdout",
     "output_type": "stream",
     "text": [
      "Warning!  Skipping 10-12 hbond in #<IOSTREAM-STREAM #P\"/Users/meister/Development/amber18/dat/leap/parm/parm10.dat\" file-pos 56064>\n",
      "Warning!  Skipping force field atom equivalences in #<IOSTREAM-STREAM #P\"/Users/meister/Development/amber18/dat/leap/parm/parm10.dat\" file-pos 56146>\n",
      "Adding force field parm10.dat to DEFAULT\n",
      "Adding force field frcmod.ff14SB to DEFAULT\n"
     ]
    },
    {
     "data": {
      "text/plain": [
       "T"
      ]
     },
     "execution_count": 47,
     "metadata": {},
     "output_type": "execute_result"
    }
   ],
   "source": [
    "source \"leaprc.protein.ff14SB\""
   ]
  },
  {
   "cell_type": "code",
   "execution_count": 48,
   "metadata": {},
   "outputs": [
    {
     "name": "stdout",
     "output_type": "stream",
     "text": [
      "Warning!  Skipping 10-12 hbond in #<IOSTREAM-STREAM #P\"/Users/meister/Development/amber18/dat/leap/parm/lipid14.dat\" file-pos 19299>\n",
      "Warning!  Skipping force field atom equivalences in #<IOSTREAM-STREAM #P\"/Users/meister/Development/amber18/dat/leap/parm/lipid14.dat\" file-pos 19407>\n",
      "Adding force field lipid14.dat to DEFAULT\n"
     ]
    },
    {
     "data": {
      "text/plain": [
       "T"
      ]
     },
     "execution_count": 48,
     "metadata": {},
     "output_type": "execute_result"
    }
   ],
   "source": [
    "source \"leaprc.lipid14\""
   ]
  },
  {
   "cell_type": "code",
   "execution_count": 49,
   "metadata": {},
   "outputs": [
    {
     "name": "stdout",
     "output_type": "stream",
     "text": [
      "Adding force field frcmod.tip3p to DEFAULT\n",
      "Adding force field frcmod.ionsjc_tip3p to DEFAULT\n",
      "Adding force field frcmod.ions234lm_126_tip3p to DEFAULT\n"
     ]
    },
    {
     "data": {
      "text/plain": [
       "T"
      ]
     },
     "execution_count": 49,
     "metadata": {},
     "output_type": "execute_result"
    }
   ],
   "source": [
    "source \"leaprc.water.tip3p\""
   ]
  },
  {
   "cell_type": "code",
   "execution_count": 50,
   "metadata": {},
   "outputs": [
    {
     "name": "stdout",
     "output_type": "stream",
     "text": [
      "Warning!  Skipping 10-12 hbond in #<IOSTREAM-STREAM #P\"/Users/meister/Development/amber18/dat/leap/parm/gaff.dat\" file-pos 477637>\n",
      "Warning!  Skipping force field atom equivalences in #<IOSTREAM-STREAM #P\"/Users/meister/Development/amber18/dat/leap/parm/gaff.dat\" file-pos 477719>\n",
      "Adding force field gaff.dat to DEFAULT\n"
     ]
    },
    {
     "data": {
      "text/plain": [
       "T"
      ]
     },
     "execution_count": 50,
     "metadata": {},
     "output_type": "execute_result"
    }
   ],
   "source": [
    "source \"leaprc.gaff\""
   ]
  },
  {
   "cell_type": "code",
   "execution_count": 51,
   "metadata": {},
   "outputs": [
    {
     "data": {
      "text/plain": [
       "#<AGGREGATE NIL 0>"
      ]
     },
     "execution_count": 51,
     "metadata": {},
     "output_type": "execute_result"
    }
   ],
   "source": [
    "prot = loadMoe data/merck_suvorexant_derivatives.moe"
   ]
  },
  {
   "cell_type": "code",
   "execution_count": 52,
   "metadata": {},
   "outputs": [
    {
     "data": {
      "application/vnd.jupyter.widget-view+json": {
       "model_id": "E25AFAB7-811D-4AB1-B88A-562B9E8F52AC",
       "version_major": 2,
       "version_minor": 0
      },
      "text/plain": [
       "#<NGLV:NGLWIDGET>"
      ]
     },
     "execution_count": 52,
     "metadata": {},
     "output_type": "execute_result"
    }
   ],
   "source": [
    "show prot"
   ]
  },
  {
   "cell_type": "code",
   "execution_count": 53,
   "metadata": {},
   "outputs": [
    {
     "data": {
      "text/plain": [
       "(#<MOLECULE NIL 3> #<MOLECULE NIL 4> #<MOLECULE NIL 5> #<MOLECULE NIL 6>\n",
       " #<MOLECULE NIL 7> #<MOLECULE NIL 8> #<MOLECULE NIL 9> #<MOLECULE NIL 10>\n",
       " #<MOLECULE NIL 11> #<MOLECULE NIL 12> #<MOLECULE NIL 13> #<MOLECULE NIL 14>\n",
       " #<MOLECULE NIL 15> #<MOLECULE NIL 16> #<MOLECULE NIL 17> #<MOLECULE NIL 18>\n",
       " #<MOLECULE NIL 19> #<MOLECULE NIL 20>)"
      ]
     },
     "execution_count": 53,
     "metadata": {},
     "output_type": "execute_result"
    }
   ],
   "source": [
    "ligands = (loop for index from 3 to 20 collect (removeMatter prot (molid prot index)))"
   ]
  },
  {
   "cell_type": "code",
   "execution_count": 54,
   "metadata": {},
   "outputs": [
    {
     "name": "stdout",
     "output_type": "stream",
     "text": [
      "Describing (#<MOLECULE NIL 3> #<MOLECULE NIL 4> #<MOLECULE NIL 5> #<MOLECULE NIL 6>\n",
      " #<MOLECULE NIL 7> #<MOLECULE NIL 8> #<MOLECULE NIL 9> #<MOLECULE NIL 10>\n",
      " #<MOLECULE NIL 11> #<MOLECULE NIL 12> #<MOLECULE NIL 13> #<MOLECULE NIL 14>\n",
      " #<MOLECULE NIL 15> #<MOLECULE NIL 16> #<MOLECULE NIL 17> #<MOLECULE NIL 18>\n",
      " #<MOLECULE NIL 19> #<MOLECULE NIL 20>)\n",
      "\n",
      "\n",
      "(#<MOLECULE NIL 3> #<MOLECULE NIL 4> #<MOLECULE NIL 5> #<MOLECULE NIL 6>\n",
      " #<MOLECULE NIL 7> #<MOLECULE NIL 8> #<MOLECULE NIL 9> #<MOLECULE NIL 10>\n",
      " #<MOLECULE NIL 11> #<MOLECULE NIL 12> #<MOLECULE NIL 13> #<MOLECULE NIL 14>\n",
      " #<MOLECULE NIL 15> #<MOLECULE NIL 16> #<MOLECULE NIL 17> #<MOLECULE NIL 18>\n",
      " #<MOLECULE NIL 19> #<MOLECULE NIL 20>) - cons\n"
     ]
    },
    {
     "data": {
      "text/plain": [
       "NIL"
      ]
     },
     "execution_count": 54,
     "metadata": {},
     "output_type": "execute_result"
    }
   ],
   "source": [
    "desc ligands"
   ]
  },
  {
   "cell_type": "code",
   "execution_count": 55,
   "metadata": {},
   "outputs": [
    {
     "name": "stdout",
     "output_type": "stream",
     "text": [
      "Missing-h NIL\n"
     ]
    },
    {
     "data": {
      "text/plain": [
       "#<SKETCH2D:SKETCH2D>"
      ]
     },
     "execution_count": 55,
     "metadata": {},
     "output_type": "execute_result"
    }
   ],
   "source": [
    "foo = (sketch2d:sketch2d (fourth ligands) :accumulate-coordinates t)"
   ]
  },
  {
   "cell_type": "code",
   "execution_count": 56,
   "metadata": {},
   "outputs": [
    {
     "data": {
      "application/vnd.jupyter.widget-view+json": {
       "model_id": "8ECFD610-5ABE-4A52-8753-29EA89D9ED43",
       "version_major": 2,
       "version_minor": 0
      },
      "text/plain": [
       "#<NGLV:NGLWIDGET>"
      ]
     },
     "execution_count": 56,
     "metadata": {},
     "output_type": "execute_result"
    }
   ],
   "source": [
    "(show (sketch2d::dynamics foo))"
   ]
  },
  {
   "cell_type": "code",
   "execution_count": 57,
   "metadata": {},
   "outputs": [
    {
     "name": "stdout",
     "output_type": "stream",
     "text": [
      "Missing-h NIL\n"
     ]
    },
    {
     "data": {
      "image/svg+xml": [
       "<?xml version=\"1.0\" standalone=\"no\"?>\n",
       "<svg viewport=\"0 0 433 209\" height=\"209\" width=\"433\" version=\"1.2\" id=\"\"\n",
       "    xmlns=\"http://www.w3.org/2000/svg\"\n",
       "    xmlns:xlink=\"http://www.w3.org/1999/xlink\">\n",
       "  <line x1=\"249.83\" y1=\"39.30\" x2=\"256.83\" y2=\"61.31\" fill=\"none\"\n",
       "        stroke=\"black\" stroke-width=\"2\" stroke-linecap=\"round\"/>\n",
       "  <line x1=\"268.52\" y1=\"70.60\" x2=\"291.09\" y2=\"72.38\" fill=\"none\"\n",
       "        stroke=\"black\" stroke-width=\"2\" stroke-linecap=\"round\"/>\n",
       "  <line x1=\"291.09\" y1=\"72.38\" x2=\"306.77\" y2=\"43.60\" fill=\"none\"\n",
       "        stroke=\"black\" stroke-width=\"2\" stroke-linecap=\"round\"/>\n",
       "  <line x1=\"291.09\" y1=\"72.38\" x2=\"305.74\" y2=\"98.35\" fill=\"none\"\n",
       "        stroke=\"black\" stroke-width=\"2\" stroke-linecap=\"round\"/>\n",
       "  <line x1=\"297.41\" y1=\"73.41\" x2=\"308.13\" y2=\"92.41\" fill=\"none\"\n",
       "        stroke=\"black\" stroke-width=\"2\" stroke-linecap=\"round\"/>\n",
       "  <line x1=\"396.48\" y1=\"45.07\" x2=\"386.99\" y2=\"67.56\" fill=\"none\"\n",
       "        stroke=\"black\" stroke-width=\"2\" stroke-linecap=\"round\"/>\n",
       "  <line x1=\"374.51\" y1=\"75.39\" x2=\"351.54\" y2=\"74.20\" fill=\"none\"\n",
       "        stroke=\"black\" stroke-width=\"2\" stroke-linecap=\"round\"/>\n",
       "  <line x1=\"306.77\" y1=\"43.60\" x2=\"338.43\" y2=\"45.85\" fill=\"none\"\n",
       "        stroke=\"black\" stroke-width=\"2\" stroke-linecap=\"round\"/>\n",
       "  <line x1=\"310.41\" y1=\"48.87\" x2=\"334.08\" y2=\"50.55\" fill=\"none\"\n",
       "        stroke=\"black\" stroke-width=\"2\" stroke-linecap=\"round\"/>\n",
       "  <line x1=\"338.43\" y1=\"45.85\" x2=\"351.54\" y2=\"74.20\" fill=\"none\"\n",
       "        stroke=\"black\" stroke-width=\"2\" stroke-linecap=\"round\"/>\n",
       "  <line x1=\"336.51\" y1=\"101.44\" x2=\"351.54\" y2=\"74.20\" fill=\"none\"\n",
       "        stroke=\"black\" stroke-width=\"2\" stroke-linecap=\"round\"/>\n",
       "  <line x1=\"334.07\" y1=\"95.52\" x2=\"345.23\" y2=\"75.28\" fill=\"none\"\n",
       "        stroke=\"black\" stroke-width=\"2\" stroke-linecap=\"round\"/>\n",
       "  <line x1=\"336.51\" y1=\"101.44\" x2=\"305.74\" y2=\"98.35\" fill=\"none\"\n",
       "        stroke=\"black\" stroke-width=\"2\" stroke-linecap=\"round\"/>\n",
       "  <line x1=\"305.74\" y1=\"98.35\" x2=\"288.99\" y2=\"127.04\" fill=\"none\"\n",
       "        stroke=\"black\" stroke-width=\"2\" stroke-linecap=\"round\"/>\n",
       "  <line x1=\"297.97\" y1=\"146.36\" x2=\"286.86\" y2=\"128.36\" fill=\"none\"\n",
       "        stroke=\"black\" stroke-width=\"2\" stroke-linecap=\"round\"/>\n",
       "  <line x1=\"302.22\" y1=\"143.73\" x2=\"291.12\" y2=\"125.73\" fill=\"none\"\n",
       "        stroke=\"black\" stroke-width=\"2\" stroke-linecap=\"round\"/>\n",
       "  <line x1=\"288.99\" y1=\"127.04\" x2=\"267.05\" y2=\"126.39\" fill=\"none\"\n",
       "        stroke=\"black\" stroke-width=\"2\" stroke-linecap=\"round\"/>\n",
       "  <line x1=\"254.02\" y1=\"118.07\" x2=\"244.35\" y2=\"98.79\" fill=\"none\"\n",
       "        stroke=\"black\" stroke-width=\"2\" stroke-linecap=\"round\"/>\n",
       "  <line x1=\"244.35\" y1=\"98.79\" x2=\"213.07\" y2=\"92.72\" fill=\"none\"\n",
       "        stroke=\"black\" stroke-width=\"2\" stroke-linecap=\"round\"/>\n",
       "  <line x1=\"246.54\" y1=\"155.72\" x2=\"254.79\" y2=\"134.51\" fill=\"none\"\n",
       "        stroke=\"black\" stroke-width=\"2\" stroke-linecap=\"round\"/>\n",
       "  <line x1=\"246.54\" y1=\"155.72\" x2=\"215.57\" y2=\"163.92\" fill=\"none\"\n",
       "        stroke=\"black\" stroke-width=\"2\" stroke-linecap=\"round\"/>\n",
       "  <line x1=\"215.57\" y1=\"163.92\" x2=\"190.73\" y2=\"145.60\" fill=\"none\"\n",
       "        stroke=\"black\" stroke-width=\"2\" stroke-linecap=\"round\"/>\n",
       "  <line x1=\"190.73\" y1=\"145.60\" x2=\"191.29\" y2=\"122.06\" fill=\"none\"\n",
       "        stroke=\"black\" stroke-width=\"2\" stroke-linecap=\"round\"/>\n",
       "  <line x1=\"198.05\" y1=\"106.89\" x2=\"213.07\" y2=\"92.72\" fill=\"none\"\n",
       "        stroke=\"black\" stroke-width=\"2\" stroke-linecap=\"round\"/>\n",
       "  <line x1=\"161.61\" y1=\"101.11\" x2=\"183.15\" y2=\"109.72\" fill=\"none\"\n",
       "        stroke=\"black\" stroke-width=\"2\" stroke-linecap=\"round\"/>\n",
       "  <line x1=\"161.61\" y1=\"101.11\" x2=\"158.21\" y2=\"78.49\" fill=\"none\"\n",
       "        stroke=\"black\" stroke-width=\"2\" stroke-linecap=\"round\"/>\n",
       "  <line x1=\"156.07\" y1=\"97.89\" x2=\"153.27\" y2=\"79.23\" fill=\"none\"\n",
       "        stroke=\"black\" stroke-width=\"2\" stroke-linecap=\"round\"/>\n",
       "  <line x1=\"161.61\" y1=\"101.11\" x2=\"143.11\" y2=\"113.58\" fill=\"none\"\n",
       "        stroke=\"black\" stroke-width=\"2\" stroke-linecap=\"round\"/>\n",
       "  <line x1=\"147.89\" y1=\"69.04\" x2=\"125.05\" y2=\"67.63\" fill=\"none\"\n",
       "        stroke=\"black\" stroke-width=\"2\" stroke-linecap=\"round\"/>\n",
       "  <line x1=\"125.05\" y1=\"67.63\" x2=\"107.75\" y2=\"42.15\" fill=\"none\"\n",
       "        stroke=\"black\" stroke-width=\"2\" stroke-linecap=\"round\"/>\n",
       "  <line x1=\"125.05\" y1=\"67.63\" x2=\"112.66\" y2=\"96.64\" fill=\"none\"\n",
       "        stroke=\"black\" stroke-width=\"2\" stroke-linecap=\"round\"/>\n",
       "  <line x1=\"128.08\" y1=\"73.27\" x2=\"118.83\" y2=\"94.92\" fill=\"none\"\n",
       "        stroke=\"black\" stroke-width=\"2\" stroke-linecap=\"round\"/>\n",
       "  <line x1=\"107.75\" y1=\"42.15\" x2=\"75.95\" y2=\"47.80\" fill=\"none\" stroke=\"black\"\n",
       "        stroke-width=\"2\" stroke-linecap=\"round\"/>\n",
       "  <line x1=\"104.69\" y1=\"47.77\" x2=\"80.77\" y2=\"52.02\" fill=\"none\" stroke=\"black\"\n",
       "        stroke-width=\"2\" stroke-linecap=\"round\"/>\n",
       "  <line x1=\"75.95\" y1=\"47.80\" x2=\"64.75\" y2=\"74.51\" fill=\"none\" stroke=\"black\"\n",
       "        stroke-width=\"2\" stroke-linecap=\"round\"/>\n",
       "  <line x1=\"64.75\" y1=\"74.51\" x2=\"81.43\" y2=\"100.90\" fill=\"none\" stroke=\"black\"\n",
       "        stroke-width=\"2\" stroke-linecap=\"round\"/>\n",
       "  <line x1=\"71.12\" y1=\"75.22\" x2=\"83.52\" y2=\"94.85\" fill=\"none\" stroke=\"black\"\n",
       "        stroke-width=\"2\" stroke-linecap=\"round\"/>\n",
       "  <line x1=\"129.14\" y1=\"112.39\" x2=\"112.66\" y2=\"96.64\" fill=\"none\"\n",
       "        stroke=\"black\" stroke-width=\"2\" stroke-linecap=\"round\"/>\n",
       "  <line x1=\"112.66\" y1=\"96.64\" x2=\"81.43\" y2=\"100.90\" fill=\"none\"\n",
       "        stroke=\"black\" stroke-width=\"2\" stroke-linecap=\"round\"/>\n",
       "  <text x=\"191.50\" y=\"115.06\" text-anchor=\"middle\" alignment-baseline=\"middle\">\n",
       "    N\n",
       "  </text>\n",
       "  <text x=\"156.87\" y=\"71.59\" text-anchor=\"middle\" alignment-baseline=\"middle\">\n",
       "    N\n",
       "  </text>\n",
       "  <text x=\"259.55\" y=\"71.89\" text-anchor=\"middle\" alignment-baseline=\"middle\">\n",
       "    O\n",
       "  </text>\n",
       "  <text x=\"135.65\" y=\"120.61\" text-anchor=\"middle\" alignment-baseline=\"middle\">\n",
       "    O\n",
       "  </text>\n",
       "  <text x=\"304.82\" y=\"154.70\" text-anchor=\"middle\" alignment-baseline=\"middle\">\n",
       "    O\n",
       "  </text>\n",
       "  <text x=\"383.49\" y=\"77.85\" text-anchor=\"middle\" alignment-baseline=\"middle\">\n",
       "    O\n",
       "  </text>\n",
       "  <text x=\"258.05\" y=\"128.12\" text-anchor=\"middle\" alignment-baseline=\"middle\">\n",
       "    N\n",
       "  </text>\n",
       "</svg>\n"
      ],
      "text/plain": [
       "#<CL-JUPYTER-USER::SVG-STR>"
      ]
     },
     "execution_count": 57,
     "metadata": {},
     "output_type": "execute_result"
    }
   ],
   "source": [
    "show (sketch2d:sketch2d (fourth ligands))"
   ]
  },
  {
   "cell_type": "code",
   "execution_count": 58,
   "metadata": {},
   "outputs": [
    {
     "name": "stdout",
     "output_type": "stream",
     "text": [
      "Describing #<AGGREGATE NIL 0>\n",
      "\n",
      "\n",
      "#<MOLECULE NIL 1> 3356 atoms\n",
      "#<MOLECULE NIL 2> 1479 atoms\n",
      "\n"
     ]
    },
    {
     "data": {
      "text/plain": [
       "NIL"
      ]
     },
     "execution_count": 58,
     "metadata": {},
     "output_type": "execute_result"
    }
   ],
   "source": [
    "desc prot"
   ]
  },
  {
   "cell_type": "code",
   "execution_count": 59,
   "metadata": {},
   "outputs": [
    {
     "name": "stdout",
     "output_type": "stream",
     "text": [
      "setting #<RESIDUE :PRO 1>  property: :NAME  value: :NPRO\n",
      "setting #<RESIDUE :GLN 205>  property: :NAME  value: :CGLN\n",
      "setting #<RESIDUE :LYS 206>  property: :NAME  value: :NLYS\n",
      "setting #<RESIDUE :CYS 293>  property: :NAME  value: :CCYS\n"
     ]
    },
    {
     "data": {
      "text/plain": [
       "NIL"
      ]
     },
     "execution_count": 59,
     "metadata": {},
     "output_type": "execute_result"
    }
   ],
   "source": [
    "set prot/1.1 name :NPRO\n",
    "set prot/1.205 name :CGLN\n",
    "set prot/2.206 name :NLYS\n",
    "set prot/2.293 name :CCYS"
   ]
  },
  {
   "cell_type": "code",
   "execution_count": 60,
   "metadata": {},
   "outputs": [
    {
     "name": "stdout",
     "output_type": "stream",
     "text": [
      "Assigned 4835 types of a total of 4835 atoms.\n"
     ]
    },
    {
     "data": {
      "text/plain": [
       "NIL"
      ]
     },
     "execution_count": 60,
     "metadata": {},
     "output_type": "execute_result"
    }
   ],
   "source": [
    "assignAtomTypes prot"
   ]
  },
  {
   "cell_type": "code",
   "execution_count": 61,
   "metadata": {},
   "outputs": [
    {
     "data": {
      "text/plain": [
       "NIL"
      ]
     },
     "execution_count": 61,
     "metadata": {},
     "output_type": "execute_result"
    }
   ],
   "source": [
    "(move-geometric-center-to-origin prot)"
   ]
  },
  {
   "cell_type": "code",
   "execution_count": 62,
   "metadata": {},
   "outputs": [
    {
     "data": {
      "application/vnd.jupyter.widget-view+json": {
       "model_id": "3AB61A12-41F8-4E9A-B4E0-49D67A09A045",
       "version_major": 2,
       "version_minor": 0
      },
      "text/plain": [
       "#<NGLV:NGLWIDGET>"
      ]
     },
     "execution_count": 62,
     "metadata": {},
     "output_type": "execute_result"
    }
   ],
   "source": [
    "(show prot :axes t)"
   ]
  },
  {
   "cell_type": "markdown",
   "metadata": {},
   "source": [
    "# Test membrane crossing"
   ]
  },
  {
   "cell_type": "code",
   "execution_count": 63,
   "metadata": {},
   "outputs": [
    {
     "data": {
      "text/plain": [
       "74168"
      ]
     },
     "execution_count": 63,
     "metadata": {},
     "output_type": "execute_result"
    }
   ],
   "source": [
    "(core:getpid)"
   ]
  },
  {
   "cell_type": "markdown",
   "metadata": {},
   "source": [
    "Create a membrane"
   ]
  },
  {
   "cell_type": "code",
   "execution_count": 64,
   "metadata": {},
   "outputs": [
    {
     "name": "stdout",
     "output_type": "stream",
     "text": [
      "There are 41 top-lipids\n",
      "one-lipid-area -> 84.94865912127118d0  lipid-area -> 5819.5\n",
      "    there should be 62\n",
      "Adding solute 73 #collisions 2\n",
      "Adding solute 37 #collisions 2\n",
      "Adding solute 59 #collisions 6\n",
      "Adding solute 91 #collisions 8\n",
      "Adding solute 53 #collisions 36\n",
      "Adding solute 51 #collisions 158\n",
      "Adding solute 47 #collisions 364\n",
      "Adding solute 65 #collisions 404\n",
      "Adding solute 61 #collisions 462\n",
      "Adding solute 49 #collisions 510\n",
      "Adding solute 63 #collisions 518\n",
      "Adding solute 77 #collisions 566\n",
      "Adding solute 67 #collisions 566\n",
      "Adding solute 79 #collisions 572\n",
      "Adding solute 75 #collisions 582\n",
      "There are 41 bottom-lipids\n",
      "one-lipid-area -> 84.94865912127118d0  lipid-area -> 5921.25\n",
      "    there should be 63\n",
      "Adding solute 38 #collisions 4\n",
      "Adding solute 34 #collisions 10\n",
      "Adding solute 92 #collisions 34\n",
      "Adding solute 82 #collisions 90\n",
      "Adding solute 62 #collisions 132\n",
      "Adding solute 36 #collisions 192\n",
      "Adding solute 52 #collisions 232\n",
      "Adding solute 68 #collisions 316\n",
      "Adding solute 78 #collisions 464\n",
      "Adding solute 66 #collisions 554\n",
      "Adding solute 80 #collisions 564\n",
      "Adding solute 76 #collisions 568\n",
      "Adding solute 48 #collisions 630\n",
      "Adding solute 50 #collisions 634\n",
      "Adding solute 64 #collisions 714\n"
     ]
    },
    {
     "data": {
      "text/plain": [
       "#<MEMBRANE-PACKER::GA-MEMBRANE>"
      ]
     },
     "execution_count": 64,
     "metadata": {},
     "output_type": "execute_result"
    }
   ],
   "source": [
    "memb = (membrane-packer:build-ga-membrane prot)"
   ]
  },
  {
   "cell_type": "markdown",
   "metadata": {},
   "source": [
    "Treat the lipids like large 5.2A radius spheres and optimize their placement in both membrane leaves."
   ]
  },
  {
   "cell_type": "code",
   "execution_count": 65,
   "metadata": {},
   "outputs": [
    {
     "data": {
      "text/plain": [
       "(:TOP :BOTTOM)"
      ]
     },
     "execution_count": 65,
     "metadata": {},
     "output_type": "execute_result"
    }
   ],
   "source": [
    "(membrane-packer::optimize-lipid-placement memb)"
   ]
  },
  {
   "cell_type": "code",
   "execution_count": 66,
   "metadata": {},
   "outputs": [
    {
     "data": {
      "text/plain": [
       "#<AGGREGATE NIL 0>"
      ]
     },
     "execution_count": 66,
     "metadata": {},
     "output_type": "execute_result"
    }
   ],
   "source": [
    "agg = (membrane-packer::build-aggregate-from-ga-membrane memb)"
   ]
  },
  {
   "cell_type": "code",
   "execution_count": 68,
   "metadata": {},
   "outputs": [
    {
     "data": {
      "application/vnd.jupyter.widget-view+json": {
       "model_id": "2DEA208A-C6B9-4456-A62B-DED5C3F60B26",
       "version_major": 2,
       "version_minor": 0
      },
      "text/plain": [
       "#<NGLV:NGLWIDGET>"
      ]
     },
     "execution_count": 68,
     "metadata": {},
     "output_type": "execute_result"
    }
   ],
   "source": [
    "v = show agg"
   ]
  },
  {
   "cell_type": "code",
   "execution_count": 72,
   "metadata": {},
   "outputs": [
    {
     "data": {
      "text/plain": [
       "T"
      ]
     },
     "execution_count": 72,
     "metadata": {},
     "output_type": "execute_result"
    }
   ],
   "source": [
    "(membrane-packer:add-lipid-spheres-as-shape v memb)"
   ]
  },
  {
   "cell_type": "code",
   "execution_count": 73,
   "metadata": {},
   "outputs": [
    {
     "data": {
      "application/vnd.jupyter.widget-view+json": {
       "model_id": "112027FB-03D7-45B7-81C7-982968D5F116",
       "version_major": 2,
       "version_minor": 0
      },
      "text/plain": [
       "#<NGLV:NGLWIDGET>"
      ]
     },
     "execution_count": 73,
     "metadata": {},
     "output_type": "execute_result"
    }
   ],
   "source": [
    "v1 = show prot"
   ]
  },
  {
   "cell_type": "code",
   "execution_count": 74,
   "metadata": {},
   "outputs": [
    {
     "data": {
      "text/plain": [
       "T"
      ]
     },
     "execution_count": 74,
     "metadata": {},
     "output_type": "execute_result"
    }
   ],
   "source": [
    "(membrane-packer:add-lipid-spheres-as-shape v1 memb)"
   ]
  },
  {
   "cell_type": "markdown",
   "metadata": {},
   "source": [
    "Build a population of the membranes with the lipids in different conformations"
   ]
  },
  {
   "cell_type": "code",
   "execution_count": 30,
   "metadata": {},
   "outputs": [
    {
     "data": {
      "text/plain": [
       "(#<MEMBRANE-PACKER::GA-MEMBRANE> #<MEMBRANE-PACKER::GA-MEMBRANE>\n",
       " #<MEMBRANE-PACKER::GA-MEMBRANE> #<MEMBRANE-PACKER::GA-MEMBRANE>\n",
       " #<MEMBRANE-PACKER::GA-MEMBRANE> #<MEMBRANE-PACKER::GA-MEMBRANE>\n",
       " #<MEMBRANE-PACKER::GA-MEMBRANE> #<MEMBRANE-PACKER::GA-MEMBRANE>\n",
       " #<MEMBRANE-PACKER::GA-MEMBRANE> #<MEMBRANE-PACKER::GA-MEMBRANE>)"
      ]
     },
     "execution_count": 30,
     "metadata": {},
     "output_type": "execute_result"
    }
   ],
   "source": [
    "membranes = (membrane-packer::build-population memb :population-size 10)"
   ]
  },
  {
   "cell_type": "code",
   "execution_count": 31,
   "metadata": {},
   "outputs": [
    {
     "data": {
      "text/plain": [
       "#<MEMBRANE-PACKER::GA-MEMBRANE>"
      ]
     },
     "execution_count": 31,
     "metadata": {},
     "output_type": "execute_result"
    }
   ],
   "source": [
    "memb0 = (first membranes)"
   ]
  },
  {
   "cell_type": "code",
   "execution_count": 32,
   "metadata": {},
   "outputs": [
    {
     "data": {
      "text/plain": [
       "#<MEMBRANE-PACKER::GA-MEMBRANE>"
      ]
     },
     "execution_count": 32,
     "metadata": {},
     "output_type": "execute_result"
    }
   ],
   "source": [
    "memb1 = (second membranes)"
   ]
  },
  {
   "cell_type": "markdown",
   "metadata": {},
   "source": [
    "Calculate the number of atomic collisions between lipids and between lipid and protein."
   ]
  },
  {
   "cell_type": "code",
   "execution_count": 33,
   "metadata": {},
   "outputs": [
    {
     "data": {
      "text/plain": [
       "4484"
      ]
     },
     "execution_count": 33,
     "metadata": {},
     "output_type": "execute_result"
    }
   ],
   "source": [
    "(membrane-packer::score-ga-membrane memb0)"
   ]
  },
  {
   "cell_type": "code",
   "execution_count": 34,
   "metadata": {},
   "outputs": [
    {
     "data": {
      "text/plain": [
       "4566"
      ]
     },
     "execution_count": 34,
     "metadata": {},
     "output_type": "execute_result"
    }
   ],
   "source": [
    "(membrane-packer::score-ga-membrane memb1)"
   ]
  },
  {
   "cell_type": "markdown",
   "metadata": {},
   "source": [
    "The the two membrands and find a strip in each of them that contain the same number of lipids and then swap the strips to create a child membrane that combines the two strips."
   ]
  },
  {
   "cell_type": "code",
   "execution_count": 35,
   "metadata": {},
   "outputs": [
    {
     "data": {
      "text/plain": [
       "#<MEMBRANE-PACKER::GA-MEMBRANE>"
      ]
     },
     "execution_count": 35,
     "metadata": {},
     "output_type": "execute_result"
    }
   ],
   "source": [
    "memb-cross = (membrane-packer::cross-two-membranes memb0 memb1)"
   ]
  },
  {
   "cell_type": "code",
   "execution_count": 36,
   "metadata": {},
   "outputs": [
    {
     "data": {
      "text/plain": [
       "4840"
      ]
     },
     "execution_count": 36,
     "metadata": {},
     "output_type": "execute_result"
    }
   ],
   "source": [
    "(membrane-packer::score-ga-membrane memb-cross)"
   ]
  },
  {
   "cell_type": "code",
   "execution_count": 37,
   "metadata": {},
   "outputs": [
    {
     "data": {
      "text/plain": [
       "#<AGGREGATE NIL 0>"
      ]
     },
     "execution_count": 37,
     "metadata": {},
     "output_type": "execute_result"
    }
   ],
   "source": [
    "agg-cross = (membrane-packer::build-aggregate-from-ga-membrane memb-cross)"
   ]
  },
  {
   "cell_type": "code",
   "execution_count": 38,
   "metadata": {},
   "outputs": [
    {
     "data": {
      "application/vnd.jupyter.widget-view+json": {
       "model_id": "D8BE5277-6AE3-4276-AB11-925AA177FAC5",
       "version_major": 2,
       "version_minor": 0
      },
      "text/plain": [
       "#<NGLV:NGLWIDGET>"
      ]
     },
     "execution_count": 38,
     "metadata": {},
     "output_type": "execute_result"
    }
   ],
   "source": [
    "show agg-cross"
   ]
  },
  {
   "cell_type": "markdown",
   "metadata": {},
   "source": [
    "## This is the main way of building membranes. \n",
    "1. It constructs a template membrane\n",
    "2. Then it optimizes the positions of the lipids using spheres.\n",
    "3. Then it builds a population of the membranes.\n",
    "4. Then a population of them is built.\n",
    "5. Finally it applies a genetic algorithm to optimize towards a membrane with no collisions between atoms."
   ]
  },
  {
   "cell_type": "markdown",
   "metadata": {},
   "source": [
    "What you are going to see is that the least number of collisions list will converge on about 350 and not go down from there.  Even if you run out the number of generations to 1000 - it won't get better than about 350.\n",
    "\n",
    "... least collisions -> (378 387 388 391 398 401 402 410 412 412)"
   ]
  },
  {
   "cell_type": "code",
   "execution_count": null,
   "metadata": {},
   "outputs": [],
   "source": [
    "scored-membranes = (membrane-packer:pack prot :parallel t :number-of-generations 20)"
   ]
  },
  {
   "cell_type": "markdown",
   "metadata": {},
   "source": [
    "The first member of the list of membranes has the fewest collisions."
   ]
  },
  {
   "cell_type": "code",
   "execution_count": null,
   "metadata": {},
   "outputs": [],
   "source": [
    "best-memb = (membrane-packer::membrane (first scored-membranes))"
   ]
  },
  {
   "cell_type": "code",
   "execution_count": null,
   "metadata": {},
   "outputs": [],
   "source": [
    "agg-av = (multiple-value-list (membrane-packer::build-aggregate-from-ga-membrane best-memb))"
   ]
  },
  {
   "cell_type": "code",
   "execution_count": null,
   "metadata": {},
   "outputs": [],
   "source": [
    "membagg = (membrane-packer::build-aggregate-from-ga-membrane best-memb)"
   ]
  },
  {
   "cell_type": "code",
   "execution_count": null,
   "metadata": {},
   "outputs": [],
   "source": [
    "show membagg"
   ]
  },
  {
   "cell_type": "code",
   "execution_count": null,
   "metadata": {},
   "outputs": [],
   "source": [
    "av = (second agg-av)"
   ]
  },
  {
   "cell_type": "code",
   "execution_count": null,
   "metadata": {},
   "outputs": [],
   "source": [
    "v = (show membagg)"
   ]
  },
  {
   "cell_type": "code",
   "execution_count": null,
   "metadata": {},
   "outputs": [],
   "source": [
    "(defparameter close-contacts (membrane-packer::close-contacts av))"
   ]
  },
  {
   "cell_type": "code",
   "execution_count": null,
   "metadata": {},
   "outputs": [],
   "source": [
    "(membrane-packer:add-close-contacts-as-shape v close-contacts :radius 2.0)"
   ]
  },
  {
   "cell_type": "markdown",
   "metadata": {},
   "source": [
    "-----------"
   ]
  },
  {
   "cell_type": "markdown",
   "metadata": {},
   "source": [
    "# Everything below here is bits and pieces of useful stuff but it doesn't evaluate straight through."
   ]
  },
  {
   "cell_type": "code",
   "execution_count": null,
   "metadata": {},
   "outputs": [],
   "source": [
    "av = (second agg-av)"
   ]
  },
  {
   "cell_type": "code",
   "execution_count": null,
   "metadata": {},
   "outputs": [],
   "source": []
  },
  {
   "cell_type": "code",
   "execution_count": null,
   "metadata": {},
   "outputs": [],
   "source": [
    "(defparameter *rbmin* (membrane-packer::build-rigid-body-minimizer memb :debug t))"
   ]
  },
  {
   "cell_type": "code",
   "execution_count": null,
   "metadata": {},
   "outputs": [],
   "source": [
    "*rbmin*"
   ]
  },
  {
   "cell_type": "code",
   "execution_count": null,
   "metadata": {},
   "outputs": [],
   "source": [
    "(defparameter *rbdynamics* (membrane-packer::build-rigid-body-dynamics |memb| :debug t))"
   ]
  },
  {
   "cell_type": "code",
   "execution_count": null,
   "metadata": {},
   "outputs": [],
   "source": [
    "(defparameter *shapes* (membrane-packer::rigid-body-dynamics-axes-as-shape-using-nonbond-code *rbdynamics*))"
   ]
  },
  {
   "cell_type": "code",
   "execution_count": null,
   "metadata": {},
   "outputs": [],
   "source": [
    "(show |membagg| :shapes (list :centers *shapes*))"
   ]
  },
  {
   "cell_type": "code",
   "execution_count": null,
   "metadata": {},
   "outputs": [],
   "source": [
    "*rbdynamics*"
   ]
  },
  {
   "cell_type": "code",
   "execution_count": null,
   "metadata": {},
   "outputs": [],
   "source": [
    "(apropos \"zero\")"
   ]
  },
  {
   "cell_type": "code",
   "execution_count": null,
   "metadata": {},
   "outputs": [],
   "source": [
    "(loop for index below (length (membrane-packer::force *rbdynamics*)) do (setf (elt (membrane-packer::force *rbdynamics*) index) 0.0))"
   ]
  },
  {
   "cell_type": "code",
   "execution_count": null,
   "metadata": {},
   "outputs": [],
   "source": [
    "(chem:evaluate-energy-force (membrane-packer::energy-function *rbdynamics*)\n",
    "                            (membrane-packer::coordinates *rbdynamics*)\n",
    "                            t\n",
    "                            (membrane-packer::force *rbdynamics*))"
   ]
  },
  {
   "cell_type": "code",
   "execution_count": null,
   "metadata": {},
   "outputs": [],
   "source": [
    "(membrane-packer::advance-rigid-body-dynamics *rbdynamics*)"
   ]
  },
  {
   "cell_type": "code",
   "execution_count": null,
   "metadata": {},
   "outputs": [],
   "source": [
    "(dotimes (i 30) (format t \"Step ~a~%\" i) (finish-output) (membrane-packer::advance-rigid-body-dynamics *rbdynamics*))"
   ]
  },
  {
   "cell_type": "code",
   "execution_count": null,
   "metadata": {},
   "outputs": [],
   "source": [
    "(defparameter *traj* (membrane-packer::trajectory *rbdynamics*))"
   ]
  },
  {
   "cell_type": "code",
   "execution_count": null,
   "metadata": {},
   "outputs": [],
   "source": [
    "(change-class *traj* 'cando-jupyter:cando-trajectory)"
   ]
  },
  {
   "cell_type": "code",
   "execution_count": null,
   "metadata": {},
   "outputs": [],
   "source": [
    "(defparameter *ss-traj* (nglv:get-structure-string *traj*))"
   ]
  },
  {
   "cell_type": "code",
   "execution_count": null,
   "metadata": {},
   "outputs": [],
   "source": [
    "(show *traj*)"
   ]
  },
  {
   "cell_type": "code",
   "execution_count": null,
   "metadata": {},
   "outputs": [],
   "source": [
    "(show (membrane-packer::trajectory *rbdynamics*))"
   ]
  },
  {
   "cell_type": "code",
   "execution_count": null,
   "metadata": {},
   "outputs": [],
   "source": [
    "(apropos \"rigid-body\")"
   ]
  },
  {
   "cell_type": "code",
   "execution_count": null,
   "metadata": {},
   "outputs": [],
   "source": [
    "(apropos \"write-nonbond-atom\")"
   ]
  },
  {
   "cell_type": "code",
   "execution_count": null,
   "metadata": {},
   "outputs": [],
   "source": [
    "(chem:rigid-body-energy-function-terms (car *efp*))"
   ]
  },
  {
   "cell_type": "code",
   "execution_count": null,
   "metadata": {},
   "outputs": [],
   "source": [
    "(defparameter *atoms* (make-array 1024 :adjustable t :fill-pointer 0))\n",
    "(chem:write-nonbond-atoms-to-complex-vector (first (chem:rigid-body-energy-function-terms (car *efp*))) *atoms*)\n",
    "nil"
   ]
  },
  {
   "cell_type": "code",
   "execution_count": null,
   "metadata": {},
   "outputs": [],
   "source": [
    "(defparameter *atom-coords* (make-array 1024 :adjustable t :fill-pointer 0))\n",
    "(defparameter *rb-coords* ())\n",
    "(chem:write-nonbond-atom-coordinates-to-complex-vector-float (first (chem:rigid-body-energy-function-terms (car *efp*))) *coords*)\n",
    "nil"
   ]
  },
  {
   "cell_type": "code",
   "execution_count": null,
   "metadata": {},
   "outputs": [],
   "source": [
    "show (sketch2d:sketch2d |lig4|)"
   ]
  },
  {
   "cell_type": "code",
   "execution_count": null,
   "metadata": {},
   "outputs": [],
   "source": [
    "assignAtomTypes prot"
   ]
  },
  {
   "cell_type": "code",
   "execution_count": null,
   "metadata": {},
   "outputs": [],
   "source": [
    "energy = (chem:make-energy-function |prot|)"
   ]
  },
  {
   "cell_type": "code",
   "execution_count": null,
   "metadata": {},
   "outputs": [],
   "source": [
    "desc PROT.0"
   ]
  },
  {
   "cell_type": "code",
   "execution_count": null,
   "metadata": {},
   "outputs": [],
   "source": [
    "PROT"
   ]
  },
  {
   "cell_type": "code",
   "execution_count": null,
   "metadata": {},
   "outputs": [],
   "source": [
    "*memb0*"
   ]
  },
  {
   "cell_type": "code",
   "execution_count": null,
   "metadata": {},
   "outputs": [],
   "source": [
    "(defparameter *agg-atomvecs* (multiple-value-list (membrane-packer::build-aggregate-from-ga-membrane *memb0* :debug t)))"
   ]
  },
  {
   "cell_type": "code",
   "execution_count": null,
   "metadata": {},
   "outputs": [],
   "source": [
    "*agg-atomvecs*"
   ]
  },
  {
   "cell_type": "code",
   "execution_count": null,
   "metadata": {},
   "outputs": [],
   "source": [
    "(defparameter *agg* (first *agg-atomvecs*))"
   ]
  },
  {
   "cell_type": "code",
   "execution_count": null,
   "metadata": {},
   "outputs": [],
   "source": [
    "(defparameter *atomvecs* (second *agg-atomvecs*))"
   ]
  },
  {
   "cell_type": "code",
   "execution_count": null,
   "metadata": {},
   "outputs": [],
   "source": [
    "agg = *AGG*"
   ]
  },
  {
   "cell_type": "code",
   "execution_count": null,
   "metadata": {},
   "outputs": [],
   "source": [
    "v = show *AGG*"
   ]
  },
  {
   "cell_type": "code",
   "execution_count": null,
   "metadata": {},
   "outputs": [],
   "source": [
    "assignAtomTypes memb"
   ]
  },
  {
   "cell_type": "code",
   "execution_count": null,
   "metadata": {},
   "outputs": [],
   "source": [
    "(defparameter *ef* (chem:make-energy-function *agg*))"
   ]
  },
  {
   "cell_type": "code",
   "execution_count": null,
   "metadata": {},
   "outputs": [],
   "source": [
    "(save-mol2 *agg* \"/tmp/agg.mol2\" :use-sybyl-types t)"
   ]
  },
  {
   "cell_type": "code",
   "execution_count": null,
   "metadata": {},
   "outputs": [],
   "source": [
    "(assign-atom-types *agg*)"
   ]
  },
  {
   "cell_type": "code",
   "execution_count": null,
   "metadata": {},
   "outputs": [],
   "source": [
    "(minimize *agg*)"
   ]
  },
  {
   "cell_type": "code",
   "execution_count": null,
   "metadata": {},
   "outputs": [],
   "source": [
    "saveAmberParm memb \"/tmp/agg.top\" \"/tmp/agg.crd\""
   ]
  },
  {
   "cell_type": "code",
   "execution_count": null,
   "metadata": {},
   "outputs": [],
   "source": [
    "(membrane-packer::build-rigid-body-energy-function *memb*)"
   ]
  },
  {
   "cell_type": "code",
   "execution_count": null,
   "metadata": {},
   "outputs": [],
   "source": [
    "(defparameter *efp* (multiple-value-list (membrane-packer::build-rigid-body-energy-function *memb*)))"
   ]
  },
  {
   "cell_type": "code",
   "execution_count": null,
   "metadata": {},
   "outputs": [],
   "source": [
    "(defparameter *ef* (first *efp*))"
   ]
  },
  {
   "cell_type": "code",
   "execution_count": null,
   "metadata": {},
   "outputs": [],
   "source": [
    "(defparameter *force* (make-array (chem:get-nvector-size *ef*) :element-type 'double-float))"
   ]
  },
  {
   "cell_type": "code",
   "execution_count": null,
   "metadata": {},
   "outputs": [],
   "source": [
    "(defparameter *pos* (second *efp*))"
   ]
  },
  {
   "cell_type": "code",
   "execution_count": null,
   "metadata": {},
   "outputs": [],
   "source": [
    "(chem:evaluate-energy-force *ef* *pos* t *force*)"
   ]
  },
  {
   "cell_type": "code",
   "execution_count": null,
   "metadata": {},
   "outputs": [],
   "source": [
    "(apply 'chem:evaluate-energy *efp*)"
   ]
  },
  {
   "cell_type": "code",
   "execution_count": null,
   "metadata": {},
   "outputs": [],
   "source": [
    "(defparameter *dyn* (membrane-packer::simulate-membrane |memb| 5))"
   ]
  },
  {
   "cell_type": "code",
   "execution_count": null,
   "metadata": {},
   "outputs": [],
   "source": [
    "v = show *DYN*"
   ]
  },
  {
   "cell_type": "code",
   "execution_count": null,
   "metadata": {},
   "outputs": [],
   "source": [
    "(nglv:add-representation |v| \"ball+stick\" :selection \"protein\")"
   ]
  },
  {
   "cell_type": "code",
   "execution_count": null,
   "metadata": {},
   "outputs": [],
   "source": [
    "(apropos \"rigid\")"
   ]
  },
  {
   "cell_type": "code",
   "execution_count": null,
   "metadata": {},
   "outputs": [],
   "source": [
    "(save-mol2 *agg* \"/tmp/agg.mol2\" :use-sybyl-types t)"
   ]
  },
  {
   "cell_type": "code",
   "execution_count": null,
   "metadata": {},
   "outputs": [],
   "source": [
    "(defparameter *close-contacts* (membrane-packer::close-contacts *atomvecs*))"
   ]
  },
  {
   "cell_type": "code",
   "execution_count": null,
   "metadata": {},
   "outputs": [],
   "source": [
    "(membrane-packer:add-close-contacts-as-shape |v| *close-contacts* :radius 2.0)"
   ]
  },
  {
   "cell_type": "code",
   "execution_count": null,
   "metadata": {},
   "outputs": [],
   "source": [
    "(defparameter *work-list* (membrane-packer::build-ga-membrane-work-list *memb*))"
   ]
  },
  {
   "cell_type": "code",
   "execution_count": null,
   "metadata": {},
   "outputs": [],
   "source": [
    "(defparameter *wlscore* (multiple-value-list (membrane-packer::score-work-list *work-list* *memb*)))"
   ]
  },
  {
   "cell_type": "code",
   "execution_count": null,
   "metadata": {},
   "outputs": [],
   "source": [
    "*wlscore*"
   ]
  },
  {
   "cell_type": "code",
   "execution_count": null,
   "metadata": {},
   "outputs": [],
   "source": [
    "(defparameter *score* (multiple-value-list (membrane-packer:score-ga-membrane *memb*)))"
   ]
  },
  {
   "cell_type": "code",
   "execution_count": null,
   "metadata": {},
   "outputs": [],
   "source": [
    "*score*"
   ]
  },
  {
   "cell_type": "code",
   "execution_count": null,
   "metadata": {},
   "outputs": [],
   "source": [
    "(defparameter *collisions* (second *score*))"
   ]
  },
  {
   "cell_type": "code",
   "execution_count": null,
   "metadata": {},
   "outputs": [],
   "source": [
    "(membrane-packer:add-collisions-as-shape |v| *collisions* :radius 2.1)"
   ]
  },
  {
   "cell_type": "markdown",
   "metadata": {},
   "source": [
    "# Test GA"
   ]
  },
  {
   "cell_type": "code",
   "execution_count": null,
   "metadata": {},
   "outputs": [],
   "source": [
    "memb1 = (membrane-packer:build-ga-membrane prot)"
   ]
  },
  {
   "cell_type": "code",
   "execution_count": null,
   "metadata": {},
   "outputs": [],
   "source": [
    "membs = (membrane-packer::build-population memb1)"
   ]
  },
  {
   "cell_type": "code",
   "execution_count": null,
   "metadata": {},
   "outputs": [],
   "source": [
    "(chem:get-bounding-box-widths (membrane-packer::bounding-box memb1))"
   ]
  },
  {
   "cell_type": "code",
   "execution_count": null,
   "metadata": {},
   "outputs": [],
   "source": [
    "(membrane-packer::cross-membranes (elt membs 0) (elt membs 1))"
   ]
  },
  {
   "cell_type": "code",
   "execution_count": null,
   "metadata": {},
   "outputs": [],
   "source": [
    "(membrane-packer::score-ga-membrane (elt membs 0))"
   ]
  },
  {
   "cell_type": "code",
   "execution_count": null,
   "metadata": {},
   "outputs": [],
   "source": [
    "(membrane-packer::score-ga-membrane (elt membs 1))"
   ]
  },
  {
   "cell_type": "code",
   "execution_count": null,
   "metadata": {},
   "outputs": [],
   "source": [
    "(membrane-packer::score-ga-membrane (membrane-packer::cross-membranes (elt membs 0) (elt membs 1)))"
   ]
  },
  {
   "cell_type": "code",
   "execution_count": null,
   "metadata": {},
   "outputs": [],
   "source": [
    "agg = (membrane-packer::build-aggregate-from-ga-membrane one-membrane :debug t)"
   ]
  },
  {
   "cell_type": "code",
   "execution_count": null,
   "metadata": {},
   "outputs": [],
   "source": [
    "(show agg :shapes (list :close (membrane-packer::overlapping-octrees-as-shape one-membrane 40)))"
   ]
  },
  {
   "cell_type": "code",
   "execution_count": null,
   "metadata": {},
   "outputs": [],
   "source": [
    "(membrane-packer::score-ga-membrane one-membrane)"
   ]
  },
  {
   "cell_type": "code",
   "execution_count": null,
   "metadata": {},
   "outputs": [],
   "source": [
    "(defparameter *wl* (membrane-packer::build-ga-membrane-work-list *tm*))"
   ]
  },
  {
   "cell_type": "code",
   "execution_count": null,
   "metadata": {},
   "outputs": [],
   "source": [
    "(defparameter *membranes* (membrane-packer::build-population *tm*))"
   ]
  },
  {
   "cell_type": "code",
   "execution_count": null,
   "metadata": {},
   "outputs": [],
   "source": [
    "(defparameter *sorted-scored-pop* (membrane-packer::score-membranes *wl* *membranes*))"
   ]
  },
  {
   "cell_type": "code",
   "execution_count": null,
   "metadata": {},
   "outputs": [],
   "source": [
    "(defparameter *scored-membranes* (membrane-packer:pack *prot* :parallel t :number-of-generations 40))"
   ]
  },
  {
   "cell_type": "code",
   "execution_count": null,
   "metadata": {},
   "outputs": [],
   "source": [
    "(defparameter *scored-membrane* (first *scored-membranes*))"
   ]
  },
  {
   "cell_type": "code",
   "execution_count": null,
   "metadata": {},
   "outputs": [],
   "source": [
    "*scored-membrane*"
   ]
  },
  {
   "cell_type": "code",
   "execution_count": null,
   "metadata": {},
   "outputs": [],
   "source": [
    "(defparameter *memb0* (membrane-packer::membrane *scored-membrane*))"
   ]
  },
  {
   "cell_type": "code",
   "execution_count": null,
   "metadata": {},
   "outputs": [],
   "source": [
    "*memb0*"
   ]
  },
  {
   "cell_type": "code",
   "execution_count": null,
   "metadata": {},
   "outputs": [],
   "source": [
    "(membrane-packer::evolve2 *memb0* :close-distance 2.0)"
   ]
  },
  {
   "cell_type": "code",
   "execution_count": null,
   "metadata": {},
   "outputs": [],
   "source": [
    "(defparameter *collision0* (membrane-packer::collisions *scored-membrane*))"
   ]
  },
  {
   "cell_type": "code",
   "execution_count": null,
   "metadata": {},
   "outputs": [],
   "source": [
    "*collision0*"
   ]
  },
  {
   "cell_type": "code",
   "execution_count": null,
   "metadata": {},
   "outputs": [],
   "source": [
    "(defparameter *agg-atomvecs* (multiple-value-list (membrane-packer::build-aggregate-from-ga-membrane *memb0* :debug t)))"
   ]
  },
  {
   "cell_type": "code",
   "execution_count": null,
   "metadata": {},
   "outputs": [],
   "source": [
    "*agg-atomvecs*"
   ]
  },
  {
   "cell_type": "code",
   "execution_count": null,
   "metadata": {},
   "outputs": [],
   "source": [
    "(defparameter *agg* (first *agg-atomvecs*))"
   ]
  },
  {
   "cell_type": "code",
   "execution_count": null,
   "metadata": {},
   "outputs": [],
   "source": [
    "show *AGG*"
   ]
  },
  {
   "cell_type": "code",
   "execution_count": null,
   "metadata": {},
   "outputs": [],
   "source": [
    "(defparameter *atomvecs* (second *agg-atomvecs*))"
   ]
  },
  {
   "cell_type": "code",
   "execution_count": null,
   "metadata": {},
   "outputs": [],
   "source": [
    "(defparameter *v* (show *agg* :axes t)) *v*"
   ]
  },
  {
   "cell_type": "code",
   "execution_count": null,
   "metadata": {},
   "outputs": [],
   "source": [
    "(defparameter *close-contacts* (membrane-packer::close-contacts *atomvecs*))"
   ]
  },
  {
   "cell_type": "code",
   "execution_count": null,
   "metadata": {},
   "outputs": [],
   "source": [
    "(membrane-packer:add-close-contacts-as-shape *v* *close-contacts* :radius 2.0)"
   ]
  },
  {
   "cell_type": "code",
   "execution_count": null,
   "metadata": {},
   "outputs": [],
   "source": [
    "(defparameter *work-list* (membrane-packer::build-ga-membrane-work-list *memb0*))"
   ]
  },
  {
   "cell_type": "code",
   "execution_count": null,
   "metadata": {},
   "outputs": [],
   "source": [
    "(defparameter *wlscore* (multiple-value-list (membrane-packer::score-work-list *work-list* *memb0*)))"
   ]
  },
  {
   "cell_type": "code",
   "execution_count": null,
   "metadata": {},
   "outputs": [],
   "source": [
    "*wlscore*"
   ]
  },
  {
   "cell_type": "code",
   "execution_count": null,
   "metadata": {},
   "outputs": [],
   "source": [
    "(defparameter *score* (multiple-value-list (membrane-packer:score-ga-membrane *memb0*)))"
   ]
  },
  {
   "cell_type": "code",
   "execution_count": null,
   "metadata": {},
   "outputs": [],
   "source": [
    "*score*"
   ]
  },
  {
   "cell_type": "code",
   "execution_count": null,
   "metadata": {},
   "outputs": [],
   "source": [
    "(defparameter *collisions* (second *score*))"
   ]
  },
  {
   "cell_type": "code",
   "execution_count": null,
   "metadata": {},
   "outputs": [],
   "source": [
    "(membrane-packer:add-collisions-as-shape *v* *collisions* :radius 2.1)"
   ]
  },
  {
   "cell_type": "markdown",
   "metadata": {},
   "source": [
    "# Try optimizing a membrane"
   ]
  },
  {
   "cell_type": "code",
   "execution_count": null,
   "metadata": {},
   "outputs": [],
   "source": [
    "(defparameter *scored-membranes* (membrane-packer:pack *prot* :parallel t :number-of-generations 50))"
   ]
  },
  {
   "cell_type": "code",
   "execution_count": null,
   "metadata": {},
   "outputs": [],
   "source": [
    "(defparameter *memb0* (second (elt *scored-membranes* 0)))"
   ]
  },
  {
   "cell_type": "code",
   "execution_count": null,
   "metadata": {},
   "outputs": [],
   "source": [
    "(defparameter *agg0* (membrane-packer::build-aggregate-from-ga-membrane *memb0* :debug t))"
   ]
  },
  {
   "cell_type": "code",
   "execution_count": null,
   "metadata": {},
   "outputs": [],
   "source": [
    "(defparameter *v0* (show *agg0*)) *v0*"
   ]
  },
  {
   "cell_type": "code",
   "execution_count": null,
   "metadata": {},
   "outputs": [],
   "source": [
    "(defparameter *wl0* (membrane-packer::build-ga-membrane-work-list *memb0*))"
   ]
  },
  {
   "cell_type": "code",
   "execution_count": null,
   "metadata": {},
   "outputs": [],
   "source": [
    "(multiple-value-list (membrane-packer::score-work-list *wl0* *memb0*))"
   ]
  },
  {
   "cell_type": "code",
   "execution_count": null,
   "metadata": {},
   "outputs": [],
   "source": [
    "(defparameter *score0* (multiple-value-list (membrane-packer::score-work-list *wl0* *memb0*)))"
   ]
  },
  {
   "cell_type": "code",
   "execution_count": null,
   "metadata": {},
   "outputs": [],
   "source": [
    "(defparameter *collisions0* (second *score0*))"
   ]
  },
  {
   "cell_type": "code",
   "execution_count": null,
   "metadata": {},
   "outputs": [],
   "source": [
    "(membrane-packer:add-collisions-as-shape *v0* *collisions0* :radius 2.1)"
   ]
  },
  {
   "cell_type": "markdown",
   "metadata": {},
   "source": [
    "# Find two lipids that interact with yellow spheres (close contacts) but not magenta (collisions using octrees)"
   ]
  },
  {
   "cell_type": "code",
   "execution_count": null,
   "metadata": {},
   "outputs": [],
   "source": [
    "(defparameter *l1* (membrane-packer::find-ga-lipid *memb* 9))\n",
    "(defparameter *l2* (membrane-packer::find-ga-lipid *memb* 169))"
   ]
  },
  {
   "cell_type": "code",
   "execution_count": null,
   "metadata": {},
   "outputs": [],
   "source": [
    "(format t \"*l1* -> ~a .   *l2* -> ~a ~%\" *l1* *l2*)"
   ]
  },
  {
   "cell_type": "code",
   "execution_count": null,
   "metadata": {},
   "outputs": [],
   "source": [
    "(array-dimensions (membrane-packer::array *memb*))"
   ]
  },
  {
   "cell_type": "code",
   "execution_count": null,
   "metadata": {},
   "outputs": [],
   "source": [
    "(membrane-packer::array-indices *l1*)"
   ]
  },
  {
   "cell_type": "code",
   "execution_count": null,
   "metadata": {},
   "outputs": [],
   "source": [
    "(membrane-packer::array-indices *l2*)"
   ]
  },
  {
   "cell_type": "code",
   "execution_count": null,
   "metadata": {},
   "outputs": [],
   "source": [
    "(defparameter *range* (membrane-packer:find-collision-range *collisions* *l1* *l2*))"
   ]
  },
  {
   "cell_type": "code",
   "execution_count": null,
   "metadata": {},
   "outputs": [],
   "source": [
    "*range*"
   ]
  },
  {
   "cell_type": "code",
   "execution_count": null,
   "metadata": {},
   "outputs": [],
   "source": [
    "(defparameter *fa-atomvecs* (multiple-value-list (membrane-packer::focused-aggregate *memb* (list *l1* *l2*))))\n",
    "(defparameter *fa* (first *fa-atomvecs*))\n",
    "(defparameter *atomvecs* (second *fa-atomvecs*))"
   ]
  },
  {
   "cell_type": "code",
   "execution_count": null,
   "metadata": {},
   "outputs": [],
   "source": [
    "(defparameter *octree-shape* (membrane-packer::ga-lipid-octree-as-shape *l2*))"
   ]
  },
  {
   "cell_type": "code",
   "execution_count": null,
   "metadata": {},
   "outputs": [],
   "source": [
    "(defparameter *vfa* (show *fa* :shapes (list :octree *octree-shape*))) *vfa*"
   ]
  },
  {
   "cell_type": "code",
   "execution_count": null,
   "metadata": {},
   "outputs": [],
   "source": [
    "(defparameter *cc* (membrane-packer::close-contacts *atomvecs*))"
   ]
  },
  {
   "cell_type": "code",
   "execution_count": null,
   "metadata": {},
   "outputs": [],
   "source": [
    "(membrane-packer::add-close-contacts-as-shape *vfa* *cc* :radius 0.3)"
   ]
  },
  {
   "cell_type": "code",
   "execution_count": null,
   "metadata": {},
   "outputs": [],
   "source": [
    "(defparameter *fa-collisions* (membrane-packer::make-collisions))\n",
    "(let ((chem:*debug-octree* nil))\n",
    "     (membrane-packer::score-cell (membrane-packer::bounding-box *memb*) *l1* *l2* *fa-collisions*))"
   ]
  },
  {
   "cell_type": "code",
   "execution_count": null,
   "metadata": {},
   "outputs": [],
   "source": [
    "(membrane-packer::indices *fa-collisions*)"
   ]
  },
  {
   "cell_type": "code",
   "execution_count": null,
   "metadata": {},
   "outputs": [],
   "source": [
    "(membrane-packer:add-collisions-as-shape *vfa* *fa-collisions* :radius 0.31)"
   ]
  },
  {
   "cell_type": "markdown",
   "metadata": {},
   "source": [
    "## Set the atom names in l1 and l2"
   ]
  },
  {
   "cell_type": "code",
   "execution_count": null,
   "metadata": {},
   "outputs": [],
   "source": [
    "(defparameter *r1* :l9-pa) (defparameter *sr1* :pa) (defparameter *n1* :h3r)\n",
    "(defparameter *r2* :l169-pa) (defparameter *sr2* :pa) (defparameter *n2* :h2r)"
   ]
  },
  {
   "cell_type": "markdown",
   "metadata": {},
   "source": [
    "# Apply a bounding box transformation"
   ]
  },
  {
   "cell_type": "code",
   "execution_count": null,
   "metadata": {},
   "outputs": [],
   "source": [
    "(defparameter *bbox* (membrane-packer::bounding-box *memb*))\n",
    "(format t \"widths: ~,2f ~,2f ~,2f~%\" (chem:get-x-width *bbox*) (chem:get-y-width *bbox*) (chem:get-z-width *bbox*)))"
   ]
  },
  {
   "cell_type": "code",
   "execution_count": null,
   "metadata": {},
   "outputs": [],
   "source": [
    "(defparameter *tfa* (chem:matter-copy *fa*))\n",
    "(chem:apply-transform-to-atoms (mol *tfa* 0) (geom:make-m4-translate (geom:vec 0.0 (chem:get-y-width *bbox*) 0.0)))"
   ]
  },
  {
   "cell_type": "code",
   "execution_count": null,
   "metadata": {},
   "outputs": [],
   "source": [
    "(show *tfa* :shapes (list :octree *octree-shape*))"
   ]
  },
  {
   "cell_type": "code",
   "execution_count": null,
   "metadata": {},
   "outputs": [],
   "source": [
    "(defparameter *tfa-atom1* (chem:first-atom-with-name (chem:content-with-name (mol *tfa* 0) *r1*) *n1*))\n",
    "(defparameter *tfa-pos1* (chem:get-position *tfa-atom1*))\n",
    "(defparameter *tfa-atom2* (chem:first-atom-with-name (chem:content-with-name (mol *tfa* 1) *r2*) *n2*))\n",
    "(defparameter *tfa-pos2* (chem:get-position *tfa-atom2*))"
   ]
  },
  {
   "cell_type": "code",
   "execution_count": null,
   "metadata": {},
   "outputs": [],
   "source": [
    "(format t \"~a *tfa-pos1* -> ~a   ~a *tfa-pos2* -> ~a~%\" *tfa-atom1* *tfa-pos1* *tfa-atom2* *tfa-pos2*)"
   ]
  },
  {
   "cell_type": "code",
   "execution_count": null,
   "metadata": {},
   "outputs": [],
   "source": [
    "(let* ((diff (geom:v- *tfa-pos1* *tfa-pos2*))\n",
    "       (tdelta (geom:vlength diff))\n",
    "       (delta (sqrt (chem:bounding-box-distance-squared-between-two-points (membrane-packer::bounding-box *memb*) *tfa-pos1* *tfa-pos2*))))\n",
    "      (format t \"pos1 -> ~a  pos2 -> ~a  non-bbox delta -> ~,2f  bbox-delta -> ~,2f close-distance -> ~,2f~%\" *tfa-pos1* *tfa-pos2* tdelta delta membrane-packer::*close-distance*))"
   ]
  },
  {
   "cell_type": "markdown",
   "metadata": {},
   "source": [
    "# Check the positions with the untransformed system"
   ]
  },
  {
   "cell_type": "code",
   "execution_count": null,
   "metadata": {},
   "outputs": [],
   "source": [
    "(defparameter *fa-atom1* (chem:first-atom-with-name (chem:content-with-name (mol *fa* 0) *r1*) *n1*))\n",
    "(defparameter *fa-pos1* (chem:get-position *fa-atom1*))\n",
    "(defparameter *fa-atom2* (chem:first-atom-with-name (chem:content-with-name (mol *fa* 1) *r2*) *n2*))\n",
    "(defparameter *fa-pos2* (chem:get-position *fa-atom2*))"
   ]
  },
  {
   "cell_type": "code",
   "execution_count": null,
   "metadata": {},
   "outputs": [],
   "source": [
    "(format t \"~a *fa-pos1* -> ~a   ~a *fa-pos2* -> ~a~%\" *fa-atom1* *fa-pos1* *fa-atom2* *fa-pos2*)"
   ]
  },
  {
   "cell_type": "code",
   "execution_count": null,
   "metadata": {},
   "outputs": [],
   "source": [
    "(show *fa* :axes t :shapes (list :octree *octree-shape*))"
   ]
  },
  {
   "cell_type": "code",
   "execution_count": null,
   "metadata": {},
   "outputs": [],
   "source": [
    "(defparameter *memb-pos1* (membrane-packer::find-ga-lipid-position *l1* *sr1* *n1*))\n",
    "(defparameter *memb-pos2* (membrane-packer::find-ga-lipid-position *l2* *sr2* *n2*))"
   ]
  },
  {
   "cell_type": "code",
   "execution_count": null,
   "metadata": {},
   "outputs": [],
   "source": [
    "(format t \"*memb-pos1* -> ~a   *memb-pos2* -> ~a~%\" *memb-pos1* *memb-pos2*)"
   ]
  },
  {
   "cell_type": "code",
   "execution_count": null,
   "metadata": {},
   "outputs": [],
   "source": [
    "(let* ((diff (geom:v- *memb-pos1* *memb-pos2*))\n",
    "       (delta (sqrt (chem:bounding-box-distance-squared-between-two-points (membrane-packer::bounding-box *memb*) *fa-pos1* *fa-pos2*))))\n",
    "      (format t \"pos1 -> ~a  pos2 -> ~a  bbox delta -> ~,2f  close-distance -> ~,2f~%\" *fa-pos1* *fa-pos2* delta membrane-packer::*close-distance*))"
   ]
  },
  {
   "cell_type": "code",
   "execution_count": null,
   "metadata": {},
   "outputs": [],
   "source": [
    "(defparameter *octree-stack* (multiple-value-list (membrane-packer::find-ga-lipid-octree *l2* *sr2* *n2*)))\n",
    "*octree-stack*"
   ]
  },
  {
   "cell_type": "markdown",
   "metadata": {},
   "source": [
    "Get the position of the source atom"
   ]
  },
  {
   "cell_type": "code",
   "execution_count": null,
   "metadata": {},
   "outputs": [],
   "source": [
    "(defparameter *stack* (second *octree-stack*))\n",
    "*stack*"
   ]
  },
  {
   "cell_type": "code",
   "execution_count": null,
   "metadata": {},
   "outputs": [],
   "source": [
    "(membrane-packer::bounding-box *memb*)"
   ]
  },
  {
   "cell_type": "code",
   "execution_count": null,
   "metadata": {},
   "outputs": [],
   "source": [
    "*memb-pos1*"
   ]
  },
  {
   "cell_type": "code",
   "execution_count": null,
   "metadata": {},
   "outputs": [],
   "source": [
    "(defparameter *test-collisions* (membrane-packer::make-collisions))\n",
    "(let ((chem:*debug-octree* t))\n",
    "  (chem:generic-octree-get-points-within-cutoff (elt *stack* 0)\n",
    "                                                membrane-packer::*close-distance*\n",
    "                                                :dummy-value\n",
    "                                                *memb-pos1*\n",
    "                                                (membrane-packer::bounding-box *memb*)\n",
    "                                                (membrane-packer::indices *test-collisions*)))\n",
    "(membrane-packer::indices *test-collisions*)"
   ]
  },
  {
   "cell_type": "code",
   "execution_count": null,
   "metadata": {},
   "outputs": [],
   "source": [
    "*octree-stack*"
   ]
  },
  {
   "cell_type": "code",
   "execution_count": null,
   "metadata": {},
   "outputs": [],
   "source": [
    "(defparameter *scored-membranes* (membrane-packer:pack *prot*))"
   ]
  },
  {
   "cell_type": "code",
   "execution_count": null,
   "metadata": {},
   "outputs": [],
   "source": [
    "(defparameter *scored-membrane* (elt *scored-membranes* 0))"
   ]
  },
  {
   "cell_type": "code",
   "execution_count": null,
   "metadata": {},
   "outputs": [],
   "source": [
    "*scored-membrane*"
   ]
  },
  {
   "cell_type": "code",
   "execution_count": null,
   "metadata": {},
   "outputs": [],
   "source": [
    "(defparameter *agg* (membrane-packer:build-aggregate-from-ga-membrane (second *scored-membrane*)))"
   ]
  },
  {
   "cell_type": "code",
   "execution_count": null,
   "metadata": {},
   "outputs": [],
   "source": [
    "(defparameter *v* (show *agg* :axes t)) *v*"
   ]
  },
  {
   "cell_type": "code",
   "execution_count": null,
   "metadata": {},
   "outputs": [],
   "source": [
    "(membrane-packer:add-collisions-as-shape *v* (third *scored-membrane*))"
   ]
  },
  {
   "cell_type": "code",
   "execution_count": null,
   "metadata": {},
   "outputs": [],
   "source": [
    "(defparameter *close-contacts* (membrane-packer::close-contacts *agg*))"
   ]
  },
  {
   "cell_type": "code",
   "execution_count": null,
   "metadata": {},
   "outputs": [],
   "source": [
    "(membrane-packer:add-close-contacts-as-shape *v* *close-contacts*)"
   ]
  },
  {
   "cell_type": "code",
   "execution_count": null,
   "metadata": {},
   "outputs": [],
   "source": [
    "(save-mol2 *agg* \"/tmp/zzbest.mol2\" :use-sybyl-types t)"
   ]
  },
  {
   "cell_type": "code",
   "execution_count": null,
   "metadata": {},
   "outputs": [],
   "source": [
    "(chem:geometric-center (solute (ga-solute *memb*)))"
   ]
  },
  {
   "cell_type": "code",
   "execution_count": null,
   "metadata": {},
   "outputs": [],
   "source": [
    "(defparameter *memb1* (copy-ga-membrane *memb*))"
   ]
  },
  {
   "cell_type": "code",
   "execution_count": null,
   "metadata": {},
   "outputs": [],
   "source": [
    "(start-swank 4010)"
   ]
  },
  {
   "cell_type": "code",
   "execution_count": null,
   "metadata": {},
   "outputs": [],
   "source": [
    "*default-pathname-defaults*"
   ]
  },
  {
   "cell_type": "code",
   "execution_count": null,
   "metadata": {},
   "outputs": [],
   "source": [
    "(setup-amber-paths)"
   ]
  },
  {
   "cell_type": "code",
   "execution_count": null,
   "metadata": {},
   "outputs": [],
   "source": [
    "source \"leaprc.protein.ff14SB\""
   ]
  },
  {
   "cell_type": "code",
   "execution_count": null,
   "metadata": {},
   "outputs": [],
   "source": [
    "source \"leaprc.lipid14\""
   ]
  },
  {
   "cell_type": "code",
   "execution_count": null,
   "metadata": {},
   "outputs": [],
   "source": [
    "source \"leaprc.water.tip3p\""
   ]
  },
  {
   "cell_type": "code",
   "execution_count": null,
   "metadata": {},
   "outputs": [],
   "source": [
    "source \"leaprc.gaff\""
   ]
  },
  {
   "cell_type": "code",
   "execution_count": null,
   "metadata": {},
   "outputs": [],
   "source": [
    "*popc*"
   ]
  },
  {
   "cell_type": "code",
   "execution_count": null,
   "metadata": {},
   "outputs": [],
   "source": [
    "(test-everything1)"
   ]
  },
  {
   "cell_type": "code",
   "execution_count": null,
   "metadata": {},
   "outputs": [],
   "source": [
    "(defparameter *dyn* (test-everything))"
   ]
  },
  {
   "cell_type": "code",
   "execution_count": null,
   "metadata": {},
   "outputs": [],
   "source": [
    "(show *dyn*)"
   ]
  },
  {
   "cell_type": "code",
   "execution_count": null,
   "metadata": {},
   "outputs": [],
   "source": [
    "(assign-atom-types *p*)"
   ]
  },
  {
   "cell_type": "code",
   "execution_count": null,
   "metadata": {},
   "outputs": [],
   "source": [
    "(do-molecules (mol *p*)\n",
    "    (do-residues (res mol)\n",
    "        (do-atoms (atm res)\n",
    "            (when (eq :N (chem:get-type atm))\n",
    "                (format t \"~a ~a ~a~%\" mol res atm)))))"
   ]
  },
  {
   "cell_type": "code",
   "execution_count": null,
   "metadata": {},
   "outputs": [],
   "source": [
    "(defparameter *empty* (build-empty-membrane))"
   ]
  },
  {
   "cell_type": "code",
   "execution_count": null,
   "metadata": {},
   "outputs": [],
   "source": [
    "(show *empty*)"
   ]
  },
  {
   "cell_type": "code",
   "execution_count": null,
   "metadata": {},
   "outputs": [],
   "source": [
    "(defparameter *ot* (chem:make-oct-tree *empty* :interior-solute 1.0 0.0 0.0 (chem:compute-merged-nonbond-force-field-for-aggregate *empty*) 0 t))"
   ]
  },
  {
   "cell_type": "code",
   "execution_count": null,
   "metadata": {},
   "outputs": [],
   "source": [
    "(show *agg*)"
   ]
  },
  {
   "cell_type": "code",
   "execution_count": null,
   "metadata": {},
   "outputs": [],
   "source": [
    "(multiple-value-list (chem:oct-tree-find-closest-atom *ot* (geom:vec 0 0 0)))"
   ]
  },
  {
   "cell_type": "code",
   "execution_count": null,
   "metadata": {},
   "outputs": [],
   "source": [
    "(chem:number-of-atoms *empty*)"
   ]
  },
  {
   "cell_type": "code",
   "execution_count": null,
   "metadata": {},
   "outputs": [],
   "source": [
    "(defparameter *dyn* (simulate-membrane *empty*))"
   ]
  },
  {
   "cell_type": "code",
   "execution_count": null,
   "metadata": {},
   "outputs": [],
   "source": [
    "(dynamics:velocity-verlet-step *dyn*)"
   ]
  },
  {
   "cell_type": "code",
   "execution_count": null,
   "metadata": {},
   "outputs": [],
   "source": [
    "(defparameter *memb* (load-pdb \"4s0v_popc_membrane_hid.pdb\"))"
   ]
  },
  {
   "cell_type": "code",
   "execution_count": null,
   "metadata": {},
   "outputs": [],
   "source": [
    "(defparameter *sm* (carve-membrane *memb* (lambda (cog) (< (geom:vx cog) -20))))"
   ]
  },
  {
   "cell_type": "code",
   "execution_count": null,
   "metadata": {},
   "outputs": [],
   "source": [
    "(cando:move-geometric-center-to-origin *sm*)"
   ]
  },
  {
   "cell_type": "code",
   "execution_count": null,
   "metadata": {},
   "outputs": [],
   "source": [
    "(leap.set-box:set-box *sm* :centers -2.0)"
   ]
  },
  {
   "cell_type": "code",
   "execution_count": null,
   "metadata": {},
   "outputs": [],
   "source": [
    "(show *sm* :axes t)"
   ]
  },
  {
   "cell_type": "code",
   "execution_count": null,
   "metadata": {},
   "outputs": [],
   "source": [
    "*memb*"
   ]
  },
  {
   "cell_type": "code",
   "execution_count": null,
   "metadata": {},
   "outputs": [],
   "source": [
    "(show *memb*)"
   ]
  },
  {
   "cell_type": "code",
   "execution_count": null,
   "metadata": {},
   "outputs": [],
   "source": [
    "(leap.set-box:set-box *memb* :centers 5.0)"
   ]
  },
  {
   "cell_type": "code",
   "execution_count": null,
   "metadata": {},
   "outputs": [],
   "source": [
    "(chem:get-x-width (chem:bounding-box *memb*))"
   ]
  },
  {
   "cell_type": "code",
   "execution_count": null,
   "metadata": {},
   "outputs": [],
   "source": [
    "(show *memb* :axes t)"
   ]
  },
  {
   "cell_type": "code",
   "execution_count": null,
   "metadata": {},
   "outputs": [],
   "source": [
    "(do-molecules (mol *memb*) \n",
    "    (when (< (chem:number-of-atoms mol) 200)\n",
    "        (chem:setf-molecule-type mol :lipid)))"
   ]
  },
  {
   "cell_type": "code",
   "execution_count": null,
   "metadata": {},
   "outputs": [],
   "source": [
    "(prepare-popc-lipids)"
   ]
  },
  {
   "cell_type": "code",
   "execution_count": null,
   "metadata": {},
   "outputs": [],
   "source": [
    "(defparameter *ppp* (load-cando \"source-dir:extensions;cando;src;data;poc.cando\"))"
   ]
  },
  {
   "cell_type": "code",
   "execution_count": null,
   "metadata": {},
   "outputs": [],
   "source": [
    "(defparameter *lipids* nil)\n",
    "(do-molecules (mol *memb*)\n",
    "    (when (eq (chem:molecule-type mol) :lipid)\n",
    "          (push mol *lipids*)))"
   ]
  },
  {
   "cell_type": "code",
   "execution_count": null,
   "metadata": {},
   "outputs": [],
   "source": [
    "(defparameter *cl* (canonicalize-lipids *lipids* '(:p31 :n31) '(:c116 :c118)))"
   ]
  },
  {
   "cell_type": "code",
   "execution_count": null,
   "metadata": {},
   "outputs": [],
   "source": []
  },
  {
   "cell_type": "code",
   "execution_count": null,
   "metadata": {},
   "outputs": [],
   "source": [
    "*cl*"
   ]
  },
  {
   "cell_type": "code",
   "execution_count": null,
   "metadata": {},
   "outputs": [],
   "source": [
    "(show (first *cl*) :axes t)"
   ]
  },
  {
   "cell_type": "code",
   "execution_count": null,
   "metadata": {},
   "outputs": [],
   "source": [
    "(defparameter *mp* (chem:make-aggregate))"
   ]
  },
  {
   "cell_type": "code",
   "execution_count": null,
   "metadata": {},
   "outputs": [],
   "source": [
    "(chem:add-molecule *mp* (mol *memb* 0))"
   ]
  },
  {
   "cell_type": "code",
   "execution_count": null,
   "metadata": {},
   "outputs": [],
   "source": []
  },
  {
   "cell_type": "code",
   "execution_count": null,
   "metadata": {},
   "outputs": [],
   "source": [
    "(chem:make-oct-tree (mol *memb* 0) :interior-solute "
   ]
  },
  {
   "cell_type": "code",
   "execution_count": null,
   "metadata": {},
   "outputs": [],
   "source": [
    "*v*"
   ]
  },
  {
   "cell_type": "code",
   "execution_count": null,
   "metadata": {},
   "outputs": [],
   "source": [
    "(defparameter *v* (show (apply #'combine *cl*)))"
   ]
  },
  {
   "cell_type": "code",
   "execution_count": null,
   "metadata": {},
   "outputs": [],
   "source": [
    "(apropos \"oct-tree\")"
   ]
  },
  {
   "cell_type": "code",
   "execution_count": null,
   "metadata": {},
   "outputs": [],
   "source": []
  },
  {
   "cell_type": "code",
   "execution_count": null,
   "metadata": {},
   "outputs": [],
   "source": [
    "*v*"
   ]
  },
  {
   "cell_type": "code",
   "execution_count": null,
   "metadata": {},
   "outputs": [],
   "source": [
    "(nglv:add-axes *v*)"
   ]
  },
  {
   "cell_type": "code",
   "execution_count": null,
   "metadata": {},
   "outputs": [],
   "source": [
    "(do-molecules (mol *memb*) (when (= (chem:number-of-atoms mol) 134) (push mol *lipids*)))"
   ]
  },
  {
   "cell_type": "code",
   "execution_count": null,
   "metadata": {},
   "outputs": [],
   "source": [
    "(save-cando *poc* \"source-dir:extensions;cando;src;data;poc.cando\")"
   ]
  },
  {
   "cell_type": "code",
   "execution_count": null,
   "metadata": {},
   "outputs": [],
   "source": [
    "(show (first *lipids*))"
   ]
  },
  {
   "cell_type": "code",
   "execution_count": null,
   "metadata": {},
   "outputs": [],
   "source": [
    "(defparameter *merck* (chem:moe-read-aggregate (namestring (merge-pathnames \"merck_suvorexant_derivatives.moe\"))))"
   ]
  },
  {
   "cell_type": "code",
   "execution_count": null,
   "metadata": {},
   "outputs": [],
   "source": [
    "(chem:setf-force-field-name (mol *merck* 0) :default)"
   ]
  },
  {
   "cell_type": "code",
   "execution_count": null,
   "metadata": {},
   "outputs": [],
   "source": [
    "(chem:setf-force-field-name (mol *merck* 1) :default)"
   ]
  },
  {
   "cell_type": "code",
   "execution_count": null,
   "metadata": {},
   "outputs": [],
   "source": [
    "(assign-atom-types)"
   ]
  },
  {
   "cell_type": "code",
   "execution_count": null,
   "metadata": {},
   "outputs": [],
   "source": [
    "(show *merck* :axes t)"
   ]
  },
  {
   "cell_type": "code",
   "execution_count": null,
   "metadata": {},
   "outputs": [],
   "source": [
    "(defparameter *v* (show *merck*))"
   ]
  },
  {
   "cell_type": "code",
   "execution_count": null,
   "metadata": {},
   "outputs": [],
   "source": [
    "*v*"
   ]
  },
  {
   "cell_type": "code",
   "execution_count": null,
   "metadata": {},
   "outputs": [],
   "source": [
    "(nglv::add-axes *v*)"
   ]
  },
  {
   "cell_type": "code",
   "execution_count": null,
   "metadata": {},
   "outputs": [],
   "source": [
    "(defparameter *cc* (chem:geometric-center *merck*))"
   ]
  },
  {
   "cell_type": "code",
   "execution_count": null,
   "metadata": {},
   "outputs": [],
   "source": [
    "(chem:apply-transform-to-atoms *merck* (geom:make-m4-translate (geom:v* *cc* -1.0)))"
   ]
  },
  {
   "cell_type": "code",
   "execution_count": null,
   "metadata": {},
   "outputs": [],
   "source": [
    "(defparameter *v* (show *merck*))"
   ]
  },
  {
   "cell_type": "code",
   "execution_count": null,
   "metadata": {},
   "outputs": [],
   "source": [
    "*v*"
   ]
  },
  {
   "cell_type": "code",
   "execution_count": null,
   "metadata": {},
   "outputs": [],
   "source": [
    "(show (mol *merck* 6))"
   ]
  },
  {
   "cell_type": "code",
   "execution_count": null,
   "metadata": {},
   "outputs": [],
   "source": [
    "(defparameter *mols* (chem:map-molecules 'list #'identity *merck*))"
   ]
  },
  {
   "cell_type": "code",
   "execution_count": null,
   "metadata": {},
   "outputs": [],
   "source": [
    "(defparameter *ligands* (subseq *mols* 2 (length *mols*)))"
   ]
  },
  {
   "cell_type": "code",
   "execution_count": null,
   "metadata": {},
   "outputs": [],
   "source": [
    "(load (compile-file \"~/Development/D3R-GC4/cando/tools.lisp\"))"
   ]
  },
  {
   "cell_type": "code",
   "execution_count": null,
   "metadata": {},
   "outputs": [],
   "source": [
    "(show (sketch2d:sketch2d (first *ligands*)))"
   ]
  },
  {
   "cell_type": "code",
   "execution_count": null,
   "metadata": {},
   "outputs": [],
   "source": [
    "(show (sketch2d:sketch2d (second *ligands*)))"
   ]
  },
  {
   "cell_type": "code",
   "execution_count": null,
   "metadata": {},
   "outputs": [],
   "source": [
    "(show (sketch2d:sketch2d (third *ligands*)))"
   ]
  },
  {
   "cell_type": "code",
   "execution_count": null,
   "metadata": {},
   "outputs": [],
   "source": [
    "(show (sketch2d:sketch2d (fourth *ligands*)))"
   ]
  },
  {
   "cell_type": "code",
   "execution_count": null,
   "metadata": {},
   "outputs": [],
   "source": [
    "(show (sketch2d:sketch2d (fifth *ligands*)))"
   ]
  },
  {
   "cell_type": "code",
   "execution_count": null,
   "metadata": {},
   "outputs": [],
   "source": [
    "(show (sketch2d:sketch2d (sixth *ligands*)))"
   ]
  },
  {
   "cell_type": "code",
   "execution_count": null,
   "metadata": {},
   "outputs": [],
   "source": [
    "(length *ligands*)"
   ]
  },
  {
   "cell_type": "code",
   "execution_count": null,
   "metadata": {},
   "outputs": [],
   "source": [
    "(defparameter *c* (match-all-molecules *ligands*))"
   ]
  },
  {
   "cell_type": "code",
   "execution_count": null,
   "metadata": {},
   "outputs": [],
   "source": [
    "(dolist (m *ligands*) (chem:remove-molecule *merck* m))"
   ]
  },
  {
   "cell_type": "code",
   "execution_count": null,
   "metadata": {},
   "outputs": [],
   "source": [
    "(show *merck*)"
   ]
  },
  {
   "cell_type": "code",
   "execution_count": null,
   "metadata": {},
   "outputs": [],
   "source": [
    "(defparameter *merck0* (combine *merck* (first *ligands*)))"
   ]
  },
  {
   "cell_type": "code",
   "execution_count": null,
   "metadata": {},
   "outputs": [],
   "source": [
    "(show *merck0*)"
   ]
  },
  {
   "cell_type": "code",
   "execution_count": null,
   "metadata": {},
   "outputs": [],
   "source": [
    "(print PA)"
   ]
  },
  {
   "cell_type": "code",
   "execution_count": null,
   "metadata": {},
   "outputs": [],
   "source": [
    "(defparameter *p* (sequence PC PC))"
   ]
  },
  {
   "cell_type": "code",
   "execution_count": null,
   "metadata": {},
   "outputs": [],
   "source": [
    "a = sequence { PC PC}"
   ]
  },
  {
   "cell_type": "code",
   "execution_count": null,
   "metadata": {},
   "outputs": [],
   "source": [
    "help"
   ]
  },
  {
   "cell_type": "code",
   "execution_count": null,
   "metadata": {},
   "outputs": [],
   "source": [
    "desc PC"
   ]
  },
  {
   "cell_type": "code",
   "execution_count": null,
   "metadata": {},
   "outputs": [],
   "source": []
  }
 ],
 "metadata": {
  "kernelspec": {
   "display_name": "cando",
   "language": "lisp",
   "name": "cando"
  },
  "language_info": {
   "codemirror_mode": "text/x-common-lisp",
   "file_extension": ".lisp",
   "mimetype": "text/x-common-lisp",
   "name": "common-lisp",
   "pygments_lexer": "common-lisp",
   "version": "X3J13"
  }
 },
 "nbformat": 4,
 "nbformat_minor": 2
}
